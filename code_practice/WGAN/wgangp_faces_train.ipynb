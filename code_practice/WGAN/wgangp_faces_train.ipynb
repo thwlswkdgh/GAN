{
  "cells": [
    {
      "cell_type": "markdown",
      "metadata": {
        "id": "view-in-github",
        "colab_type": "text"
      },
      "source": [
        "<a href=\"https://colab.research.google.com/github/thwlswkdgh/GAN/blob/main/code_practice/WGAN/wgangp_faces_train.ipynb\" target=\"_parent\"><img src=\"https://colab.research.google.com/assets/colab-badge.svg\" alt=\"Open In Colab\"/></a>"
      ]
    },
    {
      "cell_type": "markdown",
      "metadata": {
        "id": "k4WxQG3xkXgI"
      },
      "source": [
        "# WGAN-GP Training"
      ]
    },
    {
      "cell_type": "markdown",
      "metadata": {
        "id": "bmEUMmm9kXgR"
      },
      "source": [
        "## imports"
      ]
    },
    {
      "cell_type": "code",
      "source": [
        "from google.colab import drive\n",
        "drive.mount('/content/gdrive',force_remount=True)\n",
        "import sys\n",
        "sys.path.append('/content/gdrive/My Drive/Colab Notebooks/Generative GAN/')"
      ],
      "metadata": {
        "colab": {
          "base_uri": "https://localhost:8080/"
        },
        "id": "NXR-uj3Nkc1s",
        "outputId": "b5d7ce02-3236-4d6c-a274-457375f957fe"
      },
      "execution_count": 2,
      "outputs": [
        {
          "output_type": "stream",
          "name": "stdout",
          "text": [
            "Mounted at /content/gdrive\n"
          ]
        }
      ]
    },
    {
      "cell_type": "code",
      "execution_count": 3,
      "metadata": {
        "id": "xGyXCblPkXgT"
      },
      "outputs": [],
      "source": [
        "%matplotlib inline\n",
        "\n",
        "import os\n",
        "import matplotlib.pyplot as plt\n",
        "\n",
        "from models.WGANGP import WGANGP\n",
        "from models.loaders import load_celeb\n",
        "\n",
        "import pickle\n"
      ]
    },
    {
      "cell_type": "code",
      "execution_count": 4,
      "metadata": {
        "id": "0bfPdr_5kXgX"
      },
      "outputs": [],
      "source": [
        "# run params\n",
        "SECTION = 'gan'\n",
        "RUN_ID = '0003'\n",
        "DATA_NAME = 'celeb'\n",
        "RUN_FOLDER = '/content/gdrive/My Drive/Colab Notebooks/Generative GAN/run/{}/'.format(SECTION)\n",
        "RUN_FOLDER += '_'.join([RUN_ID, DATA_NAME])\n",
        "\n",
        "if not os.path.exists(RUN_FOLDER):\n",
        "    os.mkdir(RUN_FOLDER)\n",
        "    os.mkdir(os.path.join(RUN_FOLDER, 'viz'))\n",
        "    os.mkdir(os.path.join(RUN_FOLDER, 'images'))\n",
        "    os.mkdir(os.path.join(RUN_FOLDER, 'weights'))\n",
        "\n",
        "mode =  'build' #'load' #"
      ]
    },
    {
      "cell_type": "markdown",
      "metadata": {
        "id": "WyRfZkiQkXgZ"
      },
      "source": [
        "## data"
      ]
    },
    {
      "cell_type": "code",
      "execution_count": 5,
      "metadata": {
        "id": "epwJ0Ra8kXga"
      },
      "outputs": [],
      "source": [
        "BATCH_SIZE = 64\n",
        "IMAGE_SIZE = 64"
      ]
    },
    {
      "cell_type": "code",
      "source": [
        "DATA_NAME = 'celeb'"
      ],
      "metadata": {
        "id": "Y_RnDz7MHOeQ"
      },
      "execution_count": 6,
      "outputs": []
    },
    {
      "cell_type": "code",
      "execution_count": 7,
      "metadata": {
        "colab": {
          "base_uri": "https://localhost:8080/"
        },
        "id": "HvmQKfa-kXgb",
        "outputId": "4c42adf0-1257-4a53-911f-620f763199dd"
      },
      "outputs": [
        {
          "output_type": "stream",
          "name": "stdout",
          "text": [
            "Found 0 images belonging to 0 classes.\n"
          ]
        }
      ],
      "source": [
        "x_train = load_celeb(DATA_NAME, IMAGE_SIZE, BATCH_SIZE)"
      ]
    },
    {
      "cell_type": "code",
      "execution_count": null,
      "metadata": {
        "colab": {
          "base_uri": "https://localhost:8080/",
          "height": 303
        },
        "id": "qYpJG8j-kXgc",
        "outputId": "7dda4f1a-3fa2-4f67-f7c2-f49cbd4174f3"
      },
      "outputs": [
        {
          "output_type": "error",
          "ename": "ValueError",
          "evalue": "ignored",
          "traceback": [
            "\u001b[0;31m---------------------------------------------------------------------------\u001b[0m",
            "\u001b[0;31mValueError\u001b[0m                                Traceback (most recent call last)",
            "\u001b[0;32m<ipython-input-7-349a571c9de8>\u001b[0m in \u001b[0;36m<module>\u001b[0;34m()\u001b[0m\n\u001b[0;32m----> 1\u001b[0;31m \u001b[0mx_train\u001b[0m\u001b[0;34m[\u001b[0m\u001b[0;36m0\u001b[0m\u001b[0;34m]\u001b[0m\u001b[0;34m[\u001b[0m\u001b[0;36m0\u001b[0m\u001b[0;34m]\u001b[0m\u001b[0;34m[\u001b[0m\u001b[0;36m0\u001b[0m\u001b[0;34m]\u001b[0m\u001b[0;34m\u001b[0m\u001b[0;34m\u001b[0m\u001b[0m\n\u001b[0m",
            "\u001b[0;32m/usr/local/lib/python3.7/dist-packages/keras_preprocessing/image/iterator.py\u001b[0m in \u001b[0;36m__getitem__\u001b[0;34m(self, idx)\u001b[0m\n\u001b[1;32m     55\u001b[0m                              \u001b[0;34m'but the Sequence '\u001b[0m\u001b[0;34m\u001b[0m\u001b[0;34m\u001b[0m\u001b[0m\n\u001b[1;32m     56\u001b[0m                              'has length {length}'.format(idx=idx,\n\u001b[0;32m---> 57\u001b[0;31m                                                           length=len(self)))\n\u001b[0m\u001b[1;32m     58\u001b[0m         \u001b[0;32mif\u001b[0m \u001b[0mself\u001b[0m\u001b[0;34m.\u001b[0m\u001b[0mseed\u001b[0m \u001b[0;32mis\u001b[0m \u001b[0;32mnot\u001b[0m \u001b[0;32mNone\u001b[0m\u001b[0;34m:\u001b[0m\u001b[0;34m\u001b[0m\u001b[0;34m\u001b[0m\u001b[0m\n\u001b[1;32m     59\u001b[0m             \u001b[0mnp\u001b[0m\u001b[0;34m.\u001b[0m\u001b[0mrandom\u001b[0m\u001b[0;34m.\u001b[0m\u001b[0mseed\u001b[0m\u001b[0;34m(\u001b[0m\u001b[0mself\u001b[0m\u001b[0;34m.\u001b[0m\u001b[0mseed\u001b[0m \u001b[0;34m+\u001b[0m \u001b[0mself\u001b[0m\u001b[0;34m.\u001b[0m\u001b[0mtotal_batches_seen\u001b[0m\u001b[0;34m)\u001b[0m\u001b[0;34m\u001b[0m\u001b[0;34m\u001b[0m\u001b[0m\n",
            "\u001b[0;31mValueError\u001b[0m: Asked to retrieve element 0, but the Sequence has length 0"
          ]
        }
      ],
      "source": [
        "x_train[0][0][0]"
      ]
    },
    {
      "cell_type": "code",
      "execution_count": null,
      "metadata": {
        "id": "Icoxuii8kXge"
      },
      "outputs": [],
      "source": [
        "plt.imshow((x_train[0][0][0]+1)/2)"
      ]
    },
    {
      "cell_type": "markdown",
      "metadata": {
        "id": "g5aADgxikXgf"
      },
      "source": [
        "## architecture"
      ]
    },
    {
      "cell_type": "code",
      "execution_count": null,
      "metadata": {
        "id": "Hlb-3OjckXgg"
      },
      "outputs": [],
      "source": [
        "gan = WGANGP(input_dim = (IMAGE_SIZE,IMAGE_SIZE,3)\n",
        "        , critic_conv_filters = [64,128,256,512]\n",
        "        , critic_conv_kernel_size = [5,5,5,5]\n",
        "        , critic_conv_strides = [2,2,2,2]\n",
        "        , critic_batch_norm_momentum = None\n",
        "        , critic_activation = 'leaky_relu'\n",
        "        , critic_dropout_rate = None\n",
        "        , critic_learning_rate = 0.0002\n",
        "        , generator_initial_dense_layer_size = (4, 4, 512)\n",
        "        , generator_upsample = [1,1,1,1]\n",
        "        , generator_conv_filters = [256,128,64,3]\n",
        "        , generator_conv_kernel_size = [5,5,5,5]\n",
        "        , generator_conv_strides = [2,2,2,2]\n",
        "        , generator_batch_norm_momentum = 0.9\n",
        "        , generator_activation = 'leaky_relu'\n",
        "        , generator_dropout_rate = None\n",
        "        , generator_learning_rate = 0.0002\n",
        "        , optimiser = 'adam'\n",
        "        , grad_weight = 10\n",
        "        , z_dim = 100\n",
        "        , batch_size = BATCH_SIZE\n",
        "        )\n",
        "\n",
        "if mode == 'build':\n",
        "    gan.save(RUN_FOLDER)\n",
        "\n",
        "else:\n",
        "    gan.load_weights(os.path.join(RUN_FOLDER, 'weights/weights.h5'))\n",
        "\n",
        "\n"
      ]
    },
    {
      "cell_type": "code",
      "execution_count": null,
      "metadata": {
        "id": "JPVLjN53kXgj"
      },
      "outputs": [],
      "source": [
        "gan.critic.summary()"
      ]
    },
    {
      "cell_type": "code",
      "execution_count": null,
      "metadata": {
        "id": "Rx0CseSekXgl"
      },
      "outputs": [],
      "source": [
        "gan.generator.summary()"
      ]
    },
    {
      "cell_type": "markdown",
      "metadata": {
        "id": "UxldQymokXgm"
      },
      "source": [
        "## training"
      ]
    },
    {
      "cell_type": "code",
      "execution_count": null,
      "metadata": {
        "id": "9AssByxhkXgn"
      },
      "outputs": [],
      "source": [
        "EPOCHS = 6000\n",
        "PRINT_EVERY_N_BATCHES = 5\n",
        "N_CRITIC = 5\n",
        "BATCH_SIZE = 64"
      ]
    },
    {
      "cell_type": "code",
      "execution_count": null,
      "metadata": {
        "id": "antc16lGkXgo"
      },
      "outputs": [],
      "source": [
        "gan.train(     \n",
        "    x_train\n",
        "    , batch_size = BATCH_SIZE\n",
        "    , epochs = EPOCHS\n",
        "    , run_folder = RUN_FOLDER\n",
        "    , print_every_n_batches = PRINT_EVERY_N_BATCHES\n",
        "    , n_critic = N_CRITIC\n",
        "    , using_generator = True\n",
        ")"
      ]
    },
    {
      "cell_type": "code",
      "execution_count": null,
      "metadata": {
        "id": "Cg7wSglGkXgp"
      },
      "outputs": [],
      "source": [
        "fig = plt.figure()\n",
        "plt.plot([x[0] for x in gan.d_losses], color='black', linewidth=0.25)\n",
        "\n",
        "plt.plot([x[1] for x in gan.d_losses], color='green', linewidth=0.25)\n",
        "plt.plot([x[2] for x in gan.d_losses], color='red', linewidth=0.25)\n",
        "plt.plot(gan.g_losses, color='orange', linewidth=0.25)\n",
        "\n",
        "plt.xlabel('batch', fontsize=18)\n",
        "plt.ylabel('loss', fontsize=16)\n",
        "\n",
        "plt.xlim(0, 2000)\n",
        "# plt.ylim(0, 2)\n",
        "\n",
        "plt.show()\n"
      ]
    },
    {
      "cell_type": "code",
      "execution_count": null,
      "metadata": {
        "id": "quOEfgVtkXgq"
      },
      "outputs": [],
      "source": [
        ""
      ]
    }
  ],
  "metadata": {
    "kernelspec": {
      "display_name": "Python 3",
      "language": "python",
      "name": "python3"
    },
    "language_info": {
      "codemirror_mode": {
        "name": "ipython",
        "version": 3
      },
      "file_extension": ".py",
      "mimetype": "text/x-python",
      "name": "python",
      "nbconvert_exporter": "python",
      "pygments_lexer": "ipython3",
      "version": "3.8.8"
    },
    "colab": {
      "name": "04_03_wgangp_faces_train.ipynb",
      "provenance": [],
      "collapsed_sections": [],
      "include_colab_link": true
    }
  },
  "nbformat": 4,
  "nbformat_minor": 0
}