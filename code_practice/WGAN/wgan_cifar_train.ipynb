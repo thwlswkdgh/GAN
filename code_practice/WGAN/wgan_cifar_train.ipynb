{
  "cells": [
    {
      "cell_type": "markdown",
      "metadata": {
        "id": "view-in-github",
        "colab_type": "text"
      },
      "source": [
        "<a href=\"https://colab.research.google.com/github/thwlswkdgh/GAN/blob/main/code_practice/WGAN/wgan_cifar_train.ipynb\" target=\"_parent\"><img src=\"https://colab.research.google.com/assets/colab-badge.svg\" alt=\"Open In Colab\"/></a>"
      ]
    },
    {
      "cell_type": "markdown",
      "metadata": {
        "id": "muTlqA6D2T3p"
      },
      "source": [
        "# WGAN Training"
      ]
    },
    {
      "cell_type": "markdown",
      "metadata": {
        "id": "gd5XtXgA2T3s"
      },
      "source": [
        "## imports"
      ]
    },
    {
      "cell_type": "code",
      "source": [
        "from google.colab import drive\n",
        "drive.mount('/content/gdrive',force_remount=True)\n",
        "import sys\n",
        "sys.path.append('/content/gdrive/My Drive/Colab Notebooks/Generative GAN/')\n"
      ],
      "metadata": {
        "colab": {
          "base_uri": "https://localhost:8080/"
        },
        "id": "-ZHofs3k3NxU",
        "outputId": "fdefcc45-f3a8-439f-9903-38e86e46cb4e"
      },
      "execution_count": 1,
      "outputs": [
        {
          "output_type": "stream",
          "name": "stdout",
          "text": [
            "Mounted at /content/gdrive\n"
          ]
        }
      ]
    },
    {
      "cell_type": "code",
      "execution_count": 2,
      "metadata": {
        "id": "HMb31y2C2T3u"
      },
      "outputs": [],
      "source": [
        "%matplotlib inline\n",
        "\n",
        "import os\n",
        "import numpy as np\n",
        "import matplotlib.pyplot as plt\n",
        "\n",
        "from models.WGAN import WGAN\n",
        "from models.loaders import load_cifar\n"
      ]
    },
    {
      "cell_type": "code",
      "execution_count": 3,
      "metadata": {
        "id": "9AJP4zzJ2T3w"
      },
      "outputs": [],
      "source": [
        "# run params\n",
        "SECTION = 'gan'\n",
        "RUN_ID = '0002'\n",
        "DATA_NAME = 'horses'\n",
        "RUN_FOLDER = '/content/gdrive/My Drive/Colab Notebooks/Generative GAN/run/{}/'.format(SECTION)\n",
        "RUN_FOLDER += '_'.join([RUN_ID, DATA_NAME])\n",
        "\n",
        "if not os.path.exists(RUN_FOLDER):\n",
        "    os.mkdir(RUN_FOLDER)\n",
        "    os.mkdir(os.path.join(RUN_FOLDER, 'viz'))\n",
        "    os.mkdir(os.path.join(RUN_FOLDER, 'images'))\n",
        "    os.mkdir(os.path.join(RUN_FOLDER, 'weights'))\n",
        "\n",
        "mode =  'build'#'load'\n"
      ]
    },
    {
      "cell_type": "markdown",
      "metadata": {
        "id": "hBmwIhAG2T3y"
      },
      "source": [
        "## data"
      ]
    },
    {
      "cell_type": "code",
      "execution_count": 4,
      "metadata": {
        "id": "mjEXEyFu2T3z",
        "colab": {
          "base_uri": "https://localhost:8080/"
        },
        "outputId": "32fe0443-8fe4-41f1-c26a-8b1821299596"
      },
      "outputs": [
        {
          "output_type": "stream",
          "name": "stdout",
          "text": [
            "Downloading data from https://www.cs.toronto.edu/~kriz/cifar-10-python.tar.gz\n",
            "170500096/170498071 [==============================] - 6s 0us/step\n",
            "170508288/170498071 [==============================] - 6s 0us/step\n"
          ]
        }
      ],
      "source": [
        "if DATA_NAME == 'cars':\n",
        "    label = 1\n",
        "elif DATA_NAME == 'horses':\n",
        "    label = 7\n",
        "(x_train, y_train) = load_cifar(label, 10)\n"
      ]
    },
    {
      "cell_type": "code",
      "execution_count": 5,
      "metadata": {
        "id": "kwsU1Gna2T30",
        "colab": {
          "base_uri": "https://localhost:8080/",
          "height": 284
        },
        "outputId": "fe0ea468-0086-4794-816c-2cb3949cdf6b"
      },
      "outputs": [
        {
          "output_type": "execute_result",
          "data": {
            "text/plain": [
              "<matplotlib.image.AxesImage at 0x7fea03609a50>"
            ]
          },
          "metadata": {},
          "execution_count": 5
        },
        {
          "output_type": "display_data",
          "data": {
            "image/png": "[encoded data removed]",
            "text/plain": [
              "<Figure size 432x288 with 1 Axes>"
            ]
          },
          "metadata": {
            "needs_background": "light"
          }
        }
      ],
      "source": [
        "plt.imshow((x_train[150,:,:,:]+1)/2)"
      ]
    },
    {
      "cell_type": "markdown",
      "metadata": {
        "id": "_Fww05Md2T31"
      },
      "source": [
        "## architecture"
      ]
    },
    {
      "cell_type": "code",
      "execution_count": 6,
      "metadata": {
        "id": "ixIst_3E2T33",
        "colab": {
          "base_uri": "https://localhost:8080/"
        },
        "outputId": "8963ee43-172d-426c-9517-d1bccbcbb66a"
      },
      "outputs": [
        {
          "output_type": "stream",
          "name": "stderr",
          "text": [
            "/usr/local/lib/python3.7/dist-packages/keras/optimizer_v2/rmsprop.py:130: UserWarning: The `lr` argument is deprecated, use `learning_rate` instead.\n",
            "  super(RMSprop, self).__init__(name, **kwargs)\n"
          ]
        }
      ],
      "source": [
        "\n",
        "if mode == 'build':\n",
        "\n",
        "    gan = WGAN(input_dim = (32,32,3)\n",
        "            , critic_conv_filters = [32,64,128,128]\n",
        "            , critic_conv_kernel_size = [5,5,5,5]\n",
        "            , critic_conv_strides = [2,2,2,1]\n",
        "            , critic_batch_norm_momentum = None\n",
        "            , critic_activation = 'leaky_relu'\n",
        "            , critic_dropout_rate = None\n",
        "            , critic_learning_rate = 0.00005\n",
        "            , generator_initial_dense_layer_size = (4, 4, 128)\n",
        "            , generator_upsample = [2,2, 2,1]\n",
        "            , generator_conv_filters = [128,64,32,3]\n",
        "            , generator_conv_kernel_size = [5,5,5,5]\n",
        "            , generator_conv_strides = [1,1, 1,1]\n",
        "            , generator_batch_norm_momentum = 0.8\n",
        "            , generator_activation = 'leaky_relu'\n",
        "            , generator_dropout_rate = None\n",
        "            , generator_learning_rate = 0.00005\n",
        "            , optimiser = 'rmsprop'\n",
        "            , z_dim = 100\n",
        "            )\n",
        "    gan.save(RUN_FOLDER)\n",
        "\n",
        "else:\n",
        "    gan.load_weights(os.path.join(RUN_FOLDER, 'weights/weights.h5'))\n",
        "\n",
        "\n",
        "\n",
        "\n",
        "\n",
        "\n"
      ]
    },
    {
      "cell_type": "code",
      "execution_count": 7,
      "metadata": {
        "id": "lQrv54SB2T35",
        "colab": {
          "base_uri": "https://localhost:8080/"
        },
        "outputId": "89ac29be-77f0-4e37-e106-80c0995ef47f"
      },
      "outputs": [
        {
          "output_type": "stream",
          "name": "stdout",
          "text": [
            "Model: \"model\"\n",
            "_________________________________________________________________\n",
            " Layer (type)                Output Shape              Param #   \n",
            "=================================================================\n",
            " critic_input (InputLayer)   [(None, 32, 32, 3)]       0         \n",
            "                                                                 \n",
            " critic_conv_0 (Conv2D)      (None, 16, 16, 32)        2432      \n",
            "                                                                 \n",
            " leaky_re_lu (LeakyReLU)     (None, 16, 16, 32)        0         \n",
            "                                                                 \n",
            " critic_conv_1 (Conv2D)      (None, 8, 8, 64)          51264     \n",
            "                                                                 \n",
            " leaky_re_lu_1 (LeakyReLU)   (None, 8, 8, 64)          0         \n",
            "                                                                 \n",
            " critic_conv_2 (Conv2D)      (None, 4, 4, 128)         204928    \n",
            "                                                                 \n",
            " leaky_re_lu_2 (LeakyReLU)   (None, 4, 4, 128)         0         \n",
            "                                                                 \n",
            " critic_conv_3 (Conv2D)      (None, 4, 4, 128)         409728    \n",
            "                                                                 \n",
            " leaky_re_lu_3 (LeakyReLU)   (None, 4, 4, 128)         0         \n",
            "                                                                 \n",
            " flatten (Flatten)           (None, 2048)              0         \n",
            "                                                                 \n",
            " dense (Dense)               (None, 1)                 2049      \n",
            "                                                                 \n",
            "=================================================================\n",
            "Total params: 670,401\n",
            "Trainable params: 670,401\n",
            "Non-trainable params: 0\n",
            "_________________________________________________________________\n"
          ]
        }
      ],
      "source": [
        "gan.critic.summary()"
      ]
    },
    {
      "cell_type": "code",
      "execution_count": 8,
      "metadata": {
        "id": "KsMIPeVd2T37",
        "colab": {
          "base_uri": "https://localhost:8080/"
        },
        "outputId": "3d6e3c7c-83fa-4cbe-c3e4-641e8f11057a"
      },
      "outputs": [
        {
          "output_type": "stream",
          "name": "stdout",
          "text": [
            "Model: \"model_1\"\n",
            "_________________________________________________________________\n",
            " Layer (type)                Output Shape              Param #   \n",
            "=================================================================\n",
            " generator_input (InputLayer  [(None, 100)]            0         \n",
            " )                                                               \n",
            "                                                                 \n",
            " dense_1 (Dense)             (None, 2048)              206848    \n",
            "                                                                 \n",
            " batch_normalization (BatchN  (None, 2048)             8192      \n",
            " ormalization)                                                   \n",
            "                                                                 \n",
            " leaky_re_lu_4 (LeakyReLU)   (None, 2048)              0         \n",
            "                                                                 \n",
            " reshape (Reshape)           (None, 4, 4, 128)         0         \n",
            "                                                                 \n",
            " up_sampling2d (UpSampling2D  (None, 8, 8, 128)        0         \n",
            " )                                                               \n",
            "                                                                 \n",
            " generator_conv_0 (Conv2D)   (None, 8, 8, 128)         409728    \n",
            "                                                                 \n",
            " batch_normalization_1 (Batc  (None, 8, 8, 128)        512       \n",
            " hNormalization)                                                 \n",
            "                                                                 \n",
            " leaky_re_lu_5 (LeakyReLU)   (None, 8, 8, 128)         0         \n",
            "                                                                 \n",
            " up_sampling2d_1 (UpSampling  (None, 16, 16, 128)      0         \n",
            " 2D)                                                             \n",
            "                                                                 \n",
            " generator_conv_1 (Conv2D)   (None, 16, 16, 64)        204864    \n",
            "                                                                 \n",
            " batch_normalization_2 (Batc  (None, 16, 16, 64)       256       \n",
            " hNormalization)                                                 \n",
            "                                                                 \n",
            " leaky_re_lu_6 (LeakyReLU)   (None, 16, 16, 64)        0         \n",
            "                                                                 \n",
            " up_sampling2d_2 (UpSampling  (None, 32, 32, 64)       0         \n",
            " 2D)                                                             \n",
            "                                                                 \n",
            " generator_conv_2 (Conv2D)   (None, 32, 32, 32)        51232     \n",
            "                                                                 \n",
            " batch_normalization_3 (Batc  (None, 32, 32, 32)       128       \n",
            " hNormalization)                                                 \n",
            "                                                                 \n",
            " leaky_re_lu_7 (LeakyReLU)   (None, 32, 32, 32)        0         \n",
            "                                                                 \n",
            " generator_conv_3 (Conv2DTra  (None, 32, 32, 3)        2403      \n",
            " nspose)                                                         \n",
            "                                                                 \n",
            " activation (Activation)     (None, 32, 32, 3)         0         \n",
            "                                                                 \n",
            "=================================================================\n",
            "Total params: 884,163\n",
            "Trainable params: 879,619\n",
            "Non-trainable params: 4,544\n",
            "_________________________________________________________________\n"
          ]
        }
      ],
      "source": [
        "gan.generator.summary()"
      ]
    },
    {
      "cell_type": "markdown",
      "metadata": {
        "id": "WC3BCXZW2T38"
      },
      "source": [
        "## training"
      ]
    },
    {
      "cell_type": "code",
      "execution_count": 9,
      "metadata": {
        "id": "G57V9pfn2T39"
      },
      "outputs": [],
      "source": [
        "BATCH_SIZE = 128\n",
        "EPOCHS = 500\n",
        "#BATCH_SIZE = 1\n",
        "#EPOCHS = 1\n",
        "PRINT_EVERY_N_BATCHES = 5\n",
        "N_CRITIC = 5\n",
        "CLIP_THRESHOLD = 0.01"
      ]
    },
    {
      "cell_type": "code",
      "execution_count": null,
      "metadata": {
        "scrolled": false,
        "id": "eEY2f_DS2T3-",
        "colab": {
          "base_uri": "https://localhost:8080/"
        },
        "outputId": "f331777e-c2d1-478c-bc2b-68b29770ca3f"
      },
      "outputs": [
        {
          "output_type": "stream",
          "name": "stdout",
          "text": [
            "0 [D loss: (-0.000)(R -0.001, F 0.000)]  [G loss: -0.000] \n",
            "WARNING:tensorflow:Compiled the loaded model, but the compiled metrics have yet to be built. `model.compile_metrics` will be empty until you train or evaluate the model.\n",
            "INFO:tensorflow:Assets written to: ram://714c9920-03f6-417f-a6b4-90f0f5a24656/assets\n",
            "WARNING:tensorflow:Compiled the loaded model, but the compiled metrics have yet to be built. `model.compile_metrics` will be empty until you train or evaluate the model.\n",
            "INFO:tensorflow:Assets written to: ram://2538c6e1-580e-4413-bfa1-8b5e146a7cd9/assets\n",
            "INFO:tensorflow:Assets written to: ram://537dc300-03bb-4a09-9b9f-1e6c76d1a4dc/assets\n",
            "1 [D loss: (-0.001)(R -0.001, F 0.000)]  [G loss: -0.001] \n",
            "2 [D loss: (-0.002)(R -0.005, F 0.001)]  [G loss: -0.003] \n",
            "3 [D loss: (-0.008)(R -0.019, F 0.003)]  [G loss: -0.017] \n",
            "4 [D loss: (-0.020)(R -0.051, F 0.012)]  [G loss: -0.063] \n",
            "5 [D loss: (-0.039)(R -0.108, F 0.029)]  [G loss: -0.156] \n",
            "WARNING:tensorflow:Compiled the loaded model, but the compiled metrics have yet to be built. `model.compile_metrics` will be empty until you train or evaluate the model.\n",
            "INFO:tensorflow:Assets written to: ram://583e2d01-18ab-4b43-99d6-d4221da594db/assets\n",
            "WARNING:tensorflow:Compiled the loaded model, but the compiled metrics have yet to be built. `model.compile_metrics` will be empty until you train or evaluate the model.\n",
            "INFO:tensorflow:Assets written to: ram://3ab5335a-bdce-4062-ae2d-cf454926fc0a/assets\n",
            "INFO:tensorflow:Assets written to: ram://75cbd3e6-d5c3-4129-8697-25bff1a69903/assets\n",
            "6 [D loss: (-0.053)(R -0.174, F 0.068)]  [G loss: -0.256] \n",
            "7 [D loss: (-0.062)(R -0.247, F 0.123)]  [G loss: -0.376] \n",
            "8 [D loss: (-0.066)(R -0.326, F 0.195)]  [G loss: -0.492] \n",
            "9 [D loss: (-0.063)(R -0.386, F 0.260)]  [G loss: -0.628] \n",
            "10 [D loss: (-0.049)(R -0.417, F 0.319)]  [G loss: -0.753] \n",
            "WARNING:tensorflow:Compiled the loaded model, but the compiled metrics have yet to be built. `model.compile_metrics` will be empty until you train or evaluate the model.\n",
            "INFO:tensorflow:Assets written to: ram://683ad640-5694-4c05-bf76-2b563c25d4f0/assets\n",
            "WARNING:tensorflow:Compiled the loaded model, but the compiled metrics have yet to be built. `model.compile_metrics` will be empty until you train or evaluate the model.\n",
            "INFO:tensorflow:Assets written to: ram://31906f61-946a-4cdc-8603-76dafd059eb6/assets\n",
            "INFO:tensorflow:Assets written to: ram://e96a1c71-53c2-4d9c-ad50-8e5dd4743146/assets\n",
            "11 [D loss: (-0.084)(R -0.496, F 0.328)]  [G loss: -0.876] \n",
            "12 [D loss: (-0.105)(R -0.587, F 0.376)]  [G loss: -1.031] \n",
            "13 [D loss: (-0.122)(R -0.707, F 0.462)]  [G loss: -1.188] \n",
            "14 [D loss: (-0.050)(R -0.719, F 0.619)]  [G loss: -1.303] \n",
            "15 [D loss: (-0.036)(R -0.714, F 0.642)]  [G loss: -1.374] \n",
            "WARNING:tensorflow:Compiled the loaded model, but the compiled metrics have yet to be built. `model.compile_metrics` will be empty until you train or evaluate the model.\n",
            "INFO:tensorflow:Assets written to: ram://6b99e172-f297-4d83-9e2d-7bb27bdf0a86/assets\n",
            "WARNING:tensorflow:Compiled the loaded model, but the compiled metrics have yet to be built. `model.compile_metrics` will be empty until you train or evaluate the model.\n",
            "INFO:tensorflow:Assets written to: ram://79155ce8-3715-4ea1-8d83-9b3caeeb606d/assets\n",
            "INFO:tensorflow:Assets written to: ram://b7de99e6-47fe-4ecd-a6b6-c4b956390a45/assets\n",
            "16 [D loss: (0.015)(R -0.711, F 0.742)]  [G loss: -1.342] \n",
            "17 [D loss: (0.058)(R -0.588, F 0.703)]  [G loss: -1.159] \n",
            "18 [D loss: (0.068)(R -0.564, F 0.701)]  [G loss: -0.982] \n",
            "19 [D loss: (0.086)(R -0.445, F 0.617)]  [G loss: -0.782] \n",
            "20 [D loss: (0.062)(R -0.337, F 0.461)]  [G loss: -0.597] \n",
            "WARNING:tensorflow:Compiled the loaded model, but the compiled metrics have yet to be built. `model.compile_metrics` will be empty until you train or evaluate the model.\n",
            "INFO:tensorflow:Assets written to: ram://2ea7e157-c52e-4a38-a37f-9cf64cad4f3f/assets\n",
            "WARNING:tensorflow:Compiled the loaded model, but the compiled metrics have yet to be built. `model.compile_metrics` will be empty until you train or evaluate the model.\n",
            "INFO:tensorflow:Assets written to: ram://6fb5bea6-d4c4-4dcf-8778-f84c0b3a732c/assets\n",
            "INFO:tensorflow:Assets written to: ram://11842eac-d48f-406e-9a0b-68a0dea813ad/assets\n",
            "21 [D loss: (0.021)(R -0.311, F 0.353)]  [G loss: -0.442] \n",
            "22 [D loss: (0.024)(R -0.246, F 0.294)]  [G loss: -0.306] \n",
            "23 [D loss: (-0.008)(R -0.176, F 0.160)]  [G loss: -0.177] \n",
            "24 [D loss: (-0.043)(R -0.140, F 0.055)]  [G loss: -0.063] \n",
            "25 [D loss: (-0.083)(R -0.138, F -0.028)]  [G loss: 0.055] \n",
            "WARNING:tensorflow:Compiled the loaded model, but the compiled metrics have yet to be built. `model.compile_metrics` will be empty until you train or evaluate the model.\n",
            "INFO:tensorflow:Assets written to: ram://6147f70d-e701-47f0-9043-626d11a944d1/assets\n",
            "WARNING:tensorflow:Compiled the loaded model, but the compiled metrics have yet to be built. `model.compile_metrics` will be empty until you train or evaluate the model.\n",
            "INFO:tensorflow:Assets written to: ram://497d8a54-a237-4e68-b5f9-c2baec51f0ec/assets\n",
            "INFO:tensorflow:Assets written to: ram://41a53fcd-eade-4180-b29c-2eb1a3c83096/assets\n",
            "26 [D loss: (-0.133)(R -0.118, F -0.147)]  [G loss: 0.210] \n",
            "27 [D loss: (-0.197)(R -0.099, F -0.295)]  [G loss: 0.424] \n",
            "28 [D loss: (-0.256)(R -0.077, F -0.435)]  [G loss: 0.638] \n",
            "29 [D loss: (-0.238)(R -0.118, F -0.358)]  [G loss: 0.622] \n",
            "30 [D loss: (-0.201)(R -0.261, F -0.142)]  [G loss: 0.234] \n",
            "WARNING:tensorflow:Compiled the loaded model, but the compiled metrics have yet to be built. `model.compile_metrics` will be empty until you train or evaluate the model.\n",
            "INFO:tensorflow:Assets written to: ram://38a5c637-23ab-4f32-9c9b-22b34b2ec9a6/assets\n",
            "WARNING:tensorflow:Compiled the loaded model, but the compiled metrics have yet to be built. `model.compile_metrics` will be empty until you train or evaluate the model.\n",
            "INFO:tensorflow:Assets written to: ram://d2718e8d-0437-482c-9411-7ea13f90feed/assets\n",
            "INFO:tensorflow:Assets written to: ram://0ea51ccb-1644-4ae6-84dc-8e95942614bd/assets\n",
            "31 [D loss: (-0.218)(R -0.494, F 0.058)]  [G loss: -0.555] \n",
            "32 [D loss: (-0.458)(R -1.147, F 0.231)]  [G loss: -1.726] \n",
            "33 [D loss: (-0.691)(R -1.785, F 0.403)]  [G loss: -3.191] \n",
            "34 [D loss: (-0.390)(R -2.268, F 1.488)]  [G loss: -4.277] \n",
            "35 [D loss: (0.242)(R -1.942, F 2.426)]  [G loss: -4.102] \n",
            "WARNING:tensorflow:Compiled the loaded model, but the compiled metrics have yet to be built. `model.compile_metrics` will be empty until you train or evaluate the model.\n",
            "INFO:tensorflow:Assets written to: ram://5988b13c-2f08-47d3-92b0-8a1f0332b121/assets\n",
            "WARNING:tensorflow:Compiled the loaded model, but the compiled metrics have yet to be built. `model.compile_metrics` will be empty until you train or evaluate the model.\n",
            "INFO:tensorflow:Assets written to: ram://5c1e9a54-7674-4b47-9813-51c4b4edad7e/assets\n",
            "INFO:tensorflow:Assets written to: ram://90377fff-98fd-4463-8d79-ddb4bf2309a8/assets\n",
            "36 [D loss: (0.351)(R -1.942, F 2.644)]  [G loss: -3.362] \n",
            "37 [D loss: (0.536)(R -1.137, F 2.209)]  [G loss: -2.542] \n",
            "38 [D loss: (0.238)(R -1.249, F 1.725)]  [G loss: -1.996] \n",
            "39 [D loss: (0.168)(R -0.914, F 1.251)]  [G loss: -1.554] \n",
            "40 [D loss: (0.058)(R -0.765, F 0.882)]  [G loss: -1.257] \n",
            "WARNING:tensorflow:Compiled the loaded model, but the compiled metrics have yet to be built. `model.compile_metrics` will be empty until you train or evaluate the model.\n",
            "INFO:tensorflow:Assets written to: ram://79ed5319-3097-47c9-b146-1c84d4b7674a/assets\n",
            "WARNING:tensorflow:Compiled the loaded model, but the compiled metrics have yet to be built. `model.compile_metrics` will be empty until you train or evaluate the model.\n",
            "INFO:tensorflow:Assets written to: ram://88243f82-25e7-476f-a0dd-58caf5e62f17/assets\n",
            "INFO:tensorflow:Assets written to: ram://a85c77a2-72f5-401d-b267-25e39907563a/assets\n",
            "41 [D loss: (0.022)(R -0.643, F 0.688)]  [G loss: -0.979] \n",
            "42 [D loss: (-0.041)(R -0.557, F 0.474)]  [G loss: -0.764] \n",
            "43 [D loss: (-0.077)(R -0.495, F 0.341)]  [G loss: -0.550] \n",
            "44 [D loss: (-0.130)(R -0.481, F 0.222)]  [G loss: -0.375] \n",
            "45 [D loss: (-0.190)(R -0.479, F 0.099)]  [G loss: -0.188] \n",
            "WARNING:tensorflow:Compiled the loaded model, but the compiled metrics have yet to be built. `model.compile_metrics` will be empty until you train or evaluate the model.\n",
            "INFO:tensorflow:Assets written to: ram://0f149418-cb7f-4bb2-a66c-90b38d165008/assets\n",
            "WARNING:tensorflow:Compiled the loaded model, but the compiled metrics have yet to be built. `model.compile_metrics` will be empty until you train or evaluate the model.\n",
            "INFO:tensorflow:Assets written to: ram://077f56d8-ad50-4422-b2eb-056c54ff83a5/assets\n",
            "INFO:tensorflow:Assets written to: ram://d78472a8-00e5-4385-8337-ae0d75e934b3/assets\n",
            "46 [D loss: (-0.230)(R -0.448, F -0.011)]  [G loss: 0.032] \n",
            "47 [D loss: (-0.254)(R -0.295, F -0.213)]  [G loss: 0.311] \n",
            "48 [D loss: (-0.372)(R -0.293, F -0.452)]  [G loss: 0.622] \n",
            "49 [D loss: (-0.520)(R -0.327, F -0.712)]  [G loss: 0.980] \n",
            "50 [D loss: (-0.713)(R -0.335, F -1.092)]  [G loss: 1.421] \n",
            "WARNING:tensorflow:Compiled the loaded model, but the compiled metrics have yet to be built. `model.compile_metrics` will be empty until you train or evaluate the model.\n",
            "INFO:tensorflow:Assets written to: ram://884022a1-8401-4540-a99e-1f33bfb4ff0f/assets\n",
            "WARNING:tensorflow:Compiled the loaded model, but the compiled metrics have yet to be built. `model.compile_metrics` will be empty until you train or evaluate the model.\n",
            "INFO:tensorflow:Assets written to: ram://aff3567e-0441-4745-bc38-52b7a14e360e/assets\n",
            "INFO:tensorflow:Assets written to: ram://33fcf46c-c8c7-4e02-a77b-3ae0abd7ef1b/assets\n",
            "51 [D loss: (-0.777)(R -0.205, F -1.348)]  [G loss: 1.794] \n",
            "52 [D loss: (-0.846)(R -0.113, F -1.579)]  [G loss: 2.009] \n",
            "53 [D loss: (-0.719)(R 0.028, F -1.465)]  [G loss: 1.928] \n",
            "54 [D loss: (-0.579)(R 0.128, F -1.286)]  [G loss: 1.681] \n",
            "55 [D loss: (-0.300)(R 0.307, F -0.907)]  [G loss: 1.252] \n",
            "WARNING:tensorflow:Compiled the loaded model, but the compiled metrics have yet to be built. `model.compile_metrics` will be empty until you train or evaluate the model.\n",
            "INFO:tensorflow:Assets written to: ram://a8fd960b-40e0-4e1a-90fa-dc1e240d7473/assets\n",
            "WARNING:tensorflow:Compiled the loaded model, but the compiled metrics have yet to be built. `model.compile_metrics` will be empty until you train or evaluate the model.\n",
            "INFO:tensorflow:Assets written to: ram://fd8ee0a6-c90f-407a-be60-3128d30a66ef/assets\n",
            "INFO:tensorflow:Assets written to: ram://ee10e9db-5d4b-4909-83d1-a37131dbc5a9/assets\n",
            "56 [D loss: (-0.015)(R 0.393, F -0.423)]  [G loss: 0.685] \n",
            "57 [D loss: (0.091)(R 0.586, F -0.403)]  [G loss: 0.498] \n",
            "58 [D loss: (0.161)(R 0.552, F -0.231)]  [G loss: 0.344] \n",
            "59 [D loss: (0.142)(R 0.557, F -0.273)]  [G loss: 0.357] \n",
            "60 [D loss: (0.096)(R 0.524, F -0.331)]  [G loss: 0.396] \n",
            "WARNING:tensorflow:Compiled the loaded model, but the compiled metrics have yet to be built. `model.compile_metrics` will be empty until you train or evaluate the model.\n",
            "INFO:tensorflow:Assets written to: ram://a6946664-55db-4e09-ae9e-359e7ce6527c/assets\n",
            "WARNING:tensorflow:Compiled the loaded model, but the compiled metrics have yet to be built. `model.compile_metrics` will be empty until you train or evaluate the model.\n",
            "INFO:tensorflow:Assets written to: ram://3c351307-7e9d-4deb-8a3b-0e40a9e580b9/assets\n",
            "INFO:tensorflow:Assets written to: ram://4ae56165-0afb-4518-a6a7-20c6a693d81d/assets\n",
            "61 [D loss: (-0.011)(R 0.342, F -0.364)]  [G loss: 0.459] \n",
            "62 [D loss: (-0.041)(R 0.374, F -0.457)]  [G loss: 0.519] \n",
            "63 [D loss: (-0.044)(R 0.411, F -0.498)]  [G loss: 0.608] \n",
            "64 [D loss: (-0.083)(R 0.428, F -0.594)]  [G loss: 0.674] \n",
            "65 [D loss: (-0.133)(R 0.388, F -0.654)]  [G loss: 0.770] \n",
            "WARNING:tensorflow:Compiled the loaded model, but the compiled metrics have yet to be built. `model.compile_metrics` will be empty until you train or evaluate the model.\n",
            "INFO:tensorflow:Assets written to: ram://7358b1ea-6d29-42d6-be7b-c9f7706e30c0/assets\n",
            "WARNING:tensorflow:Compiled the loaded model, but the compiled metrics have yet to be built. `model.compile_metrics` will be empty until you train or evaluate the model.\n",
            "INFO:tensorflow:Assets written to: ram://60c50199-6922-44b0-be6a-2ab0f547da3e/assets\n",
            "INFO:tensorflow:Assets written to: ram://ba908f80-f3de-49e0-8f86-7adaf116a21d/assets\n",
            "66 [D loss: (-0.161)(R 0.378, F -0.700)]  [G loss: 0.849] \n",
            "67 [D loss: (-0.217)(R 0.358, F -0.791)]  [G loss: 0.954] \n",
            "68 [D loss: (-0.254)(R 0.363, F -0.871)]  [G loss: 1.065] \n",
            "69 [D loss: (-0.308)(R 0.373, F -0.990)]  [G loss: 1.189] \n",
            "70 [D loss: (-0.373)(R 0.342, F -1.088)]  [G loss: 1.293] \n"
          ]
        }
      ],
      "source": [
        "gan.train(     \n",
        "    x_train\n",
        "    , batch_size = BATCH_SIZE\n",
        "    , epochs = EPOCHS\n",
        "    , run_folder = RUN_FOLDER\n",
        "    , print_every_n_batches = PRINT_EVERY_N_BATCHES\n",
        "    , n_critic = N_CRITIC\n",
        "    , clip_threshold = CLIP_THRESHOLD\n",
        ")"
      ]
    },
    {
      "cell_type": "code",
      "execution_count": null,
      "metadata": {
        "id": "8Z-GEaFz2T3_"
      },
      "outputs": [],
      "source": [
        "gan.sample_images(RUN_FOLDER)"
      ]
    },
    {
      "cell_type": "code",
      "execution_count": null,
      "metadata": {
        "id": "v4xVnC5S2T3_"
      },
      "outputs": [],
      "source": [
        "fig = plt.figure()\n",
        "plt.plot([x[0] for x in gan.d_losses], color='black', linewidth=0.25)\n",
        "\n",
        "plt.plot([x[1] for x in gan.d_losses], color='green', linewidth=0.25)\n",
        "plt.plot([x[2] for x in gan.d_losses], color='red', linewidth=0.25)\n",
        "plt.plot(gan.g_losses, color='orange', linewidth=0.25)\n",
        "\n",
        "plt.xlabel('batch', fontsize=18)\n",
        "plt.ylabel('loss', fontsize=16)\n",
        "\n",
        "# plt.xlim(0, 2000)\n",
        "# plt.ylim(0, 2)\n",
        "\n",
        "plt.show()"
      ]
    },
    {
      "cell_type": "code",
      "execution_count": null,
      "metadata": {
        "id": "1dCm5J-42T4A"
      },
      "outputs": [],
      "source": [
        "def compare_images(img1, img2):\n",
        "    return np.mean(np.abs(img1 - img2))"
      ]
    },
    {
      "cell_type": "code",
      "execution_count": null,
      "metadata": {
        "id": "-kQCJaWe2T4B"
      },
      "outputs": [],
      "source": [
        "\n",
        "r, c = 5, 5\n",
        "\n",
        "idx = np.random.randint(0, x_train.shape[0], BATCH_SIZE)\n",
        "true_imgs = (x_train[idx] + 1) *0.5\n",
        "\n",
        "fig, axs = plt.subplots(r, c, figsize=(15,15))\n",
        "cnt = 0\n",
        "\n",
        "for i in range(r):\n",
        "    for j in range(c):\n",
        "        axs[i,j].imshow(true_imgs[cnt], cmap = 'gray_r')\n",
        "        axs[i,j].axis('off')\n",
        "        cnt += 1\n",
        "fig.savefig(os.path.join(RUN_FOLDER, \"images/real.png\"))\n",
        "plt.close()"
      ]
    },
    {
      "cell_type": "code",
      "execution_count": null,
      "metadata": {
        "id": "SEPaColg2T4B"
      },
      "outputs": [],
      "source": [
        "r, c = 5, 5\n",
        "noise = np.random.normal(0, 1, (r * c, gan.z_dim))\n",
        "gen_imgs = gan.generator.predict(noise)\n",
        "\n",
        "#Rescale images 0 - 1\n",
        "\n",
        "gen_imgs = 0.5 * (gen_imgs + 1)\n",
        "# gen_imgs = np.clip(gen_imgs, 0, 1)\n",
        "\n",
        "fig, axs = plt.subplots(r, c, figsize=(15,15))\n",
        "cnt = 0\n",
        "\n",
        "for i in range(r):\n",
        "    for j in range(c):\n",
        "        axs[i,j].imshow(np.squeeze(gen_imgs[cnt, :,:,:]), cmap = 'gray_r')\n",
        "        axs[i,j].axis('off')\n",
        "        cnt += 1\n",
        "fig.savefig(os.path.join(RUN_FOLDER, \"images/sample.png\"))\n",
        "plt.close()\n",
        "\n",
        "\n",
        "fig, axs = plt.subplots(r, c, figsize=(15,15))\n",
        "cnt = 0\n",
        "\n",
        "for i in range(r):\n",
        "    for j in range(c):\n",
        "        c_diff = 99999\n",
        "        c_img = None\n",
        "        for k_idx, k in enumerate((x_train + 1) * 0.5):\n",
        "            \n",
        "            diff = compare_images(gen_imgs[cnt, :,:,:], k)\n",
        "            if diff < c_diff:\n",
        "                c_img = np.copy(k)\n",
        "                c_diff = diff\n",
        "        axs[i,j].imshow(c_img, cmap = 'gray_r')\n",
        "        axs[i,j].axis('off')\n",
        "        cnt += 1\n",
        "\n",
        "fig.savefig(os.path.join(RUN_FOLDER, \"images/sample_closest.png\"))\n",
        "plt.close()"
      ]
    }
  ],
  "metadata": {
    "kernelspec": {
      "display_name": "Python 3",
      "language": "python",
      "name": "python3"
    },
    "language_info": {
      "codemirror_mode": {
        "name": "ipython",
        "version": 3
      },
      "file_extension": ".py",
      "mimetype": "text/x-python",
      "name": "python",
      "nbconvert_exporter": "python",
      "pygments_lexer": "ipython3",
      "version": "3.8.8"
    },
    "colab": {
      "name": "04_02_wgan_cifar_train.ipynb",
      "provenance": [],
      "collapsed_sections": [],
      "include_colab_link": true
    },
    "accelerator": "GPU"
  },
  "nbformat": 4,
  "nbformat_minor": 0
}