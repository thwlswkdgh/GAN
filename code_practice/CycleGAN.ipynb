{
  "nbformat": 4,
  "nbformat_minor": 0,
  "metadata": {
    "colab": {
      "name": "Ch6_CycleGAN.ipynb",
      "provenance": [],
      "collapsed_sections": [],
      "authorship_tag": "ABX9TyPtc3vRp+9c1ADIO1wBkjq1",
      "include_colab_link": true
    },
    "kernelspec": {
      "display_name": "Python 3",
      "name": "python3"
    },
    "language_info": {
      "name": "python"
    },
    "accelerator": "GPU"
  },
  "cells": [
    {
      "cell_type": "markdown",
      "metadata": {
        "id": "view-in-github",
        "colab_type": "text"
      },
      "source": [
        "<a href=\"https://colab.research.google.com/github/thwlswkdgh/GAN/blob/main/code_practice/CycleGAN.ipynb\" target=\"_parent\"><img src=\"https://colab.research.google.com/assets/colab-badge.svg\" alt=\"Open In Colab\"/></a>"
      ]
    },
    {
      "cell_type": "markdown",
      "metadata": {
        "id": "qlJfiRSnrFM7"
      },
      "source": [
        "Generator"
      ]
    },
    {
      "cell_type": "code",
      "metadata": {
        "colab": {
          "base_uri": "https://localhost:8080/"
        },
        "id": "PzhiyQlLra4L",
        "outputId": "cc4f7a17-2e4d-4ecb-fe95-d1a5a6af3365"
      },
      "source": [
        "pip install git+https://www.github.com/keras-team/keras-contrib.git"
      ],
      "execution_count": 1,
      "outputs": [
        {
          "output_type": "stream",
          "name": "stdout",
          "text": [
            "Collecting git+https://www.github.com/keras-team/keras-contrib.git\n",
            "  Cloning https://www.github.com/keras-team/keras-contrib.git to /tmp/pip-req-build-bs29n5dk\n",
            "  Running command git clone -q https://www.github.com/keras-team/keras-contrib.git /tmp/pip-req-build-bs29n5dk\n",
            "Requirement already satisfied: keras in /usr/local/lib/python3.7/dist-packages (from keras-contrib==2.0.8) (2.7.0)\n",
            "Building wheels for collected packages: keras-contrib\n",
            "  Building wheel for keras-contrib (setup.py) ... \u001b[?25l\u001b[?25hdone\n",
            "  Created wheel for keras-contrib: filename=keras_contrib-2.0.8-py3-none-any.whl size=101077 sha256=f6f4b1f3a797907498def79c8a3aa2602a057d2d359a9c10b49dcb0a27848d81\n",
            "  Stored in directory: /tmp/pip-ephem-wheel-cache-otp5l_lt/wheels/bb/1f/f2/b57495012683b6b20bbae94a3915ec79753111452d79886abc\n",
            "Successfully built keras-contrib\n",
            "Installing collected packages: keras-contrib\n",
            "Successfully installed keras-contrib-2.0.8\n"
          ]
        }
      ]
    },
    {
      "cell_type": "code",
      "metadata": {
        "id": "XM_A9UC_rArh"
      },
      "source": [
        "#!/usr/bin/env python\n",
        "import sys\n",
        "import numpy as np\n",
        "from keras.layers import Dense, Reshape, Input, BatchNormalization, Concatenate\n",
        "from keras_contrib.layers.normalization.instancenormalization import InstanceNormalization\n",
        "from keras.layers.core import Activation\n",
        "from keras.layers.convolutional import UpSampling2D, Convolution2D, MaxPooling2D,Deconvolution2D\n",
        "from keras.layers.advanced_activations import LeakyReLU\n",
        "from keras.models import Sequential, Model\n",
        "from tensorflow.keras.optimizers import Adam, SGD, Nadam,Adamax\n",
        "from keras import initializers\n",
        "from keras.utils.vis_utils import plot_model\n",
        "\n",
        "class Generator(object):\n",
        "    def __init__(self, width = 28, height= 28, channels = 1):\n",
        "        \n",
        "        self.W = width\n",
        "        self.H = height\n",
        "        self.C = channels\n",
        "        self.SHAPE = (width,height,channels)\n",
        "\n",
        "        self.Generator = self.model()\n",
        "        self.OPTIMIZER = Adam(lr=2e-4, beta_1=0.5,decay=1e-5)\n",
        "        self.Generator.compile(loss='binary_crossentropy', optimizer=self.OPTIMIZER,metrics=['accuracy'])\n",
        "\n",
        "        self.save_model()\n",
        "        self.summary()\n",
        "\n",
        "    def model(self):\n",
        "        input_layer = Input(shape=self.SHAPE)\n",
        "        \n",
        "        down_1 = Convolution2D(64  , kernel_size=4, strides=2, padding='same',activation=LeakyReLU(alpha=0.2))(input_layer)\n",
        "        norm_1 = InstanceNormalization()(down_1)\n",
        "\n",
        "        down_2 = Convolution2D(64*2, kernel_size=4, strides=2, padding='same',activation=LeakyReLU(alpha=0.2))(norm_1)\n",
        "        norm_2 = InstanceNormalization()(down_2)\n",
        "\n",
        "        down_3 = Convolution2D(64*4, kernel_size=4, strides=2, padding='same',activation=LeakyReLU(alpha=0.2))(norm_2)\n",
        "        norm_3 = InstanceNormalization()(down_3)\n",
        "\n",
        "        down_4 = Convolution2D(64*8, kernel_size=4, strides=2, padding='same',activation=LeakyReLU(alpha=0.2))(norm_3)\n",
        "        norm_4 = InstanceNormalization()(down_4)\n",
        "\n",
        "\n",
        "        upsample_1 = UpSampling2D()(norm_4)\n",
        "        up_conv_1 = Convolution2D(64*4, kernel_size=4, strides=1, padding='same',activation='relu')(upsample_1)\n",
        "        norm_up_1 = InstanceNormalization()(up_conv_1)\n",
        "        add_skip_1 = Concatenate()([norm_up_1,norm_3])\n",
        "\n",
        "        upsample_2 = UpSampling2D()(add_skip_1)\n",
        "        up_conv_2 = Convolution2D(64*2, kernel_size=4, strides=1, padding='same',activation='relu')(upsample_2)\n",
        "        norm_up_2 = InstanceNormalization()(up_conv_2)\n",
        "        add_skip_2 = Concatenate()([norm_up_2,norm_2])\n",
        "\n",
        "        upsample_3 = UpSampling2D()(add_skip_2)\n",
        "        up_conv_3 = Convolution2D(64, kernel_size=4, strides=1, padding='same',activation='relu')(upsample_3)\n",
        "        norm_up_3 = InstanceNormalization()(up_conv_3)\n",
        "        add_skip_3 = Concatenate()([norm_up_3,norm_1])\n",
        "\n",
        "        last_upsample = UpSampling2D()(add_skip_3)\n",
        "        \n",
        "        output_layer = Convolution2D(3, kernel_size=4, strides=1, padding='same',activation='tanh')(last_upsample)\n",
        "        return Model(input_layer,output_layer)\n",
        "\n",
        "    def summary(self):\n",
        "        return self.Generator.summary()\n",
        "\n",
        "    def save_model(self):\n",
        "        plot_model(self.Generator, to_file='/content/gdrive/My Drive/Colab Notebooks/cycleGAN/monet2photo_out/Generator_Model.png', show_shapes=True)\n",
        "\n"
      ],
      "execution_count": 2,
      "outputs": []
    },
    {
      "cell_type": "markdown",
      "metadata": {
        "id": "TZ6UM8Zus-CH"
      },
      "source": [
        "Discriminator"
      ]
    },
    {
      "cell_type": "code",
      "metadata": {
        "id": "2QvMbP8RrIZx"
      },
      "source": [
        "#!/usr/bin/env python3\n",
        "import sys\n",
        "import numpy as np\n",
        "from keras.layers import Input, Dense, Reshape, Flatten, Dropout, BatchNormalization, Lambda, concatenate\n",
        "from keras.layers.core import Activation\n",
        "from keras_contrib.layers.normalization.instancenormalization import InstanceNormalization\n",
        "from keras.layers.convolutional import Convolution2D\n",
        "from keras.layers.advanced_activations import LeakyReLU\n",
        "from keras.models import Sequential, Model\n",
        "from tensorflow.keras.optimizers import Adam, SGD,Nadam, Adamax\n",
        "import keras.backend as K\n",
        "from keras.utils.vis_utils import plot_model\n",
        "\n",
        "\n",
        "class Discriminator(object):\n",
        "    def __init__(self, width = 28, height= 28, channels = 1):\n",
        "        self.W = width\n",
        "        self.H = height\n",
        "        self.C = channels\n",
        "        self.CAPACITY = width*height*channels\n",
        "        self.SHAPE = (width,height,channels)\n",
        "        \n",
        "        self.Discriminator = self.model()\n",
        "        self.OPTIMIZER = Adam(lr=2e-4, beta_1=0.5,decay=1e-5)\n",
        "        self.Discriminator.compile(loss='mse', optimizer=self.OPTIMIZER, metrics=['accuracy'] )\n",
        "\n",
        "        self.save_model()\n",
        "        self.summary()\n",
        "\n",
        "    def model(self):\n",
        "        input_layer = Input(self.SHAPE)\n",
        "\n",
        "        up_layer_1 = Convolution2D(64, kernel_size=4, strides=2, padding='same',activation=LeakyReLU(alpha=0.2))(input_layer)\n",
        "\n",
        "        up_layer_2 = Convolution2D(64*2, kernel_size=4, strides=2, padding='same',activation=LeakyReLU(alpha=0.2))(up_layer_1)\n",
        "        norm_layer_1 = InstanceNormalization()(up_layer_2)\n",
        "\n",
        "        up_layer_3 = Convolution2D(64*4, kernel_size=4, strides=2, padding='same',activation=LeakyReLU(alpha=0.2))(norm_layer_1)\n",
        "        norm_layer_2 = InstanceNormalization()(up_layer_3)\n",
        "\n",
        "        up_layer_4 = Convolution2D(64*8, kernel_size=4, strides=2, padding='same',activation=LeakyReLU(alpha=0.2))(norm_layer_2)\n",
        "        norm_layer_3 =InstanceNormalization()(up_layer_4)\n",
        "\n",
        "        output_layer = Convolution2D(1, kernel_size=4, strides=1, padding='same')(norm_layer_3)\n",
        "        output_layer_1 = Flatten()(output_layer)\n",
        "        output_layer_2 = Dense(1, activation='sigmoid')(output_layer_1)\n",
        "        \n",
        "        return Model(input_layer,output_layer_2)\n",
        "\n",
        "    def summary(self):\n",
        "        return self.Discriminator.summary()\n",
        "\n",
        "    def save_model(self):\n",
        "        plot_model(self.Discriminator, to_file='/content/gdrive/My Drive/Colab Notebooks/cycleGAN/monet2photo_out/Discriminator_Model.png', show_shapes=True)\n",
        "\n"
      ],
      "execution_count": 3,
      "outputs": []
    },
    {
      "cell_type": "markdown",
      "metadata": {
        "id": "pJmtnFn1tMg3"
      },
      "source": [
        "GAN"
      ]
    },
    {
      "cell_type": "code",
      "metadata": {
        "id": "KXC45gyXtBMv"
      },
      "source": [
        "#!/usr/bin/env python3\n",
        "import sys\n",
        "import numpy as np\n",
        "from keras.models import Sequential, Model\n",
        "from keras.layers import Input\n",
        "from tensorflow.keras.optimizers import Adam, SGD\n",
        "from keras.utils.vis_utils import plot_model\n",
        "\n",
        "class GAN(object):\n",
        "    def __init__(self, model_inputs=[],model_outputs=[],lambda_cycle=10.0,lambda_id=1.0):\n",
        "        self.OPTIMIZER = SGD(lr=2e-4,nesterov=True)\n",
        "\n",
        "        self.inputs = model_inputs\n",
        "        self.outputs = model_outputs\n",
        "        self.gan_model = Model(self.inputs,self.outputs)\n",
        "        self.OPTIMIZER = Adam(lr=2e-4, beta_1=0.5)\n",
        "        self.gan_model.compile(loss=['mse', 'mse',\n",
        "                                    'mae', 'mae',\n",
        "                                    'mae', 'mae'],\n",
        "                            loss_weights=[  1, 1,\n",
        "                                            lambda_cycle, lambda_cycle,\n",
        "                                            lambda_id, lambda_id ],\n",
        "                            optimizer=self.OPTIMIZER)\n",
        "        self.save_model()\n",
        "        self.summary()\n",
        "\n",
        "    def model(self):\n",
        "        model = Model()\n",
        "        return model\n",
        "\n",
        "    def summary(self):\n",
        "        return self.gan_model.summary()\n",
        "\n",
        "    def save_model(self):\n",
        "        plot_model(self.gan_model, to_file='/content/gdrive/My Drive/Colab Notebooks/cycleGAN/monet2photo_out/GAN_Model.png', show_shapes=True)\n"
      ],
      "execution_count": 4,
      "outputs": []
    },
    {
      "cell_type": "markdown",
      "metadata": {
        "id": "PtKfFlRuta48"
      },
      "source": [
        "Trainer\n",
        "\n"
      ]
    },
    {
      "cell_type": "code",
      "metadata": {
        "id": "uVwgNntotUjV"
      },
      "source": [
        "#!/usr/bin/env python3\n",
        "#from gan import GAN\n",
        "#from generator import Generator\n",
        "#from discriminator import Discriminator\n",
        "from keras.layers import Input\n",
        "from keras.datasets import mnist\n",
        "from random import randint\n",
        "import numpy as np\n",
        "import matplotlib.pyplot as plt\n",
        "from copy import deepcopy\n",
        "import os\n",
        "from PIL import Image\n",
        "import numpy as np\n",
        "from tensorflow.keras.models import load_model\n",
        "from keras_contrib.layers.normalization.instancenormalization import InstanceNormalization\n",
        "\n",
        "\n",
        "class Trainer:\n",
        "    def __init__(self, height = 64, width = 64, epochs = 50000, batch = 32, checkpoint = 50, train_data_path_A = '',train_data_path_B = '',test_data_path_A='',test_data_path_B='',lambda_cycle=10.0,lambda_id=1.0):\n",
        "        self.EPOCHS = epochs\n",
        "        self.BATCH = batch\n",
        "        self.RESIZE_HEIGHT = height\n",
        "        self.RESIZE_WIDTH = width\n",
        "        self.CHECKPOINT = checkpoint\n",
        "        \n",
        "        self.X_train_A, self.H_A, self.W_A, self.C_A = self.load_data(train_data_path_A)\n",
        "        self.X_train_B, self.H_B, self.W_B, self.C_B  = self.load_data(train_data_path_B)\n",
        "        self.X_test_A, self.H_A_test, self.W_A_test, self.C_A_test = self.load_data(test_data_path_A)\n",
        "        self.X_test_B, self.H_B_test, self.W_B_test, self.C_B_test  = self.load_data(test_data_path_B)\n",
        "\n",
        "        self.generator_A_to_B = Generator(height=self.H_A, width=self.W_A, channels=self.C_A)\n",
        "        self.generator_B_to_A = Generator(height=self.H_B, width=self.W_B, channels=self.C_B)\n",
        "        #if(self.EPOCHS ==0 and self.BATCH == 1):\n",
        "        print ('loading')\n",
        "        self.generator_A_to_B.Generator = load_model('/content/gdrive/My Drive/Colab Notebooks/cycleGAN/monet2photo_out/generator_A_to_B.h5', custom_objects={'InstanceNormalization':InstanceNormalization})\n",
        "        self.generator_B_to_A.Generator = load_model('/content/gdrive/My Drive/Colab Notebooks/cycleGAN/monet2photo_out/generator_B_to_A.h5', custom_objects={'InstanceNormalization':InstanceNormalization})\n",
        "\n",
        "        self.orig_A = Input(shape=(self.W_A, self.H_A, self.C_A))\n",
        "        self.orig_B = Input(shape=(self.W_B, self.H_B, self.C_B))\n",
        "\n",
        "        self.fake_B = self.generator_A_to_B.Generator(self.orig_A)\n",
        "        self.fake_A = self.generator_B_to_A.Generator(self.orig_B)\n",
        "        self.reconstructed_A = self.generator_B_to_A.Generator(self.fake_B)\n",
        "        self.reconstructed_B = self.generator_A_to_B.Generator(self.fake_A)\n",
        "        self.id_A = self.generator_B_to_A.Generator(self.orig_A)\n",
        "        self.id_B = self.generator_A_to_B.Generator(self.orig_B)\n",
        "        \n",
        "        \n",
        "\n",
        "        self.discriminator_A = Discriminator(height=self.H_A, width=self.W_A, channels=self.C_A)\n",
        "        self.discriminator_B = Discriminator(height=self.H_B, width=self.W_B, channels=self.C_B)\n",
        "        #if(self.EPOCHS ==0 and self.BATCH == 1):\n",
        "        self.discriminator_A.Discriminator = load_model('/content/gdrive/My Drive/Colab Notebooks/cycleGAN/monet2photo_out/discriminator_A.h5', custom_objects={'InstanceNormalization':InstanceNormalization})\n",
        "        self.discriminator_B.Discriminator = load_model('/content/gdrive/My Drive/Colab Notebooks/cycleGAN/monet2photo_out/discriminator_B.h5', custom_objects={'InstanceNormalization':InstanceNormalization})\n",
        "\n",
        "        self.discriminator_A.trainable = False\n",
        "        self.discriminator_B.trainable = False\n",
        "        self.valid_A = self.discriminator_A.Discriminator(self.fake_A)\n",
        "        self.valid_B = self.discriminator_B.Discriminator(self.fake_B)\n",
        "\n",
        "        \n",
        "        model_inputs  = [self.orig_A,self.orig_B]\n",
        "        model_outputs = [self.valid_A, self.valid_B,self.reconstructed_A,self.reconstructed_B,self.id_A, self.id_B]\n",
        "        self.gan = GAN(model_inputs=model_inputs,model_outputs=model_outputs,lambda_cycle=lambda_cycle,lambda_id=lambda_id)\n",
        "        #if(self.EPOCHS ==0 and self.BATCH == 1):\n",
        "        self.gan.GAN = load_model('/content/gdrive/My Drive/Colab Notebooks/cycleGAN/monet2photo_out/gan_model.h5', custom_objects={'InstanceNormalization':InstanceNormalization})\n",
        "\n",
        "    def load_data(self,data_path,amount_of_data = 1.0):\n",
        "        listOFFiles = self.grabListOfFiles(data_path,extension=\"jpg\")\n",
        "        X_train = np.array(self.grabArrayOfImages(listOFFiles))\n",
        "        height, width, channels = np.shape(X_train[0])\n",
        "        X_train = X_train[:int(amount_of_data*float(len(X_train)))]\n",
        "        X_train = (X_train.astype(np.float32) - 127.5)/127.5\n",
        "        X_train = np.expand_dims(X_train, axis=3)\n",
        "        return X_train, height, width, channels\n",
        "\n",
        "    def grabListOfFiles(self,startingDirectory,extension=\".webp\"):\n",
        "        listOfFiles = []\n",
        "        for file in os.listdir(startingDirectory):\n",
        "            if file.endswith(extension):\n",
        "                listOfFiles.append(os.path.join(startingDirectory, file))\n",
        "        return listOfFiles\n",
        "\n",
        "    def grabArrayOfImages(self,listOfFiles,gray=False):\n",
        "        imageArr = []\n",
        "        for f in listOfFiles:\n",
        "            if gray:\n",
        "                im = Image.open(f).convert(\"L\")\n",
        "            else:\n",
        "                im = Image.open(f).convert(\"RGB\")\n",
        "            im = im.resize((self.RESIZE_WIDTH,self.RESIZE_HEIGHT))\n",
        "            imData = np.asarray(im)\n",
        "            imageArr.append(imData)\n",
        "        return imageArr\n",
        "\n",
        "\n",
        "    def train(self):\n",
        "        for e in range(self.EPOCHS):\n",
        "            b = 0\n",
        "            X_train_A_temp = deepcopy(self.X_train_A)\n",
        "            X_train_B_temp = deepcopy(self.X_train_B)\n",
        "        \n",
        "            while min(len(X_train_A_temp),len(X_train_B_temp))>self.BATCH:\n",
        "                # Keep track of Batches\n",
        "                b=b+1\n",
        "\n",
        "                # Train Discriminator\n",
        "                # Grab Real Images for this training batch\n",
        "\n",
        "                count_real_images = int(self.BATCH)\n",
        "                starting_indexs = randint(0, (min(len(X_train_A_temp),len(X_train_B_temp))-count_real_images))\n",
        "                real_images_raw_A = X_train_A_temp[ starting_indexs : (starting_indexs + count_real_images) ]\n",
        "                real_images_raw_B = X_train_B_temp[ starting_indexs : (starting_indexs + count_real_images) ]\n",
        "\n",
        "                # Delete the images used until we have none left\n",
        "                X_train_A_temp = np.delete(X_train_A_temp,range(starting_indexs,(starting_indexs + count_real_images)),0)\n",
        "                X_train_B_temp = np.delete(X_train_B_temp,range(starting_indexs,(starting_indexs + count_real_images)),0)\n",
        "                batch_A = real_images_raw_A.reshape( count_real_images, self.W_A, self.H_A, self.C_A )\n",
        "                batch_B = real_images_raw_B.reshape( count_real_images, self.W_B, self.H_B, self.C_B )\n",
        "\n",
        "                self.discriminator_A.Discriminator.trainable = True\n",
        "                self.discriminator_B.Discriminator.trainable = True\n",
        "                x_batch_A = batch_A\n",
        "                x_batch_B = batch_B\n",
        "                y_batch_A = np.ones([count_real_images,1])\n",
        "                y_batch_B = np.ones([count_real_images,1])\n",
        "                # Now, train the discriminator with this batch of reals\n",
        "                discriminator_loss_A_real = self.discriminator_A.Discriminator.train_on_batch(x_batch_A,y_batch_A)[0]\n",
        "                discriminator_loss_B_real = self.discriminator_B.Discriminator.train_on_batch(x_batch_B,y_batch_B)[0]\n",
        "\n",
        "                x_batch_B = self.generator_A_to_B.Generator.predict(batch_A)\n",
        "                x_batch_A = self.generator_B_to_A.Generator.predict(batch_B)\n",
        "                y_batch_A = np.zeros([self.BATCH,1])\n",
        "                y_batch_B = np.zeros([self.BATCH,1])\n",
        "                # Now, train the discriminator with this batch of fakes\n",
        "                discriminator_loss_A_fake = self.discriminator_A.Discriminator.train_on_batch(x_batch_A,y_batch_A)[0]\n",
        "                discriminator_loss_B_fake = self.discriminator_B.Discriminator.train_on_batch(x_batch_B,y_batch_B)[0]    \n",
        "\n",
        "                self.discriminator_A.Discriminator.trainable = False\n",
        "                self.discriminator_B.Discriminator.trainable = False\n",
        "\n",
        "                discriminator_loss_A = 0.5*(discriminator_loss_A_real+discriminator_loss_A_fake)\n",
        "            \n",
        "                # In practice, flipping the label when training the generator improves convergence\n",
        "                if self.flipCoin(chance=0.9):\n",
        "                    y_generated_labels = np.ones([self.BATCH,1])\n",
        "                else:\n",
        "                    y_generated_labels = np.zeros([self.BATCH,1])\n",
        "                generator_loss = self.gan.gan_model.train_on_batch([x_batch_A, x_batch_B],\n",
        "                                                        [y_generated_labels, y_generated_labels,\n",
        "                                                        x_batch_A, x_batch_B,\n",
        "                                                        x_batch_A, x_batch_B])    \n",
        "\n",
        "                print ('Epoch: '+str(int(e))+' Batch: '+str(int(b))+', [Discriminator_A :: Loss: '+str(discriminator_loss_A)+'], [ Generator :: Loss: '+str(generator_loss)+']')\n",
        "                if b % self.CHECKPOINT == 0 :\n",
        "                    label = str(e)+'_'+str(b)\n",
        "                    self.plot_checkpoint(label)\n",
        "\n",
        "            print ('Epoch: '+str(int(e))+', [Discriminator_A :: Loss: '+str(discriminator_loss_A)+'], [ Generator :: Loss: '+str(generator_loss)+']')\n",
        "                        \n",
        "            #if e % self.CHECKPOINT == 0 :\n",
        "                #self.plot_checkpoint(e)\n",
        "        return\n",
        "\n",
        "    def flipCoin(self,chance=0.5):\n",
        "        return np.random.binomial(1, chance)\n",
        "\n",
        "    def plot_checkpoint(self,b):\n",
        "        orig_filename = \"/content/gdrive/My Drive/Colab Notebooks/cycleGAN/monet2photo_out/batch/batch_check_\"+str(b)+\"_original.png\"\n",
        "\n",
        "        image_A = self.X_test_A[6]\n",
        "        image_A = np.reshape(image_A, [self.W_A_test,self.H_A_test,self.C_A_test])\n",
        "        print(\"Image_A shape: \" +str(np.shape(image_A)))\n",
        "        fake_B = self.generator_A_to_B.Generator.predict(image_A.reshape(1, self.W_A, self.H_A, self.C_A ))\n",
        "        fake_B = np.reshape(fake_B, [self.W_A_test,self.H_A_test,self.C_A_test])\n",
        "        print(\"fake_B shape: \" +str(np.shape(fake_B)))\n",
        "        reconstructed_A = self.generator_B_to_A.Generator.predict(fake_B.reshape(1, self.W_A, self.H_A, self.C_A ))\n",
        "        reconstructed_A = np.reshape(reconstructed_A, [self.W_A_test,self.H_A_test,self.C_A_test])\n",
        "        print(\"reconstructed_A shape: \" +str(np.shape(reconstructed_A)))\n",
        "        # from IPython import embed; embed()\n",
        "\n",
        "        checkpoint_images = np.array([image_A, fake_B, reconstructed_A])\n",
        "\n",
        "        # Rescale images 0 - 1\n",
        "        checkpoint_images = 0.5 * checkpoint_images + 0.5\n",
        "\n",
        "        titles = ['Original', 'Translated', 'Reconstructed']\n",
        "        fig, axes = plt.subplots(1, 3)\n",
        "        for i in range(3):\n",
        "            image = checkpoint_images[i]\n",
        "            image = np.reshape(image, [self.H_A_test,self.W_A_test,self.C_A_test])\n",
        "            axes[i].imshow(image)\n",
        "            axes[i].set_title(titles[i])\n",
        "            axes[i].axis('off')\n",
        "        fig.savefig(\"/content/gdrive/My Drive/Colab Notebooks/cycleGAN/monet2photo_out/batch/batch_check_\"+str(b)+\".png\")\n",
        "        plt.close('all')\n",
        "\n",
        "        self.gan.gan_model.save('/content/gdrive/My Drive/Colab Notebooks/cycleGAN/monet2photo_out/gan_model')\n",
        "        self.generator_A_to_B.Generator.save('/content/gdrive/My Drive/Colab Notebooks/cycleGAN/monet2photo_out/generator_A_to_B')\n",
        "        self.generator_B_to_A.Generator.save('/content/gdrive/My Drive/Colab Notebooks/cycleGAN/monet2photo_out/generator_B_to_A')\n",
        "        self.discriminator_A.Discriminator.save('/content/gdrive/My Drive/Colab Notebooks/cycleGAN/monet2photo_out/discriminator_A')\n",
        "        self.discriminator_B.Discriminator.save('/content/gdrive/My Drive/Colab Notebooks/cycleGAN/monet2photo_out/discriminator_B')\n",
        "\n",
        "\n",
        "        return\n"
      ],
      "execution_count": 5,
      "outputs": []
    },
    {
      "cell_type": "code",
      "metadata": {
        "colab": {
          "base_uri": "https://localhost:8080/"
        },
        "id": "OAFwUzRQtxsW",
        "outputId": "e8aac255-9be1-4b73-c993-750b8e3215f5"
      },
      "source": [
        "#!/usr/bin/env python3\n",
        "#from train import Trainer\n",
        "from google.colab import drive\n",
        "drive.mount('/content/gdrive')\n",
        "\n",
        "# Command Line Argument Method\n",
        "HEIGHT  = 64\n",
        "WIDTH   = 64\n",
        "CHANNEL = 3\n",
        "EPOCHS = 60\n",
        "BATCH = 1\n",
        "CHECKPOINT = 100\n",
        "TRAIN_PATH_A = \"/content/gdrive/My Drive/Colab Notebooks/cycleGAN/monet2photo/trainA/\"\n",
        "TRAIN_PATH_B = \"/content/gdrive/My Drive/Colab Notebooks/cycleGAN/monet2photo/trainB/\"\n",
        "TEST_PATH_A = \"/content/gdrive/My Drive/Colab Notebooks/cycleGAN/monet2photo/testA/\"\n",
        "TEST_PATH_B = \"/content/gdrive/My Drive/Colab Notebooks/cycleGAN/monet2photo/testB/\"\n",
        "\n",
        "trainer = Trainer(height=HEIGHT,width=WIDTH,epochs =EPOCHS,\\\n",
        "                 batch=BATCH,\\\n",
        "                 checkpoint=CHECKPOINT,\\\n",
        "                 train_data_path_A=TRAIN_PATH_A,\\\n",
        "                 train_data_path_B=TRAIN_PATH_B,\\\n",
        "                 test_data_path_A=TEST_PATH_A,\\\n",
        "                 test_data_path_B=TEST_PATH_B,\\\n",
        "                 lambda_cycle=10.0,\\\n",
        "                 lambda_id=1.0)\n",
        "trainer.train()\n",
        "\n"
      ],
      "execution_count": null,
      "outputs": [
        {
          "output_type": "stream",
          "name": "stdout",
          "text": [
            "Mounted at /content/gdrive\n"
          ]
        },
        {
          "output_type": "stream",
          "name": "stderr",
          "text": [
            "/usr/local/lib/python3.7/dist-packages/keras/optimizer_v2/adam.py:105: UserWarning: The `lr` argument is deprecated, use `learning_rate` instead.\n",
            "  super(Adam, self).__init__(name, **kwargs)\n"
          ]
        },
        {
          "output_type": "stream",
          "name": "stdout",
          "text": [
            "Model: \"model\"\n",
            "__________________________________________________________________________________________________\n",
            " Layer (type)                   Output Shape         Param #     Connected to                     \n",
            "==================================================================================================\n",
            " input_1 (InputLayer)           [(None, 64, 64, 3)]  0           []                               \n",
            "                                                                                                  \n",
            " conv2d (Conv2D)                (None, 32, 32, 64)   3136        ['input_1[0][0]']                \n",
            "                                                                                                  \n",
            " instance_normalization (Instan  (None, 32, 32, 64)  2           ['conv2d[0][0]']                 \n",
            " ceNormalization)                                                                                 \n",
            "                                                                                                  \n",
            " conv2d_1 (Conv2D)              (None, 16, 16, 128)  131200      ['instance_normalization[0][0]'] \n",
            "                                                                                                  \n",
            " instance_normalization_1 (Inst  (None, 16, 16, 128)  2          ['conv2d_1[0][0]']               \n",
            " anceNormalization)                                                                               \n",
            "                                                                                                  \n",
            " conv2d_2 (Conv2D)              (None, 8, 8, 256)    524544      ['instance_normalization_1[0][0]'\n",
            "                                                                 ]                                \n",
            "                                                                                                  \n",
            " instance_normalization_2 (Inst  (None, 8, 8, 256)   2           ['conv2d_2[0][0]']               \n",
            " anceNormalization)                                                                               \n",
            "                                                                                                  \n",
            " conv2d_3 (Conv2D)              (None, 4, 4, 512)    2097664     ['instance_normalization_2[0][0]'\n",
            "                                                                 ]                                \n",
            "                                                                                                  \n",
            " instance_normalization_3 (Inst  (None, 4, 4, 512)   2           ['conv2d_3[0][0]']               \n",
            " anceNormalization)                                                                               \n",
            "                                                                                                  \n",
            " up_sampling2d (UpSampling2D)   (None, 8, 8, 512)    0           ['instance_normalization_3[0][0]'\n",
            "                                                                 ]                                \n",
            "                                                                                                  \n",
            " conv2d_4 (Conv2D)              (None, 8, 8, 256)    2097408     ['up_sampling2d[0][0]']          \n",
            "                                                                                                  \n",
            " instance_normalization_4 (Inst  (None, 8, 8, 256)   2           ['conv2d_4[0][0]']               \n",
            " anceNormalization)                                                                               \n",
            "                                                                                                  \n",
            " concatenate (Concatenate)      (None, 8, 8, 512)    0           ['instance_normalization_4[0][0]'\n",
            "                                                                 , 'instance_normalization_2[0][0]\n",
            "                                                                 ']                               \n",
            "                                                                                                  \n",
            " up_sampling2d_1 (UpSampling2D)  (None, 16, 16, 512)  0          ['concatenate[0][0]']            \n",
            "                                                                                                  \n",
            " conv2d_5 (Conv2D)              (None, 16, 16, 128)  1048704     ['up_sampling2d_1[0][0]']        \n",
            "                                                                                                  \n",
            " instance_normalization_5 (Inst  (None, 16, 16, 128)  2          ['conv2d_5[0][0]']               \n",
            " anceNormalization)                                                                               \n",
            "                                                                                                  \n",
            " concatenate_1 (Concatenate)    (None, 16, 16, 256)  0           ['instance_normalization_5[0][0]'\n",
            "                                                                 , 'instance_normalization_1[0][0]\n",
            "                                                                 ']                               \n",
            "                                                                                                  \n",
            " up_sampling2d_2 (UpSampling2D)  (None, 32, 32, 256)  0          ['concatenate_1[0][0]']          \n",
            "                                                                                                  \n",
            " conv2d_6 (Conv2D)              (None, 32, 32, 64)   262208      ['up_sampling2d_2[0][0]']        \n",
            "                                                                                                  \n",
            " instance_normalization_6 (Inst  (None, 32, 32, 64)  2           ['conv2d_6[0][0]']               \n",
            " anceNormalization)                                                                               \n",
            "                                                                                                  \n",
            " concatenate_2 (Concatenate)    (None, 32, 32, 128)  0           ['instance_normalization_6[0][0]'\n",
            "                                                                 , 'instance_normalization[0][0]']\n",
            "                                                                                                  \n",
            " up_sampling2d_3 (UpSampling2D)  (None, 64, 64, 128)  0          ['concatenate_2[0][0]']          \n",
            "                                                                                                  \n",
            " conv2d_7 (Conv2D)              (None, 64, 64, 3)    6147        ['up_sampling2d_3[0][0]']        \n",
            "                                                                                                  \n",
            "==================================================================================================\n",
            "Total params: 6,171,025\n",
            "Trainable params: 6,171,025\n",
            "Non-trainable params: 0\n",
            "__________________________________________________________________________________________________\n",
            "Model: \"model_1\"\n",
            "__________________________________________________________________________________________________\n",
            " Layer (type)                   Output Shape         Param #     Connected to                     \n",
            "==================================================================================================\n",
            " input_2 (InputLayer)           [(None, 64, 64, 3)]  0           []                               \n",
            "                                                                                                  \n",
            " conv2d_8 (Conv2D)              (None, 32, 32, 64)   3136        ['input_2[0][0]']                \n",
            "                                                                                                  \n",
            " instance_normalization_7 (Inst  (None, 32, 32, 64)  2           ['conv2d_8[0][0]']               \n",
            " anceNormalization)                                                                               \n",
            "                                                                                                  \n",
            " conv2d_9 (Conv2D)              (None, 16, 16, 128)  131200      ['instance_normalization_7[0][0]'\n",
            "                                                                 ]                                \n",
            "                                                                                                  \n",
            " instance_normalization_8 (Inst  (None, 16, 16, 128)  2          ['conv2d_9[0][0]']               \n",
            " anceNormalization)                                                                               \n",
            "                                                                                                  \n",
            " conv2d_10 (Conv2D)             (None, 8, 8, 256)    524544      ['instance_normalization_8[0][0]'\n",
            "                                                                 ]                                \n",
            "                                                                                                  \n",
            " instance_normalization_9 (Inst  (None, 8, 8, 256)   2           ['conv2d_10[0][0]']              \n",
            " anceNormalization)                                                                               \n",
            "                                                                                                  \n",
            " conv2d_11 (Conv2D)             (None, 4, 4, 512)    2097664     ['instance_normalization_9[0][0]'\n",
            "                                                                 ]                                \n",
            "                                                                                                  \n",
            " instance_normalization_10 (Ins  (None, 4, 4, 512)   2           ['conv2d_11[0][0]']              \n",
            " tanceNormalization)                                                                              \n",
            "                                                                                                  \n",
            " up_sampling2d_4 (UpSampling2D)  (None, 8, 8, 512)   0           ['instance_normalization_10[0][0]\n",
            "                                                                 ']                               \n",
            "                                                                                                  \n",
            " conv2d_12 (Conv2D)             (None, 8, 8, 256)    2097408     ['up_sampling2d_4[0][0]']        \n",
            "                                                                                                  \n",
            " instance_normalization_11 (Ins  (None, 8, 8, 256)   2           ['conv2d_12[0][0]']              \n",
            " tanceNormalization)                                                                              \n",
            "                                                                                                  \n",
            " concatenate_3 (Concatenate)    (None, 8, 8, 512)    0           ['instance_normalization_11[0][0]\n",
            "                                                                 ',                               \n",
            "                                                                  'instance_normalization_9[0][0]'\n",
            "                                                                 ]                                \n",
            "                                                                                                  \n",
            " up_sampling2d_5 (UpSampling2D)  (None, 16, 16, 512)  0          ['concatenate_3[0][0]']          \n",
            "                                                                                                  \n",
            " conv2d_13 (Conv2D)             (None, 16, 16, 128)  1048704     ['up_sampling2d_5[0][0]']        \n",
            "                                                                                                  \n",
            " instance_normalization_12 (Ins  (None, 16, 16, 128)  2          ['conv2d_13[0][0]']              \n",
            " tanceNormalization)                                                                              \n",
            "                                                                                                  \n",
            " concatenate_4 (Concatenate)    (None, 16, 16, 256)  0           ['instance_normalization_12[0][0]\n",
            "                                                                 ',                               \n",
            "                                                                  'instance_normalization_8[0][0]'\n",
            "                                                                 ]                                \n",
            "                                                                                                  \n",
            " up_sampling2d_6 (UpSampling2D)  (None, 32, 32, 256)  0          ['concatenate_4[0][0]']          \n",
            "                                                                                                  \n",
            " conv2d_14 (Conv2D)             (None, 32, 32, 64)   262208      ['up_sampling2d_6[0][0]']        \n",
            "                                                                                                  \n",
            " instance_normalization_13 (Ins  (None, 32, 32, 64)  2           ['conv2d_14[0][0]']              \n",
            " tanceNormalization)                                                                              \n",
            "                                                                                                  \n",
            " concatenate_5 (Concatenate)    (None, 32, 32, 128)  0           ['instance_normalization_13[0][0]\n",
            "                                                                 ',                               \n",
            "                                                                  'instance_normalization_7[0][0]'\n",
            "                                                                 ]                                \n",
            "                                                                                                  \n",
            " up_sampling2d_7 (UpSampling2D)  (None, 64, 64, 128)  0          ['concatenate_5[0][0]']          \n",
            "                                                                                                  \n",
            " conv2d_15 (Conv2D)             (None, 64, 64, 3)    6147        ['up_sampling2d_7[0][0]']        \n",
            "                                                                                                  \n",
            "==================================================================================================\n",
            "Total params: 6,171,025\n",
            "Trainable params: 6,171,025\n",
            "Non-trainable params: 0\n",
            "__________________________________________________________________________________________________\n",
            "loading\n",
            "Model: \"model_2\"\n",
            "_________________________________________________________________\n",
            " Layer (type)                Output Shape              Param #   \n",
            "=================================================================\n",
            " input_5 (InputLayer)        [(None, 64, 64, 3)]       0         \n",
            "                                                                 \n",
            " conv2d_16 (Conv2D)          (None, 32, 32, 64)        3136      \n",
            "                                                                 \n",
            " conv2d_17 (Conv2D)          (None, 16, 16, 128)       131200    \n",
            "                                                                 \n",
            " instance_normalization_14 (  (None, 16, 16, 128)      2         \n",
            " InstanceNormalization)                                          \n",
            "                                                                 \n",
            " conv2d_18 (Conv2D)          (None, 8, 8, 256)         524544    \n",
            "                                                                 \n",
            " instance_normalization_15 (  (None, 8, 8, 256)        2         \n",
            " InstanceNormalization)                                          \n",
            "                                                                 \n",
            " conv2d_19 (Conv2D)          (None, 4, 4, 512)         2097664   \n",
            "                                                                 \n",
            " instance_normalization_16 (  (None, 4, 4, 512)        2         \n",
            " InstanceNormalization)                                          \n",
            "                                                                 \n",
            " conv2d_20 (Conv2D)          (None, 4, 4, 1)           8193      \n",
            "                                                                 \n",
            " flatten (Flatten)           (None, 16)                0         \n",
            "                                                                 \n",
            " dense (Dense)               (None, 1)                 17        \n",
            "                                                                 \n",
            "=================================================================\n",
            "Total params: 2,764,760\n",
            "Trainable params: 2,764,760\n",
            "Non-trainable params: 0\n",
            "_________________________________________________________________\n",
            "Model: \"model_3\"\n",
            "_________________________________________________________________\n",
            " Layer (type)                Output Shape              Param #   \n",
            "=================================================================\n",
            " input_6 (InputLayer)        [(None, 64, 64, 3)]       0         \n",
            "                                                                 \n",
            " conv2d_21 (Conv2D)          (None, 32, 32, 64)        3136      \n",
            "                                                                 \n",
            " conv2d_22 (Conv2D)          (None, 16, 16, 128)       131200    \n",
            "                                                                 \n",
            " instance_normalization_17 (  (None, 16, 16, 128)      2         \n",
            " InstanceNormalization)                                          \n",
            "                                                                 \n",
            " conv2d_23 (Conv2D)          (None, 8, 8, 256)         524544    \n",
            "                                                                 \n",
            " instance_normalization_18 (  (None, 8, 8, 256)        2         \n",
            " InstanceNormalization)                                          \n",
            "                                                                 \n",
            " conv2d_24 (Conv2D)          (None, 4, 4, 512)         2097664   \n",
            "                                                                 \n",
            " instance_normalization_19 (  (None, 4, 4, 512)        2         \n",
            " InstanceNormalization)                                          \n",
            "                                                                 \n",
            " conv2d_25 (Conv2D)          (None, 4, 4, 1)           8193      \n",
            "                                                                 \n",
            " flatten_1 (Flatten)         (None, 16)                0         \n",
            "                                                                 \n",
            " dense_1 (Dense)             (None, 1)                 17        \n",
            "                                                                 \n",
            "=================================================================\n",
            "Total params: 2,764,760\n",
            "Trainable params: 2,764,760\n",
            "Non-trainable params: 0\n",
            "_________________________________________________________________\n"
          ]
        },
        {
          "output_type": "stream",
          "name": "stderr",
          "text": [
            "/usr/local/lib/python3.7/dist-packages/keras/optimizer_v2/gradient_descent.py:102: UserWarning: The `lr` argument is deprecated, use `learning_rate` instead.\n",
            "  super(SGD, self).__init__(name, **kwargs)\n"
          ]
        },
        {
          "output_type": "stream",
          "name": "stdout",
          "text": [
            "Model: \"model_4\"\n",
            "__________________________________________________________________________________________________\n",
            " Layer (type)                   Output Shape         Param #     Connected to                     \n",
            "==================================================================================================\n",
            " input_4 (InputLayer)           [(None, 64, 64, 3)]  0           []                               \n",
            "                                                                                                  \n",
            " input_3 (InputLayer)           [(None, 64, 64, 3)]  0           []                               \n",
            "                                                                                                  \n",
            " model_1 (Functional)           (None, 64, 64, 3)    6171025     ['input_4[0][0]',                \n",
            "                                                                  'model[0][0]',                  \n",
            "                                                                  'input_3[0][0]']                \n",
            "                                                                                                  \n",
            " model (Functional)             (None, 64, 64, 3)    6171025     ['input_3[0][0]',                \n",
            "                                                                  'model_1[0][0]',                \n",
            "                                                                  'input_4[0][0]']                \n",
            "                                                                                                  \n",
            " model_2 (Functional)           (None, 1)            2764760     ['model_1[0][0]']                \n",
            "                                                                                                  \n",
            " model_3 (Functional)           (None, 1)            2764760     ['model[0][0]']                  \n",
            "                                                                                                  \n",
            "==================================================================================================\n",
            "Total params: 17,871,570\n",
            "Trainable params: 12,342,050\n",
            "Non-trainable params: 5,529,520\n",
            "__________________________________________________________________________________________________\n",
            "Epoch: 0 Batch: 1, [Discriminator_A :: Loss: 0.00146525603486225], [ Generator :: Loss: [1.1004070043563843, 0.001432669349014759, 0.0, 0.045303985476493835, 0.04850814491510391, 0.0827980786561966, 0.0780550092458725]]\n",
            "Epoch: 0 Batch: 2, [Discriminator_A :: Loss: 0.009190829172439408], [ Generator :: Loss: [1.1657354831695557, 0.00013120609219186008, 0.0, 0.05065573751926422, 0.051036346703767776, 0.07979513704776764, 0.06888838112354279]]\n",
            "Epoch: 0 Batch: 3, [Discriminator_A :: Loss: 0.16980891092680395], [ Generator :: Loss: [0.8041055202484131, 0.0019021056359633803, 0.0, 0.027086403220891953, 0.04286249727010727, 0.0459110327064991, 0.05680341646075249]]\n",
            "Epoch: 0 Batch: 4, [Discriminator_A :: Loss: 0.0014257403586270812], [ Generator :: Loss: [0.8762706518173218, 0.0005790390423499048, 0.0, 0.04097864776849747, 0.033697426319122314, 0.07812023907899857, 0.05081065371632576]]\n",
            "Epoch: 0 Batch: 5, [Discriminator_A :: Loss: 0.01829874546820065], [ Generator :: Loss: [0.8554133176803589, 0.00011820181680377573, 0.0, 0.03597310185432434, 0.038784727454185486, 0.06546817719936371, 0.04224862530827522]]\n",
            "Epoch: 0 Batch: 6, [Discriminator_A :: Loss: 0.5761300921440125], [ Generator :: Loss: [0.8395872712135315, 0.01694663055241108, 0.0, 0.03178257495164871, 0.04103749617934227, 0.05329786613583565, 0.04114207997918129]]\n",
            "Epoch: 0 Batch: 7, [Discriminator_A :: Loss: 0.2077497998616309], [ Generator :: Loss: [0.6358577013015747, 3.106004078290425e-05, 0.0, 0.025832243263721466, 0.02877293899655342, 0.052949633449316025, 0.03682520613074303]]\n",
            "Epoch: 0 Batch: 8, [Discriminator_A :: Loss: 0.10206286609172821], [ Generator :: Loss: [0.8475541472434998, 0.006395344156771898, 0.0, 0.03413507342338562, 0.03929194435477257, 0.062346722930669785, 0.04454190284013748]]\n",
            "Epoch: 0 Batch: 9, [Discriminator_A :: Loss: 0.24182932398980483], [ Generator :: Loss: [0.8135248422622681, 2.0558292817440815e-05, 0.0, 0.0367184653878212, 0.03305962309241295, 0.07322730123996735, 0.04249608516693115]]\n",
            "Epoch: 0 Batch: 10, [Discriminator_A :: Loss: 0.4808812676346861], [ Generator :: Loss: [0.9438056349754333, 0.0006750592729076743, 0.0, 0.04025398567318916, 0.04244221746921539, 0.05392782390117645, 0.06224070489406586]]\n",
            "Epoch: 0 Batch: 11, [Discriminator_A :: Loss: 0.0023552800994366407], [ Generator :: Loss: [0.9286085367202759, 0.002391706220805645, 0.0, 0.041403885930776596, 0.037855200469493866, 0.07781225442886353, 0.05581367015838623]]\n",
            "Epoch: 0 Batch: 12, [Discriminator_A :: Loss: 0.034110281616449356], [ Generator :: Loss: [0.8060305118560791, 0.0023127724416553974, 0.0, 0.04122753068804741, 0.02636273391544819, 0.08352162688970566, 0.044293444603681564]]\n",
            "Epoch: 0 Batch: 13, [Discriminator_A :: Loss: 0.47373664379119873], [ Generator :: Loss: [0.8712507486343384, 0.0013766279444098473, 0.0, 0.04035244137048721, 0.035633593797683716, 0.05891838297247887, 0.0510953851044178]]\n",
            "Epoch: 0 Batch: 14, [Discriminator_A :: Loss: 0.022457386105088517], [ Generator :: Loss: [1.0574450492858887, 0.0005430257297120988, 0.0, 0.05596429482102394, 0.03655198961496353, 0.07401961088180542, 0.057719554752111435]]\n",
            "Epoch: 0 Batch: 15, [Discriminator_A :: Loss: 0.045480310218408704], [ Generator :: Loss: [1.0114338397979736, 0.0020715936552733183, 0.0, 0.049652840942144394, 0.03857048600912094, 0.09397668391466141, 0.0331522598862648]]\n",
            "Epoch: 0 Batch: 16, [Discriminator_A :: Loss: 0.37639582120027626], [ Generator :: Loss: [0.7060569524765015, 0.00011169318167958409, 0.0, 0.024440651759505272, 0.03843188285827637, 0.03764806315302849, 0.0395718589425087]]\n",
            "Epoch: 0 Batch: 17, [Discriminator_A :: Loss: 0.2873042735736817], [ Generator :: Loss: [0.7874088287353516, 0.0008977430406957865, 0.0, 0.036567509174346924, 0.03220964968204498, 0.060664039105176926, 0.03807544708251953]]\n",
            "Epoch: 0 Batch: 18, [Discriminator_A :: Loss: 0.0017911175964400172], [ Generator :: Loss: [1.0081151723861694, 0.0007373995031230152, 0.0, 0.048416826874017715, 0.04056549072265625, 0.06798812001943588, 0.049566470086574554]]\n",
            "Epoch: 0 Batch: 19, [Discriminator_A :: Loss: 0.0384321422316134], [ Generator :: Loss: [1.2429784536361694, 0.00036538211861625314, 0.0, 0.06982731819152832, 0.03854350000619888, 0.10149122029542923, 0.05741368979215622]]\n",
            "Epoch: 0 Batch: 20, [Discriminator_A :: Loss: 0.02015160070732236], [ Generator :: Loss: [0.9829373955726624, 0.0014043123228475451, 0.0, 0.04697856307029724, 0.04040074348449707, 0.061690013855695724, 0.0460500493645668]]\n",
            "Epoch: 0 Batch: 21, [Discriminator_A :: Loss: 0.012100694148102775], [ Generator :: Loss: [1.1827311515808105, 0.0012682646047323942, 0.0, 0.056410759687423706, 0.04754209145903587, 0.08486422896385193, 0.057070184499025345]]\n",
            "Epoch: 0 Batch: 22, [Discriminator_A :: Loss: 0.0006263840186875314], [ Generator :: Loss: [0.9622666835784912, 0.00047119896044023335, 0.0, 0.05015599727630615, 0.03241999074816704, 0.09518787264823914, 0.040847670286893845]]\n",
            "Epoch: 0 Batch: 23, [Discriminator_A :: Loss: 0.45146928483154625], [ Generator :: Loss: [1.0007628202438354, 0.0008997551049105823, 0.0, 0.029524952173233032, 0.05787769332528114, 0.038687437772750854, 0.08714919537305832]]\n",
            "Epoch: 0 Batch: 24, [Discriminator_A :: Loss: 0.02144122717436403], [ Generator :: Loss: [1.0690759420394897, 0.000540558947250247, 0.0, 0.05019311606884003, 0.04538636654615402, 0.06525834649801254, 0.04748217388987541]]\n",
            "Epoch: 0 Batch: 25, [Discriminator_A :: Loss: 0.4223148646997288], [ Generator :: Loss: [0.8789865374565125, 0.002705405931919813, 0.0, 0.03178529813885689, 0.04296083375811577, 0.055897168815135956, 0.07292263209819794]]\n",
            "Epoch: 0 Batch: 26, [Discriminator_A :: Loss: 0.35068866959773004], [ Generator :: Loss: [0.9139597415924072, 0.0008404702530242503, 0.0, 0.03872749209403992, 0.04094089940190315, 0.05574344843626022, 0.06069190427660942]]\n",
            "Epoch: 0 Batch: 27, [Discriminator_A :: Loss: 0.001320995856076479], [ Generator :: Loss: [0.8742375373840332, 0.0003221617953386158, 0.0, 0.0392751544713974, 0.034651417285203934, 0.0799972414970398, 0.0546523854136467]]\n",
            "Epoch: 0 Batch: 28, [Discriminator_A :: Loss: 0.015595353441312909], [ Generator :: Loss: [0.9534550905227661, 0.022109633311629295, 0.0, 0.03169954940676689, 0.04688079282641411, 0.06644235551357269, 0.07909965515136719]]\n",
            "Epoch: 0 Batch: 29, [Discriminator_A :: Loss: 0.23517083899059799], [ Generator :: Loss: [0.84100741147995, 0.0005675193970091641, 0.0, 0.03201980143785477, 0.038399968296289444, 0.06808468699455261, 0.06815756112337112]]\n",
            "Epoch: 0 Batch: 30, [Discriminator_A :: Loss: 0.0028932283603353426], [ Generator :: Loss: [0.8384370803833008, 0.00010782917524920776, 0.0, 0.037602443248033524, 0.03262048587203026, 0.07844097912311554, 0.05765901505947113]]\n",
            "Epoch: 0 Batch: 31, [Discriminator_A :: Loss: 0.4594655258988496], [ Generator :: Loss: [0.7277682423591614, 0.00019053118012379855, 0.0, 0.037354595959186554, 0.025151584297418594, 0.05179031938314438, 0.05072562023997307]]\n",
            "Epoch: 0 Batch: 32, [Discriminator_A :: Loss: 0.02731438232876826], [ Generator :: Loss: [2.8423070907592773, 0.9632454514503479, 1.0, 0.03952641412615776, 0.036207444965839386, 0.07239994406700134, 0.049322955310344696]]\n",
            "Epoch: 0 Batch: 33, [Discriminator_A :: Loss: 0.008236943278461695], [ Generator :: Loss: [2.7232017517089844, 0.9348796606063843, 1.0, 0.03573198616504669, 0.03202354907989502, 0.06515201181173325, 0.0456148125231266]]\n",
            "Epoch: 0 Batch: 34, [Discriminator_A :: Loss: 0.47739296057261527], [ Generator :: Loss: [0.7763452529907227, 0.0012405007146298885, 0.0, 0.022693008184432983, 0.044130388647317886, 0.042088672518730164, 0.06478213518857956]]\n",
            "Epoch: 0 Batch: 35, [Discriminator_A :: Loss: 0.15807473490713164], [ Generator :: Loss: [0.8239927291870117, 0.0007604965358041227, 0.0, 0.03937238082289696, 0.032438911497592926, 0.05175330117344856, 0.05336599424481392]]\n",
            "Epoch: 0 Batch: 36, [Discriminator_A :: Loss: 0.21604569599730894], [ Generator :: Loss: [0.7356314659118652, 0.0010767759522423148, 0.0, 0.029413102194666862, 0.03235352039337158, 0.059192854911088943, 0.05769560486078262]]\n",
            "Epoch: 0 Batch: 37, [Discriminator_A :: Loss: 0.4729265453061089], [ Generator :: Loss: [0.7968064546585083, 0.0010424889624118805, 0.0, 0.029783012345433235, 0.039432961493730545, 0.04142940416932106, 0.062174804508686066]]\n",
            "Epoch: 0 Batch: 38, [Discriminator_A :: Loss: 0.20268523163395002], [ Generator :: Loss: [0.8961172699928284, 0.003244440071284771, 0.0, 0.03550447151064873, 0.041214533150196075, 0.05971607193350792, 0.06596667319536209]]\n",
            "Epoch: 0 Batch: 39, [Discriminator_A :: Loss: 0.2884393581189215], [ Generator :: Loss: [0.7665277719497681, 0.002511637518182397, 0.0, 0.023618802428245544, 0.041667766869068146, 0.03710104152560234, 0.07404942065477371]]\n",
            "Epoch: 0 Batch: 40, [Discriminator_A :: Loss: 0.0013923407532274723], [ Generator :: Loss: [0.9502145051956177, 0.0005517890676856041, 0.0, 0.048332564532756805, 0.03293868899345398, 0.08366216719150543, 0.05328802391886711]]\n",
            "Epoch: 0 Batch: 41, [Discriminator_A :: Loss: 0.16018620753311552], [ Generator :: Loss: [0.7189377546310425, 0.0001188897222164087, 0.0, 0.036683596670627594, 0.023866653442382812, 0.07334411889314651, 0.03997224569320679]]\n",
            "Epoch: 0 Batch: 42, [Discriminator_A :: Loss: 0.4727664346282836], [ Generator :: Loss: [0.6308325529098511, 0.00014735297008883208, 0.0, 0.02373838610947132, 0.031045956537127495, 0.03592794016003609, 0.04691385105252266]]\n",
            "Epoch: 0 Batch: 43, [Discriminator_A :: Loss: 0.6046637296676636], [ Generator :: Loss: [1.157474160194397, 0.0013276792597025633, 0.0, 0.051507618278265, 0.04972346872091293, 0.07855981588363647, 0.06527577340602875]]\n",
            "Epoch: 0 Batch: 44, [Discriminator_A :: Loss: 0.16011307016015053], [ Generator :: Loss: [1.130212426185608, 0.0005166282062418759, 0.0, 0.04001886025071144, 0.06199214980006218, 0.07065513730049133, 0.038930587470531464]]\n",
            "Epoch: 0 Batch: 45, [Discriminator_A :: Loss: 0.009493212506640702], [ Generator :: Loss: [1.0256179571151733, 0.0042451778426766396, 0.0, 0.0408228300511837, 0.044398605823516846, 0.0934978500008583, 0.07566056400537491]]\n",
            "Epoch: 0 Batch: 46, [Discriminator_A :: Loss: 0.1805843011388788], [ Generator :: Loss: [0.7750382423400879, 0.00014569210179615766, 0.0, 0.03339754790067673, 0.032218072563409805, 0.06245780363678932, 0.05627856403589249]]\n",
            "Epoch: 0 Batch: 47, [Discriminator_A :: Loss: 0.22530572419054806], [ Generator :: Loss: [0.974963903427124, 0.003940777387470007, 0.0, 0.03976869210600853, 0.04378757253289223, 0.06270945072174072, 0.07275103032588959]]\n",
            "Epoch: 0 Batch: 48, [Discriminator_A :: Loss: 0.46622832243156154], [ Generator :: Loss: [0.897254228591919, 0.00014234596164897084, 0.0, 0.03249627724289894, 0.046044137328863144, 0.04097467660903931, 0.07073305547237396]]\n",
            "Epoch: 0 Batch: 49, [Discriminator_A :: Loss: 0.007446481613442302], [ Generator :: Loss: [0.8149480819702148, 0.0005903586279600859, 0.0, 0.042217403650283813, 0.02756468951702118, 0.07757518440485, 0.03896163031458855]]\n",
            "Epoch: 0 Batch: 50, [Discriminator_A :: Loss: 0.456782802939415], [ Generator :: Loss: [0.8027480840682983, 0.0010798448929563165, 0.0, 0.030955275520682335, 0.03828057646751404, 0.05929560959339142, 0.05001411959528923]]\n",
            "Epoch: 0 Batch: 51, [Discriminator_A :: Loss: 0.4275209379848093], [ Generator :: Loss: [0.855548620223999, 0.00019968375272583216, 0.0, 0.03032657504081726, 0.0434214286506176, 0.05006730183959007, 0.06780160218477249]]\n",
            "Epoch: 0 Batch: 52, [Discriminator_A :: Loss: 0.19682974950410426], [ Generator :: Loss: [1.0182523727416992, 0.0014880301896482706, 0.0, 0.05473504960536957, 0.03661104664206505, 0.06725283712148666, 0.0360504612326622]]\n",
            "Epoch: 0 Batch: 53, [Discriminator_A :: Loss: 0.42637907432799693], [ Generator :: Loss: [0.8373078107833862, 0.00038995887734927237, 0.0, 0.03225577250123024, 0.04187912121415138, 0.055604685097932816, 0.03996424749493599]]\n",
            "Epoch: 0 Batch: 54, [Discriminator_A :: Loss: 0.19848450645804405], [ Generator :: Loss: [1.1240298748016357, 0.0009919072035700083, 0.0, 0.044705793261528015, 0.05369178578257561, 0.07488210499286652, 0.06418008357286453]]\n",
            "Epoch: 0 Batch: 55, [Discriminator_A :: Loss: 0.26906813311506994], [ Generator :: Loss: [0.9646303653717041, 0.00013455488078761846, 0.0, 0.04163763299584389, 0.04178186506032944, 0.0730026438832283, 0.057298269122838974]]\n",
            "Epoch: 0 Batch: 56, [Discriminator_A :: Loss: 0.04553156816109549], [ Generator :: Loss: [0.7378523349761963, 0.00044181765406392515, 0.0, 0.02893686667084694, 0.03485342487692833, 0.051508404314517975, 0.04799923300743103]]\n",
            "Epoch: 0 Batch: 57, [Discriminator_A :: Loss: 0.016591111256275326], [ Generator :: Loss: [0.9376920461654663, 0.015787020325660706, 0.0, 0.04445067420601845, 0.0341961607336998, 0.08536428213119507, 0.05007241666316986]]\n",
            "Epoch: 0 Batch: 58, [Discriminator_A :: Loss: 0.000997738869045861], [ Generator :: Loss: [2.809577226638794, 0.9672151803970337, 1.0, 0.03522646427154541, 0.03662467002868652, 0.06384341418743134, 0.060007281601428986]]\n",
            "Epoch: 0 Batch: 59, [Discriminator_A :: Loss: 0.003732603130629286], [ Generator :: Loss: [0.7702800035476685, 0.0007061276119202375, 0.0, 0.038371071219444275, 0.028238363564014435, 0.060435838997364044, 0.04304364696145058]]\n",
            "Epoch: 0 Batch: 60, [Discriminator_A :: Loss: 0.1342352633801056], [ Generator :: Loss: [0.8947457671165466, 0.0006388553301803768, 0.0, 0.03758149594068527, 0.04100561887025833, 0.04519624263048172, 0.06303953379392624]]\n",
            "Epoch: 0 Batch: 61, [Discriminator_A :: Loss: 0.0009048748761415482], [ Generator :: Loss: [0.838139533996582, 0.001344385091215372, 0.0, 0.041420478373765945, 0.03164045140147209, 0.06715772300958633, 0.039028119295835495]]\n",
            "Epoch: 0 Batch: 62, [Discriminator_A :: Loss: 0.01303364333580248], [ Generator :: Loss: [0.8823878765106201, 0.00023212359519675374, 0.0, 0.04321509227156639, 0.03233153373003006, 0.07870718836784363, 0.04798229783773422]]\n",
            "Epoch: 0 Batch: 63, [Discriminator_A :: Loss: 0.03169795300345868], [ Generator :: Loss: [0.9299787282943726, 9.024710743688047e-05, 0.0, 0.039175741374492645, 0.041736848652362823, 0.06251583248376846, 0.05824674293398857]]\n",
            "Epoch: 0 Batch: 64, [Discriminator_A :: Loss: 0.4222498670569621], [ Generator :: Loss: [0.8636491298675537, 0.0003511316899675876, 0.0, 0.03480086103081703, 0.040698159486055374, 0.05231095105409622, 0.05599680542945862]]\n",
            "Epoch: 0 Batch: 65, [Discriminator_A :: Loss: 0.2723991380771622], [ Generator :: Loss: [0.8962974548339844, 0.006229054182767868, 0.0, 0.040956202894449234, 0.03674549609422684, 0.06600672006607056, 0.04704476147890091]]\n",
            "Epoch: 0 Batch: 66, [Discriminator_A :: Loss: 0.19510160546633415], [ Generator :: Loss: [0.8404694199562073, 0.00029706102213822305, 0.0, 0.036152273416519165, 0.03759888559579849, 0.053323086351156235, 0.049337707459926605]]\n",
            "Epoch: 0 Batch: 67, [Discriminator_A :: Loss: 0.05710597927100025], [ Generator :: Loss: [0.8773318529129028, 0.0013253260403871536, 0.0, 0.03359648585319519, 0.041805945336818695, 0.06340490281581879, 0.05857730656862259]]\n",
            "Epoch: 0 Batch: 68, [Discriminator_A :: Loss: 0.18314601104066242], [ Generator :: Loss: [0.8774874210357666, 0.0003281807294115424, 0.0, 0.033307693898677826, 0.04322223365306854, 0.05327211692929268, 0.058587852865457535]]\n",
            "Epoch: 0 Batch: 69, [Discriminator_A :: Loss: 0.15747121151071042], [ Generator :: Loss: [0.7259109020233154, 0.000469557213364169, 0.0, 0.027215244248509407, 0.036083512008190155, 0.0474238246679306, 0.04502987861633301]]\n",
            "Epoch: 0 Batch: 70, [Discriminator_A :: Loss: 0.007172064753831364], [ Generator :: Loss: [0.9012818336486816, 0.00018733274191617966, 0.0, 0.03929727524518967, 0.03776344656944275, 0.06600593030452728, 0.06448129564523697]]\n",
            "Epoch: 0 Batch: 71, [Discriminator_A :: Loss: 0.4325177127320785], [ Generator :: Loss: [0.9772046804428101, 0.00203390559181571, 0.0, 0.03759879246354103, 0.04805212467908859, 0.052933529019355774, 0.06572804600000381]]\n",
            "Epoch: 0 Batch: 72, [Discriminator_A :: Loss: 0.0004257250839145854], [ Generator :: Loss: [0.9213782548904419, 0.0007908741245046258, 0.0, 0.03708304464817047, 0.04231295362114906, 0.06874895840883255, 0.05787844583392143]]\n",
            "Epoch: 0 Batch: 73, [Discriminator_A :: Loss: 0.02424333686940372], [ Generator :: Loss: [1.0901141166687012, 0.0011706113582476974, 0.0, 0.06308471411466599, 0.0332048125565052, 0.07388944923877716, 0.05215883255004883]]\n",
            "Epoch: 0 Batch: 74, [Discriminator_A :: Loss: 0.0012764431157847866], [ Generator :: Loss: [0.9860420823097229, 0.00016762848827056587, 0.0, 0.04865691438317299, 0.037179313600063324, 0.07582760602235794, 0.05168456956744194]]\n",
            "Epoch: 0 Batch: 75, [Discriminator_A :: Loss: 0.025704432278871536], [ Generator :: Loss: [0.9407598376274109, 0.0019082246581092477, 0.0, 0.035514749586582184, 0.044103607535362244, 0.07099194079637527, 0.0716760978102684]]\n",
            "Epoch: 0 Batch: 76, [Discriminator_A :: Loss: 0.4949969213921577], [ Generator :: Loss: [0.7213878631591797, 0.0009036283008754253, 0.0, 0.025188850238919258, 0.03638423606753349, 0.03414440527558327, 0.0706089586019516]]\n",
            "Epoch: 0 Batch: 77, [Discriminator_A :: Loss: 0.2360646454617381], [ Generator :: Loss: [0.8239933252334595, 0.00029534788336604834, 0.0, 0.03455880656838417, 0.03779102861881256, 0.05266907811164856, 0.04753056913614273]]\n",
            "Epoch: 0 Batch: 78, [Discriminator_A :: Loss: 0.6441008001565933], [ Generator :: Loss: [0.8414816856384277, 0.08001799881458282, 0.0, 0.029525484889745712, 0.03651224076747894, 0.04732796922326088, 0.05375850573182106]]\n",
            "Epoch: 0 Batch: 79, [Discriminator_A :: Loss: 0.05080474098213017], [ Generator :: Loss: [1.1068739891052246, 0.0001530004374217242, 0.0, 0.05309838056564331, 0.04134416580200195, 0.10147111117839813, 0.06082446128129959]]\n",
            "Epoch: 0 Batch: 80, [Discriminator_A :: Loss: 0.002069241330900695], [ Generator :: Loss: [2.997373580932617, 0.9735407829284668, 1.0, 0.04540400579571724, 0.0435744933784008, 0.06591685861349106, 0.06813092529773712]]\n",
            "Epoch: 0 Batch: 81, [Discriminator_A :: Loss: 0.3840684606693685], [ Generator :: Loss: [0.729387640953064, 0.0012068572686985135, 0.0, 0.025980917736887932, 0.03615230321884155, 0.05098020285367966, 0.05586838349699974]]\n",
            "Epoch: 0 Batch: 82, [Discriminator_A :: Loss: 0.0784029335482046], [ Generator :: Loss: [0.8583520650863647, 0.0009129153331741691, 0.0, 0.037550341337919235, 0.03712139278650284, 0.07046987116336823, 0.040251992642879486]]\n",
            "Epoch: 0 Batch: 83, [Discriminator_A :: Loss: 0.059418803662993014], [ Generator :: Loss: [0.856853187084198, 0.0007571995374746621, 0.0, 0.04286608099937439, 0.031291697174310684, 0.06574322283267975, 0.04877500981092453]]\n",
            "Epoch: 0 Batch: 84, [Discriminator_A :: Loss: 0.00513906724518165], [ Generator :: Loss: [0.904687762260437, 0.007028718013316393, 0.0, 0.0512540303170681, 0.025974780321121216, 0.09470999985933304, 0.030660949647426605]]\n",
            "Epoch: 0 Batch: 85, [Discriminator_A :: Loss: 0.0013231135089881718], [ Generator :: Loss: [0.9414575099945068, 0.00042356803896836936, 0.0, 0.0452238991856575, 0.03440035879611969, 0.09149147570133209, 0.05329990014433861]]\n",
            "Epoch: 0 Batch: 86, [Discriminator_A :: Loss: 0.002639072234160267], [ Generator :: Loss: [0.9461153745651245, 0.000605850771535188, 0.0, 0.04132011905312538, 0.04037335515022278, 0.06333359330892563, 0.06524123251438141]]\n",
            "Epoch: 0 Batch: 87, [Discriminator_A :: Loss: 0.0028607845888473094], [ Generator :: Loss: [0.9095802307128906, 0.0005368044367060065, 0.0, 0.03715774789452553, 0.03978348895907402, 0.07053619623184204, 0.06909485906362534]]\n",
            "Epoch: 0 Batch: 88, [Discriminator_A :: Loss: 0.4904327420372283], [ Generator :: Loss: [1.0349167585372925, 0.0002685587096493691, 0.0, 0.058064937591552734, 0.032851219177246094, 0.0719270259141922, 0.05355963110923767]]\n",
            "Epoch: 0 Batch: 89, [Discriminator_A :: Loss: 0.0016938746703090146], [ Generator :: Loss: [0.8343560695648193, 0.00047089107101783156, 0.0, 0.037970125675201416, 0.0337439589202404, 0.07816873490810394, 0.038575634360313416]]\n",
            "Epoch: 0 Batch: 90, [Discriminator_A :: Loss: 0.0001495243086537812], [ Generator :: Loss: [0.7873694896697998, 7.486590038752183e-05, 0.0, 0.03537954390048981, 0.0310367401689291, 0.07525916397571564, 0.0478726327419281]]\n",
            "Epoch: 0 Batch: 91, [Discriminator_A :: Loss: 0.004254063940607011], [ Generator :: Loss: [0.7737412452697754, 0.0036409427411854267, 0.0, 0.0411064513027668, 0.027239620685577393, 0.04508443549275398, 0.041555121541023254]]\n",
            "Epoch: 0 Batch: 92, [Discriminator_A :: Loss: 0.03722470346838236], [ Generator :: Loss: [0.7424829006195068, 0.0010929921409115195, 0.0, 0.03201458603143692, 0.03115827962756157, 0.05551965907216072, 0.054141558706760406]]\n",
            "Epoch: 0 Batch: 93, [Discriminator_A :: Loss: 0.471226240741089], [ Generator :: Loss: [0.7470861673355103, 0.0011960892006754875, 0.0, 0.028430597856640816, 0.036254506558179855, 0.04632721096277237, 0.05271177738904953]]\n",
            "Epoch: 0 Batch: 94, [Discriminator_A :: Loss: 0.4525226401165128], [ Generator :: Loss: [0.8854818344116211, 0.0013369517400860786, 0.0, 0.041837893426418304, 0.035726793110370636, 0.05868222936987877, 0.04981578141450882]]\n",
            "Epoch: 0 Batch: 95, [Discriminator_A :: Loss: 0.33329394791508093], [ Generator :: Loss: [0.6770700216293335, 0.0007072748267091811, 0.0, 0.029336046427488327, 0.029324108734726906, 0.04971720650792122, 0.04004402458667755]]\n",
            "Epoch: 0 Batch: 96, [Discriminator_A :: Loss: 0.002914683660492301], [ Generator :: Loss: [0.9063869714736938, 0.0012639889027923346, 0.0, 0.04287833347916603, 0.03497334197163582, 0.07765666395425797, 0.04894959554076195]]\n",
            "Epoch: 0 Batch: 97, [Discriminator_A :: Loss: 0.4804753336356953], [ Generator :: Loss: [2.756629467010498, 0.9110718965530396, 1.0, 0.027910182252526283, 0.04550344869494438, 0.04647345095872879, 0.06494767963886261]]\n",
            "Epoch: 0 Batch: 98, [Discriminator_A :: Loss: 0.0009850534843280911], [ Generator :: Loss: [0.8404288291931152, 5.846077328897081e-05, 0.0, 0.03609439730644226, 0.03671674802899361, 0.06054409220814705, 0.05171485245227814]]\n",
            "Epoch: 0 Batch: 99, [Discriminator_A :: Loss: 0.1700579470489174], [ Generator :: Loss: [0.8085817098617554, 0.0010168298613280058, 0.0, 0.03203563019633293, 0.03718961030244827, 0.06217662990093231, 0.053135864436626434]]\n",
            "Epoch: 0 Batch: 100, [Discriminator_A :: Loss: 0.4817729278584011], [ Generator :: Loss: [0.5513195991516113, 0.00030299118952825665, 0.0, 0.02129163220524788, 0.026807300746440887, 0.03710746020078659, 0.03291982039809227]]\n",
            "Image_A shape: (64, 64, 3)\n",
            "fake_B shape: (64, 64, 3)\n",
            "reconstructed_A shape: (64, 64, 3)\n"
          ]
        },
        {
          "output_type": "stream",
          "name": "stderr",
          "text": [
            "WARNING:absl:Found untraced functions such as leaky_re_lu_4_layer_call_fn, leaky_re_lu_4_layer_call_and_return_conditional_losses, leaky_re_lu_5_layer_call_fn, leaky_re_lu_5_layer_call_and_return_conditional_losses, leaky_re_lu_6_layer_call_fn while saving (showing 5 of 80). These functions will not be directly callable after loading.\n"
          ]
        },
        {
          "output_type": "stream",
          "name": "stdout",
          "text": [
            "INFO:tensorflow:Assets written to: /content/gdrive/My Drive/Colab Notebooks/cycleGAN/monet2photo_out/gan_model/assets\n"
          ]
        },
        {
          "output_type": "stream",
          "name": "stderr",
          "text": [
            "INFO:tensorflow:Assets written to: /content/gdrive/My Drive/Colab Notebooks/cycleGAN/monet2photo_out/gan_model/assets\n",
            "WARNING:absl:Found untraced functions such as leaky_re_lu_layer_call_fn, leaky_re_lu_layer_call_and_return_conditional_losses, leaky_re_lu_1_layer_call_fn, leaky_re_lu_1_layer_call_and_return_conditional_losses, leaky_re_lu_2_layer_call_fn while saving (showing 5 of 20). These functions will not be directly callable after loading.\n"
          ]
        },
        {
          "output_type": "stream",
          "name": "stdout",
          "text": [
            "INFO:tensorflow:Assets written to: /content/gdrive/My Drive/Colab Notebooks/cycleGAN/monet2photo_out/generator_A_to_B/assets\n"
          ]
        },
        {
          "output_type": "stream",
          "name": "stderr",
          "text": [
            "INFO:tensorflow:Assets written to: /content/gdrive/My Drive/Colab Notebooks/cycleGAN/monet2photo_out/generator_A_to_B/assets\n",
            "WARNING:absl:Found untraced functions such as leaky_re_lu_4_layer_call_fn, leaky_re_lu_4_layer_call_and_return_conditional_losses, leaky_re_lu_5_layer_call_fn, leaky_re_lu_5_layer_call_and_return_conditional_losses, leaky_re_lu_6_layer_call_fn while saving (showing 5 of 20). These functions will not be directly callable after loading.\n"
          ]
        },
        {
          "output_type": "stream",
          "name": "stdout",
          "text": [
            "INFO:tensorflow:Assets written to: /content/gdrive/My Drive/Colab Notebooks/cycleGAN/monet2photo_out/generator_B_to_A/assets\n"
          ]
        },
        {
          "output_type": "stream",
          "name": "stderr",
          "text": [
            "INFO:tensorflow:Assets written to: /content/gdrive/My Drive/Colab Notebooks/cycleGAN/monet2photo_out/generator_B_to_A/assets\n",
            "WARNING:absl:Found untraced functions such as leaky_re_lu_8_layer_call_fn, leaky_re_lu_8_layer_call_and_return_conditional_losses, leaky_re_lu_9_layer_call_fn, leaky_re_lu_9_layer_call_and_return_conditional_losses, leaky_re_lu_10_layer_call_fn while saving (showing 5 of 20). These functions will not be directly callable after loading.\n"
          ]
        },
        {
          "output_type": "stream",
          "name": "stdout",
          "text": [
            "INFO:tensorflow:Assets written to: /content/gdrive/My Drive/Colab Notebooks/cycleGAN/monet2photo_out/discriminator_A/assets\n"
          ]
        },
        {
          "output_type": "stream",
          "name": "stderr",
          "text": [
            "INFO:tensorflow:Assets written to: /content/gdrive/My Drive/Colab Notebooks/cycleGAN/monet2photo_out/discriminator_A/assets\n",
            "WARNING:absl:Found untraced functions such as leaky_re_lu_12_layer_call_fn, leaky_re_lu_12_layer_call_and_return_conditional_losses, leaky_re_lu_13_layer_call_fn, leaky_re_lu_13_layer_call_and_return_conditional_losses, leaky_re_lu_14_layer_call_fn while saving (showing 5 of 20). These functions will not be directly callable after loading.\n"
          ]
        },
        {
          "output_type": "stream",
          "name": "stdout",
          "text": [
            "INFO:tensorflow:Assets written to: /content/gdrive/My Drive/Colab Notebooks/cycleGAN/monet2photo_out/discriminator_B/assets\n"
          ]
        },
        {
          "output_type": "stream",
          "name": "stderr",
          "text": [
            "INFO:tensorflow:Assets written to: /content/gdrive/My Drive/Colab Notebooks/cycleGAN/monet2photo_out/discriminator_B/assets\n"
          ]
        },
        {
          "output_type": "stream",
          "name": "stdout",
          "text": [
            "Epoch: 0 Batch: 101, [Discriminator_A :: Loss: 0.4537087632343173], [ Generator :: Loss: [0.7861341834068298, 0.0018128185765817761, 0.0, 0.025612516328692436, 0.04181130230426788, 0.050336405634880066, 0.05974680930376053]]\n",
            "Epoch: 0 Batch: 102, [Discriminator_A :: Loss: 0.00622670550365001], [ Generator :: Loss: [0.8708682060241699, 0.020661067217588425, 0.0, 0.023729566484689713, 0.04964267462491989, 0.048221029341220856, 0.06826368719339371]]\n",
            "Epoch: 0 Batch: 103, [Discriminator_A :: Loss: 0.019914364907890558], [ Generator :: Loss: [0.8486691117286682, 0.002295314334332943, 0.0, 0.03521810099482536, 0.03802752494812012, 0.06559067219495773, 0.04832685366272926]]\n",
            "Epoch: 0 Batch: 104, [Discriminator_A :: Loss: 0.007544049825810362], [ Generator :: Loss: [1.34820556640625, 0.0023483028635382652, 0.0, 0.037413932383060455, 0.08353081345558167, 0.05153660476207733, 0.08487328886985779]]\n",
            "Epoch: 0 Batch: 105, [Discriminator_A :: Loss: 0.0006479257936007343], [ Generator :: Loss: [1.1103297472000122, 0.0008696281001903117, 0.0, 0.05344490706920624, 0.042890533804893494, 0.09171519428491592, 0.05439047887921333]]\n",
            "Epoch: 0 Batch: 106, [Discriminator_A :: Loss: 0.43216273095458746], [ Generator :: Loss: [0.9648820161819458, 0.017190398648381233, 0.0, 0.04225220903754234, 0.04067568480968475, 0.05121873691678047, 0.06719394028186798]]\n",
            "Epoch: 0 Batch: 107, [Discriminator_A :: Loss: 0.002432324690744281], [ Generator :: Loss: [2.7150819301605225, 0.7984246611595154, 1.0, 0.0351470522582531, 0.04302821680903435, 0.069954514503479, 0.06495019048452377]]\n",
            "Epoch: 0 Batch: 108, [Discriminator_A :: Loss: 0.0023618039849679917], [ Generator :: Loss: [0.9841282367706299, 0.0003492422110866755, 0.0, 0.045366689562797546, 0.03941459208726883, 0.07965715229511261, 0.0563090555369854]]\n",
            "Epoch: 0 Batch: 109, [Discriminator_A :: Loss: 0.003691827121656388], [ Generator :: Loss: [0.8600256443023682, 0.0031746767926961184, 0.0, 0.04486708343029022, 0.027459973469376564, 0.08758623898029327, 0.04599421098828316]]\n",
            "Epoch: 0 Batch: 110, [Discriminator_A :: Loss: 0.4303176337853074], [ Generator :: Loss: [0.9182302355766296, 0.127613365650177, 0.0, 0.031513482332229614, 0.03654451668262482, 0.05739442631602287, 0.05264244228601456]]\n",
            "Epoch: 0 Batch: 111, [Discriminator_A :: Loss: 0.04984632646664977], [ Generator :: Loss: [0.8517261743545532, 0.0107509670779109, 0.0, 0.03952345624566078, 0.032318901270627975, 0.07342825084924698, 0.04912334680557251]]\n",
            "Epoch: 0 Batch: 112, [Discriminator_A :: Loss: 0.08012933035206515], [ Generator :: Loss: [0.675702691078186, 0.00041138732922263443, 0.0, 0.024618327617645264, 0.03369225561618805, 0.0408361442387104, 0.051349349319934845]]\n",
            "Epoch: 0 Batch: 113, [Discriminator_A :: Loss: 0.23322104330873117], [ Generator :: Loss: [0.830541729927063, 0.0002683809434529394, 0.0, 0.03417079523205757, 0.037682827562093735, 0.05941123142838478, 0.052325859665870667]]\n",
            "Epoch: 0 Batch: 114, [Discriminator_A :: Loss: 0.0006052983953850344], [ Generator :: Loss: [0.8883113861083984, 0.0010463993530720472, 0.0, 0.04079464077949524, 0.035380858927965164, 0.06404022872447968, 0.06146980822086334]]\n",
            "Epoch: 0 Batch: 115, [Discriminator_A :: Loss: 0.02525209786836058], [ Generator :: Loss: [0.7300965785980225, 9.40911631914787e-05, 0.0, 0.03193243592977524, 0.030418209731578827, 0.056969981640577316, 0.04952603951096535]]\n",
            "Epoch: 0 Batch: 116, [Discriminator_A :: Loss: 0.0005213702906985418], [ Generator :: Loss: [1.0733492374420166, 0.000818565720692277, 0.0, 0.05427762120962143, 0.03930322825908661, 0.07296942919492722, 0.06375283747911453]]\n",
            "Epoch: 0 Batch: 117, [Discriminator_A :: Loss: 0.0005629107763525099], [ Generator :: Loss: [0.9062774181365967, 0.0005294278962537646, 0.0, 0.04161258786916733, 0.03584570437669754, 0.07857915014028549, 0.0525859072804451]]\n",
            "Epoch: 0 Batch: 118, [Discriminator_A :: Loss: 0.3130475904326886], [ Generator :: Loss: [0.8776350617408752, 0.0013248963514342904, 0.0, 0.03740086406469345, 0.03890354186296463, 0.06737388670444489, 0.045892227441072464]]\n",
            "Epoch: 0 Batch: 119, [Discriminator_A :: Loss: 0.2013166609685868], [ Generator :: Loss: [0.6808258295059204, 0.001673950464464724, 0.0, 0.021642718464136124, 0.03650597855448723, 0.045753445476293564, 0.05191146209836006]]\n",
            "Epoch: 0 Batch: 120, [Discriminator_A :: Loss: 0.016585770063102245], [ Generator :: Loss: [0.809726893901825, 0.001445974805392325, 0.0, 0.030713211745023727, 0.03840763494372368, 0.05806787312030792, 0.059004586189985275]]\n",
            "Epoch: 0 Batch: 121, [Discriminator_A :: Loss: 0.054138742554641794], [ Generator :: Loss: [0.8242142200469971, 0.0001359176094410941, 0.0, 0.036470770835876465, 0.03558873012661934, 0.05379302054643631, 0.04969024658203125]]\n",
            "Epoch: 0 Batch: 122, [Discriminator_A :: Loss: 0.16469596613023896], [ Generator :: Loss: [0.8683804273605347, 0.00013299271813593805, 0.0, 0.04564449191093445, 0.029912807047367096, 0.06695853173732758, 0.045715950429439545]]\n",
            "Epoch: 0 Batch: 123, [Discriminator_A :: Loss: 0.0006071085226722062], [ Generator :: Loss: [0.8020720481872559, 0.00038695617695339024, 0.0, 0.04223731532692909, 0.026270005851984024, 0.08269277215003967, 0.033919110894203186]]\n",
            "Epoch: 0 Batch: 124, [Discriminator_A :: Loss: 0.3818203965201974], [ Generator :: Loss: [1.4916188716888428, 0.36352092027664185, 0.0, 0.05344139412045479, 0.044778529554605484, 0.08115367591381073, 0.06474508345127106]]\n",
            "Epoch: 0 Batch: 125, [Discriminator_A :: Loss: 0.3179057892411947], [ Generator :: Loss: [1.0416338443756104, 0.0001867278915597126, 0.0, 0.042814891785383224, 0.05134270340204239, 0.04710666835308075, 0.05276443809270859]]\n",
            "Epoch: 0 Batch: 126, [Discriminator_A :: Loss: 0.33061702123086434], [ Generator :: Loss: [1.3364582061767578, 0.001066267373971641, 0.0, 0.05374991521239281, 0.0679856613278389, 0.06508691608905792, 0.05294934660196304]]\n",
            "Epoch: 0 Batch: 127, [Discriminator_A :: Loss: 0.0035191804636269808], [ Generator :: Loss: [1.1526741981506348, 0.0002290174161316827, 0.0, 0.049249500036239624, 0.05271913483738899, 0.06162945181131363, 0.07112941145896912]]\n",
            "Epoch: 0 Batch: 128, [Discriminator_A :: Loss: 0.3973578506047488], [ Generator :: Loss: [0.933666467666626, 6.512188701890409e-05, 0.0, 0.04445008933544159, 0.03661632537841797, 0.0616782046854496, 0.06125896796584129]]\n",
            "Epoch: 0 Batch: 129, [Discriminator_A :: Loss: 0.49514767494110856], [ Generator :: Loss: [0.7997248768806458, 0.0004320820444263518, 0.0, 0.027483344078063965, 0.0418577678501606, 0.04683710262179375, 0.05904461815953255]]\n",
            "Epoch: 0 Batch: 130, [Discriminator_A :: Loss: 0.3057089354842901], [ Generator :: Loss: [0.6344376802444458, 0.0003633728192653507, 0.0, 0.019239850342273712, 0.03703473508358002, 0.03443702682852745, 0.0368913933634758]]\n",
            "Epoch: 0 Batch: 131, [Discriminator_A :: Loss: 0.001510640693595633], [ Generator :: Loss: [1.2412338256835938, 0.00035515730269253254, 0.0, 0.05264323204755783, 0.05720828101038933, 0.0729978084564209, 0.06936568021774292]]\n",
            "Epoch: 0 Batch: 132, [Discriminator_A :: Loss: 0.0004291547375032678], [ Generator :: Loss: [2.9063093662261963, 0.974948525428772, 1.0, 0.0381697453558445, 0.04025145620107651, 0.08128519356250763, 0.06586358696222305]]\n",
            "Epoch: 0 Batch: 133, [Discriminator_A :: Loss: 0.05553857423365116], [ Generator :: Loss: [0.8518550395965576, 0.00444441195577383, 0.0, 0.04216807708144188, 0.03219630569219589, 0.059425655752420425, 0.044341135770082474]]\n",
            "Epoch: 0 Batch: 134, [Discriminator_A :: Loss: 0.373061959980987], [ Generator :: Loss: [0.8582144975662231, 0.00032193929655477405, 0.0, 0.033287327736616135, 0.041774727404117584, 0.05067546293139458, 0.0565965510904789]]\n",
            "Epoch: 0 Batch: 135, [Discriminator_A :: Loss: 0.48293833434581757], [ Generator :: Loss: [0.630646824836731, 0.00034390712971799076, 0.0, 0.024595271795988083, 0.03052094765007496, 0.0307451281696558, 0.04839552566409111]]\n",
            "Epoch: 0 Batch: 136, [Discriminator_A :: Loss: 0.3747234153561294], [ Generator :: Loss: [1.3889415264129639, 0.000712184642907232, 0.0, 0.08851341903209686, 0.035278767347335815, 0.09655531495809555, 0.05375212803483009]]\n",
            "Epoch: 0 Batch: 137, [Discriminator_A :: Loss: 0.008027819101698697], [ Generator :: Loss: [1.1501870155334473, 0.0012903723400086164, 0.0, 0.06257624924182892, 0.03685169667005539, 0.09625294059515, 0.05836421251296997]]\n",
            "Epoch: 0 Batch: 138, [Discriminator_A :: Loss: 0.0053436519810929894], [ Generator :: Loss: [0.9016749858856201, 0.0018080861773341894, 0.0, 0.047873400151729584, 0.029817238450050354, 0.06077650189399719, 0.062184035778045654]]\n",
            "Epoch: 0 Batch: 139, [Discriminator_A :: Loss: 0.13573294367233757], [ Generator :: Loss: [1.0849609375, 0.000248700991505757, 0.0, 0.045968614518642426, 0.04795603081583977, 0.08240635693073273, 0.06305944174528122]]\n",
            "Epoch: 0 Batch: 140, [Discriminator_A :: Loss: 0.2833166782511398], [ Generator :: Loss: [0.9610840082168579, 0.0026384813245385885, 0.0, 0.04040278494358063, 0.04259880632162094, 0.06139933317899704, 0.06703028082847595]]\n",
            "Epoch: 0 Batch: 141, [Discriminator_A :: Loss: 0.36209503101417795], [ Generator :: Loss: [0.8889968395233154, 0.0003785880981013179, 0.0, 0.036480482667684555, 0.04106437414884567, 0.06662715971469879, 0.046542517840862274]]\n",
            "Epoch: 0 Batch: 142, [Discriminator_A :: Loss: 0.16234225127846003], [ Generator :: Loss: [1.043699860572815, 0.0036610248498618603, 0.0, 0.04148097336292267, 0.05177602916955948, 0.051646772772073746, 0.055822063237428665]]\n",
            "Epoch: 0 Batch: 143, [Discriminator_A :: Loss: 0.46213175308002974], [ Generator :: Loss: [0.6490366458892822, 9.140023030340672e-05, 0.0, 0.019879596307873726, 0.03641943633556366, 0.04019898176193237, 0.04575592651963234]]\n",
            "Epoch: 0 Batch: 144, [Discriminator_A :: Loss: 0.2697568390285596], [ Generator :: Loss: [3.0081796646118164, 0.8997448086738586, 1.0, 0.037216246128082275, 0.060526907444000244, 0.07120180130004883, 0.05980152636766434]]\n",
            "Epoch: 0 Batch: 145, [Discriminator_A :: Loss: 0.3531045876443386], [ Generator :: Loss: [0.9681353569030762, 0.0005674994899891317, 0.0, 0.03545819967985153, 0.049581050872802734, 0.053984299302101135, 0.0631910115480423]]\n",
            "Epoch: 0 Batch: 146, [Discriminator_A :: Loss: 0.41811530652921647], [ Generator :: Loss: [0.704092264175415, 0.0003202624211553484, 0.0, 0.030046531930565834, 0.03054806776344776, 0.05598294734954834, 0.04184303060173988]]\n",
            "Epoch: 0 Batch: 147, [Discriminator_A :: Loss: 0.3850633461261168], [ Generator :: Loss: [0.9367733001708984, 0.0004457024915609509, 0.0, 0.03643902391195297, 0.04437858238816261, 0.06012587994337082, 0.0680256113409996]]\n",
            "Epoch: 0 Batch: 148, [Discriminator_A :: Loss: 0.25348506693262607], [ Generator :: Loss: [2.7107040882110596, 0.9367961883544922, 1.0, 0.03345545008778572, 0.0330609567463398, 0.05456402525305748, 0.05417979508638382]]\n",
            "Epoch: 0 Batch: 149, [Discriminator_A :: Loss: 0.28048305794072803], [ Generator :: Loss: [0.967584490776062, 0.0002041744301095605, 0.0, 0.04455188289284706, 0.04020141437649727, 0.06472203135490417, 0.0551254078745842]]\n",
            "Epoch: 0 Batch: 150, [Discriminator_A :: Loss: 0.04106910333939595], [ Generator :: Loss: [0.9773844480514526, 9.702534589450806e-05, 0.0, 0.0374923013150692, 0.04557010158896446, 0.07571692764759064, 0.07094649970531464]]\n",
            "Epoch: 0 Batch: 151, [Discriminator_A :: Loss: 0.3493676215803134], [ Generator :: Loss: [0.8411880135536194, 0.00025314799859188497, 0.0, 0.03167062997817993, 0.04086710140109062, 0.051813893020153046, 0.06374367326498032]]\n",
            "Epoch: 0 Batch: 152, [Discriminator_A :: Loss: 0.05772802792489529], [ Generator :: Loss: [0.8620068430900574, 0.006865304429084063, 0.0, 0.03747491165995598, 0.03535553067922592, 0.07743716239929199, 0.04939993470907211]]\n",
            "Epoch: 0 Batch: 153, [Discriminator_A :: Loss: 0.22610751539468765], [ Generator :: Loss: [1.0939984321594238, 0.10497263818979263, 0.0, 0.039701636880636215, 0.04392630234360695, 0.07596036791801453, 0.07678601145744324]]\n",
            "Epoch: 0 Batch: 154, [Discriminator_A :: Loss: 0.17100280901649967], [ Generator :: Loss: [2.8681273460388184, 0.9726777672767639, 1.0, 0.036442145705223083, 0.04083633050322533, 0.07276593148708344, 0.049898911267519]]\n",
            "Epoch: 0 Batch: 155, [Discriminator_A :: Loss: 0.4272120054811239], [ Generator :: Loss: [1.211498498916626, 0.007246656343340874, 0.0, 0.05401322990655899, 0.052815694361925125, 0.0639304667711258, 0.07203207165002823]]\n",
            "Epoch: 0 Batch: 156, [Discriminator_A :: Loss: 0.017002059816149995], [ Generator :: Loss: [0.9880634546279907, 0.003193949582055211, 0.0, 0.04420173540711403, 0.040028173476457596, 0.07727830857038498, 0.06529208272695541]]\n",
            "Epoch: 0 Batch: 157, [Discriminator_A :: Loss: 0.03332249936647713], [ Generator :: Loss: [1.02899169921875, 0.002166029065847397, 0.0, 0.04660951346158981, 0.04257141053676605, 0.07808877527713776, 0.05692765861749649]]\n",
            "Epoch: 0 Batch: 158, [Discriminator_A :: Loss: 0.6382177174091339], [ Generator :: Loss: [0.8265298008918762, 0.001882508979178965, 0.0, 0.03664524108171463, 0.03529006615281105, 0.05454124137759209, 0.05075298249721527]]\n",
            "Epoch: 0 Batch: 159, [Discriminator_A :: Loss: 0.3949337763042422], [ Generator :: Loss: [0.8388301134109497, 0.00028489131364040077, 0.0, 0.04973822832107544, 0.024235321208834648, 0.06326882541179657, 0.0355408750474453]]\n",
            "Epoch: 0 Batch: 160, [Discriminator_A :: Loss: 0.4792987988621462], [ Generator :: Loss: [3.1775145530700684, 0.9717356562614441, 1.0, 0.07127036154270172, 0.03440525010228157, 0.09695710986852646, 0.05206577852368355]]\n",
            "Epoch: 0 Batch: 161, [Discriminator_A :: Loss: 0.12356993090361357], [ Generator :: Loss: [3.055708408355713, 0.9531095623970032, 1.0, 0.053887948393821716, 0.04162939637899399, 0.09387397021055222, 0.053551189601421356]]\n",
            "Epoch: 0 Batch: 162, [Discriminator_A :: Loss: 0.001734851291985251], [ Generator :: Loss: [0.9650092124938965, 0.0005184614565223455, 0.0, 0.04045043885707855, 0.045005008578300476, 0.06531618535518646, 0.04462015628814697]]\n",
            "Epoch: 0 Batch: 163, [Discriminator_A :: Loss: 0.44568682211684063], [ Generator :: Loss: [0.5842193365097046, 4.7750108933541924e-05, 0.0, 0.017679929733276367, 0.031771812587976456, 0.03553789481520653, 0.05411626398563385]]\n",
            "Epoch: 0 Batch: 164, [Discriminator_A :: Loss: 0.04442612491402542], [ Generator :: Loss: [1.1898653507232666, 0.00037998572224751115, 0.0, 0.04941090568900108, 0.055659882724285126, 0.06172274425625801, 0.0770546942949295]]\n",
            "Epoch: 0 Batch: 165, [Discriminator_A :: Loss: 0.1468152029265184], [ Generator :: Loss: [1.2014477252960205, 5.270795736578293e-05, 0.0, 0.048695094883441925, 0.05848350748419762, 0.07703709602355957, 0.05257188156247139]]\n",
            "Epoch: 0 Batch: 166, [Discriminator_A :: Loss: 0.043028228683397174], [ Generator :: Loss: [0.9055730104446411, 0.0010941472137346864, 0.0, 0.04662924259901047, 0.031727686524391174, 0.07326976954936981, 0.047639839351177216]]\n",
            "Epoch: 0 Batch: 167, [Discriminator_A :: Loss: 0.030779340493609197], [ Generator :: Loss: [1.1162948608398438, 0.0002224391355412081, 0.0, 0.04527959227561951, 0.05256476253271103, 0.06834037601947784, 0.06928838789463043]]\n",
            "Epoch: 0 Batch: 168, [Discriminator_A :: Loss: 0.4165931832976639], [ Generator :: Loss: [0.7602897882461548, 0.0005173329263925552, 0.0, 0.024784820154309273, 0.04120338335633278, 0.04441417008638382, 0.055476266890764236]]\n",
            "Epoch: 0 Batch: 169, [Discriminator_A :: Loss: 0.43093062564730644], [ Generator :: Loss: [0.9143668413162231, 0.0002435933129163459, 0.0, 0.03885258734226227, 0.04158118739724159, 0.05703945457935333, 0.052746038883924484]]\n",
            "Epoch: 0 Batch: 170, [Discriminator_A :: Loss: 0.4933390577789396], [ Generator :: Loss: [0.7645628452301025, 0.0003060074814129621, 0.0, 0.03261290118098259, 0.03332703933119774, 0.06593994796276093, 0.03891748934984207]]\n",
            "Epoch: 0 Batch: 171, [Discriminator_A :: Loss: 0.4827031572640408], [ Generator :: Loss: [0.6484379768371582, 0.0006050294614396989, 0.0, 0.015924178063869476, 0.04015550762414932, 0.021332506090402603, 0.0657036080956459]]\n",
            "Epoch: 0 Batch: 172, [Discriminator_A :: Loss: 0.17225600767415017], [ Generator :: Loss: [0.878671407699585, 0.0003679569927044213, 0.0, 0.04181046783924103, 0.0343954935669899, 0.06156870722770691, 0.0546751469373703]]\n",
            "Epoch: 0 Batch: 173, [Discriminator_A :: Loss: 0.004991561912902398], [ Generator :: Loss: [1.1004753112792969, 3.7357021938078105e-05, 0.0, 0.0447821207344532, 0.05060411989688873, 0.079552561044693, 0.06702306866645813]]\n",
            "Epoch: 0 Batch: 174, [Discriminator_A :: Loss: 0.0006173194051370956], [ Generator :: Loss: [1.211127519607544, 5.054023131378926e-05, 0.0, 0.05738486349582672, 0.04933822527527809, 0.09130309522151947, 0.05254295840859413]]\n",
            "Epoch: 0 Batch: 175, [Discriminator_A :: Loss: 0.49325974128441885], [ Generator :: Loss: [0.8250439167022705, 0.001357463886961341, 0.0, 0.03186330571770668, 0.038935694843530655, 0.05173131823539734, 0.06396514922380447]]\n",
            "Epoch: 0 Batch: 176, [Discriminator_A :: Loss: 0.0026808305410668254], [ Generator :: Loss: [2.9691162109375, 0.8806359171867371, 1.0, 0.0477837398648262, 0.0453931987285614, 0.0910150408744812, 0.06569594889879227]]\n",
            "Epoch: 0 Batch: 177, [Discriminator_A :: Loss: 0.29237819004629273], [ Generator :: Loss: [0.8120307922363281, 0.0002535901148803532, 0.0, 0.037631452083587646, 0.03216630220413208, 0.061873286962509155, 0.051926370710134506]]\n",
            "Epoch: 0 Batch: 178, [Discriminator_A :: Loss: 0.28774124768096954], [ Generator :: Loss: [0.8242350816726685, 0.0005768752889707685, 0.0, 0.03916311264038086, 0.031204499304294586, 0.07179264724254608, 0.048189468681812286]]\n",
            "Epoch: 0 Batch: 179, [Discriminator_A :: Loss: 0.41313637513667345], [ Generator :: Loss: [0.8174786567687988, 0.0005129848723299801, 0.0, 0.03719543665647507, 0.033044859766960144, 0.06466677784919739, 0.04989593103528023]]\n",
            "Epoch: 0 Batch: 180, [Discriminator_A :: Loss: 0.09588618786074221], [ Generator :: Loss: [0.6751340627670288, 0.00044144937419332564, 0.0, 0.027621585875749588, 0.029201768338680267, 0.06222877278923988, 0.04423024505376816]]\n",
            "Epoch: 0 Batch: 181, [Discriminator_A :: Loss: 0.5279561504721642], [ Generator :: Loss: [0.8920392990112305, 0.0005896955262869596, 0.0, 0.033115070313215256, 0.04581887647509575, 0.048623621463775635, 0.05348653718829155]]\n",
            "Epoch: 0 Batch: 182, [Discriminator_A :: Loss: 0.14877869258634746], [ Generator :: Loss: [0.740138053894043, 0.0011427265126258135, 0.0, 0.030047127977013588, 0.03251870349049568, 0.06516731530427933, 0.04816964641213417]]\n",
            "Epoch: 0 Batch: 183, [Discriminator_A :: Loss: 0.0020435407059267163], [ Generator :: Loss: [0.9694434404373169, 0.0007696234388276935, 0.0, 0.038947369903326035, 0.043157193809747696, 0.08179396390914917, 0.06583429127931595]]\n",
            "Epoch: 0 Batch: 184, [Discriminator_A :: Loss: 0.004246422904543579], [ Generator :: Loss: [0.8513736128807068, 0.0005279176402837038, 0.0, 0.034412991255521774, 0.03674979507923126, 0.07784939557313919, 0.06136839836835861]]\n",
            "Epoch: 0 Batch: 185, [Discriminator_A :: Loss: 0.43555236101383343], [ Generator :: Loss: [0.8267183899879456, 0.00030619517201557755, 0.0, 0.026317298412322998, 0.043422482907772064, 0.05518881976604462, 0.07382554560899734]]\n",
            "Epoch: 0 Batch: 186, [Discriminator_A :: Loss: 0.3388187177479267], [ Generator :: Loss: [0.9038450717926025, 0.0002542777801863849, 0.0, 0.038638051599264145, 0.03871317580342293, 0.08226026594638824, 0.04781825467944145]]\n",
            "Epoch: 0 Batch: 187, [Discriminator_A :: Loss: 0.002430524880765006], [ Generator :: Loss: [1.3035093545913696, 0.00026660479488782585, 0.0, 0.06621093302965164, 0.045544207096099854, 0.11170284450054169, 0.07398847490549088]]\n",
            "Epoch: 0 Batch: 188, [Discriminator_A :: Loss: 0.46335577114950866], [ Generator :: Loss: [0.7797049283981323, 0.0012792327906936407, 0.0, 0.02912462316453457, 0.03696824610233307, 0.05788066238164902, 0.05961634963750839]]\n",
            "Epoch: 0 Batch: 189, [Discriminator_A :: Loss: 0.014865696983179078], [ Generator :: Loss: [0.9264519214630127, 0.0004215855442453176, 0.0, 0.03760494291782379, 0.04197896271944046, 0.07183939218521118, 0.05835195258259773]]\n",
            "Epoch: 0 Batch: 190, [Discriminator_A :: Loss: 0.4391163269901881], [ Generator :: Loss: [0.6679515242576599, 0.0001857176685007289, 0.0, 0.027648741379380226, 0.02977081760764122, 0.04504480957984924, 0.04852539300918579]]\n",
            "Epoch: 0 Batch: 191, [Discriminator_A :: Loss: 0.002006144030019641], [ Generator :: Loss: [0.9775564074516296, 0.00030272980802692473, 0.0, 0.039523620158433914, 0.04387036710977554, 0.07403336465358734, 0.06928045302629471]]\n",
            "Epoch: 0 Batch: 192, [Discriminator_A :: Loss: 0.0006573119899258018], [ Generator :: Loss: [0.7152557969093323, 0.000330463022692129, 0.0, 0.029576575383543968, 0.030247708782553673, 0.06806368380784988, 0.04861881583929062]]\n",
            "Epoch: 0 Batch: 193, [Discriminator_A :: Loss: 0.04786021262407303], [ Generator :: Loss: [0.897191047668457, 0.0005486851441673934, 0.0, 0.04920423403382301, 0.02845761552453041, 0.08003583550453186, 0.039988018572330475]]\n",
            "Epoch: 0 Batch: 194, [Discriminator_A :: Loss: 0.4083375131158391], [ Generator :: Loss: [0.7641150951385498, 0.00035267023486085236, 0.0, 0.028389081358909607, 0.03582856431603432, 0.06483713537454605, 0.05674879997968674]]\n",
            "Epoch: 0 Batch: 195, [Discriminator_A :: Loss: 0.4898461066186428], [ Generator :: Loss: [0.8346014022827148, 0.0029403537046164274, 0.0, 0.029657669365406036, 0.04487273469567299, 0.04332004487514496, 0.04303697496652603]]\n",
            "Epoch: 0 Batch: 196, [Discriminator_A :: Loss: 0.42676931885944214], [ Generator :: Loss: [0.6693058013916016, 0.00015098699077498168, 0.0, 0.02207747846841812, 0.03573552891612053, 0.04130066931247711, 0.04972408711910248]]\n",
            "Epoch: 0 Batch: 197, [Discriminator_A :: Loss: 0.4316835810896009], [ Generator :: Loss: [0.846631646156311, 0.01603529416024685, 0.0, 0.022552751004695892, 0.05110130459070206, 0.04206104949116707, 0.05199471116065979]]\n",
            "Epoch: 0 Batch: 198, [Discriminator_A :: Loss: 0.0006227054400369525], [ Generator :: Loss: [1.1336615085601807, 0.0011073928326368332, 0.0, 0.05174290016293526, 0.044420819729566574, 0.09759330004453659, 0.0733235776424408]]\n",
            "Epoch: 0 Batch: 199, [Discriminator_A :: Loss: 0.012035105930408463], [ Generator :: Loss: [0.7757540941238403, 8.75786499818787e-05, 0.0, 0.03550343960523605, 0.029956970363855362, 0.07268210500478745, 0.048380326479673386]]\n",
            "Epoch: 0 Batch: 200, [Discriminator_A :: Loss: 0.2631183739431435], [ Generator :: Loss: [0.6042234301567078, 0.0002830431913025677, 0.0, 0.026419540867209435, 0.024963833391666412, 0.05031098052859306, 0.03979568928480148]]\n",
            "Image_A shape: (64, 64, 3)\n",
            "fake_B shape: (64, 64, 3)\n",
            "reconstructed_A shape: (64, 64, 3)\n"
          ]
        },
        {
          "output_type": "stream",
          "name": "stderr",
          "text": [
            "WARNING:absl:Found untraced functions such as leaky_re_lu_4_layer_call_fn, leaky_re_lu_4_layer_call_and_return_conditional_losses, leaky_re_lu_5_layer_call_fn, leaky_re_lu_5_layer_call_and_return_conditional_losses, leaky_re_lu_6_layer_call_fn while saving (showing 5 of 80). These functions will not be directly callable after loading.\n"
          ]
        },
        {
          "output_type": "stream",
          "name": "stdout",
          "text": [
            "INFO:tensorflow:Assets written to: /content/gdrive/My Drive/Colab Notebooks/cycleGAN/monet2photo_out/gan_model/assets\n"
          ]
        },
        {
          "output_type": "stream",
          "name": "stderr",
          "text": [
            "INFO:tensorflow:Assets written to: /content/gdrive/My Drive/Colab Notebooks/cycleGAN/monet2photo_out/gan_model/assets\n",
            "WARNING:absl:Found untraced functions such as leaky_re_lu_layer_call_fn, leaky_re_lu_layer_call_and_return_conditional_losses, leaky_re_lu_1_layer_call_fn, leaky_re_lu_1_layer_call_and_return_conditional_losses, leaky_re_lu_2_layer_call_fn while saving (showing 5 of 20). These functions will not be directly callable after loading.\n"
          ]
        },
        {
          "output_type": "stream",
          "name": "stdout",
          "text": [
            "INFO:tensorflow:Assets written to: /content/gdrive/My Drive/Colab Notebooks/cycleGAN/monet2photo_out/generator_A_to_B/assets\n"
          ]
        },
        {
          "output_type": "stream",
          "name": "stderr",
          "text": [
            "INFO:tensorflow:Assets written to: /content/gdrive/My Drive/Colab Notebooks/cycleGAN/monet2photo_out/generator_A_to_B/assets\n",
            "WARNING:absl:Found untraced functions such as leaky_re_lu_4_layer_call_fn, leaky_re_lu_4_layer_call_and_return_conditional_losses, leaky_re_lu_5_layer_call_fn, leaky_re_lu_5_layer_call_and_return_conditional_losses, leaky_re_lu_6_layer_call_fn while saving (showing 5 of 20). These functions will not be directly callable after loading.\n"
          ]
        },
        {
          "output_type": "stream",
          "name": "stdout",
          "text": [
            "INFO:tensorflow:Assets written to: /content/gdrive/My Drive/Colab Notebooks/cycleGAN/monet2photo_out/generator_B_to_A/assets\n"
          ]
        },
        {
          "output_type": "stream",
          "name": "stderr",
          "text": [
            "INFO:tensorflow:Assets written to: /content/gdrive/My Drive/Colab Notebooks/cycleGAN/monet2photo_out/generator_B_to_A/assets\n",
            "WARNING:absl:Found untraced functions such as leaky_re_lu_8_layer_call_fn, leaky_re_lu_8_layer_call_and_return_conditional_losses, leaky_re_lu_9_layer_call_fn, leaky_re_lu_9_layer_call_and_return_conditional_losses, leaky_re_lu_10_layer_call_fn while saving (showing 5 of 20). These functions will not be directly callable after loading.\n"
          ]
        },
        {
          "output_type": "stream",
          "name": "stdout",
          "text": [
            "INFO:tensorflow:Assets written to: /content/gdrive/My Drive/Colab Notebooks/cycleGAN/monet2photo_out/discriminator_A/assets\n"
          ]
        },
        {
          "output_type": "stream",
          "name": "stderr",
          "text": [
            "INFO:tensorflow:Assets written to: /content/gdrive/My Drive/Colab Notebooks/cycleGAN/monet2photo_out/discriminator_A/assets\n",
            "WARNING:absl:Found untraced functions such as leaky_re_lu_12_layer_call_fn, leaky_re_lu_12_layer_call_and_return_conditional_losses, leaky_re_lu_13_layer_call_fn, leaky_re_lu_13_layer_call_and_return_conditional_losses, leaky_re_lu_14_layer_call_fn while saving (showing 5 of 20). These functions will not be directly callable after loading.\n"
          ]
        },
        {
          "output_type": "stream",
          "name": "stdout",
          "text": [
            "INFO:tensorflow:Assets written to: /content/gdrive/My Drive/Colab Notebooks/cycleGAN/monet2photo_out/discriminator_B/assets\n"
          ]
        },
        {
          "output_type": "stream",
          "name": "stderr",
          "text": [
            "INFO:tensorflow:Assets written to: /content/gdrive/My Drive/Colab Notebooks/cycleGAN/monet2photo_out/discriminator_B/assets\n"
          ]
        },
        {
          "output_type": "stream",
          "name": "stdout",
          "text": [
            "Epoch: 0 Batch: 201, [Discriminator_A :: Loss: 0.041395502630621195], [ Generator :: Loss: [0.7927068471908569, 0.0003461990272626281, 0.0, 0.03468310087919235, 0.031819507479667664, 0.07175248861312866, 0.05558208003640175]]\n",
            "Epoch: 0 Batch: 202, [Discriminator_A :: Loss: 0.25185194017831236], [ Generator :: Loss: [0.6988266706466675, 0.00013275636592879891, 0.0, 0.026556992903351784, 0.03289717435836792, 0.0531560517847538, 0.050996214151382446]]\n",
            "Epoch: 0 Batch: 203, [Discriminator_A :: Loss: 0.02939951908774674], [ Generator :: Loss: [0.7881715893745422, 0.004209710285067558, 0.0, 0.02572227269411087, 0.041774552315473557, 0.05303146317601204, 0.05596218258142471]]\n",
            "Epoch: 0 Batch: 204, [Discriminator_A :: Loss: 0.06123801419744268], [ Generator :: Loss: [1.0658059120178223, 0.03879139944911003, 0.0, 0.04538080096244812, 0.042111605405807495, 0.08560449630022049, 0.06648588925600052]]\n",
            "Epoch: 0 Batch: 205, [Discriminator_A :: Loss: 0.17633919569198042], [ Generator :: Loss: [0.983529806137085, 0.01326421182602644, 0.0, 0.04428960382938385, 0.03878188878297806, 0.07592150568962097, 0.0636291429400444]]\n",
            "Epoch: 0 Batch: 206, [Discriminator_A :: Loss: 0.38430041854735464], [ Generator :: Loss: [0.7689430117607117, 0.0013391886604949832, 0.0, 0.03680101037025452, 0.028690669685602188, 0.06676410138607025, 0.04592293128371239]]\n",
            "Epoch: 0 Batch: 207, [Discriminator_A :: Loss: 0.18000764099997468], [ Generator :: Loss: [0.9612931609153748, 0.0010569997830316424, 0.0, 0.03926324099302292, 0.04453274607658386, 0.07256614416837692, 0.04971010610461235]]\n",
            "Epoch: 0 Batch: 208, [Discriminator_A :: Loss: 0.4939829706418095], [ Generator :: Loss: [0.6988471746444702, 0.000314908946165815, 0.0, 0.02160925604403019, 0.03836251050233841, 0.04061589390039444, 0.05819867551326752]]\n",
            "Epoch: 0 Batch: 209, [Discriminator_A :: Loss: 0.3191876065102406], [ Generator :: Loss: [1.0431700944900513, 0.0004512361774686724, 0.0, 0.036891624331474304, 0.056653622537851334, 0.0473550446331501, 0.05991138145327568]]\n",
            "Epoch: 0 Batch: 210, [Discriminator_A :: Loss: 0.003422285968554206], [ Generator :: Loss: [1.222257375717163, 0.0008160982397384942, 0.0, 0.07376796752214432, 0.03415171429514885, 0.09866343438625336, 0.04358101263642311]]\n",
            "Epoch: 0 Batch: 211, [Discriminator_A :: Loss: 0.3814568379893899], [ Generator :: Loss: [0.826681911945343, 0.0019293364603072405, 0.0, 0.03756709396839142, 0.034782521426677704, 0.05515550076961517, 0.046100907027721405]]\n",
            "Epoch: 0 Batch: 212, [Discriminator_A :: Loss: 0.01684580952860415], [ Generator :: Loss: [0.9650083184242249, 0.0007280545542016625, 0.0, 0.04270806908607483, 0.04085661098361015, 0.06738229095935822, 0.061251141130924225]]\n",
            "Epoch: 0 Batch: 213, [Discriminator_A :: Loss: 0.0032126696605701], [ Generator :: Loss: [1.23491632938385, 0.00039108021883293986, 0.0, 0.045278362929821014, 0.06080063804984093, 0.08636358380317688, 0.08737171441316605]]\n",
            "Epoch: 0 Batch: 214, [Discriminator_A :: Loss: 0.11908485926687717], [ Generator :: Loss: [0.7515201568603516, 0.00015258637722581625, 0.0, 0.031398143619298935, 0.03239164873957634, 0.06210777908563614, 0.05136188864707947]]\n",
            "Epoch: 0 Batch: 215, [Discriminator_A :: Loss: 0.3299781696405262], [ Generator :: Loss: [1.138956904411316, 0.0015536316204816103, 0.0, 0.0616091750562191, 0.04148513823747635, 0.042504291981458664, 0.0639558658003807]]\n",
            "Epoch: 0 Batch: 216, [Discriminator_A :: Loss: 0.0025082415668293834], [ Generator :: Loss: [0.9019618034362793, 0.0007186605362221599, 0.0, 0.044557150453329086, 0.032134927809238434, 0.08154216408729553, 0.05278021842241287]]\n",
            "Epoch: 0 Batch: 217, [Discriminator_A :: Loss: 0.4184776730835438], [ Generator :: Loss: [2.7943100929260254, 0.91261887550354, 1.0, 0.03842759504914284, 0.03824196383357048, 0.060154810547828674, 0.05484075844287872]]\n",
            "Epoch: 0 Batch: 218, [Discriminator_A :: Loss: 0.4810676360502839], [ Generator :: Loss: [0.999335527420044, 0.0009656038018874824, 0.0, 0.052901335060596466, 0.03809182345867157, 0.03717489913105965, 0.05126349627971649]]\n",
            "Epoch: 0 Batch: 219, [Discriminator_A :: Loss: 0.27006481494754553], [ Generator :: Loss: [0.674301266670227, 0.001252689748071134, 0.0, 0.03394969180226326, 0.02456330507993698, 0.05144721269607544, 0.0364714115858078]]\n",
            "Epoch: 0 Batch: 220, [Discriminator_A :: Loss: 0.49245160567807034], [ Generator :: Loss: [0.8192116022109985, 0.000279193656751886, 0.0, 0.0280296728014946, 0.043470531702041626, 0.0514272041618824, 0.052503131330013275]]\n",
            "Epoch: 0 Batch: 221, [Discriminator_A :: Loss: 0.31747530051507056], [ Generator :: Loss: [0.8308206796646118, 0.002014720346778631, 0.0, 0.02910921908915043, 0.04288550466299057, 0.050424642860889435, 0.05843404680490494]]\n",
            "Epoch: 0 Batch: 222, [Discriminator_A :: Loss: 0.4206217205210123], [ Generator :: Loss: [1.0332368612289429, 0.00031293198117055, 0.0, 0.05178481712937355, 0.039203058928251266, 0.07028286904096603, 0.05276229605078697]]\n",
            "Epoch: 0 Batch: 223, [Discriminator_A :: Loss: 0.35729884379543364], [ Generator :: Loss: [0.844912588596344, 0.0010926808463409543, 0.0, 0.03090185672044754, 0.04202873632311821, 0.05001051351428032, 0.06450344622135162]]\n",
            "Epoch: 0 Batch: 224, [Discriminator_A :: Loss: 0.0014204303442966193], [ Generator :: Loss: [0.9369932413101196, 0.000796617241576314, 0.0, 0.04817790538072586, 0.03399676829576492, 0.06713733822107315, 0.04731254279613495]]\n",
            "Epoch: 0 Batch: 225, [Discriminator_A :: Loss: 0.27704823703243164], [ Generator :: Loss: [0.8625707626342773, 0.000131569555378519, 0.0, 0.03184600919485092, 0.04242590069770813, 0.06312110275030136, 0.05659899115562439]]\n",
            "Epoch: 0 Batch: 226, [Discriminator_A :: Loss: 0.02166337158996612], [ Generator :: Loss: [0.8369649648666382, 0.0010580929229035974, 0.0, 0.04258573427796364, 0.02944653481245041, 0.06755755096673965, 0.04802660271525383]]\n",
            "Epoch: 0 Batch: 227, [Discriminator_A :: Loss: 0.48534475453197956], [ Generator :: Loss: [0.73598712682724, 0.0006913772085681558, 0.0, 0.030708812177181244, 0.03325740993022919, 0.04505458474159241, 0.050578925758600235]]\n",
            "Epoch: 0 Batch: 228, [Discriminator_A :: Loss: 0.4780152679886669], [ Generator :: Loss: [0.8227101564407349, 0.0012304360279813409, 0.0, 0.03732902556657791, 0.03405161574482918, 0.050617046654224396, 0.05705631896853447]]\n",
            "Epoch: 0 Batch: 229, [Discriminator_A :: Loss: 0.007218323757115286], [ Generator :: Loss: [1.0398824214935303, 0.010613749735057354, 0.0, 0.04418002441525459, 0.04329553246498108, 0.0845334455370903, 0.06997960805892944]]\n",
            "Epoch: 0 Batch: 230, [Discriminator_A :: Loss: 0.32462093164213], [ Generator :: Loss: [0.7894309163093567, 0.0011811702279374003, 0.0, 0.0403611995279789, 0.027154002338647842, 0.06902287155389786, 0.0440748929977417]]\n",
            "Epoch: 0 Batch: 231, [Discriminator_A :: Loss: 0.3694261083146557], [ Generator :: Loss: [0.9198851585388184, 0.004708323627710342, 0.0, 0.03574430197477341, 0.044938117265701294, 0.04288017749786377, 0.06547242403030396]]\n",
            "Epoch: 0 Batch: 232, [Discriminator_A :: Loss: 0.028192248661071062], [ Generator :: Loss: [0.8837968111038208, 0.0009466574410907924, 0.0, 0.048569418489933014, 0.027200423181056976, 0.07844848930835724, 0.046703264117240906]]\n",
            "Epoch: 0 Batch: 233, [Discriminator_A :: Loss: 0.4193001418025233], [ Generator :: Loss: [0.8589575290679932, 0.0001273352390853688, 0.0, 0.047289565205574036, 0.027019236236810684, 0.07276588678359985, 0.04297632724046707]]\n",
            "Epoch: 0 Batch: 234, [Discriminator_A :: Loss: 0.4625033861375414], [ Generator :: Loss: [0.6791000962257385, 0.00010599139204714447, 0.0, 0.028309602290391922, 0.030094372108578682, 0.05300913751125336, 0.04194522276520729]]\n",
            "Epoch: 0 Batch: 235, [Discriminator_A :: Loss: 0.48958424059674144], [ Generator :: Loss: [0.7130374908447266, 0.004520913120359182, 0.0, 0.02935582958161831, 0.032331060618162155, 0.04296419769525528, 0.04868349805474281]]\n",
            "Epoch: 0 Batch: 236, [Discriminator_A :: Loss: 0.31792957335710526], [ Generator :: Loss: [0.9153951406478882, 0.0009332626359537244, 0.0, 0.047544341534376144, 0.03374869003891945, 0.0569130964577198, 0.044618479907512665]]\n",
            "Epoch: 0 Batch: 237, [Discriminator_A :: Loss: 0.0825531774898991], [ Generator :: Loss: [1.0656410455703735, 0.001645133481360972, 0.0, 0.045154765248298645, 0.046220630407333374, 0.0803016647696495, 0.06994027644395828]]\n",
            "Epoch: 0 Batch: 238, [Discriminator_A :: Loss: 0.2510683287982829], [ Generator :: Loss: [0.9451075196266174, 0.0004975454648956656, 0.0, 0.04653315246105194, 0.03412963077425957, 0.08042536675930023, 0.05755675956606865]]\n",
            "Epoch: 0 Batch: 239, [Discriminator_A :: Loss: 0.0009225698304362595], [ Generator :: Loss: [0.965111255645752, 0.00047918708878569305, 0.0, 0.04401467740535736, 0.038207001984119415, 0.08237369358539581, 0.06004159525036812]]\n",
            "Epoch: 0 Batch: 240, [Discriminator_A :: Loss: 0.27240627482387936], [ Generator :: Loss: [0.697460412979126, 0.00017970269254874438, 0.0, 0.025684336200356483, 0.03334653377532959, 0.058252111077308655, 0.048719923943281174]]\n",
            "Epoch: 0 Batch: 241, [Discriminator_A :: Loss: 0.44456913173780777], [ Generator :: Loss: [0.7783428430557251, 0.000468434183858335, 0.0, 0.017102377489209175, 0.048018679022789, 0.05530347302556038, 0.07136034965515137]]\n",
            "Epoch: 0 Batch: 242, [Discriminator_A :: Loss: 0.2897458566003479], [ Generator :: Loss: [0.7607144713401794, 0.00022106336837168783, 0.0, 0.0270957313477993, 0.03824430704116821, 0.05451292172074318, 0.0525800921022892]]\n",
            "Epoch: 0 Batch: 243, [Discriminator_A :: Loss: 0.011323375365464017], [ Generator :: Loss: [0.9344215393066406, 0.0007577638607472181, 0.0, 0.04464476555585861, 0.0352642722427845, 0.08143234252929688, 0.053141091018915176]]\n",
            "Epoch: 0 Batch: 244, [Discriminator_A :: Loss: 0.25815586571116], [ Generator :: Loss: [3.0945534706115723, 0.9181714057922363, 1.0, 0.07308786362409592, 0.03432560712099075, 0.05547594651579857, 0.04677148163318634]]\n",
            "Epoch: 0 Batch: 245, [Discriminator_A :: Loss: 0.06334054654871579], [ Generator :: Loss: [0.893447756767273, 0.00028131305589340627, 0.0, 0.03809168562293053, 0.039610616862773895, 0.0713634267449379, 0.04477997124195099]]\n",
            "Epoch: 0 Batch: 246, [Discriminator_A :: Loss: 0.26900538499467075], [ Generator :: Loss: [0.8339765071868896, 0.0026170932687819004, 0.0, 0.0368172712624073, 0.03431946039199829, 0.06578929722309113, 0.054202839732170105]]\n",
            "Epoch: 0 Batch: 247, [Discriminator_A :: Loss: 0.009670878120232373], [ Generator :: Loss: [0.7922389507293701, 0.000553428428247571, 0.0, 0.03120705671608448, 0.03654702752828598, 0.05662918463349342, 0.057515501976013184]]\n",
            "Epoch: 0 Batch: 248, [Discriminator_A :: Loss: 0.0013616321084555238], [ Generator :: Loss: [0.8389639258384705, 0.0005154014797881246, 0.0, 0.03758980333805084, 0.03297878056764603, 0.07805117964744568, 0.054711516946554184]]\n",
            "Epoch: 0 Batch: 249, [Discriminator_A :: Loss: 0.37205273762810975], [ Generator :: Loss: [0.6413353085517883, 0.0005608878564089537, 0.0, 0.026408571749925613, 0.02825184352695942, 0.04871591180562973, 0.045454345643520355]]\n",
            "Epoch: 0 Batch: 250, [Discriminator_A :: Loss: 0.0014104280562605709], [ Generator :: Loss: [0.8470403552055359, 0.0012234710156917572, 0.0, 0.04308932647109032, 0.029061252251267433, 0.08042928576469421, 0.043881818652153015]]\n",
            "Epoch: 0 Batch: 251, [Discriminator_A :: Loss: 0.4970893654972315], [ Generator :: Loss: [2.535266399383545, 0.6605386734008789, 1.0, 0.023508235812187195, 0.05121656507253647, 0.04315480962395668, 0.08432483673095703]]\n",
            "Epoch: 0 Batch: 252, [Discriminator_A :: Loss: 0.44653498544357717], [ Generator :: Loss: [0.9910164475440979, 0.0036238362081348896, 0.0, 0.03708099573850632, 0.04895342141389847, 0.05673162639141083, 0.07031678408384323]]\n",
            "Epoch: 0 Batch: 253, [Discriminator_A :: Loss: 0.08710478886496276], [ Generator :: Loss: [0.9819728136062622, 0.013240456581115723, 0.0, 0.04780659079551697, 0.037748586386442184, 0.05403821915388107, 0.0591423436999321]]\n",
            "Epoch: 0 Batch: 254, [Discriminator_A :: Loss: 0.30952467769384384], [ Generator :: Loss: [1.2277138233184814, 0.15168069303035736, 0.0, 0.04905137047171593, 0.04814755171537399, 0.04132039472460747, 0.06272350251674652]]\n",
            "Epoch: 0 Batch: 255, [Discriminator_A :: Loss: 0.10942652093945071], [ Generator :: Loss: [1.0874863862991333, 0.00047309245564974844, 0.0, 0.0535883754491806, 0.04400211572647095, 0.0646352767944336, 0.04647306352853775]]\n",
            "Epoch: 0 Batch: 256, [Discriminator_A :: Loss: 0.37074309363379143], [ Generator :: Loss: [0.9560882449150085, 0.0013097400078549981, 0.0, 0.042537860572338104, 0.042529113590717316, 0.0517849400639534, 0.0523238405585289]]\n",
            "Epoch: 0 Batch: 257, [Discriminator_A :: Loss: 0.49122095853090286], [ Generator :: Loss: [1.1303091049194336, 0.00044760966557078063, 0.0, 0.05971786379814148, 0.04209405928850174, 0.05023970082402229, 0.06150262802839279]]\n",
            "Epoch: 0 Batch: 258, [Discriminator_A :: Loss: 0.011029310000594705], [ Generator :: Loss: [1.1024830341339111, 0.00172894774004817, 0.0, 0.04803406074643135, 0.04699360579252243, 0.08309309929609299, 0.06738428771495819]]\n",
            "Epoch: 0 Batch: 259, [Discriminator_A :: Loss: 0.010902638547122478], [ Generator :: Loss: [0.8358850479125977, 0.0006739323725923896, 0.0, 0.03389453887939453, 0.039561472833156586, 0.04945260286331177, 0.051198359578847885]]\n",
            "Epoch: 0 Batch: 260, [Discriminator_A :: Loss: 0.4576830605510622], [ Generator :: Loss: [0.7055054903030396, 0.0004453351139090955, 0.0, 0.01753578521311283, 0.04333767294883728, 0.027565961703658104, 0.06875966489315033]]\n",
            "Epoch: 0 Batch: 261, [Discriminator_A :: Loss: 0.022884333546244306], [ Generator :: Loss: [0.9198191165924072, 6.229044811334461e-05, 0.0, 0.04155068099498749, 0.037241946905851364, 0.07845005393028259, 0.05338045209646225]]\n",
            "Epoch: 0 Batch: 262, [Discriminator_A :: Loss: 0.226884609030094], [ Generator :: Loss: [0.750503659248352, 0.0009982774499803782, 0.0, 0.030853377655148506, 0.03473996743559837, 0.044746946543455124, 0.04882495850324631]]\n",
            "Epoch: 0 Batch: 263, [Discriminator_A :: Loss: 0.00733033346477896], [ Generator :: Loss: [0.8814172148704529, 0.0027968669310212135, 0.0, 0.03728563338518143, 0.03782762214541435, 0.0687050074338913, 0.05878274142742157]]\n",
            "Epoch: 0 Batch: 264, [Discriminator_A :: Loss: 0.08943535544676706], [ Generator :: Loss: [0.8406396508216858, 0.00041901940130628645, 0.0, 0.03897785395383835, 0.03489070385694504, 0.04565844684839249, 0.055876560509204865]]\n",
            "Epoch: 0 Batch: 265, [Discriminator_A :: Loss: 0.3241228982806206], [ Generator :: Loss: [0.8647071719169617, 0.0017155902460217476, 0.0, 0.03456732630729675, 0.039514437317848206, 0.05141957476735115, 0.07075436413288116]]\n",
            "Epoch: 0 Batch: 266, [Discriminator_A :: Loss: 0.0012049742508679628], [ Generator :: Loss: [0.8194522261619568, 0.001170109724625945, 0.0, 0.034702055156230927, 0.03627606853842735, 0.05623573809862137, 0.05226511135697365]]\n",
            "Epoch: 0 Batch: 267, [Discriminator_A :: Loss: 0.0023416184703819454], [ Generator :: Loss: [2.8235723972320557, 0.9601105451583862, 1.0, 0.04300662875175476, 0.03227466717362404, 0.0661652460694313, 0.044483527541160583]]\n",
            "Epoch: 0 Batch: 268, [Discriminator_A :: Loss: 0.2743296023691073], [ Generator :: Loss: [0.9465481638908386, 0.001200459199026227, 0.0, 0.032683856785297394, 0.04983372613787651, 0.058011893182992935, 0.06216002628207207]]\n",
            "Epoch: 0 Batch: 269, [Discriminator_A :: Loss: 0.08202808743226342], [ Generator :: Loss: [0.8995610475540161, 0.00019773613894358277, 0.0, 0.034024979919195175, 0.045826297253370285, 0.05856922268867493, 0.042281314730644226]]\n",
            "Epoch: 0 Batch: 270, [Discriminator_A :: Loss: 0.005126399308210239], [ Generator :: Loss: [2.7103111743927, 0.9892858266830444, 1.0, 0.02709658071398735, 0.03452222794294357, 0.058578010648489, 0.04625936597585678]]\n",
            "Epoch: 0 Batch: 271, [Discriminator_A :: Loss: 0.06994594912976027], [ Generator :: Loss: [0.8063642382621765, 0.0016695295926183462, 0.0, 0.03511687368154526, 0.035543154925107956, 0.06581256538629532, 0.032281823456287384]]\n",
            "Epoch: 0 Batch: 272, [Discriminator_A :: Loss: 0.3791906724218279], [ Generator :: Loss: [0.9476720094680786, 0.004471099004149437, 0.0, 0.03262561187148094, 0.049130879342556, 0.060872532427310944, 0.06476346403360367]]\n",
            "Epoch: 0 Batch: 273, [Discriminator_A :: Loss: 0.11979719251394272], [ Generator :: Loss: [1.1429650783538818, 0.010710524395108223, 0.0, 0.04960370063781738, 0.05068664997816086, 0.062471821904182434, 0.06687910109758377]]\n",
            "Epoch: 0 Batch: 274, [Discriminator_A :: Loss: 0.13399583072168753], [ Generator :: Loss: [1.0225450992584229, 0.0001994547201320529, 0.0, 0.046220459043979645, 0.04336884990334511, 0.06225968897342682, 0.06419298052787781]]\n",
            "Epoch: 0 Batch: 275, [Discriminator_A :: Loss: 0.3023736212780932], [ Generator :: Loss: [0.8661168217658997, 0.0004361504688858986, 0.0, 0.03121909499168396, 0.044568657875061035, 0.043729763478040695, 0.06407338380813599]]\n",
            "Epoch: 0 Batch: 276, [Discriminator_A :: Loss: 0.04257881152443588], [ Generator :: Loss: [0.7995482087135315, 0.0015150854596868157, 0.0, 0.03155820816755295, 0.03689676150679588, 0.05571223795413971, 0.05777117237448692]]\n",
            "Epoch: 0 Batch: 277, [Discriminator_A :: Loss: 0.3241819773174939], [ Generator :: Loss: [0.8457787036895752, 6.993891292950138e-05, 0.0, 0.039243683218955994, 0.03371552750468254, 0.06343866884708405, 0.05267797037959099]]\n",
            "Epoch: 0 Batch: 278, [Discriminator_A :: Loss: 0.0011508730240166187], [ Generator :: Loss: [3.210519790649414, 0.9836500883102417, 1.0, 0.055106326937675476, 0.05618516728281975, 0.05716433376073837, 0.0567903146147728]]\n",
            "Epoch: 0 Batch: 279, [Discriminator_A :: Loss: 0.45314476813655347], [ Generator :: Loss: [0.8612450361251831, 0.0008095931261777878, 0.0, 0.03462904691696167, 0.03940684348344803, 0.054775264114141464, 0.06530128419399261]]\n",
            "Epoch: 0 Batch: 280, [Discriminator_A :: Loss: 0.2942826302605681], [ Generator :: Loss: [0.9620249271392822, 0.0004184290883131325, 0.0, 0.04037821292877197, 0.0421300046145916, 0.06693802773952484, 0.06958628445863724]]\n",
            "Epoch: 0 Batch: 281, [Discriminator_A :: Loss: 0.01079685753211379], [ Generator :: Loss: [2.906989097595215, 0.9566628336906433, 1.0, 0.04833589121699333, 0.03332717344164848, 0.09027537703514099, 0.04342040792107582]]\n",
            "Epoch: 0 Batch: 282, [Discriminator_A :: Loss: 0.1698994880716782], [ Generator :: Loss: [0.8906623721122742, 6.831643986515701e-05, 0.0, 0.0418468713760376, 0.03509750962257385, 0.07611432671546936, 0.04503592103719711]]\n",
            "Epoch: 0 Batch: 283, [Discriminator_A :: Loss: 0.03936907649040222], [ Generator :: Loss: [2.6922707557678223, 0.9120393395423889, 1.0, 0.03570455312728882, 0.031208544969558716, 0.0687180683016777, 0.04238223657011986]]\n",
            "Epoch: 0 Batch: 284, [Discriminator_A :: Loss: 0.22354541905224323], [ Generator :: Loss: [0.8724417686462402, 0.001867446699179709, 0.0, 0.037938348948955536, 0.03738819807767868, 0.05780968442559242, 0.05949913710355759]]\n",
            "Epoch: 0 Batch: 285, [Discriminator_A :: Loss: 0.3764892590697855], [ Generator :: Loss: [1.0423293113708496, 0.0007223563734441996, 0.0, 0.04785813391208649, 0.04289264976978302, 0.06472624838352203, 0.06937287747859955]]\n",
            "Epoch: 0 Batch: 286, [Discriminator_A :: Loss: 0.0742166004201863], [ Generator :: Loss: [0.852666437625885, 0.00012380869884509593, 0.0, 0.04046814888715744, 0.032535891979932785, 0.07533109188079834, 0.04717111214995384]]\n",
            "Epoch: 0 Batch: 287, [Discriminator_A :: Loss: 0.0028769270866177976], [ Generator :: Loss: [0.7442378997802734, 0.0003987818490713835, 0.0, 0.03774980455636978, 0.024454059079289436, 0.07354294508695602, 0.04825752228498459]]\n",
            "Epoch: 0 Batch: 288, [Discriminator_A :: Loss: 0.29347978773876093], [ Generator :: Loss: [0.7782686948776245, 0.00031895600841380656, 0.0, 0.03580024093389511, 0.03096586838364601, 0.061319105327129364, 0.04896952211856842]]\n",
            "Epoch: 0 Batch: 289, [Discriminator_A :: Loss: 0.008263009658548981], [ Generator :: Loss: [0.9070404767990112, 0.0006992261623963714, 0.0, 0.03827403113245964, 0.039338402450084686, 0.0683329850435257, 0.06188393384218216]]\n",
            "Epoch: 0 Batch: 290, [Discriminator_A :: Loss: 0.14373775129206479], [ Generator :: Loss: [1.2404887676239014, 0.00023252333630807698, 0.0, 0.07444571703672409, 0.03982367739081383, 0.05106072500348091, 0.04650160297751427]]\n",
            "Epoch: 0 Batch: 291, [Discriminator_A :: Loss: 0.004464426543563604], [ Generator :: Loss: [1.2195826768875122, 0.000499754911288619, 0.0, 0.058079205453395844, 0.05263843387365341, 0.0765225887298584, 0.03538397327065468]]\n",
            "Epoch: 0 Batch: 292, [Discriminator_A :: Loss: 0.1113835105788894], [ Generator :: Loss: [3.0820975303649902, 0.9306846857070923, 1.0, 0.05073176696896553, 0.04923895746469498, 0.08310188353061676, 0.06860385835170746]]\n",
            "Epoch: 0 Batch: 293, [Discriminator_A :: Loss: 0.18215091015736107], [ Generator :: Loss: [1.0888447761535645, 0.00029246220947243273, 0.0, 0.05674644932150841, 0.039815373718738556, 0.0641285628080368, 0.05880548432469368]]\n",
            "Epoch: 0 Batch: 294, [Discriminator_A :: Loss: 0.16883402728126384], [ Generator :: Loss: [0.8949640393257141, 0.0007866122177802026, 0.0, 0.04441795125603676, 0.03390150144696236, 0.05769870802760124, 0.053284212946891785]]\n",
            "Epoch: 0 Batch: 295, [Discriminator_A :: Loss: 0.0026661715819500387], [ Generator :: Loss: [0.9043124914169312, 0.00030220943153835833, 0.0, 0.04134790599346161, 0.03666585311293602, 0.0757121816277504, 0.04816051572561264]]\n",
            "Epoch: 0 Batch: 296, [Discriminator_A :: Loss: 0.00211282646341715], [ Generator :: Loss: [1.138904094696045, 0.0005560957943089306, 0.0, 0.04807562381029129, 0.052693214267492294, 0.06587518751621246, 0.06478451192378998]]\n",
            "Epoch: 0 Batch: 297, [Discriminator_A :: Loss: 0.0009353860004921444], [ Generator :: Loss: [0.8332538604736328, 0.0001719403953757137, 0.0, 0.04050957411527634, 0.03178177401423454, 0.07091856747865677, 0.03924982249736786]]\n",
            "Epoch: 0 Batch: 298, [Discriminator_A :: Loss: 0.025418230605282588], [ Generator :: Loss: [0.9110047817230225, 5.7412766182096675e-05, 0.0, 0.02502545900642872, 0.055667389184236526, 0.06030125916004181, 0.04371769726276398]]\n",
            "Epoch: 0 Batch: 299, [Discriminator_A :: Loss: 0.4758197492919862], [ Generator :: Loss: [2.6466262340545654, 0.936697244644165, 1.0, 0.02704717218875885, 0.035054419189691544, 0.03728216886520386, 0.051630958914756775]]\n",
            "Epoch: 0 Batch: 300, [Discriminator_A :: Loss: 0.05270911124534905], [ Generator :: Loss: [2.7942941188812256, 0.8957087993621826, 1.0, 0.03236670792102814, 0.04493866115808487, 0.05674413591623306, 0.06878746300935745]]\n",
            "Image_A shape: (64, 64, 3)\n",
            "fake_B shape: (64, 64, 3)\n",
            "reconstructed_A shape: (64, 64, 3)\n"
          ]
        },
        {
          "output_type": "stream",
          "name": "stderr",
          "text": [
            "WARNING:absl:Found untraced functions such as leaky_re_lu_4_layer_call_fn, leaky_re_lu_4_layer_call_and_return_conditional_losses, leaky_re_lu_5_layer_call_fn, leaky_re_lu_5_layer_call_and_return_conditional_losses, leaky_re_lu_6_layer_call_fn while saving (showing 5 of 80). These functions will not be directly callable after loading.\n"
          ]
        },
        {
          "output_type": "stream",
          "name": "stdout",
          "text": [
            "INFO:tensorflow:Assets written to: /content/gdrive/My Drive/Colab Notebooks/cycleGAN/monet2photo_out/gan_model/assets\n"
          ]
        },
        {
          "output_type": "stream",
          "name": "stderr",
          "text": [
            "INFO:tensorflow:Assets written to: /content/gdrive/My Drive/Colab Notebooks/cycleGAN/monet2photo_out/gan_model/assets\n",
            "WARNING:absl:Found untraced functions such as leaky_re_lu_layer_call_fn, leaky_re_lu_layer_call_and_return_conditional_losses, leaky_re_lu_1_layer_call_fn, leaky_re_lu_1_layer_call_and_return_conditional_losses, leaky_re_lu_2_layer_call_fn while saving (showing 5 of 20). These functions will not be directly callable after loading.\n"
          ]
        },
        {
          "output_type": "stream",
          "name": "stdout",
          "text": [
            "INFO:tensorflow:Assets written to: /content/gdrive/My Drive/Colab Notebooks/cycleGAN/monet2photo_out/generator_A_to_B/assets\n"
          ]
        },
        {
          "output_type": "stream",
          "name": "stderr",
          "text": [
            "INFO:tensorflow:Assets written to: /content/gdrive/My Drive/Colab Notebooks/cycleGAN/monet2photo_out/generator_A_to_B/assets\n",
            "WARNING:absl:Found untraced functions such as leaky_re_lu_4_layer_call_fn, leaky_re_lu_4_layer_call_and_return_conditional_losses, leaky_re_lu_5_layer_call_fn, leaky_re_lu_5_layer_call_and_return_conditional_losses, leaky_re_lu_6_layer_call_fn while saving (showing 5 of 20). These functions will not be directly callable after loading.\n"
          ]
        },
        {
          "output_type": "stream",
          "name": "stdout",
          "text": [
            "INFO:tensorflow:Assets written to: /content/gdrive/My Drive/Colab Notebooks/cycleGAN/monet2photo_out/generator_B_to_A/assets\n"
          ]
        },
        {
          "output_type": "stream",
          "name": "stderr",
          "text": [
            "INFO:tensorflow:Assets written to: /content/gdrive/My Drive/Colab Notebooks/cycleGAN/monet2photo_out/generator_B_to_A/assets\n",
            "WARNING:absl:Found untraced functions such as leaky_re_lu_8_layer_call_fn, leaky_re_lu_8_layer_call_and_return_conditional_losses, leaky_re_lu_9_layer_call_fn, leaky_re_lu_9_layer_call_and_return_conditional_losses, leaky_re_lu_10_layer_call_fn while saving (showing 5 of 20). These functions will not be directly callable after loading.\n"
          ]
        },
        {
          "output_type": "stream",
          "name": "stdout",
          "text": [
            "INFO:tensorflow:Assets written to: /content/gdrive/My Drive/Colab Notebooks/cycleGAN/monet2photo_out/discriminator_A/assets\n"
          ]
        },
        {
          "output_type": "stream",
          "name": "stderr",
          "text": [
            "INFO:tensorflow:Assets written to: /content/gdrive/My Drive/Colab Notebooks/cycleGAN/monet2photo_out/discriminator_A/assets\n",
            "WARNING:absl:Found untraced functions such as leaky_re_lu_12_layer_call_fn, leaky_re_lu_12_layer_call_and_return_conditional_losses, leaky_re_lu_13_layer_call_fn, leaky_re_lu_13_layer_call_and_return_conditional_losses, leaky_re_lu_14_layer_call_fn while saving (showing 5 of 20). These functions will not be directly callable after loading.\n"
          ]
        },
        {
          "output_type": "stream",
          "name": "stdout",
          "text": [
            "INFO:tensorflow:Assets written to: /content/gdrive/My Drive/Colab Notebooks/cycleGAN/monet2photo_out/discriminator_B/assets\n"
          ]
        },
        {
          "output_type": "stream",
          "name": "stderr",
          "text": [
            "INFO:tensorflow:Assets written to: /content/gdrive/My Drive/Colab Notebooks/cycleGAN/monet2photo_out/discriminator_B/assets\n"
          ]
        },
        {
          "output_type": "stream",
          "name": "stdout",
          "text": [
            "Epoch: 0 Batch: 301, [Discriminator_A :: Loss: 0.004401750076794997], [ Generator :: Loss: [0.94499671459198, 0.00046490872045978904, 0.0, 0.03739483654499054, 0.04446003586053848, 0.062170714139938354, 0.06381244212388992]]\n",
            "Epoch: 0 Batch: 302, [Discriminator_A :: Loss: 0.0012603386157934438], [ Generator :: Loss: [0.9706043601036072, 0.015598546713590622, 0.0, 0.04549667239189148, 0.03785968944430351, 0.06257586926221848, 0.058866314589977264]]\n",
            "Epoch: 0 Batch: 303, [Discriminator_A :: Loss: 0.12034713181492407], [ Generator :: Loss: [0.9771628379821777, 0.0003813859075307846, 0.0, 0.04433049261569977, 0.04245215281844139, 0.05738525837659836, 0.051569677889347076]]\n",
            "Epoch: 0 Batch: 304, [Discriminator_A :: Loss: 0.007378950191196054], [ Generator :: Loss: [0.8125261068344116, 0.0005847961292602122, 0.0, 0.03955450281500816, 0.03213459998369217, 0.056866470724344254, 0.038183826953172684]]\n",
            "Epoch: 0 Batch: 305, [Discriminator_A :: Loss: 0.026656919828383252], [ Generator :: Loss: [0.7538533806800842, 0.000705297919921577, 0.0, 0.02812223508954048, 0.03573743626475334, 0.053497377783060074, 0.06105399131774902]]\n",
            "Epoch: 0 Batch: 306, [Discriminator_A :: Loss: 0.4075861340970732], [ Generator :: Loss: [0.8071926832199097, 0.0009926544735208154, 0.0, 0.0359756238758564, 0.034128669649362564, 0.05251454561948776, 0.05264255404472351]]\n",
            "Epoch: 0 Batch: 307, [Discriminator_A :: Loss: 0.4440675016230671], [ Generator :: Loss: [2.784317970275879, 0.961117148399353, 1.0, 0.03623538464307785, 0.03594035655260086, 0.05007573217153549, 0.05136774852871895]]\n",
            "Epoch: 0 Batch: 308, [Discriminator_A :: Loss: 0.4431787961657392], [ Generator :: Loss: [0.7260873317718506, 0.00011631715460680425, 0.0, 0.024969153106212616, 0.03901189938187599, 0.04434974864125252, 0.0418107695877552]]\n",
            "Epoch: 0 Batch: 309, [Discriminator_A :: Loss: 0.0003967720695072785], [ Generator :: Loss: [1.0401958227157593, 0.000586437585297972, 0.0, 0.04612173140048981, 0.04395914450287819, 0.0781174749135971, 0.060683175921440125]]\n",
            "Epoch: 0 Batch: 310, [Discriminator_A :: Loss: 0.14894616231322289], [ Generator :: Loss: [0.9831377863883972, 0.04831405729055405, 0.0, 0.03573492914438248, 0.04574214294552803, 0.06225787475705147, 0.057795166969299316]]\n",
            "Epoch: 0 Batch: 311, [Discriminator_A :: Loss: 0.03921743028331548], [ Generator :: Loss: [1.1121447086334229, 0.00047025750973261893, 0.0, 0.045554812997579575, 0.04894347861409187, 0.08796150237321854, 0.07872997969388962]]\n",
            "Epoch: 0 Batch: 312, [Discriminator_A :: Loss: 0.2931597093556775], [ Generator :: Loss: [0.7343675494194031, 0.00017653666145633906, 0.0, 0.03316640108823776, 0.02990783005952835, 0.05826069787144661, 0.04518797621130943]]\n",
            "Epoch: 0 Batch: 313, [Discriminator_A :: Loss: 0.45315130800008774], [ Generator :: Loss: [1.0494251251220703, 0.014206236228346825, 0.0, 0.04393710568547249, 0.04566773399710655, 0.07791846990585327, 0.061251960694789886]]\n",
            "Epoch: 0 Batch: 314, [Discriminator_A :: Loss: 0.3166107319993898], [ Generator :: Loss: [0.7522498965263367, 0.0008259458700194955, 0.0, 0.03472978249192238, 0.03036639094352722, 0.06423541158437729, 0.03622681647539139]]\n",
            "Epoch: 0 Batch: 315, [Discriminator_A :: Loss: 0.2448849296051776], [ Generator :: Loss: [1.6845052242279053, 0.011930863372981548, 0.0, 0.0374935008585453, 0.11251714825630188, 0.056991953402757645, 0.11547601222991943]]\n",
            "Epoch: 0 Batch: 316, [Discriminator_A :: Loss: 0.011041925055906177], [ Generator :: Loss: [1.1733078956604004, 0.002216547029092908, 0.0, 0.06238872557878494, 0.04062168672680855, 0.0875810906291008, 0.05340622365474701]]\n",
            "Epoch: 0 Batch: 317, [Discriminator_A :: Loss: 0.0024175211146939546], [ Generator :: Loss: [0.8862895965576172, 0.001199389691464603, 0.0, 0.04276146739721298, 0.035433292388916016, 0.04908165708184242, 0.05406096950173378]]\n",
            "Epoch: 0 Batch: 318, [Discriminator_A :: Loss: 0.22358169457584154], [ Generator :: Loss: [0.7239863872528076, 0.0002838379587046802, 0.0, 0.0271742083132267, 0.032760705798864365, 0.06749311834573746, 0.0568603053689003]]\n",
            "Epoch: 0 Batch: 319, [Discriminator_A :: Loss: 0.11224026407580823], [ Generator :: Loss: [0.856475830078125, 0.003267138497903943, 0.0, 0.03680354729294777, 0.037827201187610626, 0.06497111171483994, 0.04193007946014404]]\n",
            "Epoch: 0 Batch: 320, [Discriminator_A :: Loss: 0.0037995333586877678], [ Generator :: Loss: [1.0046793222427368, 0.0022782068699598312, 0.0, 0.05405500531196594, 0.03354626148939133, 0.07883217930793762, 0.047556277364492416]]\n",
            "Epoch: 0 Batch: 321, [Discriminator_A :: Loss: 0.00603275652974844], [ Generator :: Loss: [0.8127527236938477, 0.0007367813377641141, 0.0, 0.036065492779016495, 0.033910997211933136, 0.06908300518989563, 0.043168067932128906]]\n",
            "Epoch: 0 Batch: 322, [Discriminator_A :: Loss: 0.004389735364384251], [ Generator :: Loss: [1.174979567527771, 0.000248496129643172, 0.0, 0.04772007092833519, 0.053018949925899506, 0.09064427763223648, 0.07669652253389359]]\n",
            "Epoch: 0 Batch: 323, [Discriminator_A :: Loss: 0.019174741006281693], [ Generator :: Loss: [0.9394307136535645, 0.00018616307352203876, 0.0, 0.04716542363166809, 0.03361666202545166, 0.073752760887146, 0.057670921087265015]]\n",
            "Epoch: 0 Batch: 324, [Discriminator_A :: Loss: 0.0002843516122084111], [ Generator :: Loss: [0.9110639691352844, 9.889660577755421e-05, 0.0, 0.04520367830991745, 0.03230565786361694, 0.09057662636041641, 0.04529508203268051]]\n",
            "Epoch: 0 Batch: 325, [Discriminator_A :: Loss: 0.41131264762952924], [ Generator :: Loss: [0.8756390810012817, 0.0011546371970325708, 0.0, 0.03938758000731468, 0.03607770800590515, 0.06517713516950607, 0.05465443804860115]]\n",
            "Epoch: 0 Batch: 326, [Discriminator_A :: Loss: 0.0889452247065492], [ Generator :: Loss: [0.8853754997253418, 0.0004328083887230605, 0.0, 0.03977721929550171, 0.03706803545355797, 0.06702587753534317, 0.04946426674723625]]\n",
            "Epoch: 0 Batch: 327, [Discriminator_A :: Loss: 0.0006448496715165675], [ Generator :: Loss: [2.782564401626587, 0.9392062425613403, 1.0, 0.03946203365921974, 0.03273515775799751, 0.06840361654758453, 0.05298250913619995]]\n",
            "Epoch: 0 Batch: 328, [Discriminator_A :: Loss: 0.1370953555451706], [ Generator :: Loss: [0.7941231727600098, 0.0003005951293744147, 0.0, 0.03752049803733826, 0.032164134085178375, 0.062177371233701706, 0.034798916429281235]]\n",
            "Epoch: 0 Batch: 329, [Discriminator_A :: Loss: 0.17140206725161988], [ Generator :: Loss: [0.7827056646347046, 0.00031715742079541087, 0.0, 0.030807701870799065, 0.03751479834318161, 0.05138988792896271, 0.047773659229278564]]\n",
            "Epoch: 0 Batch: 330, [Discriminator_A :: Loss: 0.4476031952071935], [ Generator :: Loss: [0.7222241163253784, 0.0004260151763446629, 0.0, 0.023162832483649254, 0.04021516442298889, 0.03596780076622963, 0.05205029994249344]]\n",
            "Epoch: 0 Batch: 331, [Discriminator_A :: Loss: 0.04927466996014118], [ Generator :: Loss: [0.9838330745697021, 0.0004951339797116816, 0.0, 0.041772324591875076, 0.042917896062135696, 0.07557520270347595, 0.0608605295419693]]\n",
            "Epoch: 0 Batch: 332, [Discriminator_A :: Loss: 0.4685361306401319], [ Generator :: Loss: [0.8046236038208008, 0.00015182602510321885, 0.0, 0.029576707631349564, 0.0398511178791523, 0.05370054021477699, 0.05649302527308464]]\n",
            "Epoch: 0 Batch: 333, [Discriminator_A :: Loss: 0.4905888072680682], [ Generator :: Loss: [0.864081621170044, 0.032638147473335266, 0.0, 0.02856423892080784, 0.044132720679044724, 0.032456062734127045, 0.07201781868934631]]\n",
            "Epoch: 0 Batch: 334, [Discriminator_A :: Loss: 0.03232426586328074], [ Generator :: Loss: [2.918548107147217, 0.8583306074142456, 1.0, 0.03608317673206329, 0.05680793523788452, 0.05532199516892433, 0.0759844034910202]]\n",
            "Epoch: 0 Batch: 335, [Discriminator_A :: Loss: 0.37099495573784225], [ Generator :: Loss: [0.8199711441993713, 0.0011347132967785, 0.0, 0.03327465429902077, 0.03714759647846222, 0.05316729098558426, 0.061446644365787506]]\n",
            "Epoch: 0 Batch: 336, [Discriminator_A :: Loss: 0.030000816099345684], [ Generator :: Loss: [0.8851989507675171, 0.004464469850063324, 0.0, 0.04160749912261963, 0.03401469439268112, 0.0749119371175766, 0.04960063472390175]]\n",
            "Epoch: 0 Batch: 337, [Discriminator_A :: Loss: 0.19417288337717764], [ Generator :: Loss: [2.705188512802124, 0.9530683755874634, 1.0, 0.031048065051436424, 0.03536807373166084, 0.04806089773774147, 0.03989795222878456]]\n",
            "Epoch: 0 Batch: 338, [Discriminator_A :: Loss: 0.47833656263537705], [ Generator :: Loss: [2.7300736904144287, 0.9271760582923889, 1.0, 0.036531634628772736, 0.033674292266368866, 0.05552670732140541, 0.04531165957450867]]\n",
            "Epoch: 0 Batch: 339, [Discriminator_A :: Loss: 0.13618739997036755], [ Generator :: Loss: [0.8460314273834229, 0.004573235288262367, 0.0, 0.03700917586684227, 0.03727865591645241, 0.04796202853322029, 0.050617821514606476]]\n",
            "Epoch: 0 Batch: 340, [Discriminator_A :: Loss: 0.01119106262922287], [ Generator :: Loss: [2.8109993934631348, 0.8494241237640381, 1.0, 0.04600144550204277, 0.03767407312989235, 0.07306616008281708, 0.051753949373960495]]\n",
            "Epoch: 0 Batch: 341, [Discriminator_A :: Loss: 0.019397945259697735], [ Generator :: Loss: [0.8712904453277588, 0.0009355437359772623, 0.0, 0.036133769899606705, 0.038891058415174484, 0.06528736650943756, 0.05481922999024391]]\n",
            "Epoch: 0 Batch: 342, [Discriminator_A :: Loss: 0.00024095866683637723], [ Generator :: Loss: [2.886937379837036, 0.9702366590499878, 1.0, 0.047768428921699524, 0.032221075147390366, 0.07039319723844528, 0.046412572264671326]]\n",
            "Epoch: 0 Batch: 343, [Discriminator_A :: Loss: 0.12428699532756582], [ Generator :: Loss: [0.7578010559082031, 0.0005991850630380213, 0.0, 0.03027261234819889, 0.03468788415193558, 0.05751761049032211, 0.05007929727435112]]\n",
            "Epoch: 0 Batch: 344, [Discriminator_A :: Loss: 0.24845955467026215], [ Generator :: Loss: [0.7963874340057373, 0.0002918998070526868, 0.0, 0.028293700888752937, 0.039259374141693115, 0.05437976494431496, 0.06618505716323853]]\n",
            "Epoch: 0 Batch: 345, [Discriminator_A :: Loss: 0.16153504233807325], [ Generator :: Loss: [0.9244284629821777, 0.00174453214276582, 0.0, 0.04578924924135208, 0.03490094467997551, 0.05442183464765549, 0.061360206454992294]]\n",
            "Epoch: 0 Batch: 346, [Discriminator_A :: Loss: 0.0006353363860398531], [ Generator :: Loss: [0.8789043426513672, 0.0006870583747513592, 0.0, 0.04124781861901283, 0.03394217789173126, 0.073458731174469, 0.05285854637622833]]\n",
            "Epoch: 0 Batch: 347, [Discriminator_A :: Loss: 0.005382783245295286], [ Generator :: Loss: [1.2008839845657349, 0.2899107038974762, 0.0, 0.02598234824836254, 0.05201224610209465, 0.04584074020385742, 0.08518660813570023]]\n",
            "Epoch: 0 Batch: 348, [Discriminator_A :: Loss: 0.01528550824150443], [ Generator :: Loss: [1.0570311546325684, 0.0015797956148162484, 0.0, 0.04151862487196922, 0.05154728516936302, 0.05591721832752228, 0.06887508928775787]]\n",
            "Epoch: 0 Batch: 349, [Discriminator_A :: Loss: 0.008361643209354952], [ Generator :: Loss: [1.054635763168335, 0.006448842119425535, 0.0, 0.03692852705717087, 0.05409993603825569, 0.06304402649402618, 0.07485825568437576]]\n",
            "Epoch: 0 Batch: 350, [Discriminator_A :: Loss: 0.29293327283812687], [ Generator :: Loss: [0.7867436408996582, 0.00020466189016588032, 0.0, 0.03272353485226631, 0.03615912050008774, 0.050563495606184006, 0.047148898243904114]]\n",
            "Epoch: 0 Batch: 351, [Discriminator_A :: Loss: 0.00520460051484406], [ Generator :: Loss: [0.8892995119094849, 0.00018867796461563557, 0.0, 0.044389739632606506, 0.031715840101242065, 0.08747486770153046, 0.040580183267593384]]\n",
            "Epoch: 0 Batch: 352, [Discriminator_A :: Loss: 0.03329954897344578], [ Generator :: Loss: [1.0107781887054443, 0.00030881448765285313, 0.0, 0.04150351881980896, 0.04591778293251991, 0.07283881306648254, 0.06341750919818878]]\n",
            "Epoch: 0 Batch: 353, [Discriminator_A :: Loss: 0.3470042863045819], [ Generator :: Loss: [0.6677731871604919, 0.00041742989560589194, 0.0, 0.02511158026754856, 0.033573247492313385, 0.04595564305782318, 0.034551847726106644]]\n",
            "Epoch: 0 Batch: 354, [Discriminator_A :: Loss: 0.20042845347779803], [ Generator :: Loss: [0.8906879425048828, 0.0006561820046044886, 0.0, 0.04060441628098488, 0.0391334593296051, 0.05084715038537979, 0.04180588573217392]]\n",
            "Epoch: 0 Batch: 355, [Discriminator_A :: Loss: 0.0016036761808209121], [ Generator :: Loss: [0.921920895576477, 0.0004491924191825092, 0.0, 0.043275974690914154, 0.03722638264298439, 0.062077756971120834, 0.05437038838863373]]\n",
            "Epoch: 0 Batch: 356, [Discriminator_A :: Loss: 0.44768831599503756], [ Generator :: Loss: [0.8923097848892212, 0.009124905802309513, 0.0, 0.02489258348941803, 0.05203354358673096, 0.04146108403801918, 0.07246243953704834]]\n",
            "Epoch: 0 Batch: 357, [Discriminator_A :: Loss: 0.31139108911156654], [ Generator :: Loss: [0.8055824637413025, 0.0006011592922732234, 0.0, 0.03861040621995926, 0.031613752245903015, 0.06096315383911133, 0.04177655279636383]]\n",
            "Epoch: 0 Batch: 358, [Discriminator_A :: Loss: 0.46496179047971964], [ Generator :: Loss: [0.6274396181106567, 0.0022050116676837206, 0.0, 0.02205055020749569, 0.032699570059776306, 0.033171579241752625, 0.04456179589033127]]\n",
            "Epoch: 0 Batch: 359, [Discriminator_A :: Loss: 0.47796070549520664], [ Generator :: Loss: [1.0174527168273926, 0.0048416112549602985, 0.0, 0.04206939414143562, 0.04548167064785957, 0.0653008222579956, 0.07179959118366241]]\n",
            "Epoch: 0 Batch: 360, [Discriminator_A :: Loss: 0.00114137347554788], [ Generator :: Loss: [1.1290040016174316, 0.002542517613619566, 0.0, 0.041023287922143936, 0.05616075173020363, 0.07667870074510574, 0.07794239372015]]\n",
            "Epoch: 0 Batch: 361, [Discriminator_A :: Loss: 0.002069133672193857], [ Generator :: Loss: [1.2097564935684204, 0.00016261341806966811, 0.0, 0.06624621152877808, 0.036760568618774414, 0.12103807926177979, 0.058488041162490845]]\n",
            "Epoch: 0 Batch: 362, [Discriminator_A :: Loss: 0.4605191554292105], [ Generator :: Loss: [0.7831847667694092, 0.00033100717701017857, 0.0, 0.027713654562830925, 0.03953289985656738, 0.05823348090052605, 0.052154798060655594]]\n",
            "Epoch: 0 Batch: 363, [Discriminator_A :: Loss: 0.034395131093333475], [ Generator :: Loss: [1.1482512950897217, 0.0001705582399154082, 0.0, 0.04428960382938385, 0.05818469449877739, 0.06959977000951767, 0.05373804643750191]]\n",
            "Epoch: 0 Batch: 364, [Discriminator_A :: Loss: 0.05315288504061755], [ Generator :: Loss: [1.2370643615722656, 0.0009216453763656318, 0.0, 0.05291701853275299, 0.05534610152244568, 0.08119340240955353, 0.07231804728507996]]\n",
            "Epoch: 0 Batch: 365, [Discriminator_A :: Loss: 0.0031088877803995274], [ Generator :: Loss: [0.82536780834198, 5.963696094113402e-05, 0.0, 0.03777480125427246, 0.0335223488509655, 0.05922149494290352, 0.05311516672372818]]\n",
            "Epoch: 0 Batch: 366, [Discriminator_A :: Loss: 0.23815109499264508], [ Generator :: Loss: [0.7483806610107422, 0.0008595541585236788, 0.0, 0.030393842607736588, 0.0354413166642189, 0.04899367690086365, 0.04017588496208191]]\n",
            "Epoch: 0 Batch: 367, [Discriminator_A :: Loss: 0.0011991810897598043], [ Generator :: Loss: [1.019078016281128, 0.0006678280187770724, 0.0, 0.04389903321862221, 0.044108714908361435, 0.07743480056524277, 0.06089794635772705]]\n",
            "Epoch: 0 Batch: 368, [Discriminator_A :: Loss: 0.08969315979629755], [ Generator :: Loss: [0.8109056949615479, 0.012095008045434952, 0.0, 0.037606749683618546, 0.031102139502763748, 0.0687873363494873, 0.04293444752693176]]\n",
            "Epoch: 0 Batch: 369, [Discriminator_A :: Loss: 0.04502020898507908], [ Generator :: Loss: [0.9158816933631897, 0.001899158931337297, 0.0, 0.04002373665571213, 0.03839040920138359, 0.06849844753742218, 0.061342574656009674]]\n",
            "Epoch: 0 Batch: 370, [Discriminator_A :: Loss: 0.003433699777815491], [ Generator :: Loss: [0.8719956874847412, 0.000931700982619077, 0.0, 0.03601282462477684, 0.041406724601984024, 0.06249997019767761, 0.03436858952045441]]\n",
            "Epoch: 0 Batch: 371, [Discriminator_A :: Loss: 0.1694677444465924], [ Generator :: Loss: [1.078247308731079, 0.0008174405666068196, 0.0, 0.04425054043531418, 0.052471037954092026, 0.05979460850358009, 0.050419487059116364]]\n",
            "Epoch: 0 Batch: 372, [Discriminator_A :: Loss: 0.0024528600770281628], [ Generator :: Loss: [1.0302537679672241, 0.0003864779428113252, 0.0, 0.04295846447348595, 0.04553843289613724, 0.07151942700147629, 0.07337885349988937]]\n",
            "Epoch: 0 Batch: 373, [Discriminator_A :: Loss: 0.4396511595696211], [ Generator :: Loss: [0.730165421962738, 0.0008259972091764212, 0.0, 0.03445761650800705, 0.027715593576431274, 0.05431712046265602, 0.053290173411369324]]\n",
            "Epoch: 0 Batch: 374, [Discriminator_A :: Loss: 0.04451299039646983], [ Generator :: Loss: [2.78847599029541, 0.9607816338539124, 1.0, 0.028303517028689384, 0.04311060160398483, 0.055330634117126465, 0.05822235718369484]]\n",
            "Epoch: 0 Batch: 375, [Discriminator_A :: Loss: 0.03220941498875618], [ Generator :: Loss: [0.7138530611991882, 0.0005012216861359775, 0.0, 0.03259297460317612, 0.029044821858406067, 0.05265362188220024, 0.0443202443420887]]\n",
            "Epoch: 0 Batch: 376, [Discriminator_A :: Loss: 0.46416850201785564], [ Generator :: Loss: [2.585632801055908, 0.887086808681488, 1.0, 0.023191120475530624, 0.03754141181707382, 0.04365360736846924, 0.0475672222673893]]\n",
            "Epoch: 0 Batch: 377, [Discriminator_A :: Loss: 0.0005555089301196858], [ Generator :: Loss: [1.0408241748809814, 0.0009016512776724994, 0.0, 0.052515238523483276, 0.0362013503909111, 0.09415751695632935, 0.05859914422035217]]\n",
            "Epoch: 0 Batch: 378, [Discriminator_A :: Loss: 0.0004929994057647491], [ Generator :: Loss: [0.9870615601539612, 0.0007591099129058421, 0.0, 0.04630262404680252, 0.040140483528375626, 0.06153377145528793, 0.06033763661980629]]\n",
            "Epoch: 0 Batch: 379, [Discriminator_A :: Loss: 0.29274825495667756], [ Generator :: Loss: [0.8493225574493408, 0.0005629931692965329, 0.0, 0.0362800732254982, 0.03868914395570755, 0.05863974988460541, 0.04042762517929077]]\n",
            "Epoch: 0 Batch: 380, [Discriminator_A :: Loss: 0.4687094595428789], [ Generator :: Loss: [0.7170250415802002, 0.0002563769230619073, 0.0, 0.03188842162489891, 0.02941903844475746, 0.057685527950525284, 0.04600852355360985]]\n",
            "Epoch: 0 Batch: 381, [Discriminator_A :: Loss: 0.0007518451820942573], [ Generator :: Loss: [2.780327796936035, 0.8407886624336243, 1.0, 0.04098764806985855, 0.03936079517006874, 0.07223694771528244, 0.0638178139925003]]\n",
            "Epoch: 0 Batch: 382, [Discriminator_A :: Loss: 0.03869592471892247], [ Generator :: Loss: [1.1433708667755127, 0.0005419151275418699, 0.0, 0.04775580018758774, 0.05316739156842232, 0.06603346765041351, 0.0675635039806366]]\n",
            "Epoch: 0 Batch: 383, [Discriminator_A :: Loss: 0.0017433057073503733], [ Generator :: Loss: [2.7640440464019775, 0.9126482605934143, 1.0, 0.040390659123659134, 0.03355494514107704, 0.06043361499905586, 0.05150625854730606]]\n",
            "Epoch: 0 Batch: 384, [Discriminator_A :: Loss: 0.2890372312394902], [ Generator :: Loss: [0.9217160940170288, 0.0011774366721510887, 0.0, 0.0485505647957325, 0.032031647861003876, 0.07642726600170135, 0.03828927502036095]]\n",
            "Epoch: 0 Batch: 385, [Discriminator_A :: Loss: 0.012348323478363454], [ Generator :: Loss: [0.8001322150230408, 0.0023248675279319286, 0.0, 0.047956861555576324, 0.023149624466896057, 0.05379970371723175, 0.03294277936220169]]\n",
            "Epoch: 0 Batch: 386, [Discriminator_A :: Loss: 0.00032935693889157847], [ Generator :: Loss: [3.0568933486938477, 0.9404142498970032, 1.0, 0.050974562764167786, 0.04813750833272934, 0.06563800573348999, 0.059720516204833984]]\n",
            "Epoch: 0 Batch: 387, [Discriminator_A :: Loss: 0.02770387806231156], [ Generator :: Loss: [2.9787111282348633, 0.9721669554710388, 1.0, 0.04695376008749008, 0.04154203087091446, 0.06780021637678146, 0.05378596484661102]]\n",
            "Epoch: 0 Batch: 388, [Discriminator_A :: Loss: 0.2067530951462686], [ Generator :: Loss: [1.3747397661209106, 0.0005978639237582684, 0.0, 0.07960251718759537, 0.04220470041036606, 0.11716599762439728, 0.03890378028154373]]\n",
            "Epoch: 0 Batch: 389, [Discriminator_A :: Loss: 0.29175740241771564], [ Generator :: Loss: [0.8964334726333618, 0.0011009795125573874, 0.0, 0.03998845815658569, 0.0373038575053215, 0.06662853062152863, 0.05578073859214783]]\n",
            "Epoch: 0 Batch: 390, [Discriminator_A :: Loss: 0.4171811451087706], [ Generator :: Loss: [0.9003399610519409, 0.002157703973352909, 0.0, 0.034342508763074875, 0.045429766178131104, 0.041189152747392654, 0.05927035212516785]]\n",
            "Epoch: 0 Batch: 391, [Discriminator_A :: Loss: 0.41226463369093835], [ Generator :: Loss: [0.8643193244934082, 0.0015135591384023428, 0.0, 0.03206324204802513, 0.043694689869880676, 0.045818883925676346, 0.0594075471162796]]\n",
            "Epoch: 0 Batch: 392, [Discriminator_A :: Loss: 0.007212042226456106], [ Generator :: Loss: [1.3016184568405151, 0.31471678614616394, 0.0, 0.049315474927425385, 0.03818953037261963, 0.0643220767378807, 0.04752952232956886]]\n",
            "Epoch: 0 Batch: 393, [Discriminator_A :: Loss: 0.08519612259988207], [ Generator :: Loss: [1.4261912107467651, 0.0007209249306470156, 0.0, 0.04393430054187775, 0.08334288746118546, 0.05850426107645035, 0.09419411420822144]]\n",
            "Epoch: 0 Batch: 394, [Discriminator_A :: Loss: 0.002242893911898136], [ Generator :: Loss: [1.2586393356323242, 0.0002637376310303807, 0.0, 0.04895631968975067, 0.06516309082508087, 0.06394875794649124, 0.05323277786374092]]\n",
            "Epoch: 0 Batch: 395, [Discriminator_A :: Loss: 0.17237992136506364], [ Generator :: Loss: [1.0236930847167969, 0.009372253902256489, 0.0, 0.028197031468153, 0.05995527654886246, 0.057228147983551025, 0.07556969672441483]]\n",
            "Epoch: 0 Batch: 396, [Discriminator_A :: Loss: 0.0014673190598841757], [ Generator :: Loss: [0.7996286749839783, 0.0006530953105539083, 0.0, 0.035572268068790436, 0.03292319178581238, 0.06385910511016846, 0.05016189441084862]]\n",
            "Epoch: 0 Batch: 397, [Discriminator_A :: Loss: 0.2701615198748186], [ Generator :: Loss: [0.8632975816726685, 0.0016690426273271441, 0.0, 0.04754973575472832, 0.02833932265639305, 0.05483751744031906, 0.04790044575929642]]\n",
            "Epoch: 0 Batch: 398, [Discriminator_A :: Loss: 0.004112227645236999], [ Generator :: Loss: [0.9550570249557495, 0.003382426919415593, 0.0, 0.03869013488292694, 0.04366696625947952, 0.0607825443148613, 0.06732097268104553]]\n",
            "Epoch: 0 Batch: 399, [Discriminator_A :: Loss: 0.0005041497424826957], [ Generator :: Loss: [1.1976850032806396, 0.007846798747777939, 0.0, 0.05691421777009964, 0.04583168029785156, 0.08578433841466904, 0.07659485936164856]]\n",
            "Epoch: 0 Batch: 400, [Discriminator_A :: Loss: 0.1273009338765405], [ Generator :: Loss: [0.9346314072608948, 0.0014895388158038259, 0.0, 0.04133494570851326, 0.040469467639923096, 0.06221910938620567, 0.05287866294384003]]\n",
            "Image_A shape: (64, 64, 3)\n",
            "fake_B shape: (64, 64, 3)\n",
            "reconstructed_A shape: (64, 64, 3)\n"
          ]
        },
        {
          "output_type": "stream",
          "name": "stderr",
          "text": [
            "WARNING:absl:Found untraced functions such as leaky_re_lu_4_layer_call_fn, leaky_re_lu_4_layer_call_and_return_conditional_losses, leaky_re_lu_5_layer_call_fn, leaky_re_lu_5_layer_call_and_return_conditional_losses, leaky_re_lu_6_layer_call_fn while saving (showing 5 of 80). These functions will not be directly callable after loading.\n"
          ]
        },
        {
          "output_type": "stream",
          "name": "stdout",
          "text": [
            "INFO:tensorflow:Assets written to: /content/gdrive/My Drive/Colab Notebooks/cycleGAN/monet2photo_out/gan_model/assets\n"
          ]
        },
        {
          "output_type": "stream",
          "name": "stderr",
          "text": [
            "INFO:tensorflow:Assets written to: /content/gdrive/My Drive/Colab Notebooks/cycleGAN/monet2photo_out/gan_model/assets\n",
            "WARNING:absl:Found untraced functions such as leaky_re_lu_layer_call_fn, leaky_re_lu_layer_call_and_return_conditional_losses, leaky_re_lu_1_layer_call_fn, leaky_re_lu_1_layer_call_and_return_conditional_losses, leaky_re_lu_2_layer_call_fn while saving (showing 5 of 20). These functions will not be directly callable after loading.\n"
          ]
        },
        {
          "output_type": "stream",
          "name": "stdout",
          "text": [
            "INFO:tensorflow:Assets written to: /content/gdrive/My Drive/Colab Notebooks/cycleGAN/monet2photo_out/generator_A_to_B/assets\n"
          ]
        },
        {
          "output_type": "stream",
          "name": "stderr",
          "text": [
            "INFO:tensorflow:Assets written to: /content/gdrive/My Drive/Colab Notebooks/cycleGAN/monet2photo_out/generator_A_to_B/assets\n",
            "WARNING:absl:Found untraced functions such as leaky_re_lu_4_layer_call_fn, leaky_re_lu_4_layer_call_and_return_conditional_losses, leaky_re_lu_5_layer_call_fn, leaky_re_lu_5_layer_call_and_return_conditional_losses, leaky_re_lu_6_layer_call_fn while saving (showing 5 of 20). These functions will not be directly callable after loading.\n"
          ]
        },
        {
          "output_type": "stream",
          "name": "stdout",
          "text": [
            "INFO:tensorflow:Assets written to: /content/gdrive/My Drive/Colab Notebooks/cycleGAN/monet2photo_out/generator_B_to_A/assets\n"
          ]
        },
        {
          "output_type": "stream",
          "name": "stderr",
          "text": [
            "INFO:tensorflow:Assets written to: /content/gdrive/My Drive/Colab Notebooks/cycleGAN/monet2photo_out/generator_B_to_A/assets\n",
            "WARNING:absl:Found untraced functions such as leaky_re_lu_8_layer_call_fn, leaky_re_lu_8_layer_call_and_return_conditional_losses, leaky_re_lu_9_layer_call_fn, leaky_re_lu_9_layer_call_and_return_conditional_losses, leaky_re_lu_10_layer_call_fn while saving (showing 5 of 20). These functions will not be directly callable after loading.\n"
          ]
        },
        {
          "output_type": "stream",
          "name": "stdout",
          "text": [
            "INFO:tensorflow:Assets written to: /content/gdrive/My Drive/Colab Notebooks/cycleGAN/monet2photo_out/discriminator_A/assets\n"
          ]
        },
        {
          "output_type": "stream",
          "name": "stderr",
          "text": [
            "INFO:tensorflow:Assets written to: /content/gdrive/My Drive/Colab Notebooks/cycleGAN/monet2photo_out/discriminator_A/assets\n",
            "WARNING:absl:Found untraced functions such as leaky_re_lu_12_layer_call_fn, leaky_re_lu_12_layer_call_and_return_conditional_losses, leaky_re_lu_13_layer_call_fn, leaky_re_lu_13_layer_call_and_return_conditional_losses, leaky_re_lu_14_layer_call_fn while saving (showing 5 of 20). These functions will not be directly callable after loading.\n"
          ]
        },
        {
          "output_type": "stream",
          "name": "stdout",
          "text": [
            "INFO:tensorflow:Assets written to: /content/gdrive/My Drive/Colab Notebooks/cycleGAN/monet2photo_out/discriminator_B/assets\n"
          ]
        },
        {
          "output_type": "stream",
          "name": "stderr",
          "text": [
            "INFO:tensorflow:Assets written to: /content/gdrive/My Drive/Colab Notebooks/cycleGAN/monet2photo_out/discriminator_B/assets\n"
          ]
        },
        {
          "output_type": "stream",
          "name": "stdout",
          "text": [
            "Epoch: 0 Batch: 401, [Discriminator_A :: Loss: 0.07471529569011182], [ Generator :: Loss: [0.7188597917556763, 0.004109187982976437, 0.0, 0.034635018557310104, 0.028692621737718582, 0.04024304822087288, 0.0412311777472496]]\n",
            "Epoch: 0 Batch: 402, [Discriminator_A :: Loss: 0.0009293816838180646], [ Generator :: Loss: [0.9943946599960327, 0.001204026280902326, 0.0, 0.041096970438957214, 0.04714210703969002, 0.06150849908590317, 0.04929135739803314]]\n",
            "Epoch: 0 Batch: 403, [Discriminator_A :: Loss: 0.3432329627685249], [ Generator :: Loss: [1.0423184633255005, 0.0026878498028963804, 0.0, 0.0506446436047554, 0.04187318682670593, 0.06632830947637558, 0.048123981803655624]]\n",
            "Epoch: 0 Batch: 404, [Discriminator_A :: Loss: 0.17336400714702904], [ Generator :: Loss: [2.716336488723755, 0.8896253108978271, 1.0, 0.03593398630619049, 0.03476003184914589, 0.06883855164051056, 0.050932396203279495]]\n",
            "Epoch: 0 Batch: 405, [Discriminator_A :: Loss: 0.0008244253667726298], [ Generator :: Loss: [1.4087584018707275, 0.001094766310416162, 0.0, 0.08581563085317612, 0.038849081844091415, 0.10277202725410461, 0.05824454873800278]]\n",
            "Epoch: 0 Batch: 406, [Discriminator_A :: Loss: 0.09341182641219348], [ Generator :: Loss: [0.8989887237548828, 0.001956106862053275, 0.0, 0.038313619792461395, 0.0384100116789341, 0.06774487346410751, 0.06205141171813011]]\n",
            "Epoch: 0 Batch: 407, [Discriminator_A :: Loss: 0.012778098229318857], [ Generator :: Loss: [0.9649555087089539, 0.0015164035139605403, 0.0, 0.033810388296842575, 0.04938877373933792, 0.06412337720394135, 0.06732412427663803]]\n",
            "Epoch: 0 Batch: 408, [Discriminator_A :: Loss: 0.15764188437606208], [ Generator :: Loss: [0.8356448411941528, 0.002102554077282548, 0.0, 0.03755451366305351, 0.034858327358961105, 0.05814065784215927, 0.0512731671333313]]\n",
            "Epoch: 0 Batch: 409, [Discriminator_A :: Loss: 0.4463121304870583], [ Generator :: Loss: [0.8615667819976807, 0.000885093817487359, 0.0, 0.03339981660246849, 0.039789482951164246, 0.06494534760713577, 0.06384334713220596]]\n",
            "Epoch: 0 Batch: 410, [Discriminator_A :: Loss: 0.23767739196773618], [ Generator :: Loss: [0.84637451171875, 0.0010499500203877687, 0.0, 0.03703249990940094, 0.034561868757009506, 0.08187726140022278, 0.04750366881489754]]\n",
            "Epoch: 0 Batch: 411, [Discriminator_A :: Loss: 0.4847732854541391], [ Generator :: Loss: [0.8391129970550537, 0.0010839737951755524, 0.0, 0.030666621401906013, 0.043248455971479416, 0.05270881578326225, 0.04616944119334221]]\n",
            "Epoch: 0 Batch: 412, [Discriminator_A :: Loss: 0.00722398073412478], [ Generator :: Loss: [1.0488379001617432, 0.0010138214565813541, 0.0, 0.052358146756887436, 0.03924354910850525, 0.07508508861064911, 0.05672202631831169]]\n",
            "Epoch: 0 Batch: 413, [Discriminator_A :: Loss: 0.11958896046417067], [ Generator :: Loss: [0.9718432426452637, 0.00012449806672520936, 0.0, 0.05078374221920967, 0.03282865136861801, 0.08898180723190308, 0.046613022685050964]]\n",
            "Epoch: 0 Batch: 414, [Discriminator_A :: Loss: 0.2920161819201894], [ Generator :: Loss: [0.6998871564865112, 0.001073535531759262, 0.0, 0.024805042892694473, 0.03620815649628639, 0.034059952944517136, 0.05462168902158737]]\n",
            "Epoch: 0 Batch: 415, [Discriminator_A :: Loss: 0.2488577495678328], [ Generator :: Loss: [2.688290596008301, 0.9548777341842651, 1.0, 0.026167480275034904, 0.0380701944231987, 0.03599867224693298, 0.0550372488796711]]\n",
            "Epoch: 0 Batch: 416, [Discriminator_A :: Loss: 0.3106488133780658], [ Generator :: Loss: [0.893454372882843, 0.0008881677640601993, 0.0, 0.03459106758236885, 0.04219796881079674, 0.05091759189963341, 0.07375827431678772]]\n",
            "Epoch: 0 Batch: 417, [Discriminator_A :: Loss: 0.32139106607064605], [ Generator :: Loss: [0.7005634307861328, 0.001686944393441081, 0.0, 0.02897634729743004, 0.0324849858880043, 0.04095723107457161, 0.043305981904268265]]\n",
            "Epoch: 0 Batch: 418, [Discriminator_A :: Loss: 0.3337029747781344], [ Generator :: Loss: [1.0199475288391113, 0.004988438915461302, 0.0, 0.037434399127960205, 0.05069061368703842, 0.06357736885547638, 0.07013164460659027]]\n",
            "Epoch: 0 Batch: 419, [Discriminator_A :: Loss: 0.40450162984780036], [ Generator :: Loss: [0.8359964489936829, 0.0008050306933000684, 0.0, 0.03861871361732483, 0.03473798558115959, 0.05100220814347267, 0.05062221363186836]]\n",
            "Epoch: 0 Batch: 420, [Discriminator_A :: Loss: 0.00471848325105384], [ Generator :: Loss: [0.9340161681175232, 0.0001464686938561499, 0.0, 0.043070100247859955, 0.037786878645420074, 0.07323353737592697, 0.052066367119550705]]\n",
            "Epoch: 0 Batch: 421, [Discriminator_A :: Loss: 0.016032307874411345], [ Generator :: Loss: [0.8932534456253052, 0.027556022629141808, 0.0, 0.036364372819662094, 0.03955710306763649, 0.06210208684206009, 0.04438060522079468]]\n",
            "Epoch: 0 Batch: 422, [Discriminator_A :: Loss: 0.2994205972645432], [ Generator :: Loss: [0.7315856218338013, 0.002105402760207653, 0.0, 0.03235776349902153, 0.032706476747989655, 0.049945153295993805, 0.028892669826745987]]\n",
            "Epoch: 0 Batch: 423, [Discriminator_A :: Loss: 0.03312556562013924], [ Generator :: Loss: [0.9582754969596863, 0.0009067916544154286, 0.0, 0.04626217857003212, 0.03652607277035713, 0.07578856498003006, 0.0536976233124733]]\n",
            "Epoch: 0 Batch: 424, [Discriminator_A :: Loss: 0.0016031414270401], [ Generator :: Loss: [0.8691835999488831, 0.0008477990049868822, 0.0, 0.036642782390117645, 0.03774934262037277, 0.06741476058959961, 0.05699973925948143]]\n",
            "Epoch: 0 Batch: 425, [Discriminator_A :: Loss: 0.12391965973074548], [ Generator :: Loss: [0.865766167640686, 0.0005226064240559936, 0.0, 0.03968176245689392, 0.03514864295721054, 0.06775243580341339, 0.04918704181909561]]\n",
            "Epoch: 0 Batch: 426, [Discriminator_A :: Loss: 0.3252423198282486], [ Generator :: Loss: [0.9040467739105225, 0.0002873554185498506, 0.0, 0.05436162278056145, 0.026614347472786903, 0.05266636237502098, 0.04133334010839462]]\n",
            "Epoch: 0 Batch: 427, [Discriminator_A :: Loss: 0.004860616405494511], [ Generator :: Loss: [1.2805763483047485, 0.001383017748594284, 0.0, 0.06115154176950455, 0.052111439406871796, 0.08027638494968414, 0.06628715246915817]]\n",
            "Epoch: 0 Batch: 428, [Discriminator_A :: Loss: 0.49395411435398273], [ Generator :: Loss: [0.8322510719299316, 0.0009401545976288617, 0.0, 0.03102489560842514, 0.0412469245493412, 0.04975894093513489, 0.05883380025625229]]\n",
            "Epoch: 0 Batch: 429, [Discriminator_A :: Loss: 0.2695545107126236], [ Generator :: Loss: [0.6343082785606384, 0.0007294609094969928, 0.0, 0.01858874224126339, 0.03567725047469139, 0.03373771160840988, 0.057181164622306824]]\n",
            "Epoch: 0 Batch: 430, [Discriminator_A :: Loss: 0.4840187287190929], [ Generator :: Loss: [1.0607845783233643, 0.0012375381775200367, 0.0, 0.053629931062459946, 0.04072796553373337, 0.07028575986623764, 0.04568232223391533]]\n",
            "Epoch: 0 Batch: 431, [Discriminator_A :: Loss: 0.01020587696984876], [ Generator :: Loss: [0.7916865348815918, 0.0006774711073376238, 0.0, 0.034667208790779114, 0.03336077928543091, 0.0578216090798378, 0.052907612174749374]]\n",
            "Epoch: 0 Batch: 432, [Discriminator_A :: Loss: 0.42516391433309764], [ Generator :: Loss: [0.6850996613502502, 0.0001742443273542449, 0.0, 0.022332962602376938, 0.03706412762403488, 0.033286336809396744, 0.05766815319657326]]\n",
            "Epoch: 0 Batch: 433, [Discriminator_A :: Loss: 0.07436072826385498], [ Generator :: Loss: [1.1677625179290771, 0.001968040596693754, 0.0, 0.054808590561151505, 0.046730414032936096, 0.08313782513141632, 0.06726659834384918]]\n",
            "Epoch: 0 Batch: 434, [Discriminator_A :: Loss: 0.0008255507127614692], [ Generator :: Loss: [0.9479583501815796, 0.0012817708775401115, 0.0, 0.04841330647468567, 0.033882804214954376, 0.07261331379413605, 0.05110213905572891]]\n",
            "Epoch: 0 Batch: 435, [Discriminator_A :: Loss: 0.4867658630828373], [ Generator :: Loss: [0.8083375692367554, 0.00033391109900549054, 0.0, 0.03447253257036209, 0.03770473226904869, 0.04135800525546074, 0.04487299546599388]]\n",
            "Epoch: 0 Batch: 436, [Discriminator_A :: Loss: 0.1044623390189372], [ Generator :: Loss: [0.8926308751106262, 0.0014935533981770277, 0.0, 0.034698911011219025, 0.044071849435567856, 0.05797167122364044, 0.04545806348323822]]\n",
            "Epoch: 0 Batch: 437, [Discriminator_A :: Loss: 0.011662472617899766], [ Generator :: Loss: [1.552737832069397, 9.810391929931939e-05, 0.0, 0.04631315544247627, 0.09723983705043793, 0.05995209142565727, 0.057157665491104126]]\n",
            "Epoch: 0 Batch: 438, [Discriminator_A :: Loss: 0.38720132131129503], [ Generator :: Loss: [0.7727189064025879, 0.0021321363747119904, 0.0, 0.02901839092373848, 0.03850274905562401, 0.04480791464447975, 0.05056741461157799]]\n",
            "Epoch: 0 Batch: 439, [Discriminator_A :: Loss: 0.09575372528342996], [ Generator :: Loss: [0.8148419857025146, 0.00017162635049317032, 0.0, 0.03208233788609505, 0.039381738752126694, 0.05075996741652489, 0.0492696650326252]]\n",
            "Epoch: 0 Batch: 440, [Discriminator_A :: Loss: 0.002257417276268825], [ Generator :: Loss: [0.9689906239509583, 0.00036705200909636915, 0.0, 0.05269961059093475, 0.031114257872104645, 0.08070217072963715, 0.04978270083665848]]\n",
            "Epoch: 0 Batch: 441, [Discriminator_A :: Loss: 0.00032628946064505726], [ Generator :: Loss: [0.8048630952835083, 0.00011252371041337028, 0.0, 0.03979913890361786, 0.031256891787052155, 0.04833145812153816, 0.045858774334192276]]\n",
            "Epoch: 0 Batch: 442, [Discriminator_A :: Loss: 0.0002525712552596815], [ Generator :: Loss: [0.9256409406661987, 0.0003593391738831997, 0.0, 0.04745415970683098, 0.0327920988202095, 0.08094850927591324, 0.041870493441820145]]\n",
            "Epoch: 0 Batch: 443, [Discriminator_A :: Loss: 0.08667114074341953], [ Generator :: Loss: [0.7829066514968872, 0.0010515846079215407, 0.0, 0.03529781103134155, 0.03194466978311539, 0.06747720390558243, 0.04195311665534973]]\n",
            "Epoch: 0 Batch: 444, [Discriminator_A :: Loss: 0.3716548503143713], [ Generator :: Loss: [0.9237027764320374, 0.00010136581113329157, 0.0, 0.03745422512292862, 0.0437055304646492, 0.051206011325120926, 0.06079786270856857]]\n",
            "Epoch: 0 Batch: 445, [Discriminator_A :: Loss: 0.022645753459073603], [ Generator :: Loss: [0.9527959823608398, 0.0018151592230424285, 0.0, 0.036336347460746765, 0.04824550077319145, 0.05741223692893982, 0.047750137746334076]]\n",
            "Epoch: 0 Batch: 446, [Discriminator_A :: Loss: 0.04922817155602388], [ Generator :: Loss: [0.9267699718475342, 0.00013398300507105887, 0.0, 0.04040791094303131, 0.03922542929649353, 0.0687706395983696, 0.06153196096420288]]\n",
            "Epoch: 0 Batch: 447, [Discriminator_A :: Loss: 0.4263208042411861], [ Generator :: Loss: [0.780498743057251, 9.678721653472167e-06, 0.0, 0.04006246477365494, 0.027598286047577858, 0.06483165919780731, 0.03904993459582329]]\n",
            "Epoch: 0 Batch: 448, [Discriminator_A :: Loss: 0.27208299352787435], [ Generator :: Loss: [0.8756862878799438, 0.0004827635711990297, 0.0, 0.04336847737431526, 0.033296555280685425, 0.05789445340633392, 0.050658706575632095]]\n",
            "Epoch: 0 Batch: 449, [Discriminator_A :: Loss: 0.00276877488977334], [ Generator :: Loss: [0.9057348966598511, 2.5105564418481663e-05, 0.0, 0.041714344173669815, 0.036558493971824646, 0.07349366694688797, 0.049487724900245667]]\n",
            "Epoch: 0 Batch: 450, [Discriminator_A :: Loss: 0.1695004510693252], [ Generator :: Loss: [0.9068740010261536, 0.0006237179622985423, 0.0, 0.030492335557937622, 0.047658585011959076, 0.04849271848797798, 0.07624834775924683]]\n",
            "Epoch: 0 Batch: 451, [Discriminator_A :: Loss: 0.13233345934713725], [ Generator :: Loss: [0.8703987002372742, 0.00034493146813474596, 0.0, 0.03296902775764465, 0.04294135048985481, 0.05169283598661423, 0.0592571385204792]]\n",
            "Epoch: 0 Batch: 452, [Discriminator_A :: Loss: 0.3130928468890488], [ Generator :: Loss: [2.9502580165863037, 0.9153417944908142, 1.0, 0.04799960181117058, 0.04325294494628906, 0.06629703938961029, 0.05609368160367012]]\n",
            "Epoch: 0 Batch: 453, [Discriminator_A :: Loss: 0.13304305233759806], [ Generator :: Loss: [1.0483675003051758, 0.003736634971573949, 0.0, 0.047600146383047104, 0.043312594294548035, 0.07040932774543762, 0.06509417295455933]]\n",
            "Epoch: 0 Batch: 454, [Discriminator_A :: Loss: 0.21598728996468708], [ Generator :: Loss: [0.9633914232254028, 0.0002217001310782507, 0.0, 0.03413458168506622, 0.051376666873693466, 0.0549485944211483, 0.053108617663383484]]\n",
            "Epoch: 0 Batch: 455, [Discriminator_A :: Loss: 0.004508992307819426], [ Generator :: Loss: [0.9903537034988403, 0.002622304018586874, 0.0, 0.039039496332407, 0.04519510641694069, 0.0811639130115509, 0.06422141194343567]]\n",
            "Epoch: 0 Batch: 456, [Discriminator_A :: Loss: 0.0014117915816314053], [ Generator :: Loss: [0.9785597920417786, 0.00908432062715292, 0.0, 0.03811541944742203, 0.044618356972932816, 0.07857494056224823, 0.06356275081634521]]\n",
            "Epoch: 0 Batch: 457, [Discriminator_A :: Loss: 0.01936068816576153], [ Generator :: Loss: [0.8090729713439941, 0.00021644574007950723, 0.0, 0.034184105694293976, 0.03591204062104225, 0.059015143662691116, 0.04887993633747101]]\n",
            "Epoch: 0 Batch: 458, [Discriminator_A :: Loss: 0.4678191691637039], [ Generator :: Loss: [0.7503827810287476, 0.0024028720799833536, 0.0, 0.03333936631679535, 0.03257441148161888, 0.04684681072831154, 0.0419953390955925]]\n",
            "Epoch: 0 Batch: 459, [Discriminator_A :: Loss: 0.04875899339094758], [ Generator :: Loss: [0.7906366586685181, 0.009939538314938545, 0.0, 0.033683352172374725, 0.033849939703941345, 0.06108450889587402, 0.04427964985370636]]\n",
            "Epoch: 0 Batch: 460, [Discriminator_A :: Loss: 0.09706102951895446], [ Generator :: Loss: [0.7966666221618652, 0.0028439939487725496, 0.0, 0.03683503717184067, 0.03353174775838852, 0.047445569187402725, 0.04270916059613228]]\n",
            "Epoch: 0 Batch: 461, [Discriminator_A :: Loss: 0.020988057483918965], [ Generator :: Loss: [1.0127973556518555, 0.0008918984676711261, 0.0, 0.048546675592660904, 0.04021700471639633, 0.0767645388841629, 0.04750405624508858]]\n",
            "Epoch: 0 Batch: 462, [Discriminator_A :: Loss: 0.002627074281917885], [ Generator :: Loss: [0.882597804069519, 0.004011979326605797, 0.0, 0.04648362472653389, 0.030286822468042374, 0.07169144600629807, 0.03918994218111038]]\n",
            "Epoch: 0 Batch: 463, [Discriminator_A :: Loss: 0.10331775509985164], [ Generator :: Loss: [1.1090846061706543, 0.001169514493085444, 0.0, 0.04564838111400604, 0.052392810583114624, 0.058221764862537384, 0.06928145885467529]]\n",
            "Epoch: 0 Batch: 464, [Discriminator_A :: Loss: 0.42456304938241374], [ Generator :: Loss: [0.8918705582618713, 0.0019662748090922832, 0.0, 0.03275557607412338, 0.046215832233428955, 0.04278508573770523, 0.05740504711866379]]\n",
            "Epoch: 0 Batch: 465, [Discriminator_A :: Loss: 0.09741659072460607], [ Generator :: Loss: [0.9715139865875244, 0.0004060851933900267, 0.0, 0.047372519969940186, 0.03609171509742737, 0.07603608071804047, 0.06042945757508278]]\n",
            "Epoch: 0 Batch: 466, [Discriminator_A :: Loss: 0.002529854536987841], [ Generator :: Loss: [0.8181034922599792, 0.001177772181108594, 0.0, 0.04034784808754921, 0.03040224313735962, 0.05981459096074104, 0.04961022734642029]]\n",
            "Epoch: 0 Batch: 467, [Discriminator_A :: Loss: 0.4681205052183941], [ Generator :: Loss: [1.0666334629058838, 0.14849016070365906, 0.0, 0.03509257733821869, 0.04268938675522804, 0.06940357387065887, 0.07092009484767914]]\n",
            "Epoch: 0 Batch: 468, [Discriminator_A :: Loss: 0.0005946319652139209], [ Generator :: Loss: [0.8449500203132629, 0.0009039436699822545, 0.0, 0.053871139883995056, 0.022594956681132317, 0.052634671330451965, 0.026750406250357628]]\n",
            "Epoch: 0 Batch: 469, [Discriminator_A :: Loss: 0.11434970720438287], [ Generator :: Loss: [1.0904016494750977, 0.0007711686193943024, 0.0, 0.04806173965334892, 0.04911274090409279, 0.06745699048042297, 0.05042865127325058]]\n",
            "Epoch: 0 Batch: 470, [Discriminator_A :: Loss: 0.47216146532446146], [ Generator :: Loss: [0.9171053171157837, 0.0008302372880280018, 0.0, 0.035175222903490067, 0.04591742902994156, 0.051743317395448685, 0.053605251014232635]]\n",
            "Epoch: 0 Batch: 471, [Discriminator_A :: Loss: 0.062072199769318104], [ Generator :: Loss: [0.8056718707084656, 0.0013262678403407335, 0.0, 0.0337240993976593, 0.03636474162340164, 0.05621659383177757, 0.04724063724279404]]\n",
            "Epoch: 0 Batch: 472, [Discriminator_A :: Loss: 0.00031281693918572273], [ Generator :: Loss: [0.8844169974327087, 0.0003616727772168815, 0.0, 0.0430777408182621, 0.035283949226140976, 0.06308223307132721, 0.0373561829328537]]\n",
            "Epoch: 0 Batch: 473, [Discriminator_A :: Loss: 0.00041281811718363315], [ Generator :: Loss: [0.8604950904846191, 0.0006607705145142972, 0.0, 0.04168004170060158, 0.03158402442932129, 0.08152428269386292, 0.04566933959722519]]\n",
            "Epoch: 0 Batch: 474, [Discriminator_A :: Loss: 0.294837895053206], [ Generator :: Loss: [1.3720495700836182, 0.00020868922001682222, 0.0, 0.058032192289829254, 0.06314408779144287, 0.07847008109092712, 0.08160799741744995]]\n",
            "Epoch: 0 Batch: 475, [Discriminator_A :: Loss: 0.06284143967786804], [ Generator :: Loss: [0.8752250075340271, 0.0001858947944128886, 0.0, 0.03664965555071831, 0.03939841687679291, 0.06637859344482422, 0.04817979410290718]]\n",
            "Epoch: 0 Batch: 476, [Discriminator_A :: Loss: 0.3673080318258144], [ Generator :: Loss: [0.7827140092849731, 0.0005587301566265523, 0.0, 0.02883710339665413, 0.03833530843257904, 0.047064896672964096, 0.06336623430252075]]\n",
            "Epoch: 0 Batch: 477, [Discriminator_A :: Loss: 0.4076434209418949], [ Generator :: Loss: [2.641286611557007, 0.9589225053787231, 1.0, 0.020380375906825066, 0.036075249314308167, 0.05799414962530136, 0.05981369689106941]]\n",
            "Epoch: 0 Batch: 478, [Discriminator_A :: Loss: 0.43266809105989523], [ Generator :: Loss: [0.8799707889556885, 0.00020610549836419523, 0.0, 0.046079955995082855, 0.0331665500998497, 0.048796843737363815, 0.038502760231494904]]\n",
            "Epoch: 0 Batch: 479, [Discriminator_A :: Loss: 0.946338564157486], [ Generator :: Loss: [2.5443646907806396, 0.7059310674667358, 1.0, 0.028733031824231148, 0.04552193731069565, 0.035005077719688416, 0.06087890639901161]]\n",
            "Epoch: 0 Batch: 480, [Discriminator_A :: Loss: 0.0002505354495951906], [ Generator :: Loss: [1.1111290454864502, 0.0003345998120494187, 0.0, 0.05816240608692169, 0.03820643946528435, 0.0975298061966896, 0.049576155841350555]]\n",
            "Epoch: 0 Batch: 481, [Discriminator_A :: Loss: 0.384660164010711], [ Generator :: Loss: [0.7914885878562927, 0.0012967692455276847, 0.0, 0.03581496328115463, 0.03245479613542557, 0.06082380563020706, 0.046670444309711456]]\n",
            "Epoch: 0 Batch: 482, [Discriminator_A :: Loss: 0.4554125757422298], [ Generator :: Loss: [0.6710085868835449, 0.0008971395436674356, 0.0, 0.026061564683914185, 0.03182671591639519, 0.047191690653562546, 0.044036947190761566]]\n",
            "Epoch: 0 Batch: 483, [Discriminator_A :: Loss: 0.002786048164125532], [ Generator :: Loss: [0.8940099477767944, 0.002400062046945095, 0.0, 0.03961688652634621, 0.03860527276992798, 0.05807515233755112, 0.051313117146492004]]\n",
            "Epoch: 0 Batch: 484, [Discriminator_A :: Loss: 0.3828428839951812], [ Generator :: Loss: [0.8518842458724976, 5.5121039622463286e-05, 0.0, 0.03561226278543472, 0.03801076486706734, 0.06360673904418945, 0.051992155611515045]]\n",
            "Epoch: 0 Batch: 485, [Discriminator_A :: Loss: 0.44098759262124076], [ Generator :: Loss: [0.7144138813018799, 0.0005693610874004662, 0.0, 0.033755525946617126, 0.028589561581611633, 0.04793054610490799, 0.04246304929256439]]\n",
            "Epoch: 0 Batch: 486, [Discriminator_A :: Loss: 0.37180459138471633], [ Generator :: Loss: [0.41958367824554443, 0.001258286414667964, 0.0, 0.019105330109596252, 0.016907811164855957, 0.030990656465291977, 0.02720332145690918]]\n",
            "Epoch: 0 Batch: 487, [Discriminator_A :: Loss: 0.41230167052708566], [ Generator :: Loss: [0.7024588584899902, 0.0025175258051604033, 0.0, 0.026307106018066406, 0.03277061507105827, 0.05702075734734535, 0.052143394947052]]\n",
            "Epoch: 0 Batch: 488, [Discriminator_A :: Loss: 0.012455057469196618], [ Generator :: Loss: [0.8110493421554565, 0.0005711460253223777, 0.0, 0.040078550577163696, 0.029672864824533463, 0.0671558529138565, 0.045808181166648865]]\n",
            "Epoch: 0 Batch: 489, [Discriminator_A :: Loss: 0.0045760979992337525], [ Generator :: Loss: [0.8963686227798462, 0.00025575124891474843, 0.0, 0.04789366200566292, 0.030021417886018753, 0.07624166458845139, 0.040720414370298386]]\n",
            "Epoch: 0 Batch: 490, [Discriminator_A :: Loss: 0.05057996675895993], [ Generator :: Loss: [0.7069950103759766, 4.605287904269062e-05, 0.0, 0.03048524260520935, 0.02986067533493042, 0.04945351183414459, 0.05403629317879677]]\n",
            "Epoch: 0 Batch: 491, [Discriminator_A :: Loss: 0.00039820446363592055], [ Generator :: Loss: [0.9578722715377808, 0.0001894828019430861, 0.0, 0.04937615245580673, 0.034761298447847366, 0.07222827523946762, 0.04408003389835358]]\n",
            "Epoch: 0 Batch: 492, [Discriminator_A :: Loss: 0.4703167692787247], [ Generator :: Loss: [2.9998793601989746, 0.9391597509384155, 1.0, 0.048820771276950836, 0.042738478630781174, 0.08117568492889404, 0.06395141035318375]]\n",
            "Epoch: 0 Batch: 493, [Discriminator_A :: Loss: 0.18960483849514276], [ Generator :: Loss: [0.8138629198074341, 0.0006409813649952412, 0.0, 0.039686091244220734, 0.03103477880358696, 0.05748433992266655, 0.04852888733148575]]\n",
            "Epoch: 0 Batch: 494, [Discriminator_A :: Loss: 0.006354763172566891], [ Generator :: Loss: [0.930482804775238, 0.000720678479410708, 0.0, 0.0429951548576355, 0.03870029374957085, 0.07678006589412689, 0.03602755069732666]]\n",
            "Epoch: 0 Batch: 495, [Discriminator_A :: Loss: 0.0017858188803074881], [ Generator :: Loss: [0.8344230651855469, 0.000383684819098562, 0.0, 0.03760465234518051, 0.034084297716617584, 0.061172131448984146, 0.05597778037190437]]\n",
            "Epoch: 0 Batch: 496, [Discriminator_A :: Loss: 0.05733374459668994], [ Generator :: Loss: [0.9242552518844604, 0.0881599634885788, 0.0, 0.03653228282928467, 0.035223279148340225, 0.05960816517472267, 0.05893148109316826]]\n",
            "Epoch: 0 Batch: 497, [Discriminator_A :: Loss: 0.40219404988602037], [ Generator :: Loss: [0.7365307807922363, 0.00025041468325071037, 0.0, 0.02946074679493904, 0.03458946570754051, 0.03948714956641197, 0.05629109591245651]]\n",
            "Epoch: 0 Batch: 498, [Discriminator_A :: Loss: 0.01735506410477683], [ Generator :: Loss: [0.9537632465362549, 0.001095496118068695, 0.0, 0.0540165901184082, 0.030144020915031433, 0.05913492292165756, 0.051926691085100174]]\n",
            "Epoch: 0 Batch: 499, [Discriminator_A :: Loss: 0.08095343250897713], [ Generator :: Loss: [1.3981705904006958, 0.0035440148785710335, 0.0, 0.07048290967941284, 0.05208946391940117, 0.08561091870069504, 0.0832919105887413]]\n",
            "Epoch: 0 Batch: 500, [Discriminator_A :: Loss: 0.0003195938188582659], [ Generator :: Loss: [0.8637163639068604, 0.0006817628745920956, 0.0, 0.04082398861646652, 0.035086777061223984, 0.05801943689584732, 0.04590745270252228]]\n",
            "Image_A shape: (64, 64, 3)\n",
            "fake_B shape: (64, 64, 3)\n",
            "reconstructed_A shape: (64, 64, 3)\n"
          ]
        },
        {
          "output_type": "stream",
          "name": "stderr",
          "text": [
            "WARNING:absl:Found untraced functions such as leaky_re_lu_4_layer_call_fn, leaky_re_lu_4_layer_call_and_return_conditional_losses, leaky_re_lu_5_layer_call_fn, leaky_re_lu_5_layer_call_and_return_conditional_losses, leaky_re_lu_6_layer_call_fn while saving (showing 5 of 80). These functions will not be directly callable after loading.\n"
          ]
        },
        {
          "output_type": "stream",
          "name": "stdout",
          "text": [
            "INFO:tensorflow:Assets written to: /content/gdrive/My Drive/Colab Notebooks/cycleGAN/monet2photo_out/gan_model/assets\n"
          ]
        },
        {
          "output_type": "stream",
          "name": "stderr",
          "text": [
            "INFO:tensorflow:Assets written to: /content/gdrive/My Drive/Colab Notebooks/cycleGAN/monet2photo_out/gan_model/assets\n",
            "WARNING:absl:Found untraced functions such as leaky_re_lu_layer_call_fn, leaky_re_lu_layer_call_and_return_conditional_losses, leaky_re_lu_1_layer_call_fn, leaky_re_lu_1_layer_call_and_return_conditional_losses, leaky_re_lu_2_layer_call_fn while saving (showing 5 of 20). These functions will not be directly callable after loading.\n"
          ]
        },
        {
          "output_type": "stream",
          "name": "stdout",
          "text": [
            "INFO:tensorflow:Assets written to: /content/gdrive/My Drive/Colab Notebooks/cycleGAN/monet2photo_out/generator_A_to_B/assets\n"
          ]
        },
        {
          "output_type": "stream",
          "name": "stderr",
          "text": [
            "INFO:tensorflow:Assets written to: /content/gdrive/My Drive/Colab Notebooks/cycleGAN/monet2photo_out/generator_A_to_B/assets\n",
            "WARNING:absl:Found untraced functions such as leaky_re_lu_4_layer_call_fn, leaky_re_lu_4_layer_call_and_return_conditional_losses, leaky_re_lu_5_layer_call_fn, leaky_re_lu_5_layer_call_and_return_conditional_losses, leaky_re_lu_6_layer_call_fn while saving (showing 5 of 20). These functions will not be directly callable after loading.\n"
          ]
        },
        {
          "output_type": "stream",
          "name": "stdout",
          "text": [
            "INFO:tensorflow:Assets written to: /content/gdrive/My Drive/Colab Notebooks/cycleGAN/monet2photo_out/generator_B_to_A/assets\n"
          ]
        },
        {
          "output_type": "stream",
          "name": "stderr",
          "text": [
            "INFO:tensorflow:Assets written to: /content/gdrive/My Drive/Colab Notebooks/cycleGAN/monet2photo_out/generator_B_to_A/assets\n",
            "WARNING:absl:Found untraced functions such as leaky_re_lu_8_layer_call_fn, leaky_re_lu_8_layer_call_and_return_conditional_losses, leaky_re_lu_9_layer_call_fn, leaky_re_lu_9_layer_call_and_return_conditional_losses, leaky_re_lu_10_layer_call_fn while saving (showing 5 of 20). These functions will not be directly callable after loading.\n"
          ]
        },
        {
          "output_type": "stream",
          "name": "stdout",
          "text": [
            "INFO:tensorflow:Assets written to: /content/gdrive/My Drive/Colab Notebooks/cycleGAN/monet2photo_out/discriminator_A/assets\n"
          ]
        },
        {
          "output_type": "stream",
          "name": "stderr",
          "text": [
            "INFO:tensorflow:Assets written to: /content/gdrive/My Drive/Colab Notebooks/cycleGAN/monet2photo_out/discriminator_A/assets\n",
            "WARNING:absl:Found untraced functions such as leaky_re_lu_12_layer_call_fn, leaky_re_lu_12_layer_call_and_return_conditional_losses, leaky_re_lu_13_layer_call_fn, leaky_re_lu_13_layer_call_and_return_conditional_losses, leaky_re_lu_14_layer_call_fn while saving (showing 5 of 20). These functions will not be directly callable after loading.\n"
          ]
        },
        {
          "output_type": "stream",
          "name": "stdout",
          "text": [
            "INFO:tensorflow:Assets written to: /content/gdrive/My Drive/Colab Notebooks/cycleGAN/monet2photo_out/discriminator_B/assets\n"
          ]
        },
        {
          "output_type": "stream",
          "name": "stderr",
          "text": [
            "INFO:tensorflow:Assets written to: /content/gdrive/My Drive/Colab Notebooks/cycleGAN/monet2photo_out/discriminator_B/assets\n"
          ]
        },
        {
          "output_type": "stream",
          "name": "stdout",
          "text": [
            "Epoch: 0 Batch: 501, [Discriminator_A :: Loss: 0.3030504997004755], [ Generator :: Loss: [0.8867164254188538, 0.0003993486170656979, 0.0, 0.03388764709234238, 0.043606266379356384, 0.0597347766160965, 0.051643140614032745]]\n",
            "Epoch: 0 Batch: 502, [Discriminator_A :: Loss: 0.00156423170119524], [ Generator :: Loss: [2.6003952026367188, 0.8188160061836243, 1.0, 0.03751517832279205, 0.028993133455514908, 0.067515067756176, 0.0489809550344944]]\n",
            "Epoch: 0 Batch: 503, [Discriminator_A :: Loss: 0.4711921321286354], [ Generator :: Loss: [1.335923671722412, 0.0009227205300703645, 0.0, 0.04845300316810608, 0.06887608021497726, 0.08623066544532776, 0.07547947764396667]]\n",
            "Epoch: 0 Batch: 504, [Discriminator_A :: Loss: 0.211261086165905], [ Generator :: Loss: [0.8207225799560547, 0.001317612361162901, 0.0, 0.036176566034555435, 0.03473570942878723, 0.05912153050303459, 0.05116065964102745]]\n",
            "Epoch: 0 Batch: 505, [Discriminator_A :: Loss: 0.04422428086400032], [ Generator :: Loss: [0.8542152047157288, 0.0011250642128288746, 0.0, 0.03486534208059311, 0.03976595401763916, 0.05550992116332054, 0.05126724764704704]]\n",
            "Epoch: 0 Batch: 506, [Discriminator_A :: Loss: 0.15359110780991614], [ Generator :: Loss: [0.8854919672012329, 0.015238970518112183, 0.0, 0.026194479316473007, 0.04801217094063759, 0.0457393117249012, 0.08244720101356506]]\n",
            "Epoch: 0 Batch: 507, [Discriminator_A :: Loss: 0.34871056911651976], [ Generator :: Loss: [0.7718531489372253, 0.0013163923285901546, 0.0, 0.029715469107031822, 0.03635982796549797, 0.05205969512462616, 0.057724058628082275]]\n",
            "Epoch: 0 Batch: 508, [Discriminator_A :: Loss: 0.1928728698985651], [ Generator :: Loss: [0.80912184715271, 0.0017025404376909137, 0.0, 0.033247191458940506, 0.03606276959180832, 0.057753242552280426, 0.056566402316093445]]\n",
            "Epoch: 0 Batch: 509, [Discriminator_A :: Loss: 0.1452078849542886], [ Generator :: Loss: [0.7960532307624817, 0.004605368711054325, 0.0, 0.02826812118291855, 0.03938588127493858, 0.0499742291867733, 0.06493358314037323]]\n",
            "Epoch: 0 Batch: 510, [Discriminator_A :: Loss: 0.5150341652333736], [ Generator :: Loss: [0.712357759475708, 0.04510870575904846, 0.0, 0.025710701942443848, 0.03150966018438339, 0.048090387135744095, 0.046955008059740067]]\n",
            "Epoch: 0 Batch: 511, [Discriminator_A :: Loss: 0.005647800397127867], [ Generator :: Loss: [0.836423397064209, 0.0010950188152492046, 0.0, 0.038835037499666214, 0.03272136300802231, 0.06669176369905472, 0.05307263135910034]]\n",
            "Epoch: 0 Batch: 512, [Discriminator_A :: Loss: 0.493774725626281], [ Generator :: Loss: [0.7611130475997925, 0.0001135134807555005, 0.0, 0.030949406325817108, 0.03367006033658981, 0.06289836764335632, 0.051906511187553406]]\n",
            "Epoch: 0 Batch: 513, [Discriminator_A :: Loss: 0.19265969097614288], [ Generator :: Loss: [0.8505144715309143, 0.002879668027162552, 0.0, 0.03319507837295532, 0.039946895092725754, 0.060949716717004776, 0.05526530742645264]]\n",
            "Epoch: 0 Batch: 514, [Discriminator_A :: Loss: 0.025079821760300547], [ Generator :: Loss: [0.9740583896636963, 0.0006253833416849375, 0.0, 0.04753939062356949, 0.04065120220184326, 0.04476821422576904, 0.046758927404880524]]\n",
            "Epoch: 0 Batch: 515, [Discriminator_A :: Loss: 0.0005518356192624196], [ Generator :: Loss: [1.1071867942810059, 0.00037484674248844385, 0.0, 0.05479557439684868, 0.03978540748357773, 0.09984470903873444, 0.06115733087062836]]\n",
            "Epoch: 0 Batch: 516, [Discriminator_A :: Loss: 0.004766783298691735], [ Generator :: Loss: [0.9403455257415771, 0.00024166217190213501, 0.0, 0.04837449640035629, 0.031184513121843338, 0.09388773143291473, 0.05062604323029518]]\n",
            "Epoch: 0 Batch: 517, [Discriminator_A :: Loss: 0.2533954344689846], [ Generator :: Loss: [0.8590142726898193, 0.0029014977626502514, 0.0, 0.03555561602115631, 0.03833412006497383, 0.06512033194303513, 0.05209503322839737]]\n",
            "Epoch: 0 Batch: 518, [Discriminator_A :: Loss: 0.3518738638376817], [ Generator :: Loss: [0.7861233949661255, 0.0016390179516747594, 0.0, 0.035401664674282074, 0.032498206943273544, 0.05436759814620018, 0.05111802741885185]]\n",
            "Epoch: 0 Batch: 519, [Discriminator_A :: Loss: 0.4570030640970799], [ Generator :: Loss: [2.6069529056549072, 0.9817548394203186, 1.0, 0.024739935994148254, 0.02959236316382885, 0.04701251536607742, 0.034862637519836426]]\n",
            "Epoch: 0 Batch: 520, [Discriminator_A :: Loss: 0.2753658822039142], [ Generator :: Loss: [1.0809416770935059, 0.002053716452792287, 0.0, 0.05101978778839111, 0.043819695711135864, 0.06260453909635544, 0.06788855791091919]]\n",
            "Epoch: 0 Batch: 521, [Discriminator_A :: Loss: 0.42877644492546096], [ Generator :: Loss: [1.062462568283081, 0.0011731537524610758, 0.0, 0.03009437397122383, 0.0659889355301857, 0.05098257586359978, 0.049473751336336136]]\n",
            "Epoch: 0 Batch: 522, [Discriminator_A :: Loss: 0.37860798987094313], [ Generator :: Loss: [0.9873048663139343, 0.00022871984401717782, 0.0, 0.044662244617938995, 0.04351751133799553, 0.045477405190467834, 0.05980118736624718]]\n",
            "Epoch: 0 Batch: 523, [Discriminator_A :: Loss: 0.27131485659629107], [ Generator :: Loss: [0.8519960641860962, 0.005552118644118309, 0.0, 0.031508464366197586, 0.041893430054187775, 0.05221007764339447, 0.06021496281027794]]\n",
            "Epoch: 0 Batch: 524, [Discriminator_A :: Loss: 0.2527124050538987], [ Generator :: Loss: [0.9175770282745361, 0.0006348932511173189, 0.0, 0.039823565632104874, 0.04074466601014137, 0.055378567427396774, 0.055881187319755554]]\n",
            "Epoch: 0 Batch: 525, [Discriminator_A :: Loss: 0.013225938193500042], [ Generator :: Loss: [0.7678990960121155, 0.00012194285227451473, 0.0, 0.0364423468708992, 0.029873281717300415, 0.05140268802642822, 0.05321817100048065]]\n",
            "Epoch: 0 Batch: 526, [Discriminator_A :: Loss: 0.00572719844058156], [ Generator :: Loss: [0.9358497262001038, 0.0008617573766969144, 0.0, 0.036878637969493866, 0.04273691773414612, 0.06930357217788696, 0.06952882558107376]]\n",
            "Epoch: 0 Batch: 527, [Discriminator_A :: Loss: 0.004883459419943392], [ Generator :: Loss: [0.9136475920677185, 0.005040243733674288, 0.0, 0.046981070190668106, 0.031697966158390045, 0.08552423864603043, 0.03629276156425476]]\n",
            "Epoch: 0 Batch: 528, [Discriminator_A :: Loss: 0.4237309628078947], [ Generator :: Loss: [0.7073230147361755, 0.000490418344270438, 0.0, 0.0309803057461977, 0.029067041352391243, 0.06016422435641289, 0.04619486629962921]]\n",
            "Epoch: 0 Batch: 529, [Discriminator_A :: Loss: 0.00562160654226318], [ Generator :: Loss: [0.7523326277732849, 0.0007773084216751158, 0.0, 0.03327636048197746, 0.030835993587970734, 0.06636082381010056, 0.04407096281647682]]\n",
            "Epoch: 0 Batch: 530, [Discriminator_A :: Loss: 0.43904851673869416], [ Generator :: Loss: [2.6430935859680176, 0.950506865978241, 1.0, 0.026119008660316467, 0.03330343961715698, 0.04217984154820442, 0.0561823733150959]]\n",
            "Epoch: 0 Batch: 531, [Discriminator_A :: Loss: 0.0009838496189331636], [ Generator :: Loss: [0.8041764497756958, 0.0004560425295494497, 0.0, 0.03950140252709389, 0.03111933171749115, 0.052352529019117355, 0.045160599052906036]]\n",
            "Epoch: 0 Batch: 532, [Discriminator_A :: Loss: 0.02634599432349205], [ Generator :: Loss: [0.8881471157073975, 0.05172252655029297, 0.0, 0.030314037576317787, 0.04072636738419533, 0.06121853366494179, 0.06480196863412857]]\n",
            "Epoch: 0 Batch: 533, [Discriminator_A :: Loss: 0.39977928034204524], [ Generator :: Loss: [0.771350622177124, 0.00016642063565086573, 0.0, 0.034125909209251404, 0.03350551426410675, 0.04179827868938446, 0.053071677684783936]]\n",
            "Epoch: 0 Batch: 534, [Discriminator_A :: Loss: 0.41686726367333904], [ Generator :: Loss: [0.7323148250579834, 0.0004011993878521025, 0.0, 0.030352400615811348, 0.03282991796731949, 0.046895142644643784, 0.053195320069789886]]\n",
            "Epoch: 0 Batch: 535, [Discriminator_A :: Loss: 0.005753217497840524], [ Generator :: Loss: [1.1874010562896729, 0.0003397745604161173, 0.0, 0.06647007167339325, 0.03541036695241928, 0.11520487070083618, 0.05305199325084686]]\n",
            "Epoch: 0 Batch: 536, [Discriminator_A :: Loss: 0.48605071287602186], [ Generator :: Loss: [0.6364404559135437, 0.0006166257662698627, 0.0, 0.02157139964401722, 0.033270932734012604, 0.039611756801605225, 0.047788750380277634]]\n",
            "Epoch: 0 Batch: 537, [Discriminator_A :: Loss: 0.00521677053620806], [ Generator :: Loss: [0.9483972787857056, 0.000961866055149585, 0.0, 0.04375152289867401, 0.039081498980522156, 0.05939008295536041, 0.05971516668796539]]\n",
            "Epoch: 0 Batch: 538, [Discriminator_A :: Loss: 0.07009844924323261], [ Generator :: Loss: [0.7492671012878418, 0.0014232948888093233, 0.0, 0.03621721267700195, 0.0277390219271183, 0.06364476680755615, 0.04463673382997513]]\n",
            "Epoch: 0 Batch: 539, [Discriminator_A :: Loss: 0.4709179808560293], [ Generator :: Loss: [0.7560184597969055, 0.001168405869975686, 0.0, 0.023802990093827248, 0.04219510406255722, 0.04097945988178253, 0.05388961732387543]]\n",
            "Epoch: 0 Batch: 540, [Discriminator_A :: Loss: 0.00019919809710700065], [ Generator :: Loss: [0.8714796304702759, 0.00013116376067046076, 0.0, 0.047109223902225494, 0.029054947197437286, 0.06565473973751068, 0.04405205696821213]]\n",
            "Epoch: 0 Batch: 541, [Discriminator_A :: Loss: 0.013509459502529353], [ Generator :: Loss: [0.8996331691741943, 0.0004128926375415176, 0.0, 0.043049126863479614, 0.03508959338068962, 0.06452617794275284, 0.053306903690099716]]\n",
            "Epoch: 0 Batch: 542, [Discriminator_A :: Loss: 0.17887349287047982], [ Generator :: Loss: [0.8821724653244019, 0.005309179425239563, 0.0, 0.04386095702648163, 0.03299177438020706, 0.05496794357895851, 0.053368017077445984]]\n",
            "Epoch: 0 Batch: 543, [Discriminator_A :: Loss: 0.4276286547537893], [ Generator :: Loss: [0.9748926162719727, 0.0051667578518390656, 0.0, 0.03739346191287041, 0.0480068102478981, 0.056022606790065765, 0.05970051884651184]]\n",
            "Epoch: 0 Batch: 544, [Discriminator_A :: Loss: 0.9183089733123779], [ Generator :: Loss: [0.7776180505752563, 0.043094344437122345, 0.0, 0.03381788730621338, 0.03058357909321785, 0.042737361043691635, 0.04777172580361366]]\n",
            "Epoch: 0 Batch: 545, [Discriminator_A :: Loss: 0.002457257083733566], [ Generator :: Loss: [0.8223693370819092, 6.737577496096492e-05, 0.0, 0.04199916869401932, 0.029118379577994347, 0.06693176925182343, 0.044194698333740234]]\n",
            "Epoch: 0 Batch: 546, [Discriminator_A :: Loss: 0.016905556432902813], [ Generator :: Loss: [0.9173716902732849, 0.0018918616697192192, 0.0, 0.034319646656513214, 0.04765394330024719, 0.06258543580770493, 0.033158548176288605]]\n",
            "Epoch: 0 Batch: 547, [Discriminator_A :: Loss: 0.0021357619552873075], [ Generator :: Loss: [0.8786723613739014, 0.0002894122153520584, 0.0, 0.04463231563568115, 0.03242307901382446, 0.06197941675782204, 0.045849598944187164]]\n",
            "Epoch: 0 Batch: 548, [Discriminator_A :: Loss: 0.4375412669614889], [ Generator :: Loss: [1.2656495571136475, 0.0039565833285450935, 0.0, 0.038152679800987244, 0.07425178587436676, 0.04418017715215683, 0.09346823394298553]]\n",
            "Epoch: 0 Batch: 549, [Discriminator_A :: Loss: 0.0516839629271999], [ Generator :: Loss: [1.0139216184616089, 0.0017313972348347306, 0.0, 0.052859220653772354, 0.03550320863723755, 0.07809241861104965, 0.05047350376844406]]\n",
            "Epoch: 0 Batch: 550, [Discriminator_A :: Loss: 0.052055458014365286], [ Generator :: Loss: [1.0779656171798706, 0.0004432119312696159, 0.0, 0.04149666428565979, 0.05294426530599594, 0.07010908424854279, 0.06300399452447891]]\n",
            "Epoch: 0 Batch: 551, [Discriminator_A :: Loss: 0.0006015781818859978], [ Generator :: Loss: [0.8967483043670654, 0.0005983536830171943, 0.0, 0.04161432385444641, 0.036189354956150055, 0.0711713582277298, 0.04694187268614769]]\n",
            "Epoch: 0 Batch: 552, [Discriminator_A :: Loss: 0.44169849349418655], [ Generator :: Loss: [0.6717542409896851, 0.0010697891702875495, 0.0, 0.020329896360635757, 0.037937674671411514, 0.03461715579032898, 0.05339156091213226]]\n",
            "Epoch: 0 Batch: 553, [Discriminator_A :: Loss: 0.013378459290834144], [ Generator :: Loss: [1.073628306388855, 0.000563731649890542, 0.0, 0.04903131350874901, 0.043813686817884445, 0.08494547009468079, 0.059669043868780136]]\n",
            "Epoch: 0 Batch: 554, [Discriminator_A :: Loss: 0.006229778402484953], [ Generator :: Loss: [0.9309972524642944, 0.0011818668572232127, 0.0, 0.04304727539420128, 0.03749953955411911, 0.07553435862064362, 0.04881283640861511]]\n",
            "Epoch: 0 Batch: 555, [Discriminator_A :: Loss: 0.273833679035306], [ Generator :: Loss: [0.8876147270202637, 0.008352799341082573, 0.0, 0.039128854870796204, 0.037491027265787125, 0.06282269209623337, 0.050240401178598404]]\n",
            "Epoch: 0 Batch: 556, [Discriminator_A :: Loss: 0.3532826949376613], [ Generator :: Loss: [0.7330569624900818, 0.0008464111597277224, 0.0, 0.028379132971167564, 0.035768572241067886, 0.03502160683274269, 0.055711887776851654]]\n",
            "Epoch: 0 Batch: 557, [Discriminator_A :: Loss: 0.34250858589075506], [ Generator :: Loss: [0.6856293082237244, 0.003497451078146696, 0.0, 0.02977052703499794, 0.02903483249247074, 0.05131562054157257, 0.04276266321539879]]\n",
            "Epoch: 0 Batch: 558, [Discriminator_A :: Loss: 0.25354591125505976], [ Generator :: Loss: [0.8056472539901733, 0.000503816525451839, 0.0, 0.03497476503252983, 0.03455040231347084, 0.05045286938548088, 0.059438951313495636]]\n",
            "Epoch: 0 Batch: 559, [Discriminator_A :: Loss: 0.20002228068187833], [ Generator :: Loss: [0.8208256959915161, 0.0007321743760257959, 0.0, 0.037895165383815765, 0.03386704623699188, 0.05275392904877663, 0.04971743002533913]]\n",
            "Epoch: 0 Batch: 560, [Discriminator_A :: Loss: 0.44918114837491885], [ Generator :: Loss: [0.7913936376571655, 0.0009293663897551596, 0.0, 0.0351526215672493, 0.034354694187641144, 0.05322724208235741, 0.042163949459791183]]\n",
            "Epoch: 0 Batch: 561, [Discriminator_A :: Loss: 0.415533989405958], [ Generator :: Loss: [0.7443716526031494, 0.00030051040812395513, 0.0, 0.030354321002960205, 0.033380597829818726, 0.05321534350514412, 0.05350659042596817]]\n",
            "Epoch: 0 Batch: 562, [Discriminator_A :: Loss: 0.004038139712065458], [ Generator :: Loss: [0.732428789138794, 0.002674085320904851, 0.0, 0.033381059765815735, 0.02871209941804409, 0.06257324665784836, 0.046249870210886]]\n",
            "Epoch: 0 Batch: 563, [Discriminator_A :: Loss: 0.00022829673252999783], [ Generator :: Loss: [1.1849539279937744, 0.0004459667834453285, 0.0, 0.05891035497188568, 0.04123285412788391, 0.11106595396995544, 0.0720098614692688]]\n",
            "Epoch: 0 Batch: 564, [Discriminator_A :: Loss: 0.002970430185087025], [ Generator :: Loss: [0.7434201240539551, 0.0017984224250540137, 0.0, 0.04140937700867653, 0.02159298211336136, 0.07845808565616608, 0.033140070736408234]]\n",
            "Epoch: 0 Batch: 565, [Discriminator_A :: Loss: 0.11115172039717436], [ Generator :: Loss: [0.7502565383911133, 0.0018947196658700705, 0.0, 0.02465544454753399, 0.0387512631714344, 0.051942128688097, 0.06235263869166374]]\n",
            "Epoch: 0 Batch: 566, [Discriminator_A :: Loss: 0.02275540097616613], [ Generator :: Loss: [0.818108320236206, 0.0013917562318965793, 0.0, 0.04002919793128967, 0.030466632917523384, 0.06684067845344543, 0.04491759091615677]]\n",
            "Epoch: 0 Batch: 567, [Discriminator_A :: Loss: 0.010444281309901271], [ Generator :: Loss: [0.8164162635803223, 4.92008839501068e-05, 0.0, 0.04066169261932373, 0.028103692457079887, 0.08015362918376923, 0.04855961352586746]]\n",
            "Epoch: 0 Batch: 568, [Discriminator_A :: Loss: 0.2637701630592346], [ Generator :: Loss: [2.7735037803649902, 0.8451855182647705, 1.0, 0.04669632017612457, 0.03283291310071945, 0.07878944277763367, 0.05423645302653313]]\n",
            "Epoch: 0 Batch: 569, [Discriminator_A :: Loss: 0.4863644018769264], [ Generator :: Loss: [0.7755568623542786, 0.0030496048275381327, 0.0, 0.036668818444013596, 0.031039876863360405, 0.049483414739370346, 0.04593686759471893]]\n",
            "Epoch: 0 Batch: 570, [Discriminator_A :: Loss: 0.0988887237617746], [ Generator :: Loss: [0.8131959438323975, 0.001087088487111032, 0.0, 0.03657776862382889, 0.033536866307258606, 0.0649859607219696, 0.045976512134075165]]\n",
            "Epoch: 0 Batch: 571, [Discriminator_A :: Loss: 0.2495976929058088], [ Generator :: Loss: [0.9334093332290649, 0.000826185685582459, 0.0, 0.03628147020936012, 0.0464472621679306, 0.045563120394945145, 0.05973266437649727]]\n",
            "Epoch: 0 Batch: 572, [Discriminator_A :: Loss: 0.3560618404299021], [ Generator :: Loss: [0.6420866250991821, 0.019948821514844894, 0.0, 0.02806028351187706, 0.026242762804031372, 0.040259070694446564, 0.03884825110435486]]\n",
            "Epoch: 0 Batch: 573, [Discriminator_A :: Loss: 0.057009540032595396], [ Generator :: Loss: [0.8776585459709167, 0.002105988096445799, 0.0, 0.042245492339134216, 0.03415605053305626, 0.06548328697681427, 0.04605383798480034]]\n",
            "Epoch: 0 Batch: 574, [Discriminator_A :: Loss: 0.3143817977979779], [ Generator :: Loss: [0.8786922693252563, 0.026189086958765984, 0.0, 0.04260304197669029, 0.03221358358860016, 0.04997840151190758, 0.05435848981142044]]\n",
            "Epoch: 0 Batch: 575, [Discriminator_A :: Loss: 0.012174623610917479], [ Generator :: Loss: [0.9572144150733948, 0.0006298510706983507, 0.0, 0.046872641891241074, 0.035956721752882004, 0.0821462869644165, 0.04614464193582535]]\n",
            "Epoch: 0 Batch: 576, [Discriminator_A :: Loss: 0.21385664425906725], [ Generator :: Loss: [0.8672967553138733, 0.0010877331951633096, 0.0, 0.040482789278030396, 0.03462555259466171, 0.0611804760992527, 0.05394512042403221]]\n",
            "Epoch: 0 Batch: 577, [Discriminator_A :: Loss: 0.27242901919817086], [ Generator :: Loss: [1.019779920578003, 0.0025057741440832615, 0.0, 0.03486480563879013, 0.05484575033187866, 0.06346549838781357, 0.05670309439301491]]\n",
            "Epoch: 0 Batch: 578, [Discriminator_A :: Loss: 0.4810191831202246], [ Generator :: Loss: [0.8517537117004395, 0.0005816379562020302, 0.0, 0.03435081988573074, 0.041819993406534195, 0.04978121072053909, 0.0396827831864357]]\n",
            "Epoch: 0 Batch: 579, [Discriminator_A :: Loss: 0.398425889936334], [ Generator :: Loss: [1.845093011856079, 0.0032305826898664236, 0.0, 0.053714629262685776, 0.11287365853786469, 0.06524834781885147, 0.11073130369186401]]\n",
            "Epoch: 0 Batch: 580, [Discriminator_A :: Loss: 0.005448496143799275], [ Generator :: Loss: [0.858128547668457, 0.013629811815917492, 0.0, 0.03578605502843857, 0.03728628158569336, 0.05596102774143219, 0.057814307510852814]]\n",
            "Epoch: 0 Batch: 581, [Discriminator_A :: Loss: 0.4466598320286721], [ Generator :: Loss: [0.7270826101303101, 0.0013272665673866868, 0.0, 0.034403931349515915, 0.029158025979995728, 0.04950663447380066, 0.040629081428050995]]\n",
            "Epoch: 0 Batch: 582, [Discriminator_A :: Loss: 0.04351682751439512], [ Generator :: Loss: [0.8463016748428345, 0.00389275373890996, 0.0, 0.0426536463201046, 0.03230702877044678, 0.054128482937812805, 0.038673680275678635]]\n",
            "Epoch: 0 Batch: 583, [Discriminator_A :: Loss: 0.3183981609181501], [ Generator :: Loss: [2.625300645828247, 0.9402913451194763, 1.0, 0.031090300530195236, 0.02848844602704048, 0.045866016298532486, 0.04335569590330124]]\n",
            "Epoch: 0 Batch: 584, [Discriminator_A :: Loss: 0.3518912235740572], [ Generator :: Loss: [0.8957054615020752, 0.003741759341210127, 0.0, 0.04122942313551903, 0.036514073610305786, 0.0555785708129406, 0.05895015224814415]]\n",
            "Epoch: 0 Batch: 585, [Discriminator_A :: Loss: 0.0007513975142501295], [ Generator :: Loss: [0.9661380052566528, 0.0017535759834572673, 0.0, 0.047863930463790894, 0.03543475270271301, 0.07501780986785889, 0.0563797727227211]]\n",
            "Epoch: 0 Batch: 586, [Discriminator_A :: Loss: 0.4496172446961282], [ Generator :: Loss: [1.2129846811294556, 0.0008288879762403667, 0.0, 0.06212371587753296, 0.043256811797618866, 0.09985551238059998, 0.058495040982961655]]\n",
            "Epoch: 0 Batch: 587, [Discriminator_A :: Loss: 0.0020955625805072486], [ Generator :: Loss: [0.7641019821166992, 0.0009495645645074546, 0.0, 0.03761238604784012, 0.027291057631373405, 0.07477083802223206, 0.03934720531105995]]\n",
            "Epoch: 0 Batch: 588, [Discriminator_A :: Loss: 0.37416915300127584], [ Generator :: Loss: [0.6942551136016846, 0.00021842328715138137, 0.0, 0.026812177151441574, 0.03328361734747887, 0.044618260115385056, 0.04846049100160599]]\n",
            "Epoch: 0 Batch: 589, [Discriminator_A :: Loss: 0.0967226401262451], [ Generator :: Loss: [0.7080695629119873, 0.0003434894315432757, 0.0, 0.03471605107188225, 0.026401150971651077, 0.06070438772439957, 0.035849690437316895]]\n",
            "Epoch: 0 Batch: 590, [Discriminator_A :: Loss: 0.11825620074523613], [ Generator :: Loss: [2.7285213470458984, 0.9536529183387756, 1.0, 0.0326443612575531, 0.033179525285959244, 0.06041380390524864, 0.05621563643217087]]\n",
            "Epoch: 0 Batch: 591, [Discriminator_A :: Loss: 0.13678394979797304], [ Generator :: Loss: [0.7192884683609009, 0.0014107122551649809, 0.0, 0.039603449404239655, 0.021430617198348045, 0.07221017777919769, 0.035326942801475525]]\n",
            "Epoch: 0 Batch: 592, [Discriminator_A :: Loss: 0.35926827567163855], [ Generator :: Loss: [0.7449260950088501, 0.0003999730106443167, 0.0, 0.031439412385225296, 0.030648846179246902, 0.06773846596479416, 0.05590509623289108]]\n",
            "Epoch: 0 Batch: 593, [Discriminator_A :: Loss: 0.43027992712450214], [ Generator :: Loss: [2.5893423557281494, 0.8335135579109192, 1.0, 0.02274470031261444, 0.04059293866157532, 0.049378350377082825, 0.07307405769824982]]\n",
            "Epoch: 0 Batch: 594, [Discriminator_A :: Loss: 0.39578111231094226], [ Generator :: Loss: [0.8635450601577759, 0.001583223114721477, 0.0, 0.02536260150372982, 0.05231017619371414, 0.04041080176830292, 0.04482324421405792]]\n",
            "Epoch: 0 Batch: 595, [Discriminator_A :: Loss: 0.00034026803041342646], [ Generator :: Loss: [0.9519814848899841, 0.001085383351892233, 0.0, 0.04296804219484329, 0.04003259539604187, 0.05572446435689926, 0.06516525149345398]]\n",
            "Epoch: 0 Batch: 596, [Discriminator_A :: Loss: 0.017713900189846754], [ Generator :: Loss: [2.955831527709961, 0.8984106779098511, 1.0, 0.05090440437197685, 0.0407303050160408, 0.09199389815330505, 0.0490800179541111]]\n",
            "Epoch: 0 Batch: 597, [Discriminator_A :: Loss: 0.002940411795862019], [ Generator :: Loss: [0.7665740251541138, 0.00038447213592007756, 0.0, 0.03828803077340126, 0.02602812461555004, 0.07697761058807373, 0.04605039209127426]]\n",
            "Epoch: 0 Batch: 598, [Discriminator_A :: Loss: 0.0010910675337072462], [ Generator :: Loss: [0.8978539109230042, 0.02859674021601677, 0.0, 0.03434527665376663, 0.03942020609974861, 0.0637282133102417, 0.06787414848804474]]\n",
            "Epoch: 0 Batch: 599, [Discriminator_A :: Loss: 0.2037901096045971], [ Generator :: Loss: [0.8555217981338501, 0.08099950850009918, 0.0, 0.031232981011271477, 0.03508811444044113, 0.05893770605325699, 0.05237361043691635]]\n",
            "Epoch: 0 Batch: 600, [Discriminator_A :: Loss: 0.014136034296825528], [ Generator :: Loss: [0.9351320266723633, 0.0049256253987550735, 0.0, 0.043749187141656876, 0.037257641553878784, 0.06261607259511948, 0.0575220100581646]]\n",
            "Image_A shape: (64, 64, 3)\n",
            "fake_B shape: (64, 64, 3)\n",
            "reconstructed_A shape: (64, 64, 3)\n"
          ]
        },
        {
          "output_type": "stream",
          "name": "stderr",
          "text": [
            "WARNING:absl:Found untraced functions such as leaky_re_lu_4_layer_call_fn, leaky_re_lu_4_layer_call_and_return_conditional_losses, leaky_re_lu_5_layer_call_fn, leaky_re_lu_5_layer_call_and_return_conditional_losses, leaky_re_lu_6_layer_call_fn while saving (showing 5 of 80). These functions will not be directly callable after loading.\n"
          ]
        },
        {
          "output_type": "stream",
          "name": "stdout",
          "text": [
            "INFO:tensorflow:Assets written to: /content/gdrive/My Drive/Colab Notebooks/cycleGAN/monet2photo_out/gan_model/assets\n"
          ]
        },
        {
          "output_type": "stream",
          "name": "stderr",
          "text": [
            "INFO:tensorflow:Assets written to: /content/gdrive/My Drive/Colab Notebooks/cycleGAN/monet2photo_out/gan_model/assets\n",
            "WARNING:absl:Found untraced functions such as leaky_re_lu_layer_call_fn, leaky_re_lu_layer_call_and_return_conditional_losses, leaky_re_lu_1_layer_call_fn, leaky_re_lu_1_layer_call_and_return_conditional_losses, leaky_re_lu_2_layer_call_fn while saving (showing 5 of 20). These functions will not be directly callable after loading.\n"
          ]
        },
        {
          "output_type": "stream",
          "name": "stdout",
          "text": [
            "INFO:tensorflow:Assets written to: /content/gdrive/My Drive/Colab Notebooks/cycleGAN/monet2photo_out/generator_A_to_B/assets\n"
          ]
        },
        {
          "output_type": "stream",
          "name": "stderr",
          "text": [
            "INFO:tensorflow:Assets written to: /content/gdrive/My Drive/Colab Notebooks/cycleGAN/monet2photo_out/generator_A_to_B/assets\n",
            "WARNING:absl:Found untraced functions such as leaky_re_lu_4_layer_call_fn, leaky_re_lu_4_layer_call_and_return_conditional_losses, leaky_re_lu_5_layer_call_fn, leaky_re_lu_5_layer_call_and_return_conditional_losses, leaky_re_lu_6_layer_call_fn while saving (showing 5 of 20). These functions will not be directly callable after loading.\n"
          ]
        },
        {
          "output_type": "stream",
          "name": "stdout",
          "text": [
            "INFO:tensorflow:Assets written to: /content/gdrive/My Drive/Colab Notebooks/cycleGAN/monet2photo_out/generator_B_to_A/assets\n"
          ]
        },
        {
          "output_type": "stream",
          "name": "stderr",
          "text": [
            "INFO:tensorflow:Assets written to: /content/gdrive/My Drive/Colab Notebooks/cycleGAN/monet2photo_out/generator_B_to_A/assets\n",
            "WARNING:absl:Found untraced functions such as leaky_re_lu_8_layer_call_fn, leaky_re_lu_8_layer_call_and_return_conditional_losses, leaky_re_lu_9_layer_call_fn, leaky_re_lu_9_layer_call_and_return_conditional_losses, leaky_re_lu_10_layer_call_fn while saving (showing 5 of 20). These functions will not be directly callable after loading.\n"
          ]
        },
        {
          "output_type": "stream",
          "name": "stdout",
          "text": [
            "INFO:tensorflow:Assets written to: /content/gdrive/My Drive/Colab Notebooks/cycleGAN/monet2photo_out/discriminator_A/assets\n"
          ]
        },
        {
          "output_type": "stream",
          "name": "stderr",
          "text": [
            "INFO:tensorflow:Assets written to: /content/gdrive/My Drive/Colab Notebooks/cycleGAN/monet2photo_out/discriminator_A/assets\n",
            "WARNING:absl:Found untraced functions such as leaky_re_lu_12_layer_call_fn, leaky_re_lu_12_layer_call_and_return_conditional_losses, leaky_re_lu_13_layer_call_fn, leaky_re_lu_13_layer_call_and_return_conditional_losses, leaky_re_lu_14_layer_call_fn while saving (showing 5 of 20). These functions will not be directly callable after loading.\n"
          ]
        },
        {
          "output_type": "stream",
          "name": "stdout",
          "text": [
            "INFO:tensorflow:Assets written to: /content/gdrive/My Drive/Colab Notebooks/cycleGAN/monet2photo_out/discriminator_B/assets\n"
          ]
        },
        {
          "output_type": "stream",
          "name": "stderr",
          "text": [
            "INFO:tensorflow:Assets written to: /content/gdrive/My Drive/Colab Notebooks/cycleGAN/monet2photo_out/discriminator_B/assets\n"
          ]
        },
        {
          "output_type": "stream",
          "name": "stdout",
          "text": [
            "Epoch: 0 Batch: 601, [Discriminator_A :: Loss: 0.46079438738524914], [ Generator :: Loss: [0.8334780931472778, 0.019664904102683067, 0.0, 0.027986634522676468, 0.043185822665691376, 0.033667705953121185, 0.0684209018945694]]\n",
            "Epoch: 0 Batch: 602, [Discriminator_A :: Loss: 0.3332695853896439], [ Generator :: Loss: [0.8149572610855103, 0.0005293181748129427, 0.0, 0.03658518195152283, 0.03292689844965935, 0.06993214786052704, 0.04937497898936272]]\n",
            "Epoch: 0 Batch: 603, [Discriminator_A :: Loss: 0.010643244604580104], [ Generator :: Loss: [0.893324613571167, 0.002290781820192933, 0.0, 0.047821640968322754, 0.02817753329873085, 0.08381088078022003, 0.04723118990659714]]\n",
            "Epoch: 0 Batch: 604, [Discriminator_A :: Loss: 0.22315751983842347], [ Generator :: Loss: [0.7961453199386597, 0.00027966793277300894, 0.0, 0.04354850947856903, 0.026832763105630875, 0.05259890854358673, 0.03945399075746536]]\n",
            "Epoch: 0 Batch: 605, [Discriminator_A :: Loss: 0.18976408151502255], [ Generator :: Loss: [0.8452175855636597, 0.0003015859692823142, 0.0, 0.03791520372033119, 0.03478863090276718, 0.05715238302946091, 0.060725294053554535]]\n",
            "Epoch: 0 Batch: 606, [Discriminator_A :: Loss: 0.00021213125728536397], [ Generator :: Loss: [1.2703534364700317, 0.000980716897174716, 0.0, 0.05586278438568115, 0.05758696421980858, 0.07971817255020142, 0.055157095193862915]]\n",
            "Epoch: 0 Batch: 607, [Discriminator_A :: Loss: 0.28617212729295716], [ Generator :: Loss: [0.9282980561256409, 0.011435290798544884, 0.0, 0.03424795717000961, 0.044412996619939804, 0.05204007774591446, 0.0782131552696228]]\n",
            "Epoch: 0 Batch: 608, [Discriminator_A :: Loss: 0.3831588635512162], [ Generator :: Loss: [0.7369728088378906, 0.0001217112730955705, 0.0, 0.03271753713488579, 0.03122621960937977, 0.051830269396305084, 0.04558321088552475]]\n",
            "Epoch: 0 Batch: 609, [Discriminator_A :: Loss: 0.005797617515781894], [ Generator :: Loss: [0.7365403771400452, 0.0004061860963702202, 0.0, 0.03441719710826874, 0.02743818797171116, 0.06793317943811417, 0.04964715987443924]]\n",
            "Epoch: 0 Batch: 610, [Discriminator_A :: Loss: 0.19893066287477268], [ Generator :: Loss: [0.7363488674163818, 8.260004688054323e-05, 0.0, 0.03256506845355034, 0.03038429468870163, 0.06121692806482315, 0.045555684715509415]]\n",
            "Epoch: 0 Batch: 611, [Discriminator_A :: Loss: 0.25196520368626807], [ Generator :: Loss: [0.8716174364089966, 0.00026328867534175515, 0.0, 0.034104008227586746, 0.042615532875061035, 0.04487708956003189, 0.05928167700767517]]\n",
            "Epoch: 0 Batch: 612, [Discriminator_A :: Loss: 0.0004185936541034607], [ Generator :: Loss: [1.0722854137420654, 0.00226391339674592, 0.0, 0.05515553802251816, 0.0381619967520237, 0.09215682744979858, 0.044689249247312546]]\n",
            "Epoch: 0 Batch: 613, [Discriminator_A :: Loss: 0.44908645265968516], [ Generator :: Loss: [0.7910687923431396, 0.0015744081465527415, 0.0, 0.029338698834180832, 0.03826843202114105, 0.05486311763525009, 0.05855996534228325]]\n",
            "Epoch: 0 Batch: 614, [Discriminator_A :: Loss: 0.040758198127150536], [ Generator :: Loss: [0.7734379768371582, 0.0013821844477206469, 0.0, 0.03483258932828903, 0.030727753415703773, 0.06207149475812912, 0.05438084900379181]]\n",
            "Epoch: 0 Batch: 615, [Discriminator_A :: Loss: 0.17074571643024683], [ Generator :: Loss: [0.6869825124740601, 0.007810936309397221, 0.0, 0.02779652364552021, 0.03067006915807724, 0.04979078471660614, 0.044714804738759995]]\n",
            "Epoch: 0 Batch: 616, [Discriminator_A :: Loss: 0.4740251942712348], [ Generator :: Loss: [0.6137576103210449, 0.0015414342051371932, 0.0, 0.014998625963926315, 0.03656201437115669, 0.03642425313591957, 0.0601855143904686]]\n",
            "Epoch: 0 Batch: 617, [Discriminator_A :: Loss: 0.04637630097568035], [ Generator :: Loss: [1.0518319606781006, 0.0007579443627037108, 0.0, 0.04308510199189186, 0.04800451919436455, 0.06772014498710632, 0.07245771586894989]]\n",
            "Epoch: 0 Batch: 618, [Discriminator_A :: Loss: 0.02629251457983628], [ Generator :: Loss: [1.0578864812850952, 0.0013489521807059646, 0.0, 0.043826714158058167, 0.049501728266477585, 0.0635763555765152, 0.059676703065633774]]\n",
            "Epoch: 0 Batch: 619, [Discriminator_A :: Loss: 0.13829245210217778], [ Generator :: Loss: [0.9670565724372864, 0.0018811747431755066, 0.0, 0.03518339991569519, 0.049200739711523056, 0.062969870865345, 0.05836412310600281]]\n",
            "Epoch: 0 Batch: 620, [Discriminator_A :: Loss: 0.010584158473648131], [ Generator :: Loss: [1.256800651550293, 0.0005605322076007724, 0.0, 0.059925585985183716, 0.0518474355340004, 0.07749225199222565, 0.06101766973733902]]\n",
            "Epoch: 0 Batch: 621, [Discriminator_A :: Loss: 0.24420421387185343], [ Generator :: Loss: [0.8049225807189941, 0.00068774598184973, 0.0, 0.03554557263851166, 0.032769251614809036, 0.07001112401485443, 0.051075439900159836]]\n",
            "Epoch: 0 Batch: 622, [Discriminator_A :: Loss: 0.002748255807091482], [ Generator :: Loss: [3.0885467529296875, 0.9724266529083252, 1.0, 0.05627388879656792, 0.04371529445052147, 0.05825825035572052, 0.05797013267874718]]\n",
            "Epoch: 0 Batch: 623, [Discriminator_A :: Loss: 0.4674190519290278], [ Generator :: Loss: [0.9584054946899414, 0.0009040404111146927, 0.0, 0.0501837283372879, 0.03275291621685028, 0.08006524294614792, 0.048069823533296585]]\n",
            "Epoch: 0 Batch: 624, [Discriminator_A :: Loss: 0.00447210602578707], [ Generator :: Loss: [2.938192367553711, 0.9708428978919983, 1.0, 0.04716918617486954, 0.03663729131221771, 0.08111314475536346, 0.04817160964012146]]\n",
            "Epoch: 0 Batch: 625, [Discriminator_A :: Loss: 0.15098830219358206], [ Generator :: Loss: [1.1633358001708984, 0.003119572065770626, 0.0, 0.05148660019040108, 0.054791420698165894, 0.04818190634250641, 0.049254078418016434]]\n",
            "Epoch: 0 Batch: 626, [Discriminator_A :: Loss: 0.001968166950973682], [ Generator :: Loss: [0.9014440178871155, 0.0009117954759858549, 0.0, 0.0457552894949913, 0.031484801322221756, 0.08075013756752014, 0.04738115519285202]]\n",
            "Epoch: 0 Batch: 627, [Discriminator_A :: Loss: 0.02938538568560034], [ Generator :: Loss: [0.9696931838989258, 0.003226044587790966, 0.0, 0.04359763115644455, 0.042115695774555206, 0.06444388628005981, 0.04488997161388397]]\n",
            "Epoch: 0 Batch: 628, [Discriminator_A :: Loss: 0.10046888957731426], [ Generator :: Loss: [0.83725905418396, 0.0036116254050284624, 0.0, 0.029758868739008904, 0.04201314598321915, 0.05196981504559517, 0.06395746767520905]]\n",
            "Epoch: 0 Batch: 629, [Discriminator_A :: Loss: 0.1770273779402487], [ Generator :: Loss: [0.9328123331069946, 0.0011269283713772893, 0.0, 0.038371894508600235, 0.04341333359479904, 0.05779622495174408, 0.05603689327836037]]\n",
            "Epoch: 0 Batch: 630, [Discriminator_A :: Loss: 0.4379177894734312], [ Generator :: Loss: [0.6966966390609741, 0.0008067769231274724, 0.0, 0.0291922464966774, 0.031408198177814484, 0.043609268963336945, 0.04627615958452225]]\n",
            "Epoch: 0 Batch: 631, [Discriminator_A :: Loss: 0.23832505755126476], [ Generator :: Loss: [0.9940817952156067, 0.0010099724167957902, 0.0, 0.042738743126392365, 0.04439659044146538, 0.06100944057106972, 0.060709044337272644]]\n",
            "Epoch: 0 Batch: 632, [Discriminator_A :: Loss: 0.11374534689821303], [ Generator :: Loss: [2.8205344676971436, 0.8466338515281677, 1.0, 0.04312684386968613, 0.04328146576881409, 0.05871758610010147, 0.05110001191496849]]\n",
            "Epoch: 0 Batch: 633, [Discriminator_A :: Loss: 0.0006314638558251318], [ Generator :: Loss: [0.9644736051559448, 0.001605566474609077, 0.0, 0.047487735748291016, 0.034499697387218475, 0.08536519855260849, 0.057628482580184937]]\n",
            "Epoch: 0 Batch: 634, [Discriminator_A :: Loss: 0.06296400757855736], [ Generator :: Loss: [0.9058908224105835, 0.0029161565471440554, 0.0, 0.03083750791847706, 0.048647359013557434, 0.048977501690387726, 0.05914843827486038]]\n",
            "Epoch: 0 Batch: 635, [Discriminator_A :: Loss: 0.018594774592202157], [ Generator :: Loss: [0.9278255701065063, 0.0040534487925469875, 0.0, 0.043063823133707047, 0.0376046784222126, 0.05938968062400818, 0.057697419077157974]]\n",
            "Epoch: 0 Batch: 636, [Discriminator_A :: Loss: 0.32550428302783985], [ Generator :: Loss: [0.89055997133255, 0.0021096933633089066, 0.0, 0.03959459811449051, 0.035647857934236526, 0.07639558613300323, 0.0596301294863224]]\n",
            "Epoch: 0 Batch: 637, [Discriminator_A :: Loss: 0.30529097204998834], [ Generator :: Loss: [0.7962168455123901, 0.0001458576152799651, 0.0, 0.03890461474657059, 0.030922716483473778, 0.05193077027797699, 0.04586692154407501]]\n",
            "Epoch: 0 Batch: 638, [Discriminator_A :: Loss: 0.45862743667385075], [ Generator :: Loss: [1.1386569738388062, 0.21779900789260864, 0.0, 0.025853337720036507, 0.05523158609867096, 0.04701485484838486, 0.06299389153718948]]\n",
            "Epoch: 0 Batch: 639, [Discriminator_A :: Loss: 0.23734351596795022], [ Generator :: Loss: [1.3595839738845825, 0.0001952796446857974, 0.0, 0.047735415399074554, 0.0733596533536911, 0.07729137688875198, 0.07114656269550323]]\n",
            "Epoch: 0 Batch: 640, [Discriminator_A :: Loss: 0.0038934199837967753], [ Generator :: Loss: [1.168569803237915, 0.0032448475249111652, 0.0, 0.05358056724071503, 0.04680531844496727, 0.08445286750793457, 0.07701320946216583]]\n",
            "Epoch: 0 Batch: 641, [Discriminator_A :: Loss: 0.2814726601354778], [ Generator :: Loss: [0.8726323843002319, 0.0013228837633505464, 0.0, 0.02675718441605568, 0.04942433536052704, 0.05047053098678589, 0.059023771435022354]]\n",
            "Epoch: 0 Batch: 642, [Discriminator_A :: Loss: 0.47647719710948877], [ Generator :: Loss: [0.7022472620010376, 0.0006102012121118605, 0.0, 0.027426788583397865, 0.03362394496798515, 0.03468384966254234, 0.05644584447145462]]\n",
            "Epoch: 0 Batch: 643, [Discriminator_A :: Loss: 0.0007859235629439354], [ Generator :: Loss: [1.3008723258972168, 0.05652877315878868, 0.0, 0.056084323674440384, 0.05004287511110306, 0.10156898945569992, 0.08150267601013184]]\n",
            "Epoch: 0 Batch: 644, [Discriminator_A :: Loss: 0.42660944582894444], [ Generator :: Loss: [0.8444849848747253, 0.0011745219817385077, 0.0, 0.04101680591702461, 0.030358215793967247, 0.08935464173555374, 0.04020560160279274]]\n",
            "Epoch: 0 Batch: 645, [Discriminator_A :: Loss: 0.12608471885323524], [ Generator :: Loss: [0.9251881241798401, 0.005672303959727287, 0.0, 0.0389772430062294, 0.04061248153448105, 0.07011185586452484, 0.053506724536418915]]\n",
            "Epoch: 0 Batch: 646, [Discriminator_A :: Loss: 0.4614858761196956], [ Generator :: Loss: [0.9171620607376099, 0.00038786185905337334, 0.0, 0.031220238655805588, 0.04768621176481247, 0.05213664844632149, 0.07557301968336105]]\n",
            "Epoch: 0 Batch: 647, [Discriminator_A :: Loss: 0.45986218692269176], [ Generator :: Loss: [0.7168343663215637, 0.00018937616550829262, 0.0, 0.025178052484989166, 0.03802698478102684, 0.03788987547159195, 0.04670475795865059]]\n",
            "Epoch: 0 Batch: 648, [Discriminator_A :: Loss: 0.15600335464114323], [ Generator :: Loss: [0.900551974773407, 0.0007158669759519398, 0.0, 0.037521205842494965, 0.039997782558202744, 0.06165758892893791, 0.06298863887786865]]\n",
            "Epoch: 0 Batch: 649, [Discriminator_A :: Loss: 0.3071017302572727], [ Generator :: Loss: [0.8714879751205444, 0.012148543260991573, 0.0, 0.03471922129392624, 0.039480991661548615, 0.05203211307525635, 0.06530517339706421]]\n",
            "Epoch: 0 Batch: 650, [Discriminator_A :: Loss: 0.465703678841237], [ Generator :: Loss: [0.8251655101776123, 0.0005993339000269771, 0.0, 0.026342064142227173, 0.04455960541963577, 0.05157303065061569, 0.06397650390863419]]\n",
            "Epoch: 0 Batch: 651, [Discriminator_A :: Loss: 0.10238226177170873], [ Generator :: Loss: [0.789985179901123, 0.0010143377585336566, 0.0, 0.03245515376329422, 0.035786744207143784, 0.050268881022930145, 0.05628294497728348]]\n",
            "Epoch: 0 Batch: 652, [Discriminator_A :: Loss: 0.12959341488021892], [ Generator :: Loss: [0.9515541791915894, 0.00042611852404661477, 0.0, 0.038701120764017105, 0.04461459442973137, 0.05105472728610039, 0.06691613048315048]]\n",
            "Epoch: 0 Batch: 653, [Discriminator_A :: Loss: 0.003528209403157234], [ Generator :: Loss: [0.8733843564987183, 0.000709810177795589, 0.0, 0.03935382515192032, 0.035738978534936905, 0.07019033282995224, 0.051556169986724854]]\n",
            "Epoch: 0 Batch: 654, [Discriminator_A :: Loss: 0.003330569830723107], [ Generator :: Loss: [1.1335875988006592, 0.003073217812925577, 0.0, 0.04991950839757919, 0.046727802604436874, 0.09100044518709183, 0.07304083555936813]]\n",
            "Epoch: 0 Batch: 655, [Discriminator_A :: Loss: 0.14193838060600683], [ Generator :: Loss: [0.8587133884429932, 0.0001285852922592312, 0.0, 0.039389193058013916, 0.03419803828001022, 0.06755045801401138, 0.05516205355525017]]\n",
            "Epoch: 0 Batch: 656, [Discriminator_A :: Loss: 0.041275179479271173], [ Generator :: Loss: [2.7357234954833984, 0.9584431648254395, 1.0, 0.03642800450325012, 0.030972730368375778, 0.0596332848072052, 0.04363980516791344]]\n",
            "Epoch: 0 Batch: 657, [Discriminator_A :: Loss: 0.4468517270870507], [ Generator :: Loss: [0.6939219236373901, 0.0006803162978030741, 0.0, 0.02337487041950226, 0.03640099614858627, 0.0420372411608696, 0.0534457191824913]]\n",
            "Epoch: 0 Batch: 658, [Discriminator_A :: Loss: 0.33491481497185305], [ Generator :: Loss: [0.8450741767883301, 0.005906389094889164, 0.0, 0.030292637646198273, 0.04296405240893364, 0.055092792958021164, 0.051508087664842606]]\n",
            "Epoch: 0 Batch: 659, [Discriminator_A :: Loss: 0.004334436496719718], [ Generator :: Loss: [0.6109976172447205, 0.0014282283373177052, 0.0, 0.03107674978673458, 0.020389625802636147, 0.06313616037368774, 0.031769491732120514]]\n",
            "Epoch: 0 Batch: 660, [Discriminator_A :: Loss: 0.2697337749414146], [ Generator :: Loss: [0.7557693719863892, 0.0019390040542930365, 0.0, 0.039265427738428116, 0.027835644781589508, 0.041273653507232666, 0.041546035557985306]]\n",
            "Epoch: 0 Batch: 661, [Discriminator_A :: Loss: 0.000631971714028623], [ Generator :: Loss: [0.9751620292663574, 0.0006385631277225912, 0.0, 0.045796528458595276, 0.03719960153102875, 0.0941772609949112, 0.05038496106863022]]\n",
            "Epoch: 0 Batch: 662, [Discriminator_A :: Loss: 0.3511309491004795], [ Generator :: Loss: [1.001441240310669, 0.006288913078606129, 0.0, 0.04169531166553497, 0.04548982158303261, 0.07548723369836807, 0.04781385138630867]]\n",
            "Epoch: 0 Batch: 663, [Discriminator_A :: Loss: 0.00806907971855253], [ Generator :: Loss: [0.9233154654502869, 0.001173198688775301, 0.0, 0.04629627242684364, 0.031848181039094925, 0.08336212486028671, 0.057335615158081055]]\n",
            "Epoch: 0 Batch: 664, [Discriminator_A :: Loss: 0.3046645375434309], [ Generator :: Loss: [0.7261065244674683, 0.0018451099749654531, 0.0, 0.03185489401221275, 0.029174165800213814, 0.055374883115291595, 0.05859589949250221]]\n",
            "Epoch: 0 Batch: 665, [Discriminator_A :: Loss: 0.19454205177316908], [ Generator :: Loss: [0.8065304756164551, 0.00020715421123895794, 0.0, 0.04251483082771301, 0.029512206092476845, 0.050641510635614395, 0.03541141375899315]]\n",
            "Epoch: 0 Batch: 666, [Discriminator_A :: Loss: 0.2660751985386014], [ Generator :: Loss: [0.8078948855400085, 0.0009083179756999016, 0.0, 0.03415931388735771, 0.03524572029709816, 0.05827793478965759, 0.05465828627347946]]\n",
            "Epoch: 0 Batch: 667, [Discriminator_A :: Loss: 0.05493232258595526], [ Generator :: Loss: [0.987384021282196, 0.00040810799691826105, 0.0, 0.042247671633958817, 0.04630173742771149, 0.061283957213163376, 0.04019786790013313]]\n",
            "Epoch: 0 Batch: 668, [Discriminator_A :: Loss: 0.09140605013817549], [ Generator :: Loss: [1.0088014602661133, 0.00579511933028698, 0.0, 0.041413985192775726, 0.04694009944796562, 0.06871004402637482, 0.050755344331264496]]\n",
            "Epoch: 0 Batch: 669, [Discriminator_A :: Loss: 0.04481299559120089], [ Generator :: Loss: [0.8636733293533325, 0.0038031821604818106, 0.0, 0.03568744659423828, 0.04038679599761963, 0.04598243907094002, 0.05314528942108154]]\n",
            "Epoch: 0 Batch: 670, [Discriminator_A :: Loss: 0.4146356010896852], [ Generator :: Loss: [1.8695170879364014, 0.7101764678955078, 0.0, 0.048664264380931854, 0.05122794955968857, 0.09016674011945724, 0.07025167346000671]]\n",
            "Epoch: 0 Batch: 671, [Discriminator_A :: Loss: 0.3242890546534909], [ Generator :: Loss: [0.7250243425369263, 0.00011434819316491485, 0.0, 0.024108052253723145, 0.037862490862607956, 0.04005441069602966, 0.06515016406774521]]\n",
            "Epoch: 0 Batch: 672, [Discriminator_A :: Loss: 0.2751073772087693], [ Generator :: Loss: [0.8277890682220459, 0.0003802715800702572, 0.0, 0.03858629986643791, 0.03370514139533043, 0.06264090538024902, 0.041853420436382294]]\n",
            "Epoch: 0 Batch: 673, [Discriminator_A :: Loss: 0.4317085548536852], [ Generator :: Loss: [0.8016163110733032, 0.0012408281909301877, 0.0, 0.02987435832619667, 0.03797676041722298, 0.05708475783467293, 0.06477948278188705]]\n",
            "Epoch: 0 Batch: 674, [Discriminator_A :: Loss: 0.2138232111465186], [ Generator :: Loss: [2.670978307723999, 0.9472709894180298, 1.0, 0.03188025578856468, 0.030878307297825813, 0.04761359095573425, 0.048507995903491974]]\n",
            "Epoch: 0 Batch: 675, [Discriminator_A :: Loss: 0.0641485070809722], [ Generator :: Loss: [0.9731756448745728, 0.002141851931810379, 0.0, 0.05422277748584747, 0.02814355492591858, 0.1014990508556366, 0.04587141424417496]]\n",
            "Epoch: 0 Batch: 676, [Discriminator_A :: Loss: 0.8708326816558838], [ Generator :: Loss: [1.4689555168151855, 0.6450408101081848, 0.0, 0.022569339722394943, 0.048851266503334045, 0.04569321125745773, 0.06401531398296356]]\n",
            "Epoch: 0 Batch: 677, [Discriminator_A :: Loss: 0.37531897495500743], [ Generator :: Loss: [2.599766731262207, 0.9378463625907898, 1.0, 0.0296286940574646, 0.02793814428150654, 0.04666684567928314, 0.03958532214164734]]\n",
            "Epoch: 0 Batch: 678, [Discriminator_A :: Loss: 0.23862952149647754], [ Generator :: Loss: [2.796619415283203, 0.9680559635162354, 1.0, 0.03450530767440796, 0.03641315549612045, 0.057266965508461, 0.06211163103580475]]\n",
            "Epoch: 0 Batch: 679, [Discriminator_A :: Loss: 0.34072980121709406], [ Generator :: Loss: [0.9613555669784546, 0.0009224163950420916, 0.0, 0.04507152736186981, 0.03912988677620888, 0.06844717264175415, 0.049971871078014374]]\n",
            "Epoch: 0 Batch: 680, [Discriminator_A :: Loss: 0.40888174809515476], [ Generator :: Loss: [0.8114515542984009, 0.0028682094998657703, 0.0, 0.04116096347570419, 0.02980072796344757, 0.04959454759955406, 0.049371834844350815]]\n",
            "Epoch: 0 Batch: 681, [Discriminator_A :: Loss: 0.46598203683970496], [ Generator :: Loss: [0.7663961052894592, 0.0019980657380074263, 0.0, 0.03737359121441841, 0.03053579106926918, 0.04420405998826027, 0.041100166738033295]]\n",
            "Epoch: 0 Batch: 682, [Discriminator_A :: Loss: 0.3107274514186429], [ Generator :: Loss: [0.9337387084960938, 0.00032534272759221494, 0.0, 0.034917742013931274, 0.04666031524538994, 0.06310217827558517, 0.054530609399080276]]\n",
            "Epoch: 0 Batch: 683, [Discriminator_A :: Loss: 0.2441845108405687], [ Generator :: Loss: [2.861504077911377, 0.9486455321311951, 1.0, 0.03681623190641403, 0.04201643168926239, 0.06012432649731636, 0.06440742313861847]]\n",
            "Epoch: 0 Batch: 684, [Discriminator_A :: Loss: 0.042654731310904026], [ Generator :: Loss: [0.9488460421562195, 0.0015045151812955737, 0.0, 0.04052729159593582, 0.040042079985141754, 0.06920123845338821, 0.07244659960269928]]\n",
            "Epoch: 0 Batch: 685, [Discriminator_A :: Loss: 0.4332848433405161], [ Generator :: Loss: [0.9185438752174377, 0.000227416428970173, 0.0, 0.038109611719846725, 0.041353654116392136, 0.0636046975851059, 0.06007908657193184]]\n",
            "Epoch: 0 Batch: 686, [Discriminator_A :: Loss: 0.026651130770915188], [ Generator :: Loss: [0.8209455013275146, 0.00035864804522134364, 0.0, 0.032567355781793594, 0.03848627582192421, 0.06061282753944397, 0.04943773150444031]]\n",
            "Epoch: 0 Batch: 687, [Discriminator_A :: Loss: 0.04827888443833217], [ Generator :: Loss: [0.7676208019256592, 0.0009334811475127935, 0.0, 0.027368612587451935, 0.03699565678834915, 0.06321108341217041, 0.059833597391843796]]\n",
            "Epoch: 0 Batch: 688, [Discriminator_A :: Loss: 0.08344673601095565], [ Generator :: Loss: [0.98446124792099, 5.946677265455946e-05, 0.0, 0.04250321909785271, 0.04281935468316078, 0.062277138233184814, 0.06889892369508743]]\n",
            "Epoch: 0 Batch: 689, [Discriminator_A :: Loss: 0.012266083620488644], [ Generator :: Loss: [0.7744479179382324, 0.002386887324973941, 0.0, 0.037636030465364456, 0.029231306165456772, 0.05743226408958435, 0.04595541954040527]]\n",
            "Epoch: 0 Batch: 690, [Discriminator_A :: Loss: 0.4454575349809602], [ Generator :: Loss: [0.7207199335098267, 0.0002785367250908166, 0.0, 0.02704675868153572, 0.03432038426399231, 0.04585249722003937, 0.060917485505342484]]\n",
            "Epoch: 0 Batch: 691, [Discriminator_A :: Loss: 0.40347391105024144], [ Generator :: Loss: [0.8737666606903076, 0.001062401570379734, 0.0, 0.03386140987277031, 0.04156522825360298, 0.05259011313319206, 0.06584779173135757]]\n",
            "Epoch: 0 Batch: 692, [Discriminator_A :: Loss: 0.087633709423244], [ Generator :: Loss: [1.2367546558380127, 0.0027737021446228027, 0.0, 0.06108877807855606, 0.04672149196267128, 0.10834717750549316, 0.04753102362155914]]\n",
            "Epoch: 0 Batch: 693, [Discriminator_A :: Loss: 0.11010759579949081], [ Generator :: Loss: [0.9065825939178467, 0.0017332728020846844, 0.0, 0.04082474112510681, 0.03752301260828972, 0.06904171407222748, 0.05233004689216614]]\n",
            "Epoch: 0 Batch: 694, [Discriminator_A :: Loss: 0.45226767705753446], [ Generator :: Loss: [0.7761123180389404, 0.0010218042880296707, 0.0, 0.029622172936797142, 0.03657377511262894, 0.050529565662145615, 0.06260151416063309]]\n",
            "Epoch: 0 Batch: 695, [Discriminator_A :: Loss: 0.42474888847209513], [ Generator :: Loss: [0.7942202091217041, 0.0015027031768113375, 0.0, 0.031346771866083145, 0.036743760108947754, 0.04465695098042488, 0.06715529412031174]]\n",
            "Epoch: 0 Batch: 696, [Discriminator_A :: Loss: 0.0016720904968678951], [ Generator :: Loss: [0.8310934901237488, 0.001523495651781559, 0.0, 0.03707863390445709, 0.0356648787856102, 0.05485905334353447, 0.04727580398321152]]\n",
            "Epoch: 0 Batch: 697, [Discriminator_A :: Loss: 0.3104274786601309], [ Generator :: Loss: [0.6502374410629272, 0.0004447617393452674, 0.0, 0.023742293938994408, 0.031885936856269836, 0.030621245503425598, 0.06288909167051315]]\n",
            "Epoch: 0 Batch: 698, [Discriminator_A :: Loss: 0.34751525870524347], [ Generator :: Loss: [1.0581190586090088, 0.000885835150256753, 0.0, 0.04896318539977074, 0.044797852635383606, 0.051144521683454514, 0.0684782862663269]]\n",
            "Epoch: 0 Batch: 699, [Discriminator_A :: Loss: 0.0046378131955862045], [ Generator :: Loss: [0.8232320547103882, 0.0004914774908684194, 0.0, 0.035419538617134094, 0.03455429524183273, 0.061643633991479874, 0.06135856360197067]]\n",
            "Epoch: 0 Batch: 700, [Discriminator_A :: Loss: 0.04584952865843661], [ Generator :: Loss: [0.8414967656135559, 0.0012672798475250602, 0.0, 0.03283189609646797, 0.03764573112130165, 0.06876042485237122, 0.06669286638498306]]\n",
            "Image_A shape: (64, 64, 3)\n",
            "fake_B shape: (64, 64, 3)\n",
            "reconstructed_A shape: (64, 64, 3)\n"
          ]
        },
        {
          "output_type": "stream",
          "name": "stderr",
          "text": [
            "WARNING:absl:Found untraced functions such as leaky_re_lu_4_layer_call_fn, leaky_re_lu_4_layer_call_and_return_conditional_losses, leaky_re_lu_5_layer_call_fn, leaky_re_lu_5_layer_call_and_return_conditional_losses, leaky_re_lu_6_layer_call_fn while saving (showing 5 of 80). These functions will not be directly callable after loading.\n"
          ]
        },
        {
          "output_type": "stream",
          "name": "stdout",
          "text": [
            "INFO:tensorflow:Assets written to: /content/gdrive/My Drive/Colab Notebooks/cycleGAN/monet2photo_out/gan_model/assets\n"
          ]
        },
        {
          "output_type": "stream",
          "name": "stderr",
          "text": [
            "INFO:tensorflow:Assets written to: /content/gdrive/My Drive/Colab Notebooks/cycleGAN/monet2photo_out/gan_model/assets\n",
            "WARNING:absl:Found untraced functions such as leaky_re_lu_layer_call_fn, leaky_re_lu_layer_call_and_return_conditional_losses, leaky_re_lu_1_layer_call_fn, leaky_re_lu_1_layer_call_and_return_conditional_losses, leaky_re_lu_2_layer_call_fn while saving (showing 5 of 20). These functions will not be directly callable after loading.\n"
          ]
        },
        {
          "output_type": "stream",
          "name": "stdout",
          "text": [
            "INFO:tensorflow:Assets written to: /content/gdrive/My Drive/Colab Notebooks/cycleGAN/monet2photo_out/generator_A_to_B/assets\n"
          ]
        },
        {
          "output_type": "stream",
          "name": "stderr",
          "text": [
            "INFO:tensorflow:Assets written to: /content/gdrive/My Drive/Colab Notebooks/cycleGAN/monet2photo_out/generator_A_to_B/assets\n",
            "WARNING:absl:Found untraced functions such as leaky_re_lu_4_layer_call_fn, leaky_re_lu_4_layer_call_and_return_conditional_losses, leaky_re_lu_5_layer_call_fn, leaky_re_lu_5_layer_call_and_return_conditional_losses, leaky_re_lu_6_layer_call_fn while saving (showing 5 of 20). These functions will not be directly callable after loading.\n"
          ]
        },
        {
          "output_type": "stream",
          "name": "stdout",
          "text": [
            "INFO:tensorflow:Assets written to: /content/gdrive/My Drive/Colab Notebooks/cycleGAN/monet2photo_out/generator_B_to_A/assets\n"
          ]
        },
        {
          "output_type": "stream",
          "name": "stderr",
          "text": [
            "INFO:tensorflow:Assets written to: /content/gdrive/My Drive/Colab Notebooks/cycleGAN/monet2photo_out/generator_B_to_A/assets\n",
            "WARNING:absl:Found untraced functions such as leaky_re_lu_8_layer_call_fn, leaky_re_lu_8_layer_call_and_return_conditional_losses, leaky_re_lu_9_layer_call_fn, leaky_re_lu_9_layer_call_and_return_conditional_losses, leaky_re_lu_10_layer_call_fn while saving (showing 5 of 20). These functions will not be directly callable after loading.\n"
          ]
        },
        {
          "output_type": "stream",
          "name": "stdout",
          "text": [
            "INFO:tensorflow:Assets written to: /content/gdrive/My Drive/Colab Notebooks/cycleGAN/monet2photo_out/discriminator_A/assets\n"
          ]
        },
        {
          "output_type": "stream",
          "name": "stderr",
          "text": [
            "INFO:tensorflow:Assets written to: /content/gdrive/My Drive/Colab Notebooks/cycleGAN/monet2photo_out/discriminator_A/assets\n",
            "WARNING:absl:Found untraced functions such as leaky_re_lu_12_layer_call_fn, leaky_re_lu_12_layer_call_and_return_conditional_losses, leaky_re_lu_13_layer_call_fn, leaky_re_lu_13_layer_call_and_return_conditional_losses, leaky_re_lu_14_layer_call_fn while saving (showing 5 of 20). These functions will not be directly callable after loading.\n"
          ]
        },
        {
          "output_type": "stream",
          "name": "stdout",
          "text": [
            "INFO:tensorflow:Assets written to: /content/gdrive/My Drive/Colab Notebooks/cycleGAN/monet2photo_out/discriminator_B/assets\n"
          ]
        },
        {
          "output_type": "stream",
          "name": "stderr",
          "text": [
            "INFO:tensorflow:Assets written to: /content/gdrive/My Drive/Colab Notebooks/cycleGAN/monet2photo_out/discriminator_B/assets\n"
          ]
        },
        {
          "output_type": "stream",
          "name": "stdout",
          "text": [
            "Epoch: 0 Batch: 701, [Discriminator_A :: Loss: 0.3425706569105387], [ Generator :: Loss: [0.7782094478607178, 0.013405573554337025, 0.0, 0.028599396347999573, 0.03603159636259079, 0.05984941124916077, 0.05864451453089714]]\n",
            "Epoch: 0 Batch: 702, [Discriminator_A :: Loss: 0.062023919774219394], [ Generator :: Loss: [0.9815472364425659, 0.002080816775560379, 0.0, 0.05187830701470375, 0.03367103636264801, 0.05624343827366829, 0.06772948801517487]]\n",
            "Epoch: 0 Batch: 703, [Discriminator_A :: Loss: 0.059967431938275695], [ Generator :: Loss: [0.8070922493934631, 0.0010743167949840426, 0.0, 0.03247127681970596, 0.03821730986237526, 0.04694260656833649, 0.052189480513334274]]\n",
            "Epoch: 0 Batch: 704, [Discriminator_A :: Loss: 0.0485426735249348], [ Generator :: Loss: [1.1021521091461182, 0.0021083191968500614, 0.0, 0.04430687054991722, 0.05215159431099892, 0.07007226347923279, 0.0653868019580841]]\n",
            "Epoch: 0 Batch: 705, [Discriminator_A :: Loss: 0.45522132713813335], [ Generator :: Loss: [0.8361316919326782, 0.00461700139567256, 0.0, 0.024547036737203598, 0.04588894173502922, 0.050118766725063324, 0.07703612744808197]]\n",
            "Epoch: 0 Batch: 706, [Discriminator_A :: Loss: 0.007950012106448412], [ Generator :: Loss: [0.9114163517951965, 0.0009212038712576032, 0.0, 0.039625704288482666, 0.03845980763435364, 0.06660540401935577, 0.06303460150957108]]\n",
            "Epoch: 0 Batch: 707, [Discriminator_A :: Loss: 0.25876767133013345], [ Generator :: Loss: [0.8552082777023315, 0.0003699215885717422, 0.0, 0.03743933513760567, 0.03518732637166977, 0.06865306943655014, 0.059918664395809174]]\n",
            "Epoch: 0 Batch: 708, [Discriminator_A :: Loss: 0.3386108215490822], [ Generator :: Loss: [0.876983642578125, 0.0005206161877140403, 0.0, 0.047214213758707047, 0.027052156627178192, 0.08964191377162933, 0.04415738955140114]]\n",
            "Epoch: 0 Batch: 709, [Discriminator_A :: Loss: 0.2927358318120241], [ Generator :: Loss: [0.8648450374603271, 0.03014269843697548, 0.0, 0.033695243299007416, 0.039060935378074646, 0.050991035997867584, 0.05614950880408287]]\n",
            "Epoch: 0 Batch: 710, [Discriminator_A :: Loss: 0.0010313205420970917], [ Generator :: Loss: [0.9669458866119385, 0.0006197438342496753, 0.0, 0.04831204563379288, 0.03424743190407753, 0.08757738769054413, 0.053153976798057556]]\n",
            "Epoch: 0 Batch: 711, [Discriminator_A :: Loss: 0.1365737032610923], [ Generator :: Loss: [1.5216518640518188, 0.30707916617393494, 0.0, 0.05586497485637665, 0.05141153931617737, 0.07573086768388748, 0.06607670336961746]]\n",
            "Epoch: 0 Batch: 712, [Discriminator_A :: Loss: 0.40859203692525625], [ Generator :: Loss: [1.1271268129348755, 0.0022264246363192797, 0.0, 0.06188655272126198, 0.04053035378456116, 0.04693683609366417, 0.0537945032119751]]\n",
            "Epoch: 0 Batch: 713, [Discriminator_A :: Loss: 0.0739202739787288], [ Generator :: Loss: [0.8956676721572876, 0.01732567325234413, 0.0, 0.03668678179383278, 0.039780374616384506, 0.05972198396921158, 0.05394837632775307]]\n",
            "Epoch: 0 Batch: 714, [Discriminator_A :: Loss: 0.33100720739457756], [ Generator :: Loss: [1.0295357704162598, 0.0022963082883507013, 0.0, 0.03616340085864067, 0.05459659546613693, 0.0506562665104866, 0.06898327171802521]]\n",
            "Epoch: 0 Batch: 715, [Discriminator_A :: Loss: 0.028112587286159396], [ Generator :: Loss: [0.9441149830818176, 0.009137026034295559, 0.0, 0.04905472323298454, 0.03340163081884384, 0.056524522602558136, 0.05388987436890602]]\n",
            "Epoch: 0 Batch: 716, [Discriminator_A :: Loss: 0.0005944892473053187], [ Generator :: Loss: [1.0929168462753296, 8.039608655963093e-05, 0.0, 0.043621841818094254, 0.050605759024620056, 0.08173755556344986, 0.06882280111312866]]\n",
            "Epoch: 0 Batch: 717, [Discriminator_A :: Loss: 0.4194824764272198], [ Generator :: Loss: [0.9427880644798279, 0.002767327008768916, 0.0, 0.04238666221499443, 0.03915765881538391, 0.054245930165052414, 0.07033158838748932]]\n",
            "Epoch: 0 Batch: 718, [Discriminator_A :: Loss: 0.15148386839427985], [ Generator :: Loss: [0.8233737945556641, 0.00010708649642765522, 0.0, 0.040688637644052505, 0.028667356818914413, 0.0721028670668602, 0.05760393291711807]]\n",
            "Epoch: 0 Batch: 719, [Discriminator_A :: Loss: 0.002451125008519739], [ Generator :: Loss: [2.9616637229919434, 0.9506436586380005, 1.0, 0.049066364765167236, 0.03616628795862198, 0.09142271429300308, 0.06727075576782227]]\n",
            "Epoch: 0 Batch: 720, [Discriminator_A :: Loss: 0.01881457281706389], [ Generator :: Loss: [2.7316465377807617, 0.9682430624961853, 1.0, 0.036142498254776, 0.028096744790673256, 0.07161379605531693, 0.04939742758870125]]\n",
            "Epoch: 0 Batch: 721, [Discriminator_A :: Loss: 0.05376307852566242], [ Generator :: Loss: [0.7306540012359619, 0.002701240824535489, 0.0, 0.03483384847640991, 0.027586890384554863, 0.058916281908750534, 0.0448291189968586]]\n",
            "Epoch: 0 Batch: 722, [Discriminator_A :: Loss: 0.4010286856209859], [ Generator :: Loss: [0.8617252707481384, 0.0004240293928887695, 0.0, 0.03180869296193123, 0.04233661666512489, 0.0556606762111187, 0.06418750435113907]]\n",
            "Epoch: 0 Batch: 723, [Discriminator_A :: Loss: 0.39126329761347733], [ Generator :: Loss: [0.744624137878418, 9.223409142578021e-05, 0.0, 0.025459671393036842, 0.03796984255313873, 0.045698195695877075, 0.06453856825828552]]\n",
            "Epoch: 0 Batch: 724, [Discriminator_A :: Loss: 0.419886689982377], [ Generator :: Loss: [0.6915308237075806, 0.0018081520684063435, 0.0, 0.028461677953600883, 0.02999713085591793, 0.05445106327533722, 0.05068349093198776]]\n",
            "Epoch: 0 Batch: 725, [Discriminator_A :: Loss: 0.23064676296780817], [ Generator :: Loss: [0.9745274782180786, 0.0008709257817827165, 0.0, 0.04548493027687073, 0.03859882056713104, 0.06953209638595581, 0.0632869228720665]]\n",
            "Epoch: 0 Batch: 726, [Discriminator_A :: Loss: 0.033024186617694795], [ Generator :: Loss: [0.8511117696762085, 0.0003039838920813054, 0.0, 0.03771331533789635, 0.03517254441976547, 0.062190935015678406, 0.059758260846138]]\n",
            "Epoch: 0 Batch: 727, [Discriminator_A :: Loss: 0.0736355846747756], [ Generator :: Loss: [0.8438506126403809, 0.0022718668915331364, 0.0, 0.03838030993938446, 0.03352300450205803, 0.060728151351213455, 0.06181745231151581]]\n",
            "Epoch: 0 Batch: 728, [Discriminator_A :: Loss: 0.3330244714743458], [ Generator :: Loss: [0.8524972200393677, 0.0005275342264212668, 0.0, 0.031074466183781624, 0.041068702936172485, 0.06660052388906479, 0.0639374703168869]]\n",
            "Epoch: 0 Batch: 729, [Discriminator_A :: Loss: 0.0004716294788522646], [ Generator :: Loss: [1.0210381746292114, 0.0005892006447538733, 0.0, 0.03743075579404831, 0.05115559324622154, 0.0697648897767067, 0.06482058763504028]]\n",
            "Epoch: 0 Batch: 730, [Discriminator_A :: Loss: 0.0007114644176908769], [ Generator :: Loss: [1.0264942646026611, 0.00014963799912948161, 0.0, 0.052117228507995605, 0.03509321063756943, 0.09458871185779572, 0.059651535004377365]]\n",
            "Epoch: 0 Batch: 731, [Discriminator_A :: Loss: 0.08403710514539853], [ Generator :: Loss: [0.8734791874885559, 0.001887860824353993, 0.0, 0.041421860456466675, 0.03323815017938614, 0.0735919252038002, 0.051399316638708115]]\n",
            "Epoch: 0 Batch: 732, [Discriminator_A :: Loss: 0.010331767029128969], [ Generator :: Loss: [0.7772073745727539, 0.0009641707874834538, 0.0, 0.033611129969358444, 0.0323367677628994, 0.0636315569281578, 0.05313262715935707]]\n",
            "Epoch: 0 Batch: 733, [Discriminator_A :: Loss: 0.014854054614261258], [ Generator :: Loss: [2.747007131576538, 0.8719109296798706, 1.0, 0.04559783637523651, 0.030105430632829666, 0.07058809697628021, 0.04747548699378967]]\n",
            "Epoch: 0 Batch: 734, [Discriminator_A :: Loss: 0.1840599050046876], [ Generator :: Loss: [0.7714285850524902, 0.0009705554111860693, 0.0, 0.031215904280543327, 0.035122111439704895, 0.055672820657491684, 0.051405105739831924]]\n",
            "Epoch: 0 Batch: 735, [Discriminator_A :: Loss: 0.24581383826443925], [ Generator :: Loss: [2.8443591594696045, 0.9271854162216187, 1.0, 0.04921194911003113, 0.0312589593231678, 0.06249511241912842, 0.049969468265771866]]\n",
            "Epoch: 0 Batch: 736, [Discriminator_A :: Loss: 0.0003354757354827598], [ Generator :: Loss: [0.9841887950897217, 0.0005278327153064311, 0.0, 0.04317038133740425, 0.0409480556845665, 0.07198557257652283, 0.0704909935593605]]\n",
            "Epoch: 0 Batch: 737, [Discriminator_A :: Loss: 0.12129874769743765], [ Generator :: Loss: [0.7235206365585327, 0.00013235972437541932, 0.0, 0.032563261687755585, 0.02927006036043167, 0.057509731501340866, 0.04754533991217613]]\n",
            "Epoch: 0 Batch: 738, [Discriminator_A :: Loss: 0.10334097757004201], [ Generator :: Loss: [0.6708405017852783, 0.0046960944309830666, 0.0, 0.026146121323108673, 0.030778158456087112, 0.05115002021193504, 0.045751627534627914]]\n",
            "Epoch: 0 Batch: 739, [Discriminator_A :: Loss: 0.0026086426514666528], [ Generator :: Loss: [0.8769718408584595, 0.0005574740935117006, 0.0, 0.03676218166947365, 0.03876597061753273, 0.06752095371484756, 0.053611867129802704]]\n",
            "Epoch: 0 Batch: 740, [Discriminator_A :: Loss: 0.015983205841621384], [ Generator :: Loss: [0.8796818256378174, 0.0007282282458618283, 0.0, 0.039202719926834106, 0.037020180374383926, 0.060858260840177536, 0.05586638301610947]]\n",
            "Epoch: 0 Batch: 741, [Discriminator_A :: Loss: 0.004807679040823132], [ Generator :: Loss: [0.8610950708389282, 0.0028002848848700523, 0.0, 0.03541046753525734, 0.03698771819472313, 0.07331307977437973, 0.06099989265203476]]\n",
            "Epoch: 0 Batch: 742, [Discriminator_A :: Loss: 0.00035628297337098047], [ Generator :: Loss: [1.0526715517044067, 0.0009908449137583375, 0.0, 0.053715866059064865, 0.036488648504018784, 0.09218036383390427, 0.0574551597237587]]\n",
            "Epoch: 0 Batch: 743, [Discriminator_A :: Loss: 0.265018216567114], [ Generator :: Loss: [1.0007284879684448, 0.002421044511720538, 0.0, 0.04353649541735649, 0.04128720983862877, 0.0894664004445076, 0.060603976249694824]]\n",
            "Epoch: 0 Batch: 744, [Discriminator_A :: Loss: 0.2019915011478588], [ Generator :: Loss: [1.0622303485870361, 0.0006600077031180263, 0.0, 0.02659791149199009, 0.06813180446624756, 0.053875118494033813, 0.06039806455373764]]\n",
            "Epoch: 0 Batch: 745, [Discriminator_A :: Loss: 0.04255407792516053], [ Generator :: Loss: [1.037876844406128, 0.010283244773745537, 0.0, 0.0408976785838604, 0.048126399517059326, 0.07708963006734848, 0.060263123363256454]]\n",
            "Epoch: 0 Batch: 746, [Discriminator_A :: Loss: 0.19027347723022103], [ Generator :: Loss: [0.7107990384101868, 0.0034068962559103966, 0.0, 0.035782210528850555, 0.024864282459020615, 0.051884669810533524, 0.04904255270957947]]\n",
            "Epoch: 0 Batch: 747, [Discriminator_A :: Loss: 0.07230195752345026], [ Generator :: Loss: [0.9130234718322754, 0.002963774371892214, 0.0, 0.028015516698360443, 0.050476741045713425, 0.0484396293759346, 0.0766974613070488]]\n",
            "Epoch: 0 Batch: 748, [Discriminator_A :: Loss: 0.2851151953218505], [ Generator :: Loss: [0.7913573980331421, 0.0005773993907496333, 0.0, 0.029813680797815323, 0.04036768898367882, 0.03931789845228195, 0.04964839294552803]]\n",
            "Epoch: 0 Batch: 749, [Discriminator_A :: Loss: 0.010119210928678513], [ Generator :: Loss: [0.7159315347671509, 0.003522806102409959, 0.0, 0.03211360052227974, 0.028465189039707184, 0.053598206490278244, 0.05302261561155319]]\n",
            "Epoch: 0 Batch: 750, [Discriminator_A :: Loss: 0.0030311015143524855], [ Generator :: Loss: [0.7843310832977295, 0.0001314574619755149, 0.0, 0.03446362167596817, 0.033751845359802246, 0.05528850108385086, 0.046756427735090256]]\n",
            "Epoch: 0 Batch: 751, [Discriminator_A :: Loss: 0.16993532702326775], [ Generator :: Loss: [0.9038360118865967, 0.0001578257215442136, 0.0, 0.03829788416624069, 0.03975697234272957, 0.06848214566707611, 0.05464746803045273]]\n",
            "Epoch: 0 Batch: 752, [Discriminator_A :: Loss: 0.02545095610548742], [ Generator :: Loss: [0.828153669834137, 0.000315069715725258, 0.0, 0.03740501031279564, 0.03531502187252045, 0.0534411296248436, 0.047197140753269196]]\n",
            "Epoch: 0 Batch: 753, [Discriminator_A :: Loss: 0.33173091942444444], [ Generator :: Loss: [0.7280138731002808, 0.004394066520035267, 0.0, 0.027074992656707764, 0.03470874950289726, 0.054589301347732544, 0.05119308829307556]]\n",
            "Epoch: 0 Batch: 754, [Discriminator_A :: Loss: 0.06405664747580886], [ Generator :: Loss: [0.937409520149231, 0.0006294233025982976, 0.0, 0.04445131495594978, 0.035348594188690186, 0.08853064477443695, 0.05025039240717888]]\n",
            "Epoch: 0 Batch: 755, [Discriminator_A :: Loss: 0.050274294742848724], [ Generator :: Loss: [0.8743894100189209, 0.003684084629639983, 0.0, 0.03206975385546684, 0.041718386113643646, 0.06294380128383636, 0.06988009810447693]]\n",
            "Epoch: 0 Batch: 756, [Discriminator_A :: Loss: 0.3602280969025742], [ Generator :: Loss: [0.8136275410652161, 6.936684803804383e-05, 0.0, 0.04224223643541336, 0.027180448174476624, 0.0771498754620552, 0.04218144342303276]]\n",
            "Epoch: 0 Batch: 757, [Discriminator_A :: Loss: 0.1344132691156119], [ Generator :: Loss: [0.8636707663536072, 0.002349470043554902, 0.0, 0.03685489669442177, 0.036427438259124756, 0.0701608881354332, 0.058337051421403885]]\n",
            "Epoch: 0 Batch: 758, [Discriminator_A :: Loss: 0.0005937546520726755], [ Generator :: Loss: [0.9094463586807251, 0.00038032507291063666, 0.0, 0.04206118360161781, 0.03521684557199478, 0.0745687484741211, 0.061716992408037186]]\n",
            "Epoch: 0 Batch: 759, [Discriminator_A :: Loss: 0.3106316295452416], [ Generator :: Loss: [0.8032852411270142, 0.004269905388355255, 0.0, 0.028050007298588753, 0.040079981088638306, 0.0627007931470871, 0.055014681071043015]]\n",
            "Epoch: 0 Batch: 760, [Discriminator_A :: Loss: 0.05742396228015423], [ Generator :: Loss: [0.7601858377456665, 0.003043202683329582, 0.0, 0.02840840071439743, 0.03607581555843353, 0.05666395276784897, 0.05563654378056526]]\n",
            "Epoch: 0 Batch: 761, [Discriminator_A :: Loss: 0.4795326478779316], [ Generator :: Loss: [0.6513323783874512, 0.0013298171106725931, 0.0, 0.02553609199821949, 0.029551919549703598, 0.057980649173259735, 0.041141752153635025]]\n",
            "Epoch: 0 Batch: 762, [Discriminator_A :: Loss: 0.0011821813022834249], [ Generator :: Loss: [0.9944114685058594, 9.375843364978209e-05, 0.0, 0.047099821269512177, 0.04047221690416336, 0.06656758487224579, 0.052029743790626526]]\n",
            "Epoch: 0 Batch: 763, [Discriminator_A :: Loss: 0.010143529289052822], [ Generator :: Loss: [0.9128807783126831, 0.00039904852746985853, 0.0, 0.043761853128671646, 0.03656003251671791, 0.06003483384847641, 0.04922809451818466]]\n",
            "Epoch: 0 Batch: 764, [Discriminator_A :: Loss: 0.39109252275375184], [ Generator :: Loss: [0.7484157681465149, 0.0001585048739798367, 0.0, 0.035069312900304794, 0.03149403631687164, 0.04054786264896393, 0.042075902223587036]]\n",
            "Epoch: 0 Batch: 765, [Discriminator_A :: Loss: 0.0010755850817076862], [ Generator :: Loss: [2.783421516418457, 0.9262805581092834, 1.0, 0.04767865687608719, 0.027177250012755394, 0.07421976327896118, 0.034362152218818665]]\n",
            "Epoch: 0 Batch: 766, [Discriminator_A :: Loss: 0.024438284803181887], [ Generator :: Loss: [0.8890270590782166, 0.00029890480800531805, 0.0, 0.036743830889463425, 0.04034234210848808, 0.06360891461372375, 0.05425749346613884]]\n",
            "Epoch: 0 Batch: 767, [Discriminator_A :: Loss: 0.002908493625000119], [ Generator :: Loss: [0.9655928611755371, 0.0013047532411292195, 0.0, 0.04815853759646416, 0.03391711413860321, 0.08855777233839035, 0.0549737811088562]]\n",
            "Epoch: 0 Batch: 768, [Discriminator_A :: Loss: 0.38258946186397225], [ Generator :: Loss: [0.730164110660553, 0.0022774841636419296, 0.0, 0.02464241534471512, 0.03778896480798721, 0.0469234399497509, 0.05664941668510437]]\n",
            "Epoch: 0 Batch: 769, [Discriminator_A :: Loss: 0.3556807356653735], [ Generator :: Loss: [0.6251184940338135, 0.00040575856110081077, 0.0, 0.028908690437674522, 0.02504572831094265, 0.044415976852178574, 0.040752559900283813]]\n",
            "Epoch: 0 Batch: 770, [Discriminator_A :: Loss: 0.15835619084100472], [ Generator :: Loss: [0.8421872854232788, 0.0005989136989228427, 0.0, 0.028095105662941933, 0.04507015645503998, 0.050490520894527435, 0.05944523960351944]]\n",
            "Epoch: 0 Batch: 771, [Discriminator_A :: Loss: 0.3557429280481301], [ Generator :: Loss: [0.6618356108665466, 0.0005407225107774138, 0.0, 0.025412730872631073, 0.02989552542567253, 0.05512838065624237, 0.05308392643928528]]\n",
            "Epoch: 0 Batch: 772, [Discriminator_A :: Loss: 0.2503165644593537], [ Generator :: Loss: [0.7403578758239746, 0.00046045982162468135, 0.0, 0.039024945348501205, 0.025033026933670044, 0.06093449518084526, 0.03838318958878517]]\n",
            "Epoch: 0 Batch: 773, [Discriminator_A :: Loss: 0.004705635365098715], [ Generator :: Loss: [0.8773078918457031, 0.0008340062340721488, 0.0, 0.0405857190489769, 0.033780038356781006, 0.07765518873929977, 0.055161092430353165]]\n",
            "Epoch: 0 Batch: 774, [Discriminator_A :: Loss: 0.06337850115960464], [ Generator :: Loss: [0.8290780186653137, 0.00037568272091448307, 0.0, 0.040292829275131226, 0.03207533806562424, 0.05964658409357071, 0.04537404328584671]]\n",
            "Epoch: 0 Batch: 775, [Discriminator_A :: Loss: 0.0008296036103274673], [ Generator :: Loss: [0.8334061503410339, 0.0003701164969243109, 0.0, 0.04123292863368988, 0.030105290934443474, 0.08104050159454346, 0.03861333057284355]]\n",
            "Epoch: 0 Batch: 776, [Discriminator_A :: Loss: 0.11188687407411635], [ Generator :: Loss: [1.121361494064331, 0.00118036731146276, 0.0, 0.06030634418129921, 0.03795165196061134, 0.08109232783317566, 0.05650883540511131]]\n",
            "Epoch: 0 Batch: 777, [Discriminator_A :: Loss: 0.20568161411210895], [ Generator :: Loss: [0.8252278566360474, 0.0004439098702277988, 0.0, 0.033755846321582794, 0.03737834841012955, 0.0680738165974617, 0.04536821320652962]]\n",
            "Epoch: 0 Batch: 778, [Discriminator_A :: Loss: 0.012019927380606532], [ Generator :: Loss: [0.8934983611106873, 0.00028804290923289955, 0.0, 0.04425232112407684, 0.03325150907039642, 0.06861923635005951, 0.04955277964472771]]\n",
            "Epoch: 0 Batch: 779, [Discriminator_A :: Loss: 0.01151144285540795], [ Generator :: Loss: [1.074466347694397, 0.011386200785636902, 0.0, 0.046281229704618454, 0.0456678532063961, 0.06965175271034241, 0.0739375427365303]]\n",
            "Epoch: 0 Batch: 780, [Discriminator_A :: Loss: 0.28973071949440055], [ Generator :: Loss: [0.9054775238037109, 0.0009832496289163828, 0.0, 0.0430988110601902, 0.03531854599714279, 0.07179681956768036, 0.048523932695388794]]\n",
            "Epoch: 0 Batch: 781, [Discriminator_A :: Loss: 0.020776908932020888], [ Generator :: Loss: [1.3097609281539917, 0.010555101558566093, 0.0, 0.046280618757009506, 0.06715217232704163, 0.0703052431344986, 0.09457264840602875]]\n",
            "Epoch: 0 Batch: 782, [Discriminator_A :: Loss: 0.007206560228951275], [ Generator :: Loss: [0.9170907735824585, 0.0007763548637740314, 0.0, 0.040565378963947296, 0.03829973563551903, 0.07164926826953888, 0.056014031171798706]]\n",
            "Epoch: 0 Batch: 783, [Discriminator_A :: Loss: 0.0055406542523996904], [ Generator :: Loss: [0.7095562219619751, 0.0002436547219986096, 0.0, 0.03530976176261902, 0.02628760226070881, 0.05811344459652901, 0.035225462168455124]]\n",
            "Epoch: 0 Batch: 784, [Discriminator_A :: Loss: 0.0022717575484421104], [ Generator :: Loss: [0.656796932220459, 0.0006135510047897696, 0.0, 0.024216264486312866, 0.032009102404117584, 0.046296585351228714, 0.047633104026317596]]\n",
            "Epoch: 0 Batch: 785, [Discriminator_A :: Loss: 0.00837434439745266], [ Generator :: Loss: [0.6773695945739746, 0.0006596402381546795, 0.0, 0.028793029487133026, 0.028718069195747375, 0.05267453193664551, 0.04892445355653763]]\n",
            "Epoch: 0 Batch: 786, [Discriminator_A :: Loss: 0.12478028563782573], [ Generator :: Loss: [0.9329810738563538, 0.0011552569922059774, 0.0, 0.04009006544947624, 0.04144970700144768, 0.0546409972012043, 0.061787091195583344]]\n",
            "Epoch: 0 Batch: 787, [Discriminator_A :: Loss: 0.0008899272797862068], [ Generator :: Loss: [0.998915433883667, 0.0001797154691303149, 0.0, 0.041635219007730484, 0.04205706715583801, 0.09992964565753937, 0.06188322603702545]]\n",
            "Epoch: 0 Batch: 788, [Discriminator_A :: Loss: 0.12109246850013733], [ Generator :: Loss: [0.9465455412864685, 0.000141979253385216, 0.0, 0.04503626748919487, 0.036929335445165634, 0.0717824324965477, 0.05496510490775108]]\n",
            "Epoch: 0 Batch: 789, [Discriminator_A :: Loss: 0.38349628186551854], [ Generator :: Loss: [0.7194089889526367, 0.0005766319227404892, 0.0, 0.024470625445246696, 0.03682628273963928, 0.052993737161159515, 0.052869509905576706]]\n",
            "Epoch: 0 Batch: 790, [Discriminator_A :: Loss: 0.0020757759921252728], [ Generator :: Loss: [1.0567833185195923, 0.0016815188573673368, 0.0, 0.05308657884597778, 0.03960961848497391, 0.08701073378324509, 0.04112912341952324]]\n",
            "Epoch: 0 Batch: 791, [Discriminator_A :: Loss: 0.0535333821317181], [ Generator :: Loss: [1.095224142074585, 0.0002431283937767148, 0.0, 0.05111101642251015, 0.04353099688887596, 0.08589232712984085, 0.06266850233078003]]\n",
            "Epoch: 0 Batch: 792, [Discriminator_A :: Loss: 0.45786626904737204], [ Generator :: Loss: [0.9318822622299194, 0.0008292380953207612, 0.0, 0.043758053332567215, 0.03706677258014679, 0.065867580473423, 0.05693715065717697]]\n",
            "Epoch: 0 Batch: 793, [Discriminator_A :: Loss: 0.22601760044926777], [ Generator :: Loss: [0.9562921524047852, 0.001094249659217894, 0.0, 0.049590375274419785, 0.03387229144573212, 0.07400655746459961, 0.04656465724110603]]\n",
            "Epoch: 0 Batch: 794, [Discriminator_A :: Loss: 0.3428651278372854], [ Generator :: Loss: [0.8549164533615112, 0.0027016063686460257, 0.0, 0.027418354526162148, 0.04928335174918175, 0.04101397842168808, 0.04418383538722992]]\n",
            "Epoch: 0 Batch: 795, [Discriminator_A :: Loss: 0.38679326337296516], [ Generator :: Loss: [0.7250710129737854, 0.0005282984348013997, 0.0, 0.03317940607666969, 0.02990703098475933, 0.05770096182823181, 0.035977378487586975]]\n",
            "Epoch: 0 Batch: 796, [Discriminator_A :: Loss: 0.05946427641902119], [ Generator :: Loss: [0.9507402777671814, 0.0011987664038315415, 0.0, 0.03531207516789436, 0.04827095940709114, 0.05445922166109085, 0.05925193428993225]]\n",
            "Epoch: 0 Batch: 797, [Discriminator_A :: Loss: 0.29752686712890863], [ Generator :: Loss: [0.7952419519424438, 0.003727247705683112, 0.0, 0.032205693423748016, 0.03769160807132721, 0.04013517126441002, 0.052406515926122665]]\n",
            "Epoch: 0 Batch: 798, [Discriminator_A :: Loss: 0.0009155864536296576], [ Generator :: Loss: [1.016469955444336, 0.0003576057788450271, 0.0, 0.06049191951751709, 0.029114574193954468, 0.07102173566818237, 0.04902566224336624]]\n",
            "Epoch: 0 Batch: 799, [Discriminator_A :: Loss: 0.08011467062169686], [ Generator :: Loss: [2.8707075119018555, 0.9634717106819153, 1.0, 0.04444380849599838, 0.03458599001169205, 0.06754980236291885, 0.04938787966966629]]\n",
            "Epoch: 0 Batch: 800, [Discriminator_A :: Loss: 0.2572581121639814], [ Generator :: Loss: [0.8246761560440063, 0.000815832638181746, 0.0, 0.03739740699529648, 0.034740667790174484, 0.050779860466718674, 0.05169973149895668]]\n",
            "Image_A shape: (64, 64, 3)\n",
            "fake_B shape: (64, 64, 3)\n",
            "reconstructed_A shape: (64, 64, 3)\n"
          ]
        },
        {
          "output_type": "stream",
          "name": "stderr",
          "text": [
            "WARNING:absl:Found untraced functions such as leaky_re_lu_4_layer_call_fn, leaky_re_lu_4_layer_call_and_return_conditional_losses, leaky_re_lu_5_layer_call_fn, leaky_re_lu_5_layer_call_and_return_conditional_losses, leaky_re_lu_6_layer_call_fn while saving (showing 5 of 80). These functions will not be directly callable after loading.\n"
          ]
        },
        {
          "output_type": "stream",
          "name": "stdout",
          "text": [
            "INFO:tensorflow:Assets written to: /content/gdrive/My Drive/Colab Notebooks/cycleGAN/monet2photo_out/gan_model/assets\n"
          ]
        },
        {
          "output_type": "stream",
          "name": "stderr",
          "text": [
            "INFO:tensorflow:Assets written to: /content/gdrive/My Drive/Colab Notebooks/cycleGAN/monet2photo_out/gan_model/assets\n",
            "WARNING:absl:Found untraced functions such as leaky_re_lu_layer_call_fn, leaky_re_lu_layer_call_and_return_conditional_losses, leaky_re_lu_1_layer_call_fn, leaky_re_lu_1_layer_call_and_return_conditional_losses, leaky_re_lu_2_layer_call_fn while saving (showing 5 of 20). These functions will not be directly callable after loading.\n"
          ]
        },
        {
          "output_type": "stream",
          "name": "stdout",
          "text": [
            "INFO:tensorflow:Assets written to: /content/gdrive/My Drive/Colab Notebooks/cycleGAN/monet2photo_out/generator_A_to_B/assets\n"
          ]
        },
        {
          "output_type": "stream",
          "name": "stderr",
          "text": [
            "INFO:tensorflow:Assets written to: /content/gdrive/My Drive/Colab Notebooks/cycleGAN/monet2photo_out/generator_A_to_B/assets\n",
            "WARNING:absl:Found untraced functions such as leaky_re_lu_4_layer_call_fn, leaky_re_lu_4_layer_call_and_return_conditional_losses, leaky_re_lu_5_layer_call_fn, leaky_re_lu_5_layer_call_and_return_conditional_losses, leaky_re_lu_6_layer_call_fn while saving (showing 5 of 20). These functions will not be directly callable after loading.\n"
          ]
        },
        {
          "output_type": "stream",
          "name": "stdout",
          "text": [
            "INFO:tensorflow:Assets written to: /content/gdrive/My Drive/Colab Notebooks/cycleGAN/monet2photo_out/generator_B_to_A/assets\n"
          ]
        },
        {
          "output_type": "stream",
          "name": "stderr",
          "text": [
            "INFO:tensorflow:Assets written to: /content/gdrive/My Drive/Colab Notebooks/cycleGAN/monet2photo_out/generator_B_to_A/assets\n",
            "WARNING:absl:Found untraced functions such as leaky_re_lu_8_layer_call_fn, leaky_re_lu_8_layer_call_and_return_conditional_losses, leaky_re_lu_9_layer_call_fn, leaky_re_lu_9_layer_call_and_return_conditional_losses, leaky_re_lu_10_layer_call_fn while saving (showing 5 of 20). These functions will not be directly callable after loading.\n"
          ]
        },
        {
          "output_type": "stream",
          "name": "stdout",
          "text": [
            "INFO:tensorflow:Assets written to: /content/gdrive/My Drive/Colab Notebooks/cycleGAN/monet2photo_out/discriminator_A/assets\n"
          ]
        },
        {
          "output_type": "stream",
          "name": "stderr",
          "text": [
            "INFO:tensorflow:Assets written to: /content/gdrive/My Drive/Colab Notebooks/cycleGAN/monet2photo_out/discriminator_A/assets\n",
            "WARNING:absl:Found untraced functions such as leaky_re_lu_12_layer_call_fn, leaky_re_lu_12_layer_call_and_return_conditional_losses, leaky_re_lu_13_layer_call_fn, leaky_re_lu_13_layer_call_and_return_conditional_losses, leaky_re_lu_14_layer_call_fn while saving (showing 5 of 20). These functions will not be directly callable after loading.\n"
          ]
        },
        {
          "output_type": "stream",
          "name": "stdout",
          "text": [
            "INFO:tensorflow:Assets written to: /content/gdrive/My Drive/Colab Notebooks/cycleGAN/monet2photo_out/discriminator_B/assets\n"
          ]
        },
        {
          "output_type": "stream",
          "name": "stderr",
          "text": [
            "INFO:tensorflow:Assets written to: /content/gdrive/My Drive/Colab Notebooks/cycleGAN/monet2photo_out/discriminator_B/assets\n"
          ]
        },
        {
          "output_type": "stream",
          "name": "stdout",
          "text": [
            "Epoch: 0 Batch: 801, [Discriminator_A :: Loss: 0.00016779970610514283], [ Generator :: Loss: [1.1043109893798828, 0.0016228901222348213, 0.0, 0.044086702167987823, 0.05157703161239624, 0.07032615691423416, 0.07572460919618607]]\n",
            "Epoch: 0 Batch: 802, [Discriminator_A :: Loss: 0.11624114323058166], [ Generator :: Loss: [0.990234911441803, 0.00043857621494680643, 0.0, 0.04334108904004097, 0.04373588413000107, 0.05801974609494209, 0.06100684404373169]]\n",
            "Epoch: 0 Batch: 803, [Discriminator_A :: Loss: 0.09812152292579412], [ Generator :: Loss: [0.6820361614227295, 0.0028334632515907288, 0.0, 0.027761980891227722, 0.03097347356379032, 0.04939183592796326, 0.04245631396770477]]\n",
            "Epoch: 0 Batch: 804, [Discriminator_A :: Loss: 0.18591713334899396], [ Generator :: Loss: [0.7522475719451904, 0.00016195281932596117, 0.0, 0.029991155490279198, 0.034112926572561264, 0.0565822571516037, 0.05446254834532738]]\n",
            "Epoch: 0 Batch: 805, [Discriminator_A :: Loss: 0.0008723312639631331], [ Generator :: Loss: [0.8191113471984863, 0.00029024429386481643, 0.0, 0.037275925278663635, 0.03301941603422165, 0.06231246143579483, 0.053555212914943695]]\n",
            "Epoch: 0 Batch: 806, [Discriminator_A :: Loss: 0.35177425702568144], [ Generator :: Loss: [0.7783878445625305, 0.0006347611197270453, 0.0, 0.029822565615177155, 0.036497097462415695, 0.05364317446947098, 0.06091328337788582]]\n",
            "Epoch: 0 Batch: 807, [Discriminator_A :: Loss: 0.009324710466898978], [ Generator :: Loss: [0.8321923613548279, 0.0007561141392216086, 0.0, 0.030903415754437447, 0.04007381200790405, 0.06879489868879318, 0.05286910757422447]]\n",
            "Epoch: 0 Batch: 808, [Discriminator_A :: Loss: 0.47720872331410646], [ Generator :: Loss: [2.6160011291503906, 0.8656487464904785, 1.0, 0.027334759011864662, 0.03859609365463257, 0.052399374544620514, 0.03864448890089989]]\n",
            "Epoch: 0 Batch: 809, [Discriminator_A :: Loss: 0.17593059106729925], [ Generator :: Loss: [1.0108565092086792, 0.15680049359798431, 0.0, 0.0314272940158844, 0.04183037951588631, 0.05461069196462631, 0.06686855852603912]]\n",
            "Epoch: 0 Batch: 810, [Discriminator_A :: Loss: 0.21332108974456787], [ Generator :: Loss: [0.7915133237838745, 0.0030352179892361164, 0.0, 0.032710179686546326, 0.0350445993244648, 0.06340404599905014, 0.047526296228170395]]\n",
            "Epoch: 0 Batch: 811, [Discriminator_A :: Loss: 0.021984702034387738], [ Generator :: Loss: [0.9207973480224609, 0.0030269483104348183, 0.0, 0.03812704607844353, 0.04022510349750519, 0.07252591848373413, 0.061722949147224426]]\n",
            "Epoch: 0 Batch: 812, [Discriminator_A :: Loss: 0.0025689020985737443], [ Generator :: Loss: [2.900524616241455, 0.9617003798484802, 1.0, 0.04690245911478996, 0.03238806501030922, 0.09021963179111481, 0.05569937452673912]]\n",
            "Epoch: 0 Batch: 813, [Discriminator_A :: Loss: 0.001580292300786823], [ Generator :: Loss: [0.8101447224617004, 0.0014274220447987318, 0.0, 0.04014396667480469, 0.02862926945090294, 0.07172854244709015, 0.04925641417503357]]\n",
            "Epoch: 0 Batch: 814, [Discriminator_A :: Loss: 0.03974042469053529], [ Generator :: Loss: [0.7753527164459229, 0.0005126959877088666, 0.0, 0.030088108032941818, 0.03493320196866989, 0.06457174569368362, 0.060055144131183624]]\n",
            "Epoch: 0 Batch: 815, [Discriminator_A :: Loss: 0.005312875204253942], [ Generator :: Loss: [1.0432223081588745, 0.0004896213649772108, 0.0, 0.03827667236328125, 0.05317388102412224, 0.06080852448940277, 0.0674186572432518]]\n",
            "Epoch: 0 Batch: 816, [Discriminator_A :: Loss: 0.014764630002900958], [ Generator :: Loss: [0.8496301770210266, 0.0008510127081535757, 0.0, 0.03753700852394104, 0.035280950367450714, 0.06769774109125137, 0.05290185287594795]]\n",
            "Epoch: 0 Batch: 817, [Discriminator_A :: Loss: 0.3800947442650795], [ Generator :: Loss: [0.9386216402053833, 0.0006821519928053021, 0.0, 0.03866115212440491, 0.040108807384967804, 0.08340112119913101, 0.06683876365423203]]\n",
            "Epoch: 0 Batch: 818, [Discriminator_A :: Loss: 0.4731531653669663], [ Generator :: Loss: [0.80586177110672, 0.0002409103763056919, 0.0, 0.03030768595635891, 0.0397573783993721, 0.03747157007455826, 0.06749862432479858]]\n",
            "Epoch: 0 Batch: 819, [Discriminator_A :: Loss: 0.16618780640419573], [ Generator :: Loss: [0.925812840461731, 0.0019575939513742924, 0.0, 0.03642372786998749, 0.044279322028160095, 0.0660376325249672, 0.05078714340925217]]\n",
            "Epoch: 0 Batch: 820, [Discriminator_A :: Loss: 0.0752974125352921], [ Generator :: Loss: [1.2065792083740234, 0.008644277229905128, 0.0, 0.045770373195409775, 0.05924687534570694, 0.059762511402368546, 0.08799989521503448]]\n",
            "Epoch: 0 Batch: 821, [Discriminator_A :: Loss: 0.022694201179547235], [ Generator :: Loss: [0.7654331922531128, 0.0003857119882013649, 0.0, 0.030284162610769272, 0.035000625997781754, 0.05289173126220703, 0.05930788815021515]]\n",
            "Epoch: 0 Batch: 822, [Discriminator_A :: Loss: 0.0053949193097651005], [ Generator :: Loss: [0.8668152093887329, 0.00038772571133449674, 0.0, 0.03391219675540924, 0.04006381705403328, 0.06446535885334015, 0.062201935797929764]]\n",
            "Epoch: 0 Batch: 823, [Discriminator_A :: Loss: 0.01860568072879687], [ Generator :: Loss: [0.859990119934082, 0.0017839024076238275, 0.0, 0.0388764813542366, 0.03416287153959274, 0.06685823202133179, 0.06095445528626442]]\n",
            "Epoch: 0 Batch: 824, [Discriminator_A :: Loss: 0.2720681068021804], [ Generator :: Loss: [0.7479583024978638, 0.004175885580480099, 0.0, 0.03057345375418663, 0.03544864058494568, 0.03778238594532013, 0.04577912390232086]]\n",
            "Epoch: 0 Batch: 825, [Discriminator_A :: Loss: 0.3063648486713646], [ Generator :: Loss: [0.9269087314605713, 0.00031089611002244055, 0.0, 0.04339613392949104, 0.03801679611206055, 0.05893637239933014, 0.05353213846683502]]\n",
            "Epoch: 0 Batch: 826, [Discriminator_A :: Loss: 0.008945121269789524], [ Generator :: Loss: [1.0142347812652588, 0.00018915312830358744, 0.0, 0.05564303696155548, 0.033402204513549805, 0.06468385457992554, 0.058909330517053604]]\n",
            "Epoch: 0 Batch: 827, [Discriminator_A :: Loss: 0.02072284324094653], [ Generator :: Loss: [0.8402764797210693, 0.004109203349798918, 0.0, 0.03957027196884155, 0.03265848010778427, 0.0596645213663578, 0.054215189069509506]]\n",
            "Epoch: 0 Batch: 828, [Discriminator_A :: Loss: 0.2754720598459244], [ Generator :: Loss: [1.0583865642547607, 0.254843533039093, 0.0, 0.041614096611738205, 0.027953362092375755, 0.06662970781326294, 0.041238732635974884]]\n",
            "Epoch: 0 Batch: 829, [Discriminator_A :: Loss: 0.0243806649959879], [ Generator :: Loss: [0.820128858089447, 0.0003882728342432529, 0.0, 0.03766217455267906, 0.0324554406106472, 0.06599963456392288, 0.05256478488445282]]\n",
            "Epoch: 0 Batch: 830, [Discriminator_A :: Loss: 0.4664889829000458], [ Generator :: Loss: [0.7889704704284668, 0.000424535246565938, 0.0, 0.028690408915281296, 0.03882034122943878, 0.06145932525396347, 0.05197905749082565]]\n",
            "Epoch: 0 Batch: 831, [Discriminator_A :: Loss: 0.4470328246752615], [ Generator :: Loss: [2.8811211585998535, 0.977649986743927, 1.0, 0.02695140428841114, 0.05133792385458946, 0.04866369441151619, 0.07191431522369385]]\n",
            "Epoch: 0 Batch: 832, [Discriminator_A :: Loss: 0.4315797563322121], [ Generator :: Loss: [0.9086747765541077, 0.0003920827875845134, 0.0, 0.03865588828921318, 0.03939371556043625, 0.06434863805770874, 0.06343799829483032]]\n",
            "Epoch: 0 Batch: 833, [Discriminator_A :: Loss: 0.0012013906671199948], [ Generator :: Loss: [1.3063592910766602, 0.00033710122806951404, 0.0, 0.05947347357869148, 0.057930272072553635, 0.06758929789066315, 0.06439535319805145]]\n",
            "Epoch: 0 Batch: 834, [Discriminator_A :: Loss: 0.0014713428681716323], [ Generator :: Loss: [0.856756329536438, 0.0006162055069580674, 0.0, 0.03964138776063919, 0.035000819712877274, 0.0662788525223732, 0.04343920946121216]]\n",
            "Epoch: 0 Batch: 835, [Discriminator_A :: Loss: 0.44103983213426545], [ Generator :: Loss: [0.8033136129379272, 0.00026951287873089314, 0.0, 0.0284988172352314, 0.04078427702188492, 0.05178775265812874, 0.0584254115819931]]\n",
            "Epoch: 0 Batch: 836, [Discriminator_A :: Loss: 0.025502388569293544], [ Generator :: Loss: [0.9261944890022278, 0.0015410130145028234, 0.0, 0.042028822004795074, 0.03961452841758728, 0.05054578185081482, 0.05767418444156647]]\n",
            "Epoch: 0 Batch: 837, [Discriminator_A :: Loss: 0.36609264981234446], [ Generator :: Loss: [0.8669837117195129, 0.0008295951411128044, 0.0, 0.03825698792934418, 0.03748231381177902, 0.054541900753974915, 0.05421917885541916]]\n",
            "Epoch: 0 Batch: 838, [Discriminator_A :: Loss: 0.11160537301475415], [ Generator :: Loss: [0.853836178779602, 0.0002574316458776593, 0.0, 0.03337451443076134, 0.040951598435640335, 0.0566667765378952, 0.053650807589292526]]\n",
            "Epoch: 0 Batch: 839, [Discriminator_A :: Loss: 0.1937136510387063], [ Generator :: Loss: [0.7977657318115234, 0.005521569401025772, 0.0, 0.03726503998041153, 0.03209147974848747, 0.057811494916677475, 0.04086749628186226]]\n",
            "Epoch: 0 Batch: 840, [Discriminator_A :: Loss: 0.36759618784708437], [ Generator :: Loss: [0.6304925084114075, 0.00037463445914909244, 0.0, 0.02290540747344494, 0.03181714937090874, 0.03705519810318947, 0.04583711549639702]]\n",
            "Epoch: 0 Batch: 841, [Discriminator_A :: Loss: 0.3300748338806443], [ Generator :: Loss: [0.878261387348175, 0.0004946778062731028, 0.0, 0.043043699115514755, 0.03299032896757126, 0.06467323005199432, 0.05275316163897514]]\n",
            "Epoch: 0 Batch: 842, [Discriminator_A :: Loss: 0.005822690509376116], [ Generator :: Loss: [0.9941810369491577, 0.00024024843878578395, 0.0, 0.042441003024578094, 0.04612362012267113, 0.06271697580814362, 0.045577555894851685]]\n",
            "Epoch: 0 Batch: 843, [Discriminator_A :: Loss: 0.18092490782146342], [ Generator :: Loss: [0.8781421184539795, 0.0007675314554944634, 0.0, 0.03081654943525791, 0.045452676713466644, 0.05236651003360748, 0.062315814197063446]]\n",
            "Epoch: 0 Batch: 844, [Discriminator_A :: Loss: 0.386879829748068], [ Generator :: Loss: [0.9336104989051819, 0.00032162494608201087, 0.0, 0.04380836337804794, 0.03854821249842644, 0.06215515732765198, 0.0475679486989975]]\n",
            "Epoch: 0 Batch: 845, [Discriminator_A :: Loss: 0.27203802979784086], [ Generator :: Loss: [0.803511381149292, 0.0013186900177970529, 0.0, 0.03710400313138962, 0.03390882909297943, 0.04327957704663277, 0.048784755170345306]]\n",
            "Epoch: 0 Batch: 846, [Discriminator_A :: Loss: 0.00041754947596928105], [ Generator :: Loss: [0.8721133470535278, 9.029694774653763e-05, 0.0, 0.047233399003744125, 0.028790004551410675, 0.07065888494253159, 0.04113011434674263]]\n",
            "Epoch: 0 Batch: 847, [Discriminator_A :: Loss: 0.39191423199372366], [ Generator :: Loss: [0.7416414022445679, 0.0005618821014650166, 0.0, 0.028273873031139374, 0.03553146868944168, 0.04712158069014549, 0.05590452253818512]]\n",
            "Epoch: 0 Batch: 848, [Discriminator_A :: Loss: 0.10042581079324009], [ Generator :: Loss: [2.721811294555664, 0.9779387712478638, 1.0, 0.032278433442115784, 0.03155824914574623, 0.051950953900814056, 0.05355462059378624]]\n",
            "Epoch: 0 Batch: 849, [Discriminator_A :: Loss: 0.017682533245533705], [ Generator :: Loss: [0.9791994690895081, 0.005481629632413387, 0.0, 0.047331321984529495, 0.037753090262413025, 0.07509811967611313, 0.04777564853429794]]\n",
            "Epoch: 0 Batch: 850, [Discriminator_A :: Loss: 0.0021054719109088182], [ Generator :: Loss: [1.0391432046890259, 0.0012018680572509766, 0.0, 0.04988556355237961, 0.04003661498427391, 0.07504232227802277, 0.06367720663547516]]\n",
            "Epoch: 0 Batch: 851, [Discriminator_A :: Loss: 0.0010684040589694632], [ Generator :: Loss: [0.9466860294342041, 0.0014804155798628926, 0.0, 0.04676657170057297, 0.034355826675891876, 0.08665617555379868, 0.047325436025857925]]\n",
            "Epoch: 0 Batch: 852, [Discriminator_A :: Loss: 0.000967420288361609], [ Generator :: Loss: [2.7714974880218506, 0.9584400057792664, 1.0, 0.03872522711753845, 0.030320581048727036, 0.06576322019100189, 0.056836143136024475]]\n",
            "Epoch: 0 Batch: 853, [Discriminator_A :: Loss: 0.422966734302463], [ Generator :: Loss: [0.7155219316482544, 0.00016419363964814693, 0.0, 0.03670710325241089, 0.025111040100455284, 0.056497085839509964, 0.0406792014837265]]\n",
            "Epoch: 0 Batch: 854, [Discriminator_A :: Loss: 0.0009660406794864684], [ Generator :: Loss: [0.8323652744293213, 0.0002853784535545856, 0.0, 0.03823316469788551, 0.033377524465322495, 0.07135989516973495, 0.04461308941245079]]\n",
            "Epoch: 0 Batch: 855, [Discriminator_A :: Loss: 0.08006690329057164], [ Generator :: Loss: [1.2015995979309082, 2.821951602527406e-05, 0.0, 0.05859046429395676, 0.049617405980825424, 0.0708267018198967, 0.048665910959243774]]\n",
            "Epoch: 0 Batch: 856, [Discriminator_A :: Loss: 0.10777732357382774], [ Generator :: Loss: [0.87850421667099, 0.003668674500659108, 0.0, 0.03747997805476189, 0.03895799070596695, 0.04262448102235794, 0.06783141940832138]]\n",
            "Epoch: 0 Batch: 857, [Discriminator_A :: Loss: 0.12449273913807701], [ Generator :: Loss: [0.6987341642379761, 5.1730232371483e-05, 0.0, 0.038637787103652954, 0.02329157292842865, 0.04327981173992157, 0.03610902279615402]]\n",
            "Epoch: 0 Batch: 858, [Discriminator_A :: Loss: 0.007592008449137211], [ Generator :: Loss: [0.9003874063491821, 0.0061201974749565125, 0.0, 0.043774522840976715, 0.03370371460914612, 0.0725221112370491, 0.04696270823478699]]\n",
            "Epoch: 0 Batch: 859, [Discriminator_A :: Loss: 0.14650437142699957], [ Generator :: Loss: [1.0143382549285889, 0.0007950669387355447, 0.0, 0.05178186297416687, 0.037916913628578186, 0.0684942901134491, 0.04806118831038475]]\n",
            "Epoch: 0 Batch: 860, [Discriminator_A :: Loss: 0.4593086384120397], [ Generator :: Loss: [0.7974170446395874, 0.0023016983177512884, 0.0, 0.03573695197701454, 0.03403627127408981, 0.03591035678982735, 0.061472758650779724]]\n",
            "Epoch: 0 Batch: 861, [Discriminator_A :: Loss: 0.29558937903493643], [ Generator :: Loss: [0.832526683807373, 0.000647856795694679, 0.0, 0.0367199182510376, 0.03602120280265808, 0.04655839875340462, 0.05790923163294792]]\n",
            "Epoch: 0 Batch: 862, [Discriminator_A :: Loss: 0.172606595675461], [ Generator :: Loss: [0.711496114730835, 0.004007608629763126, 0.0, 0.03273586928844452, 0.028883006423711777, 0.05032963305711746, 0.040970124304294586]]\n",
            "Epoch: 0 Batch: 863, [Discriminator_A :: Loss: 0.05416516284458339], [ Generator :: Loss: [0.7662147283554077, 0.0016104279784485698, 0.0, 0.03396669775247574, 0.031889814883470535, 0.058166440576314926, 0.04787271097302437]]\n",
            "Epoch: 0 Batch: 864, [Discriminator_A :: Loss: 0.3415297287647263], [ Generator :: Loss: [1.0451335906982422, 0.0007296025287359953, 0.0, 0.04830826818943024, 0.043918389827013016, 0.06814587116241455, 0.053991563618183136]]\n",
            "Epoch: 0 Batch: 865, [Discriminator_A :: Loss: 0.015196228923741728], [ Generator :: Loss: [2.7724692821502686, 0.624596357345581, 1.0, 0.04919254407286644, 0.04995623975992203, 0.08422772586345673, 0.07215727865695953]]\n",
            "Epoch: 0 Batch: 866, [Discriminator_A :: Loss: 0.07115996745415032], [ Generator :: Loss: [1.1196413040161133, 0.0031919556204229593, 0.0, 0.05155060812830925, 0.04800593852996826, 0.06860826909542084, 0.0522756353020668]]\n",
            "Epoch: 0 Batch: 867, [Discriminator_A :: Loss: 0.12582558300346136], [ Generator :: Loss: [0.8230702877044678, 0.001066851313225925, 0.0, 0.03768070787191391, 0.03422267735004425, 0.0507216639816761, 0.05224791169166565]]\n",
            "Epoch: 0 Batch: 868, [Discriminator_A :: Loss: 0.29698039684444666], [ Generator :: Loss: [0.7217380404472351, 0.013579824939370155, 0.0, 0.03309069573879242, 0.02793680876493454, 0.053840603679418564, 0.04404255002737045]]\n",
            "Epoch: 0 Batch: 869, [Discriminator_A :: Loss: 0.2583421583767631], [ Generator :: Loss: [0.8074685335159302, 0.00016600260278210044, 0.0, 0.03327066823840141, 0.036666736006736755, 0.03960246220231056, 0.06832602620124817]]\n",
            "Epoch: 0 Batch: 870, [Discriminator_A :: Loss: 0.011201751796761528], [ Generator :: Loss: [1.0555649995803833, 0.0006750902393832803, 0.0, 0.04710279405117035, 0.043480806052684784, 0.08229829370975494, 0.06675564497709274]]\n",
            "Epoch: 0 Batch: 871, [Discriminator_A :: Loss: 0.41502065979875624], [ Generator :: Loss: [0.6983054876327515, 0.0011805680114775896, 0.0, 0.025655973702669144, 0.03358874097466469, 0.04355067014694214, 0.06112716346979141]]\n",
            "Epoch: 0 Batch: 872, [Discriminator_A :: Loss: 0.439817939826753], [ Generator :: Loss: [0.8146003484725952, 0.0012567434459924698, 0.0, 0.040338184684515, 0.029974812641739845, 0.06988479197025299, 0.04032880812883377]]\n",
            "Epoch: 0 Batch: 873, [Discriminator_A :: Loss: 0.3072102516889572], [ Generator :: Loss: [0.8013083934783936, 0.020678702741861343, 0.0, 0.0338774211704731, 0.03280944377183914, 0.06550394743680954, 0.04825713858008385]]\n",
            "Epoch: 0 Batch: 874, [Discriminator_A :: Loss: 0.10858182871015742], [ Generator :: Loss: [0.8091800808906555, 0.0003727494040504098, 0.0, 0.032404035329818726, 0.038210686296224594, 0.05825197324156761, 0.044408153742551804]]\n",
            "Epoch: 0 Batch: 875, [Discriminator_A :: Loss: 0.009590843492333079], [ Generator :: Loss: [0.8923885822296143, 0.0001392988779116422, 0.0, 0.04403310269117355, 0.03355815261602402, 0.06441400945186615, 0.051922671496868134]]\n",
            "Epoch: 0 Batch: 876, [Discriminator_A :: Loss: 0.4573279623873532], [ Generator :: Loss: [0.7654125690460205, 0.01921721175312996, 0.0, 0.023630697280168533, 0.039798811078071594, 0.0464932955801487, 0.06540700048208237]]\n",
            "Epoch: 0 Batch: 877, [Discriminator_A :: Loss: 0.4829970052378485], [ Generator :: Loss: [0.6649652719497681, 0.0004131664172746241, 0.0, 0.021091971546411514, 0.037006355822086334, 0.03520728647708893, 0.04836156964302063]]\n",
            "Epoch: 0 Batch: 878, [Discriminator_A :: Loss: 0.030758038454223424], [ Generator :: Loss: [1.2302789688110352, 0.15643562376499176, 0.0, 0.047010812908411026, 0.04605751112103462, 0.09440191090106964, 0.04875822737812996]]\n",
            "Epoch: 0 Batch: 879, [Discriminator_A :: Loss: 0.002053329659247538], [ Generator :: Loss: [0.982408344745636, 0.00036297072074376047, 0.0, 0.04100225120782852, 0.04566515237092972, 0.07287896424531937, 0.04249236732721329]]\n",
            "Epoch: 0 Batch: 880, [Discriminator_A :: Loss: 0.014710100833326578], [ Generator :: Loss: [2.753754138946533, 0.9445855021476746, 1.0, 0.03875118866562843, 0.02928626537322998, 0.07864956557750702, 0.05014439672231674]]\n",
            "Epoch: 0 Batch: 881, [Discriminator_A :: Loss: 0.009509099429124035], [ Generator :: Loss: [0.9618874788284302, 0.002318101469427347, 0.0, 0.03916868939995766, 0.04262947663664818, 0.07948926091194153, 0.06209852918982506]]\n",
            "Epoch: 0 Batch: 882, [Discriminator_A :: Loss: 0.26574196480214596], [ Generator :: Loss: [0.9916476607322693, 0.006617798004299402, 0.0, 0.041136156767606735, 0.04405903071165085, 0.0671592429280281, 0.06591874361038208]]\n",
            "Epoch: 0 Batch: 883, [Discriminator_A :: Loss: 0.03784515391453169], [ Generator :: Loss: [0.8618558645248413, 0.0008185281767509878, 0.0, 0.035517752170562744, 0.03896404430270195, 0.053137071430683136, 0.0630822628736496]]\n",
            "Epoch: 0 Batch: 884, [Discriminator_A :: Loss: 0.002288303221575916], [ Generator :: Loss: [0.9416508674621582, 0.0010830399114638567, 0.0, 0.04717162251472473, 0.03500288352370262, 0.06669139862060547, 0.05213135853409767]]\n",
            "Epoch: 0 Batch: 885, [Discriminator_A :: Loss: 0.4582448650326114], [ Generator :: Loss: [1.6629633903503418, 0.0014168709749355912, 0.0, 0.06172803044319153, 0.08867987990379333, 0.05868274345993996, 0.09878461062908173]]\n",
            "Epoch: 0 Batch: 886, [Discriminator_A :: Loss: 0.017641938873566687], [ Generator :: Loss: [1.248060941696167, 0.0007472276338376105, 0.0, 0.0637897402048111, 0.04883415251970291, 0.07624892890453339, 0.044825926423072815]]\n",
            "Epoch: 0 Batch: 887, [Discriminator_A :: Loss: 0.47863221578882076], [ Generator :: Loss: [1.4815224409103394, 0.0005625180783681571, 0.0, 0.08872566372156143, 0.04179282858967781, 0.1216983050107956, 0.054076749831438065]]\n",
            "Epoch: 0 Batch: 888, [Discriminator_A :: Loss: 0.11897329555358738], [ Generator :: Loss: [1.3330525159835815, 0.0008629511576145887, 0.0, 0.07967811822891235, 0.04185585677623749, 0.061242926865816116, 0.0556068941950798]]\n",
            "Epoch: 0 Batch: 889, [Discriminator_A :: Loss: 0.07455587573349476], [ Generator :: Loss: [2.895439386367798, 0.9126724004745483, 1.0, 0.049067094922065735, 0.036357685923576355, 0.06735450774431229, 0.0611647292971611]]\n",
            "Epoch: 0 Batch: 890, [Discriminator_A :: Loss: 0.0716623512271326], [ Generator :: Loss: [0.9693565368652344, 0.00031337287509813905, 0.0, 0.03612641245126724, 0.04903719946742058, 0.06364107877016068, 0.053765952587127686]]\n",
            "Epoch: 0 Batch: 891, [Discriminator_A :: Loss: 0.09792510932311416], [ Generator :: Loss: [1.0371419191360474, 0.010868189856410027, 0.0, 0.059516072273254395, 0.031146006658673286, 0.07309189438819885, 0.04656101390719414]]\n",
            "Epoch: 0 Batch: 892, [Discriminator_A :: Loss: 0.17702844738960266], [ Generator :: Loss: [0.9080203771591187, 0.009374215267598629, 0.0, 0.03301813080906868, 0.044596947729587555, 0.05631406605243683, 0.06618133187294006]]\n",
            "Epoch: 0 Batch: 893, [Discriminator_A :: Loss: 0.0006283582042669877], [ Generator :: Loss: [0.8066538572311401, 0.0006562217022292316, 0.0, 0.034163761883974075, 0.03543861582875252, 0.0586073100566864, 0.051366545259952545]]\n",
            "Epoch: 0 Batch: 894, [Discriminator_A :: Loss: 0.00032756136351963505], [ Generator :: Loss: [0.9270076751708984, 0.00010531746374908835, 0.0, 0.04601234570145607, 0.03520134091377258, 0.0700473040342331, 0.0447181798517704]]\n",
            "Epoch: 0 Batch: 895, [Discriminator_A :: Loss: 0.013778373890090734], [ Generator :: Loss: [0.7727029919624329, 0.0006522273761220276, 0.0, 0.03684030845761299, 0.028667956590652466, 0.07391199469566345, 0.04305613040924072]]\n",
            "Epoch: 0 Batch: 896, [Discriminator_A :: Loss: 0.001523110579000786], [ Generator :: Loss: [0.943650484085083, 0.001223220955580473, 0.0, 0.04201209172606468, 0.039184898138046265, 0.06441883742809296, 0.06603854149580002]]\n",
            "Epoch: 0 Batch: 897, [Discriminator_A :: Loss: 0.3534329845570028], [ Generator :: Loss: [0.8161392211914062, 0.0030900994315743446, 0.0, 0.030037429183721542, 0.03898532688617706, 0.05621356889605522, 0.06660795956850052]]\n",
            "Epoch: 0 Batch: 898, [Discriminator_A :: Loss: 0.028216170030646026], [ Generator :: Loss: [0.6859337091445923, 0.0033247836399823427, 0.0, 0.028281088918447495, 0.030111899599432945, 0.04812096804380417, 0.05055808275938034]]\n",
            "Epoch: 0 Batch: 899, [Discriminator_A :: Loss: 0.369180130190216], [ Generator :: Loss: [0.8610817193984985, 0.0007929808925837278, 0.0, 0.033589985221624374, 0.04066278040409088, 0.06228580325841904, 0.05547526106238365]]\n",
            "Epoch: 0 Batch: 900, [Discriminator_A :: Loss: 0.3282584622502327], [ Generator :: Loss: [0.8351492881774902, 0.038148183375597, 0.0, 0.028431953862309456, 0.040128231048583984, 0.04918205365538597, 0.06221718713641167]]\n",
            "Image_A shape: (64, 64, 3)\n",
            "fake_B shape: (64, 64, 3)\n",
            "reconstructed_A shape: (64, 64, 3)\n"
          ]
        },
        {
          "output_type": "stream",
          "name": "stderr",
          "text": [
            "WARNING:absl:Found untraced functions such as leaky_re_lu_4_layer_call_fn, leaky_re_lu_4_layer_call_and_return_conditional_losses, leaky_re_lu_5_layer_call_fn, leaky_re_lu_5_layer_call_and_return_conditional_losses, leaky_re_lu_6_layer_call_fn while saving (showing 5 of 80). These functions will not be directly callable after loading.\n"
          ]
        },
        {
          "output_type": "stream",
          "name": "stdout",
          "text": [
            "INFO:tensorflow:Assets written to: /content/gdrive/My Drive/Colab Notebooks/cycleGAN/monet2photo_out/gan_model/assets\n"
          ]
        },
        {
          "output_type": "stream",
          "name": "stderr",
          "text": [
            "INFO:tensorflow:Assets written to: /content/gdrive/My Drive/Colab Notebooks/cycleGAN/monet2photo_out/gan_model/assets\n",
            "WARNING:absl:Found untraced functions such as leaky_re_lu_layer_call_fn, leaky_re_lu_layer_call_and_return_conditional_losses, leaky_re_lu_1_layer_call_fn, leaky_re_lu_1_layer_call_and_return_conditional_losses, leaky_re_lu_2_layer_call_fn while saving (showing 5 of 20). These functions will not be directly callable after loading.\n"
          ]
        },
        {
          "output_type": "stream",
          "name": "stdout",
          "text": [
            "INFO:tensorflow:Assets written to: /content/gdrive/My Drive/Colab Notebooks/cycleGAN/monet2photo_out/generator_A_to_B/assets\n"
          ]
        },
        {
          "output_type": "stream",
          "name": "stderr",
          "text": [
            "INFO:tensorflow:Assets written to: /content/gdrive/My Drive/Colab Notebooks/cycleGAN/monet2photo_out/generator_A_to_B/assets\n",
            "WARNING:absl:Found untraced functions such as leaky_re_lu_4_layer_call_fn, leaky_re_lu_4_layer_call_and_return_conditional_losses, leaky_re_lu_5_layer_call_fn, leaky_re_lu_5_layer_call_and_return_conditional_losses, leaky_re_lu_6_layer_call_fn while saving (showing 5 of 20). These functions will not be directly callable after loading.\n"
          ]
        },
        {
          "output_type": "stream",
          "name": "stdout",
          "text": [
            "INFO:tensorflow:Assets written to: /content/gdrive/My Drive/Colab Notebooks/cycleGAN/monet2photo_out/generator_B_to_A/assets\n"
          ]
        },
        {
          "output_type": "stream",
          "name": "stderr",
          "text": [
            "INFO:tensorflow:Assets written to: /content/gdrive/My Drive/Colab Notebooks/cycleGAN/monet2photo_out/generator_B_to_A/assets\n",
            "WARNING:absl:Found untraced functions such as leaky_re_lu_8_layer_call_fn, leaky_re_lu_8_layer_call_and_return_conditional_losses, leaky_re_lu_9_layer_call_fn, leaky_re_lu_9_layer_call_and_return_conditional_losses, leaky_re_lu_10_layer_call_fn while saving (showing 5 of 20). These functions will not be directly callable after loading.\n"
          ]
        },
        {
          "output_type": "stream",
          "name": "stdout",
          "text": [
            "INFO:tensorflow:Assets written to: /content/gdrive/My Drive/Colab Notebooks/cycleGAN/monet2photo_out/discriminator_A/assets\n"
          ]
        },
        {
          "output_type": "stream",
          "name": "stderr",
          "text": [
            "INFO:tensorflow:Assets written to: /content/gdrive/My Drive/Colab Notebooks/cycleGAN/monet2photo_out/discriminator_A/assets\n",
            "WARNING:absl:Found untraced functions such as leaky_re_lu_12_layer_call_fn, leaky_re_lu_12_layer_call_and_return_conditional_losses, leaky_re_lu_13_layer_call_fn, leaky_re_lu_13_layer_call_and_return_conditional_losses, leaky_re_lu_14_layer_call_fn while saving (showing 5 of 20). These functions will not be directly callable after loading.\n"
          ]
        },
        {
          "output_type": "stream",
          "name": "stdout",
          "text": [
            "INFO:tensorflow:Assets written to: /content/gdrive/My Drive/Colab Notebooks/cycleGAN/monet2photo_out/discriminator_B/assets\n"
          ]
        },
        {
          "output_type": "stream",
          "name": "stderr",
          "text": [
            "INFO:tensorflow:Assets written to: /content/gdrive/My Drive/Colab Notebooks/cycleGAN/monet2photo_out/discriminator_B/assets\n"
          ]
        },
        {
          "output_type": "stream",
          "name": "stdout",
          "text": [
            "Epoch: 0 Batch: 901, [Discriminator_A :: Loss: 0.0002567782939877361], [ Generator :: Loss: [1.0859912633895874, 0.0006366937886923552, 0.0, 0.04621756076812744, 0.04751886799931526, 0.08738404512405396, 0.060606248676776886]]\n",
            "Epoch: 0 Batch: 902, [Discriminator_A :: Loss: 0.004945534565194976], [ Generator :: Loss: [0.8600995540618896, 0.0038460816722363234, 0.0, 0.034550730139017105, 0.03768596798181534, 0.07011587917804718, 0.06377063691616058]]\n",
            "Epoch: 0 Batch: 903, [Discriminator_A :: Loss: 0.001890538726001978], [ Generator :: Loss: [0.859796941280365, 0.0018433283548802137, 0.0, 0.031179672107100487, 0.04136183112859726, 0.06161355972290039, 0.0709250196814537]]\n",
            "Epoch: 0 Batch: 904, [Discriminator_A :: Loss: 0.22395512915682048], [ Generator :: Loss: [0.6448571681976318, 0.00028866840875707567, 0.0, 0.025961102917790413, 0.028979944065213203, 0.051171787083148956, 0.04398621991276741]]\n",
            "Epoch: 0 Batch: 905, [Discriminator_A :: Loss: 0.18137284298427403], [ Generator :: Loss: [2.8199970722198486, 0.8734279274940491, 1.0, 0.04585295170545578, 0.03697263449430466, 0.05961092934012413, 0.05870240926742554]]\n",
            "Epoch: 0 Batch: 906, [Discriminator_A :: Loss: 0.1267606576147955], [ Generator :: Loss: [0.939581036567688, 0.0002344797394471243, 0.0, 0.04317273944616318, 0.03914523497223854, 0.05052120238542557, 0.06564559042453766]]\n",
            "Epoch: 0 Batch: 907, [Discriminator_A :: Loss: 0.0019277281335234875], [ Generator :: Loss: [0.9437555074691772, 0.03724274784326553, 0.0, 0.03488054871559143, 0.04411247372627258, 0.0575123056769371, 0.059070222079753876]]\n",
            "Epoch: 0 Batch: 908, [Discriminator_A :: Loss: 0.4359364901611116], [ Generator :: Loss: [1.1053779125213623, 0.0008434969349764287, 0.0, 0.06172502785921097, 0.03914763033390045, 0.04127281531691551, 0.05453510209918022]]\n",
            "Epoch: 0 Batch: 909, [Discriminator_A :: Loss: 0.15236582192301285], [ Generator :: Loss: [1.0521705150604248, 0.003532513277605176, 0.0, 0.03965621441602707, 0.052183523774147034, 0.06322956085205078, 0.06701098382472992]]\n",
            "Epoch: 0 Batch: 910, [Discriminator_A :: Loss: 0.02640480548143387], [ Generator :: Loss: [1.2577714920043945, 0.004208008758723736, 0.0, 0.04660642147064209, 0.06616783887147903, 0.06370352953672409, 0.06211742013692856]]\n",
            "Epoch: 0 Batch: 911, [Discriminator_A :: Loss: 0.00244374037720263], [ Generator :: Loss: [0.9437195658683777, 0.04227713122963905, 0.0, 0.03921382874250412, 0.0388873890042305, 0.06378570199012756, 0.056644510477781296]]\n",
            "Epoch: 0 Batch: 912, [Discriminator_A :: Loss: 0.12106284499168396], [ Generator :: Loss: [1.0413014888763428, 0.022699039429426193, 0.0, 0.04360566288232803, 0.04627613723278046, 0.06577777862548828, 0.054006751626729965]]\n",
            "Epoch: 0 Batch: 913, [Discriminator_A :: Loss: 0.2763554446864873], [ Generator :: Loss: [0.9434549808502197, 0.00026270098169334233, 0.0, 0.044434815645217896, 0.04070453345775604, 0.05122854560613632, 0.04057023674249649]]\n",
            "Epoch: 0 Batch: 914, [Discriminator_A :: Loss: 0.00039450816984754056], [ Generator :: Loss: [1.1847468614578247, 0.005685914307832718, 0.0, 0.04812685400247574, 0.05489227920770645, 0.08886098116636276, 0.06000865250825882]]\n",
            "Epoch: 0 Batch: 915, [Discriminator_A :: Loss: 0.03217491984833032], [ Generator :: Loss: [1.004852533340454, 0.0006387981120496988, 0.0, 0.04726719483733177, 0.039480678737163544, 0.07127571851015091, 0.065459243953228]]\n",
            "Epoch: 0 Batch: 916, [Discriminator_A :: Loss: 0.29354826762573794], [ Generator :: Loss: [0.6843552589416504, 0.0009557238663546741, 0.0, 0.03546449542045593, 0.024173468351364136, 0.050758518278598785, 0.036261413246393204]]\n",
            "Epoch: 0 Batch: 917, [Discriminator_A :: Loss: 0.3040797235444188], [ Generator :: Loss: [0.8773072957992554, 0.006996702868491411, 0.0, 0.037115875631570816, 0.03929614648222923, 0.04819465056061745, 0.0579957477748394]]\n",
            "Epoch: 0 Batch: 918, [Discriminator_A :: Loss: 0.2720524340402335], [ Generator :: Loss: [1.1843925714492798, 0.0006219299393706024, 0.0, 0.03367290645837784, 0.0757308378815651, 0.05070139095187187, 0.039031822234392166]]\n",
            "Epoch: 0 Batch: 919, [Discriminator_A :: Loss: 0.000997464288957417], [ Generator :: Loss: [2.7748560905456543, 0.9670423865318298, 1.0, 0.033430587500333786, 0.036738116294145584, 0.048026811331510544, 0.05809977650642395]]\n",
            "Epoch: 0 Batch: 920, [Discriminator_A :: Loss: 0.0013154268235666677], [ Generator :: Loss: [0.9498799443244934, 0.00021374458447098732, 0.0, 0.0400226004421711, 0.04378190636634827, 0.05822316184639931, 0.05339795723557472]]\n",
            "Epoch: 0 Batch: 921, [Discriminator_A :: Loss: 0.0001776942935975967], [ Generator :: Loss: [1.5180020332336426, 0.00038138125091791153, 0.0, 0.05519425868988037, 0.0810273066163063, 0.08985711634159088, 0.06554792076349258]]\n",
            "Epoch: 0 Batch: 922, [Discriminator_A :: Loss: 0.4144324501976371], [ Generator :: Loss: [0.8916018009185791, 0.002073688432574272, 0.0, 0.04446908459067345, 0.03387976810336113, 0.06964242458343506, 0.03639715164899826]]\n",
            "Epoch: 0 Batch: 923, [Discriminator_A :: Loss: 0.00020001894881715998], [ Generator :: Loss: [1.0430018901824951, 0.0002484059368725866, 0.0, 0.05493840575218201, 0.03472139313817024, 0.09489896148443222, 0.05125658959150314]]\n",
            "Epoch: 0 Batch: 924, [Discriminator_A :: Loss: 0.07918741379398853], [ Generator :: Loss: [0.7823152542114258, 0.002607515314593911, 0.0, 0.03166376054286957, 0.035004306584596634, 0.06031220406293869, 0.052714910358190536]]\n",
            "Epoch: 0 Batch: 925, [Discriminator_A :: Loss: 0.3446397096849978], [ Generator :: Loss: [0.6952632665634155, 0.001136235659942031, 0.0, 0.03150622546672821, 0.02692987024784088, 0.06275816261768341, 0.04700789600610733]]\n",
            "Epoch: 0 Batch: 926, [Discriminator_A :: Loss: 0.07548129331553355], [ Generator :: Loss: [0.9556547403335571, 0.0008716929005458951, 0.0, 0.03287852555513382, 0.049197886139154434, 0.05108765512704849, 0.08293125778436661]]\n",
            "Epoch: 0 Batch: 927, [Discriminator_A :: Loss: 0.39528384641744196], [ Generator :: Loss: [1.1300441026687622, 0.004605053458362818, 0.0, 0.04701544716954231, 0.05723864212632179, 0.0412784069776535, 0.04161975532770157]]\n",
            "Epoch: 0 Batch: 928, [Discriminator_A :: Loss: 0.38293241057544947], [ Generator :: Loss: [0.7164335250854492, 0.01848459802567959, 0.0, 0.02848159149289131, 0.03206885978579521, 0.049119289964437485, 0.04332510009407997]]\n",
            "Epoch: 0 Batch: 929, [Discriminator_A :: Loss: 0.13908334041479975], [ Generator :: Loss: [0.7879153490066528, 0.0015164035139605403, 0.0, 0.03671523183584213, 0.03033866360783577, 0.06532880663871765, 0.050531163811683655]]\n",
            "Epoch: 0 Batch: 930, [Discriminator_A :: Loss: 0.4791235422017053], [ Generator :: Loss: [0.7165095806121826, 0.0033655453007668257, 0.0, 0.02706533670425415, 0.033629875630140305, 0.05143867805600166, 0.05475325137376785]]\n",
            "Epoch: 0 Batch: 931, [Discriminator_A :: Loss: 0.08098844942287542], [ Generator :: Loss: [0.8382645845413208, 0.0003472889366094023, 0.0, 0.03214038535952568, 0.03909995034337044, 0.05887700989842415, 0.06663689762353897]]\n",
            "Epoch: 0 Batch: 932, [Discriminator_A :: Loss: 0.005484521621838212], [ Generator :: Loss: [0.8511015176773071, 0.007476526312530041, 0.0, 0.038787566125392914, 0.03342905268073082, 0.06701464205980301, 0.05444417521357536]]\n",
            "Epoch: 0 Batch: 933, [Discriminator_A :: Loss: 0.47081205662107095], [ Generator :: Loss: [1.0475513935089111, 0.0039516957476735115, 0.0, 0.03771541640162468, 0.05311456695199013, 0.06708301603794098, 0.06821692734956741]]\n",
            "Epoch: 0 Batch: 934, [Discriminator_A :: Loss: 0.016686639064573683], [ Generator :: Loss: [0.8606793284416199, 0.0003499420708976686, 0.0, 0.04035177454352379, 0.03287018835544586, 0.07135544717311859, 0.05675429850816727]]\n",
            "Epoch: 0 Batch: 935, [Discriminator_A :: Loss: 0.003862450557789998], [ Generator :: Loss: [0.9487932324409485, 0.003019338706508279, 0.0, 0.045944031327962875, 0.03562752157449722, 0.08046574145555496, 0.04959263280034065]]\n",
            "Epoch: 0 Batch: 936, [Discriminator_A :: Loss: 0.2745552934356965], [ Generator :: Loss: [0.8266459107398987, 0.003919493407011032, 0.0, 0.03822249174118042, 0.03455532342195511, 0.05016518756747246, 0.04478312283754349]]\n",
            "Epoch: 0 Batch: 937, [Discriminator_A :: Loss: 0.013574288226664066], [ Generator :: Loss: [0.8485575318336487, 0.0014852447202429175, 0.0, 0.037124279886484146, 0.03522481024265289, 0.0774095356464386, 0.04617185890674591]]\n",
            "Epoch: 0 Batch: 938, [Discriminator_A :: Loss: 0.44499424943933263], [ Generator :: Loss: [0.7928982377052307, 0.000515463761985302, 0.0, 0.036764126271009445, 0.032763514667749405, 0.052711211144924164, 0.04439517483115196]]\n",
            "Epoch: 0 Batch: 939, [Discriminator_A :: Loss: 0.09516523248748854], [ Generator :: Loss: [2.861656427383423, 0.8982269763946533, 1.0, 0.036008719354867935, 0.048937518149614334, 0.046305201947689056, 0.0676618292927742]]\n",
            "Epoch: 0 Batch: 940, [Discriminator_A :: Loss: 0.0011194319231435657], [ Generator :: Loss: [1.0447871685028076, 0.00041487161070108414, 0.0, 0.0583057627081871, 0.0304859708994627, 0.1075601652264595, 0.04889477416872978]]\n",
            "Epoch: 0 Batch: 941, [Discriminator_A :: Loss: 0.37683528500201646], [ Generator :: Loss: [0.636733889579773, 0.0002963854349218309, 0.0, 0.027983909472823143, 0.026191813871264458, 0.053149908781051636, 0.041530411690473557]]\n",
            "Epoch: 0 Batch: 942, [Discriminator_A :: Loss: 0.26508190645836294], [ Generator :: Loss: [0.7807931900024414, 0.004130673594772816, 0.0, 0.029913363978266716, 0.03931860253214836, 0.041005030274391174, 0.04333781450986862]]\n",
            "Epoch: 0 Batch: 943, [Discriminator_A :: Loss: 0.08742550376337022], [ Generator :: Loss: [1.1891326904296875, 0.000510800164192915, 0.0, 0.059714287519454956, 0.04480016231536865, 0.09123502671718597, 0.05224243178963661]]\n",
            "Epoch: 0 Batch: 944, [Discriminator_A :: Loss: 0.20952838368248194], [ Generator :: Loss: [0.6373085975646973, 0.0010010439436882734, 0.0, 0.019448239356279373, 0.035136155784130096, 0.039741043001413345, 0.05072254315018654]]\n",
            "Epoch: 0 Batch: 945, [Discriminator_A :: Loss: 0.36687414161860943], [ Generator :: Loss: [1.015971302986145, 0.1019352450966835, 0.0, 0.04513617977499962, 0.034417774528265, 0.07058240473270416, 0.047914113849401474]]\n",
            "Epoch: 0 Batch: 946, [Discriminator_A :: Loss: 0.005364977056160569], [ Generator :: Loss: [0.8397316932678223, 0.0022988165728747845, 0.0, 0.03908867388963699, 0.0342220664024353, 0.05656413361430168, 0.04776138812303543]]\n",
            "Epoch: 0 Batch: 947, [Discriminator_A :: Loss: 0.02003285411046818], [ Generator :: Loss: [0.8179845809936523, 0.0004928844864480197, 0.0, 0.03429261967539787, 0.035749856382608414, 0.06090172007679939, 0.05616522580385208]]\n",
            "Epoch: 0 Batch: 948, [Discriminator_A :: Loss: 0.15082927161711268], [ Generator :: Loss: [0.7002530097961426, 0.001056941575370729, 0.0, 0.022627349942922592, 0.03781138360500336, 0.03651343286037445, 0.05829530209302902]]\n",
            "Epoch: 0 Batch: 949, [Discriminator_A :: Loss: 0.0021948761932435445], [ Generator :: Loss: [1.018446683883667, 0.004254425875842571, 0.0, 0.05015083774924278, 0.038496967405080795, 0.07763265818357468, 0.050081588327884674]]\n",
            "Epoch: 0 Batch: 950, [Discriminator_A :: Loss: 0.06940484058577567], [ Generator :: Loss: [0.7998740673065186, 0.00043453622492961586, 0.0, 0.03384759649634361, 0.03537017107009888, 0.05765027552843094, 0.04961155354976654]]\n",
            "Epoch: 0 Batch: 951, [Discriminator_A :: Loss: 0.06056178789003752], [ Generator :: Loss: [0.8059924244880676, 0.0006718790391460061, 0.0, 0.038855478167533875, 0.0309075266122818, 0.05208849906921387, 0.05560200288891792]]\n",
            "Epoch: 0 Batch: 952, [Discriminator_A :: Loss: 0.15388017761870287], [ Generator :: Loss: [0.8795150518417358, 0.00028293492505326867, 0.0, 0.03656836971640587, 0.03931879997253418, 0.06379948556423187, 0.056560859084129333]]\n",
            "Epoch: 0 Batch: 953, [Discriminator_A :: Loss: 0.23332250490784645], [ Generator :: Loss: [0.6727388501167297, 0.002997774165123701, 0.0, 0.030901338905096054, 0.026230651885271072, 0.05775277316570282, 0.04066837579011917]]\n",
            "Epoch: 0 Batch: 954, [Discriminator_A :: Loss: 0.0006062443135306239], [ Generator :: Loss: [0.8846559524536133, 0.0004098389472346753, 0.0, 0.04711487144231796, 0.027528058737516403, 0.09085697680711746, 0.04695979878306389]]\n",
            "Epoch: 0 Batch: 955, [Discriminator_A :: Loss: 0.0018320962553843856], [ Generator :: Loss: [0.8978159427642822, 0.00220999657176435, 0.0, 0.04219352453947067, 0.036199890077114105, 0.06288383901119232, 0.04878797009587288]]\n",
            "Epoch: 0 Batch: 956, [Discriminator_A :: Loss: 0.3997429143637419], [ Generator :: Loss: [0.6849565505981445, 0.006875906605273485, 0.0, 0.026435578241944313, 0.03195540979504585, 0.048720456659793854, 0.04545028507709503]]\n",
            "Epoch: 0 Batch: 957, [Discriminator_A :: Loss: 0.2743206484010443], [ Generator :: Loss: [1.2768213748931885, 0.0013581315288320184, 0.0, 0.034460123628377914, 0.07797901332378387, 0.05801902338862419, 0.09305283427238464]]\n",
            "Epoch: 0 Batch: 958, [Discriminator_A :: Loss: 0.33166833443101496], [ Generator :: Loss: [0.8786435127258301, 0.0009148541139438748, 0.0, 0.03469490632414818, 0.04087182506918907, 0.058741942048072815, 0.06331942975521088]]\n",
            "Epoch: 0 Batch: 959, [Discriminator_A :: Loss: 0.008096655132248998], [ Generator :: Loss: [0.9425294399261475, 0.006000225432217121, 0.0, 0.04850973188877106, 0.03184548765420914, 0.08459143340587616, 0.048385635018348694]]\n",
            "Epoch: 0 Batch: 960, [Discriminator_A :: Loss: 0.006263271963689476], [ Generator :: Loss: [0.7550527453422546, 0.00025541201466694474, 0.0, 0.03457188606262207, 0.03053390607237816, 0.054073434323072433, 0.04966599494218826]]\n",
            "Epoch: 0 Batch: 961, [Discriminator_A :: Loss: 0.38510502509598155], [ Generator :: Loss: [0.9893268346786499, 0.00042968918569386005, 0.0, 0.049352481961250305, 0.035529788583517075, 0.07982631027698517, 0.06024809926748276]]\n",
            "Epoch: 0 Batch: 962, [Discriminator_A :: Loss: 0.09001883810560685], [ Generator :: Loss: [0.7692044973373413, 0.0003381219576112926, 0.0, 0.0256543830037117, 0.04054117202758789, 0.053799714893102646, 0.053111109882593155]]\n",
            "Epoch: 0 Batch: 963, [Discriminator_A :: Loss: 0.0005249310634098947], [ Generator :: Loss: [1.1142345666885376, 0.000676993397064507, 0.0, 0.04765607416629791, 0.04851995036005974, 0.09135295450687408, 0.06044435873627663]]\n",
            "Epoch: 0 Batch: 964, [Discriminator_A :: Loss: 0.32119762555521447], [ Generator :: Loss: [0.9657095074653625, 0.00028323777951300144, 0.0, 0.037702180445194244, 0.04902863875031471, 0.04299606755375862, 0.055122051388025284]]\n",
            "Epoch: 0 Batch: 965, [Discriminator_A :: Loss: 0.06360532576218247], [ Generator :: Loss: [0.8991822004318237, 0.0003051738895010203, 0.0, 0.043916214257478714, 0.03575586527585983, 0.05576162412762642, 0.04639463126659393]]\n",
            "Epoch: 0 Batch: 966, [Discriminator_A :: Loss: 0.45640980027383193], [ Generator :: Loss: [0.7733343839645386, 0.001407700590789318, 0.0, 0.03374665603041649, 0.03354811295866966, 0.050352536141872406, 0.04862644523382187]]\n",
            "Epoch: 0 Batch: 967, [Discriminator_A :: Loss: 0.10889511805726215], [ Generator :: Loss: [1.0494170188903809, 0.0010091278236359358, 0.0, 0.0448562353849411, 0.04851071164011955, 0.05710325762629509, 0.05763521045446396]]\n",
            "Epoch: 0 Batch: 968, [Discriminator_A :: Loss: 0.08949468308128417], [ Generator :: Loss: [0.824592113494873, 0.008741606958210468, 0.0, 0.03636484593153, 0.034746211022138596, 0.05235454440116882, 0.052385397255420685]]\n",
            "Epoch: 0 Batch: 969, [Discriminator_A :: Loss: 0.011994431930361316], [ Generator :: Loss: [0.9673135280609131, 0.0003593346627894789, 0.0, 0.04830394685268402, 0.036667600274086, 0.07711568474769592, 0.04012307524681091]]\n",
            "Epoch: 0 Batch: 970, [Discriminator_A :: Loss: 0.0007719963032286614], [ Generator :: Loss: [1.136150598526001, 0.00101187895052135, 0.0, 0.04781389981508255, 0.05213954299688339, 0.07940781116485596, 0.056196410208940506]]\n",
            "Epoch: 0 Batch: 971, [Discriminator_A :: Loss: 0.010345702656195499], [ Generator :: Loss: [1.195586085319519, 0.0008113273070193827, 0.0, 0.052308134734630585, 0.05190157890319824, 0.08373454958200455, 0.06894303113222122]]\n",
            "Epoch: 0 Batch: 972, [Discriminator_A :: Loss: 0.4699241250054911], [ Generator :: Loss: [0.7403478026390076, 0.0026861566584557295, 0.0, 0.01723179966211319, 0.04781217873096466, 0.03468410298228264, 0.05253780633211136]]\n",
            "Epoch: 0 Batch: 973, [Discriminator_A :: Loss: 0.41192518500611186], [ Generator :: Loss: [0.9511209726333618, 0.0009079694864340127, 0.0, 0.0397280715405941, 0.04356905445456505, 0.06234860047698021, 0.0548931248486042]]\n",
            "Epoch: 0 Batch: 974, [Discriminator_A :: Loss: 0.38202462904155254], [ Generator :: Loss: [0.9292160868644714, 0.035125188529491425, 0.0, 0.037370096892118454, 0.039798252284526825, 0.060810454189777374, 0.061596933752298355]]\n",
            "Epoch: 0 Batch: 975, [Discriminator_A :: Loss: 0.03296585567295551], [ Generator :: Loss: [0.8775804042816162, 0.0010783412726595998, 0.0, 0.04438228905200958, 0.03310103714466095, 0.05468764901161194, 0.04698113724589348]]\n",
            "Epoch: 0 Batch: 976, [Discriminator_A :: Loss: 0.0002849332904588664], [ Generator :: Loss: [2.9594240188598633, 0.930888295173645, 1.0, 0.04757041856646538, 0.04077516868710518, 0.07671284675598145, 0.0683671087026596]]\n",
            "Epoch: 0 Batch: 977, [Discriminator_A :: Loss: 0.09073592291679233], [ Generator :: Loss: [2.6728603839874268, 0.9500969648361206, 1.0, 0.030443402007222176, 0.03239138424396515, 0.05380784720182419, 0.04060770571231842]]\n",
            "Epoch: 0 Batch: 978, [Discriminator_A :: Loss: 0.0034562859509605914], [ Generator :: Loss: [0.846706748008728, 0.07580982893705368, 0.0, 0.03038972243666649, 0.03593437373638153, 0.06079435348510742, 0.04686158895492554]]\n",
            "Epoch: 0 Batch: 979, [Discriminator_A :: Loss: 0.4093244074610993], [ Generator :: Loss: [0.6667882204055786, 0.0002675477007869631, 0.0, 0.02706434763967991, 0.030294515192508698, 0.042014457285404205, 0.05091759189963341]]\n",
            "Epoch: 0 Batch: 980, [Discriminator_A :: Loss: 0.0030991489766165614], [ Generator :: Loss: [0.736480712890625, 0.0014302157796919346, 0.0, 0.032801929861307144, 0.02951824851334095, 0.06304298341274261, 0.048805709928274155]]\n",
            "Epoch: 0 Batch: 981, [Discriminator_A :: Loss: 0.2340991665259935], [ Generator :: Loss: [0.7424145936965942, 0.0003662736271508038, 0.0, 0.033535297960042953, 0.03168552368879318, 0.04548667371273041, 0.04435337707400322]]\n",
            "Epoch: 0 Batch: 982, [Discriminator_A :: Loss: 0.3522862624377012], [ Generator :: Loss: [0.9765790700912476, 0.006228706333786249, 0.0, 0.04982626810669899, 0.036492154002189636, 0.04990316554903984, 0.05726294219493866]]\n",
            "Epoch: 0 Batch: 983, [Discriminator_A :: Loss: 0.33785642962902784], [ Generator :: Loss: [0.8074465990066528, 0.0008710172260180116, 0.0, 0.0342109240591526, 0.03455279767513275, 0.06149677932262421, 0.05744156613945961]]\n",
            "Epoch: 0 Batch: 984, [Discriminator_A :: Loss: 0.02821509949717438], [ Generator :: Loss: [0.6985122561454773, 0.00010837825539056212, 0.0, 0.03257905691862106, 0.02695903182029724, 0.06420024484395981, 0.0388227216899395]]\n",
            "Epoch: 0 Batch: 985, [Discriminator_A :: Loss: 0.4324293414247222], [ Generator :: Loss: [2.5962255001068115, 0.9295405149459839, 1.0, 0.026467639952898026, 0.03182847425341606, 0.031031161546707153, 0.05269267410039902]]\n",
            "Epoch: 0 Batch: 986, [Discriminator_A :: Loss: 0.30052648490527645], [ Generator :: Loss: [0.7783949971199036, 0.0003403945011086762, 0.0, 0.03932591527700424, 0.02761353924870491, 0.07115521281957626, 0.03750483691692352]]\n",
            "Epoch: 0 Batch: 987, [Discriminator_A :: Loss: 0.2598499283194542], [ Generator :: Loss: [0.8000599145889282, 0.011127429082989693, 0.0, 0.03459453210234642, 0.034993529319763184, 0.055905453860759735, 0.03714638948440552]]\n",
            "Epoch: 0 Batch: 988, [Discriminator_A :: Loss: 0.30187077820301056], [ Generator :: Loss: [0.8298354148864746, 0.0013816040009260178, 0.0, 0.036929819732904434, 0.03431471437215805, 0.05602111294865608, 0.059987325221300125]]\n",
            "Epoch: 0 Batch: 989, [Discriminator_A :: Loss: 0.24238291010260582], [ Generator :: Loss: [0.9098005294799805, 0.0012777835363522172, 0.0, 0.03566941246390343, 0.041809871792793274, 0.06490346789360046, 0.06882638484239578]]\n",
            "Epoch: 0 Batch: 990, [Discriminator_A :: Loss: 0.29304669657722116], [ Generator :: Loss: [1.2245405912399292, 0.008209388703107834, 0.0, 0.0672391951084137, 0.03891175612807274, 0.10284710675477982, 0.05197455734014511]]\n",
            "Epoch: 0 Batch: 991, [Discriminator_A :: Loss: 0.0023272644612006843], [ Generator :: Loss: [1.121092438697815, 0.0013792786048725247, 0.0, 0.04166124016046524, 0.0566350519657135, 0.06326670199632645, 0.07348360866308212]]\n",
            "Epoch: 0 Batch: 992, [Discriminator_A :: Loss: 0.45306344408891164], [ Generator :: Loss: [0.7731081247329712, 0.000312402902636677, 0.0, 0.0353202298283577, 0.03288545086979866, 0.04487013816833496, 0.04586873576045036]]\n",
            "Epoch: 0 Batch: 993, [Discriminator_A :: Loss: 0.448265973762318], [ Generator :: Loss: [0.6523911952972412, 0.00015192004502750933, 0.0, 0.025407223030924797, 0.03088534250855446, 0.0488957017660141, 0.040417954325675964]]\n",
            "Epoch: 0 Batch: 994, [Discriminator_A :: Loss: 0.37740736827254295], [ Generator :: Loss: [0.7020957469940186, 0.016063807532191277, 0.0, 0.0258620772510767, 0.033992670476436615, 0.04028430953621864, 0.047200124710798264]]\n",
            "Epoch: 0 Batch: 995, [Discriminator_A :: Loss: 0.018884566859924234], [ Generator :: Loss: [0.8896679878234863, 0.0001162593107437715, 0.0, 0.048591624945402145, 0.02891511283814907, 0.06859899312257767, 0.0458853580057621]]\n",
            "Epoch: 0 Batch: 996, [Discriminator_A :: Loss: 0.17233736108755693], [ Generator :: Loss: [1.176997423171997, 0.001453064032830298, 0.0, 0.058738116174936295, 0.0437261201441288, 0.08682598173618317, 0.06407598406076431]]\n",
            "Epoch: 0 Batch: 997, [Discriminator_A :: Loss: 0.009300697012804449], [ Generator :: Loss: [0.9346760511398315, 0.00047664876910857856, 0.0, 0.0448116660118103, 0.03483625873923302, 0.0799022763967514, 0.05781782791018486]]\n",
            "Epoch: 0 Batch: 998, [Discriminator_A :: Loss: 0.4432604464236647], [ Generator :: Loss: [0.7693052291870117, 0.00014192670641932636, 0.0, 0.029933903366327286, 0.03626568242907524, 0.046792421489953995, 0.06037501245737076]]\n",
            "Epoch: 0 Batch: 999, [Discriminator_A :: Loss: 0.33559133896778803], [ Generator :: Loss: [0.7202666997909546, 0.0001060564536601305, 0.0, 0.03395502269268036, 0.028740324079990387, 0.05928405001759529, 0.03392314910888672]]\n",
            "Epoch: 0 Batch: 1000, [Discriminator_A :: Loss: 0.2661080937832594], [ Generator :: Loss: [0.7050132155418396, 0.008915758691728115, 0.0, 0.025373877957463264, 0.03549754619598389, 0.0548897422850132, 0.032493479549884796]]\n",
            "Image_A shape: (64, 64, 3)\n",
            "fake_B shape: (64, 64, 3)\n",
            "reconstructed_A shape: (64, 64, 3)\n"
          ]
        },
        {
          "output_type": "stream",
          "name": "stderr",
          "text": [
            "WARNING:absl:Found untraced functions such as leaky_re_lu_4_layer_call_fn, leaky_re_lu_4_layer_call_and_return_conditional_losses, leaky_re_lu_5_layer_call_fn, leaky_re_lu_5_layer_call_and_return_conditional_losses, leaky_re_lu_6_layer_call_fn while saving (showing 5 of 80). These functions will not be directly callable after loading.\n"
          ]
        },
        {
          "output_type": "stream",
          "name": "stdout",
          "text": [
            "INFO:tensorflow:Assets written to: /content/gdrive/My Drive/Colab Notebooks/cycleGAN/monet2photo_out/gan_model/assets\n"
          ]
        },
        {
          "output_type": "stream",
          "name": "stderr",
          "text": [
            "INFO:tensorflow:Assets written to: /content/gdrive/My Drive/Colab Notebooks/cycleGAN/monet2photo_out/gan_model/assets\n",
            "WARNING:absl:Found untraced functions such as leaky_re_lu_layer_call_fn, leaky_re_lu_layer_call_and_return_conditional_losses, leaky_re_lu_1_layer_call_fn, leaky_re_lu_1_layer_call_and_return_conditional_losses, leaky_re_lu_2_layer_call_fn while saving (showing 5 of 20). These functions will not be directly callable after loading.\n"
          ]
        },
        {
          "output_type": "stream",
          "name": "stdout",
          "text": [
            "INFO:tensorflow:Assets written to: /content/gdrive/My Drive/Colab Notebooks/cycleGAN/monet2photo_out/generator_A_to_B/assets\n"
          ]
        },
        {
          "output_type": "stream",
          "name": "stderr",
          "text": [
            "INFO:tensorflow:Assets written to: /content/gdrive/My Drive/Colab Notebooks/cycleGAN/monet2photo_out/generator_A_to_B/assets\n",
            "WARNING:absl:Found untraced functions such as leaky_re_lu_4_layer_call_fn, leaky_re_lu_4_layer_call_and_return_conditional_losses, leaky_re_lu_5_layer_call_fn, leaky_re_lu_5_layer_call_and_return_conditional_losses, leaky_re_lu_6_layer_call_fn while saving (showing 5 of 20). These functions will not be directly callable after loading.\n"
          ]
        },
        {
          "output_type": "stream",
          "name": "stdout",
          "text": [
            "INFO:tensorflow:Assets written to: /content/gdrive/My Drive/Colab Notebooks/cycleGAN/monet2photo_out/generator_B_to_A/assets\n"
          ]
        },
        {
          "output_type": "stream",
          "name": "stderr",
          "text": [
            "INFO:tensorflow:Assets written to: /content/gdrive/My Drive/Colab Notebooks/cycleGAN/monet2photo_out/generator_B_to_A/assets\n",
            "WARNING:absl:Found untraced functions such as leaky_re_lu_8_layer_call_fn, leaky_re_lu_8_layer_call_and_return_conditional_losses, leaky_re_lu_9_layer_call_fn, leaky_re_lu_9_layer_call_and_return_conditional_losses, leaky_re_lu_10_layer_call_fn while saving (showing 5 of 20). These functions will not be directly callable after loading.\n"
          ]
        },
        {
          "output_type": "stream",
          "name": "stdout",
          "text": [
            "INFO:tensorflow:Assets written to: /content/gdrive/My Drive/Colab Notebooks/cycleGAN/monet2photo_out/discriminator_A/assets\n"
          ]
        },
        {
          "output_type": "stream",
          "name": "stderr",
          "text": [
            "INFO:tensorflow:Assets written to: /content/gdrive/My Drive/Colab Notebooks/cycleGAN/monet2photo_out/discriminator_A/assets\n",
            "WARNING:absl:Found untraced functions such as leaky_re_lu_12_layer_call_fn, leaky_re_lu_12_layer_call_and_return_conditional_losses, leaky_re_lu_13_layer_call_fn, leaky_re_lu_13_layer_call_and_return_conditional_losses, leaky_re_lu_14_layer_call_fn while saving (showing 5 of 20). These functions will not be directly callable after loading.\n"
          ]
        },
        {
          "output_type": "stream",
          "name": "stdout",
          "text": [
            "INFO:tensorflow:Assets written to: /content/gdrive/My Drive/Colab Notebooks/cycleGAN/monet2photo_out/discriminator_B/assets\n"
          ]
        },
        {
          "output_type": "stream",
          "name": "stderr",
          "text": [
            "INFO:tensorflow:Assets written to: /content/gdrive/My Drive/Colab Notebooks/cycleGAN/monet2photo_out/discriminator_B/assets\n"
          ]
        },
        {
          "output_type": "stream",
          "name": "stdout",
          "text": [
            "Epoch: 0 Batch: 1001, [Discriminator_A :: Loss: 0.00613803522719536], [ Generator :: Loss: [0.8466081619262695, 8.917334344005212e-05, 0.0, 0.03864767402410507, 0.03370806202292442, 0.07538839429616928, 0.047573186457157135]]\n",
            "Epoch: 0 Batch: 1002, [Discriminator_A :: Loss: 0.19087035860866308], [ Generator :: Loss: [0.6959019899368286, 0.0020826878026127815, 0.0, 0.030567701905965805, 0.029695453122258186, 0.04622631147503853, 0.044961415231227875]]\n",
            "Epoch: 0 Batch: 1003, [Discriminator_A :: Loss: 0.002056525889202021], [ Generator :: Loss: [1.022717833518982, 0.0027357987128198147, 0.0, 0.047078005969524384, 0.043353430926799774, 0.07988704741001129, 0.03578061982989311]]\n",
            "Epoch: 0 Batch: 1004, [Discriminator_A :: Loss: 0.050239652940945234], [ Generator :: Loss: [0.7794121503829956, 0.00017010861483868212, 0.0, 0.0376729816198349, 0.030156239867210388, 0.057929642498493195, 0.04302019253373146]]\n",
            "Epoch: 0 Batch: 1005, [Discriminator_A :: Loss: 0.04833653866080567], [ Generator :: Loss: [1.0221525430679321, 0.0009694824111647904, 0.0, 0.04548533260822296, 0.04316355660557747, 0.08598057180643082, 0.048713620752096176]]\n",
            "Epoch: 0 Batch: 1006, [Discriminator_A :: Loss: 0.48906316969078034], [ Generator :: Loss: [2.9639415740966797, 0.9298387169837952, 1.0, 0.051085397601127625, 0.03997902199625969, 0.06998484581708908, 0.05347369238734245]]\n",
            "Epoch: 0 Batch: 1007, [Discriminator_A :: Loss: 0.0013357481075217947], [ Generator :: Loss: [1.010331392288208, 0.0016550460131838918, 0.0, 0.05144532024860382, 0.03412969782948494, 0.09257274866104126, 0.06035343185067177]]\n",
            "Epoch: 0 Batch: 1008, [Discriminator_A :: Loss: 0.23212646506726742], [ Generator :: Loss: [2.576364040374756, 0.8386895656585693, 1.0, 0.03057456761598587, 0.0346343070268631, 0.04835260659456253, 0.037233322858810425]]\n",
            "Epoch: 0 Batch: 1009, [Discriminator_A :: Loss: 0.00028315478266449645], [ Generator :: Loss: [0.9968225955963135, 0.0005600693984888494, 0.0, 0.039081986993551254, 0.04762301966547966, 0.06298831105232239, 0.06622420251369476]]\n",
            "Epoch: 0 Batch: 1010, [Discriminator_A :: Loss: 0.40409879852086306], [ Generator :: Loss: [3.2083864212036133, 0.9806939959526062, 1.0, 0.07676640152931213, 0.03727339953184128, 0.03912043571472168, 0.048173997551202774]]\n",
            "Epoch: 0 Batch: 1011, [Discriminator_A :: Loss: 0.005554054951062426], [ Generator :: Loss: [1.1860475540161133, 0.002512766979634762, 0.0, 0.04845781251788139, 0.05714298039674759, 0.06819488853216171, 0.05933200567960739]]\n",
            "Epoch: 0 Batch: 1012, [Discriminator_A :: Loss: 0.0011806139373220503], [ Generator :: Loss: [1.1926581859588623, 0.001162086264230311, 0.0, 0.05383757874369621, 0.053121816366910934, 0.06134071573615074, 0.06056143715977669]]\n",
            "Epoch: 0 Batch: 1013, [Discriminator_A :: Loss: 0.04544352780794725], [ Generator :: Loss: [0.8789694309234619, 0.0007040922064334154, 0.0, 0.03333728015422821, 0.043988440185785294, 0.057562556117773056, 0.04744560644030571]]\n",
            "Epoch: 0 Batch: 1014, [Discriminator_A :: Loss: 0.6163938939571381], [ Generator :: Loss: [1.7513327598571777, 0.7779751420021057, 0.0, 0.03133044019341469, 0.053572747856378555, 0.040898919105529785, 0.08342671394348145]]\n",
            "Epoch: 0 Batch: 1015, [Discriminator_A :: Loss: 0.32718977087643], [ Generator :: Loss: [0.9078695774078369, 0.0006604334921576083, 0.0, 0.04292955622076988, 0.036438532173633575, 0.060910534113645554, 0.05261777341365814]]\n",
            "Epoch: 0 Batch: 1016, [Discriminator_A :: Loss: 0.043682804025593214], [ Generator :: Loss: [0.871751070022583, 0.00037285068538039923, 0.0, 0.041950613260269165, 0.03473682701587677, 0.05390055477619171, 0.05060328170657158]]\n",
            "Epoch: 0 Batch: 1017, [Discriminator_A :: Loss: 0.22908647794247372], [ Generator :: Loss: [0.9423618316650391, 0.00015456893015652895, 0.0, 0.035802051424980164, 0.04717991501092911, 0.05573248490691185, 0.056655168533325195]]\n",
            "Epoch: 0 Batch: 1018, [Discriminator_A :: Loss: 0.025238157399144256], [ Generator :: Loss: [1.109586238861084, 0.005048888735473156, 0.0, 0.05361192673444748, 0.045409414917230606, 0.059179700911045074, 0.055144309997558594]]\n",
            "Epoch: 0 Batch: 1019, [Discriminator_A :: Loss: 0.3896064722794108], [ Generator :: Loss: [0.9895387887954712, 0.005637772846966982, 0.0, 0.04533667862415314, 0.040466099977493286, 0.07431820034980774, 0.05155502259731293]]\n",
            "Epoch: 0 Batch: 1020, [Discriminator_A :: Loss: 0.1657150252140127], [ Generator :: Loss: [0.995225191116333, 0.001393433311022818, 0.0, 0.038250576704740524, 0.04713331535458565, 0.06771741807460785, 0.07227537781000137]]\n",
            "Epoch: 0 Batch: 1021, [Discriminator_A :: Loss: 0.0025600448134355247], [ Generator :: Loss: [0.8052303791046143, 0.0002138352137990296, 0.0, 0.036878328770399094, 0.03147830069065094, 0.06740135699510574, 0.054048843681812286]]\n",
            "Epoch: 0 Batch: 1022, [Discriminator_A :: Loss: 0.0005341585056157783], [ Generator :: Loss: [0.7061704993247986, 0.0007971388404257596, 0.0, 0.03324674442410469, 0.027527885511517525, 0.06539607048034668, 0.03223096579313278]]\n",
            "Epoch: 0 Batch: 1023, [Discriminator_A :: Loss: 0.2243165816180408], [ Generator :: Loss: [0.8522094488143921, 0.003222862957045436, 0.0, 0.038653045892715454, 0.03670201450586319, 0.042752210050821304, 0.052683789283037186]]\n",
            "Epoch: 0 Batch: 1024, [Discriminator_A :: Loss: 0.12296998768579215], [ Generator :: Loss: [2.7705206871032715, 0.9167575836181641, 1.0, 0.040060147643089294, 0.03475548326969147, 0.05669610947370529, 0.04891064018011093]]\n",
            "Epoch: 0 Batch: 1025, [Discriminator_A :: Loss: 0.00696208885347005], [ Generator :: Loss: [1.092980146408081, 0.002690168097615242, 0.0, 0.04162280634045601, 0.053933948278427124, 0.08101104944944382, 0.05371136963367462]]\n",
            "Epoch: 0 Batch: 1026, [Discriminator_A :: Loss: 0.2339950292080175], [ Generator :: Loss: [1.1211707592010498, 0.000590376032050699, 0.0, 0.0403684563934803, 0.058763496577739716, 0.0653916746377945, 0.06386914104223251]]\n",
            "Epoch: 0 Batch: 1027, [Discriminator_A :: Loss: 0.028935488604474813], [ Generator :: Loss: [1.0160831212997437, 0.0003216506156604737, 0.0, 0.04567105695605278, 0.04535169154405594, 0.05321699008345604, 0.0523170605301857]]\n",
            "Epoch: 0 Batch: 1028, [Discriminator_A :: Loss: 0.002325856010429561], [ Generator :: Loss: [0.9857498407363892, 0.0013715330278500915, 0.0, 0.050962962210178375, 0.03542450815439224, 0.07309137284755707, 0.04741229489445686]]\n",
            "Epoch: 0 Batch: 1029, [Discriminator_A :: Loss: 0.15138054359704256], [ Generator :: Loss: [0.8600209951400757, 0.0010304688476026058, 0.0, 0.03869517892599106, 0.036329448223114014, 0.05745245888829231, 0.0512918196618557]]\n",
            "Epoch: 0 Batch: 1030, [Discriminator_A :: Loss: 0.02305474691092968], [ Generator :: Loss: [0.8674592971801758, 0.0018712246092036366, 0.0, 0.04195299744606018, 0.03365345671772957, 0.0672358050942421, 0.04228771850466728]]\n",
            "Epoch: 0 Batch: 1031, [Discriminator_A :: Loss: 8.131972390401643e-05], [ Generator :: Loss: [2.8842217922210693, 0.9825896620750427, 1.0, 0.046549275517463684, 0.031335290521383286, 0.08057486265897751, 0.04221167415380478]]\n",
            "Epoch: 0 Batch: 1032, [Discriminator_A :: Loss: 0.025200049873092212], [ Generator :: Loss: [0.7115949392318726, 0.00036377969081513584, 0.0, 0.029712174087762833, 0.031284477561712265, 0.04807688295841217, 0.05318780243396759]]\n",
            "Epoch: 0 Batch: 1033, [Discriminator_A :: Loss: 0.021011467062635347], [ Generator :: Loss: [0.9072893857955933, 0.001587993698194623, 0.0, 0.03764940798282623, 0.03986993059515953, 0.07002866268157959, 0.06047932803630829]]\n",
            "Epoch: 0 Batch: 1034, [Discriminator_A :: Loss: 0.3972419601632282], [ Generator :: Loss: [0.7924935221672058, 0.0036599645391106606, 0.0, 0.03846404328942299, 0.03170271962881088, 0.04527294263243675, 0.041892971843481064]]\n",
            "Epoch: 0 Batch: 1035, [Discriminator_A :: Loss: 0.3773688862565905], [ Generator :: Loss: [2.741182804107666, 0.8014947772026062, 1.0, 0.03608851134777069, 0.041336655616760254, 0.0920109674334526, 0.0734253004193306]]\n",
            "Epoch: 0 Batch: 1036, [Discriminator_A :: Loss: 0.1407856161822565], [ Generator :: Loss: [0.9368345737457275, 0.0003286473511252552, 0.0, 0.04612395912408829, 0.03587421402335167, 0.06966551393270493, 0.046858638525009155]]\n",
            "Epoch: 0 Batch: 1037, [Discriminator_A :: Loss: 0.48867453821003437], [ Generator :: Loss: [1.0213018655776978, 0.0048020682297647, 0.0, 0.03151923790574074, 0.058102212846279144, 0.047354888170957565, 0.07293041050434113]]\n",
            "Epoch: 0 Batch: 1038, [Discriminator_A :: Loss: 0.39188161375932395], [ Generator :: Loss: [1.2723703384399414, 0.001169041614048183, 0.0, 0.06342843174934387, 0.052710335701704025, 0.06203547120094299, 0.04777808114886284]]\n",
            "Epoch: 0 Batch: 1039, [Discriminator_A :: Loss: 0.46438571478938684], [ Generator :: Loss: [0.9009720087051392, 0.004435317125171423, 0.0, 0.03475920855998993, 0.0457061305642128, 0.0464743934571743, 0.04540897533297539]]\n",
            "Epoch: 0 Batch: 1040, [Discriminator_A :: Loss: 0.39464975893497467], [ Generator :: Loss: [0.8128570318222046, 0.0092298099771142, 0.0, 0.035933323204517365, 0.034402940422296524, 0.05762287601828575, 0.0426417775452137]]\n",
            "Epoch: 0 Batch: 1041, [Discriminator_A :: Loss: 0.45633099623955786], [ Generator :: Loss: [1.012676477432251, 0.002519996603950858, 0.0, 0.04854855313897133, 0.04222189635038376, 0.05040871724486351, 0.05204324796795845]]\n",
            "Epoch: 0 Batch: 1042, [Discriminator_A :: Loss: 0.14341775439356752], [ Generator :: Loss: [0.6938458681106567, 7.678881956962869e-06, 0.0, 0.033285439014434814, 0.02569401077926159, 0.06472855806350708, 0.03931513428688049]]\n",
            "Epoch: 0 Batch: 1043, [Discriminator_A :: Loss: 0.25969204609282315], [ Generator :: Loss: [0.938378095626831, 0.0009561550687067211, 0.0, 0.04553321748971939, 0.036603767424821854, 0.058738041669130325, 0.057314127683639526]]\n",
            "Epoch: 0 Batch: 1044, [Discriminator_A :: Loss: 0.25429697550134733], [ Generator :: Loss: [0.9242586493492126, 0.01625240407884121, 0.0, 0.031162314116954803, 0.048543527722358704, 0.04122377187013626, 0.06972402334213257]]\n",
            "Epoch: 0 Batch: 1045, [Discriminator_A :: Loss: 0.03710127342492342], [ Generator :: Loss: [0.9034454822540283, 0.009301010519266129, 0.0, 0.03590694069862366, 0.04009459912776947, 0.06631936132907867, 0.06780975311994553]]\n",
            "Epoch: 0 Batch: 1046, [Discriminator_A :: Loss: 0.054089002311229706], [ Generator :: Loss: [0.8370055556297302, 0.0032416973263025284, 0.0, 0.032887548208236694, 0.03865119814872742, 0.05885402858257294, 0.0595223531126976]]\n",
            "Epoch: 0 Batch: 1047, [Discriminator_A :: Loss: 0.0018736697966232896], [ Generator :: Loss: [1.0842721462249756, 0.0009635526803322136, 0.0, 0.060641348361968994, 0.03454435244202614, 0.09198363870382309, 0.0394679419696331]]\n",
            "Epoch: 0 Batch: 1048, [Discriminator_A :: Loss: 0.09211213793241768], [ Generator :: Loss: [0.8575862646102905, 7.812811963958666e-05, 0.0, 0.04113617539405823, 0.03304475173354149, 0.06015992909669876, 0.055538926273584366]]\n",
            "Epoch: 0 Batch: 1049, [Discriminator_A :: Loss: 0.005269039596896619], [ Generator :: Loss: [2.6852009296417236, 0.4992905557155609, 1.0, 0.0599471777677536, 0.041992560029029846, 0.12105454504489899, 0.045458290725946426]]\n",
            "Epoch: 0 Batch: 1050, [Discriminator_A :: Loss: 0.10506769130006433], [ Generator :: Loss: [0.9619138240814209, 0.0010049702832475305, 0.0, 0.03712231665849686, 0.04699750989675522, 0.058693572878837585, 0.061017002910375595]]\n",
            "Epoch: 0 Batch: 1051, [Discriminator_A :: Loss: 0.2542877542437054], [ Generator :: Loss: [2.714102268218994, 0.9427441358566284, 1.0, 0.02877703495323658, 0.03800850361585617, 0.05761831998825073, 0.045884594321250916]]\n",
            "Epoch: 0 Batch: 1052, [Discriminator_A :: Loss: 0.07280633821210358], [ Generator :: Loss: [1.0628786087036133, 0.0011058502132073045, 0.0, 0.04512455686926842, 0.047834377735853195, 0.07931682467460632, 0.05286656320095062]]\n",
            "Epoch: 0 Batch: 1053, [Discriminator_A :: Loss: 0.00019109248387394473], [ Generator :: Loss: [0.9304351806640625, 0.0008318043546751142, 0.0, 0.047047313302755356, 0.03437085449695587, 0.07409030199050903, 0.04133139178156853]]\n",
            "Epoch: 0 Batch: 1054, [Discriminator_A :: Loss: 0.006270638928981498], [ Generator :: Loss: [2.8667407035827637, 0.8187209367752075, 1.0, 0.044393450021743774, 0.049274902790784836, 0.050788089632987976, 0.060548290610313416]]\n",
            "Epoch: 0 Batch: 1055, [Discriminator_A :: Loss: 0.04823734253295697], [ Generator :: Loss: [0.8371077179908752, 0.025227854028344154, 0.0, 0.028670674189925194, 0.043621212244033813, 0.047037240117788315, 0.041923750191926956]]\n",
            "Epoch: 0 Batch: 1056, [Discriminator_A :: Loss: 0.10252476786263287], [ Generator :: Loss: [2.3536453247070312, 0.022152887657284737, 1.0, 0.05858621373772621, 0.05885725095868111, 0.0699620470404625, 0.0870957151055336]]\n",
            "Epoch: 0 Batch: 1057, [Discriminator_A :: Loss: 0.4558535683900118], [ Generator :: Loss: [1.015963077545166, 0.014175377786159515, 0.0, 0.03697214648127556, 0.05086721107363701, 0.05203268676996231, 0.07136144489049911]]\n",
            "Epoch: 0 Batch: 1058, [Discriminator_A :: Loss: 0.015662161458749324], [ Generator :: Loss: [1.079892635345459, 0.001485364162363112, 0.0, 0.062307193875312805, 0.03414732962846756, 0.06709104776382446, 0.046771083027124405]]\n",
            "Epoch: 0 Batch: 1059, [Discriminator_A :: Loss: 0.4304551328968955], [ Generator :: Loss: [2.8679616451263428, 0.9466386437416077, 1.0, 0.03577530384063721, 0.0436880886554718, 0.06445816159248352, 0.062230873852968216]]\n",
            "Epoch: 0 Batch: 1060, [Discriminator_A :: Loss: 0.00036610288225347176], [ Generator :: Loss: [0.9753825664520264, 0.0007928466075100005, 0.0, 0.05969438701868057, 0.027685964480042458, 0.06514432281255722, 0.03564191609621048]]\n",
            "Epoch: 0 Batch: 1061, [Discriminator_A :: Loss: 0.03764181584119797], [ Generator :: Loss: [0.8676568269729614, 0.01595180481672287, 0.0, 0.039403948932886124, 0.0348757803440094, 0.047505080699920654, 0.06140264868736267]]\n",
            "Epoch: 0 Batch: 1062, [Discriminator_A :: Loss: 0.052357499225763604], [ Generator :: Loss: [0.8642716407775879, 0.0006082327454350889, 0.0, 0.03721370920538902, 0.03802542760968208, 0.06006509065628052, 0.051206961274147034]]\n",
            "Epoch: 0 Batch: 1063, [Discriminator_A :: Loss: 0.3964585959620308], [ Generator :: Loss: [1.114983320236206, 0.02981606312096119, 0.0, 0.05265349522233009, 0.04019510746002197, 0.09059596061706543, 0.06608517467975616]]\n",
            "Epoch: 0 Batch: 1064, [Discriminator_A :: Loss: 0.0006832274702901486], [ Generator :: Loss: [0.9766525030136108, 0.009449237957596779, 0.0, 0.04658745601773262, 0.0345454141497612, 0.09502585232257843, 0.0608486607670784]]\n",
            "Epoch: 0 Batch: 1065, [Discriminator_A :: Loss: 0.18078978109406307], [ Generator :: Loss: [2.5658915042877197, 0.9412472248077393, 1.0, 0.026533572003245354, 0.02819034829735756, 0.03881561756134033, 0.038589347153902054]]\n",
            "Epoch: 0 Batch: 1066, [Discriminator_A :: Loss: 0.06552928447490558], [ Generator :: Loss: [0.8431150913238525, 0.0020774195436388254, 0.0, 0.0371612124145031, 0.03569123521447182, 0.0583648756146431, 0.05414830893278122]]\n",
            "Epoch: 0 Batch: 1067, [Discriminator_A :: Loss: 0.04672976484653191], [ Generator :: Loss: [0.7592377066612244, 9.269260772271082e-05, 0.0, 0.035655342042446136, 0.029716873541474342, 0.05657052621245384, 0.048852335661649704]]\n",
            "Epoch: 0 Batch: 1068, [Discriminator_A :: Loss: 0.10734189301729202], [ Generator :: Loss: [0.9680389165878296, 0.005404639057815075, 0.0, 0.04699696972966194, 0.037462018430233, 0.06802918016910553, 0.05001522973179817]]\n",
            "Epoch: 0 Batch: 1069, [Discriminator_A :: Loss: 0.025058167753741145], [ Generator :: Loss: [0.7989673018455505, 0.0019885494839400053, 0.0, 0.03702116385102272, 0.03253769129514694, 0.06167507916688919, 0.03971509635448456]]\n",
            "Epoch: 0 Batch: 1070, [Discriminator_A :: Loss: 0.2874347578617744], [ Generator :: Loss: [1.0782541036605835, 0.0007382381591014564, 0.0, 0.05443384498357773, 0.040609218180179596, 0.073993980884552, 0.05309123918414116]]\n",
            "Epoch: 0 Batch: 1071, [Discriminator_A :: Loss: 0.0668910649837926], [ Generator :: Loss: [0.6781049966812134, 0.002024132525548339, 0.0, 0.02940473146736622, 0.02839977666735649, 0.04841102659702301, 0.04962470382452011]]\n",
            "Epoch: 0, [Discriminator_A :: Loss: 0.0668910649837926], [ Generator :: Loss: [0.6781049966812134, 0.002024132525548339, 0.0, 0.02940473146736622, 0.02839977666735649, 0.04841102659702301, 0.04962470382452011]]\n",
            "Epoch: 1 Batch: 1, [Discriminator_A :: Loss: 0.13615849091729615], [ Generator :: Loss: [2.593431234359741, 0.9665281176567078, 1.0, 0.029559236019849777, 0.023618992418050766, 0.052351534366607666, 0.04276931658387184]]\n",
            "Epoch: 1 Batch: 2, [Discriminator_A :: Loss: 0.01751976559171453], [ Generator :: Loss: [0.9495832920074463, 0.006271710153669119, 0.0, 0.046118877828121185, 0.035602353513240814, 0.06980724632740021, 0.05629194900393486]]\n",
            "Epoch: 1 Batch: 3, [Discriminator_A :: Loss: 0.11433379724621773], [ Generator :: Loss: [0.8507140278816223, 0.03956139460206032, 0.0, 0.03409498929977417, 0.03738212585449219, 0.04522449150681496, 0.05115697160363197]]\n",
            "Epoch: 1 Batch: 4, [Discriminator_A :: Loss: 0.08415029715979472], [ Generator :: Loss: [1.0604948997497559, 0.0011447140714153647, 0.0, 0.034873902797698975, 0.05671766772866249, 0.05062431842088699, 0.09281004965305328]]\n",
            "Epoch: 1 Batch: 5, [Discriminator_A :: Loss: 0.04763349196582567], [ Generator :: Loss: [1.039473056793213, 0.0006993522983975708, 0.0, 0.05139666423201561, 0.04203866422176361, 0.04790044575929642, 0.05652008205652237]]\n",
            "Epoch: 1 Batch: 6, [Discriminator_A :: Loss: 0.23646713816560805], [ Generator :: Loss: [1.0548675060272217, 0.0028074304573237896, 0.0, 0.05439108982682228, 0.0401814728975296, 0.04788925126194954, 0.058445196598768234]]\n",
            "Epoch: 1 Batch: 7, [Discriminator_A :: Loss: 0.48134817808750086], [ Generator :: Loss: [0.6200001239776611, 0.0009604209917597473, 0.0, 0.019573617726564407, 0.03431146591901779, 0.029059650376439095, 0.051129188388586044]]\n",
            "Epoch: 1 Batch: 8, [Discriminator_A :: Loss: 0.0008497585658915341], [ Generator :: Loss: [1.0474555492401123, 0.0007996819913387299, 0.0, 0.057883407920598984, 0.03463778272271156, 0.07250240445137024, 0.04894153028726578]]\n",
            "Epoch: 1 Batch: 9, [Discriminator_A :: Loss: 0.13648224843200296], [ Generator :: Loss: [1.2925678491592407, 0.21053120493888855, 0.0, 0.0558658093214035, 0.038815420120954514, 0.07712310552597046, 0.05810125544667244]]\n",
            "Epoch: 1 Batch: 10, [Discriminator_A :: Loss: 0.44956818548962474], [ Generator :: Loss: [0.7131791114807129, 0.008305777795612812, 0.0, 0.029024941846728325, 0.03176725655794144, 0.04688108339905739, 0.050070300698280334]]\n",
            "Epoch: 1 Batch: 11, [Discriminator_A :: Loss: 0.0011605562031036243], [ Generator :: Loss: [0.7582138776779175, 0.0009537127334624529, 0.0, 0.035628966987133026, 0.02943788468837738, 0.06337887048721313, 0.043212760239839554]]\n",
            "Epoch: 1 Batch: 12, [Discriminator_A :: Loss: 0.002077636236208491], [ Generator :: Loss: [0.9162819385528564, 0.00085868762107566, 0.0, 0.03939317539334297, 0.03955487906932831, 0.06724351644515991, 0.05869923159480095]]\n",
            "Epoch: 1 Batch: 13, [Discriminator_A :: Loss: 0.4050940419983817], [ Generator :: Loss: [0.9337432980537415, 0.00045417077490128577, 0.0, 0.04115534573793411, 0.03907731920480728, 0.06780391186475754, 0.0631585419178009]]\n",
            "Epoch: 1 Batch: 14, [Discriminator_A :: Loss: 0.29380640483577736], [ Generator :: Loss: [0.7592790126800537, 9.79021133389324e-05, 0.0, 0.03270690515637398, 0.033179305493831635, 0.05679171532392502, 0.0435272715985775]]\n",
            "Epoch: 1 Batch: 15, [Discriminator_A :: Loss: 0.0039361433300655335], [ Generator :: Loss: [0.836727499961853, 0.00029033567989245057, 0.0, 0.04041871428489685, 0.030166175216436386, 0.08032035082578659, 0.05026794224977493]]\n",
            "Epoch: 1 Batch: 16, [Discriminator_A :: Loss: 0.030790418502874672], [ Generator :: Loss: [0.7460854649543762, 0.0017722002230584621, 0.0, 0.035614341497421265, 0.03015357442200184, 0.04144486039876938, 0.045189231634140015]]\n",
            "Epoch: 1 Batch: 17, [Discriminator_A :: Loss: 0.0017456928617320955], [ Generator :: Loss: [0.9884268641471863, 0.010886415839195251, 0.0, 0.05148744210600853, 0.03335351496934891, 0.08433022350072861, 0.04480067640542984]]\n",
            "Epoch: 1 Batch: 18, [Discriminator_A :: Loss: 0.0034665774437598884], [ Generator :: Loss: [0.9305843710899353, 0.002167050028219819, 0.0, 0.04151641204953194, 0.03778127580881119, 0.0721082091331482, 0.06333228200674057]]\n",
            "Epoch: 1 Batch: 19, [Discriminator_A :: Loss: 0.27267859771382064], [ Generator :: Loss: [1.2548739910125732, 0.002141934586688876, 0.0, 0.07524646818637848, 0.03525998815894127, 0.0898871123790741, 0.057780396193265915]]\n",
            "Epoch: 1 Batch: 20, [Discriminator_A :: Loss: 0.0022942880750633776], [ Generator :: Loss: [0.9829135537147522, 0.13993000984191895, 0.0, 0.042582374066114426, 0.030718836933374405, 0.060951776802539825, 0.04901963844895363]]\n",
            "Epoch: 1 Batch: 21, [Discriminator_A :: Loss: 0.10918571543879807], [ Generator :: Loss: [0.891674816608429, 0.0005163952009752393, 0.0, 0.0340489037334919, 0.04360967129468918, 0.05031018331646919, 0.06426245719194412]]\n",
            "Epoch: 1 Batch: 22, [Discriminator_A :: Loss: 0.3255137959931744], [ Generator :: Loss: [0.7785242795944214, 0.00015124196943361312, 0.0, 0.03299378976225853, 0.034790508449077606, 0.05537089332938194, 0.045159123837947845]]\n",
            "Epoch: 1 Batch: 23, [Discriminator_A :: Loss: 0.21310409647412598], [ Generator :: Loss: [2.6891839504241943, 0.9620103240013123, 1.0, 0.030240794643759727, 0.03325582295656204, 0.05426570028066635, 0.037941742688417435]]\n",
            "Epoch: 1 Batch: 24, [Discriminator_A :: Loss: 0.31143461623287294], [ Generator :: Loss: [0.8228904008865356, 0.00010825418576132506, 0.0, 0.038347359746694565, 0.03252066299319267, 0.05830371379852295, 0.055798232555389404]]\n",
            "Epoch: 1 Batch: 25, [Discriminator_A :: Loss: 0.16906518896576017], [ Generator :: Loss: [0.9341211318969727, 0.0007674554944969714, 0.0, 0.04615536704659462, 0.03518400341272354, 0.07367145270109177, 0.046288520097732544]]\n",
            "Epoch: 1 Batch: 26, [Discriminator_A :: Loss: 0.12036995613016188], [ Generator :: Loss: [1.0869232416152954, 0.0005876911454834044, 0.0, 0.06087011843919754, 0.03378288820385933, 0.08343745768070221, 0.05636802315711975]]\n",
            "Epoch: 1 Batch: 27, [Discriminator_A :: Loss: 0.17570071131922305], [ Generator :: Loss: [0.6126070022583008, 0.0020603288430720568, 0.0, 0.030943352729082108, 0.021948637440800667, 0.04982643947005272, 0.031800322234630585]]\n",
            "Epoch: 1 Batch: 28, [Discriminator_A :: Loss: 0.42285602260380983], [ Generator :: Loss: [0.6940374374389648, 0.0001560203090775758, 0.0, 0.02162434719502926, 0.039742521941661835, 0.035351015627384186, 0.044861678034067154]]\n",
            "Epoch: 1 Batch: 29, [Discriminator_A :: Loss: 0.030546590947778895], [ Generator :: Loss: [1.0341296195983887, 0.0007561207166872919, 0.0, 0.04964567720890045, 0.03867006301879883, 0.08979517966508865, 0.06042087823152542]]\n",
            "Epoch: 1 Batch: 30, [Discriminator_A :: Loss: 0.43404022803588305], [ Generator :: Loss: [0.9689626097679138, 0.00024890407803468406, 0.0, 0.047154501080513, 0.037234220653772354, 0.07002781331539154, 0.0547986701130867]]\n",
            "Epoch: 1 Batch: 31, [Discriminator_A :: Loss: 0.3661968307569623], [ Generator :: Loss: [1.2119190692901611, 0.05033208429813385, 0.0, 0.04800267517566681, 0.054777685552835464, 0.06971188634634018, 0.06407154351472855]]\n",
            "Epoch: 1 Batch: 32, [Discriminator_A :: Loss: 0.004239058878738433], [ Generator :: Loss: [1.0381660461425781, 0.0049571082927286625, 0.0, 0.05338330566883087, 0.03771655634045601, 0.08594698458909988, 0.03626331314444542]]\n",
            "Epoch: 1 Batch: 33, [Discriminator_A :: Loss: 0.000927598011912778], [ Generator :: Loss: [1.050036907196045, 0.0017777649918571115, 0.0, 0.046663254499435425, 0.04601234942674637, 0.07493080943822861, 0.04657229408621788]]\n",
            "Epoch: 1 Batch: 34, [Discriminator_A :: Loss: 0.3268788324203342], [ Generator :: Loss: [0.9488738775253296, 0.004150456748902798, 0.0, 0.04498374089598656, 0.037211909890174866, 0.07304292917251587, 0.04972395300865173]]\n",
            "Epoch: 1 Batch: 35, [Discriminator_A :: Loss: 0.2721816692937864], [ Generator :: Loss: [2.793898820877075, 0.9584681391716003, 1.0, 0.027482477948069572, 0.045422643423080444, 0.04650595784187317, 0.059873417019844055]]\n",
            "Epoch: 1 Batch: 36, [Discriminator_A :: Loss: 0.003859849843138363], [ Generator :: Loss: [1.2290090322494507, 0.00255103618837893, 0.0, 0.05244620144367218, 0.056018032133579254, 0.0802549198269844, 0.06156080216169357]]\n",
            "Epoch: 1 Batch: 37, [Discriminator_A :: Loss: 0.0003668557037599385], [ Generator :: Loss: [0.8332480192184448, 0.0005134493694640696, 0.0, 0.043508417904376984, 0.027469005435705185, 0.0813588872551918, 0.041601456701755524]]\n",
            "Epoch: 1 Batch: 38, [Discriminator_A :: Loss: 0.0015771409962326288], [ Generator :: Loss: [0.9093743562698364, 0.0004551748279482126, 0.0, 0.04578833281993866, 0.030896540731191635, 0.08827513456344604, 0.053795311599969864]]\n",
            "Epoch: 1 Batch: 39, [Discriminator_A :: Loss: 0.1972953708609566], [ Generator :: Loss: [0.8367007374763489, 0.0005745498347096145, 0.0, 0.039726778864860535, 0.03429684787988663, 0.05356204882264137, 0.0423278771340847]]\n",
            "Epoch: 1 Batch: 40, [Discriminator_A :: Loss: 0.03889568270460586], [ Generator :: Loss: [0.786666750907898, 2.776415021799039e-05, 0.0, 0.028301674872636795, 0.040535151958465576, 0.057210296392440796, 0.0410604290664196]]\n",
            "Epoch: 1 Batch: 41, [Discriminator_A :: Loss: 0.002932218136265874], [ Generator :: Loss: [0.9750672578811646, 0.0006516490248031914, 0.0, 0.03922484070062637, 0.04674436151981354, 0.06063980609178543, 0.054083772003650665]]\n",
            "Epoch: 1 Batch: 42, [Discriminator_A :: Loss: 0.41457236637506867], [ Generator :: Loss: [1.4474586248397827, 0.42075392603874207, 0.0, 0.04255712032318115, 0.044236212968826294, 0.0888712927699089, 0.06990010291337967]]\n",
            "Epoch: 1 Batch: 43, [Discriminator_A :: Loss: 0.36846709600649774], [ Generator :: Loss: [0.9926358461380005, 0.0009917044080793858, 0.0, 0.04359123483300209, 0.044002316892147064, 0.0526193305850029, 0.06308931112289429]]\n",
            "Epoch: 1 Batch: 44, [Discriminator_A :: Loss: 0.4200668163248338], [ Generator :: Loss: [0.7924364805221558, 0.001849183114245534, 0.0, 0.028516355901956558, 0.03941475227475166, 0.05107654258608818, 0.06019965559244156]]\n",
            "Epoch: 1 Batch: 45, [Discriminator_A :: Loss: 0.32538565155118704], [ Generator :: Loss: [0.6068992018699646, 0.0009507882059551775, 0.0, 0.026629867032170296, 0.02527247741818428, 0.04397069662809372, 0.04295428842306137]]\n",
            "Epoch: 1 Batch: 46, [Discriminator_A :: Loss: 0.3094917524140328], [ Generator :: Loss: [0.917188286781311, 0.0022841168101876974, 0.0, 0.0411645844578743, 0.04339773207902908, 0.028460130095481873, 0.040820877999067307]]\n",
            "Epoch: 1 Batch: 47, [Discriminator_A :: Loss: 0.03136151563376188], [ Generator :: Loss: [0.9899550080299377, 0.0015800941037014127, 0.0, 0.05053390935063362, 0.036977022886276245, 0.049057431519031525, 0.06420817971229553]]\n",
            "Epoch: 1 Batch: 48, [Discriminator_A :: Loss: 0.29993710335111246], [ Generator :: Loss: [0.9168566465377808, 0.00026810565032064915, 0.0, 0.041052985936403275, 0.03889947012066841, 0.06235087662935257, 0.054713133722543716]]\n",
            "Epoch: 1 Batch: 49, [Discriminator_A :: Loss: 0.15791971742874011], [ Generator :: Loss: [2.76873517036438, 0.9183924794197083, 1.0, 0.03650188446044922, 0.0372445285320282, 0.05453604459762573, 0.05834244191646576]]\n",
            "Epoch: 1 Batch: 50, [Discriminator_A :: Loss: 0.0037975488521624357], [ Generator :: Loss: [0.9836515784263611, 0.0033158264122903347, 0.0, 0.041820697486400604, 0.04361630976200104, 0.061299070715904236, 0.06466662883758545]]\n",
            "Epoch: 1 Batch: 51, [Discriminator_A :: Loss: 0.010563317278865725], [ Generator :: Loss: [0.9703656435012817, 0.0004894130397588015, 0.0, 0.03852164000272751, 0.045259106904268265, 0.0745277926325798, 0.05754092335700989]]\n",
            "Epoch: 1 Batch: 52, [Discriminator_A :: Loss: 0.0004289697390049696], [ Generator :: Loss: [0.9534258246421814, 0.0008211632375605404, 0.0, 0.04081813246011734, 0.04172271117568016, 0.07455071806907654, 0.052645519375801086]]\n",
            "Epoch: 1 Batch: 53, [Discriminator_A :: Loss: 0.03037953656166792], [ Generator :: Loss: [0.7527675628662109, 0.0014481968246400356, 0.0, 0.03501696512103081, 0.031072072684764862, 0.04373575747013092, 0.04669317603111267]]\n",
            "Epoch: 1 Batch: 54, [Discriminator_A :: Loss: 0.001513776158390101], [ Generator :: Loss: [0.8430190086364746, 0.0004936496261507273, 0.0, 0.03803154081106186, 0.03478015586733818, 0.06614286452531815, 0.04826551303267479]]\n",
            "Epoch: 1 Batch: 55, [Discriminator_A :: Loss: 0.2080833378713578], [ Generator :: Loss: [0.7632976174354553, 0.0016462119529023767, 0.0, 0.02905949205160141, 0.03759393095970154, 0.042129307985305786, 0.052987851202487946]]\n",
            "Epoch: 1 Batch: 56, [Discriminator_A :: Loss: 0.0023257040811586194], [ Generator :: Loss: [1.106407880783081, 0.006865096744149923, 0.0, 0.05626906827092171, 0.040941812098026276, 0.07401667535305023, 0.05341726914048195]]\n",
            "Epoch: 1 Batch: 57, [Discriminator_A :: Loss: 0.0673089554766193], [ Generator :: Loss: [1.0917105674743652, 0.0009699910297058523, 0.0, 0.04974893480539322, 0.04762028902769089, 0.06536936014890671, 0.05167897045612335]]\n",
            "Epoch: 1 Batch: 58, [Discriminator_A :: Loss: 0.37612715462455526], [ Generator :: Loss: [0.830183744430542, 0.0008631612872704864, 0.0, 0.036719296127557755, 0.03399760648608208, 0.06590797752141953, 0.05624358728528023]]\n",
            "Epoch: 1 Batch: 59, [Discriminator_A :: Loss: 0.0016971450095297769], [ Generator :: Loss: [2.8594746589660645, 0.9357458353042603, 1.0, 0.05468292161822319, 0.026138968765735626, 0.07058261334896088, 0.04492736980319023]]\n",
            "Epoch: 1 Batch: 60, [Discriminator_A :: Loss: 0.34967067700927146], [ Generator :: Loss: [1.0431734323501587, 0.00025463910424150527, 0.0, 0.05895411968231201, 0.03166425973176956, 0.08718936145305634, 0.04954569414258003]]\n",
            "Epoch: 1 Batch: 61, [Discriminator_A :: Loss: 0.0016879469621926546], [ Generator :: Loss: [0.8053194284439087, 0.0019252910278737545, 0.0, 0.03348982706665993, 0.03552621975541115, 0.06094691529870033, 0.0522867776453495]]\n",
            "Epoch: 1 Batch: 62, [Discriminator_A :: Loss: 0.03248475381406024], [ Generator :: Loss: [0.8873493075370789, 0.0014154488453641534, 0.0, 0.034059397876262665, 0.04233408719301224, 0.06078974902629852, 0.06120928376913071]]\n",
            "Epoch: 1 Batch: 63, [Discriminator_A :: Loss: 0.11312098993221298], [ Generator :: Loss: [0.8081420660018921, 0.00031147230765782297, 0.0, 0.040515750646591187, 0.030130600556731224, 0.05066816881299019, 0.05069888010621071]]\n",
            "Epoch: 1 Batch: 64, [Discriminator_A :: Loss: 0.005213492666371167], [ Generator :: Loss: [0.83978271484375, 0.0024651356507092714, 0.0, 0.03604961931705475, 0.036509089171886444, 0.06687776744365692, 0.04485267400741577]]\n",
            "Epoch: 1 Batch: 65, [Discriminator_A :: Loss: 0.0017929294699570164], [ Generator :: Loss: [1.0920346975326538, 0.002113144379109144, 0.0, 0.04576924070715904, 0.04759254306554794, 0.08443855494260788, 0.07186508178710938]]\n",
            "Epoch: 1 Batch: 66, [Discriminator_A :: Loss: 8.567512668378185e-05], [ Generator :: Loss: [0.9371920824050903, 0.00019730388885363936, 0.0, 0.04604222998023033, 0.03343963623046875, 0.09000182151794434, 0.052174314856529236]]\n",
            "Epoch: 1 Batch: 67, [Discriminator_A :: Loss: 0.007530247123213485], [ Generator :: Loss: [0.848042905330658, 0.006509966682642698, 0.0, 0.04032239317893982, 0.03191779926419258, 0.07293827831745148, 0.04619273915886879]]\n",
            "Epoch: 1 Batch: 68, [Discriminator_A :: Loss: 0.17488440871238708], [ Generator :: Loss: [2.616579294204712, 0.8857665657997131, 1.0, 0.034311410039663315, 0.028489239513874054, 0.05650752782821655, 0.04629870131611824]]\n",
            "Epoch: 1 Batch: 69, [Discriminator_A :: Loss: 0.01178920830716379], [ Generator :: Loss: [0.7864896059036255, 0.0007753819227218628, 0.0, 0.0319884717464447, 0.036406971514225006, 0.056535959243774414, 0.04522383585572243]]\n",
            "Epoch: 1 Batch: 70, [Discriminator_A :: Loss: 0.14044925416237675], [ Generator :: Loss: [0.7288671135902405, 0.000920198333915323, 0.0, 0.018547940999269485, 0.04287908971309662, 0.05357646197080612, 0.06010018289089203]]\n",
            "Epoch: 1 Batch: 71, [Discriminator_A :: Loss: 0.007238578975375276], [ Generator :: Loss: [2.7729249000549316, 0.7787768840789795, 1.0, 0.043523382395505905, 0.040654174983501434, 0.08852519094944, 0.06384715437889099]]\n",
            "Epoch: 1 Batch: 72, [Discriminator_A :: Loss: 0.0007690333659411408], [ Generator :: Loss: [0.8606690168380737, 0.00014361459761857986, 0.0, 0.042158275842666626, 0.03085547313094139, 0.08291737735271454, 0.04747047647833824]]\n",
            "Epoch: 1 Batch: 73, [Discriminator_A :: Loss: 0.09715265780687332], [ Generator :: Loss: [0.9119328856468201, 0.03916313499212265, 0.0, 0.0342763252556324, 0.04212893918156624, 0.061483122408390045, 0.04723402112722397]]\n",
            "Epoch: 1 Batch: 74, [Discriminator_A :: Loss: 0.001990904100239277], [ Generator :: Loss: [0.8296406269073486, 0.0006094446289353073, 0.0, 0.040386978536844254, 0.03024192526936531, 0.06727313250303268, 0.05546898767352104]]\n",
            "Epoch: 1 Batch: 75, [Discriminator_A :: Loss: 0.4290890824049711], [ Generator :: Loss: [0.6661161184310913, 0.013931632041931152, 0.0, 0.028829708695411682, 0.027248432859778404, 0.04267450422048569, 0.048728544265031815]]\n",
            "Epoch: 1 Batch: 76, [Discriminator_A :: Loss: 0.05970870016608387], [ Generator :: Loss: [1.0085668563842773, 0.044787805527448654, 0.0, 0.03659768030047417, 0.04807174578309059, 0.05238006263971329, 0.06470479816198349]]\n",
            "Epoch: 1 Batch: 77, [Discriminator_A :: Loss: 0.0006420437748602126], [ Generator :: Loss: [1.0110104084014893, 0.0013120492221787572, 0.0, 0.0476955808699131, 0.03853476420044899, 0.0975751131772995, 0.04981977492570877]]\n",
            "Epoch: 1 Batch: 78, [Discriminator_A :: Loss: 0.009483530302532017], [ Generator :: Loss: [2.5808820724487305, 0.954811692237854, 1.0, 0.03196638822555542, 0.021781140938401222, 0.0529172345995903, 0.03567799925804138]]\n",
            "Epoch: 1 Batch: 79, [Discriminator_A :: Loss: 0.0020731178810819983], [ Generator :: Loss: [2.518372058868408, 0.9230817556381226, 1.0, 0.029368456453084946, 0.02141023799777031, 0.05984124541282654, 0.027662085369229317]]\n",
            "Epoch: 1 Batch: 80, [Discriminator_A :: Loss: 0.001296974704018794], [ Generator :: Loss: [0.8170953989028931, 0.0013891468988731503, 0.0, 0.04011819139122963, 0.030028557404875755, 0.06419087201356888, 0.050047867000103]]\n",
            "Epoch: 1 Batch: 81, [Discriminator_A :: Loss: 0.0007017480093054473], [ Generator :: Loss: [0.9950253367424011, 0.00023867857817094773, 0.0, 0.04028735309839249, 0.04478885978460312, 0.0799342468380928, 0.0640903040766716]]\n",
            "Epoch: 1 Batch: 82, [Discriminator_A :: Loss: 0.23058918491005898], [ Generator :: Loss: [0.6608500480651855, 0.003956605680286884, 0.0, 0.028816992416977882, 0.027153801172971725, 0.056167975068092346, 0.04101753979921341]]\n",
            "Epoch: 1 Batch: 83, [Discriminator_A :: Loss: 0.00028184686834720196], [ Generator :: Loss: [0.9649299383163452, 0.0010973593452945352, 0.0, 0.041174110025167465, 0.04207215458154678, 0.06615056842565536, 0.06521940231323242]]\n",
            "Epoch: 1 Batch: 84, [Discriminator_A :: Loss: 0.2777921030356083], [ Generator :: Loss: [0.823030948638916, 0.0005220860475674272, 0.0, 0.0355595238506794, 0.034594982862472534, 0.06525951623916626, 0.05570428445935249]]\n",
            "Epoch: 1 Batch: 85, [Discriminator_A :: Loss: 0.18536937360477168], [ Generator :: Loss: [0.7889063358306885, 0.0008004777482710779, 0.0, 0.026145806536078453, 0.04304932430386543, 0.036002833396196365, 0.06015174463391304]]\n",
            "Epoch: 1 Batch: 86, [Discriminator_A :: Loss: 0.11961491883266717], [ Generator :: Loss: [0.7094882726669312, 0.0006864835158921778, 0.0, 0.03285727649927139, 0.02823949046432972, 0.05154488608241081, 0.04628927260637283]]\n",
            "Epoch: 1 Batch: 87, [Discriminator_A :: Loss: 0.04829139192588627], [ Generator :: Loss: [1.1044418811798096, 0.0003517529694363475, 0.0, 0.0573396310210228, 0.03671400621533394, 0.10523564368486404, 0.05831805616617203]]\n",
            "Epoch: 1 Batch: 88, [Discriminator_A :: Loss: 0.12253484781831503], [ Generator :: Loss: [0.8229101896286011, 0.000859781343024224, 0.0, 0.037213608622550964, 0.03372327983379364, 0.06620234251022339, 0.04647918790578842]]\n",
            "Epoch: 1 Batch: 89, [Discriminator_A :: Loss: 0.31013671276014065], [ Generator :: Loss: [0.7210507392883301, 0.0003617657348513603, 0.0, 0.030438844114542007, 0.031672555953264236, 0.052056990563869476, 0.047517985105514526]]\n",
            "Epoch: 1 Batch: 90, [Discriminator_A :: Loss: 0.06717828178079799], [ Generator :: Loss: [0.7965295314788818, 0.00041960037196986377, 0.0, 0.03473638743162155, 0.0346095897257328, 0.06028018891811371, 0.04236998409032822]]\n",
            "Epoch: 1 Batch: 91, [Discriminator_A :: Loss: 0.40003763692220673], [ Generator :: Loss: [0.6784080862998962, 0.00044560685637407005, 0.0, 0.028450794517993927, 0.02976837381720543, 0.05398547276854515, 0.041785333305597305]]\n",
            "Epoch: 1 Batch: 92, [Discriminator_A :: Loss: 0.1199045354151167], [ Generator :: Loss: [0.8846060037612915, 0.0018074727850034833, 0.0, 0.0443994402885437, 0.031425077468156815, 0.07711850106716156, 0.04743489623069763]]\n",
            "Epoch: 1 Batch: 93, [Discriminator_A :: Loss: 0.2599893692386104], [ Generator :: Loss: [0.8959953784942627, 0.001695837825536728, 0.0, 0.03011687844991684, 0.04670580476522446, 0.05786627531051636, 0.06820641458034515]]\n",
            "Epoch: 1 Batch: 94, [Discriminator_A :: Loss: 0.4332706168643199], [ Generator :: Loss: [0.8399616479873657, 0.0005343160592019558, 0.0, 0.02890343777835369, 0.04418185353279114, 0.04723715782165527, 0.06133728474378586]]\n",
            "Epoch: 1 Batch: 95, [Discriminator_A :: Loss: 0.09570146469195606], [ Generator :: Loss: [0.7144066095352173, 0.00014296817244030535, 0.0, 0.03212735056877136, 0.028504308313131332, 0.05679863318800926, 0.051148444414138794]]\n",
            "Epoch: 1 Batch: 96, [Discriminator_A :: Loss: 0.00018391478806734085], [ Generator :: Loss: [2.8595213890075684, 0.9776996970176697, 1.0, 0.04765208810567856, 0.029575448483228683, 0.0671197772026062, 0.042426642030477524]]\n",
            "Epoch: 1 Batch: 97, [Discriminator_A :: Loss: 0.026059214491397142], [ Generator :: Loss: [0.8064824342727661, 0.0005125610623508692, 0.0, 0.03313864395022392, 0.036187537014484406, 0.05455150082707405, 0.058156516402959824]]\n",
            "Epoch: 1 Batch: 98, [Discriminator_A :: Loss: 0.3996311610098928], [ Generator :: Loss: [0.6175829172134399, 0.005581870675086975, 0.0, 0.01739993877708912, 0.037373483180999756, 0.03489871695637703, 0.029368162155151367]]\n",
            "Epoch: 1 Batch: 99, [Discriminator_A :: Loss: 0.009807807233300991], [ Generator :: Loss: [1.030714511871338, 0.0001795045827748254, 0.0, 0.04804602265357971, 0.043242763727903366, 0.05940161645412445, 0.05824556201696396]]\n",
            "Epoch: 1 Batch: 100, [Discriminator_A :: Loss: 0.0007110076840035617], [ Generator :: Loss: [0.9292830228805542, 0.0003202837542630732, 0.0, 0.04273442551493645, 0.038147881627082825, 0.0682751014828682, 0.051864564418792725]]\n",
            "Image_A shape: (64, 64, 3)\n",
            "fake_B shape: (64, 64, 3)\n",
            "reconstructed_A shape: (64, 64, 3)\n"
          ]
        },
        {
          "output_type": "stream",
          "name": "stderr",
          "text": [
            "WARNING:absl:Found untraced functions such as leaky_re_lu_4_layer_call_fn, leaky_re_lu_4_layer_call_and_return_conditional_losses, leaky_re_lu_5_layer_call_fn, leaky_re_lu_5_layer_call_and_return_conditional_losses, leaky_re_lu_6_layer_call_fn while saving (showing 5 of 80). These functions will not be directly callable after loading.\n"
          ]
        },
        {
          "output_type": "stream",
          "name": "stdout",
          "text": [
            "INFO:tensorflow:Assets written to: /content/gdrive/My Drive/Colab Notebooks/cycleGAN/monet2photo_out/gan_model/assets\n"
          ]
        },
        {
          "output_type": "stream",
          "name": "stderr",
          "text": [
            "INFO:tensorflow:Assets written to: /content/gdrive/My Drive/Colab Notebooks/cycleGAN/monet2photo_out/gan_model/assets\n",
            "WARNING:absl:Found untraced functions such as leaky_re_lu_layer_call_fn, leaky_re_lu_layer_call_and_return_conditional_losses, leaky_re_lu_1_layer_call_fn, leaky_re_lu_1_layer_call_and_return_conditional_losses, leaky_re_lu_2_layer_call_fn while saving (showing 5 of 20). These functions will not be directly callable after loading.\n"
          ]
        },
        {
          "output_type": "stream",
          "name": "stdout",
          "text": [
            "INFO:tensorflow:Assets written to: /content/gdrive/My Drive/Colab Notebooks/cycleGAN/monet2photo_out/generator_A_to_B/assets\n"
          ]
        },
        {
          "output_type": "stream",
          "name": "stderr",
          "text": [
            "INFO:tensorflow:Assets written to: /content/gdrive/My Drive/Colab Notebooks/cycleGAN/monet2photo_out/generator_A_to_B/assets\n",
            "WARNING:absl:Found untraced functions such as leaky_re_lu_4_layer_call_fn, leaky_re_lu_4_layer_call_and_return_conditional_losses, leaky_re_lu_5_layer_call_fn, leaky_re_lu_5_layer_call_and_return_conditional_losses, leaky_re_lu_6_layer_call_fn while saving (showing 5 of 20). These functions will not be directly callable after loading.\n"
          ]
        },
        {
          "output_type": "stream",
          "name": "stdout",
          "text": [
            "INFO:tensorflow:Assets written to: /content/gdrive/My Drive/Colab Notebooks/cycleGAN/monet2photo_out/generator_B_to_A/assets\n"
          ]
        },
        {
          "output_type": "stream",
          "name": "stderr",
          "text": [
            "INFO:tensorflow:Assets written to: /content/gdrive/My Drive/Colab Notebooks/cycleGAN/monet2photo_out/generator_B_to_A/assets\n",
            "WARNING:absl:Found untraced functions such as leaky_re_lu_8_layer_call_fn, leaky_re_lu_8_layer_call_and_return_conditional_losses, leaky_re_lu_9_layer_call_fn, leaky_re_lu_9_layer_call_and_return_conditional_losses, leaky_re_lu_10_layer_call_fn while saving (showing 5 of 20). These functions will not be directly callable after loading.\n"
          ]
        },
        {
          "output_type": "stream",
          "name": "stdout",
          "text": [
            "INFO:tensorflow:Assets written to: /content/gdrive/My Drive/Colab Notebooks/cycleGAN/monet2photo_out/discriminator_A/assets\n"
          ]
        },
        {
          "output_type": "stream",
          "name": "stderr",
          "text": [
            "INFO:tensorflow:Assets written to: /content/gdrive/My Drive/Colab Notebooks/cycleGAN/monet2photo_out/discriminator_A/assets\n",
            "WARNING:absl:Found untraced functions such as leaky_re_lu_12_layer_call_fn, leaky_re_lu_12_layer_call_and_return_conditional_losses, leaky_re_lu_13_layer_call_fn, leaky_re_lu_13_layer_call_and_return_conditional_losses, leaky_re_lu_14_layer_call_fn while saving (showing 5 of 20). These functions will not be directly callable after loading.\n"
          ]
        },
        {
          "output_type": "stream",
          "name": "stdout",
          "text": [
            "INFO:tensorflow:Assets written to: /content/gdrive/My Drive/Colab Notebooks/cycleGAN/monet2photo_out/discriminator_B/assets\n"
          ]
        },
        {
          "output_type": "stream",
          "name": "stderr",
          "text": [
            "INFO:tensorflow:Assets written to: /content/gdrive/My Drive/Colab Notebooks/cycleGAN/monet2photo_out/discriminator_B/assets\n"
          ]
        },
        {
          "output_type": "stream",
          "name": "stdout",
          "text": [
            "Epoch: 1 Batch: 101, [Discriminator_A :: Loss: 0.11262227920815349], [ Generator :: Loss: [0.9458924531936646, 0.0013638443779200315, 0.0, 0.044081393629312515, 0.039057232439517975, 0.057243216782808304, 0.05589913949370384]]\n",
            "Epoch: 1 Batch: 102, [Discriminator_A :: Loss: 0.2329351174776093], [ Generator :: Loss: [0.8607097864151001, 0.0008973466465249658, 0.0, 0.03841710463166237, 0.035850245505571365, 0.0692441388964653, 0.04789483919739723]]\n",
            "Epoch: 1 Batch: 103, [Discriminator_A :: Loss: 0.4560901040676981], [ Generator :: Loss: [0.7488681077957153, 0.001181772560812533, 0.0, 0.03333280235528946, 0.031095601618289948, 0.05242025852203369, 0.05098206549882889]]\n",
            "Epoch: 1 Batch: 104, [Discriminator_A :: Loss: 0.3104242756962776], [ Generator :: Loss: [0.8577172756195068, 0.0439973883330822, 0.0, 0.03354351967573166, 0.03638965263962746, 0.050448328256607056, 0.06393980979919434]]\n",
            "Epoch: 1 Batch: 105, [Discriminator_A :: Loss: 0.05080796149559319], [ Generator :: Loss: [0.8523334860801697, 0.003321148455142975, 0.0, 0.035186588764190674, 0.037873752415180206, 0.061255939304828644, 0.057152971625328064]]\n",
            "Epoch: 1 Batch: 106, [Discriminator_A :: Loss: 0.2058505528839305], [ Generator :: Loss: [0.6390607953071594, 0.0017164840828627348, 0.0, 0.03182273358106613, 0.02524258941411972, 0.0349411815404892, 0.031749874353408813]]\n",
            "Epoch: 1 Batch: 107, [Discriminator_A :: Loss: 0.023333276927587576], [ Generator :: Loss: [0.8223040699958801, 0.0005729992990382016, 0.0, 0.03687841072678566, 0.03490389510989189, 0.052337709814310074, 0.05157030373811722]]\n",
            "Epoch: 1 Batch: 108, [Discriminator_A :: Loss: 0.0019126240513287485], [ Generator :: Loss: [0.9886589050292969, 0.001636731089092791, 0.0, 0.03689409792423248, 0.047943271696567535, 0.06725405156612396, 0.0713944360613823]]\n",
            "Epoch: 1 Batch: 109, [Discriminator_A :: Loss: 0.07775484537705779], [ Generator :: Loss: [0.9010428190231323, 0.0010261568240821362, 0.0, 0.03656773269176483, 0.04155842214822769, 0.05055370554327965, 0.0682014673948288]]\n",
            "Epoch: 1 Batch: 110, [Discriminator_A :: Loss: 0.36220030672848225], [ Generator :: Loss: [0.7180472016334534, 0.016198694705963135, 0.0, 0.028331581503152847, 0.03312026709318161, 0.041413214057683945, 0.04591679573059082]]\n",
            "Epoch: 1 Batch: 111, [Discriminator_A :: Loss: 0.0003758001112146303], [ Generator :: Loss: [0.9293444156646729, 0.00011088079190813005, 0.0, 0.0452045276761055, 0.03875178098678589, 0.04392554983496666, 0.04574492946267128]]\n",
            "Epoch: 1 Batch: 112, [Discriminator_A :: Loss: 0.017781149654183537], [ Generator :: Loss: [0.7653731107711792, 0.00028906349325552583, 0.0, 0.03779163211584091, 0.027689041569828987, 0.06478844583034515, 0.04548884928226471]]\n",
            "Epoch: 1 Batch: 113, [Discriminator_A :: Loss: 0.16188017890090123], [ Generator :: Loss: [0.7947485446929932, 0.000820022716652602, 0.0, 0.03807942196726799, 0.03087511658668518, 0.05436718463897705, 0.05001596733927727]]\n",
            "Epoch: 1 Batch: 114, [Discriminator_A :: Loss: 0.0055260290537262335], [ Generator :: Loss: [0.9429895877838135, 0.0007443530485033989, 0.0, 0.03710680827498436, 0.044978924095630646, 0.06816935539245605, 0.053218550980091095]]\n",
            "Epoch: 1 Batch: 115, [Discriminator_A :: Loss: 0.12754246953409165], [ Generator :: Loss: [0.9495135545730591, 0.0016641175607219338, 0.0, 0.04804231598973274, 0.03538762032985687, 0.06527567654848099, 0.04827434942126274]]\n",
            "Epoch: 1 Batch: 116, [Discriminator_A :: Loss: 0.1647581240395084], [ Generator :: Loss: [1.0263872146606445, 0.005093150306493044, 0.0, 0.03116842545568943, 0.06003237143158913, 0.04870711266994476, 0.06057886779308319]]\n",
            "Epoch: 1 Batch: 117, [Discriminator_A :: Loss: 0.24104054383496987], [ Generator :: Loss: [1.03017258644104, 0.0003808390174526721, 0.0, 0.04285261407494545, 0.04937469959259033, 0.05370016023516655, 0.053818441927433014]]\n",
            "Epoch: 1 Batch: 118, [Discriminator_A :: Loss: 0.07964297756552696], [ Generator :: Loss: [2.8565056324005127, 0.8748921155929565, 1.0, 0.05371096730232239, 0.03389286249876022, 0.06314099580049515, 0.04243415966629982]]\n",
            "Epoch: 1 Batch: 119, [Discriminator_A :: Loss: 0.014562737429514527], [ Generator :: Loss: [1.2100415229797363, 0.2260705977678299, 0.0, 0.04199738800525665, 0.04330503195524216, 0.06238521263003349, 0.06856150180101395]]\n",
            "Epoch: 1 Batch: 120, [Discriminator_A :: Loss: 0.4110008640564047], [ Generator :: Loss: [1.1106959581375122, 0.020554624497890472, 0.0, 0.041995927691459656, 0.053810857236385345, 0.06155769154429436, 0.07051579654216766]]\n",
            "Epoch: 1 Batch: 121, [Discriminator_A :: Loss: 0.11036988161504269], [ Generator :: Loss: [0.9521670341491699, 0.012023570016026497, 0.0, 0.040690258145332336, 0.04164459928870201, 0.06832948327064514, 0.048465415835380554]]\n",
            "Epoch: 1 Batch: 122, [Discriminator_A :: Loss: 0.4461204803083092], [ Generator :: Loss: [0.9097665548324585, 0.000829114462248981, 0.0, 0.037638504058122635, 0.04214082658290863, 0.05898483470082283, 0.05215930566191673]]\n",
            "Epoch: 1 Batch: 123, [Discriminator_A :: Loss: 0.48524025827646255], [ Generator :: Loss: [1.0831818580627441, 0.0002297486353199929, 0.0, 0.0415966659784317, 0.055724743753671646, 0.05550014600157738, 0.054237861186265945]]\n",
            "Epoch: 1 Batch: 124, [Discriminator_A :: Loss: 0.4638957267161459], [ Generator :: Loss: [1.0472452640533447, 0.0010884488001465797, 0.0, 0.04143752530217171, 0.05121837556362152, 0.05501995235681534, 0.06457787752151489]]\n",
            "Epoch: 1 Batch: 125, [Discriminator_A :: Loss: 0.4669147399254143], [ Generator :: Loss: [2.919905662536621, 0.9559227824211121, 1.0, 0.04795593023300171, 0.03898022696375847, 0.04016377404332161, 0.05445737764239311]]\n",
            "Epoch: 1 Batch: 126, [Discriminator_A :: Loss: 0.18057510629296303], [ Generator :: Loss: [1.0224545001983643, 0.0005699102184735239, 0.0, 0.05065318942070007, 0.03787786886096001, 0.08242841809988022, 0.05414552241563797]]\n",
            "Epoch: 1 Batch: 127, [Discriminator_A :: Loss: 0.09513228386640549], [ Generator :: Loss: [0.8144196271896362, 0.007508214563131332, 0.0, 0.037946440279483795, 0.03132110461592674, 0.06284201890230179, 0.05139392241835594]]\n",
            "Epoch: 1 Batch: 128, [Discriminator_A :: Loss: 0.38094022060977295], [ Generator :: Loss: [0.734972357749939, 0.0007444701041094959, 0.0, 0.03713253512978554, 0.029260024428367615, 0.0431528203189373, 0.027149472385644913]]\n",
            "Epoch: 1 Batch: 129, [Discriminator_A :: Loss: 0.07629298136453144], [ Generator :: Loss: [3.0520217418670654, 0.9562208652496338, 1.0, 0.0405159667134285, 0.05751854181289673, 0.06465065479278564, 0.050805237144231796]]\n",
            "Epoch: 1 Batch: 130, [Discriminator_A :: Loss: 0.11907546629663557], [ Generator :: Loss: [1.5849056243896484, 0.0011699018068611622, 0.0, 0.10220815986394882, 0.03756783902645111, 0.1280687153339386, 0.057906974107027054]]\n",
            "Epoch: 1 Batch: 131, [Discriminator_A :: Loss: 0.29377033736091107], [ Generator :: Loss: [0.7435867786407471, 0.002071566414088011, 0.0, 0.031850095838308334, 0.031496454030275345, 0.05756258964538574, 0.050487130880355835]]\n",
            "Epoch: 1 Batch: 132, [Discriminator_A :: Loss: 0.4408416640944779], [ Generator :: Loss: [0.8072238564491272, 0.0007457294268533587, 0.0, 0.03129452466964722, 0.039080992341041565, 0.042172789573669434, 0.060550153255462646]]\n",
            "Epoch: 1 Batch: 133, [Discriminator_A :: Loss: 0.4529651002958417], [ Generator :: Loss: [0.7151000499725342, 0.005290408153086901, 0.0, 0.028962241485714912, 0.03167356923222542, 0.04445489123463631, 0.05899661034345627]]\n",
            "Epoch: 1 Batch: 134, [Discriminator_A :: Loss: 0.17816678731469437], [ Generator :: Loss: [1.0377705097198486, 0.010369131341576576, 0.0, 0.02789597399532795, 0.06257513165473938, 0.049346573650836945, 0.07334380596876144]]\n",
            "Epoch: 1 Batch: 135, [Discriminator_A :: Loss: 0.43689377236296423], [ Generator :: Loss: [2.9933815002441406, 0.9794739484786987, 1.0, 0.03779706358909607, 0.05169577896595001, 0.06629344075918198, 0.05268578976392746]]\n",
            "Epoch: 1 Batch: 136, [Discriminator_A :: Loss: 0.15561164281939455], [ Generator :: Loss: [0.7123619914054871, 6.476110229414189e-06, 0.0, 0.03918091207742691, 0.02256832644343376, 0.06037464737892151, 0.0344884917140007]]\n",
            "Epoch: 1 Batch: 137, [Discriminator_A :: Loss: 0.04077884316211566], [ Generator :: Loss: [0.7068253755569458, 0.000988081330433488, 0.0, 0.027448946610093117, 0.032189641147851944, 0.054423652589321136, 0.05502773076295853]]\n",
            "Epoch: 1 Batch: 138, [Discriminator_A :: Loss: 0.0046336447121575475], [ Generator :: Loss: [0.9574990272521973, 0.001235505100339651, 0.0, 0.04264635592699051, 0.039133790880441666, 0.07238216698169708, 0.06607992947101593]]\n",
            "Epoch: 1 Batch: 139, [Discriminator_A :: Loss: 0.1343569073069375], [ Generator :: Loss: [0.9025952816009521, 0.00011400171933928505, 0.0, 0.036202121526002884, 0.040511470288038254, 0.0704374685883522, 0.06490786373615265]]\n",
            "Epoch: 1 Batch: 140, [Discriminator_A :: Loss: 0.02467312209046213], [ Generator :: Loss: [2.793644905090332, 0.9745595455169678, 1.0, 0.040702253580093384, 0.029925772920250893, 0.06807941198348999, 0.04472588002681732]]\n",
            "Epoch: 1 Batch: 141, [Discriminator_A :: Loss: 0.06707562238443643], [ Generator :: Loss: [0.8475494384765625, 0.011048298329114914, 0.0, 0.03700067475438118, 0.035819534212350845, 0.05118530988693237, 0.05711375176906586]]\n",
            "Epoch: 1 Batch: 142, [Discriminator_A :: Loss: 0.000994693546090275], [ Generator :: Loss: [0.7811264991760254, 0.0011552326614037156, 0.0, 0.040370553731918335, 0.026251789182424545, 0.06504448503255844, 0.0487033911049366]]\n",
            "Epoch: 1 Batch: 143, [Discriminator_A :: Loss: 0.37841846502851695], [ Generator :: Loss: [0.7005172371864319, 0.0003240667574573308, 0.0, 0.027789149433374405, 0.03413870185613632, 0.03674802556633949, 0.044166624546051025]]\n",
            "Epoch: 1 Batch: 144, [Discriminator_A :: Loss: 0.003283139201812446], [ Generator :: Loss: [0.902123212814331, 0.0002875150821637362, 0.0, 0.037449728697538376, 0.040653761476278305, 0.06311842054128647, 0.0576823353767395]]\n",
            "Epoch: 1 Batch: 145, [Discriminator_A :: Loss: 0.00040973145951284096], [ Generator :: Loss: [1.1691761016845703, 0.000876807258464396, 0.0, 0.0581345297396183, 0.044778261333703995, 0.07093784213066101, 0.06823354214429855]]\n",
            "Epoch: 1 Batch: 146, [Discriminator_A :: Loss: 0.2775419731042348], [ Generator :: Loss: [0.766291618347168, 0.0006200139177963138, 0.0, 0.03546983003616333, 0.030645102262496948, 0.05610749125480652, 0.04841475933790207]]\n",
            "Epoch: 1 Batch: 147, [Discriminator_A :: Loss: 0.0022005568025633693], [ Generator :: Loss: [0.874238133430481, 0.0009976974688470364, 0.0, 0.04371235892176628, 0.03249269723892212, 0.06525906920433044, 0.04593080282211304]]\n",
            "Epoch: 1 Batch: 148, [Discriminator_A :: Loss: 0.030407338519580662], [ Generator :: Loss: [1.036605715751648, 0.0006713909097015858, 0.0, 0.048141058534383774, 0.04213220626115799, 0.06963590532541275, 0.06356580555438995]]\n",
            "Epoch: 1 Batch: 149, [Discriminator_A :: Loss: 0.0014665968410554342], [ Generator :: Loss: [1.0773533582687378, 0.009757507592439651, 0.0, 0.05428943410515785, 0.039037007838487625, 0.06996870785951614, 0.06436266005039215]]\n",
            "Epoch: 1 Batch: 150, [Discriminator_A :: Loss: 0.36715110955992714], [ Generator :: Loss: [0.8250513076782227, 0.0006706065614707768, 0.0, 0.03591570258140564, 0.0370994433760643, 0.056184493005275726, 0.03804473951458931]]\n",
            "Epoch: 1 Batch: 151, [Discriminator_A :: Loss: 0.3315630027791485], [ Generator :: Loss: [0.8643218278884888, 0.001835010596551001, 0.0, 0.03935854136943817, 0.03356629237532616, 0.07996507734060287, 0.053273361176252365]]\n",
            "Epoch: 1 Batch: 152, [Discriminator_A :: Loss: 0.05053643404971808], [ Generator :: Loss: [0.9522683620452881, 0.001715047168545425, 0.0, 0.04921713471412659, 0.03473128378391266, 0.05723847448825836, 0.05383063852787018]]\n",
            "Epoch: 1 Batch: 153, [Discriminator_A :: Loss: 0.4224917385436129], [ Generator :: Loss: [0.7187069654464722, 0.0004211108316667378, 0.0, 0.03135565668344498, 0.031475529074668884, 0.04629603400826454, 0.04367795214056969]]\n",
            "Epoch: 1 Batch: 154, [Discriminator_A :: Loss: 0.4508985891006887], [ Generator :: Loss: [0.6687906980514526, 0.003299290081486106, 0.0, 0.02445528469979763, 0.03187255933880806, 0.04588722437620163, 0.05632572993636131]]\n",
            "Epoch: 1 Batch: 155, [Discriminator_A :: Loss: 0.41820159822236747], [ Generator :: Loss: [1.0408775806427002, 0.0008594318060204387, 0.0, 0.02924581989645958, 0.06495160609483719, 0.04855349659919739, 0.04949040710926056]]\n",
            "Epoch: 1 Batch: 156, [Discriminator_A :: Loss: 0.4618153861229075], [ Generator :: Loss: [0.6755210757255554, 0.0006159569602459669, 0.0, 0.021666646003723145, 0.03600214794278145, 0.04060553386807442, 0.05761164799332619]]\n",
            "Epoch: 1 Batch: 157, [Discriminator_A :: Loss: 0.44440897373715416], [ Generator :: Loss: [1.0147472620010376, 0.00807328149676323, 0.0, 0.03268888592720032, 0.05624119192361832, 0.041991475969552994, 0.07538178563117981]]\n",
            "Epoch: 1 Batch: 158, [Discriminator_A :: Loss: 0.03528556099627167], [ Generator :: Loss: [2.8041162490844727, 0.9722097516059875, 1.0, 0.03958415240049362, 0.032771073281764984, 0.051583804190158844, 0.056770406663417816]]\n",
            "Epoch: 1 Batch: 159, [Discriminator_A :: Loss: 0.4398266887292266], [ Generator :: Loss: [0.955862283706665, 0.006805971264839172, 0.0, 0.03470892459154129, 0.05128724128007889, 0.03420734032988548, 0.05488739162683487]]\n",
            "Epoch: 1 Batch: 160, [Discriminator_A :: Loss: 0.0804662040900439], [ Generator :: Loss: [2.9060018062591553, 0.9713087677955627, 1.0, 0.04161713644862175, 0.04162615165114403, 0.05066215619444847, 0.05159808322787285]]\n",
            "Epoch: 1 Batch: 161, [Discriminator_A :: Loss: 0.011283323576208204], [ Generator :: Loss: [1.0669636726379395, 0.0010435516014695168, 0.0, 0.05613557621836662, 0.03695474565029144, 0.08138930797576904, 0.053627677261829376]]\n",
            "Epoch: 1 Batch: 162, [Discriminator_A :: Loss: 0.08870124421082437], [ Generator :: Loss: [1.027100920677185, 0.0013879520120099187, 0.0, 0.0472523458302021, 0.04135402292013168, 0.07148012518882751, 0.06816916167736053]]\n",
            "Epoch: 1 Batch: 163, [Discriminator_A :: Loss: 0.0022791295778006315], [ Generator :: Loss: [1.1042261123657227, 0.002669038949534297, 0.0, 0.044899940490722656, 0.04988352209329605, 0.08702560514211655, 0.06669679284095764]]\n",
            "Epoch: 1 Batch: 164, [Discriminator_A :: Loss: 0.24905155505985022], [ Generator :: Loss: [0.7690334320068359, 0.0018156975274905562, 0.0, 0.033974938094615936, 0.033220015466213226, 0.04845719039440155, 0.046810977160930634]]\n",
            "Epoch: 1 Batch: 165, [Discriminator_A :: Loss: 0.0016824940394144505], [ Generator :: Loss: [0.819850742816925, 0.0011713538551703095, 0.0, 0.03554707020521164, 0.03319843113422394, 0.07709962874650955, 0.05412472411990166]]\n",
            "Epoch: 1 Batch: 166, [Discriminator_A :: Loss: 0.37276191858109087], [ Generator :: Loss: [0.9497793912887573, 0.004336334764957428, 0.0, 0.034931935369968414, 0.04869454726576805, 0.06117970496416092, 0.047998495399951935]]\n",
            "Epoch: 1 Batch: 167, [Discriminator_A :: Loss: 0.0004028460825793445], [ Generator :: Loss: [0.8100188970565796, 0.00034636983764357865, 0.0, 0.038691483438014984, 0.03134899586439133, 0.06292262673377991, 0.046345096081495285]]\n",
            "Epoch: 1 Batch: 168, [Discriminator_A :: Loss: 0.4846733409212902], [ Generator :: Loss: [0.9110740423202515, 0.0025976025499403477, 0.0, 0.03856456279754639, 0.03910583257675171, 0.06534041464328766, 0.06643205881118774]]\n",
            "Epoch: 1 Batch: 169, [Discriminator_A :: Loss: 0.3231199017900508], [ Generator :: Loss: [0.8986896872520447, 0.001219758647494018, 0.0, 0.04204396530985832, 0.03678707405924797, 0.057872846722602844, 0.05128667503595352]]\n",
            "Epoch: 1 Batch: 170, [Discriminator_A :: Loss: 0.3579981962684542], [ Generator :: Loss: [2.6221864223480225, 0.8733726739883423, 1.0, 0.025395575910806656, 0.0389522910118103, 0.049648985266685486, 0.05568600818514824]]\n",
            "Epoch: 1 Batch: 171, [Discriminator_A :: Loss: 0.20492576410470065], [ Generator :: Loss: [0.7799203395843506, 0.0002890533651225269, 0.0, 0.036198828369379044, 0.03153933212161064, 0.06785207986831665, 0.03439760580658913]]\n",
            "Epoch: 1 Batch: 172, [Discriminator_A :: Loss: 0.4824146628379822], [ Generator :: Loss: [1.736655592918396, 0.8239795565605164, 0.0, 0.02780562825500965, 0.05010087043046951, 0.051234714686870575, 0.08237631618976593]]\n",
            "Epoch: 1 Batch: 173, [Discriminator_A :: Loss: 0.09236209848313592], [ Generator :: Loss: [1.0852439403533936, 0.00038836681051179767, 0.0, 0.05526465177536011, 0.04122833535075188, 0.05813480168581009, 0.06179095804691315]]\n",
            "Epoch: 1 Batch: 174, [Discriminator_A :: Loss: 0.060141214868053794], [ Generator :: Loss: [1.0327436923980713, 0.0037382820155471563, 0.0, 0.058461081236600876, 0.03404790908098221, 0.04571985825896263, 0.058195676654577255]]\n",
            "Epoch: 1 Batch: 175, [Discriminator_A :: Loss: 0.41792354272911325], [ Generator :: Loss: [1.0443240404129028, 0.00013008741370867938, 0.0, 0.0599280409514904, 0.03261170536279678, 0.07422200590372086, 0.04457449913024902]]\n",
            "Epoch: 1 Batch: 176, [Discriminator_A :: Loss: 0.03250847905292176], [ Generator :: Loss: [0.789742648601532, 0.00012517735012806952, 0.0, 0.036374278366565704, 0.031012283638119698, 0.06897106021642685, 0.0467807911336422]]\n",
            "Epoch: 1 Batch: 177, [Discriminator_A :: Loss: 0.0006591316778212786], [ Generator :: Loss: [0.8880538940429688, 0.0013940074713900685, 0.0, 0.04470660537481308, 0.031088214367628098, 0.07829318940639496, 0.050418511033058167]]\n",
            "Epoch: 1 Batch: 178, [Discriminator_A :: Loss: 0.40072219926514663], [ Generator :: Loss: [0.8114434480667114, 0.0004996723146177828, 0.0, 0.044082850217819214, 0.024482300505042076, 0.08418184518814087, 0.041110459715127945]]\n",
            "Epoch: 1 Batch: 179, [Discriminator_A :: Loss: 0.001238726923475042], [ Generator :: Loss: [0.7489719390869141, 0.0007567403954453766, 0.0, 0.034724004566669464, 0.028678467497229576, 0.06404951214790344, 0.050140999257564545]]\n",
            "Epoch: 1 Batch: 180, [Discriminator_A :: Loss: 0.3791956119821407], [ Generator :: Loss: [0.8010734915733337, 0.0014588090125471354, 0.0, 0.03326806426048279, 0.036100104451179504, 0.044379379600286484, 0.061553604900836945]]\n",
            "Epoch: 1 Batch: 181, [Discriminator_A :: Loss: 0.4624467759858817], [ Generator :: Loss: [0.6355636119842529, 0.0016237979289144278, 0.0, 0.0223135557025671, 0.033256448805332184, 0.03592507168650627, 0.04231472685933113]]\n",
            "Epoch: 1 Batch: 182, [Discriminator_A :: Loss: 0.007015378272626549], [ Generator :: Loss: [0.8526957631111145, 0.0011210134252905846, 0.0, 0.04151689261198044, 0.03294596076011658, 0.06519322842359543, 0.04175296425819397]]\n",
            "Epoch: 1 Batch: 183, [Discriminator_A :: Loss: 0.37450649426318705], [ Generator :: Loss: [0.8075021505355835, 0.0026673702523112297, 0.0, 0.030499448999762535, 0.04068920016288757, 0.043920841068029404, 0.049027442932128906]]\n",
            "Epoch: 1 Batch: 184, [Discriminator_A :: Loss: 0.46438495416077785], [ Generator :: Loss: [2.5889036655426025, 0.9273795485496521, 1.0, 0.024190541356801987, 0.03226017951965332, 0.04664323478937149, 0.05037368834018707]]\n",
            "Epoch: 1 Batch: 185, [Discriminator_A :: Loss: 0.029696890123886988], [ Generator :: Loss: [0.9112343788146973, 0.0004062461666762829, 0.0, 0.04426659643650055, 0.03539121150970459, 0.06208937242627144, 0.05216066539287567]]\n",
            "Epoch: 1 Batch: 186, [Discriminator_A :: Loss: 0.003769203762203688], [ Generator :: Loss: [0.8713489770889282, 0.0033628209494054317, 0.0, 0.044476304203271866, 0.030379297211766243, 0.07337139546871185, 0.046058740466833115]]\n",
            "Epoch: 1 Batch: 187, [Discriminator_A :: Loss: 0.34524757880717516], [ Generator :: Loss: [0.8121935725212097, 0.0014437091303989291, 0.0, 0.023560024797916412, 0.04802151024341583, 0.03907085210084915, 0.05586368590593338]]\n",
            "Epoch: 1 Batch: 188, [Discriminator_A :: Loss: 0.001251101668458432], [ Generator :: Loss: [0.8481200933456421, 0.0030912458896636963, 0.0, 0.03595305234193802, 0.03655364736914635, 0.0675254836678505, 0.052436407655477524]]\n",
            "Epoch: 1 Batch: 189, [Discriminator_A :: Loss: 0.39373666828032583], [ Generator :: Loss: [2.715885877609253, 0.9236178398132324, 1.0, 0.03647886961698532, 0.03207287937402725, 0.06021547317504883, 0.04653514176607132]]\n",
            "Epoch: 1 Batch: 190, [Discriminator_A :: Loss: 0.3825757959857583], [ Generator :: Loss: [0.7675482034683228, 0.00714516919106245, 0.0, 0.03286820650100708, 0.03308378905057907, 0.04809035360813141, 0.05279270559549332]]\n",
            "Epoch: 1 Batch: 191, [Discriminator_A :: Loss: 0.09652036882471293], [ Generator :: Loss: [2.6198766231536865, 0.8240116834640503, 1.0, 0.037864282727241516, 0.0313582681119442, 0.06398497521877289, 0.03965458646416664]]\n",
            "Epoch: 1 Batch: 192, [Discriminator_A :: Loss: 0.19389128650072962], [ Generator :: Loss: [2.8193299770355225, 0.9038230776786804, 1.0, 0.042617008090019226, 0.037590425461530685, 0.0664975643157959, 0.04693491384387016]]\n",
            "Epoch: 1 Batch: 193, [Discriminator_A :: Loss: 0.4747606087476015], [ Generator :: Loss: [2.610793352127075, 0.9507705569267273, 1.0, 0.0275765098631382, 0.029099149629473686, 0.04275216534733772, 0.05051407963037491]]\n",
            "Epoch: 1 Batch: 194, [Discriminator_A :: Loss: 0.4468665006570518], [ Generator :: Loss: [1.0750652551651, 0.0011559661943465471, 0.0, 0.048170626163482666, 0.04697057977318764, 0.06509634852409363, 0.0574009008705616]]\n",
            "Epoch: 1 Batch: 195, [Discriminator_A :: Loss: 0.0012635743914870545], [ Generator :: Loss: [0.8862575888633728, 0.0018927068449556828, 0.0, 0.04551239311695099, 0.0296835508197546, 0.0846632644534111, 0.047742150723934174]]\n",
            "Epoch: 1 Batch: 196, [Discriminator_A :: Loss: 0.002304467692738399], [ Generator :: Loss: [0.9591552019119263, 0.00064472621306777, 0.0, 0.04479137435555458, 0.0387202613055706, 0.0771356001496315, 0.04625845327973366]]\n",
            "Epoch: 1 Batch: 197, [Discriminator_A :: Loss: 0.05177660728804767], [ Generator :: Loss: [0.8197792768478394, 0.00122633739374578, 0.0, 0.03836978226900101, 0.03338727355003357, 0.050919339060783386, 0.050063084810972214]]\n",
            "Epoch: 1 Batch: 198, [Discriminator_A :: Loss: 0.082021041540429], [ Generator :: Loss: [2.5591917037963867, 0.8699110150337219, 1.0, 0.030945947393774986, 0.028543710708618164, 0.054333657026290894, 0.04005040228366852]]\n",
            "Epoch: 1 Batch: 199, [Discriminator_A :: Loss: 0.3560717415821273], [ Generator :: Loss: [0.7773439884185791, 0.00028857929282821715, 0.0, 0.03820721060037613, 0.0306792464107275, 0.05422861874103546, 0.033962275832891464]]\n",
            "Epoch: 1 Batch: 200, [Discriminator_A :: Loss: 0.012900520348921418], [ Generator :: Loss: [2.6471877098083496, 0.5132932066917419, 1.0, 0.05827335640788078, 0.04290691763162613, 0.06173679605126381, 0.06035500392317772]]\n",
            "Image_A shape: (64, 64, 3)\n",
            "fake_B shape: (64, 64, 3)\n",
            "reconstructed_A shape: (64, 64, 3)\n"
          ]
        },
        {
          "output_type": "stream",
          "name": "stderr",
          "text": [
            "WARNING:absl:Found untraced functions such as leaky_re_lu_4_layer_call_fn, leaky_re_lu_4_layer_call_and_return_conditional_losses, leaky_re_lu_5_layer_call_fn, leaky_re_lu_5_layer_call_and_return_conditional_losses, leaky_re_lu_6_layer_call_fn while saving (showing 5 of 80). These functions will not be directly callable after loading.\n"
          ]
        },
        {
          "output_type": "stream",
          "name": "stdout",
          "text": [
            "INFO:tensorflow:Assets written to: /content/gdrive/My Drive/Colab Notebooks/cycleGAN/monet2photo_out/gan_model/assets\n"
          ]
        },
        {
          "output_type": "stream",
          "name": "stderr",
          "text": [
            "INFO:tensorflow:Assets written to: /content/gdrive/My Drive/Colab Notebooks/cycleGAN/monet2photo_out/gan_model/assets\n",
            "WARNING:absl:Found untraced functions such as leaky_re_lu_layer_call_fn, leaky_re_lu_layer_call_and_return_conditional_losses, leaky_re_lu_1_layer_call_fn, leaky_re_lu_1_layer_call_and_return_conditional_losses, leaky_re_lu_2_layer_call_fn while saving (showing 5 of 20). These functions will not be directly callable after loading.\n"
          ]
        },
        {
          "output_type": "stream",
          "name": "stdout",
          "text": [
            "INFO:tensorflow:Assets written to: /content/gdrive/My Drive/Colab Notebooks/cycleGAN/monet2photo_out/generator_A_to_B/assets\n"
          ]
        },
        {
          "output_type": "stream",
          "name": "stderr",
          "text": [
            "INFO:tensorflow:Assets written to: /content/gdrive/My Drive/Colab Notebooks/cycleGAN/monet2photo_out/generator_A_to_B/assets\n",
            "WARNING:absl:Found untraced functions such as leaky_re_lu_4_layer_call_fn, leaky_re_lu_4_layer_call_and_return_conditional_losses, leaky_re_lu_5_layer_call_fn, leaky_re_lu_5_layer_call_and_return_conditional_losses, leaky_re_lu_6_layer_call_fn while saving (showing 5 of 20). These functions will not be directly callable after loading.\n"
          ]
        },
        {
          "output_type": "stream",
          "name": "stdout",
          "text": [
            "INFO:tensorflow:Assets written to: /content/gdrive/My Drive/Colab Notebooks/cycleGAN/monet2photo_out/generator_B_to_A/assets\n"
          ]
        },
        {
          "output_type": "stream",
          "name": "stderr",
          "text": [
            "INFO:tensorflow:Assets written to: /content/gdrive/My Drive/Colab Notebooks/cycleGAN/monet2photo_out/generator_B_to_A/assets\n",
            "WARNING:absl:Found untraced functions such as leaky_re_lu_8_layer_call_fn, leaky_re_lu_8_layer_call_and_return_conditional_losses, leaky_re_lu_9_layer_call_fn, leaky_re_lu_9_layer_call_and_return_conditional_losses, leaky_re_lu_10_layer_call_fn while saving (showing 5 of 20). These functions will not be directly callable after loading.\n"
          ]
        },
        {
          "output_type": "stream",
          "name": "stdout",
          "text": [
            "INFO:tensorflow:Assets written to: /content/gdrive/My Drive/Colab Notebooks/cycleGAN/monet2photo_out/discriminator_A/assets\n"
          ]
        },
        {
          "output_type": "stream",
          "name": "stderr",
          "text": [
            "INFO:tensorflow:Assets written to: /content/gdrive/My Drive/Colab Notebooks/cycleGAN/monet2photo_out/discriminator_A/assets\n",
            "WARNING:absl:Found untraced functions such as leaky_re_lu_12_layer_call_fn, leaky_re_lu_12_layer_call_and_return_conditional_losses, leaky_re_lu_13_layer_call_fn, leaky_re_lu_13_layer_call_and_return_conditional_losses, leaky_re_lu_14_layer_call_fn while saving (showing 5 of 20). These functions will not be directly callable after loading.\n"
          ]
        },
        {
          "output_type": "stream",
          "name": "stdout",
          "text": [
            "INFO:tensorflow:Assets written to: /content/gdrive/My Drive/Colab Notebooks/cycleGAN/monet2photo_out/discriminator_B/assets\n"
          ]
        },
        {
          "output_type": "stream",
          "name": "stderr",
          "text": [
            "INFO:tensorflow:Assets written to: /content/gdrive/My Drive/Colab Notebooks/cycleGAN/monet2photo_out/discriminator_B/assets\n"
          ]
        },
        {
          "output_type": "stream",
          "name": "stdout",
          "text": [
            "Epoch: 1 Batch: 201, [Discriminator_A :: Loss: 0.48014442902058363], [ Generator :: Loss: [0.7469435334205627, 0.007205433212220669, 0.0, 0.028561990708112717, 0.03705384209752083, 0.04006754606962204, 0.04351223260164261]]\n",
            "Epoch: 1 Batch: 202, [Discriminator_A :: Loss: 0.0912805337284226], [ Generator :: Loss: [0.8667092323303223, 0.001600569230504334, 0.0, 0.04409842938184738, 0.03137846663594246, 0.07102664560079575, 0.039313092827796936]]\n",
            "Epoch: 1 Batch: 203, [Discriminator_A :: Loss: 0.15988222090527415], [ Generator :: Loss: [0.913174033164978, 0.006594486068934202, 0.0, 0.042389851063489914, 0.03682142496109009, 0.0646180585026741, 0.049848731607198715]]\n",
            "Epoch: 1 Batch: 204, [Discriminator_A :: Loss: 0.14458704181015491], [ Generator :: Loss: [1.5444493293762207, 0.5623481869697571, 0.0, 0.03794112801551819, 0.045719292014837265, 0.07006663829088211, 0.07543027400970459]]\n",
            "Epoch: 1 Batch: 205, [Discriminator_A :: Loss: 0.3923143515130505], [ Generator :: Loss: [0.7558442950248718, 0.008344292640686035, 0.0, 0.026710759848356247, 0.03783068805932999, 0.03900657594203949, 0.06307893991470337]]\n",
            "Epoch: 1 Batch: 206, [Discriminator_A :: Loss: 0.29436262510716915], [ Generator :: Loss: [2.434798240661621, 0.7748458981513977, 1.0, 0.02974947914481163, 0.0276278518140316, 0.048328861594200134, 0.03784991800785065]]\n",
            "Epoch: 1 Batch: 207, [Discriminator_A :: Loss: 0.006206209247466177], [ Generator :: Loss: [0.7466837167739868, 0.004408325534313917, 0.0, 0.027412597090005875, 0.038650281727313995, 0.044696345925331116, 0.036950260400772095]]\n",
            "Epoch: 1 Batch: 208, [Discriminator_A :: Loss: 0.5447736084461212], [ Generator :: Loss: [1.3812212944030762, 0.17783063650131226, 0.0, 0.0600847452878952, 0.04769761115312576, 0.07055288553237915, 0.05501417815685272]]\n",
            "Epoch: 1 Batch: 209, [Discriminator_A :: Loss: 0.014706174843013287], [ Generator :: Loss: [0.8766961693763733, 0.003520528320223093, 0.0, 0.036187827587127686, 0.0397813618183136, 0.053948983550071716, 0.059534765779972076]]\n",
            "Epoch: 1 Batch: 210, [Discriminator_A :: Loss: 0.1399076958769001], [ Generator :: Loss: [0.9127590656280518, 0.00022595723567064852, 0.0, 0.050375647842884064, 0.02997593581676483, 0.05914944037795067, 0.04986781254410744]]\n",
            "Epoch: 1 Batch: 211, [Discriminator_A :: Loss: 0.0005450378739624284], [ Generator :: Loss: [1.3166804313659668, 0.0006524648633785546, 0.0, 0.06127511337399483, 0.05420378968119621, 0.08914714306592941, 0.07209181040525436]]\n",
            "Epoch: 1 Batch: 212, [Discriminator_A :: Loss: 0.018165815388783813], [ Generator :: Loss: [0.8155479431152344, 0.00022686667216476053, 0.0, 0.035368889570236206, 0.032535288482904434, 0.09823084622621536, 0.038048479706048965]]\n",
            "Epoch: 1 Batch: 213, [Discriminator_A :: Loss: 0.0003532035116222687], [ Generator :: Loss: [1.0062298774719238, 0.0005977036198601127, 0.0, 0.05643231421709061, 0.03354557603597641, 0.05918173864483833, 0.04667147621512413]]\n",
            "Epoch: 1 Batch: 214, [Discriminator_A :: Loss: 0.4327858954711701], [ Generator :: Loss: [0.7706218957901001, 5.042165139457211e-05, 0.0, 0.03506814315915108, 0.031330764293670654, 0.06351840496063232, 0.043064020574092865]]\n",
            "Epoch: 1 Batch: 215, [Discriminator_A :: Loss: 0.4048945211543469], [ Generator :: Loss: [0.7162702083587646, 0.00015769546735100448, 0.0, 0.029376449063420296, 0.033335790038108826, 0.0418928898870945, 0.047097258269786835]]\n",
            "Epoch: 1 Batch: 216, [Discriminator_A :: Loss: 0.2535438055638224], [ Generator :: Loss: [0.8141880035400391, 0.002732345601543784, 0.0, 0.0312099140137434, 0.03929892182350159, 0.04914288967847824, 0.05722443759441376]]\n",
            "Epoch: 1 Batch: 217, [Discriminator_A :: Loss: 0.3991528651677072], [ Generator :: Loss: [2.4938340187072754, 0.9065050482749939, 1.0, 0.02572583220899105, 0.024598967283964157, 0.04435848444700241, 0.0397224985063076]]\n",
            "Epoch: 1 Batch: 218, [Discriminator_A :: Loss: 0.0028559144120663404], [ Generator :: Loss: [0.7896184921264648, 0.001373489387333393, 0.0, 0.035589657723903656, 0.03237892687320709, 0.0631580576300621, 0.045401062816381454]]\n",
            "Epoch: 1 Batch: 219, [Discriminator_A :: Loss: 0.4784727473015664], [ Generator :: Loss: [1.1692018508911133, 0.0006442873855121434, 0.0, 0.06032458320260048, 0.04115406796336174, 0.09430422633886337, 0.05946680158376694]]\n",
            "Epoch: 1 Batch: 220, [Discriminator_A :: Loss: 0.33741640113294125], [ Generator :: Loss: [2.4668333530426025, 0.91141676902771, 1.0, 0.017261188477277756, 0.030674884095788002, 0.03449168801307678, 0.041563984006643295]]\n",
            "Epoch: 1 Batch: 221, [Discriminator_A :: Loss: 0.4728480400517583], [ Generator :: Loss: [0.7864611148834229, 0.0009587592794559896, 0.0, 0.030694464221596718, 0.0377233661711216, 0.04616774618625641, 0.05515630170702934]]\n",
            "Epoch: 1 Batch: 222, [Discriminator_A :: Loss: 0.43826520442962646], [ Generator :: Loss: [2.660438060760498, 0.8907877802848816, 1.0, 0.031970418989658356, 0.03437032178044319, 0.055229123681783676, 0.05101367458701134]]\n",
            "Epoch: 1 Batch: 223, [Discriminator_A :: Loss: 0.0011575851531233639], [ Generator :: Loss: [1.1405941247940063, 0.0003770425682887435, 0.0, 0.05787145346403122, 0.038107335567474365, 0.11029259115457535, 0.07013655453920364]]\n",
            "Epoch: 1 Batch: 224, [Discriminator_A :: Loss: 0.18362564872950315], [ Generator :: Loss: [0.6602300405502319, 0.0026207841001451015, 0.0, 0.028986750170588493, 0.027957255020737648, 0.05907648801803589, 0.02909270115196705]]\n",
            "Epoch: 1 Batch: 225, [Discriminator_A :: Loss: 0.3173145131440833], [ Generator :: Loss: [0.8162815570831299, 0.000507032556924969, 0.0, 0.03533199056982994, 0.036301448941230774, 0.051907964050769806, 0.047532130032777786]]\n",
            "Epoch: 1 Batch: 226, [Discriminator_A :: Loss: 0.4235967670683749], [ Generator :: Loss: [0.8706323504447937, 0.0009765475988388062, 0.0, 0.0218705665320158, 0.05625011771917343, 0.037679724395275116, 0.05076923221349716]]\n",
            "Epoch: 1 Batch: 227, [Discriminator_A :: Loss: 0.18060311814770103], [ Generator :: Loss: [2.504798412322998, 0.5811738967895508, 1.0, 0.037090882658958435, 0.043443210422992706, 0.056481122970581055, 0.061802562326192856]]\n",
            "Epoch: 1 Batch: 228, [Discriminator_A :: Loss: 0.0007611294277012348], [ Generator :: Loss: [0.9039768576622009, 0.005429908167570829, 0.0, 0.03787534311413765, 0.03918341174721718, 0.06726798415184021, 0.06069144606590271]]\n",
            "Epoch: 1 Batch: 229, [Discriminator_A :: Loss: 0.14966029301285744], [ Generator :: Loss: [0.8447827100753784, 0.013124528340995312, 0.0, 0.035526663064956665, 0.03650777041912079, 0.06292308866977692, 0.048390768468379974]]\n",
            "Epoch: 1 Batch: 230, [Discriminator_A :: Loss: 0.31387117740814574], [ Generator :: Loss: [0.7355378866195679, 0.0017384381499141455, 0.0, 0.029611093923449516, 0.03346666321158409, 0.04978657886385918, 0.05323534458875656]]\n",
            "Epoch: 1 Batch: 231, [Discriminator_A :: Loss: 0.4782133665285073], [ Generator :: Loss: [0.6054901480674744, 0.0016235625371336937, 0.0, 0.023438462987542152, 0.027999628335237503, 0.04115165397524834, 0.0483340285718441]]\n",
            "Epoch: 1 Batch: 232, [Discriminator_A :: Loss: 0.23362917974009179], [ Generator :: Loss: [0.7132476568222046, 0.00132157898042351, 0.0, 0.02834424190223217, 0.033206548541784286, 0.04646677523851395, 0.049951400607824326]]\n",
            "Epoch: 1 Batch: 233, [Discriminator_A :: Loss: 0.471440322115086], [ Generator :: Loss: [0.8055438995361328, 0.0017216689884662628, 0.0, 0.03418915346264839, 0.03463547304272652, 0.0534406453371048, 0.06213536113500595]]\n",
            "Epoch: 1 Batch: 234, [Discriminator_A :: Loss: 0.2578104287968017], [ Generator :: Loss: [0.788392961025238, 0.00054224266204983, 0.0, 0.04173825681209564, 0.025567717850208282, 0.07201193273067474, 0.04277905076742172]]\n",
            "Epoch: 1 Batch: 235, [Discriminator_A :: Loss: 0.0007586096544400789], [ Generator :: Loss: [1.0200729370117188, 0.00010591777390800416, 0.0, 0.05263812467455864, 0.03451118990778923, 0.09554462879896164, 0.05292915552854538]]\n",
            "Epoch: 1 Batch: 236, [Discriminator_A :: Loss: 0.3756259555811994], [ Generator :: Loss: [2.6527726650238037, 0.9659820795059204, 1.0, 0.027175553143024445, 0.03195802494883537, 0.0459037646651268, 0.04955102130770683]]\n",
            "Epoch: 1 Batch: 237, [Discriminator_A :: Loss: 0.011848312919028103], [ Generator :: Loss: [0.8580766320228577, 0.0005532573559321463, 0.0, 0.0367107167840004, 0.037238266319036484, 0.06490154564380646, 0.05313202366232872]]\n",
            "Epoch: 1 Batch: 238, [Discriminator_A :: Loss: 0.08951382030500099], [ Generator :: Loss: [0.815213680267334, 0.0006410658243112266, 0.0, 0.03745097666978836, 0.03284253925085068, 0.05942848324775696, 0.05220891535282135]]\n",
            "Epoch: 1 Batch: 239, [Discriminator_A :: Loss: 0.06563948231632821], [ Generator :: Loss: [0.7756005525588989, 0.0008879297529347241, 0.0, 0.03803625702857971, 0.028414687141776085, 0.06550624966621399, 0.04469688981771469]]\n",
            "Epoch: 1 Batch: 240, [Discriminator_A :: Loss: 0.17949395658797584], [ Generator :: Loss: [0.8537241220474243, 0.0026387018151581287, 0.0, 0.030551157891750336, 0.04454683139920235, 0.04508361220359802, 0.05502188950777054]]\n",
            "Epoch: 1 Batch: 241, [Discriminator_A :: Loss: 0.0003511973554850556], [ Generator :: Loss: [0.8783572912216187, 0.0002588911447674036, 0.0, 0.046299662441015244, 0.027531711384654045, 0.09229090809822083, 0.04749376326799393]]\n",
            "Epoch: 1 Batch: 242, [Discriminator_A :: Loss: 0.0003622826770879328], [ Generator :: Loss: [0.9211425185203552, 0.0005218572332523763, 0.0, 0.04259389266371727, 0.03866554796695709, 0.05730907618999481, 0.050717178732156754]]\n",
            "Epoch: 1 Batch: 243, [Discriminator_A :: Loss: 0.003234582196455449], [ Generator :: Loss: [0.9291542172431946, 0.005734504200518131, 0.0, 0.047609250992536545, 0.0335211344063282, 0.07559558749198914, 0.03652025759220123]]\n",
            "Epoch: 1 Batch: 244, [Discriminator_A :: Loss: 0.0009061033633770421], [ Generator :: Loss: [0.7168842554092407, 8.557104592910036e-05, 0.0, 0.03357704356312752, 0.02705501951277256, 0.06731106340885162, 0.043167054653167725]]\n",
            "Epoch: 1 Batch: 245, [Discriminator_A :: Loss: 0.007978188747074455], [ Generator :: Loss: [0.9822239279747009, 0.0016783478204160929, 0.0, 0.051725562661886215, 0.031485602259635925, 0.09280894696712494, 0.05562501400709152]]\n",
            "Epoch: 1 Batch: 246, [Discriminator_A :: Loss: 0.6265138685703278], [ Generator :: Loss: [1.0790706872940063, 0.2983439862728119, 0.0, 0.03413138538599014, 0.03436011075973511, 0.05296376347541809, 0.04284800961613655]]\n",
            "Epoch: 1 Batch: 247, [Discriminator_A :: Loss: 0.0005894658243050799], [ Generator :: Loss: [0.9201753735542297, 0.001589704304933548, 0.0, 0.03695632889866829, 0.044728245586156845, 0.044101908802986145, 0.057637982070446014]]\n",
            "Epoch: 1 Batch: 248, [Discriminator_A :: Loss: 0.2951628044247627], [ Generator :: Loss: [0.8241373300552368, 0.0825185775756836, 0.0, 0.03486338630318642, 0.02951069176197052, 0.061009250581264496, 0.03686872869729996]]\n",
            "Epoch: 1 Batch: 249, [Discriminator_A :: Loss: 0.31253166659735143], [ Generator :: Loss: [0.6114944219589233, 0.002394995652139187, 0.0, 0.024705810472369194, 0.027930036187171936, 0.04490146040916443, 0.03783946856856346]]\n",
            "Epoch: 1 Batch: 250, [Discriminator_A :: Loss: 0.3546655293102958], [ Generator :: Loss: [0.7042056322097778, 4.2819956433959305e-05, 0.0, 0.022904615849256516, 0.0386984646320343, 0.03580223023891449, 0.05232972651720047]]\n",
            "Epoch: 1 Batch: 251, [Discriminator_A :: Loss: 0.0008341810025740415], [ Generator :: Loss: [0.9800266623497009, 0.00047963601537048817, 0.0, 0.0479787178337574, 0.036566730588674545, 0.08651123195886612, 0.04758130759000778]]\n",
            "Epoch: 1 Batch: 252, [Discriminator_A :: Loss: 0.03713011322543025], [ Generator :: Loss: [0.723290741443634, 0.00039428583113476634, 0.0, 0.026849880814552307, 0.03449379280209541, 0.054061323404312134, 0.05539841204881668]]\n",
            "Epoch: 1 Batch: 253, [Discriminator_A :: Loss: 0.28327344672288746], [ Generator :: Loss: [2.986905574798584, 0.9584925174713135, 1.0, 0.03000558726489544, 0.06102653220295906, 0.052158720791339874, 0.06593303382396698]]\n",
            "Epoch: 1 Batch: 254, [Discriminator_A :: Loss: 0.05682840012013912], [ Generator :: Loss: [0.7911808490753174, 0.01058033388108015, 0.0, 0.03316131979227066, 0.03460203856229782, 0.05633965879678726, 0.04662729799747467]]\n",
            "Epoch: 1 Batch: 255, [Discriminator_A :: Loss: 0.3911591792711988], [ Generator :: Loss: [0.7585563659667969, 0.001227782224304974, 0.0, 0.026472387835383415, 0.03952501714229584, 0.044796109199523926, 0.052558403462171555]]\n",
            "Epoch: 1 Batch: 256, [Discriminator_A :: Loss: 0.06144988886080682], [ Generator :: Loss: [0.879643976688385, 0.0016941102221608162, 0.0, 0.03343890979886055, 0.045036133378744125, 0.04603152349591255, 0.04716794565320015]]\n",
            "Epoch: 1 Batch: 257, [Discriminator_A :: Loss: 0.3911934131756425], [ Generator :: Loss: [0.7504264116287231, 0.05290719121694565, 0.0, 0.028531305491924286, 0.03086858056485653, 0.054841745644807816, 0.048678550869226456]]\n",
            "Epoch: 1 Batch: 258, [Discriminator_A :: Loss: 0.47299467078846646], [ Generator :: Loss: [0.8220931887626648, 0.00019082584185525775, 0.0, 0.02113369293510914, 0.050425995141267776, 0.04057704284787178, 0.06572842597961426]]\n",
            "Epoch: 1 Batch: 259, [Discriminator_A :: Loss: 0.07511874102056026], [ Generator :: Loss: [0.6182070970535278, 0.006045641377568245, 0.0, 0.029096784070134163, 0.023208873346447945, 0.0487830713391304, 0.04032180458307266]]\n",
            "Epoch: 1 Batch: 260, [Discriminator_A :: Loss: 0.08023970545036718], [ Generator :: Loss: [0.8166639804840088, 0.0001274065434699878, 0.0, 0.0382378064095974, 0.031568896025419235, 0.06543631851673126, 0.05303322151303291]]\n",
            "Epoch: 1 Batch: 261, [Discriminator_A :: Loss: 0.3383597767096944], [ Generator :: Loss: [2.705101728439331, 0.9363346099853516, 1.0, 0.029818840324878693, 0.038513004779815674, 0.03368685021996498, 0.05176188796758652]]\n",
            "Epoch: 1 Batch: 262, [Discriminator_A :: Loss: 0.46814687771257013], [ Generator :: Loss: [0.8059821128845215, 0.0004975002375431359, 0.0, 0.03414054587483406, 0.03536156564950943, 0.05632869899272919, 0.05413487181067467]]\n",
            "Epoch: 1 Batch: 263, [Discriminator_A :: Loss: 0.29697461146861315], [ Generator :: Loss: [0.8826011419296265, 0.0007306687766686082, 0.0, 0.042435549199581146, 0.03433017432689667, 0.06491703540086746, 0.04929616302251816]]\n",
            "Epoch: 1 Batch: 264, [Discriminator_A :: Loss: 0.050682758213952184], [ Generator :: Loss: [0.8385238647460938, 0.0022597690112888813, 0.0, 0.03795540705323219, 0.03431466966867447, 0.06506405770778656, 0.04849933087825775]]\n",
            "Epoch: 1 Batch: 265, [Discriminator_A :: Loss: 0.030837695114314556], [ Generator :: Loss: [0.8054379224777222, 0.0012903379974886775, 0.0, 0.036007918417453766, 0.032850299030542374, 0.06463927030563354, 0.05092616751790047]]\n",
            "Epoch: 1 Batch: 266, [Discriminator_A :: Loss: 0.012078977597411722], [ Generator :: Loss: [0.9029387831687927, 0.0004532921884674579, 0.0, 0.04235611483454704, 0.034994937479496, 0.0730072483420372, 0.05596774443984032]]\n",
            "Epoch: 1 Batch: 267, [Discriminator_A :: Loss: 0.11548240901902318], [ Generator :: Loss: [0.727916419506073, 0.0011816496262326837, 0.0, 0.032033711671829224, 0.030348896980285645, 0.05065295472741127, 0.05225573107600212]]\n",
            "Epoch: 1 Batch: 268, [Discriminator_A :: Loss: 0.4736061570001766], [ Generator :: Loss: [0.7698627710342407, 0.000525064708199352, 0.0, 0.03666963055729866, 0.029560169205069542, 0.06099739670753479, 0.04604228958487511]]\n",
            "Epoch: 1 Batch: 269, [Discriminator_A :: Loss: 0.10159005943569355], [ Generator :: Loss: [0.8012442588806152, 0.0006236375775188208, 0.0, 0.035757604986429214, 0.03401540592312813, 0.04901987686753273, 0.053870607167482376]]\n",
            "Epoch: 1 Batch: 270, [Discriminator_A :: Loss: 0.00107348887831904], [ Generator :: Loss: [0.9116283655166626, 0.0007753321551717818, 0.0, 0.04217603802680969, 0.035495027899742126, 0.08584531396627426, 0.04829704388976097]]\n",
            "Epoch: 1 Batch: 271, [Discriminator_A :: Loss: 0.020486619920120575], [ Generator :: Loss: [0.963786780834198, 0.00034794016391970217, 0.0, 0.03996755927801132, 0.04221807420253754, 0.07737227529287338, 0.06421021372079849]]\n",
            "Epoch: 1 Batch: 272, [Discriminator_A :: Loss: 0.33384180057328194], [ Generator :: Loss: [0.7914993762969971, 0.0011039599776268005, 0.0, 0.02967837080359459, 0.038969654589891434, 0.05356821417808533, 0.05034691095352173]]\n",
            "Epoch: 1 Batch: 273, [Discriminator_A :: Loss: 0.0041397076565772295], [ Generator :: Loss: [0.8494871258735657, 0.0023996825329959393, 0.0, 0.040173161774873734, 0.03413470834493637, 0.05511542782187462, 0.04889329522848129]]\n",
            "Epoch: 1 Batch: 274, [Discriminator_A :: Loss: 0.35637879982823506], [ Generator :: Loss: [0.846526026725769, 0.0012734917690977454, 0.0, 0.04500938206911087, 0.028695011511445045, 0.06948667019605637, 0.0387219674885273]]\n",
            "Epoch: 1 Batch: 275, [Discriminator_A :: Loss: 0.29751133397076046], [ Generator :: Loss: [0.6662051677703857, 0.0003250783192925155, 0.0, 0.026223989203572273, 0.031042009592056274, 0.04725101590156555, 0.04596909135580063]]\n",
            "Epoch: 1 Batch: 276, [Discriminator_A :: Loss: 0.0004351699317339808], [ Generator :: Loss: [2.9384984970092773, 0.9475142955780029, 1.0, 0.04733499139547348, 0.03699420019984245, 0.09427357465028763, 0.053418442606925964]]\n",
            "Epoch: 1 Batch: 277, [Discriminator_A :: Loss: 0.29273838276276365], [ Generator :: Loss: [0.6439217925071716, 0.0004583671980071813, 0.0, 0.024132266640663147, 0.03018224611878395, 0.052431028336286545, 0.04788728803396225]]\n",
            "Epoch: 1 Batch: 278, [Discriminator_A :: Loss: 0.0028331069624982774], [ Generator :: Loss: [0.8604114055633545, 0.00041454873280599713, 0.0, 0.04386075586080551, 0.0305780116468668, 0.06569311767816544, 0.04991602897644043]]\n",
            "Epoch: 1 Batch: 279, [Discriminator_A :: Loss: 0.07230166514636949], [ Generator :: Loss: [0.8198142647743225, 0.01429788675159216, 0.0, 0.041439156979322433, 0.028578320518136024, 0.057260528206825256, 0.04808107763528824]]\n",
            "Epoch: 1 Batch: 280, [Discriminator_A :: Loss: 0.011912152825971134], [ Generator :: Loss: [0.6739048957824707, 0.00029133184580132365, 0.0, 0.029975268989801407, 0.027628272771835327, 0.05326797813177109, 0.04431021958589554]]\n",
            "Epoch: 1 Batch: 281, [Discriminator_A :: Loss: 0.004841482965275645], [ Generator :: Loss: [0.876509428024292, 0.0006756943766959012, 0.0, 0.03981151431798935, 0.03640570491552353, 0.07370760291814804, 0.039953917264938354]]\n",
            "Epoch: 1 Batch: 282, [Discriminator_A :: Loss: 0.021424051403300837], [ Generator :: Loss: [0.7280672788619995, 0.0003734931815415621, 0.0, 0.03467710688710213, 0.029275691136717796, 0.05276861786842346, 0.035397179424762726]]\n",
            "Epoch: 1 Batch: 283, [Discriminator_A :: Loss: 0.38175184291321784], [ Generator :: Loss: [0.7952382564544678, 0.0022173551842570305, 0.0, 0.03182878717780113, 0.0382666289806366, 0.0546293705701828, 0.0374373160302639]]\n",
            "Epoch: 1 Batch: 284, [Discriminator_A :: Loss: 0.02519089434099442], [ Generator :: Loss: [1.023393154144287, 0.007917167618870735, 0.0, 0.06069967895746231, 0.03024105355143547, 0.05578324943780899, 0.05028538778424263]]\n",
            "Epoch: 1 Batch: 285, [Discriminator_A :: Loss: 0.06886646169004962], [ Generator :: Loss: [0.9574927091598511, 0.0003945083590224385, 0.0, 0.040977828204631805, 0.042706482112407684, 0.06748028844594955, 0.052774783223867416]]\n",
            "Epoch: 1 Batch: 286, [Discriminator_A :: Loss: 0.004628554874216206], [ Generator :: Loss: [0.8256372213363647, 0.0007420943584293127, 0.0, 0.033173009753227234, 0.03844386339187622, 0.05704234167933464, 0.05168407782912254]]\n",
            "Epoch: 1 Batch: 287, [Discriminator_A :: Loss: 0.1481907494016923], [ Generator :: Loss: [0.8432117700576782, 0.018642324954271317, 0.0, 0.03663094714283943, 0.03629666939377785, 0.0503019243478775, 0.04499137029051781]]\n",
            "Epoch: 1 Batch: 288, [Discriminator_A :: Loss: 0.39946892741136253], [ Generator :: Loss: [1.1824822425842285, 0.000877785321790725, 0.0, 0.061966199427843094, 0.044984616339206696, 0.06877848505973816, 0.043317899107933044]]\n",
            "Epoch: 1 Batch: 289, [Discriminator_A :: Loss: 0.4237682372331619], [ Generator :: Loss: [0.6312081217765808, 0.0005721778143197298, 0.0, 0.01711858995258808, 0.038285352289676666, 0.029605578631162643, 0.04699099063873291]]\n",
            "Epoch: 1 Batch: 290, [Discriminator_A :: Loss: 0.27706697546091164], [ Generator :: Loss: [0.9629287123680115, 0.0002979945275001228, 0.0, 0.02899874374270439, 0.05807913839817047, 0.04899159073829651, 0.042860276997089386]]\n",
            "Epoch: 1 Batch: 291, [Discriminator_A :: Loss: 0.11764488648623228], [ Generator :: Loss: [0.8356767296791077, 0.0007382511394098401, 0.0, 0.0327841117978096, 0.039781708270311356, 0.051115766167640686, 0.05816451460123062]]\n",
            "Epoch: 1 Batch: 292, [Discriminator_A :: Loss: 0.44538826544885524], [ Generator :: Loss: [0.7378262877464294, 0.0011451739119365811, 0.0, 0.022720079869031906, 0.042130760848522186, 0.031770046800374985, 0.05640264227986336]]\n",
            "Epoch: 1 Batch: 293, [Discriminator_A :: Loss: 0.0037201419472694397], [ Generator :: Loss: [2.7977817058563232, 0.9371693730354309, 1.0, 0.04024633765220642, 0.03268517553806305, 0.07669710367918015, 0.0546000674366951]]\n",
            "Epoch: 1 Batch: 294, [Discriminator_A :: Loss: 0.0031274502398446202], [ Generator :: Loss: [0.9421724677085876, 0.00569201959297061, 0.0, 0.03785998374223709, 0.042899031192064285, 0.06597214937210083, 0.06291817128658295]]\n",
            "Epoch: 1 Batch: 295, [Discriminator_A :: Loss: 0.0056031374842859805], [ Generator :: Loss: [1.1049219369888306, 0.000406210107030347, 0.0, 0.05849968269467354, 0.03544166311621666, 0.11257399618625641, 0.052528273314237595]]\n",
            "Epoch: 1 Batch: 296, [Discriminator_A :: Loss: 0.009452291298657656], [ Generator :: Loss: [0.7679482698440552, 0.007871950976550579, 0.0, 0.0373770035803318, 0.028875818476080894, 0.056967031210660934, 0.04058104753494263]]\n",
            "Epoch: 1 Batch: 297, [Discriminator_A :: Loss: 0.13467854727059603], [ Generator :: Loss: [0.8279901742935181, 0.0018259729258716106, 0.0, 0.032066039741039276, 0.03964114189147949, 0.05720475688576698, 0.05188757926225662]]\n",
            "Epoch: 1 Batch: 298, [Discriminator_A :: Loss: 0.008173845242708921], [ Generator :: Loss: [0.6754846572875977, 0.0006379577680490911, 0.0, 0.03010476753115654, 0.02803286910057068, 0.04832368344068527, 0.04514666274189949]]\n",
            "Epoch: 1 Batch: 299, [Discriminator_A :: Loss: 0.29661720991134644], [ Generator :: Loss: [0.7752925157546997, 0.001358597306534648, 0.0, 0.03184681758284569, 0.034211818128824234, 0.055998653173446655, 0.05734894424676895]]\n",
            "Epoch: 1 Batch: 300, [Discriminator_A :: Loss: 0.19082020985661075], [ Generator :: Loss: [1.05433189868927, 0.003744348417967558, 0.0, 0.03831733390688896, 0.05381395295262337, 0.057690106332302094, 0.07158457487821579]]\n",
            "Image_A shape: (64, 64, 3)\n",
            "fake_B shape: (64, 64, 3)\n",
            "reconstructed_A shape: (64, 64, 3)\n"
          ]
        },
        {
          "output_type": "stream",
          "name": "stderr",
          "text": [
            "WARNING:absl:Found untraced functions such as leaky_re_lu_4_layer_call_fn, leaky_re_lu_4_layer_call_and_return_conditional_losses, leaky_re_lu_5_layer_call_fn, leaky_re_lu_5_layer_call_and_return_conditional_losses, leaky_re_lu_6_layer_call_fn while saving (showing 5 of 80). These functions will not be directly callable after loading.\n"
          ]
        },
        {
          "output_type": "stream",
          "name": "stdout",
          "text": [
            "INFO:tensorflow:Assets written to: /content/gdrive/My Drive/Colab Notebooks/cycleGAN/monet2photo_out/gan_model/assets\n"
          ]
        },
        {
          "output_type": "stream",
          "name": "stderr",
          "text": [
            "INFO:tensorflow:Assets written to: /content/gdrive/My Drive/Colab Notebooks/cycleGAN/monet2photo_out/gan_model/assets\n",
            "WARNING:absl:Found untraced functions such as leaky_re_lu_layer_call_fn, leaky_re_lu_layer_call_and_return_conditional_losses, leaky_re_lu_1_layer_call_fn, leaky_re_lu_1_layer_call_and_return_conditional_losses, leaky_re_lu_2_layer_call_fn while saving (showing 5 of 20). These functions will not be directly callable after loading.\n"
          ]
        },
        {
          "output_type": "stream",
          "name": "stdout",
          "text": [
            "INFO:tensorflow:Assets written to: /content/gdrive/My Drive/Colab Notebooks/cycleGAN/monet2photo_out/generator_A_to_B/assets\n"
          ]
        },
        {
          "output_type": "stream",
          "name": "stderr",
          "text": [
            "INFO:tensorflow:Assets written to: /content/gdrive/My Drive/Colab Notebooks/cycleGAN/monet2photo_out/generator_A_to_B/assets\n",
            "WARNING:absl:Found untraced functions such as leaky_re_lu_4_layer_call_fn, leaky_re_lu_4_layer_call_and_return_conditional_losses, leaky_re_lu_5_layer_call_fn, leaky_re_lu_5_layer_call_and_return_conditional_losses, leaky_re_lu_6_layer_call_fn while saving (showing 5 of 20). These functions will not be directly callable after loading.\n"
          ]
        },
        {
          "output_type": "stream",
          "name": "stdout",
          "text": [
            "INFO:tensorflow:Assets written to: /content/gdrive/My Drive/Colab Notebooks/cycleGAN/monet2photo_out/generator_B_to_A/assets\n"
          ]
        },
        {
          "output_type": "stream",
          "name": "stderr",
          "text": [
            "INFO:tensorflow:Assets written to: /content/gdrive/My Drive/Colab Notebooks/cycleGAN/monet2photo_out/generator_B_to_A/assets\n",
            "WARNING:absl:Found untraced functions such as leaky_re_lu_8_layer_call_fn, leaky_re_lu_8_layer_call_and_return_conditional_losses, leaky_re_lu_9_layer_call_fn, leaky_re_lu_9_layer_call_and_return_conditional_losses, leaky_re_lu_10_layer_call_fn while saving (showing 5 of 20). These functions will not be directly callable after loading.\n"
          ]
        },
        {
          "output_type": "stream",
          "name": "stdout",
          "text": [
            "INFO:tensorflow:Assets written to: /content/gdrive/My Drive/Colab Notebooks/cycleGAN/monet2photo_out/discriminator_A/assets\n"
          ]
        },
        {
          "output_type": "stream",
          "name": "stderr",
          "text": [
            "INFO:tensorflow:Assets written to: /content/gdrive/My Drive/Colab Notebooks/cycleGAN/monet2photo_out/discriminator_A/assets\n",
            "WARNING:absl:Found untraced functions such as leaky_re_lu_12_layer_call_fn, leaky_re_lu_12_layer_call_and_return_conditional_losses, leaky_re_lu_13_layer_call_fn, leaky_re_lu_13_layer_call_and_return_conditional_losses, leaky_re_lu_14_layer_call_fn while saving (showing 5 of 20). These functions will not be directly callable after loading.\n"
          ]
        },
        {
          "output_type": "stream",
          "name": "stdout",
          "text": [
            "INFO:tensorflow:Assets written to: /content/gdrive/My Drive/Colab Notebooks/cycleGAN/monet2photo_out/discriminator_B/assets\n"
          ]
        },
        {
          "output_type": "stream",
          "name": "stderr",
          "text": [
            "INFO:tensorflow:Assets written to: /content/gdrive/My Drive/Colab Notebooks/cycleGAN/monet2photo_out/discriminator_B/assets\n"
          ]
        },
        {
          "output_type": "stream",
          "name": "stdout",
          "text": [
            "Epoch: 1 Batch: 301, [Discriminator_A :: Loss: 0.4475570557988249], [ Generator :: Loss: [0.760163426399231, 0.0008084640139713883, 0.0, 0.02398374117910862, 0.041256293654441833, 0.05131411552429199, 0.055640511214733124]]\n",
            "Epoch: 1 Batch: 302, [Discriminator_A :: Loss: 0.45374147666734643], [ Generator :: Loss: [2.5537946224212646, 0.9736232161521912, 1.0, 0.023578129708766937, 0.025954758748412132, 0.04897928610444069, 0.03586328774690628]]\n",
            "Epoch: 1 Batch: 303, [Discriminator_A :: Loss: 0.020126040210016072], [ Generator :: Loss: [2.98301362991333, 0.9510351419448853, 1.0, 0.04339943453669548, 0.04425164312124252, 0.0829358845949173, 0.07253198325634003]]\n",
            "Epoch: 1 Batch: 304, [Discriminator_A :: Loss: 0.36880562908481807], [ Generator :: Loss: [0.7774696350097656, 0.0001773485419107601, 0.0, 0.03415519744157791, 0.03270589932799339, 0.04961241036653519, 0.0590689443051815]]\n",
            "Epoch: 1 Batch: 305, [Discriminator_A :: Loss: 0.3930171898682602], [ Generator :: Loss: [0.6871462464332581, 0.0016317625995725393, 0.0, 0.02957984432578087, 0.03090481273829937, 0.035667963325977325, 0.04499996826052666]]\n",
            "Epoch: 1 Batch: 306, [Discriminator_A :: Loss: 0.47083878982812166], [ Generator :: Loss: [2.659712314605713, 0.8452864289283752, 1.0, 0.027790648862719536, 0.043906956911087036, 0.03454074263572693, 0.06290902942419052]]\n",
            "Epoch: 1 Batch: 307, [Discriminator_A :: Loss: 0.0038057863093854394], [ Generator :: Loss: [2.757443428039551, 0.9675386548042297, 1.0, 0.03736833110451698, 0.030471447855234146, 0.07247614860534668, 0.03903099521994591]]\n",
            "Epoch: 1 Batch: 308, [Discriminator_A :: Loss: 0.001288709718210157], [ Generator :: Loss: [0.9165236949920654, 0.0010483283549547195, 0.0, 0.04022616147994995, 0.037712469696998596, 0.07516500353813171, 0.06092402711510658]]\n",
            "Epoch: 1 Batch: 309, [Discriminator_A :: Loss: 0.012253848457476124], [ Generator :: Loss: [0.9458998441696167, 0.000539977103471756, 0.0, 0.04011028632521629, 0.04186926782131195, 0.07231513410806656, 0.053249239921569824]]\n",
            "Epoch: 1 Batch: 310, [Discriminator_A :: Loss: 0.00046786586608504876], [ Generator :: Loss: [0.8525504469871521, 0.0014044195413589478, 0.0, 0.03405464440584183, 0.04093809053301811, 0.06718195974826813, 0.03403673321008682]]\n",
            "Epoch: 1 Batch: 311, [Discriminator_A :: Loss: 0.021288301970344037], [ Generator :: Loss: [0.9287022948265076, 0.004120911005884409, 0.0, 0.04726717248558998, 0.033142104744911194, 0.0625804215669632, 0.057908184826374054]]\n",
            "Epoch: 1 Batch: 312, [Discriminator_A :: Loss: 0.3683209528680891], [ Generator :: Loss: [1.033626914024353, 0.08961325883865356, 0.0, 0.029020987451076508, 0.05626622959971428, 0.041631318628787994, 0.0495101660490036]]\n",
            "Epoch: 1 Batch: 313, [Discriminator_A :: Loss: 0.46628225260064937], [ Generator :: Loss: [1.0791507959365845, 0.0014194657560437918, 0.0, 0.06070093438029289, 0.03117910400032997, 0.10893061757087708, 0.05000029131770134]]\n",
            "Epoch: 1 Batch: 314, [Discriminator_A :: Loss: 0.30355672173027415], [ Generator :: Loss: [1.1878035068511963, 0.00031950126867741346, 0.0, 0.05868152156472206, 0.0458403155207634, 0.07937442511320114, 0.06289120018482208]]\n",
            "Epoch: 1 Batch: 315, [Discriminator_A :: Loss: 0.4150548296747729], [ Generator :: Loss: [0.756442129611969, 0.0005419290391728282, 0.0, 0.029832137748599052, 0.03724254295229912, 0.04366126284003258, 0.041492149233818054]]\n",
            "Epoch: 1 Batch: 316, [Discriminator_A :: Loss: 0.0008229120576288551], [ Generator :: Loss: [0.9837023019790649, 0.00046523005585186183, 0.0, 0.04343729838728905, 0.042052339762449265, 0.0732283666729927, 0.055112384259700775]]\n",
            "Epoch: 1 Batch: 317, [Discriminator_A :: Loss: 0.48068145010620356], [ Generator :: Loss: [0.8565576076507568, 0.0032296476420015097, 0.0, 0.03878399357199669, 0.03699326142668724, 0.045618508011102676, 0.04993686079978943]]\n",
            "Epoch: 1 Batch: 318, [Discriminator_A :: Loss: 0.08829851145856082], [ Generator :: Loss: [1.0643606185913086, 0.0005655190325342119, 0.0, 0.057601138949394226, 0.03492055833339691, 0.08884011209011078, 0.049738042056560516]]\n",
            "Epoch: 1 Batch: 319, [Discriminator_A :: Loss: 0.12347075855359435], [ Generator :: Loss: [0.8524320721626282, 0.012911790050566196, 0.0, 0.03929733484983444, 0.03296755254268646, 0.07372942566871643, 0.04314195364713669]]\n",
            "Epoch: 1 Batch: 320, [Discriminator_A :: Loss: 0.22675597764464328], [ Generator :: Loss: [0.8604964017868042, 0.00013587869761977345, 0.0, 0.05263844504952431, 0.02446434274315834, 0.04785214364528656, 0.04148048162460327]]\n",
            "Epoch: 1 Batch: 321, [Discriminator_A :: Loss: 0.21879552979953587], [ Generator :: Loss: [0.7731199860572815, 0.005369902588427067, 0.0, 0.031235763803124428, 0.034185510128736496, 0.05974689871072769, 0.05379045009613037]]\n",
            "Epoch: 1 Batch: 322, [Discriminator_A :: Loss: 0.3893534620292485], [ Generator :: Loss: [0.8951461315155029, 0.0008355699246749282, 0.0, 0.03695598617196083, 0.04012622684240341, 0.06804820150136948, 0.055440228432416916]]\n",
            "Epoch: 1 Batch: 323, [Discriminator_A :: Loss: 0.0006055963276594412], [ Generator :: Loss: [1.0326743125915527, 0.0009665857069194317, 0.0, 0.0487944558262825, 0.04018621891736984, 0.09126166254281998, 0.05063924565911293]]\n",
            "Epoch: 1 Batch: 324, [Discriminator_A :: Loss: 0.23410839626740199], [ Generator :: Loss: [2.645318031311035, 0.9709293246269226, 1.0, 0.027609441429376602, 0.030224043875932693, 0.06050502508878708, 0.03554895147681236]]\n",
            "Epoch: 1 Batch: 325, [Discriminator_A :: Loss: 0.0265615270473063], [ Generator :: Loss: [0.7290267944335938, 0.00040156717295758426, 0.0, 0.03537542000412941, 0.026524748653173447, 0.06576865911483765, 0.043854858726263046]]\n",
            "Epoch: 1 Batch: 326, [Discriminator_A :: Loss: 0.20368441939353943], [ Generator :: Loss: [0.8232940435409546, 0.025851400569081306, 0.0, 0.034358538687229156, 0.03410152345895767, 0.06183336675167084, 0.051008693873882294]]\n",
            "Epoch: 1 Batch: 327, [Discriminator_A :: Loss: 0.0019719481497304514], [ Generator :: Loss: [0.8507328629493713, 0.0010880673071369529, 0.0, 0.0431523360311985, 0.029105884954333305, 0.08129248768091202, 0.04577012360095978]]\n",
            "Epoch: 1 Batch: 328, [Discriminator_A :: Loss: 0.0005113964434713125], [ Generator :: Loss: [0.7720856070518494, 0.0005935287335887551, 0.0, 0.034468553960323334, 0.030770275741815567, 0.06637365370988846, 0.05273010581731796]]\n",
            "Epoch: 1 Batch: 329, [Discriminator_A :: Loss: 0.02134757424937561], [ Generator :: Loss: [0.8224316835403442, 0.0008649974479340017, 0.0, 0.04209121689200401, 0.028388530015945435, 0.07338134199380875, 0.04338785633444786]]\n",
            "Epoch: 1 Batch: 330, [Discriminator_A :: Loss: 0.3975644344027387], [ Generator :: Loss: [0.5124183893203735, 0.00026966360746882856, 0.0, 0.020644066855311394, 0.02284715324640274, 0.0358867421746254, 0.04134977608919144]]\n",
            "Epoch: 1 Batch: 331, [Discriminator_A :: Loss: 0.0008071356060099788], [ Generator :: Loss: [1.30521821975708, 0.0031567751429975033, 0.0, 0.03573492169380188, 0.08185512572526932, 0.05023520439863205, 0.07592567801475525]]\n",
            "Epoch: 1 Batch: 332, [Discriminator_A :: Loss: 0.4272476192563772], [ Generator :: Loss: [0.8687695264816284, 0.0385308712720871, 0.0, 0.03465317189693451, 0.03732537850737572, 0.057767871767282486, 0.052685290575027466]]\n",
            "Epoch: 1 Batch: 333, [Discriminator_A :: Loss: 0.03847848519217223], [ Generator :: Loss: [0.7982502579689026, 0.0029196145478636026, 0.0, 0.04027830809354782, 0.031081493943929672, 0.045615267008543015, 0.0361173152923584]]\n",
            "Epoch: 1 Batch: 334, [Discriminator_A :: Loss: 0.3543180468259379], [ Generator :: Loss: [0.7935167551040649, 0.0001264932070625946, 0.0, 0.03460802137851715, 0.03405096381902695, 0.05573716387152672, 0.051063232123851776]]\n",
            "Epoch: 1 Batch: 335, [Discriminator_A :: Loss: 0.00930367577529978], [ Generator :: Loss: [2.9237377643585205, 0.956946849822998, 1.0, 0.04961704462766647, 0.035724349319934845, 0.06616511940956116, 0.04721172899007797]]\n",
            "Epoch: 1 Batch: 336, [Discriminator_A :: Loss: 0.44101847521960735], [ Generator :: Loss: [2.548755645751953, 0.8491367101669312, 1.0, 0.028091181069612503, 0.03281879425048828, 0.04307081550359726, 0.047448355704545975]]\n",
            "Epoch: 1 Batch: 337, [Discriminator_A :: Loss: 0.23817400727421045], [ Generator :: Loss: [0.8380388617515564, 0.01056939922273159, 0.0, 0.03720106929540634, 0.0348435714840889, 0.057818301022052765, 0.04920477047562599]]\n",
            "Epoch: 1 Batch: 338, [Discriminator_A :: Loss: 0.0942293654079549], [ Generator :: Loss: [0.8358339071273804, 0.0005614893743768334, 0.0, 0.038212068378925323, 0.03430430218577385, 0.054039210081100464, 0.056069545447826385]]\n",
            "Epoch: 1 Batch: 339, [Discriminator_A :: Loss: 0.003728621930349618], [ Generator :: Loss: [0.8737323880195618, 0.004996482748538256, 0.0, 0.045980390161275864, 0.027528654783964157, 0.08497165143489838, 0.04867378994822502]]\n",
            "Epoch: 1 Batch: 340, [Discriminator_A :: Loss: 0.38131372834322974], [ Generator :: Loss: [0.7816964387893677, 0.000544654845725745, 0.0, 0.03719606623053551, 0.030211515724658966, 0.0562259666621685, 0.05084998160600662]]\n",
            "Epoch: 1 Batch: 341, [Discriminator_A :: Loss: 0.02236991678364575], [ Generator :: Loss: [0.9538635015487671, 0.00047794313286431134, 0.0, 0.05683862045407295, 0.029031893238425255, 0.05049457028508186, 0.04418589174747467]]\n",
            "Epoch: 1 Batch: 342, [Discriminator_A :: Loss: 0.2622469122870825], [ Generator :: Loss: [0.9502204060554504, 0.0009926919592544436, 0.0, 0.03720562532544136, 0.047549039125442505, 0.052372124046087265, 0.0493089035153389]]\n",
            "Epoch: 1 Batch: 343, [Discriminator_A :: Loss: 0.37712050788104534], [ Generator :: Loss: [2.505101203918457, 0.6882554292678833, 1.0, 0.031412649899721146, 0.03846343979239464, 0.05861235782504082, 0.05947253108024597]]\n",
            "Epoch: 1 Batch: 344, [Discriminator_A :: Loss: 0.35991920696687885], [ Generator :: Loss: [0.806594967842102, 0.012790611013770103, 0.0, 0.0252624973654747, 0.042418722063302994, 0.04842177778482437, 0.06857036799192429]]\n",
            "Epoch: 1 Batch: 345, [Discriminator_A :: Loss: 0.022232148636248894], [ Generator :: Loss: [0.7731384634971619, 0.0006562613998539746, 0.0, 0.03351011872291565, 0.033659256994724274, 0.0515509769320488, 0.04923750460147858]]\n",
            "Epoch: 1 Batch: 346, [Discriminator_A :: Loss: 0.43016493367031217], [ Generator :: Loss: [0.9947163462638855, 0.02460363693535328, 0.0, 0.03297613188624382, 0.05237052962183952, 0.04681561887264252, 0.06983041763305664]]\n",
            "Epoch: 1 Batch: 347, [Discriminator_A :: Loss: 0.27400786930229515], [ Generator :: Loss: [1.0324156284332275, 0.0010560039663687348, 0.0, 0.0358567051589489, 0.054652318358421326, 0.04471781104803085, 0.08155155926942825]]\n",
            "Epoch: 1 Batch: 348, [Discriminator_A :: Loss: 0.28208568994887173], [ Generator :: Loss: [1.0141746997833252, 0.0005685422220267355, 0.0, 0.0434349849820137, 0.04647728428244591, 0.055262062698602676, 0.059221409261226654]]\n",
            "Epoch: 1 Batch: 349, [Discriminator_A :: Loss: 0.0014083247078815475], [ Generator :: Loss: [1.0399177074432373, 0.00013204035349190235, 0.0, 0.04577610641717911, 0.04444095119833946, 0.08438032865524292, 0.05323471873998642]]\n",
            "Epoch: 1 Batch: 350, [Discriminator_A :: Loss: 0.08676742017269135], [ Generator :: Loss: [0.9125630855560303, 0.03399059921503067, 0.0, 0.04538193345069885, 0.03149983286857605, 0.0664767399430275, 0.04327811673283577]]\n",
            "Epoch: 1 Batch: 351, [Discriminator_A :: Loss: 0.4854861472849734], [ Generator :: Loss: [2.647602081298828, 0.9395401477813721, 1.0, 0.026387367397546768, 0.03338069096207619, 0.05460371822118759, 0.055777858942747116]]\n",
            "Epoch: 1 Batch: 352, [Discriminator_A :: Loss: 0.24200850947818253], [ Generator :: Loss: [0.9459417462348938, 0.0006166494567878544, 0.0, 0.04137108474969864, 0.04066387936472893, 0.07456405460834503, 0.05041138455271721]]\n",
            "Epoch: 1 Batch: 353, [Discriminator_A :: Loss: 0.46321920957416296], [ Generator :: Loss: [0.7399778366088867, 0.002908398164436221, 0.0, 0.039655476808547974, 0.023655513301491737, 0.0660088062286377, 0.03795073926448822]]\n",
            "Epoch: 1 Batch: 354, [Discriminator_A :: Loss: 0.2942401748150587], [ Generator :: Loss: [0.7729419469833374, 0.0008552537183277309, 0.0, 0.03091047890484333, 0.03473377227783203, 0.06073058024048805, 0.05491358041763306]]\n",
            "Epoch: 1 Batch: 355, [Discriminator_A :: Loss: 0.4568395216483623], [ Generator :: Loss: [0.7307575941085815, 0.0008746341918595135, 0.0, 0.03822208195924759, 0.025946998968720436, 0.047350652515888214, 0.040841519832611084]]\n",
            "Epoch: 1 Batch: 356, [Discriminator_A :: Loss: 0.07260894204955548], [ Generator :: Loss: [0.7376570701599121, 0.012258848175406456, 0.0, 0.02959173172712326, 0.035616230219602585, 0.04232807829976082, 0.030990520492196083]]\n",
            "Epoch: 1 Batch: 357, [Discriminator_A :: Loss: 0.44703697063960135], [ Generator :: Loss: [0.718672513961792, 0.001611853949725628, 0.0, 0.026613332331180573, 0.03509357199072838, 0.04234641417860985, 0.05764520540833473]]\n",
            "Epoch: 1 Batch: 358, [Discriminator_A :: Loss: 0.3310068023856729], [ Generator :: Loss: [0.9888582825660706, 0.0010475488379597664, 0.0, 0.043127406388521194, 0.042401596903800964, 0.06458424776792526, 0.067936472594738]]\n",
            "Epoch: 1 Batch: 359, [Discriminator_A :: Loss: 0.04467103150091134], [ Generator :: Loss: [0.6996859312057495, 5.559467172133736e-05, 0.0, 0.0263441801071167, 0.033857256174087524, 0.057045672088861465, 0.04057026654481888]]\n",
            "Epoch: 1 Batch: 360, [Discriminator_A :: Loss: 0.014591710292734206], [ Generator :: Loss: [0.9623968601226807, 0.001991224242374301, 0.0, 0.046885158866643906, 0.03754282742738724, 0.05613686144351959, 0.05998891219496727]]\n",
            "Epoch: 1 Batch: 361, [Discriminator_A :: Loss: 0.1191540386644192], [ Generator :: Loss: [0.847255527973175, 0.0014308830723166466, 0.0, 0.03504586219787598, 0.03696731850504875, 0.059730224311351776, 0.06596262007951736]]\n",
            "Epoch: 1 Batch: 362, [Discriminator_A :: Loss: 0.41700099827721715], [ Generator :: Loss: [0.7683382034301758, 0.004738104064017534, 0.0, 0.03206290304660797, 0.03332728147506714, 0.060661680996418, 0.04903658479452133]]\n",
            "Epoch: 1 Batch: 363, [Discriminator_A :: Loss: 0.2994348558859201], [ Generator :: Loss: [0.7778984308242798, 0.00035535727511160076, 0.0, 0.03727911040186882, 0.031459957361221313, 0.04651590436697006, 0.04363648220896721]]\n",
            "Epoch: 1 Batch: 364, [Discriminator_A :: Loss: 0.8975455462932587], [ Generator :: Loss: [1.4320940971374512, 0.6995164752006531, 0.0, 0.025356274098157883, 0.0379481203854084, 0.04119157791137695, 0.058342091739177704]]\n",
            "Epoch: 1 Batch: 365, [Discriminator_A :: Loss: 0.26543342345394194], [ Generator :: Loss: [0.7388230562210083, 0.0014869864098727703, 0.0, 0.026001816615462303, 0.03675461187958717, 0.04936167970299721, 0.06041005998849869]]\n",
            "Epoch: 1 Batch: 366, [Discriminator_A :: Loss: 0.9417069256305695], [ Generator :: Loss: [0.8392176032066345, 0.20566639304161072, 0.0, 0.0189343374222517, 0.03567931428551674, 0.03426649421453476, 0.05314815789461136]]\n",
            "Epoch: 1 Batch: 367, [Discriminator_A :: Loss: 0.0058250416768714786], [ Generator :: Loss: [0.8644870519638062, 0.0006980446050874889, 0.0, 0.03483250364661217, 0.03943038731813431, 0.06306464225053787, 0.05809548497200012]]\n",
            "Epoch: 1 Batch: 368, [Discriminator_A :: Loss: 0.0001281854092667345], [ Generator :: Loss: [0.7458047270774841, 0.00010891255078604445, 0.0, 0.035695869475603104, 0.02727820724248886, 0.06902329623699188, 0.04693176597356796]]\n",
            "Epoch: 1 Batch: 369, [Discriminator_A :: Loss: 0.006161368568427861], [ Generator :: Loss: [2.824772596359253, 0.9556136131286621, 1.0, 0.03896114602684975, 0.036521874368190765, 0.07445287704467773, 0.03987577557563782]]\n",
            "Epoch: 1 Batch: 370, [Discriminator_A :: Loss: 0.06750268518226221], [ Generator :: Loss: [0.8976836204528809, 0.0004436060262378305, 0.0, 0.029963672161102295, 0.04882572963833809, 0.053461913019418716, 0.05588410794734955]]\n",
            "Epoch: 1 Batch: 371, [Discriminator_A :: Loss: 0.002334909135242924], [ Generator :: Loss: [0.8545410633087158, 0.0006794397486373782, 0.0, 0.0387495793402195, 0.03330085426568985, 0.07587294280529022, 0.05748441070318222]]\n",
            "Epoch: 1 Batch: 372, [Discriminator_A :: Loss: 0.45612228075333405], [ Generator :: Loss: [2.9398460388183594, 0.9590415954589844, 1.0, 0.042374011129140854, 0.04209825396537781, 0.07842060178518295, 0.05766112357378006]]\n",
            "Epoch: 1 Batch: 373, [Discriminator_A :: Loss: 0.17851593049999792], [ Generator :: Loss: [0.7848374843597412, 0.0005106520256958902, 0.0, 0.0336771085858345, 0.03389772027730942, 0.05090269446372986, 0.057675816118717194]]\n",
            "Epoch: 1 Batch: 374, [Discriminator_A :: Loss: 0.11526483503985219], [ Generator :: Loss: [0.7788525819778442, 8.680946484673768e-05, 0.0, 0.03761571645736694, 0.02820274978876114, 0.07493090629577637, 0.045650217682123184]]\n",
            "Epoch: 1 Batch: 375, [Discriminator_A :: Loss: 0.3233965889085084], [ Generator :: Loss: [1.097966194152832, 0.019595373421907425, 0.0, 0.040925417095422745, 0.05213121324777603, 0.06228063255548477, 0.08552385866641998]]\n",
            "Epoch: 1 Batch: 376, [Discriminator_A :: Loss: 0.25608779350295663], [ Generator :: Loss: [0.8108570575714111, 0.0031338168773800135, 0.0, 0.03580556437373161, 0.0359780378639698, 0.043221935629844666, 0.046665310859680176]]\n",
            "Epoch: 1 Batch: 377, [Discriminator_A :: Loss: 0.029203206300735474], [ Generator :: Loss: [0.8565424680709839, 0.0016964563401415944, 0.0, 0.04015204682946205, 0.03320429474115372, 0.07182864844799042, 0.049453943967819214]]\n",
            "Epoch: 1 Batch: 378, [Discriminator_A :: Loss: 0.009157860520645045], [ Generator :: Loss: [0.9069836735725403, 0.00045803291141055524, 0.0, 0.040747806429862976, 0.037283845245838165, 0.07518216967582703, 0.051026951521635056]]\n",
            "Epoch: 1 Batch: 379, [Discriminator_A :: Loss: 0.008788653183728456], [ Generator :: Loss: [0.8326311111450195, 0.00030673149740323424, 0.0, 0.03910481557250023, 0.032944176346063614, 0.05612317845225334, 0.0557112842798233]]\n",
            "Epoch: 1 Batch: 380, [Discriminator_A :: Loss: 0.4123920175479725], [ Generator :: Loss: [0.7682894468307495, 0.0013731669168919325, 0.0, 0.025528324767947197, 0.03987685590982437, 0.04983935505151749, 0.06302511692047119]]\n",
            "Epoch: 1 Batch: 381, [Discriminator_A :: Loss: 0.48322173522319645], [ Generator :: Loss: [0.8843668103218079, 0.0005948770558461547, 0.0, 0.03877141326665878, 0.039010319858789444, 0.06273099780082703, 0.043223582208156586]]\n",
            "Epoch: 1 Batch: 382, [Discriminator_A :: Loss: 0.4459146960871294], [ Generator :: Loss: [0.8185896873474121, 0.0006097772275097668, 0.0, 0.02933347411453724, 0.04119163006544113, 0.04858849570155144, 0.06414040923118591]]\n",
            "Epoch: 1 Batch: 383, [Discriminator_A :: Loss: 0.32276421593269333], [ Generator :: Loss: [0.6646996140480042, 0.0003246679261792451, 0.0, 0.024513304233551025, 0.03337089344859123, 0.03575189411640167, 0.04978105053305626]]\n",
            "Epoch: 1 Batch: 384, [Discriminator_A :: Loss: 0.41831229999661446], [ Generator :: Loss: [0.841378927230835, 0.0014309732941910625, 0.0, 0.03577432781457901, 0.037129681557416916, 0.06085927411913872, 0.05004863813519478]]\n",
            "Epoch: 1 Batch: 385, [Discriminator_A :: Loss: 0.2077317526564002], [ Generator :: Loss: [0.7168136835098267, 0.001227485598064959, 0.0, 0.03924001753330231, 0.02353157289326191, 0.053784389048814774, 0.034085940569639206]]\n",
            "Epoch: 1 Batch: 386, [Discriminator_A :: Loss: 0.3182755881862249], [ Generator :: Loss: [0.7092715501785278, 0.0006090826936997473, 0.0, 0.031951047480106354, 0.02969829924404621, 0.05399341881275177, 0.038175616413354874]]\n",
            "Epoch: 1 Batch: 387, [Discriminator_A :: Loss: 0.4664797853838536], [ Generator :: Loss: [2.474269151687622, 0.9805425405502319, 1.0, 0.02200895920395851, 0.020086120814085007, 0.04662971943616867, 0.026145949959754944]]\n",
            "Epoch: 1 Batch: 388, [Discriminator_A :: Loss: 0.21079158340580761], [ Generator :: Loss: [0.7418619990348816, 0.0046141669154167175, 0.0, 0.02855755016207695, 0.03663985803723335, 0.03986139968037605, 0.045412350445985794]]\n",
            "Epoch: 1 Batch: 389, [Discriminator_A :: Loss: 0.24210501220659353], [ Generator :: Loss: [0.8651754856109619, 0.0002930292102973908, 0.0, 0.03216397017240524, 0.04282337799668312, 0.05162925645709038, 0.06337974220514297]]\n",
            "Epoch: 1 Batch: 390, [Discriminator_A :: Loss: 0.4558507000328973], [ Generator :: Loss: [0.7406690120697021, 0.0009373057400807738, 0.0, 0.036004021763801575, 0.02786998823285103, 0.05815694108605385, 0.04283467307686806]]\n",
            "Epoch: 1 Batch: 391, [Discriminator_A :: Loss: 0.000849044561618939], [ Generator :: Loss: [0.8346641063690186, 0.0007347862119786441, 0.0, 0.045241184532642365, 0.026279015466570854, 0.08013445883989334, 0.03859294578433037]]\n",
            "Epoch: 1 Batch: 392, [Discriminator_A :: Loss: 0.14388149965088814], [ Generator :: Loss: [0.7066954970359802, 0.0033241857308894396, 0.0, 0.02838221564888954, 0.03242464363574982, 0.04424228146672249, 0.05106046795845032]]\n",
            "Epoch: 1 Batch: 393, [Discriminator_A :: Loss: 0.47397068317513913], [ Generator :: Loss: [0.5433154106140137, 0.0003984843206126243, 0.0, 0.024196216836571693, 0.023337798193097115, 0.03678499162197113, 0.03079177998006344]]\n",
            "Epoch: 1 Batch: 394, [Discriminator_A :: Loss: 0.027205448248423636], [ Generator :: Loss: [0.8720234632492065, 0.004905474837869406, 0.0, 0.038597702980041504, 0.035862188786268234, 0.06748369336128235, 0.055035412311553955]]\n",
            "Epoch: 1 Batch: 395, [Discriminator_A :: Loss: 0.022877267154399306], [ Generator :: Loss: [1.1316227912902832, 0.0003936091379728168, 0.0, 0.058019768446683884, 0.04397040978074074, 0.055975813418626785, 0.05535160005092621]]\n",
            "Epoch: 1 Batch: 396, [Discriminator_A :: Loss: 0.015857785125263035], [ Generator :: Loss: [2.8190197944641113, 0.6489879488945007, 1.0, 0.05247291550040245, 0.049501411616802216, 0.07843813300132751, 0.07185042649507523]]\n",
            "Epoch: 1 Batch: 397, [Discriminator_A :: Loss: 0.4057368328794837], [ Generator :: Loss: [0.9080779552459717, 0.010970160365104675, 0.0, 0.03628096356987953, 0.04290854185819626, 0.046667296439409256, 0.05854538083076477]]\n",
            "Epoch: 1 Batch: 398, [Discriminator_A :: Loss: 0.4314208010328002], [ Generator :: Loss: [0.7305597066879272, 0.0016800379380583763, 0.0, 0.026466304436326027, 0.038298413157463074, 0.027346987277269363, 0.05388554185628891]]\n",
            "Epoch: 1 Batch: 399, [Discriminator_A :: Loss: 0.0006103542291384656], [ Generator :: Loss: [0.8026385307312012, 0.0009389451006427407, 0.0, 0.04088287055492401, 0.027745574712753296, 0.07396318763494492, 0.04145190119743347]]\n",
            "Epoch: 1 Batch: 400, [Discriminator_A :: Loss: 0.3129972561073373], [ Generator :: Loss: [0.956375777721405, 4.460583659238182e-05, 0.0, 0.03831515833735466, 0.045949872583150864, 0.05677241086959839, 0.056908462196588516]]\n",
            "Image_A shape: (64, 64, 3)\n",
            "fake_B shape: (64, 64, 3)\n",
            "reconstructed_A shape: (64, 64, 3)\n"
          ]
        },
        {
          "output_type": "stream",
          "name": "stderr",
          "text": [
            "WARNING:absl:Found untraced functions such as leaky_re_lu_4_layer_call_fn, leaky_re_lu_4_layer_call_and_return_conditional_losses, leaky_re_lu_5_layer_call_fn, leaky_re_lu_5_layer_call_and_return_conditional_losses, leaky_re_lu_6_layer_call_fn while saving (showing 5 of 80). These functions will not be directly callable after loading.\n"
          ]
        },
        {
          "output_type": "stream",
          "name": "stdout",
          "text": [
            "INFO:tensorflow:Assets written to: /content/gdrive/My Drive/Colab Notebooks/cycleGAN/monet2photo_out/gan_model/assets\n"
          ]
        },
        {
          "output_type": "stream",
          "name": "stderr",
          "text": [
            "INFO:tensorflow:Assets written to: /content/gdrive/My Drive/Colab Notebooks/cycleGAN/monet2photo_out/gan_model/assets\n",
            "WARNING:absl:Found untraced functions such as leaky_re_lu_layer_call_fn, leaky_re_lu_layer_call_and_return_conditional_losses, leaky_re_lu_1_layer_call_fn, leaky_re_lu_1_layer_call_and_return_conditional_losses, leaky_re_lu_2_layer_call_fn while saving (showing 5 of 20). These functions will not be directly callable after loading.\n"
          ]
        },
        {
          "output_type": "stream",
          "name": "stdout",
          "text": [
            "INFO:tensorflow:Assets written to: /content/gdrive/My Drive/Colab Notebooks/cycleGAN/monet2photo_out/generator_A_to_B/assets\n"
          ]
        },
        {
          "output_type": "stream",
          "name": "stderr",
          "text": [
            "INFO:tensorflow:Assets written to: /content/gdrive/My Drive/Colab Notebooks/cycleGAN/monet2photo_out/generator_A_to_B/assets\n",
            "WARNING:absl:Found untraced functions such as leaky_re_lu_4_layer_call_fn, leaky_re_lu_4_layer_call_and_return_conditional_losses, leaky_re_lu_5_layer_call_fn, leaky_re_lu_5_layer_call_and_return_conditional_losses, leaky_re_lu_6_layer_call_fn while saving (showing 5 of 20). These functions will not be directly callable after loading.\n"
          ]
        },
        {
          "output_type": "stream",
          "name": "stdout",
          "text": [
            "INFO:tensorflow:Assets written to: /content/gdrive/My Drive/Colab Notebooks/cycleGAN/monet2photo_out/generator_B_to_A/assets\n"
          ]
        },
        {
          "output_type": "stream",
          "name": "stderr",
          "text": [
            "INFO:tensorflow:Assets written to: /content/gdrive/My Drive/Colab Notebooks/cycleGAN/monet2photo_out/generator_B_to_A/assets\n",
            "WARNING:absl:Found untraced functions such as leaky_re_lu_8_layer_call_fn, leaky_re_lu_8_layer_call_and_return_conditional_losses, leaky_re_lu_9_layer_call_fn, leaky_re_lu_9_layer_call_and_return_conditional_losses, leaky_re_lu_10_layer_call_fn while saving (showing 5 of 20). These functions will not be directly callable after loading.\n"
          ]
        },
        {
          "output_type": "stream",
          "name": "stdout",
          "text": [
            "INFO:tensorflow:Assets written to: /content/gdrive/My Drive/Colab Notebooks/cycleGAN/monet2photo_out/discriminator_A/assets\n"
          ]
        },
        {
          "output_type": "stream",
          "name": "stderr",
          "text": [
            "INFO:tensorflow:Assets written to: /content/gdrive/My Drive/Colab Notebooks/cycleGAN/monet2photo_out/discriminator_A/assets\n",
            "WARNING:absl:Found untraced functions such as leaky_re_lu_12_layer_call_fn, leaky_re_lu_12_layer_call_and_return_conditional_losses, leaky_re_lu_13_layer_call_fn, leaky_re_lu_13_layer_call_and_return_conditional_losses, leaky_re_lu_14_layer_call_fn while saving (showing 5 of 20). These functions will not be directly callable after loading.\n"
          ]
        },
        {
          "output_type": "stream",
          "name": "stdout",
          "text": [
            "INFO:tensorflow:Assets written to: /content/gdrive/My Drive/Colab Notebooks/cycleGAN/monet2photo_out/discriminator_B/assets\n"
          ]
        },
        {
          "output_type": "stream",
          "name": "stderr",
          "text": [
            "INFO:tensorflow:Assets written to: /content/gdrive/My Drive/Colab Notebooks/cycleGAN/monet2photo_out/discriminator_B/assets\n"
          ]
        },
        {
          "output_type": "stream",
          "name": "stdout",
          "text": [
            "Epoch: 1 Batch: 401, [Discriminator_A :: Loss: 0.12278630869695917], [ Generator :: Loss: [0.7394998669624329, 0.0006331942859105766, 0.0, 0.033934902399778366, 0.02922215685248375, 0.06250234693288803, 0.0447937473654747]]\n",
            "Epoch: 1 Batch: 402, [Discriminator_A :: Loss: 0.00025222526164725423], [ Generator :: Loss: [1.2086127996444702, 0.0002605317858979106, 0.0, 0.06163758039474487, 0.0405886210501194, 0.11672818660736084, 0.06936206668615341]]\n",
            "Epoch: 1 Batch: 403, [Discriminator_A :: Loss: 0.2397108802688308], [ Generator :: Loss: [1.0699524879455566, 0.0016552448505535722, 0.0, 0.0469147227704525, 0.04638858512043953, 0.06779488921165466, 0.06746929883956909]]\n",
            "Epoch: 1 Batch: 404, [Discriminator_A :: Loss: 0.05395725986454636], [ Generator :: Loss: [0.851213812828064, 0.0014827557606622577, 0.0, 0.039040736854076385, 0.03528758883476257, 0.05788203701376915, 0.048565711826086044]]\n",
            "Epoch: 1 Batch: 405, [Discriminator_A :: Loss: 0.4034414400230162], [ Generator :: Loss: [0.7856817841529846, 0.0028252326883375645, 0.0, 0.017842166125774384, 0.05129455029964447, 0.03590955585241318, 0.05557979270815849]]\n",
            "Epoch: 1 Batch: 406, [Discriminator_A :: Loss: 0.3603025757474825], [ Generator :: Loss: [0.7212117314338684, 0.0015913255047053099, 0.0, 0.034434784203767776, 0.030207091942429543, 0.03511425107717514, 0.0380873903632164]]\n",
            "Epoch: 1 Batch: 407, [Discriminator_A :: Loss: 0.003749098163098097], [ Generator :: Loss: [0.9650462865829468, 0.0030494402162730694, 0.0, 0.048750512301921844, 0.03636571392416954, 0.06788412481546402, 0.04295048117637634]]\n",
            "Epoch: 1 Batch: 408, [Discriminator_A :: Loss: 0.005773824639618397], [ Generator :: Loss: [0.8715346455574036, 0.007546927779912949, 0.0, 0.03790703043341637, 0.03559161350131035, 0.07692110538482666, 0.05208014324307442]]\n",
            "Epoch: 1 Batch: 409, [Discriminator_A :: Loss: 0.4937828575493768], [ Generator :: Loss: [2.570497989654541, 0.8875899910926819, 1.0, 0.025310445576906204, 0.03335912898182869, 0.043763089925050735, 0.052449148148298264]]\n",
            "Epoch: 1 Batch: 410, [Discriminator_A :: Loss: 0.02266993373632431], [ Generator :: Loss: [1.0046639442443848, 0.010871992446482182, 0.0, 0.05020205304026604, 0.035981208086013794, 0.08112893998622894, 0.050830453634262085]]\n",
            "Epoch: 1 Batch: 411, [Discriminator_A :: Loss: 0.0006057589926058426], [ Generator :: Loss: [1.0171984434127808, 0.0014484146377071738, 0.0, 0.05437108501791954, 0.03207840025424957, 0.09573689103126526, 0.05551828816533089]]\n",
            "Epoch: 1 Batch: 412, [Discriminator_A :: Loss: 0.062203785051679006], [ Generator :: Loss: [0.8281490206718445, 8.77103375387378e-05, 0.0, 0.03279080241918564, 0.040234439074993134, 0.055078696459531784, 0.04273013770580292]]\n",
            "Epoch: 1 Batch: 413, [Discriminator_A :: Loss: 0.07528251595795155], [ Generator :: Loss: [0.7628747820854187, 0.008905698545277119, 0.0, 0.03686312586069107, 0.02828359790146351, 0.05500471219420433, 0.04749712347984314]]\n",
            "Epoch: 1 Batch: 414, [Discriminator_A :: Loss: 0.3306608967250213], [ Generator :: Loss: [1.1422947645187378, 0.0012243802193552256, 0.0, 0.04522303491830826, 0.05611254647374153, 0.05598708614706993, 0.07172749936580658]]\n",
            "Epoch: 1 Batch: 415, [Discriminator_A :: Loss: 0.11157521765562706], [ Generator :: Loss: [0.7928034067153931, 0.00047760960296727717, 0.0, 0.03305544704198837, 0.03622932359576225, 0.05134333297610283, 0.048134736716747284]]\n",
            "Epoch: 1 Batch: 416, [Discriminator_A :: Loss: 0.4071929734200239], [ Generator :: Loss: [0.9294297695159912, 0.002584265312179923, 0.0, 0.04279119893908501, 0.04278281331062317, 0.04588765278458595, 0.02521774172782898]]\n",
            "Epoch: 1 Batch: 417, [Discriminator_A :: Loss: 0.29138826252892613], [ Generator :: Loss: [0.8513038158416748, 0.0019951732829213142, 0.0, 0.041682299226522446, 0.03193792700767517, 0.0785975530743599, 0.03450879827141762]]\n",
            "Epoch: 1 Batch: 418, [Discriminator_A :: Loss: 0.3519689470922458], [ Generator :: Loss: [0.8616455793380737, 0.00040319323306903243, 0.0, 0.032659128308296204, 0.04240722954273224, 0.05210557207465172, 0.05847325176000595]]\n",
            "Epoch: 1 Batch: 419, [Discriminator_A :: Loss: 0.050607405602931976], [ Generator :: Loss: [0.9435641765594482, 0.011884618550539017, 0.0, 0.04328058660030365, 0.039103321731090546, 0.052495747804641724, 0.05534472316503525]]\n",
            "Epoch: 1 Batch: 420, [Discriminator_A :: Loss: 0.0003890638254233636], [ Generator :: Loss: [1.0568954944610596, 0.0006846482283435762, 0.0, 0.06616166979074478, 0.029346561059355736, 0.06255264580249786, 0.03857596963644028]]\n",
            "Epoch: 1 Batch: 421, [Discriminator_A :: Loss: 0.45613110525300726], [ Generator :: Loss: [0.8018839955329895, 0.0016546192346140742, 0.0, 0.03980148211121559, 0.029443388804793358, 0.06675682216882706, 0.04102384299039841]]\n",
            "Epoch: 1 Batch: 422, [Discriminator_A :: Loss: 0.2801000858307816], [ Generator :: Loss: [0.9061921238899231, 0.0006719068624079227, 0.0, 0.035623520612716675, 0.04467900097370148, 0.04928336292505264, 0.05321164056658745]]\n",
            "Epoch: 1 Batch: 423, [Discriminator_A :: Loss: 0.41549272096017376], [ Generator :: Loss: [2.623734951019287, 0.9349835515022278, 1.0, 0.027195360511541367, 0.031510014086961746, 0.049135807901620865, 0.05256183445453644]]\n",
            "Epoch: 1 Batch: 424, [Discriminator_A :: Loss: 0.007577260228572413], [ Generator :: Loss: [1.1425013542175293, 0.015987463295459747, 0.0, 0.04864848405122757, 0.05090299993753433, 0.06570962071418762, 0.06528949737548828]]\n",
            "Epoch: 1 Batch: 425, [Discriminator_A :: Loss: 0.45366562565322965], [ Generator :: Loss: [0.5514208078384399, 0.0025823870673775673, 0.0, 0.01641959697008133, 0.030411558225750923, 0.038448989391326904, 0.042077865451574326]]\n",
            "Epoch: 1 Batch: 426, [Discriminator_A :: Loss: 0.4326564123039134], [ Generator :: Loss: [0.6100451350212097, 0.0002248422388220206, 0.0, 0.022759659215807915, 0.030264923349022865, 0.029888568446040154, 0.049685943871736526]]\n",
            "Epoch: 1 Batch: 427, [Discriminator_A :: Loss: 0.005916416354011744], [ Generator :: Loss: [0.8751170039176941, 0.0010158492950722575, 0.0, 0.03738050535321236, 0.03876131400465965, 0.05790121480822563, 0.054781723767519]]\n",
            "Epoch: 1 Batch: 428, [Discriminator_A :: Loss: 0.36532101198099554], [ Generator :: Loss: [1.12538480758667, 0.002624392043799162, 0.0, 0.06148482486605644, 0.04056450352072716, 0.04272371158003807, 0.0595434196293354]]\n",
            "Epoch: 1 Batch: 429, [Discriminator_A :: Loss: 0.29628763924119994], [ Generator :: Loss: [0.815099835395813, 0.0007088545244187117, 0.0, 0.03495282307267189, 0.0355859249830246, 0.05455473065376282, 0.05444881319999695]]\n",
            "Epoch: 1 Batch: 430, [Discriminator_A :: Loss: 0.033561706834007055], [ Generator :: Loss: [1.040196418762207, 0.0006325645372271538, 0.0, 0.04185989126563072, 0.0496886745095253, 0.057146426290273666, 0.06693172454833984]]\n",
            "Epoch: 1 Batch: 431, [Discriminator_A :: Loss: 0.4519269003649242], [ Generator :: Loss: [0.7098244428634644, 0.0005276190931908786, 0.0, 0.026805972680449486, 0.03411389887332916, 0.04558621346950531, 0.054511912167072296]]\n",
            "Epoch: 1 Batch: 432, [Discriminator_A :: Loss: 0.04225286320433952], [ Generator :: Loss: [0.8199194073677063, 0.0011594787938520312, 0.0, 0.03505973145365715, 0.03501538559794426, 0.0669047087430954, 0.05110402777791023]]\n",
            "Epoch: 1 Batch: 433, [Discriminator_A :: Loss: 0.028973100357688963], [ Generator :: Loss: [0.8091637492179871, 0.0009018875425681472, 0.0, 0.03802254796028137, 0.03233549743890762, 0.05743987113237381, 0.04724154621362686]]\n",
            "Epoch: 1 Batch: 434, [Discriminator_A :: Loss: 0.45676582492887974], [ Generator :: Loss: [0.9424982070922852, 0.00746749946847558, 0.0, 0.04700261354446411, 0.03447285667061806, 0.06564584374427795, 0.05463016405701637]]\n",
            "Epoch: 1 Batch: 435, [Discriminator_A :: Loss: 0.2743987166322768], [ Generator :: Loss: [0.792236328125, 0.024929145351052284, 0.0, 0.032011713832616806, 0.03419174998998642, 0.06358852982521057, 0.041683975607156754]]\n",
            "Epoch: 1 Batch: 436, [Discriminator_A :: Loss: 0.36408440105151385], [ Generator :: Loss: [0.6050549745559692, 0.0036512217484414577, 0.0, 0.02621215581893921, 0.02572837471961975, 0.04183697700500488, 0.040161505341529846]]\n",
            "Epoch: 1 Batch: 437, [Discriminator_A :: Loss: 0.1482925617165165], [ Generator :: Loss: [0.7976248860359192, 0.00045502479770220816, 0.0, 0.03573524206876755, 0.03324485570192337, 0.05917993560433388, 0.04818896949291229]]\n",
            "Epoch: 1 Batch: 438, [Discriminator_A :: Loss: 0.06787768076173961], [ Generator :: Loss: [2.852186441421509, 0.9003061056137085, 1.0, 0.05740470066666603, 0.02813345193862915, 0.05051548033952713, 0.04598324000835419]]\n",
            "Epoch: 1 Batch: 439, [Discriminator_A :: Loss: 0.05608764446515124], [ Generator :: Loss: [0.9618934988975525, 0.00047014892334118485, 0.0, 0.03363463282585144, 0.050715379416942596, 0.052291445434093475, 0.06563175469636917]]\n",
            "Epoch: 1 Batch: 440, [Discriminator_A :: Loss: 0.14322713799629128], [ Generator :: Loss: [0.8491072654724121, 0.0005760852945968509, 0.0, 0.03057478368282318, 0.0424424447119236, 0.05118732899427414, 0.06717158854007721]]\n",
            "Epoch: 1 Batch: 441, [Discriminator_A :: Loss: 0.340485108201392], [ Generator :: Loss: [0.8443670272827148, 0.007532580755650997, 0.0, 0.03241734579205513, 0.03941729664802551, 0.05521020665764809, 0.06327779591083527]]\n",
            "Epoch: 1 Batch: 442, [Discriminator_A :: Loss: 0.0007199733263405506], [ Generator :: Loss: [0.7287579774856567, 0.0013971292646601796, 0.0, 0.03189845755696297, 0.03136838227510452, 0.0514766126871109, 0.04321586713194847]]\n",
            "Epoch: 1 Batch: 443, [Discriminator_A :: Loss: 0.00040502672345610335], [ Generator :: Loss: [0.8784592151641846, 0.0002477543894201517, 0.0, 0.04410603642463684, 0.033615004271268845, 0.06405748426914215, 0.03694353625178337]]\n",
            "Epoch: 1 Batch: 444, [Discriminator_A :: Loss: 0.2535727322101593], [ Generator :: Loss: [0.8591663837432861, 0.035200946033000946, 0.0, 0.0361035093665123, 0.034720391035079956, 0.06647296994924545, 0.04925347864627838]]\n",
            "Epoch: 1 Batch: 445, [Discriminator_A :: Loss: 0.02174368768464774], [ Generator :: Loss: [0.8824324607849121, 0.041600313037633896, 0.0, 0.03369778022170067, 0.03877250477671623, 0.058861952275037766, 0.05726735666394234]]\n",
            "Epoch: 1 Batch: 446, [Discriminator_A :: Loss: 0.005309624772053212], [ Generator :: Loss: [0.9988421201705933, 0.0012776002986356616, 0.0, 0.05024005472660065, 0.03880694508552551, 0.05791347101330757, 0.049181122332811356]]\n",
            "Epoch: 1 Batch: 447, [Discriminator_A :: Loss: 0.31605516345007345], [ Generator :: Loss: [0.838641881942749, 0.0005642384057864547, 0.0, 0.033242326229810715, 0.04024234414100647, 0.051302243024110794, 0.05192871019244194]]\n",
            "Epoch: 1 Batch: 448, [Discriminator_A :: Loss: 0.4599644746776903], [ Generator :: Loss: [0.7748990058898926, 0.00037040322786197066, 0.0, 0.03338702768087387, 0.033238302916288376, 0.059139497578144073, 0.0491357296705246]]\n",
            "Epoch: 1 Batch: 449, [Discriminator_A :: Loss: 0.0006040286243660375], [ Generator :: Loss: [0.9682824611663818, 0.0011422469979152083, 0.0, 0.05469699203968048, 0.03066522628068924, 0.06748431921005249, 0.046033792197704315]]\n",
            "Epoch: 1 Batch: 450, [Discriminator_A :: Loss: 0.01987619139254093], [ Generator :: Loss: [0.8442818522453308, 0.00796386506408453, 0.0, 0.04110097512602806, 0.03103497624397278, 0.06960179656744003, 0.04535667970776558]]\n",
            "Epoch: 1 Batch: 451, [Discriminator_A :: Loss: 0.4726241461466998], [ Generator :: Loss: [0.8084931373596191, 0.03579586744308472, 0.0, 0.027131035923957825, 0.03871211037039757, 0.046992480754852295, 0.06727331876754761]]\n",
            "Epoch: 1 Batch: 452, [Discriminator_A :: Loss: 0.001701112138107419], [ Generator :: Loss: [1.0543088912963867, 0.0010985996341332793, 0.0, 0.05220227316021919, 0.03952759504318237, 0.07855227589607239, 0.057359419763088226]]\n",
            "Epoch: 1 Batch: 453, [Discriminator_A :: Loss: 0.4956198800355196], [ Generator :: Loss: [0.9009354114532471, 0.002072347793728113, 0.0, 0.03870125859975815, 0.03958787024021149, 0.05253833532333374, 0.0634334534406662]]\n",
            "Epoch: 1 Batch: 454, [Discriminator_A :: Loss: 8.524984150426462e-05], [ Generator :: Loss: [0.8614568710327148, 0.0001160640167654492, 0.0, 0.04454377293586731, 0.029434792697429657, 0.0788104236125946, 0.04274474084377289]]\n",
            "Epoch: 1 Batch: 455, [Discriminator_A :: Loss: 0.3695348236360587], [ Generator :: Loss: [0.6858228445053101, 0.0005830015288665891, 0.0, 0.03079886920750141, 0.028605647385120392, 0.04637657850980759, 0.044818099588155746]]\n",
            "Epoch: 1 Batch: 456, [Discriminator_A :: Loss: 0.21974394703283906], [ Generator :: Loss: [0.8297282457351685, 0.0023462525568902493, 0.0, 0.025868725031614304, 0.04655864089727402, 0.035663045942783356, 0.06744521856307983]]\n",
            "Epoch: 1 Batch: 457, [Discriminator_A :: Loss: 0.14486901575583033], [ Generator :: Loss: [0.8269498944282532, 0.000644829124212265, 0.0, 0.037229135632514954, 0.0349770225584507, 0.051190488040447235, 0.053052984178066254]]\n",
            "Epoch: 1 Batch: 458, [Discriminator_A :: Loss: 0.4392320199403912], [ Generator :: Loss: [0.5993577837944031, 0.0054147131741046906, 0.0, 0.02801886573433876, 0.024456389248371124, 0.03309258818626404, 0.036097925156354904]]\n",
            "Epoch: 1 Batch: 459, [Discriminator_A :: Loss: 0.00039434451900888234], [ Generator :: Loss: [1.0100183486938477, 0.0004883850342594087, 0.0, 0.044725194573402405, 0.04354424029588699, 0.06745989620685577, 0.059375740587711334]]\n",
            "Epoch: 1 Batch: 460, [Discriminator_A :: Loss: 0.4198870522232028], [ Generator :: Loss: [0.7543705701828003, 0.0004545570118352771, 0.0, 0.03906693682074547, 0.026373106986284256, 0.05394633486866951, 0.04556926339864731]]\n",
            "Epoch: 1 Batch: 461, [Discriminator_A :: Loss: 0.4231486429926008], [ Generator :: Loss: [0.8893405199050903, 0.0024814093485474586, 0.0, 0.04286450892686844, 0.034266725182533264, 0.06280235946178436, 0.052744414657354355]]\n",
            "Epoch: 1 Batch: 462, [Discriminator_A :: Loss: 0.1616297413711436], [ Generator :: Loss: [0.9880111813545227, 0.0007843403145670891, 0.0, 0.05060005560517311, 0.035137392580509186, 0.0773228257894516, 0.05252951383590698]]\n",
            "Epoch: 1 Batch: 463, [Discriminator_A :: Loss: 0.1566399357689079], [ Generator :: Loss: [0.793291449546814, 0.0004993366310372949, 0.0, 0.031395457684993744, 0.03712921962141991, 0.05324620008468628, 0.05429910123348236]]\n",
            "Epoch: 1 Batch: 464, [Discriminator_A :: Loss: 0.0002447546848998172], [ Generator :: Loss: [0.9114508032798767, 0.0004228102625347674, 0.0, 0.041561659425497055, 0.03847160190343857, 0.06975559145212173, 0.04093978554010391]]\n",
            "Epoch: 1 Batch: 465, [Discriminator_A :: Loss: 0.007854533847421408], [ Generator :: Loss: [1.0184650421142578, 0.0013454954605549574, 0.0, 0.050867367535829544, 0.03571039438247681, 0.09825099259614944, 0.05309099704027176]]\n",
            "Epoch: 1 Batch: 466, [Discriminator_A :: Loss: 0.480917215012596], [ Generator :: Loss: [0.7896085977554321, 0.0008254936547018588, 0.0, 0.029891053214669228, 0.03882531821727753, 0.046565692871809006, 0.0550537183880806]]\n",
            "Epoch: 1 Batch: 467, [Discriminator_A :: Loss: 0.4197581508924486], [ Generator :: Loss: [0.799573540687561, 0.0007702485891059041, 0.0, 0.03608335182070732, 0.03126811981201172, 0.06805777549743652, 0.05723077803850174]]\n",
            "Epoch: 1 Batch: 468, [Discriminator_A :: Loss: 0.022309644613415003], [ Generator :: Loss: [0.8027410507202148, 0.017673438414931297, 0.0, 0.036472417414188385, 0.03086233139038086, 0.07126493006944656, 0.040455207228660583]]\n",
            "Epoch: 1 Batch: 469, [Discriminator_A :: Loss: 0.4907786547410069], [ Generator :: Loss: [0.6436566710472107, 0.0006960586179047823, 0.0, 0.019711565226316452, 0.03483877703547478, 0.04240848496556282, 0.05504870042204857]]\n",
            "Epoch: 1 Batch: 470, [Discriminator_A :: Loss: 0.3241307169373613], [ Generator :: Loss: [3.1025681495666504, 0.9564328789710999, 1.0, 0.0478842630982399, 0.05062725394964218, 0.0837847888469696, 0.07723535597324371]]\n",
            "Epoch: 1 Batch: 471, [Discriminator_A :: Loss: 0.0431837048381567], [ Generator :: Loss: [0.8477305769920349, 0.0010983862448483706, 0.0, 0.04018083214759827, 0.03418771177530289, 0.06890937685966492, 0.03403737396001816]]\n",
            "Epoch: 1 Batch: 472, [Discriminator_A :: Loss: 0.16752145439386368], [ Generator :: Loss: [0.9201990962028503, 0.010174867697060108, 0.0, 0.04464035853743553, 0.03485332801938057, 0.06489051133394241, 0.050196852535009384]]\n",
            "Epoch: 1 Batch: 473, [Discriminator_A :: Loss: 0.0750806387513876], [ Generator :: Loss: [0.9149203896522522, 0.006209490355104208, 0.0, 0.037266600877046585, 0.044134676456451416, 0.058733850717544556, 0.03596426919102669]]\n",
            "Epoch: 1 Batch: 474, [Discriminator_A :: Loss: 0.47451492433901876], [ Generator :: Loss: [0.8326478004455566, 0.00046508607920259237, 0.0, 0.03542634844779968, 0.03748338669538498, 0.04444154351949692, 0.058643829077482224]]\n",
            "Epoch: 1 Batch: 475, [Discriminator_A :: Loss: 0.1803957635711413], [ Generator :: Loss: [0.7809762954711914, 0.0001422265195287764, 0.0, 0.033368393778800964, 0.03537074103951454, 0.054463453590869904, 0.038979269564151764]]\n",
            "Epoch: 1 Batch: 476, [Discriminator_A :: Loss: 0.07276720626396127], [ Generator :: Loss: [0.9503200054168701, 0.002246635500341654, 0.0, 0.03555088862776756, 0.048562705516815186, 0.04499232396483421, 0.06194513291120529]]\n",
            "Epoch: 1 Batch: 477, [Discriminator_A :: Loss: 0.09845004323869944], [ Generator :: Loss: [0.9927123188972473, 0.1496046483516693, 0.0, 0.034145087003707886, 0.039429280906915665, 0.055504146963357925, 0.05185989290475845]]\n",
            "Epoch: 1 Batch: 478, [Discriminator_A :: Loss: 0.3399804204236716], [ Generator :: Loss: [0.938896894454956, 0.00496343057602644, 0.0, 0.04099728539586067, 0.03841543570160866, 0.0865907073020935, 0.05321551114320755]]\n",
            "Epoch: 1 Batch: 479, [Discriminator_A :: Loss: 0.4366659978404641], [ Generator :: Loss: [0.7208545207977295, 0.021840250119566917, 0.0, 0.029296014457941055, 0.03158573806285858, 0.04866451397538185, 0.041532255709171295]]\n",
            "Epoch: 1 Batch: 480, [Discriminator_A :: Loss: 0.44917983014602214], [ Generator :: Loss: [0.8444873690605164, 0.00381866586394608, 0.0, 0.027218669652938843, 0.045008547604084015, 0.04830396547913551, 0.07009254395961761]]\n",
            "Epoch: 1 Batch: 481, [Discriminator_A :: Loss: 0.06021199992392212], [ Generator :: Loss: [0.8591309785842896, 0.0008226704085245728, 0.0, 0.04437810927629471, 0.031051672995090485, 0.05891558527946472, 0.04509492963552475]]\n",
            "Epoch: 1 Batch: 482, [Discriminator_A :: Loss: 0.037182394531555474], [ Generator :: Loss: [0.8311488032341003, 0.0011730312835425138, 0.0, 0.038119275122880936, 0.03269848972558975, 0.06946210563182831, 0.05233605206012726]]\n",
            "Epoch: 1 Batch: 483, [Discriminator_A :: Loss: 0.28764835151378065], [ Generator :: Loss: [0.9423680305480957, 0.015869703143835068, 0.0, 0.041694480925798416, 0.03817581385374069, 0.06392326205968857, 0.06387209892272949]]\n",
            "Epoch: 1 Batch: 484, [Discriminator_A :: Loss: 0.004168278421275318], [ Generator :: Loss: [0.9506282806396484, 0.00024105471675284207, 0.0, 0.04042360931634903, 0.04139421135187149, 0.07035486400127411, 0.061854179948568344]]\n",
            "Epoch: 1 Batch: 485, [Discriminator_A :: Loss: 0.4856723246339243], [ Generator :: Loss: [0.8930153846740723, 0.001536771422252059, 0.0, 0.03591051697731018, 0.04026482254266739, 0.0612768679857254, 0.06844836473464966]]\n",
            "Epoch: 1 Batch: 486, [Discriminator_A :: Loss: 0.016738276870455593], [ Generator :: Loss: [0.8171347379684448, 0.0008600574801675975, 0.0, 0.036871280521154404, 0.03199627995491028, 0.07464230060577393, 0.052956726402044296]]\n",
            "Epoch: 1 Batch: 487, [Discriminator_A :: Loss: 0.12928410546737723], [ Generator :: Loss: [2.6327946186065674, 0.9340847730636597, 1.0, 0.025196101516485214, 0.035137925297021866, 0.0403064489364624, 0.05506325140595436]]\n",
            "Epoch: 1 Batch: 488, [Discriminator_A :: Loss: 0.15322654880583286], [ Generator :: Loss: [0.8030117154121399, 0.0007711057551205158, 0.0, 0.03492956608533859, 0.03537627309560776, 0.05300396680831909, 0.046178240329027176]]\n",
            "Epoch: 1 Batch: 489, [Discriminator_A :: Loss: 0.0006366551097016782], [ Generator :: Loss: [0.9375833868980408, 0.0008894116617739201, 0.0, 0.04543318599462509, 0.03419574350118637, 0.08694823831319809, 0.0534563884139061]]\n",
            "Epoch: 1 Batch: 490, [Discriminator_A :: Loss: 0.06050391565077007], [ Generator :: Loss: [0.8733603954315186, 0.000475756503874436, 0.0, 0.039272651076316833, 0.036159954965114594, 0.05626268684864044, 0.06229589879512787]]\n",
            "Epoch: 1 Batch: 491, [Discriminator_A :: Loss: 0.016455434342788067], [ Generator :: Loss: [0.7730290293693542, 7.728953642072156e-05, 0.0, 0.040145840495824814, 0.02701464667916298, 0.06523832678794861, 0.03610854968428612]]\n",
            "Epoch: 1 Batch: 492, [Discriminator_A :: Loss: 0.22033041389659047], [ Generator :: Loss: [0.8127936124801636, 0.002520535374060273, 0.0, 0.0385301411151886, 0.03116685524582863, 0.06822536140680313, 0.04507775232195854]]\n",
            "Epoch: 1 Batch: 493, [Discriminator_A :: Loss: 0.46092722364119254], [ Generator :: Loss: [0.4656393527984619, 0.0001873457949841395, 0.0, 0.012763451784849167, 0.027264868840575218, 0.023776724934577942, 0.04139206185936928]]\n",
            "Epoch: 1 Batch: 494, [Discriminator_A :: Loss: 0.3855091448058374], [ Generator :: Loss: [0.8053699731826782, 0.0049538020975887775, 0.0, 0.02920198254287243, 0.04077419266104698, 0.0528494268655777, 0.04780501127243042]]\n",
            "Epoch: 1 Batch: 495, [Discriminator_A :: Loss: 0.044764088837837335], [ Generator :: Loss: [2.7622439861297607, 0.979646623134613, 1.0, 0.03941066563129425, 0.02843904122710228, 0.06187926232814789, 0.0422210767865181]]\n",
            "Epoch: 1 Batch: 496, [Discriminator_A :: Loss: 0.005505062756128609], [ Generator :: Loss: [1.06300687789917, 0.002938673133030534, 0.0, 0.05476338788866997, 0.03845489025115967, 0.07823066413402557, 0.04965467005968094]]\n",
            "Epoch: 1 Batch: 497, [Discriminator_A :: Loss: 0.001286377155338414], [ Generator :: Loss: [0.8920401334762573, 0.000143441793625243, 0.0, 0.04181608930230141, 0.03687217831611633, 0.053044307976961136, 0.051969729363918304]]\n",
            "Epoch: 1 Batch: 498, [Discriminator_A :: Loss: 0.4340782632352784], [ Generator :: Loss: [0.6987545490264893, 0.00043389035272412, 0.0, 0.029096536338329315, 0.030842559412121773, 0.04356468468904495, 0.05536499619483948]]\n",
            "Epoch: 1 Batch: 499, [Discriminator_A :: Loss: 0.4770928369835019], [ Generator :: Loss: [0.8963371515274048, 0.014853977598249912, 0.0, 0.03845258802175522, 0.039634741842746735, 0.0567704476416111, 0.043839454650878906]]\n",
            "Epoch: 1 Batch: 500, [Discriminator_A :: Loss: 0.016605843640718376], [ Generator :: Loss: [2.8331987857818604, 0.7222860455513, 1.0, 0.04776656627655029, 0.050434187054634094, 0.0798770934343338, 0.04902809485793114]]\n",
            "Image_A shape: (64, 64, 3)\n",
            "fake_B shape: (64, 64, 3)\n",
            "reconstructed_A shape: (64, 64, 3)\n"
          ]
        },
        {
          "output_type": "stream",
          "name": "stderr",
          "text": [
            "WARNING:absl:Found untraced functions such as leaky_re_lu_4_layer_call_fn, leaky_re_lu_4_layer_call_and_return_conditional_losses, leaky_re_lu_5_layer_call_fn, leaky_re_lu_5_layer_call_and_return_conditional_losses, leaky_re_lu_6_layer_call_fn while saving (showing 5 of 80). These functions will not be directly callable after loading.\n"
          ]
        },
        {
          "output_type": "stream",
          "name": "stdout",
          "text": [
            "INFO:tensorflow:Assets written to: /content/gdrive/My Drive/Colab Notebooks/cycleGAN/monet2photo_out/gan_model/assets\n"
          ]
        },
        {
          "output_type": "stream",
          "name": "stderr",
          "text": [
            "INFO:tensorflow:Assets written to: /content/gdrive/My Drive/Colab Notebooks/cycleGAN/monet2photo_out/gan_model/assets\n",
            "WARNING:absl:Found untraced functions such as leaky_re_lu_layer_call_fn, leaky_re_lu_layer_call_and_return_conditional_losses, leaky_re_lu_1_layer_call_fn, leaky_re_lu_1_layer_call_and_return_conditional_losses, leaky_re_lu_2_layer_call_fn while saving (showing 5 of 20). These functions will not be directly callable after loading.\n"
          ]
        },
        {
          "output_type": "stream",
          "name": "stdout",
          "text": [
            "INFO:tensorflow:Assets written to: /content/gdrive/My Drive/Colab Notebooks/cycleGAN/monet2photo_out/generator_A_to_B/assets\n"
          ]
        },
        {
          "output_type": "stream",
          "name": "stderr",
          "text": [
            "INFO:tensorflow:Assets written to: /content/gdrive/My Drive/Colab Notebooks/cycleGAN/monet2photo_out/generator_A_to_B/assets\n",
            "WARNING:absl:Found untraced functions such as leaky_re_lu_4_layer_call_fn, leaky_re_lu_4_layer_call_and_return_conditional_losses, leaky_re_lu_5_layer_call_fn, leaky_re_lu_5_layer_call_and_return_conditional_losses, leaky_re_lu_6_layer_call_fn while saving (showing 5 of 20). These functions will not be directly callable after loading.\n"
          ]
        },
        {
          "output_type": "stream",
          "name": "stdout",
          "text": [
            "INFO:tensorflow:Assets written to: /content/gdrive/My Drive/Colab Notebooks/cycleGAN/monet2photo_out/generator_B_to_A/assets\n"
          ]
        },
        {
          "output_type": "stream",
          "name": "stderr",
          "text": [
            "INFO:tensorflow:Assets written to: /content/gdrive/My Drive/Colab Notebooks/cycleGAN/monet2photo_out/generator_B_to_A/assets\n",
            "WARNING:absl:Found untraced functions such as leaky_re_lu_8_layer_call_fn, leaky_re_lu_8_layer_call_and_return_conditional_losses, leaky_re_lu_9_layer_call_fn, leaky_re_lu_9_layer_call_and_return_conditional_losses, leaky_re_lu_10_layer_call_fn while saving (showing 5 of 20). These functions will not be directly callable after loading.\n"
          ]
        },
        {
          "output_type": "stream",
          "name": "stdout",
          "text": [
            "INFO:tensorflow:Assets written to: /content/gdrive/My Drive/Colab Notebooks/cycleGAN/monet2photo_out/discriminator_A/assets\n"
          ]
        },
        {
          "output_type": "stream",
          "name": "stderr",
          "text": [
            "INFO:tensorflow:Assets written to: /content/gdrive/My Drive/Colab Notebooks/cycleGAN/monet2photo_out/discriminator_A/assets\n",
            "WARNING:absl:Found untraced functions such as leaky_re_lu_12_layer_call_fn, leaky_re_lu_12_layer_call_and_return_conditional_losses, leaky_re_lu_13_layer_call_fn, leaky_re_lu_13_layer_call_and_return_conditional_losses, leaky_re_lu_14_layer_call_fn while saving (showing 5 of 20). These functions will not be directly callable after loading.\n"
          ]
        },
        {
          "output_type": "stream",
          "name": "stdout",
          "text": [
            "INFO:tensorflow:Assets written to: /content/gdrive/My Drive/Colab Notebooks/cycleGAN/monet2photo_out/discriminator_B/assets\n"
          ]
        },
        {
          "output_type": "stream",
          "name": "stderr",
          "text": [
            "INFO:tensorflow:Assets written to: /content/gdrive/My Drive/Colab Notebooks/cycleGAN/monet2photo_out/discriminator_B/assets\n"
          ]
        },
        {
          "output_type": "stream",
          "name": "stdout",
          "text": [
            "Epoch: 1 Batch: 501, [Discriminator_A :: Loss: 0.4123308102134615], [ Generator :: Loss: [0.7067852020263672, 0.003447610652074218, 0.0, 0.015586229972541332, 0.044922083616256714, 0.03030530922114849, 0.06794913858175278]]\n",
            "Epoch: 1 Batch: 502, [Discriminator_A :: Loss: 0.024655211716890335], [ Generator :: Loss: [0.9489865303039551, 0.025121480226516724, 0.0, 0.03514203056693077, 0.044623877853155136, 0.04644908383488655, 0.07975684851408005]]\n",
            "Epoch: 1 Batch: 503, [Discriminator_A :: Loss: 0.3032014679047279], [ Generator :: Loss: [1.0092787742614746, 0.0013684708392247558, 0.0, 0.05501769483089447, 0.03300802409648895, 0.07776287943124771, 0.04989025741815567]]\n",
            "Epoch: 1 Batch: 504, [Discriminator_A :: Loss: 0.006574944993190002], [ Generator :: Loss: [0.958911657333374, 0.00011567136243684217, 0.0, 0.039866164326667786, 0.04245355725288391, 0.07362052798271179, 0.061978213489055634]]\n",
            "Epoch: 1 Batch: 505, [Discriminator_A :: Loss: 0.015879862708970904], [ Generator :: Loss: [0.9775924682617188, 0.010660814121365547, 0.0, 0.04831308498978615, 0.03707683086395264, 0.06676961481571198, 0.046262845396995544]]\n",
            "Epoch: 1 Batch: 506, [Discriminator_A :: Loss: 0.001089696423150599], [ Generator :: Loss: [0.8362711668014526, 0.0007304432219825685, 0.0, 0.036293208599090576, 0.03680659830570221, 0.05479741841554642, 0.049745216965675354]]\n",
            "Epoch: 1 Batch: 507, [Discriminator_A :: Loss: 0.0014612960949307308], [ Generator :: Loss: [0.8187992572784424, 0.004710450302809477, 0.0, 0.0401032492518425, 0.03065740130841732, 0.06368491798639297, 0.04279736429452896]]\n",
            "Epoch: 1 Batch: 508, [Discriminator_A :: Loss: 0.025135124451480806], [ Generator :: Loss: [0.7789136171340942, 0.0013325703330338001, 0.0, 0.041853226721286774, 0.02758616767823696, 0.037374235689640045, 0.04581284150481224]]\n",
            "Epoch: 1 Batch: 509, [Discriminator_A :: Loss: 0.8861970603466034], [ Generator :: Loss: [0.852771520614624, 0.14505377411842346, 0.0, 0.03207230567932129, 0.029515327885746956, 0.040179066359996796, 0.051662325859069824]]\n",
            "Epoch: 1 Batch: 510, [Discriminator_A :: Loss: 0.0023698486911598593], [ Generator :: Loss: [0.7574911117553711, 0.004789206199347973, 0.0, 0.03261392563581467, 0.03305446356534958, 0.045306529849767685, 0.05071144551038742]]\n",
            "Epoch: 1 Batch: 511, [Discriminator_A :: Loss: 0.0002500010814401321], [ Generator :: Loss: [1.0856812000274658, 0.0002939380065072328, 0.0, 0.059137046337127686, 0.03487982600927353, 0.09838118404150009, 0.04683735966682434]]\n",
            "Epoch: 1 Batch: 512, [Discriminator_A :: Loss: 0.11293114662839798], [ Generator :: Loss: [0.7613486051559448, 9.661831427365541e-05, 0.0, 0.033259134739637375, 0.03191646933555603, 0.05693112686276436, 0.0525648295879364]]\n",
            "Epoch: 1 Batch: 513, [Discriminator_A :: Loss: 0.19586295314365998], [ Generator :: Loss: [0.8301827907562256, 0.00108768988866359, 0.0, 0.034719690680503845, 0.036695290356874466, 0.05589895322918892, 0.05904632806777954]]\n",
            "Epoch: 1 Batch: 514, [Discriminator_A :: Loss: 0.028952212363947183], [ Generator :: Loss: [0.8117892742156982, 7.571200694656e-05, 0.0, 0.034184034913778305, 0.03640179708600044, 0.05312580242753029, 0.05272949859499931]]\n",
            "Epoch: 1 Batch: 515, [Discriminator_A :: Loss: 0.03502844460308552], [ Generator :: Loss: [0.9062364101409912, 0.009442274458706379, 0.0, 0.03598996624350548, 0.04061984270811081, 0.06762207299470901, 0.06307398527860641]]\n",
            "Epoch: 1 Batch: 516, [Discriminator_A :: Loss: 0.01624252534020343], [ Generator :: Loss: [2.8127176761627197, 0.9805282354354858, 1.0, 0.037548668682575226, 0.03440025821328163, 0.06094289943575859, 0.051757361739873886]]\n",
            "Epoch: 1 Batch: 517, [Discriminator_A :: Loss: 0.005624010227620602], [ Generator :: Loss: [0.7871192693710327, 0.004705273080617189, 0.0, 0.033285342156887054, 0.034374549984931946, 0.06089462339878082, 0.044920437037944794]]\n",
            "Epoch: 1 Batch: 518, [Discriminator_A :: Loss: 0.0005262088643576135], [ Generator :: Loss: [0.9691545367240906, 0.0007623616838827729, 0.0, 0.04644282907247543, 0.03774842992424965, 0.062424562871456146, 0.06405504792928696]]\n",
            "Epoch: 1 Batch: 519, [Discriminator_A :: Loss: 0.3531004370888695], [ Generator :: Loss: [0.8408652544021606, 0.002017980208620429, 0.0, 0.031518399715423584, 0.042018335312604904, 0.04619936645030975, 0.057280588895082474]]\n",
            "Epoch: 1 Batch: 520, [Discriminator_A :: Loss: 0.33670039288699627], [ Generator :: Loss: [0.8805415630340576, 0.004331775475293398, 0.0, 0.03844079002737999, 0.03816525638103485, 0.05334552749991417, 0.05680379644036293]]\n",
            "Epoch: 1 Batch: 521, [Discriminator_A :: Loss: 0.4700809573987499], [ Generator :: Loss: [0.7478265762329102, 0.0011899047531187534, 0.0, 0.03286082670092583, 0.030438832938671112, 0.07004328072071075, 0.04359672963619232]]\n",
            "Epoch: 1 Batch: 522, [Discriminator_A :: Loss: 0.46333245845744386], [ Generator :: Loss: [2.596698045730591, 0.9416682720184326, 1.0, 0.0340130478143692, 0.023051759228110313, 0.04942689463496208, 0.034954845905303955]]\n",
            "Epoch: 1 Batch: 523, [Discriminator_A :: Loss: 0.37895160651532933], [ Generator :: Loss: [0.8143250942230225, 0.0026147032622247934, 0.0, 0.030555712059140205, 0.039400793612003326, 0.049850478768348694, 0.062294892966747284]]\n",
            "Epoch: 1 Batch: 524, [Discriminator_A :: Loss: 0.06006497856287751], [ Generator :: Loss: [0.8979618549346924, 0.0005257806042209268, 0.0, 0.04016656428575516, 0.03974619507789612, 0.05041529983282089, 0.047893181443214417]]\n",
            "Epoch: 1 Batch: 525, [Discriminator_A :: Loss: 0.11409841850399971], [ Generator :: Loss: [0.6873153448104858, 0.003616104368120432, 0.0, 0.024297336116433144, 0.03470093011856079, 0.036855511367321014, 0.05686110630631447]]\n",
            "Epoch: 1 Batch: 526, [Discriminator_A :: Loss: 0.18330714691546746], [ Generator :: Loss: [1.4986763000488281, 0.0046174791641533375, 0.0, 0.08260829746723175, 0.05012651905417442, 0.09272214770317078, 0.07398851960897446]]\n",
            "Epoch: 1 Batch: 527, [Discriminator_A :: Loss: 0.04864578536944464], [ Generator :: Loss: [0.7909761667251587, 0.004186499863862991, 0.0, 0.03117016702890396, 0.036425650119781494, 0.04480258375406265, 0.06602893024682999]]\n",
            "Epoch: 1 Batch: 528, [Discriminator_A :: Loss: 0.2855263650271809], [ Generator :: Loss: [0.9998801946640015, 0.0011073332279920578, 0.0, 0.03184089437127113, 0.0564940944314003, 0.060279443860054016, 0.05514352768659592]]\n",
            "Epoch: 1 Batch: 529, [Discriminator_A :: Loss: 0.22776029165834188], [ Generator :: Loss: [0.8923884034156799, 0.0007228498579934239, 0.0, 0.04101615771651268, 0.03816203027963638, 0.04874506592750549, 0.05113860219717026]]\n",
            "Epoch: 1 Batch: 530, [Discriminator_A :: Loss: 0.04941488557960838], [ Generator :: Loss: [0.6754147410392761, 0.002411832567304373, 0.0, 0.03326896205544472, 0.024738885462284088, 0.057003818452358246, 0.035920608788728714]]\n",
            "Epoch: 1 Batch: 531, [Discriminator_A :: Loss: 0.002969855908304453], [ Generator :: Loss: [0.8954424858093262, 0.0012962499167770147, 0.0, 0.03337269276380539, 0.043492622673511505, 0.05665574222803116, 0.06883737444877625]]\n",
            "Epoch: 1 Batch: 532, [Discriminator_A :: Loss: 0.10214428303879686], [ Generator :: Loss: [1.0927680730819702, 0.0013263416476547718, 0.0, 0.03936176374554634, 0.05739539861679077, 0.06364987045526505, 0.06022028625011444]]\n",
            "Epoch: 1 Batch: 533, [Discriminator_A :: Loss: 0.13784286874579266], [ Generator :: Loss: [0.9044574499130249, 0.00023585445887874812, 0.0, 0.04269595444202423, 0.035602785646915436, 0.06052994355559349, 0.060704268515110016]]\n",
            "Epoch: 1 Batch: 534, [Discriminator_A :: Loss: 0.14278956736961845], [ Generator :: Loss: [0.7282624244689941, 0.0003499599115457386, 0.0, 0.0308481864631176, 0.03164040297269821, 0.05556130409240723, 0.047465238720178604]]\n",
            "Epoch: 1 Batch: 535, [Discriminator_A :: Loss: 0.23344992101192474], [ Generator :: Loss: [2.28320574760437, 0.4590815305709839, 1.0, 0.03513256832957268, 0.036513056606054306, 0.057123709470033646, 0.05054426193237305]]\n",
            "Epoch: 1 Batch: 536, [Discriminator_A :: Loss: 0.4511907149280887], [ Generator :: Loss: [1.3871145248413086, 0.0020687677897512913, 0.0, 0.03768562525510788, 0.08596491813659668, 0.057046957314014435, 0.09149345755577087]]\n",
            "Epoch: 1 Batch: 537, [Discriminator_A :: Loss: 0.24259245221037418], [ Generator :: Loss: [0.7319315671920776, 0.0020491702016443014, 0.0, 0.03330022096633911, 0.030790116637945175, 0.04419080168008804, 0.044788163155317307]]\n",
            "Epoch: 1 Batch: 538, [Discriminator_A :: Loss: 0.00160573776520323], [ Generator :: Loss: [1.3137013912200928, 0.0005523240542970598, 0.0, 0.05733498930931091, 0.06167500466108322, 0.06975002586841583, 0.053299203515052795]]\n",
            "Epoch: 1 Batch: 539, [Discriminator_A :: Loss: 0.2273149515967816], [ Generator :: Loss: [0.7050892114639282, 0.004195050336420536, 0.0, 0.03242836520075798, 0.027216820046305656, 0.05976767838001251, 0.044674575328826904]]\n",
            "Epoch: 1 Batch: 540, [Discriminator_A :: Loss: 0.24729579279664904], [ Generator :: Loss: [0.8959118723869324, 0.0007136265048757195, 0.0, 0.04000043869018555, 0.03717164695262909, 0.06303659826517105, 0.060440804809331894]]\n",
            "Epoch: 1 Batch: 541, [Discriminator_A :: Loss: 0.12104876375815365], [ Generator :: Loss: [2.7411248683929443, 0.9706134796142578, 1.0, 0.033678892999887466, 0.031625911593437195, 0.05822887271642685, 0.05923460051417351]]\n",
            "Epoch: 1 Batch: 542, [Discriminator_A :: Loss: 0.03733307961374521], [ Generator :: Loss: [2.7932398319244385, 0.9246169328689575, 1.0, 0.0410233773291111, 0.0328160896897316, 0.07319608330726624, 0.05703230947256088]]\n",
            "Epoch: 1 Batch: 543, [Discriminator_A :: Loss: 0.42497795820236206], [ Generator :: Loss: [0.8510528802871704, 0.060603123158216476, 0.0, 0.03969583287835121, 0.029437392950057983, 0.05936262384057045, 0.03975488245487213]]\n",
            "Epoch: 1 Batch: 544, [Discriminator_A :: Loss: 0.42343936806719285], [ Generator :: Loss: [0.7680107355117798, 0.0003254674666095525, 0.0, 0.032500866800546646, 0.033237211406230927, 0.060193128883838654, 0.050111323595047]]\n",
            "Epoch: 1 Batch: 545, [Discriminator_A :: Loss: 0.16591866011731327], [ Generator :: Loss: [0.8333069682121277, 0.001176704652607441, 0.0, 0.0352773554623127, 0.037233397364616394, 0.052419647574424744, 0.05460307374596596]]\n",
            "Epoch: 1 Batch: 546, [Discriminator_A :: Loss: 0.2008553930791095], [ Generator :: Loss: [0.7405391931533813, 0.0009732981561683118, 0.0, 0.03342729061841965, 0.02913346327841282, 0.06797879189252853, 0.045979537069797516]]\n",
            "Epoch: 1 Batch: 547, [Discriminator_A :: Loss: 0.4666766760783503], [ Generator :: Loss: [0.7983328104019165, 0.0008665513596497476, 0.0, 0.03908863291144371, 0.029334697872400284, 0.06896202266216278, 0.04427092522382736]]\n",
            "Epoch: 1 Batch: 548, [Discriminator_A :: Loss: 0.039760010316967964], [ Generator :: Loss: [0.8153586387634277, 0.012859001755714417, 0.0, 0.03975806385278702, 0.029152091592550278, 0.07062669098377228, 0.04277138039469719]]\n",
            "Epoch: 1 Batch: 549, [Discriminator_A :: Loss: 0.03218344172637444], [ Generator :: Loss: [0.7756091952323914, 0.0006371270283125341, 0.0, 0.03482983261346817, 0.030362898483872414, 0.06854873150587082, 0.054496053606271744]]\n",
            "Epoch: 1 Batch: 550, [Discriminator_A :: Loss: 0.04727572831325233], [ Generator :: Loss: [1.2864856719970703, 0.0009352557244710624, 0.0, 0.0735640898346901, 0.041664332151412964, 0.0772629827260971, 0.05600323528051376]]\n",
            "Epoch: 1 Batch: 551, [Discriminator_A :: Loss: 0.0011965894082095474], [ Generator :: Loss: [2.9492578506469727, 0.9357911944389343, 1.0, 0.04285873845219612, 0.04489270597696304, 0.08088464289903641, 0.05506741255521774]]\n",
            "Epoch: 1 Batch: 552, [Discriminator_A :: Loss: 0.08148229401558638], [ Generator :: Loss: [1.0451364517211914, 0.002696020295843482, 0.0, 0.05772358924150467, 0.03099873661994934, 0.10574981570243835, 0.049467410892248154]]\n",
            "Epoch: 1 Batch: 553, [Discriminator_A :: Loss: 0.10361918948183302], [ Generator :: Loss: [0.7324873805046082, 0.00016898945614229888, 0.0, 0.03232089802622795, 0.03281085938215256, 0.049317289143800735, 0.031683534383773804]]\n",
            "Epoch: 1 Batch: 554, [Discriminator_A :: Loss: 0.16048135235905647], [ Generator :: Loss: [0.9572902917861938, 0.001979676540941, 0.0, 0.040331799536943436, 0.04393530264496803, 0.050875224173069, 0.0617644377052784]]\n",
            "Epoch: 1 Batch: 555, [Discriminator_A :: Loss: 0.21860051120165735], [ Generator :: Loss: [0.8289196491241455, 0.008352897129952908, 0.0, 0.03111307881772518, 0.038939036428928375, 0.059894200414419174, 0.060151394456624985]]\n",
            "Epoch: 1 Batch: 556, [Discriminator_A :: Loss: 0.09418930881656706], [ Generator :: Loss: [0.7643477916717529, 0.0002825079718604684, 0.0, 0.036735571920871735, 0.02967216819524765, 0.059911057353019714, 0.040076844394207]]\n",
            "Epoch: 1 Batch: 557, [Discriminator_A :: Loss: 0.1440333172577084], [ Generator :: Loss: [0.8350220918655396, 0.0002808833378367126, 0.0, 0.028241125866770744, 0.04312896728515625, 0.0504976361989975, 0.07054264098405838]]\n",
            "Epoch: 1 Batch: 558, [Discriminator_A :: Loss: 0.452871321933344], [ Generator :: Loss: [0.6336645483970642, 0.000483308540424332, 0.0, 0.02343420870602131, 0.0315835103392601, 0.039313219487667084, 0.043690815567970276]]\n",
            "Epoch: 1 Batch: 559, [Discriminator_A :: Loss: 0.05428951917565428], [ Generator :: Loss: [0.6496990323066711, 0.0005942898569628596, 0.0, 0.027553144842386246, 0.028485136106610298, 0.043632496148347855, 0.045089419931173325]]\n",
            "Epoch: 1 Batch: 560, [Discriminator_A :: Loss: 0.20391787216067314], [ Generator :: Loss: [0.8100940585136414, 0.00013308347843121737, 0.0, 0.034463781863451004, 0.034885160624980927, 0.06407047063112259, 0.05240105837583542]]\n",
            "Epoch: 1 Batch: 561, [Discriminator_A :: Loss: 0.1268259770295117], [ Generator :: Loss: [2.744880437850952, 0.9712498188018799, 1.0, 0.037181492894887924, 0.02802543342113495, 0.06954242289066315, 0.052018944174051285]]\n",
            "Epoch: 1 Batch: 562, [Discriminator_A :: Loss: 0.42580067925155163], [ Generator :: Loss: [0.6165972948074341, 0.0007473384612239897, 0.0, 0.026414884254336357, 0.024788836017251015, 0.05556054040789604, 0.04825219884514809]]\n",
            "Epoch: 1 Batch: 563, [Discriminator_A :: Loss: 0.4595043817535043], [ Generator :: Loss: [0.7522241473197937, 0.002519488101825118, 0.0, 0.033282481133937836, 0.0320904478430748, 0.05011989548802376, 0.045855432748794556]]\n",
            "Epoch: 1 Batch: 564, [Discriminator_A :: Loss: 0.3610584205016494], [ Generator :: Loss: [0.700130045413971, 0.0010679301340132952, 0.0, 0.03542757406830788, 0.02650737762451172, 0.04375225305557251, 0.03596034646034241]]\n",
            "Epoch: 1 Batch: 565, [Discriminator_A :: Loss: 0.3309476646099938], [ Generator :: Loss: [0.7696684002876282, 0.0004976412164978683, 0.0, 0.03484862297773361, 0.03290130943059921, 0.04972289130091667, 0.04194850102066994]]\n",
            "Epoch: 1 Batch: 566, [Discriminator_A :: Loss: 0.1446088353113737], [ Generator :: Loss: [0.7747872471809387, 0.0008820534567348659, 0.0, 0.031163832172751427, 0.03597480058670044, 0.0525050088763237, 0.050013862550258636]]\n",
            "Epoch: 1 Batch: 567, [Discriminator_A :: Loss: 0.008312713907798752], [ Generator :: Loss: [0.9873474836349487, 0.0029927112627774477, 0.0, 0.04914268106222153, 0.03644686937332153, 0.07356256246566772, 0.05489668250083923]]\n",
            "Epoch: 1 Batch: 568, [Discriminator_A :: Loss: 0.03757880310877226], [ Generator :: Loss: [0.8500100374221802, 0.0006617576000280678, 0.0, 0.036684662103652954, 0.03742261230945587, 0.04943619295954704, 0.05883929133415222]]\n",
            "Epoch: 1 Batch: 569, [Discriminator_A :: Loss: 0.3752048769965768], [ Generator :: Loss: [0.7545468807220459, 0.017161447554826736, 0.0, 0.035652752965688705, 0.028307246044278145, 0.05806726589798927, 0.0397181510925293]]\n",
            "Epoch: 1 Batch: 570, [Discriminator_A :: Loss: 0.005960991256870329], [ Generator :: Loss: [0.8900875449180603, 0.0012409079354256392, 0.0, 0.04406052082777023, 0.03480812534689903, 0.06733240187168121, 0.03282773494720459]]\n",
            "Epoch: 1 Batch: 571, [Discriminator_A :: Loss: 0.16593516193097457], [ Generator :: Loss: [0.8546713590621948, 0.00034528799005784094, 0.0, 0.04653635621070862, 0.02751736529171467, 0.06867057830095291, 0.04511825740337372]]\n",
            "Epoch: 1 Batch: 572, [Discriminator_A :: Loss: 0.36281013146799523], [ Generator :: Loss: [0.8204010725021362, 0.00031673721969127655, 0.0, 0.03513628616929054, 0.037521298974752426, 0.04325076565146446, 0.05025772005319595]]\n",
            "Epoch: 1 Batch: 573, [Discriminator_A :: Loss: 0.011402340896893293], [ Generator :: Loss: [0.8143515586853027, 0.00023735624563414603, 0.0, 0.046155896037817, 0.024095341563224792, 0.07442672550678253, 0.037175096571445465]]\n",
            "Epoch: 1 Batch: 574, [Discriminator_A :: Loss: 0.42913252307334915], [ Generator :: Loss: [0.6699637770652771, 0.001042150310240686, 0.0, 0.023562170565128326, 0.034511320292949677, 0.03887657821178436, 0.049310095608234406]]\n",
            "Epoch: 1 Batch: 575, [Discriminator_A :: Loss: 0.14656658930471167], [ Generator :: Loss: [1.0150668621063232, 0.002108176937326789, 0.0, 0.041374389082193375, 0.04690847173333168, 0.06465109437704086, 0.06547898054122925]]\n",
            "Epoch: 1 Batch: 576, [Discriminator_A :: Loss: 0.32086744834668934], [ Generator :: Loss: [0.8072582483291626, 0.00038648731424473226, 0.0, 0.03966914117336273, 0.03204064816236496, 0.053525134921073914, 0.03624872490763664]]\n",
            "Epoch: 1 Batch: 577, [Discriminator_A :: Loss: 0.3557668596477015], [ Generator :: Loss: [0.6028778553009033, 5.2565250371117145e-05, 0.0, 0.0320732444524765, 0.021512346342206, 0.03609556704759598, 0.030873779207468033]]\n",
            "Epoch: 1 Batch: 578, [Discriminator_A :: Loss: 0.16804886555473786], [ Generator :: Loss: [0.7616392374038696, 0.0004050792776979506, 0.0, 0.03284994885325432, 0.03279615938663483, 0.050979629158973694, 0.05379342660307884]]\n",
            "Epoch: 1 Batch: 579, [Discriminator_A :: Loss: 0.4489390641101636], [ Generator :: Loss: [2.7459700107574463, 0.9317394495010376, 1.0, 0.045341748744249344, 0.026358574628829956, 0.05499369651079178, 0.04223370552062988]]\n",
            "Epoch: 1 Batch: 580, [Discriminator_A :: Loss: 0.28842100157635286], [ Generator :: Loss: [0.9570217132568359, 0.0005102291470393538, 0.0, 0.04608064889907837, 0.03790171071887016, 0.07055752724409103, 0.046130355447530746]]\n",
            "Epoch: 1 Batch: 581, [Discriminator_A :: Loss: 0.013220323482528329], [ Generator :: Loss: [0.927178144454956, 0.00268015475012362, 0.0, 0.045336976647377014, 0.03501538932323456, 0.07571126520633698, 0.04526306316256523]]\n",
            "Epoch: 1 Batch: 582, [Discriminator_A :: Loss: 0.42224385298322886], [ Generator :: Loss: [0.6116007566452026, 0.000305471767205745, 0.0, 0.020970987156033516, 0.032365161925554276, 0.029746439307928085, 0.04818733409047127]]\n",
            "Epoch: 1 Batch: 583, [Discriminator_A :: Loss: 0.18296807329170406], [ Generator :: Loss: [0.9246880412101746, 0.002629249356687069, 0.0, 0.04237578064203262, 0.03772818297147751, 0.052903689444065094, 0.0681154653429985]]\n",
            "Epoch: 1 Batch: 584, [Discriminator_A :: Loss: 0.4394471012055874], [ Generator :: Loss: [0.7780395746231079, 0.0020408628042787313, 0.0, 0.028310419991612434, 0.04105827957391739, 0.0405576229095459, 0.04175405204296112]]\n",
            "Epoch: 1 Batch: 585, [Discriminator_A :: Loss: 0.16900056088343263], [ Generator :: Loss: [0.8691893219947815, 0.00027525972109287977, 0.0, 0.046290427446365356, 0.029697809368371964, 0.066550612449646, 0.04248107597231865]]\n",
            "Epoch: 1 Batch: 586, [Discriminator_A :: Loss: 0.3029533417284256], [ Generator :: Loss: [2.634064197540283, 0.9592409133911133, 1.0, 0.03268323093652725, 0.026865597814321518, 0.04323911666870117, 0.03609573468565941]]\n",
            "Epoch: 1 Batch: 587, [Discriminator_A :: Loss: 0.00474819794180803], [ Generator :: Loss: [0.969805121421814, 0.011765435338020325, 0.0, 0.04136457294225693, 0.04160298779606819, 0.0611036941409111, 0.06726039946079254]]\n",
            "Epoch: 1 Batch: 588, [Discriminator_A :: Loss: 0.0350506491959095], [ Generator :: Loss: [0.8832032680511475, 0.003990157041698694, 0.0, 0.04048800468444824, 0.037222154438495636, 0.05192936584353447, 0.05018221586942673]]\n",
            "Epoch: 1 Batch: 589, [Discriminator_A :: Loss: 0.30285429835203104], [ Generator :: Loss: [1.1774044036865234, 0.0005833642208017409, 0.0, 0.06538553535938263, 0.03834914416074753, 0.08294449001550674, 0.05652974173426628]]\n",
            "Epoch: 1 Batch: 590, [Discriminator_A :: Loss: 0.1648210467537865], [ Generator :: Loss: [0.980466365814209, 0.0006707115098834038, 0.0, 0.0501057431101799, 0.033863916993141174, 0.08462870121002197, 0.055470362305641174]]\n",
            "Epoch: 1 Batch: 591, [Discriminator_A :: Loss: 0.0015080792654771358], [ Generator :: Loss: [1.1680145263671875, 0.0008557348628528416, 0.0, 0.04578658938407898, 0.054391585290431976, 0.08376942574977875, 0.0816076248884201]]\n",
            "Epoch: 1 Batch: 592, [Discriminator_A :: Loss: 0.46651329420274124], [ Generator :: Loss: [0.6941030621528625, 0.0010325784096494317, 0.0, 0.027477389201521873, 0.03236086666584015, 0.04831909388303757, 0.0463688001036644]]\n",
            "Epoch: 1 Batch: 593, [Discriminator_A :: Loss: 0.022326117628836073], [ Generator :: Loss: [0.8652439713478088, 0.00031697063241153955, 0.0, 0.04261259362101555, 0.03196105360984802, 0.06596022099256516, 0.053230300545692444]]\n",
            "Epoch: 1 Batch: 594, [Discriminator_A :: Loss: 0.03659600202809088], [ Generator :: Loss: [0.8359089493751526, 0.00119721086230129, 0.0, 0.03562283515930176, 0.036324430257081985, 0.06273562461137772, 0.052503444254398346]]\n",
            "Epoch: 1 Batch: 595, [Discriminator_A :: Loss: 0.021903164466493763], [ Generator :: Loss: [0.9415218830108643, 0.0006973235285840929, 0.0, 0.0430992990732193, 0.03639747202396393, 0.08242707699537277, 0.0634298026561737]]\n",
            "Epoch: 1 Batch: 596, [Discriminator_A :: Loss: 0.27347745397128165], [ Generator :: Loss: [0.8510494828224182, 0.005933988839387894, 0.0, 0.035249918699264526, 0.03812924027442932, 0.05681426078081131, 0.05450963228940964]]\n",
            "Epoch: 1 Batch: 597, [Discriminator_A :: Loss: 0.0007060380157781765], [ Generator :: Loss: [0.910732090473175, 0.009005933068692684, 0.0, 0.04331931844353676, 0.03191523998975754, 0.09014575183391571, 0.05923483148217201]]\n",
            "Epoch: 1 Batch: 598, [Discriminator_A :: Loss: 0.2107699994376162], [ Generator :: Loss: [0.7578760385513306, 0.0003770078474190086, 0.0, 0.031347185373306274, 0.03543400019407272, 0.04051947593688965, 0.0491676926612854]]\n",
            "Epoch: 1 Batch: 599, [Discriminator_A :: Loss: 0.004603114677593112], [ Generator :: Loss: [0.8685145974159241, 0.001730568939819932, 0.0, 0.03453316166996956, 0.0392373763024807, 0.06479407846927643, 0.0642845556139946]]\n",
            "Epoch: 1 Batch: 600, [Discriminator_A :: Loss: 0.0014440883533097804], [ Generator :: Loss: [0.7660552263259888, 0.0022404752671718597, 0.0, 0.03513840213418007, 0.030490849167108536, 0.05855216085910797, 0.04897008091211319]]\n",
            "Image_A shape: (64, 64, 3)\n",
            "fake_B shape: (64, 64, 3)\n",
            "reconstructed_A shape: (64, 64, 3)\n"
          ]
        },
        {
          "output_type": "stream",
          "name": "stderr",
          "text": [
            "WARNING:absl:Found untraced functions such as leaky_re_lu_4_layer_call_fn, leaky_re_lu_4_layer_call_and_return_conditional_losses, leaky_re_lu_5_layer_call_fn, leaky_re_lu_5_layer_call_and_return_conditional_losses, leaky_re_lu_6_layer_call_fn while saving (showing 5 of 80). These functions will not be directly callable after loading.\n"
          ]
        },
        {
          "output_type": "stream",
          "name": "stdout",
          "text": [
            "INFO:tensorflow:Assets written to: /content/gdrive/My Drive/Colab Notebooks/cycleGAN/monet2photo_out/gan_model/assets\n"
          ]
        },
        {
          "output_type": "stream",
          "name": "stderr",
          "text": [
            "INFO:tensorflow:Assets written to: /content/gdrive/My Drive/Colab Notebooks/cycleGAN/monet2photo_out/gan_model/assets\n",
            "WARNING:absl:Found untraced functions such as leaky_re_lu_layer_call_fn, leaky_re_lu_layer_call_and_return_conditional_losses, leaky_re_lu_1_layer_call_fn, leaky_re_lu_1_layer_call_and_return_conditional_losses, leaky_re_lu_2_layer_call_fn while saving (showing 5 of 20). These functions will not be directly callable after loading.\n"
          ]
        },
        {
          "output_type": "stream",
          "name": "stdout",
          "text": [
            "INFO:tensorflow:Assets written to: /content/gdrive/My Drive/Colab Notebooks/cycleGAN/monet2photo_out/generator_A_to_B/assets\n"
          ]
        },
        {
          "output_type": "stream",
          "name": "stderr",
          "text": [
            "INFO:tensorflow:Assets written to: /content/gdrive/My Drive/Colab Notebooks/cycleGAN/monet2photo_out/generator_A_to_B/assets\n",
            "WARNING:absl:Found untraced functions such as leaky_re_lu_4_layer_call_fn, leaky_re_lu_4_layer_call_and_return_conditional_losses, leaky_re_lu_5_layer_call_fn, leaky_re_lu_5_layer_call_and_return_conditional_losses, leaky_re_lu_6_layer_call_fn while saving (showing 5 of 20). These functions will not be directly callable after loading.\n"
          ]
        },
        {
          "output_type": "stream",
          "name": "stdout",
          "text": [
            "INFO:tensorflow:Assets written to: /content/gdrive/My Drive/Colab Notebooks/cycleGAN/monet2photo_out/generator_B_to_A/assets\n"
          ]
        },
        {
          "output_type": "stream",
          "name": "stderr",
          "text": [
            "INFO:tensorflow:Assets written to: /content/gdrive/My Drive/Colab Notebooks/cycleGAN/monet2photo_out/generator_B_to_A/assets\n",
            "WARNING:absl:Found untraced functions such as leaky_re_lu_8_layer_call_fn, leaky_re_lu_8_layer_call_and_return_conditional_losses, leaky_re_lu_9_layer_call_fn, leaky_re_lu_9_layer_call_and_return_conditional_losses, leaky_re_lu_10_layer_call_fn while saving (showing 5 of 20). These functions will not be directly callable after loading.\n"
          ]
        },
        {
          "output_type": "stream",
          "name": "stdout",
          "text": [
            "INFO:tensorflow:Assets written to: /content/gdrive/My Drive/Colab Notebooks/cycleGAN/monet2photo_out/discriminator_A/assets\n"
          ]
        },
        {
          "output_type": "stream",
          "name": "stderr",
          "text": [
            "INFO:tensorflow:Assets written to: /content/gdrive/My Drive/Colab Notebooks/cycleGAN/monet2photo_out/discriminator_A/assets\n",
            "WARNING:absl:Found untraced functions such as leaky_re_lu_12_layer_call_fn, leaky_re_lu_12_layer_call_and_return_conditional_losses, leaky_re_lu_13_layer_call_fn, leaky_re_lu_13_layer_call_and_return_conditional_losses, leaky_re_lu_14_layer_call_fn while saving (showing 5 of 20). These functions will not be directly callable after loading.\n"
          ]
        },
        {
          "output_type": "stream",
          "name": "stdout",
          "text": [
            "INFO:tensorflow:Assets written to: /content/gdrive/My Drive/Colab Notebooks/cycleGAN/monet2photo_out/discriminator_B/assets\n"
          ]
        },
        {
          "output_type": "stream",
          "name": "stderr",
          "text": [
            "INFO:tensorflow:Assets written to: /content/gdrive/My Drive/Colab Notebooks/cycleGAN/monet2photo_out/discriminator_B/assets\n"
          ]
        },
        {
          "output_type": "stream",
          "name": "stdout",
          "text": [
            "Epoch: 1 Batch: 601, [Discriminator_A :: Loss: 0.45303751644678414], [ Generator :: Loss: [0.8611023426055908, 0.0008158258278854191, 0.0, 0.023399492725729942, 0.05257659777998924, 0.036425162106752396, 0.0641004666686058]]\n",
            "Epoch: 1 Batch: 602, [Discriminator_A :: Loss: 0.00014836570335319266], [ Generator :: Loss: [0.8533898591995239, 0.00034049569512717426, 0.0, 0.04159495607018471, 0.031260404735803604, 0.07623094320297241, 0.04826480522751808]]\n",
            "Epoch: 1 Batch: 603, [Discriminator_A :: Loss: 0.23237639665603638], [ Generator :: Loss: [0.8150922060012817, 0.0030317381024360657, 0.0, 0.0308699831366539, 0.03904387727379799, 0.05254952609539032, 0.06037234514951706]]\n",
            "Epoch: 1 Batch: 604, [Discriminator_A :: Loss: 0.4209435559459962], [ Generator :: Loss: [0.7846100330352783, 0.0012560462346300483, 0.0, 0.03509795665740967, 0.033039629459381104, 0.05254419520497322, 0.04943391680717468]]\n",
            "Epoch: 1 Batch: 605, [Discriminator_A :: Loss: 0.12471500993706286], [ Generator :: Loss: [0.6030333638191223, 0.0009184489026665688, 0.0, 0.029467033222317696, 0.022376684471964836, 0.04710090905427933, 0.03657681867480278]]\n",
            "Epoch: 1 Batch: 606, [Discriminator_A :: Loss: 0.010159325029235333], [ Generator :: Loss: [2.763105869293213, 0.935225248336792, 1.0, 0.042603544890880585, 0.02764328196644783, 0.08595548570156097, 0.03945700451731682]]\n",
            "Epoch: 1 Batch: 607, [Discriminator_A :: Loss: 0.0013660723197972402], [ Generator :: Loss: [2.6829028129577637, 0.857119619846344, 1.0, 0.04721182584762573, 0.024340776726603508, 0.08260226249694824, 0.02765476517379284]]\n",
            "Epoch: 1 Batch: 608, [Discriminator_A :: Loss: 0.37686570081859827], [ Generator :: Loss: [1.0820696353912354, 0.12339401990175247, 0.0, 0.03909483551979065, 0.04253422096371651, 0.078729048371315, 0.06365611404180527]]\n",
            "Epoch: 1 Batch: 609, [Discriminator_A :: Loss: 0.12074331284384243], [ Generator :: Loss: [2.6671290397644043, 0.980396032333374, 1.0, 0.02666313759982586, 0.03237767517566681, 0.04816842079162598, 0.04815651476383209]]\n",
            "Epoch: 1 Batch: 610, [Discriminator_A :: Loss: 0.3476379287894815], [ Generator :: Loss: [0.768654465675354, 0.0003813719376921654, 0.0, 0.027431052178144455, 0.039026208221912384, 0.0472557507455349, 0.05644477903842926]]\n",
            "Epoch: 1 Batch: 611, [Discriminator_A :: Loss: 0.7233142703771591], [ Generator :: Loss: [0.7856566309928894, 0.011012965813279152, 0.0, 0.03176380693912506, 0.03636472299695015, 0.04395086690783501, 0.04940750449895859]]\n",
            "Epoch: 1 Batch: 612, [Discriminator_A :: Loss: 0.008086127068963833], [ Generator :: Loss: [0.7976177930831909, 0.00020822107035201043, 0.0, 0.03939487785100937, 0.029549136757850647, 0.06644495576620102, 0.041524406522512436]]\n",
            "Epoch: 1 Batch: 613, [Discriminator_A :: Loss: 0.046535100671462715], [ Generator :: Loss: [0.9171911478042603, 0.001295773545280099, 0.0, 0.049833059310913086, 0.02954576537013054, 0.07619612663984299, 0.045911021530628204]]\n",
            "Epoch: 1 Batch: 614, [Discriminator_A :: Loss: 0.02481702024670085], [ Generator :: Loss: [2.882171392440796, 0.9729735851287842, 1.0, 0.04857209697365761, 0.031239327043294907, 0.06136389449238777, 0.04971964284777641]]\n",
            "Epoch: 1 Batch: 615, [Discriminator_A :: Loss: 0.2724242825061083], [ Generator :: Loss: [0.8939734697341919, 0.0013724470045417547, 0.0, 0.035928357392549515, 0.04231543093919754, 0.05820770561695099, 0.051955446600914]]\n",
            "Epoch: 1 Batch: 616, [Discriminator_A :: Loss: 0.4175966870971024], [ Generator :: Loss: [0.7185580730438232, 0.0004221756535116583, 0.0, 0.029185185208916664, 0.03108716569840908, 0.06737355142831802, 0.04803884029388428]]\n",
            "Epoch: 1 Batch: 617, [Discriminator_A :: Loss: 0.03136480828106869], [ Generator :: Loss: [0.9896305799484253, 0.0002697654126677662, 0.0, 0.04026876389980316, 0.04572343826293945, 0.06928128004074097, 0.06015748158097267]]\n",
            "Epoch: 1 Batch: 618, [Discriminator_A :: Loss: 0.47261217958293855], [ Generator :: Loss: [0.7028747797012329, 0.0013180321548134089, 0.0, 0.025286072865128517, 0.035587310791015625, 0.050944458693265915, 0.04187844693660736]]\n",
            "Epoch: 1 Batch: 619, [Discriminator_A :: Loss: 0.30026646945043467], [ Generator :: Loss: [0.6708414554595947, 0.0005341259529814124, 0.0, 0.0277263056486845, 0.02970980480313301, 0.04557386785745621, 0.050372377038002014]]\n",
            "Epoch: 1 Batch: 620, [Discriminator_A :: Loss: 0.4222728473832831], [ Generator :: Loss: [1.2334076166152954, 0.0009936688002198935, 0.0, 0.034713126718997955, 0.0738440528512001, 0.058332040905952454, 0.08851013332605362]]\n",
            "Epoch: 1 Batch: 621, [Discriminator_A :: Loss: 0.00030579801750718616], [ Generator :: Loss: [0.9027343988418579, 0.0005108271143399179, 0.0, 0.039961542934179306, 0.036186426877975464, 0.07400041073560715, 0.06674344092607498]]\n",
            "Epoch: 1 Batch: 622, [Discriminator_A :: Loss: 0.23765272593300324], [ Generator :: Loss: [0.7591768503189087, 0.0001461788488086313, 0.0, 0.031000841408967972, 0.033985674381256104, 0.05049993470311165, 0.058665551245212555]]\n",
            "Epoch: 1 Batch: 623, [Discriminator_A :: Loss: 0.08869558456353843], [ Generator :: Loss: [0.8377902507781982, 0.00039016606751829386, 0.0, 0.0364290252327919, 0.03646901249885559, 0.05959535390138626, 0.04882434755563736]]\n",
            "Epoch: 1 Batch: 624, [Discriminator_A :: Loss: 0.38631219684612006], [ Generator :: Loss: [0.6798554062843323, 0.0016136444173753262, 0.0, 0.03198489919304848, 0.026813877746462822, 0.04957780987024307, 0.04067619517445564]]\n",
            "Epoch: 1 Batch: 625, [Discriminator_A :: Loss: 0.0079075051471591], [ Generator :: Loss: [0.7684856057167053, 0.001105128787457943, 0.0, 0.036278702318668365, 0.029682820662856102, 0.060555197298526764, 0.04721006378531456]]\n",
            "Epoch: 1 Batch: 626, [Discriminator_A :: Loss: 0.04177654528757557], [ Generator :: Loss: [0.8508226275444031, 0.0017616571858525276, 0.0, 0.033141255378723145, 0.040992237627506256, 0.05591321736574173, 0.051812831312417984]]\n",
            "Epoch: 1 Batch: 627, [Discriminator_A :: Loss: 0.09652925215777941], [ Generator :: Loss: [0.9512738585472107, 0.0011142742587253451, 0.0, 0.046526554971933365, 0.03672127425670624, 0.06689900159835815, 0.05078228935599327]]\n",
            "Epoch: 1 Batch: 628, [Discriminator_A :: Loss: 0.27295760437846184], [ Generator :: Loss: [0.8921703100204468, 0.0021716307383030653, 0.0, 0.04016439989209175, 0.03814101964235306, 0.06249149888753891, 0.04445302113890648]]\n",
            "Epoch: 1 Batch: 629, [Discriminator_A :: Loss: 0.42348327673971653], [ Generator :: Loss: [0.6999778747558594, 0.01334360335022211, 0.0, 0.028647515922784805, 0.030675936490297318, 0.046026118099689484, 0.047373659908771515]]\n",
            "Epoch: 1 Batch: 630, [Discriminator_A :: Loss: 0.4007659050403163], [ Generator :: Loss: [2.833434820175171, 0.9413221478462219, 1.0, 0.032056085765361786, 0.04659204185009003, 0.04948506876826286, 0.05614617094397545]]\n",
            "Epoch: 1 Batch: 631, [Discriminator_A :: Loss: 0.0008813068270683289], [ Generator :: Loss: [0.843924343585968, 0.00047959163202904165, 0.0, 0.03902038186788559, 0.033208150416612625, 0.07220039516687393, 0.04895903915166855]]\n",
            "Epoch: 1 Batch: 632, [Discriminator_A :: Loss: 0.44728566554840654], [ Generator :: Loss: [0.9652450084686279, 0.0007490176940336823, 0.0, 0.03789500519633293, 0.04657634347677231, 0.05164605379104614, 0.06813644617795944]]\n",
            "Epoch: 1 Batch: 633, [Discriminator_A :: Loss: 0.3387081428663805], [ Generator :: Loss: [0.8252803087234497, 0.0026147642638534307, 0.0, 0.04249989986419678, 0.03055412694811821, 0.054662324488162994, 0.03746294975280762]]\n",
            "Epoch: 1 Batch: 634, [Discriminator_A :: Loss: 0.3194299436872825], [ Generator :: Loss: [2.653207540512085, 0.9373517632484436, 1.0, 0.03053717315196991, 0.030934259295463562, 0.055185798555612564, 0.045955590903759]]\n",
            "Epoch: 1 Batch: 635, [Discriminator_A :: Loss: 0.015366066494607367], [ Generator :: Loss: [0.979088306427002, 0.00020519773534033448, 0.0, 0.051150597631931305, 0.03091135248541832, 0.10481073707342148, 0.053452931344509125]]\n",
            "Epoch: 1 Batch: 636, [Discriminator_A :: Loss: 0.048535239562625065], [ Generator :: Loss: [0.9810893535614014, 0.0006112057599239051, 0.0, 0.032637402415275574, 0.053367942571640015, 0.05595783144235611, 0.06446684151887894]]\n",
            "Epoch: 1 Batch: 637, [Discriminator_A :: Loss: 0.3263398753479123], [ Generator :: Loss: [0.8336561322212219, 0.0014584721066057682, 0.0, 0.03517623990774155, 0.03820813447237015, 0.05518848076462746, 0.043165452778339386]]\n",
            "Epoch: 1 Batch: 638, [Discriminator_A :: Loss: 0.22673560678958893], [ Generator :: Loss: [0.7102042436599731, 0.006063645705580711, 0.0, 0.031785156577825546, 0.028055759146809578, 0.054137736558914185, 0.051593661308288574]]\n",
            "Epoch: 1 Batch: 639, [Discriminator_A :: Loss: 0.21654732339084148], [ Generator :: Loss: [0.6183600425720215, 0.018908968195319176, 0.0, 0.029234077781438828, 0.021787909790873528, 0.05519726872444153, 0.03403392806649208]]\n",
            "Epoch: 1 Batch: 640, [Discriminator_A :: Loss: 0.0701576839783229], [ Generator :: Loss: [0.7483916878700256, 0.0013381419703364372, 0.0, 0.037882402539253235, 0.02555428259074688, 0.06219605728983879, 0.05049062892794609]]\n",
            "Epoch: 1 Batch: 641, [Discriminator_A :: Loss: 0.0008699261525180191], [ Generator :: Loss: [0.9485151171684265, 0.0012362762354314327, 0.0, 0.0374763086438179, 0.045915327966213226, 0.0790417492389679, 0.03432073816657066]]\n",
            "Epoch: 1 Batch: 642, [Discriminator_A :: Loss: 0.03696984495036304], [ Generator :: Loss: [0.7475630044937134, 0.0004904632223770022, 0.0, 0.037602879106998444, 0.025954458862543106, 0.06251712888479233, 0.04898206517100334]]\n",
            "Epoch: 1 Batch: 643, [Discriminator_A :: Loss: 0.00547580944839865], [ Generator :: Loss: [0.7339411377906799, 0.0012553788255900145, 0.0, 0.038785748183727264, 0.02353901043534279, 0.07117139548063278, 0.03826674446463585]]\n",
            "Epoch: 1 Batch: 644, [Discriminator_A :: Loss: 0.03632492385804653], [ Generator :: Loss: [0.8684128522872925, 0.0026262367609888315, 0.0, 0.03503220155835152, 0.041345976293087006, 0.05759333446621895, 0.044411469250917435]]\n",
            "Epoch: 1 Batch: 645, [Discriminator_A :: Loss: 0.3202814227552153], [ Generator :: Loss: [0.7291774749755859, 0.001427453476935625, 0.0, 0.032277751713991165, 0.03103792294859886, 0.0509803332388401, 0.043612949550151825]]\n",
            "Epoch: 1 Batch: 646, [Discriminator_A :: Loss: 0.005383240757510066], [ Generator :: Loss: [0.9244720339775085, 0.013552499003708363, 0.0, 0.049345940351486206, 0.029433613643050194, 0.09025579690933228, 0.03286822512745857]]\n",
            "Epoch: 1 Batch: 647, [Discriminator_A :: Loss: 0.0026617818512022495], [ Generator :: Loss: [0.9088152647018433, 0.0013515629107132554, 0.0, 0.052732378244400024, 0.02536746673285961, 0.09095504134893417, 0.03551023453474045]]\n",
            "Epoch: 1 Batch: 648, [Discriminator_A :: Loss: 0.06686068995622918], [ Generator :: Loss: [0.8711434006690979, 0.0005311271524988115, 0.0, 0.04181097075343132, 0.032561082392930984, 0.07877728343009949, 0.04811443015933037]]\n",
            "Epoch: 1 Batch: 649, [Discriminator_A :: Loss: 0.14448350621387362], [ Generator :: Loss: [1.1027979850769043, 0.0023476327769458294, 0.0, 0.05863332748413086, 0.041673507541418076, 0.04505328834056854, 0.05232863128185272]]\n",
            "Epoch: 1 Batch: 650, [Discriminator_A :: Loss: 0.4296491240093019], [ Generator :: Loss: [1.5778627395629883, 0.0013819982996210456, 0.0, 0.10935746878385544, 0.03743935748934746, 0.057909607887268066, 0.05060289800167084]]\n",
            "Epoch: 1 Batch: 651, [Discriminator_A :: Loss: 0.3111565448343754], [ Generator :: Loss: [0.7811758518218994, 0.013124186545610428, 0.0, 0.030940813943743706, 0.03586112707853317, 0.044480036944150925, 0.05555224418640137]]\n",
            "Epoch: 1 Batch: 652, [Discriminator_A :: Loss: 0.47882733251026366], [ Generator :: Loss: [0.5897594094276428, 0.0004100899677723646, 0.0, 0.016850793734192848, 0.03387993946671486, 0.03415440395474434, 0.04788758605718613]]\n",
            "Epoch: 1 Batch: 653, [Discriminator_A :: Loss: 0.4771891252021305], [ Generator :: Loss: [0.832790732383728, 0.00035888736601918936, 0.0, 0.046995315700769424, 0.02712269499897957, 0.049980293959379196, 0.041271474212408066]]\n",
            "Epoch: 1 Batch: 654, [Discriminator_A :: Loss: 0.3679871013155207], [ Generator :: Loss: [0.8590198755264282, 0.0010210879845544696, 0.0, 0.03254186734557152, 0.04320820793509483, 0.05319908261299133, 0.04729900136590004]]\n",
            "Epoch: 1 Batch: 655, [Discriminator_A :: Loss: 0.0006630174284509849], [ Generator :: Loss: [0.9050819873809814, 0.0001512331800768152, 0.0, 0.04528091102838516, 0.03163882717490196, 0.08483072370290756, 0.050902605056762695]]\n",
            "Epoch: 1 Batch: 656, [Discriminator_A :: Loss: 0.00022235642245505005], [ Generator :: Loss: [1.0717804431915283, 0.00038083436083979905, 0.0, 0.05631957948207855, 0.036995720118284225, 0.09103085100650787, 0.047215819358825684]]\n",
            "Epoch: 1 Batch: 657, [Discriminator_A :: Loss: 0.002616313240650925], [ Generator :: Loss: [0.9675267338752747, 0.0008670146344229579, 0.0, 0.04428017884492874, 0.0405111126601696, 0.05847227945923805, 0.06027454510331154]]\n",
            "Epoch: 1 Batch: 658, [Discriminator_A :: Loss: 0.22814401239156723], [ Generator :: Loss: [0.7923843860626221, 0.023133384063839912, 0.0, 0.03695494309067726, 0.03094417229294777, 0.056267544627189636, 0.03399228677153587]]\n",
            "Epoch: 1 Batch: 659, [Discriminator_A :: Loss: 0.025192135479301214], [ Generator :: Loss: [0.7578846216201782, 0.0039544617757201195, 0.0, 0.03392935171723366, 0.0310470350086689, 0.0550357885658741, 0.049130506813526154]]\n",
            "Epoch: 1 Batch: 660, [Discriminator_A :: Loss: 0.15122239477932453], [ Generator :: Loss: [2.707702398300171, 0.87713623046875, 1.0, 0.03384200856089592, 0.03765881434082985, 0.05632761865854263, 0.05923014506697655]]\n",
            "Epoch: 1 Batch: 661, [Discriminator_A :: Loss: 0.3735744431614876], [ Generator :: Loss: [0.893629789352417, 0.0021073450334370136, 0.0, 0.0389939621090889, 0.03539134934544563, 0.08718523383140564, 0.0604841411113739]]\n",
            "Epoch: 1 Batch: 662, [Discriminator_A :: Loss: 0.4180299353029113], [ Generator :: Loss: [0.645855188369751, 0.0010938514024019241, 0.0, 0.016199257224798203, 0.03976195678114891, 0.027243882417678833, 0.05790525674819946]]\n",
            "Epoch: 1 Batch: 663, [Discriminator_A :: Loss: 0.009311632136814296], [ Generator :: Loss: [1.046615719795227, 0.011345569975674152, 0.0, 0.047915905714035034, 0.04131494089961052, 0.07958969473838806, 0.06337197870016098]]\n",
            "Epoch: 1 Batch: 664, [Discriminator_A :: Loss: 0.3483443975710543], [ Generator :: Loss: [0.6254229545593262, 0.00023813190637156367, 0.0, 0.024211913347244263, 0.02987031266093254, 0.03857777640223503, 0.04578476399183273]]\n",
            "Epoch: 1 Batch: 665, [Discriminator_A :: Loss: 0.006138390977866948], [ Generator :: Loss: [0.7837358713150024, 0.0021924793254584074, 0.0, 0.03088703379034996, 0.03586781397461891, 0.054978057742118835, 0.0590168759226799]]\n",
            "Epoch: 1 Batch: 666, [Discriminator_A :: Loss: 0.36916766870308493], [ Generator :: Loss: [0.7864443063735962, 3.845793253276497e-05, 0.0, 0.03897033631801605, 0.029325032606720924, 0.066398486495018, 0.03705371916294098]]\n",
            "Epoch: 1 Batch: 667, [Discriminator_A :: Loss: 0.15684314514510334], [ Generator :: Loss: [0.8129332661628723, 0.0015696579357609153, 0.0, 0.04338249936699867, 0.027465639635920525, 0.0659085363149643, 0.03697371855378151]]\n",
            "Epoch: 1 Batch: 668, [Discriminator_A :: Loss: 0.14640678511932492], [ Generator :: Loss: [0.836450457572937, 0.001418235362507403, 0.0, 0.03939546272158623, 0.034394338726997375, 0.05326506868004799, 0.04386913776397705]]\n",
            "Epoch: 1 Batch: 669, [Discriminator_A :: Loss: 0.4633167821302777], [ Generator :: Loss: [0.690266489982605, 0.0002059754478977993, 0.0, 0.03085663542151451, 0.030564099550247192, 0.03691496700048447, 0.03893820941448212]]\n",
            "Epoch: 1 Batch: 670, [Discriminator_A :: Loss: 0.23514681332744658], [ Generator :: Loss: [0.8791458606719971, 0.0065046390518546104, 0.0, 0.03531734645366669, 0.0409398078918457, 0.050938233733177185, 0.05913145840167999]]\n",
            "Epoch: 1 Batch: 671, [Discriminator_A :: Loss: 0.3046078425832093], [ Generator :: Loss: [0.598041296005249, 0.0004698077973444015, 0.0, 0.031146995723247528, 0.020003018900752068, 0.054188236594200134, 0.031883060932159424]]\n",
            "Epoch: 1 Batch: 672, [Discriminator_A :: Loss: 0.0558857552241534], [ Generator :: Loss: [0.9181020855903625, 0.00242857588455081, 0.0, 0.04183955118060112, 0.0370013490319252, 0.07445937395095825, 0.05280516296625137]]\n",
            "Epoch: 1 Batch: 673, [Discriminator_A :: Loss: 0.46885171823669225], [ Generator :: Loss: [0.89903724193573, 0.011092975735664368, 0.0, 0.03620058670639992, 0.04408145323395729, 0.032649192959070206, 0.05247464030981064]]\n",
            "Epoch: 1 Batch: 674, [Discriminator_A :: Loss: 0.32975959821487777], [ Generator :: Loss: [0.7952861785888672, 0.0024434146471321583, 0.0, 0.03527630493044853, 0.03382961452007294, 0.04597855731844902, 0.0558050200343132]]\n",
            "Epoch: 1 Batch: 675, [Discriminator_A :: Loss: 0.04978865248267539], [ Generator :: Loss: [2.856060028076172, 0.9822106957435608, 1.0, 0.0362081415951252, 0.03874547407031059, 0.06705143302679062, 0.05726167559623718]]\n",
            "Epoch: 1 Batch: 676, [Discriminator_A :: Loss: 0.02951782436866779], [ Generator :: Loss: [0.8157250285148621, 0.0008285791263915598, 0.0, 0.03404148668050766, 0.03590462729334831, 0.05102676525712013, 0.06440851092338562]]\n",
            "Epoch: 1 Batch: 677, [Discriminator_A :: Loss: 0.40924432237807196], [ Generator :: Loss: [0.77787184715271, 0.0005496545345522463, 0.0, 0.034981369972229004, 0.033005062490701675, 0.046829503029584885, 0.050628334283828735]]\n",
            "Epoch: 1 Batch: 678, [Discriminator_A :: Loss: 0.43072672485141084], [ Generator :: Loss: [0.6665550470352173, 0.001642518793232739, 0.0, 0.02620425447821617, 0.031062640249729156, 0.044182516634464264, 0.04806101694703102]]\n",
            "Epoch: 1 Batch: 679, [Discriminator_A :: Loss: 0.14616328821284696], [ Generator :: Loss: [0.8313030004501343, 0.0007776840357109904, 0.0, 0.03626185655593872, 0.035690367221832275, 0.059541769325733185, 0.05146125704050064]]\n",
            "Epoch: 1 Batch: 680, [Discriminator_A :: Loss: 0.11326588391239056], [ Generator :: Loss: [0.79421466588974, 0.00028935339651070535, 0.0, 0.03570551797747612, 0.03347107395529747, 0.05315399169921875, 0.04900538921356201]]\n",
            "Epoch: 1 Batch: 681, [Discriminator_A :: Loss: 0.005459650827106088], [ Generator :: Loss: [0.8827556371688843, 0.0026541189290583134, 0.0, 0.0410974957048893, 0.03369312733411789, 0.07544351369142532, 0.0567517913877964]]\n",
            "Epoch: 1 Batch: 682, [Discriminator_A :: Loss: 0.0843168022838654], [ Generator :: Loss: [2.7929065227508545, 0.7775928974151611, 1.0, 0.03219681233167648, 0.05575793609023094, 0.0536494180560112, 0.08211679011583328]]\n",
            "Epoch: 1 Batch: 683, [Discriminator_A :: Loss: 0.4034462149866158], [ Generator :: Loss: [0.8725905418395996, 0.0006319800158962607, 0.0, 0.03610296547412872, 0.03814530000090599, 0.07072006165981293, 0.058755867183208466]]\n",
            "Epoch: 1 Batch: 684, [Discriminator_A :: Loss: 0.3606246029958129], [ Generator :: Loss: [0.6253573894500732, 0.0008613935206085443, 0.0, 0.02414981834590435, 0.02883864939212799, 0.04487859457731247, 0.04973270744085312]]\n",
            "Epoch: 1 Batch: 685, [Discriminator_A :: Loss: 0.3306810531648807], [ Generator :: Loss: [0.6978096961975098, 0.0013169461162760854, 0.0, 0.02408541366457939, 0.0365125946700573, 0.045262012630701065, 0.04525062069296837]]\n",
            "Epoch: 1 Batch: 686, [Discriminator_A :: Loss: 0.06840223190374672], [ Generator :: Loss: [0.7320647239685059, 0.006368402857333422, 0.0, 0.032800011336803436, 0.029787663370370865, 0.05747849866747856, 0.04234110936522484]]\n",
            "Epoch: 1 Batch: 687, [Discriminator_A :: Loss: 0.035025565419346094], [ Generator :: Loss: [0.7810890674591064, 0.0004296200058888644, 0.0, 0.03660489618778229, 0.031089209020137787, 0.0556885302066803, 0.048029832541942596]]\n",
            "Epoch: 1 Batch: 688, [Discriminator_A :: Loss: 0.4133116005687043], [ Generator :: Loss: [2.6040539741516113, 0.9486803412437439, 1.0, 0.0302666574716568, 0.026623781770467758, 0.0420350655913353, 0.04443393647670746]]\n",
            "Epoch: 1 Batch: 689, [Discriminator_A :: Loss: 0.05935787677299231], [ Generator :: Loss: [0.7602424025535583, 0.007348306942731142, 0.0, 0.037332579493522644, 0.027937090024352074, 0.05598427355289459, 0.04421312361955643]]\n",
            "Epoch: 1 Batch: 690, [Discriminator_A :: Loss: 0.40911542519461364], [ Generator :: Loss: [0.8402655720710754, 0.0016244801227003336, 0.0, 0.032182175666093826, 0.04064458981156349, 0.05608039349317551, 0.05429306626319885]]\n",
            "Epoch: 1 Batch: 691, [Discriminator_A :: Loss: 0.22613106830976903], [ Generator :: Loss: [2.4823334217071533, 0.8645766377449036, 1.0, 0.02897808514535427, 0.023759640753269196, 0.05052540451288223, 0.039853986352682114]]\n",
            "Epoch: 1 Batch: 692, [Discriminator_A :: Loss: 0.0006009836070006713], [ Generator :: Loss: [1.0496933460235596, 0.0023044270928949118, 0.0, 0.04362332448363304, 0.046361472457647324, 0.07275109738111496, 0.07478983700275421]]\n",
            "Epoch: 1 Batch: 693, [Discriminator_A :: Loss: 0.2815220681404753], [ Generator :: Loss: [0.6951795220375061, 9.05100314412266e-05, 0.0, 0.031092200428247452, 0.029016083106398582, 0.05133141949772835, 0.042674776166677475]]\n",
            "Epoch: 1 Batch: 694, [Discriminator_A :: Loss: 0.02584587290766649], [ Generator :: Loss: [0.790352463722229, 0.0008777111652307212, 0.0, 0.03727727010846138, 0.030808616429567337, 0.0628027617931366, 0.045813143253326416]]\n",
            "Epoch: 1 Batch: 695, [Discriminator_A :: Loss: 0.006151252920972183], [ Generator :: Loss: [0.966326117515564, 0.005576715338975191, 0.0, 0.0384070910513401, 0.0450468435883522, 0.06076645106077194, 0.06544364243745804]]\n",
            "Epoch: 1 Batch: 696, [Discriminator_A :: Loss: 0.013078169140499085], [ Generator :: Loss: [0.6751299500465393, 0.0004790957609657198, 0.0, 0.02865513227880001, 0.029302960261702538, 0.048687007278203964, 0.04638290777802467]]\n",
            "Epoch: 1 Batch: 697, [Discriminator_A :: Loss: 0.0003287441941211], [ Generator :: Loss: [2.9518685340881348, 0.93214350938797, 1.0, 0.03892789036035538, 0.04956815391778946, 0.06487327069044113, 0.06989146769046783]]\n",
            "Epoch: 1 Batch: 698, [Discriminator_A :: Loss: 0.10240459597844165], [ Generator :: Loss: [0.7698211073875427, 0.0005146737094037235, 0.0, 0.03260216861963272, 0.033093202859163284, 0.0564400814473629, 0.05591266229748726]]\n",
            "Epoch: 1 Batch: 699, [Discriminator_A :: Loss: 0.00024529134861950297], [ Generator :: Loss: [0.9920035600662231, 0.000622863823082298, 0.0, 0.03824501484632492, 0.049146492034196854, 0.06427307426929474, 0.05319254845380783]]\n",
            "Epoch: 1 Batch: 700, [Discriminator_A :: Loss: 0.17312100194976665], [ Generator :: Loss: [0.7007470726966858, 0.0013189627788960934, 0.0, 0.030565403401851654, 0.029848450794816017, 0.047375161200761795, 0.04791438952088356]]\n",
            "Image_A shape: (64, 64, 3)\n",
            "fake_B shape: (64, 64, 3)\n",
            "reconstructed_A shape: (64, 64, 3)\n"
          ]
        },
        {
          "output_type": "stream",
          "name": "stderr",
          "text": [
            "WARNING:absl:Found untraced functions such as leaky_re_lu_4_layer_call_fn, leaky_re_lu_4_layer_call_and_return_conditional_losses, leaky_re_lu_5_layer_call_fn, leaky_re_lu_5_layer_call_and_return_conditional_losses, leaky_re_lu_6_layer_call_fn while saving (showing 5 of 80). These functions will not be directly callable after loading.\n"
          ]
        },
        {
          "output_type": "stream",
          "name": "stdout",
          "text": [
            "INFO:tensorflow:Assets written to: /content/gdrive/My Drive/Colab Notebooks/cycleGAN/monet2photo_out/gan_model/assets\n"
          ]
        },
        {
          "output_type": "stream",
          "name": "stderr",
          "text": [
            "INFO:tensorflow:Assets written to: /content/gdrive/My Drive/Colab Notebooks/cycleGAN/monet2photo_out/gan_model/assets\n",
            "WARNING:absl:Found untraced functions such as leaky_re_lu_layer_call_fn, leaky_re_lu_layer_call_and_return_conditional_losses, leaky_re_lu_1_layer_call_fn, leaky_re_lu_1_layer_call_and_return_conditional_losses, leaky_re_lu_2_layer_call_fn while saving (showing 5 of 20). These functions will not be directly callable after loading.\n"
          ]
        },
        {
          "output_type": "stream",
          "name": "stdout",
          "text": [
            "INFO:tensorflow:Assets written to: /content/gdrive/My Drive/Colab Notebooks/cycleGAN/monet2photo_out/generator_A_to_B/assets\n"
          ]
        },
        {
          "output_type": "stream",
          "name": "stderr",
          "text": [
            "INFO:tensorflow:Assets written to: /content/gdrive/My Drive/Colab Notebooks/cycleGAN/monet2photo_out/generator_A_to_B/assets\n",
            "WARNING:absl:Found untraced functions such as leaky_re_lu_4_layer_call_fn, leaky_re_lu_4_layer_call_and_return_conditional_losses, leaky_re_lu_5_layer_call_fn, leaky_re_lu_5_layer_call_and_return_conditional_losses, leaky_re_lu_6_layer_call_fn while saving (showing 5 of 20). These functions will not be directly callable after loading.\n"
          ]
        },
        {
          "output_type": "stream",
          "name": "stdout",
          "text": [
            "INFO:tensorflow:Assets written to: /content/gdrive/My Drive/Colab Notebooks/cycleGAN/monet2photo_out/generator_B_to_A/assets\n"
          ]
        },
        {
          "output_type": "stream",
          "name": "stderr",
          "text": [
            "INFO:tensorflow:Assets written to: /content/gdrive/My Drive/Colab Notebooks/cycleGAN/monet2photo_out/generator_B_to_A/assets\n",
            "WARNING:absl:Found untraced functions such as leaky_re_lu_8_layer_call_fn, leaky_re_lu_8_layer_call_and_return_conditional_losses, leaky_re_lu_9_layer_call_fn, leaky_re_lu_9_layer_call_and_return_conditional_losses, leaky_re_lu_10_layer_call_fn while saving (showing 5 of 20). These functions will not be directly callable after loading.\n"
          ]
        },
        {
          "output_type": "stream",
          "name": "stdout",
          "text": [
            "INFO:tensorflow:Assets written to: /content/gdrive/My Drive/Colab Notebooks/cycleGAN/monet2photo_out/discriminator_A/assets\n"
          ]
        },
        {
          "output_type": "stream",
          "name": "stderr",
          "text": [
            "INFO:tensorflow:Assets written to: /content/gdrive/My Drive/Colab Notebooks/cycleGAN/monet2photo_out/discriminator_A/assets\n",
            "WARNING:absl:Found untraced functions such as leaky_re_lu_12_layer_call_fn, leaky_re_lu_12_layer_call_and_return_conditional_losses, leaky_re_lu_13_layer_call_fn, leaky_re_lu_13_layer_call_and_return_conditional_losses, leaky_re_lu_14_layer_call_fn while saving (showing 5 of 20). These functions will not be directly callable after loading.\n"
          ]
        },
        {
          "output_type": "stream",
          "name": "stdout",
          "text": [
            "INFO:tensorflow:Assets written to: /content/gdrive/My Drive/Colab Notebooks/cycleGAN/monet2photo_out/discriminator_B/assets\n"
          ]
        },
        {
          "output_type": "stream",
          "name": "stderr",
          "text": [
            "INFO:tensorflow:Assets written to: /content/gdrive/My Drive/Colab Notebooks/cycleGAN/monet2photo_out/discriminator_B/assets\n"
          ]
        },
        {
          "output_type": "stream",
          "name": "stdout",
          "text": [
            "Epoch: 1 Batch: 701, [Discriminator_A :: Loss: 0.009874672774458304], [ Generator :: Loss: [0.7641727328300476, 0.00024478553677909076, 0.0, 0.0385420024394989, 0.02662832662463188, 0.0685829445719719, 0.043641701340675354]]\n",
            "Epoch: 1 Batch: 702, [Discriminator_A :: Loss: 0.3706467403098941], [ Generator :: Loss: [0.7082823514938354, 0.015637265518307686, 0.0, 0.025493433699011803, 0.03386092558503151, 0.04298091307282448, 0.056120604276657104]]\n",
            "Epoch: 1 Batch: 703, [Discriminator_A :: Loss: 0.3286710343818413], [ Generator :: Loss: [0.7778016924858093, 0.0005457487422972918, 0.0, 0.029055755585432053, 0.03890638425946236, 0.04611046612262726, 0.051524072885513306]]\n",
            "Epoch: 1 Batch: 704, [Discriminator_A :: Loss: 0.4471527063869871], [ Generator :: Loss: [0.7841531038284302, 0.0014354772865772247, 0.0, 0.026924308389425278, 0.038721393793821335, 0.05565020442008972, 0.07061038166284561]]\n",
            "Epoch: 1 Batch: 705, [Discriminator_A :: Loss: 0.37804050400154665], [ Generator :: Loss: [2.545084238052368, 0.9270108342170715, 1.0, 0.02529560774564743, 0.02807551994919777, 0.04433402046561241, 0.04002794623374939]]\n",
            "Epoch: 1 Batch: 706, [Discriminator_A :: Loss: 0.4404380077321548], [ Generator :: Loss: [0.8289397954940796, 0.001953519182279706, 0.0, 0.031141582876443863, 0.0401320718228817, 0.04719894379377365, 0.0670507475733757]]\n",
            "Epoch: 1 Batch: 707, [Discriminator_A :: Loss: 0.0010221089469268918], [ Generator :: Loss: [0.7630094289779663, 0.002085485029965639, 0.0, 0.044866085052490234, 0.020990876480937004, 0.0691201388835907, 0.03323421999812126]]\n",
            "Epoch: 1 Batch: 708, [Discriminator_A :: Loss: 0.45982924243435264], [ Generator :: Loss: [2.86153507232666, 0.8889412879943848, 1.0, 0.028390072286128998, 0.05593172833323479, 0.05178898572921753, 0.0775868222117424]]\n",
            "Epoch: 1 Batch: 709, [Discriminator_A :: Loss: 0.001861821801867336], [ Generator :: Loss: [0.8819425106048584, 0.00684944074600935, 0.0, 0.03476594388484955, 0.041049081832170486, 0.06144874170422554, 0.05549407750368118]]\n",
            "Epoch: 1 Batch: 710, [Discriminator_A :: Loss: 0.42128469282761216], [ Generator :: Loss: [0.6894897818565369, 0.007576305419206619, 0.0, 0.0256474819034338, 0.03228182718157768, 0.0518067441880703, 0.050813622772693634]]\n",
            "Epoch: 1 Batch: 711, [Discriminator_A :: Loss: 0.009048789273947477], [ Generator :: Loss: [0.7303656339645386, 0.003559879492968321, 0.0, 0.03834237903356552, 0.02503098174929619, 0.053370825946331024, 0.03970130905508995]]\n",
            "Epoch: 1 Batch: 712, [Discriminator_A :: Loss: 0.0003257750067859888], [ Generator :: Loss: [0.9578667879104614, 0.0006526201614178717, 0.0, 0.051087889820337296, 0.030477069318294525, 0.09065541625022888, 0.05090916529297829]]\n",
            "Epoch: 1 Batch: 713, [Discriminator_A :: Loss: 0.0007514182452723617], [ Generator :: Loss: [0.8580056428909302, 0.002232328988611698, 0.0, 0.043392062187194824, 0.029834572225809097, 0.06767351180315018, 0.05583342909812927]]\n",
            "Epoch: 1 Batch: 714, [Discriminator_A :: Loss: 0.2732240374898538], [ Generator :: Loss: [0.7094368934631348, 0.0008741442579776049, 0.0, 0.025406692177057266, 0.03497657924890518, 0.046263188123703, 0.05846691131591797]]\n",
            "Epoch: 1 Batch: 715, [Discriminator_A :: Loss: 0.034350008820183575], [ Generator :: Loss: [0.9197996854782104, 0.001224659732542932, 0.0, 0.05063546821475029, 0.029385380446910858, 0.07731577754020691, 0.041050706058740616]]\n",
            "Epoch: 1 Batch: 716, [Discriminator_A :: Loss: 0.4247630052268505], [ Generator :: Loss: [0.7318468689918518, 0.003707935567945242, 0.0, 0.0365985631942749, 0.02618619054555893, 0.06262639909982681, 0.03766496479511261]]\n",
            "Epoch: 1 Batch: 717, [Discriminator_A :: Loss: 0.0025327265611849725], [ Generator :: Loss: [1.0825921297073364, 0.006854009348899126, 0.0, 0.05728873237967491, 0.03565127030014992, 0.08765237778425217, 0.05868575721979141]]\n",
            "Epoch: 1 Batch: 718, [Discriminator_A :: Loss: 0.13079950885730796], [ Generator :: Loss: [0.7620179653167725, 0.0016535865142941475, 0.0, 0.03322826325893402, 0.030886774882674217, 0.07183471322059631, 0.04737931862473488]]\n",
            "Epoch: 1 Batch: 719, [Discriminator_A :: Loss: 0.13655433780513704], [ Generator :: Loss: [0.9463677406311035, 0.0025029226671904325, 0.0, 0.04464404657483101, 0.03734370321035385, 0.0718420147895813, 0.05214531347155571]]\n",
            "Epoch: 1 Batch: 720, [Discriminator_A :: Loss: 0.10435477178543806], [ Generator :: Loss: [0.7772294282913208, 0.0014790399000048637, 0.0, 0.033883385360240936, 0.032320570200681686, 0.060253702104091644, 0.0534571073949337]]\n",
            "Epoch: 1 Batch: 721, [Discriminator_A :: Loss: 0.004626722831744701], [ Generator :: Loss: [0.8549506664276123, 0.0005364206153899431, 0.0, 0.04136379808187485, 0.033889684826135635, 0.05359269306063652, 0.04828672856092453]]\n",
            "Epoch: 1 Batch: 722, [Discriminator_A :: Loss: 0.0006115451687946916], [ Generator :: Loss: [0.8203662037849426, 0.001047541038133204, 0.0, 0.03870692476630211, 0.03019830211997032, 0.07899175584316254, 0.0512746199965477]]\n",
            "Epoch: 1 Batch: 723, [Discriminator_A :: Loss: 0.006814405671320856], [ Generator :: Loss: [0.803668200969696, 0.0005701379268430173, 0.0, 0.04094429314136505, 0.027315469458699226, 0.07523486018180847, 0.04526554048061371]]\n",
            "Epoch: 1 Batch: 724, [Discriminator_A :: Loss: 0.32725859541096725], [ Generator :: Loss: [0.7261441349983215, 0.0005838941433466971, 0.0, 0.03160741180181503, 0.030299153178930283, 0.05656653642654419, 0.04992802441120148]]\n",
            "Epoch: 1 Batch: 725, [Discriminator_A :: Loss: 0.3928770775200974], [ Generator :: Loss: [0.8028782606124878, 6.922494503669441e-05, 0.0, 0.042785994708538055, 0.02600383758544922, 0.07365912944078445, 0.041251517832279205]]\n",
            "Epoch: 1 Batch: 726, [Discriminator_A :: Loss: 0.35731803346425295], [ Generator :: Loss: [0.8701648712158203, 0.060432154685258865, 0.0, 0.04038756340742111, 0.030957205221056938, 0.050329506397247314, 0.04595554247498512]]\n",
            "Epoch: 1 Batch: 727, [Discriminator_A :: Loss: 0.14794906973838806], [ Generator :: Loss: [0.7187474966049194, 0.00860217772424221, 0.0, 0.03162407502532005, 0.02920079603791237, 0.044347360730171204, 0.057549260556697845]]\n",
            "Epoch: 1 Batch: 728, [Discriminator_A :: Loss: 0.0026943162083625793], [ Generator :: Loss: [0.7661991119384766, 0.006103441119194031, 0.0, 0.035347457975149155, 0.030252913013100624, 0.06331941485404968, 0.04077248275279999]]\n",
            "Epoch: 1 Batch: 729, [Discriminator_A :: Loss: 0.4691017661243677], [ Generator :: Loss: [0.8289798498153687, 0.02301512099802494, 0.0, 0.02371250092983246, 0.04560748115181923, 0.0423884280025959, 0.07037650793790817]]\n",
            "Epoch: 1 Batch: 730, [Discriminator_A :: Loss: 0.31963635052670725], [ Generator :: Loss: [0.7330412268638611, 0.0008714430150575936, 0.0, 0.03336355835199356, 0.029500838369131088, 0.059610653668642044, 0.043915171176195145]]\n",
            "Epoch: 1 Batch: 731, [Discriminator_A :: Loss: 0.0011685277422657236], [ Generator :: Loss: [1.001359462738037, 0.00036261649802327156, 0.0, 0.05556037649512291, 0.02868817001581192, 0.10797698050737381, 0.050534386187791824]]\n",
            "Epoch: 1 Batch: 732, [Discriminator_A :: Loss: 0.36696435464546084], [ Generator :: Loss: [2.811410427093506, 0.9379990696907043, 1.0, 0.03765248507261276, 0.038176070898771286, 0.04577404260635376, 0.06935163587331772]]\n",
            "Epoch: 1 Batch: 733, [Discriminator_A :: Loss: 0.13011397776426747], [ Generator :: Loss: [0.9692237377166748, 0.000333998235873878, 0.0, 0.04901795834302902, 0.034954868257045746, 0.07452899217605591, 0.05463246628642082]]\n",
            "Epoch: 1 Batch: 734, [Discriminator_A :: Loss: 0.23540586233139038], [ Generator :: Loss: [1.0475225448608398, 0.17633533477783203, 0.0, 0.04085051268339157, 0.03632434085011482, 0.0444825142621994, 0.05495607480406761]]\n",
            "Epoch: 1 Batch: 735, [Discriminator_A :: Loss: 0.010265984630677849], [ Generator :: Loss: [2.481351852416992, 0.6591334342956543, 1.0, 0.04080991819500923, 0.03066590055823326, 0.06577537208795547, 0.041684839874506]]\n",
            "Epoch: 1 Batch: 736, [Discriminator_A :: Loss: 0.2674974632682279], [ Generator :: Loss: [0.7654480934143066, 0.0013590630842372775, 0.0, 0.030167054384946823, 0.036765649914741516, 0.05043315887451172, 0.04432885721325874]]\n",
            "Epoch: 1 Batch: 737, [Discriminator_A :: Loss: 0.0005557474214583635], [ Generator :: Loss: [0.880806565284729, 0.00034036370925605297, 0.0, 0.04487473517656326, 0.032048895955085754, 0.06818654388189316, 0.043043311685323715]]\n",
            "Epoch: 1 Batch: 738, [Discriminator_A :: Loss: 0.009648117469623685], [ Generator :: Loss: [0.7894209623336792, 0.0028203369583934546, 0.0, 0.042258694767951965, 0.02526259608566761, 0.07030145823955536, 0.041086237877607346]]\n",
            "Epoch: 1 Batch: 739, [Discriminator_A :: Loss: 0.18397604953497648], [ Generator :: Loss: [0.7200655341148376, 0.004179013427346945, 0.0, 0.02897898480296135, 0.03325046971440315, 0.04880303144454956, 0.044788964092731476]]\n",
            "Epoch: 1 Batch: 740, [Discriminator_A :: Loss: 0.35262480308301747], [ Generator :: Loss: [0.8453261256217957, 0.0016590834129601717, 0.0, 0.043102990835905075, 0.030117863789200783, 0.06889763474464417, 0.04256085306406021]]\n",
            "Epoch: 1 Batch: 741, [Discriminator_A :: Loss: 0.010039332788437605], [ Generator :: Loss: [0.9261558651924133, 0.0006966060027480125, 0.0, 0.05375247448682785, 0.02593580260872841, 0.08583758026361465, 0.0427389033138752]]\n",
            "Epoch: 1 Batch: 742, [Discriminator_A :: Loss: 0.32417664281092584], [ Generator :: Loss: [2.7920494079589844, 0.8781968355178833, 1.0, 0.029200896620750427, 0.05104532465338707, 0.044427644461393356, 0.06696294993162155]]\n",
            "Epoch: 1 Batch: 743, [Discriminator_A :: Loss: 0.20733783916512039], [ Generator :: Loss: [0.9421606659889221, 0.0005906512378714979, 0.0, 0.03789294883608818, 0.043742310255765915, 0.06131086125969887, 0.06390660256147385]]\n",
            "Epoch: 1 Batch: 744, [Discriminator_A :: Loss: 0.4302360452711582], [ Generator :: Loss: [0.8164653778076172, 0.000841050932649523, 0.0, 0.04236067458987236, 0.028732649981975555, 0.061664506793022156, 0.04302654415369034]]\n",
            "Epoch: 1 Batch: 745, [Discriminator_A :: Loss: 0.02938543213531375], [ Generator :: Loss: [0.872069239616394, 0.0022894982248544693, 0.0, 0.04337857663631439, 0.03144102171063423, 0.0728413537144661, 0.0487423799932003]]\n",
            "Epoch: 1 Batch: 746, [Discriminator_A :: Loss: 0.35467205703025684], [ Generator :: Loss: [0.7075196504592896, 0.0013325790641829371, 0.0, 0.02764493227005005, 0.03523177653551102, 0.03861743584275246, 0.03880252316594124]]\n",
            "Epoch: 1 Batch: 747, [Discriminator_A :: Loss: 0.46099301672074944], [ Generator :: Loss: [0.9138494729995728, 0.0017285710200667381, 0.0, 0.03560793399810791, 0.04527360200881958, 0.04119130223989487, 0.06211419403553009]]\n",
            "Epoch: 1 Batch: 748, [Discriminator_A :: Loss: 0.44846685099764727], [ Generator :: Loss: [1.0802907943725586, 0.00031073426362127066, 0.0, 0.051427990198135376, 0.044440872967243195, 0.06284645199775696, 0.05844496563076973]]\n",
            "Epoch: 1 Batch: 749, [Discriminator_A :: Loss: 0.008834185806335881], [ Generator :: Loss: [0.8884445428848267, 0.00011728599929483607, 0.0, 0.041813768446445465, 0.03443726897239685, 0.07864027470350266, 0.04717659950256348]]\n",
            "Epoch: 1 Batch: 750, [Discriminator_A :: Loss: 0.007412148057483137], [ Generator :: Loss: [1.011078953742981, 0.0005133413360454142, 0.0, 0.04729444161057472, 0.039400771260261536, 0.08495725691318512, 0.05865621194243431]]\n",
            "Epoch: 1 Batch: 751, [Discriminator_A :: Loss: 0.45728509592299815], [ Generator :: Loss: [0.6526257395744324, 0.0010173392947763205, 0.0, 0.028425434604287148, 0.02839105948805809, 0.04189980775117874, 0.04154365509748459]]\n",
            "Epoch: 1 Batch: 752, [Discriminator_A :: Loss: 0.0007824638596503064], [ Generator :: Loss: [1.3145482540130615, 0.08254347741603851, 0.0, 0.05727117136120796, 0.04800281301140785, 0.0990058034658432, 0.08025915920734406]]\n",
            "Epoch: 1 Batch: 753, [Discriminator_A :: Loss: 0.15007952047744766], [ Generator :: Loss: [1.037794589996338, 0.001481443177908659, 0.0, 0.04679185152053833, 0.04420571029186249, 0.06892172247171402, 0.05741586536169052]]\n",
            "Epoch: 1 Batch: 754, [Discriminator_A :: Loss: 0.10682751255808398], [ Generator :: Loss: [0.8133007884025574, 0.00033162557519972324, 0.0, 0.03590979427099228, 0.034823328256607056, 0.06281372159719467, 0.04282418638467789]]\n",
            "Epoch: 1 Batch: 755, [Discriminator_A :: Loss: 0.1262081284658052], [ Generator :: Loss: [0.8470298647880554, 0.0007490046555176377, 0.0, 0.035448867827653885, 0.03736775740981102, 0.06273005157709122, 0.05538457632064819]]\n",
            "Epoch: 1 Batch: 756, [Discriminator_A :: Loss: 0.03743577603017911], [ Generator :: Loss: [2.684926986694336, 0.901261031627655, 1.0, 0.03162262961268425, 0.036518726497888565, 0.060037918388843536, 0.042214535176754]]\n",
            "Epoch: 1 Batch: 757, [Discriminator_A :: Loss: 0.3988522743493377], [ Generator :: Loss: [0.791633129119873, 0.0004681684949900955, 0.0, 0.03453832119703293, 0.033978112041950226, 0.05753811076283455, 0.048462510108947754]]\n",
            "Epoch: 1 Batch: 758, [Discriminator_A :: Loss: 0.3852429036051035], [ Generator :: Loss: [0.8952198028564453, 0.003444902366027236, 0.0, 0.034496232867240906, 0.044638559222221375, 0.05264000967144966, 0.04778696224093437]]\n",
            "Epoch: 1 Batch: 759, [Discriminator_A :: Loss: 0.3395946938690031], [ Generator :: Loss: [0.8365272283554077, 0.00027466670144349337, 0.0, 0.030706394463777542, 0.04277068376541138, 0.04653321951627731, 0.05494857579469681]]\n",
            "Epoch: 1 Batch: 760, [Discriminator_A :: Loss: 0.00039269796980079263], [ Generator :: Loss: [0.816874086856842, 0.0002689984394237399, 0.0, 0.04257412627339363, 0.02804110199213028, 0.0715438649058342, 0.038908958435058594]]\n",
            "Epoch: 1 Batch: 761, [Discriminator_A :: Loss: 0.47988573560724035], [ Generator :: Loss: [0.7068558931350708, 0.000563581648748368, 0.0, 0.03391354903578758, 0.02756170928478241, 0.049461040645837784, 0.042078688740730286]]\n",
            "Epoch: 1 Batch: 762, [Discriminator_A :: Loss: 0.000873585551744327], [ Generator :: Loss: [0.8949121236801147, 0.0016755310352891684, 0.0, 0.0417620986700058, 0.03519090265035629, 0.07220503687858582, 0.05150157958269119]]\n",
            "Epoch: 1 Batch: 763, [Discriminator_A :: Loss: 0.44992801104672253], [ Generator :: Loss: [0.6122728586196899, 0.002365769585594535, 0.0, 0.01905660703778267, 0.0325113981962204, 0.04220551997423172, 0.05202149599790573]]\n",
            "Epoch: 1 Batch: 764, [Discriminator_A :: Loss: 0.07969075499568135], [ Generator :: Loss: [0.8345050811767578, 0.0018060794100165367, 0.0, 0.039744213223457336, 0.03286995366215706, 0.05776580795645714, 0.0487915575504303]]\n",
            "Epoch: 1 Batch: 765, [Discriminator_A :: Loss: 0.0003447480557952076], [ Generator :: Loss: [0.8727462887763977, 0.00012011599756078795, 0.0, 0.04457918927073479, 0.032381050288677216, 0.04813326522707939, 0.05489049851894379]]\n",
            "Epoch: 1 Batch: 766, [Discriminator_A :: Loss: 0.055802357965148985], [ Generator :: Loss: [0.8506909608840942, 0.0005536752287298441, 0.0, 0.040127284824848175, 0.03480459377169609, 0.05396416410803795, 0.04685432091355324]]\n",
            "Epoch: 1 Batch: 767, [Discriminator_A :: Loss: 0.004446160208317451], [ Generator :: Loss: [0.7602546811103821, 0.00031292144558392465, 0.0, 0.03539428859949112, 0.030143490061163902, 0.05000710487365723, 0.05455685779452324]]\n",
            "Epoch: 1 Batch: 768, [Discriminator_A :: Loss: 0.4680761401541531], [ Generator :: Loss: [0.7435990571975708, 0.0024907293263822794, 0.0, 0.030273664742708206, 0.03305794298648834, 0.05251988396048546, 0.05527236685156822]]\n",
            "Epoch: 1 Batch: 769, [Discriminator_A :: Loss: 0.22987762713455595], [ Generator :: Loss: [0.6858617067337036, 0.00019191259343642741, 0.0, 0.03559544309973717, 0.024381622672080994, 0.052885692566633224, 0.03301343694329262]]\n",
            "Epoch: 1 Batch: 770, [Discriminator_A :: Loss: 0.35884370471467264], [ Generator :: Loss: [0.6271084547042847, 0.0010312075028195977, 0.0, 0.023270756006240845, 0.02991652861237526, 0.048713840544223785, 0.045490562915802]]\n",
            "Epoch: 1 Batch: 771, [Discriminator_A :: Loss: 0.3472999547084328], [ Generator :: Loss: [0.8489352464675903, 0.00038094836054369807, 0.0, 0.03660164028406143, 0.0383869968354702, 0.04486488178372383, 0.05380300059914589]]\n",
            "Epoch: 1 Batch: 772, [Discriminator_A :: Loss: 0.0005109167459522723], [ Generator :: Loss: [2.9385619163513184, 0.8984313607215881, 1.0, 0.051823779940605164, 0.04095986485481262, 0.07778581231832504, 0.03450828045606613]]\n",
            "Epoch: 1 Batch: 773, [Discriminator_A :: Loss: 0.005276844782201806], [ Generator :: Loss: [1.26434326171875, 0.08707822859287262, 0.0, 0.061093129217624664, 0.039593249559402466, 0.11981235444545746, 0.05058891326189041]]\n",
            "Epoch: 1 Batch: 774, [Discriminator_A :: Loss: 0.003484476590529084], [ Generator :: Loss: [0.8066492080688477, 0.0031986134126782417, 0.0, 0.045127201825380325, 0.024247976019978523, 0.07271717488765717, 0.03698166087269783]]\n",
            "Epoch: 1 Batch: 775, [Discriminator_A :: Loss: 0.0672263556625694], [ Generator :: Loss: [1.0420573949813843, 0.004285998176783323, 0.0, 0.05824461579322815, 0.03560777008533478, 0.05351462960243225, 0.045732952654361725]]\n",
            "Epoch: 1 Batch: 776, [Discriminator_A :: Loss: 0.00837743899319321], [ Generator :: Loss: [0.9966033697128296, 0.0016371168894693255, 0.0, 0.04327252879738808, 0.04237181693315506, 0.07960725575685501, 0.05891554057598114]]\n",
            "Epoch: 1 Batch: 777, [Discriminator_A :: Loss: 0.36895870813168585], [ Generator :: Loss: [0.9443451166152954, 0.01774970069527626, 0.0, 0.02847658097743988, 0.05284157767891884, 0.041878730058670044, 0.07153505086898804]]\n",
            "Epoch: 1 Batch: 778, [Discriminator_A :: Loss: 0.00045074880472384393], [ Generator :: Loss: [1.28224778175354, 0.0023267415817826986, 0.0, 0.056217845529317856, 0.05610770732164383, 0.08781079202890396, 0.06885485351085663]]\n",
            "Epoch: 1 Batch: 779, [Discriminator_A :: Loss: 0.4820897620083997], [ Generator :: Loss: [1.1108331680297852, 0.006653893273323774, 0.0, 0.04477078467607498, 0.05528072267770767, 0.039946164935827255, 0.06371801346540451]]\n",
            "Epoch: 1 Batch: 780, [Discriminator_A :: Loss: 0.29388072004076093], [ Generator :: Loss: [0.781242847442627, 0.0019182778196409345, 0.0, 0.039616458117961884, 0.027943801134824753, 0.05600142851471901, 0.0477205365896225]]\n",
            "Epoch: 1 Batch: 781, [Discriminator_A :: Loss: 0.08365548960864544], [ Generator :: Loss: [1.2835562229156494, 0.16339823603630066, 0.0, 0.04923919960856438, 0.04832654073834419, 0.08293024450540543, 0.06157032027840614]]\n",
            "Epoch: 1 Batch: 782, [Discriminator_A :: Loss: 0.007581694284453988], [ Generator :: Loss: [1.0706300735473633, 0.0017319329781457782, 0.0, 0.05251437425613403, 0.041814662516117096, 0.07895879447460175, 0.046649008989334106]]\n",
            "Epoch: 1 Batch: 783, [Discriminator_A :: Loss: 0.13255496507917996], [ Generator :: Loss: [0.96687912940979, 0.00018104593618772924, 0.0, 0.04370085522532463, 0.04183536767959595, 0.06721620261669159, 0.0441197007894516]]\n",
            "Epoch: 1 Batch: 784, [Discriminator_A :: Loss: 0.010984251988702454], [ Generator :: Loss: [2.776093006134033, 0.9743368625640869, 1.0, 0.03952304273843765, 0.03038977086544037, 0.05994875729084015, 0.042679525911808014]]\n",
            "Epoch: 1 Batch: 785, [Discriminator_A :: Loss: 0.3957630933728069], [ Generator :: Loss: [0.690461277961731, 0.005266910418868065, 0.0, 0.0272480770945549, 0.03271223604679108, 0.04344054311513901, 0.04215070605278015]]\n",
            "Epoch: 1 Batch: 786, [Discriminator_A :: Loss: 0.11165240890113637], [ Generator :: Loss: [2.8874809741973877, 0.9594730138778687, 1.0, 0.04453561455011368, 0.03656363859772682, 0.06292716413736343, 0.05408816784620285]]\n",
            "Epoch: 1 Batch: 787, [Discriminator_A :: Loss: 0.44427881045703543], [ Generator :: Loss: [0.7229504585266113, 0.00013454104191623628, 0.0, 0.02598077803850174, 0.03743430972099304, 0.04752457141876221, 0.04114052280783653]]\n",
            "Epoch: 1 Batch: 788, [Discriminator_A :: Loss: 0.4345578635111451], [ Generator :: Loss: [0.7986382246017456, 0.0031300007831305265, 0.0, 0.034760333597660065, 0.03667512536048889, 0.03267013281583786, 0.04848351329565048]]\n",
            "Epoch: 1 Batch: 789, [Discriminator_A :: Loss: 0.47251279855845496], [ Generator :: Loss: [1.0018823146820068, 0.003114693332463503, 0.0, 0.040656279772520065, 0.05024919658899307, 0.04507801681756973, 0.04463484510779381]]\n",
            "Epoch: 1 Batch: 790, [Discriminator_A :: Loss: 0.43570686818566173], [ Generator :: Loss: [2.9827256202697754, 0.9716986417770386, 1.0, 0.04484272375702858, 0.04765629023313522, 0.03338608518242836, 0.052650630474090576]]\n",
            "Epoch: 1 Batch: 791, [Discriminator_A :: Loss: 0.22725349920801818], [ Generator :: Loss: [0.7229582071304321, 0.004036511294543743, 0.0, 0.03964720666408539, 0.022949837148189545, 0.05615875869989395, 0.03679252788424492]]\n",
            "Epoch: 1 Batch: 792, [Discriminator_A :: Loss: 0.0002129170170519501], [ Generator :: Loss: [1.375832200050354, 0.0005061712581664324, 0.0, 0.05716795101761818, 0.06772936135530472, 0.07761979103088379, 0.04873313382267952]]\n",
            "Epoch: 1 Batch: 793, [Discriminator_A :: Loss: 0.06110076655750163], [ Generator :: Loss: [2.8349380493164062, 0.9558822512626648, 1.0, 0.03809642046689987, 0.038698960095644, 0.0567438006401062, 0.05435823276638985]]\n",
            "Epoch: 1 Batch: 794, [Discriminator_A :: Loss: 0.0313732177746715], [ Generator :: Loss: [1.216794729232788, 0.0010773158865049481, 0.0, 0.033956706523895264, 0.07547615468502045, 0.04704580456018448, 0.07434305548667908]]\n",
            "Epoch: 1 Batch: 795, [Discriminator_A :: Loss: 0.021700285049519152], [ Generator :: Loss: [0.8609650731086731, 3.183347507729195e-05, 0.0, 0.04430251568555832, 0.029681161046028137, 0.07232910394668579, 0.04876737669110298]]\n",
            "Epoch: 1 Batch: 796, [Discriminator_A :: Loss: 0.3288024899084121], [ Generator :: Loss: [0.600358247756958, 0.004457932896912098, 0.0, 0.023131966590881348, 0.02791721187531948, 0.04112060368061066, 0.04428791627287865]]\n",
            "Epoch: 1 Batch: 797, [Discriminator_A :: Loss: 0.2442491082183551], [ Generator :: Loss: [0.8495973348617554, 0.0015967179788276553, 0.0, 0.03742435574531555, 0.03501199185848236, 0.06716601550579071, 0.05647116154432297]]\n",
            "Epoch: 1 Batch: 798, [Discriminator_A :: Loss: 0.14681242126971483], [ Generator :: Loss: [0.811640739440918, 0.00064493203535676, 0.0, 0.030580783262848854, 0.040611252188682556, 0.049952369183301926, 0.04912309721112251]]\n",
            "Epoch: 1 Batch: 799, [Discriminator_A :: Loss: 0.3151505565328989], [ Generator :: Loss: [0.8467696309089661, 0.000501961272675544, 0.0, 0.03735695406794548, 0.03487830236554146, 0.07343688607215881, 0.05047822743654251]]\n",
            "Epoch: 1 Batch: 800, [Discriminator_A :: Loss: 0.26849064719863236], [ Generator :: Loss: [0.7052105069160461, 0.001158411498181522, 0.0, 0.02278016321361065, 0.038299333304166794, 0.03716428205370903, 0.05609283968806267]]\n",
            "Image_A shape: (64, 64, 3)\n",
            "fake_B shape: (64, 64, 3)\n",
            "reconstructed_A shape: (64, 64, 3)\n"
          ]
        },
        {
          "output_type": "stream",
          "name": "stderr",
          "text": [
            "WARNING:absl:Found untraced functions such as leaky_re_lu_4_layer_call_fn, leaky_re_lu_4_layer_call_and_return_conditional_losses, leaky_re_lu_5_layer_call_fn, leaky_re_lu_5_layer_call_and_return_conditional_losses, leaky_re_lu_6_layer_call_fn while saving (showing 5 of 80). These functions will not be directly callable after loading.\n"
          ]
        },
        {
          "output_type": "stream",
          "name": "stdout",
          "text": [
            "INFO:tensorflow:Assets written to: /content/gdrive/My Drive/Colab Notebooks/cycleGAN/monet2photo_out/gan_model/assets\n"
          ]
        },
        {
          "output_type": "stream",
          "name": "stderr",
          "text": [
            "INFO:tensorflow:Assets written to: /content/gdrive/My Drive/Colab Notebooks/cycleGAN/monet2photo_out/gan_model/assets\n",
            "WARNING:absl:Found untraced functions such as leaky_re_lu_layer_call_fn, leaky_re_lu_layer_call_and_return_conditional_losses, leaky_re_lu_1_layer_call_fn, leaky_re_lu_1_layer_call_and_return_conditional_losses, leaky_re_lu_2_layer_call_fn while saving (showing 5 of 20). These functions will not be directly callable after loading.\n"
          ]
        },
        {
          "output_type": "stream",
          "name": "stdout",
          "text": [
            "INFO:tensorflow:Assets written to: /content/gdrive/My Drive/Colab Notebooks/cycleGAN/monet2photo_out/generator_A_to_B/assets\n"
          ]
        },
        {
          "output_type": "stream",
          "name": "stderr",
          "text": [
            "INFO:tensorflow:Assets written to: /content/gdrive/My Drive/Colab Notebooks/cycleGAN/monet2photo_out/generator_A_to_B/assets\n",
            "WARNING:absl:Found untraced functions such as leaky_re_lu_4_layer_call_fn, leaky_re_lu_4_layer_call_and_return_conditional_losses, leaky_re_lu_5_layer_call_fn, leaky_re_lu_5_layer_call_and_return_conditional_losses, leaky_re_lu_6_layer_call_fn while saving (showing 5 of 20). These functions will not be directly callable after loading.\n"
          ]
        },
        {
          "output_type": "stream",
          "name": "stdout",
          "text": [
            "INFO:tensorflow:Assets written to: /content/gdrive/My Drive/Colab Notebooks/cycleGAN/monet2photo_out/generator_B_to_A/assets\n"
          ]
        },
        {
          "output_type": "stream",
          "name": "stderr",
          "text": [
            "INFO:tensorflow:Assets written to: /content/gdrive/My Drive/Colab Notebooks/cycleGAN/monet2photo_out/generator_B_to_A/assets\n",
            "WARNING:absl:Found untraced functions such as leaky_re_lu_8_layer_call_fn, leaky_re_lu_8_layer_call_and_return_conditional_losses, leaky_re_lu_9_layer_call_fn, leaky_re_lu_9_layer_call_and_return_conditional_losses, leaky_re_lu_10_layer_call_fn while saving (showing 5 of 20). These functions will not be directly callable after loading.\n"
          ]
        },
        {
          "output_type": "stream",
          "name": "stdout",
          "text": [
            "INFO:tensorflow:Assets written to: /content/gdrive/My Drive/Colab Notebooks/cycleGAN/monet2photo_out/discriminator_A/assets\n"
          ]
        },
        {
          "output_type": "stream",
          "name": "stderr",
          "text": [
            "INFO:tensorflow:Assets written to: /content/gdrive/My Drive/Colab Notebooks/cycleGAN/monet2photo_out/discriminator_A/assets\n",
            "WARNING:absl:Found untraced functions such as leaky_re_lu_12_layer_call_fn, leaky_re_lu_12_layer_call_and_return_conditional_losses, leaky_re_lu_13_layer_call_fn, leaky_re_lu_13_layer_call_and_return_conditional_losses, leaky_re_lu_14_layer_call_fn while saving (showing 5 of 20). These functions will not be directly callable after loading.\n"
          ]
        },
        {
          "output_type": "stream",
          "name": "stdout",
          "text": [
            "INFO:tensorflow:Assets written to: /content/gdrive/My Drive/Colab Notebooks/cycleGAN/monet2photo_out/discriminator_B/assets\n"
          ]
        },
        {
          "output_type": "stream",
          "name": "stderr",
          "text": [
            "INFO:tensorflow:Assets written to: /content/gdrive/My Drive/Colab Notebooks/cycleGAN/monet2photo_out/discriminator_B/assets\n"
          ]
        },
        {
          "output_type": "stream",
          "name": "stdout",
          "text": [
            "Epoch: 1 Batch: 801, [Discriminator_A :: Loss: 0.36823299500974827], [ Generator :: Loss: [0.8277865648269653, 0.0003913395921699703, 0.0, 0.039364755153656006, 0.03187788650393486, 0.06406869739294052, 0.05090009793639183]]\n",
            "Epoch: 1 Batch: 802, [Discriminator_A :: Loss: 0.33567117975326255], [ Generator :: Loss: [0.9653448462486267, 0.01040362287312746, 0.0, 0.035699836909770966, 0.04707518219947815, 0.06762167811393738, 0.05956931412220001]]\n",
            "Epoch: 1 Batch: 803, [Discriminator_A :: Loss: 0.24248851009178907], [ Generator :: Loss: [0.6779398918151855, 0.00095988909015432, 0.0, 0.02789267897605896, 0.030481437221169472, 0.05063122883439064, 0.04260764271020889]]\n",
            "Epoch: 1 Batch: 804, [Discriminator_A :: Loss: 0.0015410129381052684], [ Generator :: Loss: [0.9437755942344666, 6.85491759213619e-05, 0.0, 0.04266555234789848, 0.03896017372608185, 0.0745474100112915, 0.052902355790138245]]\n",
            "Epoch: 1 Batch: 805, [Discriminator_A :: Loss: 0.04249134153360501], [ Generator :: Loss: [0.9231451749801636, 0.02068290300667286, 0.0, 0.045798152685165405, 0.031864967197179794, 0.0768100842833519, 0.04902103170752525]]\n",
            "Epoch: 1 Batch: 806, [Discriminator_A :: Loss: 0.00034108808176824823], [ Generator :: Loss: [1.1142948865890503, 0.0001536942581878975, 0.0, 0.06435944139957428, 0.03322255238890648, 0.09305847436189651, 0.045262765139341354]]\n",
            "Epoch: 1 Batch: 807, [Discriminator_A :: Loss: 0.41669752370216884], [ Generator :: Loss: [0.6122944951057434, 0.0005364482058212161, 0.0, 0.02321009896695614, 0.030168700963258743, 0.027244189754128456, 0.05072585865855217]]\n",
            "Epoch: 1 Batch: 808, [Discriminator_A :: Loss: 0.4806776902405545], [ Generator :: Loss: [0.8880529403686523, 0.003379377070814371, 0.0, 0.04218218848109245, 0.03472667187452316, 0.06403639167547226, 0.05154852569103241]]\n",
            "Epoch: 1 Batch: 809, [Discriminator_A :: Loss: 0.0005555779353016987], [ Generator :: Loss: [0.856285572052002, 0.0006938054575584829, 0.0, 0.03655879572033882, 0.03653998672962189, 0.06635438650846481, 0.05824956297874451]]\n",
            "Epoch: 1 Batch: 810, [Discriminator_A :: Loss: 0.2951540923095308], [ Generator :: Loss: [0.7856783270835876, 0.0006562552880495787, 0.0, 0.03490269556641579, 0.03237774595618248, 0.05710447207093239, 0.05511319637298584]]\n",
            "Epoch: 1 Batch: 811, [Discriminator_A :: Loss: 0.012211307417601347], [ Generator :: Loss: [0.7777951955795288, 0.0017523132264614105, 0.0, 0.040665607899427414, 0.02671690843999386, 0.0627254992723465, 0.03949219733476639]]\n",
            "Epoch: 1 Batch: 812, [Discriminator_A :: Loss: 0.10790275092585944], [ Generator :: Loss: [0.9007494449615479, 0.000834174919873476, 0.0, 0.04366510733962059, 0.035699665546417236, 0.056833893060684204, 0.049433633685112]]\n",
            "Epoch: 1 Batch: 813, [Discriminator_A :: Loss: 0.16829795483499765], [ Generator :: Loss: [1.2173852920532227, 0.14271922409534454, 0.0, 0.04260556399822235, 0.051704730838537216, 0.07080895453691483, 0.06075418367981911]]\n",
            "Epoch: 1 Batch: 814, [Discriminator_A :: Loss: 0.0017343990548397414], [ Generator :: Loss: [1.0330841541290283, 8.469222666462883e-05, 0.0, 0.04447120428085327, 0.044509027153253555, 0.07994139194488525, 0.0632556825876236]]\n",
            "Epoch: 1 Batch: 815, [Discriminator_A :: Loss: 0.07822272891644388], [ Generator :: Loss: [0.84397292137146, 0.002904208144173026, 0.0, 0.03364453464746475, 0.041738733649253845, 0.04136529564857483, 0.04587073251605034]]\n",
            "Epoch: 1 Batch: 816, [Discriminator_A :: Loss: 0.4583678808994591], [ Generator :: Loss: [0.7711661458015442, 0.007221440318971872, 0.0, 0.03243890777230263, 0.032319385558366776, 0.0643291026353836, 0.05203268304467201]]\n",
            "Epoch: 1 Batch: 817, [Discriminator_A :: Loss: 0.438740921090357], [ Generator :: Loss: [0.6097507476806641, 0.0009000698337331414, 0.0, 0.02078765071928501, 0.032164447009563446, 0.028599880635738373, 0.05072977766394615]]\n",
            "Epoch: 1 Batch: 818, [Discriminator_A :: Loss: 0.49414633078413317], [ Generator :: Loss: [0.6976947784423828, 9.691030572867021e-05, 0.0, 0.025814542546868324, 0.03321637958288193, 0.06307518482208252, 0.04421348124742508]]\n",
            "Epoch: 1 Batch: 819, [Discriminator_A :: Loss: 0.5066645406186581], [ Generator :: Loss: [0.889714241027832, 0.0040638078935444355, 0.0, 0.032849427312612534, 0.04469893500208855, 0.05950189381837845, 0.050664931535720825]]\n",
            "Epoch: 1 Batch: 820, [Discriminator_A :: Loss: 0.0007754765028948896], [ Generator :: Loss: [0.8214327096939087, 0.0011018895311281085, 0.0, 0.042956218123435974, 0.02752232924103737, 0.06853128969669342, 0.04701407253742218]]\n",
            "Epoch: 1 Batch: 821, [Discriminator_A :: Loss: 0.00793349341256544], [ Generator :: Loss: [1.024540662765503, 0.00036161384196020663, 0.0, 0.05553461238741875, 0.032917775213718414, 0.08609558641910553, 0.05355951935052872]]\n",
            "Epoch: 1 Batch: 822, [Discriminator_A :: Loss: 0.08386216174403671], [ Generator :: Loss: [0.8130069971084595, 0.00021203479263931513, 0.0, 0.034199755638837814, 0.035571008920669556, 0.05555727705359459, 0.059530068188905716]]\n",
            "Epoch: 1 Batch: 823, [Discriminator_A :: Loss: 0.005684565490810201], [ Generator :: Loss: [0.8642066121101379, 0.00026135597727261484, 0.0, 0.04034716635942459, 0.03361452743411064, 0.06848400831222534, 0.05584430694580078]]\n",
            "Epoch: 1 Batch: 824, [Discriminator_A :: Loss: 0.004925785469822586], [ Generator :: Loss: [0.8272797465324402, 0.0010150516172870994, 0.0, 0.032229699194431305, 0.0376281663775444, 0.0645013228058815, 0.0631847158074379]]\n",
            "Epoch: 1 Batch: 825, [Discriminator_A :: Loss: 0.26959334150888026], [ Generator :: Loss: [0.7306042909622192, 0.00257827527821064, 0.0, 0.041643284261226654, 0.021083783358335495, 0.06292033940553665, 0.037834957242012024]]\n",
            "Epoch: 1 Batch: 826, [Discriminator_A :: Loss: 0.45055608794791624], [ Generator :: Loss: [0.7478052973747253, 0.001481392770074308, 0.0, 0.031705841422080994, 0.03209446743130684, 0.06006428599357605, 0.048256564885377884]]\n",
            "Epoch: 1 Batch: 827, [Discriminator_A :: Loss: 0.24869719916023314], [ Generator :: Loss: [0.736792802810669, 0.0026521296240389347, 0.0, 0.03461959958076477, 0.02908562310039997, 0.05125059187412262, 0.045837875455617905]]\n",
            "Epoch: 1 Batch: 828, [Discriminator_A :: Loss: 0.2494781124405563], [ Generator :: Loss: [0.8228440284729004, 0.0004001828492619097, 0.0, 0.025923576205968857, 0.044320184737443924, 0.04685725271701813, 0.07314897328615189]]\n",
            "Epoch: 1 Batch: 829, [Discriminator_A :: Loss: 0.0010284877716912888], [ Generator :: Loss: [0.8947213888168335, 0.00025167452986352146, 0.0, 0.038599394261837006, 0.03868481144309044, 0.06075824797153473, 0.06086941063404083]]\n",
            "Epoch: 1 Batch: 830, [Discriminator_A :: Loss: 0.4056573042544187], [ Generator :: Loss: [3.108320474624634, 0.9319409728050232, 1.0, 0.031634967774152756, 0.07095367461442947, 0.062404800206422806, 0.08808810263872147]]\n",
            "Epoch: 1 Batch: 831, [Discriminator_A :: Loss: 0.5622046589851379], [ Generator :: Loss: [2.975419044494629, 0.9393600821495056, 1.0, 0.04759296029806137, 0.04236366227269173, 0.07480775564908981, 0.06168484315276146]]\n",
            "Epoch: 1 Batch: 832, [Discriminator_A :: Loss: 0.3671787778730504], [ Generator :: Loss: [0.8208367228507996, 0.00030066334875300527, 0.0, 0.030998872593045235, 0.04020444676280022, 0.05397983640432358, 0.0545230433344841]]\n",
            "Epoch: 1 Batch: 833, [Discriminator_A :: Loss: 0.4532880294136703], [ Generator :: Loss: [0.9817032217979431, 0.0020046306308358908, 0.0, 0.05315666273236275, 0.03284745663404465, 0.06629510223865509, 0.05336228385567665]]\n",
            "Epoch: 1 Batch: 834, [Discriminator_A :: Loss: 0.36150925821857527], [ Generator :: Loss: [0.8213754296302795, 0.0034280954860150814, 0.0, 0.03322337195277214, 0.03684137761592865, 0.05570877715945244, 0.06159106269478798]]\n",
            "Epoch: 1 Batch: 835, [Discriminator_A :: Loss: 0.0005970867641735822], [ Generator :: Loss: [0.7684478759765625, 0.00025924804504029453, 0.0, 0.03706510737538338, 0.029162311926484108, 0.061778225004673004, 0.04413625970482826]]\n",
            "Epoch: 1 Batch: 836, [Discriminator_A :: Loss: 0.47151659507653676], [ Generator :: Loss: [0.7280621528625488, 0.00040158152114599943, 0.0, 0.03479289263486862, 0.029245272278785706, 0.04054061695933342, 0.04673829674720764]]\n",
            "Epoch: 1 Batch: 837, [Discriminator_A :: Loss: 0.005156596715096384], [ Generator :: Loss: [0.8219966888427734, 0.0010710528586059809, 0.0, 0.04176698625087738, 0.028286056593060493, 0.08226753771305084, 0.03812761977314949]]\n",
            "Epoch: 1 Batch: 838, [Discriminator_A :: Loss: 0.4369093388377223], [ Generator :: Loss: [0.7506861686706543, 0.000695014838129282, 0.0, 0.02508240006864071, 0.040501777082681656, 0.030575931072235107, 0.0635734423995018]]\n",
            "Epoch: 1 Batch: 839, [Discriminator_A :: Loss: 0.4076830062549561], [ Generator :: Loss: [0.7009035348892212, 0.0012715993216261268, 0.0, 0.03223384916782379, 0.028833510354161263, 0.052206747233867645, 0.03675157204270363]]\n",
            "Epoch: 1 Batch: 840, [Discriminator_A :: Loss: 0.45118171836656984], [ Generator :: Loss: [0.5488601922988892, 0.0003226540866307914, 0.0, 0.021637558937072754, 0.025602156296372414, 0.036233801394701004, 0.03990660607814789]]\n",
            "Epoch: 1 Batch: 841, [Discriminator_A :: Loss: 0.014889276877511293], [ Generator :: Loss: [0.9825717210769653, 0.0018112099496647716, 0.0, 0.04219821095466614, 0.0416133739054203, 0.07503364980220795, 0.06761106103658676]]\n",
            "Epoch: 1 Batch: 842, [Discriminator_A :: Loss: 0.2365033132955432], [ Generator :: Loss: [2.7253427505493164, 0.8544040322303772, 1.0, 0.05092129856348038, 0.023007530719041824, 0.09716900438070297, 0.034481413662433624]]\n",
            "Epoch: 1 Batch: 843, [Discriminator_A :: Loss: 0.4299200957175344], [ Generator :: Loss: [0.6226420402526855, 0.0011656000278890133, 0.0, 0.0201162938028574, 0.03230855241417885, 0.04293512552976608, 0.054292865097522736]]\n",
            "Epoch: 1 Batch: 844, [Discriminator_A :: Loss: 0.04904529789928347], [ Generator :: Loss: [0.7876520752906799, 0.0006274181068874896, 0.0, 0.042610179632902145, 0.025416065007448196, 0.0657462477684021, 0.041015952825546265]]\n",
            "Epoch: 1 Batch: 845, [Discriminator_A :: Loss: 0.030716335400938988], [ Generator :: Loss: [1.2678108215332031, 0.23449864983558655, 0.0, 0.04783479869365692, 0.04185967892408371, 0.08925113826990128, 0.04711626097559929]]\n",
            "Epoch: 1 Batch: 846, [Discriminator_A :: Loss: 0.4086054394720122], [ Generator :: Loss: [0.7926887273788452, 0.001377703039906919, 0.0, 0.03869186341762543, 0.031954534351825714, 0.044074609875679016, 0.040772415697574615]]\n",
            "Epoch: 1 Batch: 847, [Discriminator_A :: Loss: 0.0011615393232204951], [ Generator :: Loss: [0.8202464580535889, 0.0020816379692405462, 0.0, 0.04230324551463127, 0.027806416153907776, 0.07687383890151978, 0.04019435495138168]]\n",
            "Epoch: 1 Batch: 848, [Discriminator_A :: Loss: 0.011503602410812164], [ Generator :: Loss: [1.020283579826355, 0.014859354123473167, 0.0, 0.04394130781292915, 0.04381358623504639, 0.06528967618942261, 0.06258559972047806]]\n",
            "Epoch: 1 Batch: 849, [Discriminator_A :: Loss: 0.42118573455081787], [ Generator :: Loss: [0.6006062626838684, 0.00013273164222482592, 0.0, 0.021709013730287552, 0.02956121787428856, 0.03702067583799362, 0.05075053498148918]]\n",
            "Epoch: 1 Batch: 850, [Discriminator_A :: Loss: 0.31410789187066257], [ Generator :: Loss: [0.7334365248680115, 0.0020554077345877886, 0.0, 0.03230469673871994, 0.030300909653306007, 0.06009071320295334, 0.04523434862494469]]\n",
            "Epoch: 1 Batch: 851, [Discriminator_A :: Loss: 0.4127894432749599], [ Generator :: Loss: [0.6589707136154175, 0.0016252489294856787, 0.0, 0.02975403144955635, 0.026881298050284386, 0.04731794074177742, 0.043674252927303314]]\n",
            "Epoch: 1 Batch: 852, [Discriminator_A :: Loss: 0.44427773548522964], [ Generator :: Loss: [1.0695127248764038, 0.0007855460280552506, 0.0, 0.028883395716547966, 0.06766115128993988, 0.05574478209018707, 0.04753696918487549]]\n",
            "Epoch: 1 Batch: 853, [Discriminator_A :: Loss: 0.2732022356358357], [ Generator :: Loss: [0.7390683889389038, 0.0013552072923630476, 0.0, 0.031541235744953156, 0.033061668276786804, 0.0424613393843174, 0.049222856760025024]]\n",
            "Epoch: 1 Batch: 854, [Discriminator_A :: Loss: 0.4421240927185863], [ Generator :: Loss: [2.6716113090515137, 0.9210643172264099, 1.0, 0.03169222176074982, 0.033402785658836365, 0.0468938909471035, 0.05270299315452576]]\n",
            "Epoch: 1 Batch: 855, [Discriminator_A :: Loss: 0.4536298140883446], [ Generator :: Loss: [0.8253061771392822, 0.0029464007820934057, 0.0, 0.031406547874212265, 0.04017549008131027, 0.04564487561583519, 0.06089450791478157]]\n",
            "Epoch: 1 Batch: 856, [Discriminator_A :: Loss: 0.42161081472295336], [ Generator :: Loss: [0.8168585300445557, 0.0007674554944969714, 0.0, 0.03745527192950249, 0.03640371188521385, 0.043794602155685425, 0.03370661288499832]]\n",
            "Epoch: 1 Batch: 857, [Discriminator_A :: Loss: 0.37804791633971035], [ Generator :: Loss: [0.77562415599823, 0.010093611665070057, 0.0, 0.029314566403627396, 0.036549150943756104, 0.04678087681531906, 0.06011248752474785]]\n",
            "Epoch: 1 Batch: 858, [Discriminator_A :: Loss: 0.4435240400780458], [ Generator :: Loss: [0.7588964700698853, 0.00024010063498280942, 0.0, 0.043305136263370514, 0.02115996740758419, 0.0756005048751831, 0.038404859602451324]]\n",
            "Epoch: 1 Batch: 859, [Discriminator_A :: Loss: 0.28386802879686], [ Generator :: Loss: [0.9043969511985779, 0.0007144897826947272, 0.0, 0.03841868042945862, 0.04069126024842262, 0.057401563972234726, 0.055181484669446945]]\n",
            "Epoch: 1 Batch: 860, [Discriminator_A :: Loss: 0.09758393553784117], [ Generator :: Loss: [0.7876203656196594, 0.0025068186223506927, 0.0, 0.034943994134664536, 0.03278276324272156, 0.061228059232234955, 0.04661788418889046]]\n",
            "Epoch: 1 Batch: 861, [Discriminator_A :: Loss: 0.004453746194485575], [ Generator :: Loss: [0.8094840049743652, 0.0013872680719941854, 0.0, 0.04391181096434593, 0.02719968929886818, 0.055761076509952545, 0.041220664978027344]]\n",
            "Epoch: 1 Batch: 862, [Discriminator_A :: Loss: 0.003995884675532579], [ Generator :: Loss: [0.8867406845092773, 0.001995732542127371, 0.0, 0.04030745103955269, 0.03718534857034683, 0.05770174413919449, 0.052115198224782944]]\n",
            "Epoch: 1 Batch: 863, [Discriminator_A :: Loss: 0.006081548286601901], [ Generator :: Loss: [0.8093669414520264, 0.0014805945102125406, 0.0, 0.039490848779678345, 0.0293650571256876, 0.06449019908905029, 0.05483712628483772]]\n",
            "Epoch: 1 Batch: 864, [Discriminator_A :: Loss: 0.0002824971597874537], [ Generator :: Loss: [1.020925521850586, 0.0008311374695040286, 0.0, 0.04488983005285263, 0.04335914924740791, 0.08425287902355194, 0.053351763635873795]]\n",
            "Epoch: 1 Batch: 865, [Discriminator_A :: Loss: 0.11766557065129746], [ Generator :: Loss: [0.9014286398887634, 0.0009372582426294684, 0.0, 0.03811834007501602, 0.03900393843650818, 0.08138816803693771, 0.047880399972200394]]\n",
            "Epoch: 1 Batch: 866, [Discriminator_A :: Loss: 0.4527627196512185], [ Generator :: Loss: [0.636627197265625, 0.0006623127846978605, 0.0, 0.028365299105644226, 0.02496473118662834, 0.04839127138257027, 0.054273251444101334]]\n",
            "Epoch: 1 Batch: 867, [Discriminator_A :: Loss: 0.45456879236735404], [ Generator :: Loss: [0.9523611664772034, 0.009674479253590107, 0.0, 0.035793669521808624, 0.04064783826470375, 0.11170890927314758, 0.066562719643116]]\n",
            "Epoch: 1 Batch: 868, [Discriminator_A :: Loss: 0.007439533394062892], [ Generator :: Loss: [0.918936014175415, 0.011767944321036339, 0.0, 0.04647858440876007, 0.033888593316078186, 0.04588960111141205, 0.05760665610432625]]\n",
            "Epoch: 1 Batch: 869, [Discriminator_A :: Loss: 0.0014305886288639158], [ Generator :: Loss: [0.8181930780410767, 0.0017927143489941955, 0.0, 0.03913772106170654, 0.031695637851953506, 0.061766356229782104, 0.046300433576107025]]\n",
            "Epoch: 1 Batch: 870, [Discriminator_A :: Loss: 0.2533304008684354], [ Generator :: Loss: [0.7735620737075806, 0.0005428396398201585, 0.0, 0.036992188543081284, 0.029665816575288773, 0.060892559587955475, 0.04554663971066475]]\n",
            "Epoch: 1 Batch: 871, [Discriminator_A :: Loss: 0.19941928936168551], [ Generator :: Loss: [2.383591651916504, 0.5160189867019653, 1.0, 0.03513144329190254, 0.04088364541530609, 0.05456816777586937, 0.05285356193780899]]\n",
            "Epoch: 1 Batch: 872, [Discriminator_A :: Loss: 0.282212886842899], [ Generator :: Loss: [0.8763085603713989, 0.0026631606742739677, 0.0, 0.04344459995627403, 0.032249756157398224, 0.07504528760910034, 0.04165653884410858]]\n",
            "Epoch: 1 Batch: 873, [Discriminator_A :: Loss: 0.004970590816810727], [ Generator :: Loss: [1.1526319980621338, 0.12335817515850067, 0.0, 0.04588409513235092, 0.04442385956645012, 0.08117805421352386, 0.045016173273324966]]\n",
            "Epoch: 1 Batch: 874, [Discriminator_A :: Loss: 0.000815562263596803], [ Generator :: Loss: [1.0607118606567383, 0.0005322459037415683, 0.0, 0.04849894717335701, 0.04434489086270332, 0.06291575729846954, 0.06882549822330475]]\n",
            "Epoch: 1 Batch: 875, [Discriminator_A :: Loss: 0.0004937527701258659], [ Generator :: Loss: [0.9759697318077087, 0.00584003608673811, 0.0, 0.04324926808476448, 0.03986624628305435, 0.08797290176153183, 0.05100162699818611]]\n",
            "Epoch: 1 Batch: 876, [Discriminator_A :: Loss: 0.12836000662355218], [ Generator :: Loss: [0.6412346363067627, 0.0002762812073342502, 0.0, 0.02716117352247238, 0.027419254183769226, 0.04964326322078705, 0.04551083594560623]]\n",
            "Epoch: 1 Batch: 877, [Discriminator_A :: Loss: 0.05456480639986694], [ Generator :: Loss: [0.7466467022895813, 0.0021953550167381763, 0.0, 0.03203820437192917, 0.03174634277820587, 0.05640505999326706, 0.050200801342725754]]\n",
            "Epoch: 1 Batch: 878, [Discriminator_A :: Loss: 0.4898016322404146], [ Generator :: Loss: [0.9279930591583252, 0.0031907435040920973, 0.0, 0.03449372202157974, 0.04457119107246399, 0.06553434580564499, 0.06861883401870728]]\n",
            "Epoch: 1 Batch: 879, [Discriminator_A :: Loss: 0.04625975011731498], [ Generator :: Loss: [0.793512225151062, 0.0047249267809093, 0.0, 0.03314961493015289, 0.035054322332143784, 0.05683429539203644, 0.049913644790649414]]\n",
            "Epoch: 1 Batch: 880, [Discriminator_A :: Loss: 0.3479381884681061], [ Generator :: Loss: [0.6945614218711853, 0.0012211621506139636, 0.0, 0.03241506591439247, 0.027648592367768288, 0.04818340390920639, 0.04452028125524521]]\n",
            "Epoch: 1 Batch: 881, [Discriminator_A :: Loss: 0.4212032490322599], [ Generator :: Loss: [0.7548260688781738, 0.0007073160377331078, 0.0, 0.032224152237176895, 0.031866367906332016, 0.06697051227092743, 0.04624303802847862]]\n",
            "Epoch: 1 Batch: 882, [Discriminator_A :: Loss: 0.3484365670738043], [ Generator :: Loss: [2.957247734069824, 0.9686579704284668, 1.0, 0.05485301837325096, 0.034577637910842896, 0.05022578313946724, 0.04405741021037102]]\n",
            "Epoch: 1 Batch: 883, [Discriminator_A :: Loss: 0.04435831053706352], [ Generator :: Loss: [0.8631371259689331, 0.00018852898210752755, 0.0, 0.04361091926693916, 0.0318281352519989, 0.06347521394491196, 0.04508285969495773]]\n",
            "Epoch: 1 Batch: 884, [Discriminator_A :: Loss: 0.3718368054833263], [ Generator :: Loss: [0.8172350525856018, 0.005570485256612301, 0.0, 0.03135383129119873, 0.039231203496456146, 0.04816284775733948, 0.05765138566493988]]\n",
            "Epoch: 1 Batch: 885, [Discriminator_A :: Loss: 0.000415498623624444], [ Generator :: Loss: [1.0870612859725952, 0.003188501577824354, 0.0, 0.051624514162540436, 0.04309310019016266, 0.0863354355096817, 0.05036119371652603]]\n",
            "Epoch: 1 Batch: 886, [Discriminator_A :: Loss: 0.30210268445080146], [ Generator :: Loss: [0.9312540292739868, 0.0006407972541637719, 0.0, 0.04017184302210808, 0.039303675293922424, 0.07611080259084702, 0.05974718928337097]]\n",
            "Epoch: 1 Batch: 887, [Discriminator_A :: Loss: 0.38960373688314576], [ Generator :: Loss: [0.8825136423110962, 0.0002942098944913596, 0.0, 0.04243926331400871, 0.034915097057819366, 0.05997025966644287, 0.0487055778503418]]\n",
            "Epoch: 1 Batch: 888, [Discriminator_A :: Loss: 0.09595471899956465], [ Generator :: Loss: [0.8080919981002808, 0.0041861217468976974, 0.0, 0.0356779471039772, 0.03361954167485237, 0.05768377333879471, 0.05324726551771164]]\n",
            "Epoch: 1 Batch: 889, [Discriminator_A :: Loss: 0.00023860870942371548], [ Generator :: Loss: [1.0074164867401123, 0.00032072767498902977, 0.0, 0.04988560825586319, 0.03930530324578285, 0.06880991160869598, 0.04637675732374191]]\n",
            "Epoch: 1 Batch: 890, [Discriminator_A :: Loss: 0.5324999950826168], [ Generator :: Loss: [1.9149274826049805, 0.03559987619519234, 1.0, 0.02963130734860897, 0.04895225167274475, 0.05133623257279396, 0.042155854403972626]]\n",
            "Epoch: 1 Batch: 891, [Discriminator_A :: Loss: 0.0031236126669682562], [ Generator :: Loss: [0.8548583984375, 0.0021150901447981596, 0.0, 0.039221614599227905, 0.03344326838850975, 0.07050617039203644, 0.055588267743587494]]\n",
            "Epoch: 1 Batch: 892, [Discriminator_A :: Loss: 0.45988590858178213], [ Generator :: Loss: [0.722374677658081, 0.01417133305221796, 0.0, 0.023711932823061943, 0.03704560175538063, 0.045271020382642746, 0.055356960743665695]]\n",
            "Epoch: 1 Batch: 893, [Discriminator_A :: Loss: 0.4850437862041872], [ Generator :: Loss: [0.8366374969482422, 0.001640427391976118, 0.0, 0.038854435086250305, 0.03387704864144325, 0.04927511513233185, 0.058407120406627655]]\n",
            "Epoch: 1 Batch: 894, [Discriminator_A :: Loss: 0.01894555613398552], [ Generator :: Loss: [0.9521916508674622, 0.0109090032055974, 0.0, 0.048458751291036606, 0.03319823369383812, 0.07089228928089142, 0.05382050201296806]]\n",
            "Epoch: 1 Batch: 895, [Discriminator_A :: Loss: 0.0027825182769447565], [ Generator :: Loss: [1.013297200202942, 0.0017469279700890183, 0.0, 0.05606459826231003, 0.033158790320158005, 0.0722721517086029, 0.047044262290000916]]\n",
            "Epoch: 1 Batch: 896, [Discriminator_A :: Loss: 0.013140138238668442], [ Generator :: Loss: [0.9144116640090942, 0.0026129235047847033, 0.0, 0.04214651137590408, 0.036125630140304565, 0.07481808215379715, 0.0542592890560627]]\n",
            "Epoch: 1 Batch: 897, [Discriminator_A :: Loss: 0.4049426796846092], [ Generator :: Loss: [0.8521768450737, 0.004085273947566748, 0.0, 0.04056797921657562, 0.03443922847509384, 0.059568457305431366, 0.03845100477337837]]\n",
            "Epoch: 1 Batch: 898, [Discriminator_A :: Loss: 0.30525525752454996], [ Generator :: Loss: [0.7912651300430298, 0.0009305115090683103, 0.0, 0.03549166023731232, 0.033263251185417175, 0.05875837802886963, 0.04402715712785721]]\n",
            "Epoch: 1 Batch: 899, [Discriminator_A :: Loss: 0.048152598668821156], [ Generator :: Loss: [0.9289097785949707, 0.012358887121081352, 0.0, 0.0370546318590641, 0.0435912050306797, 0.05713663995265961, 0.05295589566230774]]\n",
            "Epoch: 1 Batch: 900, [Discriminator_A :: Loss: 0.026188624324277043], [ Generator :: Loss: [0.8771042823791504, 0.005578682757914066, 0.0, 0.04732825979590416, 0.02776826173067093, 0.08565232157707214, 0.03490808606147766]]\n",
            "Image_A shape: (64, 64, 3)\n",
            "fake_B shape: (64, 64, 3)\n",
            "reconstructed_A shape: (64, 64, 3)\n"
          ]
        },
        {
          "output_type": "stream",
          "name": "stderr",
          "text": [
            "WARNING:absl:Found untraced functions such as leaky_re_lu_4_layer_call_fn, leaky_re_lu_4_layer_call_and_return_conditional_losses, leaky_re_lu_5_layer_call_fn, leaky_re_lu_5_layer_call_and_return_conditional_losses, leaky_re_lu_6_layer_call_fn while saving (showing 5 of 80). These functions will not be directly callable after loading.\n"
          ]
        },
        {
          "output_type": "stream",
          "name": "stdout",
          "text": [
            "INFO:tensorflow:Assets written to: /content/gdrive/My Drive/Colab Notebooks/cycleGAN/monet2photo_out/gan_model/assets\n"
          ]
        },
        {
          "output_type": "stream",
          "name": "stderr",
          "text": [
            "INFO:tensorflow:Assets written to: /content/gdrive/My Drive/Colab Notebooks/cycleGAN/monet2photo_out/gan_model/assets\n",
            "WARNING:absl:Found untraced functions such as leaky_re_lu_layer_call_fn, leaky_re_lu_layer_call_and_return_conditional_losses, leaky_re_lu_1_layer_call_fn, leaky_re_lu_1_layer_call_and_return_conditional_losses, leaky_re_lu_2_layer_call_fn while saving (showing 5 of 20). These functions will not be directly callable after loading.\n"
          ]
        },
        {
          "output_type": "stream",
          "name": "stdout",
          "text": [
            "INFO:tensorflow:Assets written to: /content/gdrive/My Drive/Colab Notebooks/cycleGAN/monet2photo_out/generator_A_to_B/assets\n"
          ]
        },
        {
          "output_type": "stream",
          "name": "stderr",
          "text": [
            "INFO:tensorflow:Assets written to: /content/gdrive/My Drive/Colab Notebooks/cycleGAN/monet2photo_out/generator_A_to_B/assets\n",
            "WARNING:absl:Found untraced functions such as leaky_re_lu_4_layer_call_fn, leaky_re_lu_4_layer_call_and_return_conditional_losses, leaky_re_lu_5_layer_call_fn, leaky_re_lu_5_layer_call_and_return_conditional_losses, leaky_re_lu_6_layer_call_fn while saving (showing 5 of 20). These functions will not be directly callable after loading.\n"
          ]
        },
        {
          "output_type": "stream",
          "name": "stdout",
          "text": [
            "INFO:tensorflow:Assets written to: /content/gdrive/My Drive/Colab Notebooks/cycleGAN/monet2photo_out/generator_B_to_A/assets\n"
          ]
        },
        {
          "output_type": "stream",
          "name": "stderr",
          "text": [
            "INFO:tensorflow:Assets written to: /content/gdrive/My Drive/Colab Notebooks/cycleGAN/monet2photo_out/generator_B_to_A/assets\n",
            "WARNING:absl:Found untraced functions such as leaky_re_lu_8_layer_call_fn, leaky_re_lu_8_layer_call_and_return_conditional_losses, leaky_re_lu_9_layer_call_fn, leaky_re_lu_9_layer_call_and_return_conditional_losses, leaky_re_lu_10_layer_call_fn while saving (showing 5 of 20). These functions will not be directly callable after loading.\n"
          ]
        },
        {
          "output_type": "stream",
          "name": "stdout",
          "text": [
            "INFO:tensorflow:Assets written to: /content/gdrive/My Drive/Colab Notebooks/cycleGAN/monet2photo_out/discriminator_A/assets\n"
          ]
        },
        {
          "output_type": "stream",
          "name": "stderr",
          "text": [
            "INFO:tensorflow:Assets written to: /content/gdrive/My Drive/Colab Notebooks/cycleGAN/monet2photo_out/discriminator_A/assets\n",
            "WARNING:absl:Found untraced functions such as leaky_re_lu_12_layer_call_fn, leaky_re_lu_12_layer_call_and_return_conditional_losses, leaky_re_lu_13_layer_call_fn, leaky_re_lu_13_layer_call_and_return_conditional_losses, leaky_re_lu_14_layer_call_fn while saving (showing 5 of 20). These functions will not be directly callable after loading.\n"
          ]
        },
        {
          "output_type": "stream",
          "name": "stdout",
          "text": [
            "INFO:tensorflow:Assets written to: /content/gdrive/My Drive/Colab Notebooks/cycleGAN/monet2photo_out/discriminator_B/assets\n"
          ]
        },
        {
          "output_type": "stream",
          "name": "stderr",
          "text": [
            "INFO:tensorflow:Assets written to: /content/gdrive/My Drive/Colab Notebooks/cycleGAN/monet2photo_out/discriminator_B/assets\n"
          ]
        },
        {
          "output_type": "stream",
          "name": "stdout",
          "text": [
            "Epoch: 1 Batch: 901, [Discriminator_A :: Loss: 0.0019879815699823666], [ Generator :: Loss: [1.1657893657684326, 0.0007728346972726285, 0.0, 0.04601658508181572, 0.05479070544242859, 0.09061920642852783, 0.06632441282272339]]\n",
            "Epoch: 1 Batch: 902, [Discriminator_A :: Loss: 0.002373208000790328], [ Generator :: Loss: [0.862716794013977, 0.0004599611565936357, 0.0, 0.03967331722378731, 0.03564300388097763, 0.06591185927391052, 0.04318174719810486]]\n",
            "Epoch: 1 Batch: 903, [Discriminator_A :: Loss: 0.2732758391648531], [ Generator :: Loss: [0.7788217067718506, 0.021452346816658974, 0.0, 0.035175856202840805, 0.02988797426223755, 0.05988623946905136, 0.04684479534626007]]\n",
            "Epoch: 1 Batch: 904, [Discriminator_A :: Loss: 0.005185885127502843], [ Generator :: Loss: [0.847638726234436, 0.006685241591185331, 0.0, 0.041168227791786194, 0.03259940817952156, 0.052147217094898224, 0.051129959523677826]]\n",
            "Epoch: 1 Batch: 905, [Discriminator_A :: Loss: 0.25283674895763397], [ Generator :: Loss: [0.6179060935974121, 0.0019553161691874266, 0.0, 0.02069677785038948, 0.03232499212026596, 0.031037913635373116, 0.05469515547156334]]\n",
            "Epoch: 1 Batch: 906, [Discriminator_A :: Loss: 0.001422168418741876], [ Generator :: Loss: [0.8320695161819458, 0.003096829168498516, 0.0, 0.044622473418712616, 0.02705513685941696, 0.06497421115636826, 0.0472223274409771]]\n",
            "Epoch: 1 Batch: 907, [Discriminator_A :: Loss: 0.481071737340244], [ Generator :: Loss: [0.7844451665878296, 0.00039753541932441294, 0.0, 0.02951626107096672, 0.03943950682878494, 0.04181536287069321, 0.05267463997006416]]\n",
            "Epoch: 1 Batch: 908, [Discriminator_A :: Loss: 0.08582677732920274], [ Generator :: Loss: [0.9568658471107483, 0.0017701532924547791, 0.0, 0.03997800871729851, 0.04162563383579254, 0.07678894698619843, 0.062270332127809525]]\n",
            "Epoch: 1 Batch: 909, [Discriminator_A :: Loss: 0.2921939998632297], [ Generator :: Loss: [0.7378100752830505, 0.00034140696516260505, 0.0, 0.028654569759964943, 0.03408326208591461, 0.056211262941360474, 0.053879085928201675]]\n",
            "Epoch: 1 Batch: 910, [Discriminator_A :: Loss: 0.0005551920476136729], [ Generator :: Loss: [2.7273049354553223, 0.9708433747291565, 1.0, 0.03471260145306587, 0.030168728902935982, 0.05832736939191818, 0.04932081699371338]]\n",
            "Epoch: 1 Batch: 911, [Discriminator_A :: Loss: 0.25525201625714544], [ Generator :: Loss: [0.6743826866149902, 0.0005438788793981075, 0.0, 0.02633316069841385, 0.032428041100502014, 0.046007949858903885, 0.04021885246038437]]\n",
            "Epoch: 1 Batch: 912, [Discriminator_A :: Loss: 0.30305230617523193], [ Generator :: Loss: [1.027327060699463, 0.06294717639684677, 0.0, 0.047456685453653336, 0.036142461001873016, 0.07520259916782379, 0.053185831755399704]]\n",
            "Epoch: 1 Batch: 913, [Discriminator_A :: Loss: 0.43964376888470724], [ Generator :: Loss: [0.6599912643432617, 0.00035802522324956954, 0.0, 0.025419093668460846, 0.0329584926366806, 0.034831929951906204, 0.04102542996406555]]\n",
            "Epoch: 1 Batch: 914, [Discriminator_A :: Loss: 0.12469327423605137], [ Generator :: Loss: [2.633370876312256, 0.9256012439727783, 1.0, 0.028762631118297577, 0.030686335638165474, 0.06413877010345459, 0.04914134740829468]]\n",
            "Epoch: 1 Batch: 915, [Discriminator_A :: Loss: 0.48453390202485025], [ Generator :: Loss: [2.8614439964294434, 0.9409000277519226, 1.0, 0.0447397455573082, 0.035548970103263855, 0.06778468191623688, 0.049872152507305145]]\n",
            "Epoch: 1 Batch: 916, [Discriminator_A :: Loss: 0.4456713944673538], [ Generator :: Loss: [2.8403735160827637, 0.8506445288658142, 1.0, 0.05624201148748398, 0.03381267935037613, 0.04800388589501381, 0.04117819666862488]]\n",
            "Epoch: 1 Batch: 917, [Discriminator_A :: Loss: 0.00031775017123436555], [ Generator :: Loss: [0.8119663596153259, 0.00028168706921860576, 0.0, 0.038214102387428284, 0.031897976994514465, 0.06504223495721817, 0.045521631836891174]]\n",
            "Epoch: 1 Batch: 918, [Discriminator_A :: Loss: 0.12329709879122674], [ Generator :: Loss: [0.7746726274490356, 0.005817028693854809, 0.0, 0.031965699046850204, 0.03368767350912094, 0.0510648638010025, 0.06125696748495102]]\n",
            "Epoch: 1 Batch: 919, [Discriminator_A :: Loss: 0.0732371251215227], [ Generator :: Loss: [0.8364613056182861, 0.0010367734357714653, 0.0, 0.04030982404947281, 0.03225284814834595, 0.05725531280040741, 0.05254253372550011]]\n",
            "Epoch: 1 Batch: 920, [Discriminator_A :: Loss: 0.0009285114356316626], [ Generator :: Loss: [0.7592153549194336, 0.00259492383338511, 0.0, 0.03864484280347824, 0.02532682940363884, 0.07116498053073883, 0.04573870450258255]]\n",
            "Epoch: 1 Batch: 921, [Discriminator_A :: Loss: 0.0547380645875819], [ Generator :: Loss: [0.8564577102661133, 0.004479879513382912, 0.0, 0.037077926099300385, 0.03511299565434456, 0.07047170400619507, 0.05959688872098923]]\n",
            "Epoch: 1 Batch: 922, [Discriminator_A :: Loss: 0.020092385704629123], [ Generator :: Loss: [0.9336824417114258, 0.004204993136227131, 0.0, 0.04410891607403755, 0.03580977022647858, 0.0700230747461319, 0.060267556458711624]]\n",
            "Epoch: 1 Batch: 923, [Discriminator_A :: Loss: 0.00541081209667027], [ Generator :: Loss: [0.6867477893829346, 0.0061757005751132965, 0.0, 0.034196171909570694, 0.02378341555595398, 0.05780167505145073, 0.04297452047467232]]\n",
            "Epoch: 1 Batch: 924, [Discriminator_A :: Loss: 0.007194420169980731], [ Generator :: Loss: [0.7133567333221436, 0.0001283285819226876, 0.0, 0.03405440226197243, 0.026223035529255867, 0.06338393688201904, 0.04707012325525284]]\n",
            "Epoch: 1 Batch: 925, [Discriminator_A :: Loss: 3.0989474453235744e-05], [ Generator :: Loss: [0.9222202897071838, 0.00018081504094880074, 0.0, 0.04319646954536438, 0.03617773577570915, 0.07678045332431793, 0.05151697248220444]]\n",
            "Epoch: 1 Batch: 926, [Discriminator_A :: Loss: 0.0023126689775381237], [ Generator :: Loss: [0.9320448637008667, 0.0028581947553902864, 0.0, 0.041350264102220535, 0.03767320513725281, 0.07988705486059189, 0.05906486511230469]]\n",
            "Epoch: 1 Batch: 927, [Discriminator_A :: Loss: 0.1000715121626854], [ Generator :: Loss: [0.7418157458305359, 0.003922113683074713, 0.0, 0.03188782185316086, 0.030934268608689308, 0.06169828772544861, 0.04797445610165596]]\n",
            "Epoch: 1 Batch: 928, [Discriminator_A :: Loss: 0.06388281751424074], [ Generator :: Loss: [0.7995263338088989, 0.0027065344620496035, 0.0, 0.029732825234532356, 0.03699852526187897, 0.06385843455791473, 0.06564785540103912]]\n",
            "Epoch: 1 Batch: 929, [Discriminator_A :: Loss: 0.2065863525349414], [ Generator :: Loss: [1.2098757028579712, 0.016088474541902542, 0.0, 0.026584049686789513, 0.07865920662879944, 0.05775188282132149, 0.08360274136066437]]\n",
            "Epoch: 1 Batch: 930, [Discriminator_A :: Loss: 0.2914257417432964], [ Generator :: Loss: [1.0052831172943115, 0.00039350270526483655, 0.0, 0.036895692348480225, 0.05247962847352028, 0.06442338973283768, 0.046712927520275116]]\n",
            "Epoch: 1 Batch: 931, [Discriminator_A :: Loss: 0.13820631708949804], [ Generator :: Loss: [0.7820160388946533, 0.003653916297480464, 0.0, 0.030006591230630875, 0.0364212766289711, 0.058116212487220764, 0.055967289954423904]]\n",
            "Epoch: 1 Batch: 932, [Discriminator_A :: Loss: 0.026826531160622835], [ Generator :: Loss: [0.8525722026824951, 0.0007864550570957363, 0.0, 0.04373950511217117, 0.028730100020766258, 0.07582555711269379, 0.05126412957906723]]\n",
            "Epoch: 1 Batch: 933, [Discriminator_A :: Loss: 0.4544942991924472], [ Generator :: Loss: [0.7397200465202332, 0.0006009868229739368, 0.0, 0.030629582703113556, 0.032900936901569366, 0.04997407644987106, 0.053839828819036484]]\n",
            "Epoch: 1 Batch: 934, [Discriminator_A :: Loss: 0.4256617080536671], [ Generator :: Loss: [0.8089421987533569, 0.002050632843747735, 0.0, 0.03986937925219536, 0.03043070062994957, 0.056611306965351105, 0.04727945476770401]]\n",
            "Epoch: 1 Batch: 935, [Discriminator_A :: Loss: 0.38919753348454833], [ Generator :: Loss: [1.096927523612976, 0.0012980530736967921, 0.0, 0.06745132803916931, 0.02726193144917488, 0.11322424560785294, 0.035272613167762756]]\n",
            "Epoch: 1 Batch: 936, [Discriminator_A :: Loss: 0.43694763723760843], [ Generator :: Loss: [0.6821678876876831, 0.0017300830222666264, 0.0, 0.026676157489418983, 0.03355623036623001, 0.032879967242479324, 0.045233968645334244]]\n",
            "Epoch: 1 Batch: 937, [Discriminator_A :: Loss: 0.0011985497549176216], [ Generator :: Loss: [0.8938032388687134, 0.0012321803951635957, 0.0, 0.037887558341026306, 0.03870222717523575, 0.0722585991024971, 0.05441461503505707]]\n",
            "Epoch: 1 Batch: 938, [Discriminator_A :: Loss: 0.09691454567655455], [ Generator :: Loss: [0.7880418300628662, 0.00016636066720820963, 0.0, 0.0286591574549675, 0.04055912792682648, 0.036659013479948044, 0.0590335950255394]]\n",
            "Epoch: 1 Batch: 939, [Discriminator_A :: Loss: 0.003978105618443806], [ Generator :: Loss: [1.122933030128479, 0.0002587435010354966, 0.0, 0.05535189434885979, 0.04418136924505234, 0.06727724522352219, 0.0600644052028656]]\n",
            "Epoch: 1 Batch: 940, [Discriminator_A :: Loss: 0.001138848892878741], [ Generator :: Loss: [2.7175204753875732, 0.9585670828819275, 1.0, 0.037575095891952515, 0.02772744931280613, 0.06259829550981522, 0.04332965612411499]]\n",
            "Epoch: 1 Batch: 941, [Discriminator_A :: Loss: 0.09245073585771024], [ Generator :: Loss: [0.98003089427948, 0.0007402023184113204, 0.0, 0.04507530853152275, 0.041540782898664474, 0.06010178476572037, 0.05302794650197029]]\n",
            "Epoch: 1 Batch: 942, [Discriminator_A :: Loss: 0.12361589691136032], [ Generator :: Loss: [0.8707855939865112, 0.0011702361516654491, 0.0, 0.04104556888341904, 0.03491771221160889, 0.06821884959936142, 0.04176364466547966]]\n",
            "Epoch: 1 Batch: 943, [Discriminator_A :: Loss: 0.2965011354535818], [ Generator :: Loss: [0.8137706518173218, 0.00032009390997700393, 0.0, 0.039226096123456955, 0.0330650620162487, 0.04396480321884155, 0.04657410457730293]]\n",
            "Epoch: 1 Batch: 944, [Discriminator_A :: Loss: 0.041539742378517985], [ Generator :: Loss: [0.9149962663650513, 0.004767418839037418, 0.0, 0.04524442180991173, 0.03368385136127472, 0.07411793619394302, 0.04682816565036774]]\n",
            "Epoch: 1 Batch: 945, [Discriminator_A :: Loss: 0.0005665732314810157], [ Generator :: Loss: [0.8442286252975464, 0.00043934796121902764, 0.0, 0.03999307379126549, 0.032862741500139236, 0.07761617749929428, 0.03761499747633934]]\n",
            "Epoch: 1 Batch: 946, [Discriminator_A :: Loss: 0.4736603982746601], [ Generator :: Loss: [0.6451336145401001, 0.0019170510349795222, 0.0, 0.025691531598567963, 0.02917746640741825, 0.05891500413417816, 0.03561156615614891]]\n",
            "Epoch: 1 Batch: 947, [Discriminator_A :: Loss: 0.14189050396089442], [ Generator :: Loss: [0.8413756489753723, 0.0025508615653961897, 0.0, 0.02918945997953415, 0.04272624850273132, 0.0577845573425293, 0.06188313290476799]]\n",
            "Epoch: 1 Batch: 948, [Discriminator_A :: Loss: 0.11719372071092948], [ Generator :: Loss: [0.736549973487854, 0.0005536752287298441, 0.0, 0.03175142779946327, 0.03127175569534302, 0.058744240552186966, 0.047020286321640015]]\n",
            "Epoch: 1 Batch: 949, [Discriminator_A :: Loss: 0.39076580476830713], [ Generator :: Loss: [0.8412386178970337, 0.0024926038458943367, 0.0, 0.03547725826501846, 0.03683741018176079, 0.06164063885807991, 0.053958721458911896]]\n",
            "Epoch: 1 Batch: 950, [Discriminator_A :: Loss: 0.44706789721385576], [ Generator :: Loss: [1.2030127048492432, 0.0012120063183829188, 0.0, 0.040464747697114944, 0.06454520672559738, 0.08131461590528488, 0.07038653641939163]]\n",
            "Epoch: 1 Batch: 951, [Discriminator_A :: Loss: 0.005899776006117463], [ Generator :: Loss: [0.9620187282562256, 0.002308417344465852, 0.0, 0.0464206337928772, 0.03871716558933258, 0.06070736050605774, 0.047624919563531876]]\n",
            "Epoch: 1 Batch: 952, [Discriminator_A :: Loss: 0.41162659227848053], [ Generator :: Loss: [0.9536247253417969, 0.0025722982827574015, 0.0, 0.04163564369082451, 0.042894668877124786, 0.0589144304394722, 0.04683487117290497]]\n",
            "Epoch: 1 Batch: 953, [Discriminator_A :: Loss: 0.004733617533929646], [ Generator :: Loss: [0.8328813910484314, 0.0010850299149751663, 0.0, 0.04179701209068298, 0.02996966242790222, 0.0710875615477562, 0.04304204881191254]]\n",
            "Epoch: 1 Batch: 954, [Discriminator_A :: Loss: 0.40518368198536336], [ Generator :: Loss: [0.6099090576171875, 0.0009529765811748803, 0.0, 0.028120525181293488, 0.02411542274057865, 0.04508515074849129, 0.04151148721575737]]\n",
            "Epoch: 1 Batch: 955, [Discriminator_A :: Loss: 0.25374877313151956], [ Generator :: Loss: [1.3191214799880981, 0.07067682594060898, 0.0, 0.07401028275489807, 0.03596145287156105, 0.10135777294635773, 0.047369565814733505]]\n",
            "Epoch: 1 Batch: 956, [Discriminator_A :: Loss: 0.04141841651289724], [ Generator :: Loss: [1.3773322105407715, 0.034804023802280426, 0.0, 0.033550843596458435, 0.08443593233823776, 0.06034023314714432, 0.10232013463973999]]\n",
            "Epoch: 1 Batch: 957, [Discriminator_A :: Loss: 0.0011217560531804338], [ Generator :: Loss: [1.0352387428283691, 0.0010443642968311906, 0.0, 0.04732023924589157, 0.04260005056858063, 0.08076809346675873, 0.05422336980700493]]\n",
            "Epoch: 1 Batch: 958, [Discriminator_A :: Loss: 0.25946785329142585], [ Generator :: Loss: [0.9844852685928345, 0.0008259766618721187, 0.0, 0.05600433796644211, 0.03164904564619064, 0.06389541923999786, 0.043230004608631134]]\n",
            "Epoch: 1 Batch: 959, [Discriminator_A :: Loss: 0.0013385827478487045], [ Generator :: Loss: [0.9670790433883667, 0.000495340907946229, 0.0, 0.05432755500078201, 0.030792653560638428, 0.07290739566087723, 0.04247426614165306]]\n",
            "Epoch: 1 Batch: 960, [Discriminator_A :: Loss: 0.012752896203892305], [ Generator :: Loss: [0.9143733978271484, 0.000368503708159551, 0.0, 0.047761861234903336, 0.03484061360359192, 0.047408461570739746, 0.0405716635286808]]\n",
            "Epoch: 1 Batch: 961, [Discriminator_A :: Loss: 0.26411987096071243], [ Generator :: Loss: [0.9545019865036011, 0.007013504859060049, 0.0, 0.0415208600461483, 0.04010114073753357, 0.06614763289690018, 0.0651208683848381]]\n",
            "Epoch: 1 Batch: 962, [Discriminator_A :: Loss: 0.4350379481911659], [ Generator :: Loss: [0.8894302248954773, 0.006997291464358568, 0.0, 0.04109007865190506, 0.03758513554930687, 0.046956777572631836, 0.04872404411435127]]\n",
            "Epoch: 1 Batch: 963, [Discriminator_A :: Loss: 0.4935237495083129], [ Generator :: Loss: [1.0176106691360474, 0.0005128876655362546, 0.0, 0.05136994644999504, 0.038215793669223785, 0.0726533979177475, 0.04858698323369026]]\n",
            "Epoch: 1 Batch: 964, [Discriminator_A :: Loss: 0.4254760365220136], [ Generator :: Loss: [0.9275634288787842, 0.00030317174969241023, 0.0, 0.033007945865392685, 0.04899806156754494, 0.04657931253314018, 0.060620952397584915]]\n",
            "Epoch: 1 Batch: 965, [Discriminator_A :: Loss: 0.0028019943347317167], [ Generator :: Loss: [0.8535711765289307, 8.415661432081833e-05, 0.0, 0.041014060378074646, 0.0328330472111702, 0.06763500720262527, 0.04738090932369232]]\n",
            "Epoch: 1 Batch: 966, [Discriminator_A :: Loss: 0.0012629038897102873], [ Generator :: Loss: [0.8833754658699036, 0.0033651303965598345, 0.0, 0.04241470992565155, 0.03455398604273796, 0.0573846660554409, 0.052938688546419144]]\n",
            "Epoch: 1 Batch: 967, [Discriminator_A :: Loss: 0.41505384248739574], [ Generator :: Loss: [0.7071529626846313, 0.00020272743131499738, 0.0, 0.02755412831902504, 0.03429453819990158, 0.04276593402028084, 0.0456976443529129]]\n",
            "Epoch: 1 Batch: 968, [Discriminator_A :: Loss: 0.32789438031613827], [ Generator :: Loss: [0.9568427205085754, 0.009231573902070522, 0.0, 0.04729004576802254, 0.034583207219839096, 0.06838330626487732, 0.06049530208110809]]\n",
            "Epoch: 1 Batch: 969, [Discriminator_A :: Loss: 0.0009333934576716274], [ Generator :: Loss: [0.8276236653327942, 0.0008087962050922215, 0.0, 0.03934016451239586, 0.0321701318025589, 0.05990365520119667, 0.05180821567773819]]\n",
            "Epoch: 1 Batch: 970, [Discriminator_A :: Loss: 0.2996973319386598], [ Generator :: Loss: [0.6835196018218994, 0.00024236318131443113, 0.0, 0.03257785737514496, 0.027837472036480904, 0.04526229202747345, 0.03386170044541359]]\n",
            "Epoch: 1 Batch: 971, [Discriminator_A :: Loss: 0.39876486122375354], [ Generator :: Loss: [0.6217780113220215, 0.0005934445071034133, 0.0, 0.02572530135512352, 0.027405358850955963, 0.05245038494467735, 0.037427566945552826]]\n",
            "Epoch: 1 Batch: 972, [Discriminator_A :: Loss: 0.22314829923561774], [ Generator :: Loss: [0.7318441867828369, 0.001978175714612007, 0.0, 0.03075636364519596, 0.03274140506982803, 0.05033892020583153, 0.044549405574798584]]\n",
            "Epoch: 1 Batch: 973, [Discriminator_A :: Loss: 0.3286760640912689], [ Generator :: Loss: [0.7477610111236572, 0.00023009930737316608, 0.0, 0.027536626905202866, 0.037564799189567566, 0.050127845257520676, 0.04638879746198654]]\n",
            "Epoch: 1 Batch: 974, [Discriminator_A :: Loss: 0.0004482343647396192], [ Generator :: Loss: [2.924633264541626, 0.9422203302383423, 1.0, 0.05698225647211075, 0.028247717767953873, 0.0898352861404419, 0.04027779400348663]]\n",
            "Epoch: 1 Batch: 975, [Discriminator_A :: Loss: 0.3732514970834018], [ Generator :: Loss: [0.7250748872756958, 0.00011540611740201712, 0.0, 0.031294625252485275, 0.030411403626203537, 0.06093282625079155, 0.04696634039282799]]\n",
            "Epoch: 1 Batch: 976, [Discriminator_A :: Loss: 0.37661636358097894], [ Generator :: Loss: [0.7005367279052734, 0.00015428006008733064, 0.0, 0.03538781404495239, 0.026354815810918808, 0.041159067302942276, 0.04179703816771507]]\n",
            "Epoch: 1 Batch: 977, [Discriminator_A :: Loss: 0.0025540273054502904], [ Generator :: Loss: [0.860562801361084, 0.0026123872958123684, 0.0, 0.04293467849493027, 0.030542347580194473, 0.07354415208101273, 0.049636006355285645]]\n",
            "Epoch: 1 Batch: 978, [Discriminator_A :: Loss: 0.0017048318986780941], [ Generator :: Loss: [0.9902517795562744, 0.00621480867266655, 0.0, 0.039352692663669586, 0.04573029279708862, 0.06650097668170929, 0.06670616567134857]]\n",
            "Epoch: 1 Batch: 979, [Discriminator_A :: Loss: 0.2233390386827523], [ Generator :: Loss: [0.7913550138473511, 0.0005210977396927774, 0.0, 0.034330688416957855, 0.03621483966708183, 0.05063188076019287, 0.03474671021103859]]\n",
            "Epoch: 1 Batch: 980, [Discriminator_A :: Loss: 0.00421428051777184], [ Generator :: Loss: [2.9057841300964355, 0.8708974123001099, 1.0, 0.06472369283437729, 0.025588611140847206, 0.09083661437034607, 0.04092726483941078]]\n",
            "Epoch: 1 Batch: 981, [Discriminator_A :: Loss: 0.01372942654415965], [ Generator :: Loss: [0.7866540551185608, 0.004415610339492559, 0.0, 0.03599947690963745, 0.031008008867502213, 0.0646730363368988, 0.04749056696891785]]\n",
            "Epoch: 1 Batch: 982, [Discriminator_A :: Loss: 0.0029683600878342986], [ Generator :: Loss: [2.718777656555176, 0.7782979607582092, 1.0, 0.044869035482406616, 0.03483524173498154, 0.08692365139722824, 0.05651325732469559]]\n",
            "Epoch: 1 Batch: 983, [Discriminator_A :: Loss: 0.1462388848849514], [ Generator :: Loss: [0.7645585536956787, 4.869546683039516e-05, 0.0, 0.03420640900731087, 0.030546072870492935, 0.06337881833314896, 0.05360620468854904]]\n",
            "Epoch: 1 Batch: 984, [Discriminator_A :: Loss: 0.20675008421676466], [ Generator :: Loss: [0.8855941295623779, 0.00014317492605187, 0.0, 0.04756089672446251, 0.028350843116641045, 0.08464303612709045, 0.041690487414598465]]\n",
            "Epoch: 1 Batch: 985, [Discriminator_A :: Loss: 0.2789031354623148], [ Generator :: Loss: [0.6844817399978638, 0.0004559585067909211, 0.0, 0.028983276337385178, 0.029672136530280113, 0.04274234548211098, 0.05472927913069725]]\n",
            "Epoch: 1 Batch: 986, [Discriminator_A :: Loss: 0.04647658043541014], [ Generator :: Loss: [0.6960473656654358, 0.0021103450562804937, 0.0, 0.030330413952469826, 0.02906802110373974, 0.05608133226633072, 0.043871358036994934]]\n",
            "Epoch: 1 Batch: 987, [Discriminator_A :: Loss: 0.25363313930574805], [ Generator :: Loss: [0.8365617990493774, 0.0004970058216713369, 0.0, 0.04009260609745979, 0.03182944282889366, 0.06427539139986038, 0.05256892368197441]]\n",
            "Epoch: 1 Batch: 988, [Discriminator_A :: Loss: 0.0024772188189672306], [ Generator :: Loss: [2.906310558319092, 0.9556053280830383, 1.0, 0.03785557672381401, 0.042589038610458374, 0.07941801100969315, 0.06684107333421707]]\n",
            "Epoch: 1 Batch: 989, [Discriminator_A :: Loss: 0.000569100258871913], [ Generator :: Loss: [0.8069612383842468, 0.0012970096431672573, 0.0, 0.038025178015232086, 0.03130296245217323, 0.07346409559249878, 0.03891877084970474]]\n",
            "Epoch: 1 Batch: 990, [Discriminator_A :: Loss: 0.014109842479228973], [ Generator :: Loss: [0.7468382120132446, 0.0042905183508992195, 0.0, 0.037291478365659714, 0.026726143434643745, 0.0582219660282135, 0.044149503111839294]]\n",
            "Epoch: 1 Batch: 991, [Discriminator_A :: Loss: 0.07505322975339368], [ Generator :: Loss: [0.9330853223800659, 0.0005771502037532628, 0.0, 0.04365086928009987, 0.03877926990389824, 0.06083701178431511, 0.04736972600221634]]\n",
            "Epoch: 1 Batch: 992, [Discriminator_A :: Loss: 0.043622882571071386], [ Generator :: Loss: [0.955843448638916, 0.034118056297302246, 0.0, 0.04484492540359497, 0.03567831590771675, 0.07013268768787384, 0.04636026918888092]]\n",
            "Epoch: 1 Batch: 993, [Discriminator_A :: Loss: 0.14553293329663575], [ Generator :: Loss: [0.8833423852920532, 0.012059714645147324, 0.0, 0.03466153144836426, 0.041657403111457825, 0.0539429597556591, 0.05415037274360657]]\n",
            "Epoch: 1 Batch: 994, [Discriminator_A :: Loss: 0.17964639322599396], [ Generator :: Loss: [0.9047441482543945, 0.06177961826324463, 0.0, 0.03518699109554291, 0.03741316869854927, 0.04753431677818298, 0.06942862272262573]]\n",
            "Epoch: 1 Batch: 995, [Discriminator_A :: Loss: 0.0038784595672041178], [ Generator :: Loss: [0.9797295928001404, 0.0014933737693354487, 0.0, 0.03791406750679016, 0.04778766632080078, 0.06482507288455963, 0.05639377981424332]]\n",
            "Epoch: 1 Batch: 996, [Discriminator_A :: Loss: 0.3675076733343303], [ Generator :: Loss: [0.7926478385925293, 0.004795098677277565, 0.0, 0.030849745497107506, 0.0373942106962204, 0.051540352404117584, 0.05387278273701668]]\n",
            "Epoch: 1 Batch: 997, [Discriminator_A :: Loss: 0.45919839989437605], [ Generator :: Loss: [0.5225127339363098, 0.00020422042871359736, 0.0, 0.017733648419380188, 0.026497453451156616, 0.038849472999572754, 0.04114799574017525]]\n",
            "Epoch: 1 Batch: 998, [Discriminator_A :: Loss: 0.43782860110513866], [ Generator :: Loss: [0.8193238973617554, 0.0012000874849036336, 0.0, 0.037689488381147385, 0.03583823889493942, 0.0455792061984539, 0.03726734593510628]]\n",
            "Epoch: 1 Batch: 999, [Discriminator_A :: Loss: 0.0034870224772021174], [ Generator :: Loss: [0.8938180208206177, 0.0016920107882469893, 0.0, 0.047440305352211, 0.029505621641874313, 0.0834105834364891, 0.03925611451268196]]\n",
            "Epoch: 1 Batch: 1000, [Discriminator_A :: Loss: 0.05022889646352269], [ Generator :: Loss: [1.1182053089141846, 0.0004149517335463315, 0.0, 0.05661448463797569, 0.043305542320013046, 0.06095581129193306, 0.05763435736298561]]\n",
            "Image_A shape: (64, 64, 3)\n",
            "fake_B shape: (64, 64, 3)\n",
            "reconstructed_A shape: (64, 64, 3)\n"
          ]
        },
        {
          "output_type": "stream",
          "name": "stderr",
          "text": [
            "WARNING:absl:Found untraced functions such as leaky_re_lu_4_layer_call_fn, leaky_re_lu_4_layer_call_and_return_conditional_losses, leaky_re_lu_5_layer_call_fn, leaky_re_lu_5_layer_call_and_return_conditional_losses, leaky_re_lu_6_layer_call_fn while saving (showing 5 of 80). These functions will not be directly callable after loading.\n"
          ]
        },
        {
          "output_type": "stream",
          "name": "stdout",
          "text": [
            "INFO:tensorflow:Assets written to: /content/gdrive/My Drive/Colab Notebooks/cycleGAN/monet2photo_out/gan_model/assets\n"
          ]
        },
        {
          "output_type": "stream",
          "name": "stderr",
          "text": [
            "INFO:tensorflow:Assets written to: /content/gdrive/My Drive/Colab Notebooks/cycleGAN/monet2photo_out/gan_model/assets\n",
            "WARNING:absl:Found untraced functions such as leaky_re_lu_layer_call_fn, leaky_re_lu_layer_call_and_return_conditional_losses, leaky_re_lu_1_layer_call_fn, leaky_re_lu_1_layer_call_and_return_conditional_losses, leaky_re_lu_2_layer_call_fn while saving (showing 5 of 20). These functions will not be directly callable after loading.\n"
          ]
        },
        {
          "output_type": "stream",
          "name": "stdout",
          "text": [
            "INFO:tensorflow:Assets written to: /content/gdrive/My Drive/Colab Notebooks/cycleGAN/monet2photo_out/generator_A_to_B/assets\n"
          ]
        },
        {
          "output_type": "stream",
          "name": "stderr",
          "text": [
            "INFO:tensorflow:Assets written to: /content/gdrive/My Drive/Colab Notebooks/cycleGAN/monet2photo_out/generator_A_to_B/assets\n",
            "WARNING:absl:Found untraced functions such as leaky_re_lu_4_layer_call_fn, leaky_re_lu_4_layer_call_and_return_conditional_losses, leaky_re_lu_5_layer_call_fn, leaky_re_lu_5_layer_call_and_return_conditional_losses, leaky_re_lu_6_layer_call_fn while saving (showing 5 of 20). These functions will not be directly callable after loading.\n"
          ]
        },
        {
          "output_type": "stream",
          "name": "stdout",
          "text": [
            "INFO:tensorflow:Assets written to: /content/gdrive/My Drive/Colab Notebooks/cycleGAN/monet2photo_out/generator_B_to_A/assets\n"
          ]
        },
        {
          "output_type": "stream",
          "name": "stderr",
          "text": [
            "INFO:tensorflow:Assets written to: /content/gdrive/My Drive/Colab Notebooks/cycleGAN/monet2photo_out/generator_B_to_A/assets\n",
            "WARNING:absl:Found untraced functions such as leaky_re_lu_8_layer_call_fn, leaky_re_lu_8_layer_call_and_return_conditional_losses, leaky_re_lu_9_layer_call_fn, leaky_re_lu_9_layer_call_and_return_conditional_losses, leaky_re_lu_10_layer_call_fn while saving (showing 5 of 20). These functions will not be directly callable after loading.\n"
          ]
        },
        {
          "output_type": "stream",
          "name": "stdout",
          "text": [
            "INFO:tensorflow:Assets written to: /content/gdrive/My Drive/Colab Notebooks/cycleGAN/monet2photo_out/discriminator_A/assets\n"
          ]
        },
        {
          "output_type": "stream",
          "name": "stderr",
          "text": [
            "INFO:tensorflow:Assets written to: /content/gdrive/My Drive/Colab Notebooks/cycleGAN/monet2photo_out/discriminator_A/assets\n",
            "WARNING:absl:Found untraced functions such as leaky_re_lu_12_layer_call_fn, leaky_re_lu_12_layer_call_and_return_conditional_losses, leaky_re_lu_13_layer_call_fn, leaky_re_lu_13_layer_call_and_return_conditional_losses, leaky_re_lu_14_layer_call_fn while saving (showing 5 of 20). These functions will not be directly callable after loading.\n"
          ]
        },
        {
          "output_type": "stream",
          "name": "stdout",
          "text": [
            "INFO:tensorflow:Assets written to: /content/gdrive/My Drive/Colab Notebooks/cycleGAN/monet2photo_out/discriminator_B/assets\n"
          ]
        },
        {
          "output_type": "stream",
          "name": "stderr",
          "text": [
            "INFO:tensorflow:Assets written to: /content/gdrive/My Drive/Colab Notebooks/cycleGAN/monet2photo_out/discriminator_B/assets\n"
          ]
        },
        {
          "output_type": "stream",
          "name": "stdout",
          "text": [
            "Epoch: 1 Batch: 1001, [Discriminator_A :: Loss: 0.0006049185612937436], [ Generator :: Loss: [1.1006191968917847, 0.0012400849955156446, 0.0, 0.041507504880428314, 0.05768056958913803, 0.054500773549079895, 0.05299755185842514]]\n",
            "Epoch: 1 Batch: 1002, [Discriminator_A :: Loss: 0.002737449773121625], [ Generator :: Loss: [0.8389405012130737, 0.00034717345261015, 0.0, 0.03687145560979843, 0.036736927926540375, 0.052122846245765686, 0.050386615097522736]]\n",
            "Epoch: 1 Batch: 1003, [Discriminator_A :: Loss: 0.05923341379093472], [ Generator :: Loss: [0.7048583030700684, 1.7999645933741704e-05, 0.0, 0.031332504004240036, 0.029702259227633476, 0.0448407344520092, 0.04965191334486008]]\n",
            "Epoch: 1 Batch: 1004, [Discriminator_A :: Loss: 0.001414137426763773], [ Generator :: Loss: [0.8964012265205383, 0.0012843585573136806, 0.0, 0.04500850290060043, 0.032401859760284424, 0.07297931611537933, 0.04803389683365822]]\n",
            "Epoch: 1 Batch: 1005, [Discriminator_A :: Loss: 0.19898005947470665], [ Generator :: Loss: [0.8443866968154907, 0.01101463008671999, 0.0, 0.038597457110881805, 0.033133815973997116, 0.06614267826080322, 0.049916647374629974]]\n",
            "Epoch: 1 Batch: 1006, [Discriminator_A :: Loss: 0.4210998269263655], [ Generator :: Loss: [0.7597378492355347, 0.0003611945721786469, 0.0, 0.032851360738277435, 0.032263144850730896, 0.0524117536842823, 0.0558197945356369]]\n",
            "Epoch: 1 Batch: 1007, [Discriminator_A :: Loss: 0.014449018366576638], [ Generator :: Loss: [0.8608328104019165, 7.291996735148132e-05, 0.0, 0.03828616812825203, 0.03693326935172081, 0.05583098903298378, 0.05273451283574104]]\n",
            "Epoch: 1 Batch: 1008, [Discriminator_A :: Loss: 0.3960435033077374], [ Generator :: Loss: [0.6371123790740967, 0.00038115313509479165, 0.0, 0.024575170129537582, 0.029226601123809814, 0.05262870714068413, 0.046084776520729065]]\n",
            "Epoch: 1 Batch: 1009, [Discriminator_A :: Loss: 0.29701077775098383], [ Generator :: Loss: [0.7885886430740356, 0.0016886780504137278, 0.0, 0.03709261864423752, 0.031352557241916656, 0.06587191671133041, 0.03657625988125801]]\n",
            "Epoch: 1 Batch: 1010, [Discriminator_A :: Loss: 0.3330661226063967], [ Generator :: Loss: [0.6954142451286316, 0.00016611628234386444, 0.0, 0.030259933322668076, 0.02921713888645172, 0.0563187450170517, 0.04415864497423172]]\n",
            "Epoch: 1 Batch: 1011, [Discriminator_A :: Loss: 0.5208529829978943], [ Generator :: Loss: [0.8481736779212952, 0.0012411641655489802, 0.0, 0.04011166840791702, 0.03343164175748825, 0.0768403634428978, 0.03465902805328369]]\n",
            "Epoch: 1 Batch: 1012, [Discriminator_A :: Loss: 0.0004964644758729264], [ Generator :: Loss: [1.1465556621551514, 0.0012535632122308016, 0.0, 0.04107469320297241, 0.06119333580136299, 0.0660679042339325, 0.05655384808778763]]\n",
            "Epoch: 1 Batch: 1013, [Discriminator_A :: Loss: 0.43157264788169414], [ Generator :: Loss: [0.7985761165618896, 0.0029582541901618242, 0.0, 0.03484821319580078, 0.03482315316796303, 0.0518190972507, 0.04708514362573624]]\n",
            "Epoch: 1 Batch: 1014, [Discriminator_A :: Loss: 0.021434440510347486], [ Generator :: Loss: [2.909325122833252, 0.8144764304161072, 1.0, 0.05090808868408203, 0.04621357098221779, 0.07580213248729706, 0.047829922288656235]]\n",
            "Epoch: 1 Batch: 1015, [Discriminator_A :: Loss: 0.3168690187158063], [ Generator :: Loss: [0.8494833111763, 0.0036727336701005697, 0.0, 0.040706049650907516, 0.03321047127246857, 0.06609189510345459, 0.040553465485572815]]\n",
            "Epoch: 1 Batch: 1016, [Discriminator_A :: Loss: 0.40965865412727], [ Generator :: Loss: [0.5262755751609802, 0.004266034811735153, 0.0, 0.020057078450918198, 0.024233590811491013, 0.0406106598675251, 0.03849218785762787]]\n",
            "Epoch: 1 Batch: 1017, [Discriminator_A :: Loss: 0.35401176754385233], [ Generator :: Loss: [2.790198802947998, 0.889954686164856, 1.0, 0.04338337853550911, 0.036766935139894485, 0.04881887137889862, 0.04992207884788513]]\n",
            "Epoch: 1 Batch: 1018, [Discriminator_A :: Loss: 0.04431154872872867], [ Generator :: Loss: [2.628038167953491, 0.9746189713478088, 1.0, 0.03438679501414299, 0.0205258559435606, 0.0622871033847332, 0.04200560227036476]]\n",
            "Epoch: 1 Batch: 1019, [Discriminator_A :: Loss: 0.0009275737684220076], [ Generator :: Loss: [0.9338115453720093, 0.0006170047563500702, 0.0, 0.04798518866300583, 0.030399687588214874, 0.0938447117805481, 0.05550108104944229]]\n",
            "Epoch: 1 Batch: 1020, [Discriminator_A :: Loss: 0.38245031802216545], [ Generator :: Loss: [0.6401877403259277, 0.0010442063212394714, 0.0, 0.028848184272646904, 0.027009587734937668, 0.03845490887761116, 0.04211091250181198]]\n",
            "Epoch: 1 Batch: 1021, [Discriminator_A :: Loss: 0.15422707609832287], [ Generator :: Loss: [0.8452693223953247, 0.00870764534920454, 0.0, 0.039688702672719955, 0.035114750266075134, 0.0527966134250164, 0.0357305184006691]]\n",
            "Epoch: 1 Batch: 1022, [Discriminator_A :: Loss: 0.4821642320603132], [ Generator :: Loss: [0.7370145320892334, 0.006657394580543041, 0.0, 0.021977446973323822, 0.041497569531202316, 0.03214653581380844, 0.06346039474010468]]\n",
            "Epoch: 1 Batch: 1023, [Discriminator_A :: Loss: 0.47719812390278094], [ Generator :: Loss: [1.104767918586731, 0.015777211636304855, 0.0, 0.0530216321349144, 0.04125211760401726, 0.08477380871772766, 0.06147939711809158]]\n",
            "Epoch: 1 Batch: 1024, [Discriminator_A :: Loss: 0.10982031426101457], [ Generator :: Loss: [0.74588942527771, 0.0005113877123221755, 0.0, 0.0319778174161911, 0.03134072199463844, 0.060438334941864014, 0.05175435543060303]]\n",
            "Epoch: 1 Batch: 1025, [Discriminator_A :: Loss: 0.004860750865191221], [ Generator :: Loss: [0.9715035557746887, 0.000810872355941683, 0.0, 0.05193638056516647, 0.030586963519454002, 0.09715473651885986, 0.048304483294487]]\n",
            "Epoch: 1 Batch: 1026, [Discriminator_A :: Loss: 0.010768181644380093], [ Generator :: Loss: [0.9041684865951538, 0.0022993767634034157, 0.0, 0.03682288900017738, 0.04278096929192543, 0.06753221154212952, 0.03829829767346382]]\n",
            "Epoch: 1 Batch: 1027, [Discriminator_A :: Loss: 0.1946899209287949], [ Generator :: Loss: [0.8443422913551331, 0.0012473665410652757, 0.0, 0.04048309102654457, 0.033025551587343216, 0.06027037650346756, 0.04773811250925064]]\n",
            "Epoch: 1 Batch: 1028, [Discriminator_A :: Loss: 0.4094922454096377], [ Generator :: Loss: [0.750747799873352, 0.0016933546867221594, 0.0, 0.030879108235239983, 0.03442701697349548, 0.057021379470825195, 0.03897177428007126]]\n",
            "Epoch: 1 Batch: 1029, [Discriminator_A :: Loss: 0.10614939614606556], [ Generator :: Loss: [0.8460009694099426, 0.0003393769438844174, 0.0, 0.03920891508460045, 0.03304881975054741, 0.07606132328510284, 0.047022897750139236]]\n",
            "Epoch: 1 Batch: 1030, [Discriminator_A :: Loss: 0.16100428812205791], [ Generator :: Loss: [1.0203540325164795, 0.001571131870150566, 0.0, 0.040304798632860184, 0.04882350564002991, 0.059129778295755386, 0.06837007403373718]]\n",
            "Epoch: 1 Batch: 1031, [Discriminator_A :: Loss: 0.2770852319081314], [ Generator :: Loss: [0.8004274964332581, 0.009239833801984787, 0.0, 0.026677913963794708, 0.04203177988529205, 0.03932295739650726, 0.06476777046918869]]\n",
            "Epoch: 1 Batch: 1032, [Discriminator_A :: Loss: 0.27618817577604204], [ Generator :: Loss: [0.739637553691864, 0.007202013395726681, 0.0, 0.032972004264593124, 0.029845574870705605, 0.05791683867573738, 0.046342939138412476]]\n",
            "Epoch: 1 Batch: 1033, [Discriminator_A :: Loss: 0.004609746731148334], [ Generator :: Loss: [1.0695558786392212, 0.00019153130415361375, 0.0, 0.05874236673116684, 0.031821995973587036, 0.11409179866313934, 0.049628883600234985]]\n",
            "Epoch: 1 Batch: 1034, [Discriminator_A :: Loss: 0.011286723893135786], [ Generator :: Loss: [0.9124640226364136, 0.008880729787051678, 0.0, 0.03961457312107086, 0.03698114678263664, 0.08900502324104309, 0.04862107336521149]]\n",
            "Epoch: 1 Batch: 1035, [Discriminator_A :: Loss: 0.19017808442004025], [ Generator :: Loss: [0.7364193201065063, 0.017217526212334633, 0.0, 0.024636272341012955, 0.036291398108005524, 0.04784802719950676, 0.062077123671770096]]\n",
            "Epoch: 1 Batch: 1036, [Discriminator_A :: Loss: 0.4131632624194026], [ Generator :: Loss: [0.7511256337165833, 0.0002158673742087558, 0.0, 0.03615443408489227, 0.029771188274025917, 0.050020888447761536, 0.04163266345858574]]\n",
            "Epoch: 1 Batch: 1037, [Discriminator_A :: Loss: 0.002376772437855834], [ Generator :: Loss: [2.985513210296631, 0.8472723960876465, 1.0, 0.06337128579616547, 0.039097584784030914, 0.07136363536119461, 0.042188454419374466]]\n",
            "Epoch: 1 Batch: 1038, [Discriminator_A :: Loss: 0.030088337596680503], [ Generator :: Loss: [1.173579216003418, 0.010190216824412346, 0.0, 0.058965906500816345, 0.044665344059467316, 0.07334160804748535, 0.053734976798295975]]\n",
            "Epoch: 1 Batch: 1039, [Discriminator_A :: Loss: 0.35545596125302836], [ Generator :: Loss: [0.9266859292984009, 0.01916162669658661, 0.0, 0.045318447053432465, 0.03287418559193611, 0.07824847102165222, 0.04734950512647629]]\n",
            "Epoch: 1 Batch: 1040, [Discriminator_A :: Loss: 0.008738393022213131], [ Generator :: Loss: [0.9642155170440674, 0.001771076349541545, 0.0, 0.05553808808326721, 0.030079087242484093, 0.0622217170894146, 0.04405095800757408]]\n",
            "Epoch: 1 Batch: 1041, [Discriminator_A :: Loss: 0.4844108565885108], [ Generator :: Loss: [2.469738245010376, 0.9159911870956421, 1.0, 0.014982543885707855, 0.03250449523329735, 0.026694675907492638, 0.0521821454167366]]\n",
            "Epoch: 1 Batch: 1042, [Discriminator_A :: Loss: 0.1764670202319394], [ Generator :: Loss: [0.8266193866729736, 0.00022613468172494322, 0.0, 0.04069078341126442, 0.032194528728723526, 0.05583535134792328, 0.041704751551151276]]\n",
            "Epoch: 1 Batch: 1043, [Discriminator_A :: Loss: 0.005637067835777998], [ Generator :: Loss: [2.718376636505127, 0.9256316423416138, 1.0, 0.03656057268381119, 0.03162856772542, 0.06437702476978302, 0.04647655040025711]]\n",
            "Epoch: 1 Batch: 1044, [Discriminator_A :: Loss: 0.4224571802187711], [ Generator :: Loss: [0.9505763649940491, 0.019985763356089592, 0.0, 0.043880946934223175, 0.03518533706665039, 0.08534194529056549, 0.05458582565188408]]\n",
            "Epoch: 1 Batch: 1045, [Discriminator_A :: Loss: 0.021554954815655947], [ Generator :: Loss: [0.9177818298339844, 0.008208599872887135, 0.0, 0.04581467807292938, 0.032498471438884735, 0.08629188686609268, 0.04014982283115387]]\n",
            "Epoch: 1 Batch: 1046, [Discriminator_A :: Loss: 0.0012307483702898026], [ Generator :: Loss: [2.810291051864624, 0.8958285450935364, 1.0, 0.04418802633881569, 0.033585358411073685, 0.08302978426218033, 0.05369888246059418]]\n",
            "Epoch: 1 Batch: 1047, [Discriminator_A :: Loss: 0.0003234366849937942], [ Generator :: Loss: [0.9870875477790833, 0.0010471900459378958, 0.0, 0.047008395195007324, 0.04010357707738876, 0.06801263242959976, 0.04690801352262497]]\n",
            "Epoch: 1 Batch: 1048, [Discriminator_A :: Loss: 0.3214015120320255], [ Generator :: Loss: [0.8720889091491699, 0.002474276814609766, 0.0, 0.03258652612566948, 0.04367770254611969, 0.05553775653243065, 0.05143459141254425]]\n",
            "Epoch: 1 Batch: 1049, [Discriminator_A :: Loss: 0.0002917633973993361], [ Generator :: Loss: [0.8872954249382019, 0.0004100609803572297, 0.0, 0.038353852927684784, 0.04104343056678772, 0.04775051027536392, 0.04516195133328438]]\n",
            "Epoch: 1 Batch: 1050, [Discriminator_A :: Loss: 0.43364107447268907], [ Generator :: Loss: [0.7336088418960571, 0.00033001674455590546, 0.0, 0.02799895405769348, 0.03599628061056137, 0.053534965962171555, 0.03979147970676422]]\n",
            "Epoch: 1 Batch: 1051, [Discriminator_A :: Loss: 0.007388040889054537], [ Generator :: Loss: [0.981921911239624, 0.0024876664392650127, 0.0, 0.051476068794727325, 0.03571002557873726, 0.06004287302494049, 0.04753047227859497]]\n",
            "Epoch: 1 Batch: 1052, [Discriminator_A :: Loss: 0.39089019363746047], [ Generator :: Loss: [0.7765748500823975, 0.002113412832841277, 0.0, 0.033324774354696274, 0.035055264830589294, 0.043576087802648544, 0.047084927558898926]]\n",
            "Epoch: 1 Batch: 1053, [Discriminator_A :: Loss: 0.022675502579659224], [ Generator :: Loss: [0.9121532440185547, 0.05275057628750801, 0.0, 0.04991886392235756, 0.02700984850525856, 0.05564897134900093, 0.034466542303562164]]\n",
            "Epoch: 1 Batch: 1054, [Discriminator_A :: Loss: 0.2897025290876627], [ Generator :: Loss: [0.6125842332839966, 0.004995387513190508, 0.0, 0.02616984024643898, 0.02723057009279728, 0.03795591741800308, 0.03562882915139198]]\n",
            "Epoch: 1 Batch: 1055, [Discriminator_A :: Loss: 0.32124766462948173], [ Generator :: Loss: [2.7824230194091797, 0.9250025749206543, 1.0, 0.040802136063575745, 0.03509325534105301, 0.04899613559246063, 0.049470171332359314]]\n",
            "Epoch: 1 Batch: 1056, [Discriminator_A :: Loss: 0.4898305151727982], [ Generator :: Loss: [0.7669572830200195, 0.0004555055347736925, 0.0, 0.02960025519132614, 0.03738410770893097, 0.03541887179017067, 0.06123927980661392]]\n",
            "Epoch: 1 Batch: 1057, [Discriminator_A :: Loss: 0.0016441404586657882], [ Generator :: Loss: [3.0050926208496094, 0.9630218744277954, 1.0, 0.056092698127031326, 0.03688336908817291, 0.06270350515842438, 0.049606628715991974]]\n",
            "Epoch: 1 Batch: 1058, [Discriminator_A :: Loss: 0.010605085641145706], [ Generator :: Loss: [0.8451473712921143, 0.003156266175210476, 0.0, 0.03977378457784653, 0.033163413405418396, 0.05787619575858116, 0.054742857813835144]]\n",
            "Epoch: 1 Batch: 1059, [Discriminator_A :: Loss: 0.04968784470111132], [ Generator :: Loss: [0.7935009598731995, 0.004962548613548279, 0.0, 0.03618472069501877, 0.03068702295422554, 0.06637856364250183, 0.053442418575286865]]\n",
            "Epoch: 1 Batch: 1060, [Discriminator_A :: Loss: 0.5210616514086723], [ Generator :: Loss: [0.7006198763847351, 0.008400402031838894, 0.0, 0.024347998201847076, 0.03569793328642845, 0.0448729433119297, 0.046887170523405075]]\n",
            "Epoch: 1 Batch: 1061, [Discriminator_A :: Loss: 0.19817865137156332], [ Generator :: Loss: [0.7054608464241028, 0.00030936149414628744, 0.0, 0.0321345292031765, 0.029206087812781334, 0.05319856107234955, 0.03854675218462944]]\n",
            "Epoch: 1 Batch: 1062, [Discriminator_A :: Loss: 0.05953148554544896], [ Generator :: Loss: [0.8490892648696899, 0.00016595653141848743, 0.0, 0.04168054834008217, 0.03201039507985115, 0.06257017701864243, 0.04944366216659546]]\n",
            "Epoch: 1 Batch: 1063, [Discriminator_A :: Loss: 0.47955897863721475], [ Generator :: Loss: [2.655928373336792, 0.820084273815155, 1.0, 0.027112364768981934, 0.043443068861961365, 0.0709514319896698, 0.05933824181556702]]\n",
            "Epoch: 1 Batch: 1064, [Discriminator_A :: Loss: 0.19741022656671703], [ Generator :: Loss: [0.7401353120803833, 0.0021220531780272722, 0.0, 0.034452393651008606, 0.027652058750391006, 0.07194861769676208, 0.04502015560865402]]\n",
            "Epoch: 1 Batch: 1065, [Discriminator_A :: Loss: 0.0007965762924868613], [ Generator :: Loss: [2.82271671295166, 0.7800328731536865, 1.0, 0.040773164480924606, 0.04744092747569084, 0.0822843462228775, 0.07825854420661926]]\n",
            "Epoch: 1 Batch: 1066, [Discriminator_A :: Loss: 0.15515016901190393], [ Generator :: Loss: [1.202387809753418, 0.0005881593679077923, 0.0, 0.05519045144319534, 0.052189067006111145, 0.06785120815038681, 0.060153327882289886]]\n",
            "Epoch: 1 Batch: 1067, [Discriminator_A :: Loss: 0.3260781202770886], [ Generator :: Loss: [0.8820639848709106, 0.00021985798957757652, 0.0, 0.04358196258544922, 0.03377266600728035, 0.05724486708641052, 0.051053036004304886]]\n",
            "Epoch: 1 Batch: 1068, [Discriminator_A :: Loss: 0.0050091189332306385], [ Generator :: Loss: [0.9083715677261353, 0.0003127654199488461, 0.0, 0.03845041245222092, 0.040728859603405, 0.06580067425966263, 0.050465382635593414]]\n",
            "Epoch: 1 Batch: 1069, [Discriminator_A :: Loss: 0.46183450444368646], [ Generator :: Loss: [0.7085123658180237, 0.008786749094724655, 0.0, 0.03166251629590988, 0.029149053618311882, 0.03717377409338951, 0.05443616211414337]]\n",
            "Epoch: 1 Batch: 1070, [Discriminator_A :: Loss: 0.4041509941453114], [ Generator :: Loss: [0.8670566082000732, 0.0002963854349218309, 0.0, 0.04390999674797058, 0.03338179364800453, 0.04285772144794464, 0.050984613597393036]]\n",
            "Epoch: 1 Batch: 1071, [Discriminator_A :: Loss: 0.20921413201722316], [ Generator :: Loss: [0.9429421424865723, 0.0009204840171150863, 0.0, 0.04564506188035011, 0.03808092325925827, 0.04445365071296692, 0.06030812859535217]]\n",
            "Epoch: 1, [Discriminator_A :: Loss: 0.20921413201722316], [ Generator :: Loss: [0.9429421424865723, 0.0009204840171150863, 0.0, 0.04564506188035011, 0.03808092325925827, 0.04445365071296692, 0.06030812859535217]]\n",
            "Epoch: 2 Batch: 1, [Discriminator_A :: Loss: 0.4658879572089063], [ Generator :: Loss: [0.6440696716308594, 0.00044646539026871324, 0.0, 0.022529996931552887, 0.03519020974636078, 0.028806257992982864, 0.03761489689350128]]\n",
            "Epoch: 2 Batch: 2, [Discriminator_A :: Loss: 0.46170637871546205], [ Generator :: Loss: [0.8553087711334229, 0.0005038619856350124, 0.0, 0.029134361073374748, 0.048987340182065964, 0.03820309415459633, 0.03538477048277855]]\n",
            "Epoch: 2 Batch: 3, [Discriminator_A :: Loss: 0.4324017337639816], [ Generator :: Loss: [0.7024562954902649, 0.005580864381045103, 0.0, 0.027573557570576668, 0.03435690701007843, 0.032484617084264755, 0.04508613795042038]]\n",
            "Epoch: 2 Batch: 4, [Discriminator_A :: Loss: 0.007950109225930646], [ Generator :: Loss: [1.0610830783843994, 0.0005528564797714353, 0.0, 0.05158110335469246, 0.041593536734580994, 0.07793324440717697, 0.050850577652454376]]\n",
            "Epoch: 2 Batch: 5, [Discriminator_A :: Loss: 0.44988551177084446], [ Generator :: Loss: [0.8648767471313477, 0.02571731060743332, 0.0, 0.03903644159436226, 0.03291211649775505, 0.06713942438364029, 0.052534427493810654]]\n",
            "Epoch: 2 Batch: 6, [Discriminator_A :: Loss: 0.45367311337031424], [ Generator :: Loss: [0.6535423994064331, 0.0032440871000289917, 0.0, 0.022285137325525284, 0.03344276547431946, 0.04014603793621063, 0.05287319794297218]]\n",
            "Epoch: 2 Batch: 7, [Discriminator_A :: Loss: 0.4445391958579421], [ Generator :: Loss: [0.6496378183364868, 0.0016977873165160418, 0.0, 0.030027193948626518, 0.027116619050502777, 0.04094819724559784, 0.03555367887020111]]\n",
            "Epoch: 2 Batch: 8, [Discriminator_A :: Loss: 0.0007684511365368962], [ Generator :: Loss: [0.7583200335502625, 0.001096478896215558, 0.0, 0.03917967528104782, 0.025518955662846565, 0.07011871784925461, 0.04011847451329231]]\n",
            "Epoch: 2 Batch: 9, [Discriminator_A :: Loss: 0.0024737651692703366], [ Generator :: Loss: [0.8198480010032654, 0.002482603071257472, 0.0, 0.034567855298519135, 0.03418081998825073, 0.07048814743757248, 0.05939049273729324]]\n",
            "Epoch: 2 Batch: 10, [Discriminator_A :: Loss: 0.4357296598900575], [ Generator :: Loss: [0.6634425520896912, 0.000298678147373721, 0.0, 0.03690527006983757, 0.01871035434305668, 0.07023762166500092, 0.036750003695487976]]\n",
            "Epoch: 2 Batch: 11, [Discriminator_A :: Loss: 0.29676531680161133], [ Generator :: Loss: [0.7204189896583557, 0.00037444758345372975, 0.0, 0.02810431830585003, 0.03393944725394249, 0.05305491387844086, 0.04655197635293007]]\n",
            "Epoch: 2 Batch: 12, [Discriminator_A :: Loss: 0.030996215384220704], [ Generator :: Loss: [0.7222192287445068, 3.655840555438772e-05, 0.0, 0.033701684325933456, 0.028340909630060196, 0.06599564105272293, 0.035761088132858276]]\n",
            "Epoch: 2 Batch: 13, [Discriminator_A :: Loss: 0.39145415677921847], [ Generator :: Loss: [0.847070574760437, 0.0006268300348892808, 0.0, 0.042530663311481476, 0.030806193128228188, 0.06668658554553986, 0.0463886596262455]]\n",
            "Epoch: 2 Batch: 14, [Discriminator_A :: Loss: 0.0002462913234921871], [ Generator :: Loss: [0.9176000952720642, 0.0008717421442270279, 0.0, 0.051216594874858856, 0.028957566246390343, 0.07523306459188461, 0.03975364938378334]]\n",
            "Epoch: 2 Batch: 15, [Discriminator_A :: Loss: 0.4190519279218279], [ Generator :: Loss: [0.5894061326980591, 0.0006189487758092582, 0.0, 0.02442987635731697, 0.025360463187098503, 0.051717359572649, 0.03916648030281067]]\n",
            "Epoch: 2 Batch: 16, [Discriminator_A :: Loss: 0.2965365458512679], [ Generator :: Loss: [0.7112773060798645, 0.010753018781542778, 0.0, 0.029233193024992943, 0.03098253533244133, 0.055109839886426926, 0.04325716570019722]]\n",
            "Epoch: 2 Batch: 17, [Discriminator_A :: Loss: 0.00955125496693654], [ Generator :: Loss: [0.9346333742141724, 0.00010372215183451772, 0.0, 0.03919436037540436, 0.041266895830631256, 0.07379612326622009, 0.05612102895975113]]\n",
            "Epoch: 2 Batch: 18, [Discriminator_A :: Loss: 0.46251398483582307], [ Generator :: Loss: [0.8378262519836426, 0.0010986115084961057, 0.0, 0.037047166377305984, 0.033896103501319885, 0.07583186030387878, 0.05146311596035957]]\n",
            "Epoch: 2 Batch: 19, [Discriminator_A :: Loss: 0.07049559838196728], [ Generator :: Loss: [0.8773694038391113, 0.00026427028933539987, 0.0, 0.04129284992814064, 0.034842219203710556, 0.06007083132863045, 0.05568363517522812]]\n",
            "Epoch: 2 Batch: 20, [Discriminator_A :: Loss: 0.00011087777056673076], [ Generator :: Loss: [0.8591612577438354, 0.00048035423969849944, 0.0, 0.04507085680961609, 0.027221066877245903, 0.0889279693365097, 0.04683373123407364]]\n",
            "Epoch: 2 Batch: 21, [Discriminator_A :: Loss: 0.35784085623163264], [ Generator :: Loss: [0.6280134916305542, 0.00023429175780620426, 0.0, 0.025756288319826126, 0.02809712663292885, 0.04169668257236481, 0.04754837974905968]]\n",
            "Epoch: 2 Batch: 22, [Discriminator_A :: Loss: 0.07882155402330682], [ Generator :: Loss: [0.8564137816429138, 0.0008431646274402738, 0.0, 0.04169180989265442, 0.032065704464912415, 0.07398119568824768, 0.04401429370045662]]\n",
            "Epoch: 2 Batch: 23, [Discriminator_A :: Loss: 0.0006182870565680787], [ Generator :: Loss: [0.8160848617553711, 0.0006030108197592199, 0.0, 0.04182812198996544, 0.028081219643354416, 0.07770472764968872, 0.038683682680130005]]\n",
            "Epoch: 2 Batch: 24, [Discriminator_A :: Loss: 0.0009277619101339951], [ Generator :: Loss: [0.8335503339767456, 0.0026455402839928865, 0.0, 0.04479203745722771, 0.02747752144932747, 0.06596853584051132, 0.04224063456058502]]\n",
            "Epoch: 2 Batch: 25, [Discriminator_A :: Loss: 0.07336366805247962], [ Generator :: Loss: [1.0713523626327515, 0.0025312055367976427, 0.0, 0.0629078671336174, 0.03146488219499588, 0.0769418329000473, 0.04815181344747543]]\n",
            "Epoch: 2 Batch: 26, [Discriminator_A :: Loss: 0.046621985209640115], [ Generator :: Loss: [0.9620999097824097, 0.0004842760681640357, 0.0, 0.034400053322315216, 0.05183446407318115, 0.055066898465156555, 0.044203564524650574]]\n",
            "Epoch: 2 Batch: 27, [Discriminator_A :: Loss: 0.2509318326046923], [ Generator :: Loss: [0.7312262654304504, 0.00028643468976952136, 0.0, 0.03086480312049389, 0.032972630113363266, 0.04457375779747963, 0.04799173027276993]]\n",
            "Epoch: 2 Batch: 28, [Discriminator_A :: Loss: 0.0042963208979927], [ Generator :: Loss: [0.7494515180587769, 0.000425392878241837, 0.0, 0.03846786171197891, 0.025587210431694984, 0.06945859640836716, 0.039016835391521454]]\n",
            "Epoch: 2 Batch: 29, [Discriminator_A :: Loss: 0.025011899997480214], [ Generator :: Loss: [2.885814666748047, 0.9509243369102478, 1.0, 0.04554188996553421, 0.03537284582853317, 0.06742249429225922, 0.058320529758930206]]\n",
            "Epoch: 2 Batch: 30, [Discriminator_A :: Loss: 0.002537019783630967], [ Generator :: Loss: [0.757270097732544, 0.00413408363237977, 0.0, 0.033704973757267, 0.030824754387140274, 0.05939401686191559, 0.04844476655125618]]\n",
            "Epoch: 2 Batch: 31, [Discriminator_A :: Loss: 0.2132377852103673], [ Generator :: Loss: [0.682064414024353, 0.0006842146976850927, 0.0, 0.03189236670732498, 0.02625313214957714, 0.05479225888848305, 0.045132990926504135]]\n",
            "Epoch: 2 Batch: 32, [Discriminator_A :: Loss: 0.2701638572034426], [ Generator :: Loss: [2.786850929260254, 0.7785252928733826, 1.0, 0.0388542078435421, 0.04955524578690529, 0.06375418603420258, 0.06047670170664787]]\n",
            "Epoch: 2 Batch: 33, [Discriminator_A :: Loss: 0.10263350224704482], [ Generator :: Loss: [2.7997539043426514, 0.9597141742706299, 1.0, 0.040903039276599884, 0.031483884900808334, 0.06456747651100159, 0.05160301551222801]]\n",
            "Epoch: 2 Batch: 34, [Discriminator_A :: Loss: 0.0010414862190373242], [ Generator :: Loss: [0.7687841653823853, 0.0015624873340129852, 0.0, 0.03717496246099472, 0.02998766489326954, 0.05724213644862175, 0.03835323452949524]]\n",
            "Epoch: 2 Batch: 35, [Discriminator_A :: Loss: 0.0030585486674681306], [ Generator :: Loss: [0.8570082783699036, 0.0019392664544284344, 0.0, 0.044100310653448105, 0.02935655042529106, 0.07465913891792297, 0.04584123194217682]]\n",
            "Epoch: 2 Batch: 36, [Discriminator_A :: Loss: 0.000733794742700411], [ Generator :: Loss: [0.8058426380157471, 0.004686818923801184, 0.0, 0.03703196346759796, 0.03142333775758743, 0.06335186213254929, 0.05325096473097801]]\n",
            "Epoch: 2 Batch: 37, [Discriminator_A :: Loss: 0.011530606112501118], [ Generator :: Loss: [0.9682052135467529, 0.010431741364300251, 0.0, 0.03740415722131729, 0.04493410512804985, 0.06842160224914551, 0.06596922129392624]]\n",
            "Epoch: 2 Batch: 38, [Discriminator_A :: Loss: 0.012755280957208015], [ Generator :: Loss: [1.0046266317367554, 0.0017774684820324183, 0.0, 0.044848158955574036, 0.04124809801578522, 0.07939262688159943, 0.062493946403265]]\n",
            "Epoch: 2 Batch: 39, [Discriminator_A :: Loss: 0.0015820004628039896], [ Generator :: Loss: [0.7920659780502319, 0.003356174100190401, 0.0, 0.03662482649087906, 0.031709522008895874, 0.05783896520733833, 0.04752739518880844]]\n",
            "Epoch: 2 Batch: 40, [Discriminator_A :: Loss: 0.479454655200243], [ Generator :: Loss: [0.6451318264007568, 0.002609445247799158, 0.0, 0.02590171992778778, 0.02813652902841568, 0.06264836341142654, 0.03949155658483505]]\n",
            "Epoch: 2 Batch: 41, [Discriminator_A :: Loss: 0.1786212307633832], [ Generator :: Loss: [2.646862506866455, 0.9401318430900574, 1.0, 0.03484896570444107, 0.02610187418758869, 0.05708804726600647, 0.04013433679938316]]\n",
            "Epoch: 2 Batch: 42, [Discriminator_A :: Loss: 0.45851233100984246], [ Generator :: Loss: [0.7183361053466797, 0.005213846918195486, 0.0, 0.027345219627022743, 0.0344737246632576, 0.037404220551252365, 0.057528626173734665]]\n",
            "Epoch: 2 Batch: 43, [Discriminator_A :: Loss: 0.36937861097976565], [ Generator :: Loss: [0.887629508972168, 0.002443037461489439, 0.0, 0.0372232161462307, 0.039882294833660126, 0.04592234641313553, 0.06820899248123169]]\n",
            "Epoch: 2 Batch: 44, [Discriminator_A :: Loss: 0.9173316359519958], [ Generator :: Loss: [1.5325862169265747, 0.7581998705863953, 0.0, 0.02861398085951805, 0.03889477998018265, 0.03854835405945778, 0.06075037270784378]]\n",
            "Epoch: 2 Batch: 45, [Discriminator_A :: Loss: 0.006365788751281798], [ Generator :: Loss: [0.962971568107605, 0.0012681244406849146, 0.0, 0.041776370257139206, 0.04047631844878197, 0.08054860681295395, 0.05862792953848839]]\n",
            "Epoch: 2 Batch: 46, [Discriminator_A :: Loss: 0.0026225365581922233], [ Generator :: Loss: [0.9904419183731079, 0.0005832519382238388, 0.0, 0.03702300414443016, 0.04991472139954567, 0.0631343349814415, 0.057347092777490616]]\n",
            "Epoch: 2 Batch: 47, [Discriminator_A :: Loss: 0.48041641407326097], [ Generator :: Loss: [0.7212426662445068, 0.0004118565411772579, 0.0, 0.028527703136205673, 0.034169722348451614, 0.03846804425120354, 0.05538848787546158]]\n",
            "Epoch: 2 Batch: 48, [Discriminator_A :: Loss: 0.0022454873542301357], [ Generator :: Loss: [0.9461777210235596, 0.0013195343781262636, 0.0, 0.053081024438142776, 0.028445685282349586, 0.09414657950401306, 0.03544449061155319]]\n",
            "Epoch: 2 Batch: 49, [Discriminator_A :: Loss: 0.44756682962179184], [ Generator :: Loss: [0.831178605556488, 0.016043009236454964, 0.0, 0.035234931856393814, 0.03607800602912903, 0.04798274114727974, 0.05402347818017006]]\n",
            "Epoch: 2 Batch: 50, [Discriminator_A :: Loss: 0.3766376174899051], [ Generator :: Loss: [0.670554518699646, 0.00022338777489494532, 0.0, 0.03591148555278778, 0.022890813648700714, 0.047149572521448135, 0.035158514976501465]]\n",
            "Epoch: 2 Batch: 51, [Discriminator_A :: Loss: 0.0017196039989357814], [ Generator :: Loss: [0.7959259748458862, 0.0015443748561665416, 0.0, 0.040576957166194916, 0.026964904740452766, 0.07850606739521027, 0.040456898510456085]]\n",
            "Epoch: 2 Batch: 52, [Discriminator_A :: Loss: 0.09514384041540325], [ Generator :: Loss: [0.7573688626289368, 0.0014466774882748723, 0.0, 0.035842668265104294, 0.029559900984168053, 0.06019146740436554, 0.04170501232147217]]\n",
            "Epoch: 2 Batch: 53, [Discriminator_A :: Loss: 0.08673173421993852], [ Generator :: Loss: [0.6975584030151367, 0.004278306849300861, 0.0, 0.019331034272909164, 0.04015275463461876, 0.03103204071521759, 0.0674101784825325]]\n",
            "Epoch: 2 Batch: 54, [Discriminator_A :: Loss: 0.05777116463286802], [ Generator :: Loss: [0.8978123664855957, 0.0018463954329490662, 0.0, 0.039983440190553665, 0.038056451827287674, 0.06289412081241608, 0.05267295986413956]]\n",
            "Epoch: 2 Batch: 55, [Discriminator_A :: Loss: 0.16146767884492874], [ Generator :: Loss: [0.9064935445785522, 0.15726296603679657, 0.0, 0.032453279942274094, 0.03169465437531471, 0.06053297221660614, 0.047218263149261475]]\n",
            "Epoch: 2 Batch: 56, [Discriminator_A :: Loss: 0.0008132223156280816], [ Generator :: Loss: [0.7822411060333252, 0.0007639951072633266, 0.0, 0.03766409307718277, 0.029560677707195282, 0.06269443780183792, 0.04653499275445938]]\n",
            "Epoch: 2 Batch: 57, [Discriminator_A :: Loss: 0.401072810520418], [ Generator :: Loss: [0.8424615859985352, 0.004787284415215254, 0.0, 0.03977694734930992, 0.03541731834411621, 0.050484467297792435, 0.035247161984443665]]\n",
            "Epoch: 2 Batch: 58, [Discriminator_A :: Loss: 0.0006276028288993984], [ Generator :: Loss: [0.9956456422805786, 0.0006950682727620006, 0.0, 0.04604288935661316, 0.040743954479694366, 0.06189778074622154, 0.06518438458442688]]\n",
            "Epoch: 2 Batch: 59, [Discriminator_A :: Loss: 0.01920316426549107], [ Generator :: Loss: [0.7965536713600159, 0.0018787041772156954, 0.0, 0.035405877977609634, 0.03320097550749779, 0.05417792499065399, 0.054428499191999435]]\n",
            "Epoch: 2 Batch: 60, [Discriminator_A :: Loss: 0.47910128853982314], [ Generator :: Loss: [0.6237049102783203, 0.0010673108045011759, 0.0, 0.025987226516008377, 0.02710205875337124, 0.04724203795194626, 0.044502731412649155]]\n",
            "Epoch: 2 Batch: 61, [Discriminator_A :: Loss: 0.00013833176672051195], [ Generator :: Loss: [0.820583701133728, 0.0003758098173420876, 0.0, 0.039513979107141495, 0.030514858663082123, 0.07319462299346924, 0.046724919229745865]]\n",
            "Epoch: 2 Batch: 62, [Discriminator_A :: Loss: 0.1550503398757428], [ Generator :: Loss: [0.7217762470245361, 0.005486184731125832, 0.0, 0.0374578982591629, 0.02489449828863144, 0.05555325746536255, 0.037212811410427094]]\n",
            "Epoch: 2 Batch: 63, [Discriminator_A :: Loss: 0.03325114428298548], [ Generator :: Loss: [0.8294036388397217, 0.000997422612272203, 0.0, 0.033290088176727295, 0.03898090496659279, 0.0520968921482563, 0.05359942838549614]]\n",
            "Epoch: 2 Batch: 64, [Discriminator_A :: Loss: 0.3105700680753216], [ Generator :: Loss: [0.8171367645263672, 0.003289170563220978, 0.0, 0.03847513720393181, 0.03104953095316887, 0.07011129707098007, 0.04848961532115936]]\n",
            "Epoch: 2 Batch: 65, [Discriminator_A :: Loss: 0.40580234218214173], [ Generator :: Loss: [0.7982541918754578, 0.0002460367395542562, 0.0, 0.04036078602075577, 0.030262425541877747, 0.053329139947891235, 0.03844689577817917]]\n",
            "Epoch: 2 Batch: 66, [Discriminator_A :: Loss: 0.09685710398480296], [ Generator :: Loss: [0.7492702007293701, 0.0006250643637031317, 0.0, 0.030048605054616928, 0.03395986557006836, 0.05440410599112511, 0.05415629595518112]]\n",
            "Epoch: 2 Batch: 67, [Discriminator_A :: Loss: 0.03920637001283467], [ Generator :: Loss: [0.8948603868484497, 0.00915571115911007, 0.0, 0.04569238796830177, 0.030793344601988792, 0.08867952227592468, 0.032167818397283554]]\n",
            "Epoch: 2 Batch: 68, [Discriminator_A :: Loss: 0.00019849791715387255], [ Generator :: Loss: [0.8454954624176025, 0.0002631532843224704, 0.0, 0.04202636703848839, 0.03212786465883255, 0.051029354333877563, 0.052660662680864334]]\n",
            "Epoch: 2 Batch: 69, [Discriminator_A :: Loss: 0.382870574016124], [ Generator :: Loss: [0.9183138608932495, 0.004003692883998156, 0.0, 0.046125903725624084, 0.034806977957487106, 0.05875929817557335, 0.04622207209467888]]\n",
            "Epoch: 2 Batch: 70, [Discriminator_A :: Loss: 0.3823312352924404], [ Generator :: Loss: [0.7598622441291809, 1.9851540855597705e-05, 0.0, 0.03479796648025513, 0.03094867430627346, 0.062069304287433624, 0.04030667245388031]]\n",
            "Epoch: 2 Batch: 71, [Discriminator_A :: Loss: 0.5156226679682732], [ Generator :: Loss: [0.729203462600708, 0.0031515664886683226, 0.0, 0.028570955619215965, 0.03535214811563492, 0.04097134247422218, 0.04584956541657448]]\n",
            "Epoch: 2 Batch: 72, [Discriminator_A :: Loss: 0.0003896825946867466], [ Generator :: Loss: [1.1495904922485352, 0.0012486805208027363, 0.0, 0.059717901051044464, 0.04115912318229675, 0.0871930718421936, 0.05237854644656181]]\n",
            "Epoch: 2 Batch: 73, [Discriminator_A :: Loss: 0.3675756314769387], [ Generator :: Loss: [0.8130013942718506, 0.020825374871492386, 0.0, 0.04071203991770744, 0.0294058695435524, 0.05280254781246185, 0.03819436579942703]]\n",
            "Epoch: 2 Batch: 74, [Discriminator_A :: Loss: 0.40402042772620916], [ Generator :: Loss: [0.7538565397262573, 0.02955581061542034, 0.0, 0.030815405771136284, 0.0314578153192997, 0.04896107688546181, 0.052607461810112]]\n",
            "Epoch: 2 Batch: 75, [Discriminator_A :: Loss: 0.14621986604470294], [ Generator :: Loss: [0.8201173543930054, 0.0004196467634756118, 0.0, 0.03716807812452316, 0.033723317086696625, 0.05840478837490082, 0.05237889289855957]]\n",
            "Epoch: 2 Batch: 76, [Discriminator_A :: Loss: 0.00197455168927263], [ Generator :: Loss: [0.8380012512207031, 0.0009585931547917426, 0.0, 0.04458780214190483, 0.027097539976239204, 0.08128555864095688, 0.038903675973415375]]\n",
            "Epoch: 2 Batch: 77, [Discriminator_A :: Loss: 0.0012684609973803163], [ Generator :: Loss: [0.9385349154472351, 0.0007870101253502071, 0.0, 0.04706908017396927, 0.03452633321285248, 0.08041360229253769, 0.04138018563389778]]\n",
            "Epoch: 2 Batch: 78, [Discriminator_A :: Loss: 0.0016328851961588953], [ Generator :: Loss: [0.8718471527099609, 0.0021014062222093344, 0.0, 0.04056054353713989, 0.03561365604400635, 0.061766885221004486, 0.046236902475357056]]\n",
            "Epoch: 2 Batch: 79, [Discriminator_A :: Loss: 0.025277043838286772], [ Generator :: Loss: [0.7792176008224487, 0.0002281036868225783, 0.0, 0.04189001023769379, 0.025927061215043068, 0.06022043898701668, 0.040598370134830475]]\n",
            "Epoch: 2 Batch: 80, [Discriminator_A :: Loss: 0.0002684872961253859], [ Generator :: Loss: [1.1523289680480957, 0.0004474255838431418, 0.0, 0.053427450358867645, 0.04882507026195526, 0.06611909717321396, 0.0632372722029686]]\n",
            "Epoch: 2 Batch: 81, [Discriminator_A :: Loss: 0.21045688414596952], [ Generator :: Loss: [0.6836000680923462, 0.0002322543878108263, 0.0, 0.036941997706890106, 0.022016320377588272, 0.05438510701060295, 0.03939957171678543]]\n",
            "Epoch: 2 Batch: 82, [Discriminator_A :: Loss: 0.0031958808831404895], [ Generator :: Loss: [0.8744807243347168, 0.006887536495923996, 0.0, 0.041628070175647736, 0.031911931931972504, 0.08078346401453018, 0.05140974372625351]]\n",
            "Epoch: 2 Batch: 83, [Discriminator_A :: Loss: 0.25783785770181566], [ Generator :: Loss: [0.8989278078079224, 0.001707571092993021, 0.0, 0.04081736505031586, 0.03721107169985771, 0.05626874044537544, 0.06066713482141495]]\n",
            "Epoch: 2 Batch: 84, [Discriminator_A :: Loss: 0.43370306957513094], [ Generator :: Loss: [0.7436550855636597, 0.010881230235099792, 0.0, 0.03274036943912506, 0.030677439644932747, 0.054916344583034515, 0.043679460883140564]]\n",
            "Epoch: 2 Batch: 85, [Discriminator_A :: Loss: 0.18302946514450014], [ Generator :: Loss: [1.1100761890411377, 0.001762267667800188, 0.0, 0.0584600605070591, 0.03924289345741272, 0.06585540622472763, 0.06542894244194031]]\n",
            "Epoch: 2 Batch: 86, [Discriminator_A :: Loss: 0.0543662216514349], [ Generator :: Loss: [0.6028256416320801, 0.02421731874346733, 0.0, 0.026479829102754593, 0.0230014119297266, 0.04877256602048874, 0.03502333164215088]]\n",
            "Epoch: 2 Batch: 87, [Discriminator_A :: Loss: 0.01453495305031538], [ Generator :: Loss: [0.89698326587677, 0.0025599671062082052, 0.0, 0.040125392377376556, 0.036881741136312485, 0.07822766900062561, 0.04612429067492485]]\n",
            "Epoch: 2 Batch: 88, [Discriminator_A :: Loss: 0.4175391828175634], [ Generator :: Loss: [0.8316119909286499, 0.002361759077757597, 0.0, 0.03244815021753311, 0.040276288986206055, 0.042971931397914886, 0.05903388187289238]]\n",
            "Epoch: 2 Batch: 89, [Discriminator_A :: Loss: 0.16487946244888008], [ Generator :: Loss: [0.8197312951087952, 0.004721600562334061, 0.0, 0.03228442370891571, 0.0404740646481514, 0.03881913423538208, 0.04860568419098854]]\n",
            "Epoch: 2 Batch: 90, [Discriminator_A :: Loss: 0.0005311277782311663], [ Generator :: Loss: [0.8092193603515625, 0.000627782428637147, 0.0, 0.0341636948287487, 0.03537796810269356, 0.0565057210624218, 0.056669242680072784]]\n",
            "Epoch: 2 Batch: 91, [Discriminator_A :: Loss: 0.0014373041922226548], [ Generator :: Loss: [0.9557077884674072, 0.0031006315257400274, 0.0, 0.04373178258538246, 0.03824596107006073, 0.0797576829791069, 0.0530720055103302]]\n",
            "Epoch: 2 Batch: 92, [Discriminator_A :: Loss: 0.32340448242030106], [ Generator :: Loss: [0.7340584993362427, 0.00038380626938305795, 0.0, 0.02840954065322876, 0.03478294983506203, 0.047460902482271194, 0.05428890883922577]]\n",
            "Epoch: 2 Batch: 93, [Discriminator_A :: Loss: 0.27354242163710296], [ Generator :: Loss: [0.8827352523803711, 0.06946361809968948, 0.0, 0.034040775150060654, 0.03651263564825058, 0.06883806735277176, 0.03889946639537811]]\n",
            "Epoch: 2 Batch: 94, [Discriminator_A :: Loss: 0.47190725430846214], [ Generator :: Loss: [0.8628525137901306, 0.08420306444168091, 0.0, 0.030343718826770782, 0.03710078448057175, 0.05650869384407997, 0.047695714980363846]]\n",
            "Epoch: 2 Batch: 95, [Discriminator_A :: Loss: 0.4802849631814752], [ Generator :: Loss: [0.9069811701774597, 0.0005320176132954657, 0.0, 0.04521076753735542, 0.03013487346470356, 0.10782274603843689, 0.04516999050974846]]\n",
            "Epoch: 2 Batch: 96, [Discriminator_A :: Loss: 0.0038164642501214985], [ Generator :: Loss: [0.9906113743782043, 0.00020606441830750555, 0.0, 0.04781299829483032, 0.03968410566449165, 0.059374015778303146, 0.05606025457382202]]\n",
            "Epoch: 2 Batch: 97, [Discriminator_A :: Loss: 0.2958233505487442], [ Generator :: Loss: [0.9582111239433289, 0.021817035973072052, 0.0, 0.038643695414066315, 0.04119746387004852, 0.06639981269836426, 0.07158271968364716]]\n",
            "Epoch: 2 Batch: 98, [Discriminator_A :: Loss: 0.006142555736005306], [ Generator :: Loss: [0.794357419013977, 0.005982380360364914, 0.0, 0.034097470343112946, 0.03392438217997551, 0.0540025569498539, 0.05415397882461548]]\n",
            "Epoch: 2 Batch: 99, [Discriminator_A :: Loss: 0.3957822557131294], [ Generator :: Loss: [0.7887755632400513, 0.0005406227428466082, 0.0, 0.04215707257390022, 0.02541004866361618, 0.0779341384768486, 0.03462962806224823]]\n",
            "Epoch: 2 Batch: 100, [Discriminator_A :: Loss: 0.05504644475877285], [ Generator :: Loss: [2.5785462856292725, 0.7978022694587708, 1.0, 0.036686986684799194, 0.030549321323633194, 0.07130560278892517, 0.037075225263834]]\n",
            "Image_A shape: (64, 64, 3)\n",
            "fake_B shape: (64, 64, 3)\n",
            "reconstructed_A shape: (64, 64, 3)\n"
          ]
        },
        {
          "output_type": "stream",
          "name": "stderr",
          "text": [
            "WARNING:absl:Found untraced functions such as leaky_re_lu_4_layer_call_fn, leaky_re_lu_4_layer_call_and_return_conditional_losses, leaky_re_lu_5_layer_call_fn, leaky_re_lu_5_layer_call_and_return_conditional_losses, leaky_re_lu_6_layer_call_fn while saving (showing 5 of 80). These functions will not be directly callable after loading.\n"
          ]
        },
        {
          "output_type": "stream",
          "name": "stdout",
          "text": [
            "INFO:tensorflow:Assets written to: /content/gdrive/My Drive/Colab Notebooks/cycleGAN/monet2photo_out/gan_model/assets\n"
          ]
        },
        {
          "output_type": "stream",
          "name": "stderr",
          "text": [
            "INFO:tensorflow:Assets written to: /content/gdrive/My Drive/Colab Notebooks/cycleGAN/monet2photo_out/gan_model/assets\n",
            "WARNING:absl:Found untraced functions such as leaky_re_lu_layer_call_fn, leaky_re_lu_layer_call_and_return_conditional_losses, leaky_re_lu_1_layer_call_fn, leaky_re_lu_1_layer_call_and_return_conditional_losses, leaky_re_lu_2_layer_call_fn while saving (showing 5 of 20). These functions will not be directly callable after loading.\n"
          ]
        },
        {
          "output_type": "stream",
          "name": "stdout",
          "text": [
            "INFO:tensorflow:Assets written to: /content/gdrive/My Drive/Colab Notebooks/cycleGAN/monet2photo_out/generator_A_to_B/assets\n"
          ]
        },
        {
          "output_type": "stream",
          "name": "stderr",
          "text": [
            "INFO:tensorflow:Assets written to: /content/gdrive/My Drive/Colab Notebooks/cycleGAN/monet2photo_out/generator_A_to_B/assets\n",
            "WARNING:absl:Found untraced functions such as leaky_re_lu_4_layer_call_fn, leaky_re_lu_4_layer_call_and_return_conditional_losses, leaky_re_lu_5_layer_call_fn, leaky_re_lu_5_layer_call_and_return_conditional_losses, leaky_re_lu_6_layer_call_fn while saving (showing 5 of 20). These functions will not be directly callable after loading.\n"
          ]
        },
        {
          "output_type": "stream",
          "name": "stdout",
          "text": [
            "INFO:tensorflow:Assets written to: /content/gdrive/My Drive/Colab Notebooks/cycleGAN/monet2photo_out/generator_B_to_A/assets\n"
          ]
        },
        {
          "output_type": "stream",
          "name": "stderr",
          "text": [
            "INFO:tensorflow:Assets written to: /content/gdrive/My Drive/Colab Notebooks/cycleGAN/monet2photo_out/generator_B_to_A/assets\n",
            "WARNING:absl:Found untraced functions such as leaky_re_lu_8_layer_call_fn, leaky_re_lu_8_layer_call_and_return_conditional_losses, leaky_re_lu_9_layer_call_fn, leaky_re_lu_9_layer_call_and_return_conditional_losses, leaky_re_lu_10_layer_call_fn while saving (showing 5 of 20). These functions will not be directly callable after loading.\n"
          ]
        },
        {
          "output_type": "stream",
          "name": "stdout",
          "text": [
            "INFO:tensorflow:Assets written to: /content/gdrive/My Drive/Colab Notebooks/cycleGAN/monet2photo_out/discriminator_A/assets\n"
          ]
        },
        {
          "output_type": "stream",
          "name": "stderr",
          "text": [
            "INFO:tensorflow:Assets written to: /content/gdrive/My Drive/Colab Notebooks/cycleGAN/monet2photo_out/discriminator_A/assets\n",
            "WARNING:absl:Found untraced functions such as leaky_re_lu_12_layer_call_fn, leaky_re_lu_12_layer_call_and_return_conditional_losses, leaky_re_lu_13_layer_call_fn, leaky_re_lu_13_layer_call_and_return_conditional_losses, leaky_re_lu_14_layer_call_fn while saving (showing 5 of 20). These functions will not be directly callable after loading.\n"
          ]
        },
        {
          "output_type": "stream",
          "name": "stdout",
          "text": [
            "INFO:tensorflow:Assets written to: /content/gdrive/My Drive/Colab Notebooks/cycleGAN/monet2photo_out/discriminator_B/assets\n"
          ]
        },
        {
          "output_type": "stream",
          "name": "stderr",
          "text": [
            "INFO:tensorflow:Assets written to: /content/gdrive/My Drive/Colab Notebooks/cycleGAN/monet2photo_out/discriminator_B/assets\n"
          ]
        },
        {
          "output_type": "stream",
          "name": "stdout",
          "text": [
            "Epoch: 2 Batch: 101, [Discriminator_A :: Loss: 0.49478942433779594], [ Generator :: Loss: [0.8539384007453918, 0.00022253869974520057, 0.0, 0.03938370570540428, 0.034583672881126404, 0.06311188638210297, 0.050930205732584]]\n",
            "Epoch: 2 Batch: 102, [Discriminator_A :: Loss: 0.16648141948098782], [ Generator :: Loss: [0.9446352124214172, 0.0003282023244537413, 0.0, 0.03926293924450874, 0.042766135185956955, 0.06392823904752731, 0.060088030993938446]]\n",
            "Epoch: 2 Batch: 103, [Discriminator_A :: Loss: 0.09224669449031353], [ Generator :: Loss: [0.898790717124939, 0.03161315619945526, 0.0, 0.04066218435764313, 0.03397347778081894, 0.07280217856168747, 0.048018693923950195]]\n",
            "Epoch: 2 Batch: 104, [Discriminator_A :: Loss: 0.463381917856168], [ Generator :: Loss: [0.996252715587616, 0.00044691888615489006, 0.0, 0.05518530681729317, 0.034405142068862915, 0.05863455310463905, 0.04126676172018051]]\n",
            "Epoch: 2 Batch: 105, [Discriminator_A :: Loss: 0.3198928380588768], [ Generator :: Loss: [1.2889082431793213, 0.0006110525573603809, 0.0, 0.05141374468803406, 0.0651504248380661, 0.054945044219493866, 0.06771045178174973]]\n",
            "Epoch: 2 Batch: 106, [Discriminator_A :: Loss: 0.3307543374830857], [ Generator :: Loss: [0.805212140083313, 0.00032222384470514953, 0.0, 0.03393765538930893, 0.0353541299700737, 0.05942128598690033, 0.052550770342350006]]\n",
            "Epoch: 2 Batch: 107, [Discriminator_A :: Loss: 0.49127580446656793], [ Generator :: Loss: [2.8721158504486084, 0.9593101143836975, 1.0, 0.03966124728322029, 0.040910784155130386, 0.05283346772193909, 0.05425190553069115]]\n",
            "Epoch: 2 Batch: 108, [Discriminator_A :: Loss: 0.35475332010537386], [ Generator :: Loss: [0.7538776993751526, 0.003482366446405649, 0.0, 0.03576501086354256, 0.029435817152261734, 0.05473988503217697, 0.04364717751741409]]\n",
            "Epoch: 2 Batch: 109, [Discriminator_A :: Loss: 0.026253188319969922], [ Generator :: Loss: [1.1153830289840698, 0.0005301056080497801, 0.0, 0.046747490763664246, 0.05123589560389519, 0.06095673143863678, 0.0740622952580452]]\n",
            "Epoch: 2 Batch: 110, [Discriminator_A :: Loss: 0.26012015642481856], [ Generator :: Loss: [1.0523650646209717, 0.000254180864430964, 0.0, 0.043360430747270584, 0.04764891043305397, 0.07156883180141449, 0.07044863700866699]]\n",
            "Epoch: 2 Batch: 111, [Discriminator_A :: Loss: 0.028946207370609045], [ Generator :: Loss: [0.8236321806907654, 0.0008807794074527919, 0.0, 0.035013388842344284, 0.036385662853717804, 0.050095148384571075, 0.05866573750972748]]\n",
            "Epoch: 2 Batch: 112, [Discriminator_A :: Loss: 0.12040974479168653], [ Generator :: Loss: [0.8032317161560059, 0.0034315723460167646, 0.0, 0.034451235085725784, 0.03652585670351982, 0.06309536099433899, 0.02693389542400837]]\n",
            "Epoch: 2 Batch: 113, [Discriminator_A :: Loss: 0.3758647553913761], [ Generator :: Loss: [0.9222156405448914, 0.0001465466048102826, 0.0, 0.04568009078502655, 0.0351860336959362, 0.06717337667942047, 0.04623446241021156]]\n",
            "Epoch: 2 Batch: 114, [Discriminator_A :: Loss: 0.4740954380395124], [ Generator :: Loss: [0.7996543645858765, 0.006653620861470699, 0.0, 0.022870173677802086, 0.046630438417196274, 0.038821347057819366, 0.05917331576347351]]\n",
            "Epoch: 2 Batch: 115, [Discriminator_A :: Loss: 0.03129135415656492], [ Generator :: Loss: [0.9646674394607544, 0.00048675303696654737, 0.0, 0.041179630905389786, 0.04393991455435753, 0.06324240565299988, 0.04974278435111046]]\n",
            "Epoch: 2 Batch: 116, [Discriminator_A :: Loss: 0.4599295342923142], [ Generator :: Loss: [0.7579349875450134, 0.00036307520349510014, 0.0, 0.03688031807541847, 0.02991774119436741, 0.04943680018186569, 0.040154505521059036]]\n",
            "Epoch: 2 Batch: 117, [Discriminator_A :: Loss: 0.1206439551897347], [ Generator :: Loss: [0.8146677613258362, 0.0011622244492173195, 0.0, 0.036621201783418655, 0.03500823304057121, 0.047987256199121475, 0.04922390729188919]]\n",
            "Epoch: 2 Batch: 118, [Discriminator_A :: Loss: 0.13704691408202052], [ Generator :: Loss: [0.9770156741142273, 0.0005086551536805928, 0.0, 0.04112108796834946, 0.044434621930122375, 0.048624612390995026, 0.07232530415058136]]\n",
            "Epoch: 2 Batch: 119, [Discriminator_A :: Loss: 0.30476622706191847], [ Generator :: Loss: [0.8784570097923279, 0.00017383700469508767, 0.0, 0.048316508531570435, 0.027129171416163445, 0.08336882293224335, 0.04045756533741951]]\n",
            "Epoch: 2 Batch: 120, [Discriminator_A :: Loss: 0.00040389639616478235], [ Generator :: Loss: [0.9310131072998047, 0.0006589729455299675, 0.0, 0.049050964415073395, 0.029939617961645126, 0.0893406867980957, 0.05110765993595123]]\n",
            "Epoch: 2 Batch: 121, [Discriminator_A :: Loss: 0.0016315622488036752], [ Generator :: Loss: [0.8853070735931396, 0.0008501227130182087, 0.0, 0.04266273230314255, 0.03320329636335373, 0.0773458480834961, 0.04845081642270088]]\n",
            "Epoch: 2 Batch: 122, [Discriminator_A :: Loss: 0.160318884474691], [ Generator :: Loss: [0.8152270317077637, 0.00019937896286137402, 0.0, 0.0390566922724247, 0.0316220186650753, 0.06313960254192352, 0.04510097578167915]]\n",
            "Epoch: 2 Batch: 123, [Discriminator_A :: Loss: 0.43134401086717844], [ Generator :: Loss: [0.7682908773422241, 0.00251958379521966, 0.0, 0.03257667273283005, 0.035840220749378204, 0.03571401908993721, 0.045888300985097885]]\n",
            "Epoch: 2 Batch: 124, [Discriminator_A :: Loss: 0.050568547172588296], [ Generator :: Loss: [1.2127074003219604, 0.000966830353718251, 0.0, 0.03443698212504387, 0.07429425418376923, 0.04152105376124382, 0.08290709555149078]]\n",
            "Epoch: 2 Batch: 125, [Discriminator_A :: Loss: 0.23927221016492695], [ Generator :: Loss: [1.0171568393707275, 0.0006171557470224798, 0.0, 0.0495401956140995, 0.038637273013591766, 0.08295247703790665, 0.05181245505809784]]\n",
            "Epoch: 2 Batch: 126, [Discriminator_A :: Loss: 0.4828857693937607], [ Generator :: Loss: [0.7399190068244934, 0.00024014497466851026, 0.0, 0.021177619695663452, 0.043216217309236526, 0.034138601273298264, 0.061601899564266205]]\n",
            "Epoch: 2 Batch: 127, [Discriminator_A :: Loss: 0.011619407101534307], [ Generator :: Loss: [0.9187802076339722, 0.0008319866028614342, 0.0, 0.04321925342082977, 0.036704372614622116, 0.07152842730283737, 0.047183528542518616]]\n",
            "Epoch: 2 Batch: 128, [Discriminator_A :: Loss: 0.45444670517463237], [ Generator :: Loss: [0.9247610569000244, 0.001212803297676146, 0.0, 0.04036429151892662, 0.042638957500457764, 0.04597029462456703, 0.04754544422030449]]\n",
            "Epoch: 2 Batch: 129, [Discriminator_A :: Loss: 0.08230154964257963], [ Generator :: Loss: [0.7801342010498047, 0.0005432757898233831, 0.0, 0.032421357929706573, 0.03678037226200104, 0.04911964014172554, 0.038454025983810425]]\n",
            "Epoch: 2 Batch: 130, [Discriminator_A :: Loss: 0.0031074313446879387], [ Generator :: Loss: [0.9834418296813965, 0.00044311655801720917, 0.0, 0.047373298555612564, 0.04028641805052757, 0.05681958422064781, 0.049581967294216156]]\n",
            "Epoch: 2 Batch: 131, [Discriminator_A :: Loss: 0.42739249393343925], [ Generator :: Loss: [0.7226990461349487, 0.0018682039808481932, 0.0, 0.03855011984705925, 0.024447361007332802, 0.05587237328290939, 0.03498367220163345]]\n",
            "Epoch: 2 Batch: 132, [Discriminator_A :: Loss: 0.45910224388353527], [ Generator :: Loss: [0.6300369501113892, 0.0011469738092273474, 0.0, 0.02409260720014572, 0.0316380076110363, 0.035074394196271896, 0.03650939464569092]]\n",
            "Epoch: 2 Batch: 133, [Discriminator_A :: Loss: 0.39075614172179485], [ Generator :: Loss: [0.6485918164253235, 0.00010371486860094592, 0.0, 0.026276584714651108, 0.03025946021080017, 0.03318169713020325, 0.04994595795869827]]\n",
            "Epoch: 2 Batch: 134, [Discriminator_A :: Loss: 0.4281237434770446], [ Generator :: Loss: [0.680910050868988, 0.0009423599694855511, 0.0, 0.024760540574789047, 0.035614967346191406, 0.023720495402812958, 0.052492111921310425]]\n",
            "Epoch: 2 Batch: 135, [Discriminator_A :: Loss: 0.17022862256271765], [ Generator :: Loss: [0.9584454894065857, 0.00017892209871206433, 0.0, 0.04184912517666817, 0.04149222373962402, 0.07006093859672546, 0.05479211360216141]]\n",
            "Epoch: 2 Batch: 136, [Discriminator_A :: Loss: 0.010132977971807122], [ Generator :: Loss: [0.8374496698379517, 0.0010318391723558307, 0.0, 0.04225268214941025, 0.029627006500959396, 0.06729680299758911, 0.05032411217689514]]\n",
            "Epoch: 2 Batch: 137, [Discriminator_A :: Loss: 0.02914220726233907], [ Generator :: Loss: [0.9175868630409241, 0.0031561455689370632, 0.0, 0.031058795750141144, 0.05047763139009476, 0.039736684411764145, 0.0593298077583313]]\n",
            "Epoch: 2 Batch: 138, [Discriminator_A :: Loss: 0.0007500065985368565], [ Generator :: Loss: [1.2906591892242432, 0.08005394786596298, 0.0, 0.055598437786102295, 0.048072729259729385, 0.09815115481615067, 0.07574249058961868]]\n",
            "Epoch: 2 Batch: 139, [Discriminator_A :: Loss: 0.003404369344934821], [ Generator :: Loss: [0.9062930345535278, 0.0020552994683384895, 0.0, 0.046781569719314575, 0.03320084884762764, 0.0790395438671112, 0.025373991578817368]]\n",
            "Epoch: 2 Batch: 140, [Discriminator_A :: Loss: 0.3745847617974505], [ Generator :: Loss: [0.9802097082138062, 0.0005804713000543416, 0.0, 0.04482579603791237, 0.04277656227350235, 0.04851250350475311, 0.0550931915640831]]\n",
            "Epoch: 2 Batch: 141, [Discriminator_A :: Loss: 0.005727331939851865], [ Generator :: Loss: [1.1309034824371338, 0.00030762364622205496, 0.0, 0.0596027709543705, 0.03722482547163963, 0.11031882464885712, 0.05200106278061867]]\n",
            "Epoch: 2 Batch: 142, [Discriminator_A :: Loss: 0.09463030636834446], [ Generator :: Loss: [0.6834227442741394, 2.2817586796008982e-05, 0.0, 0.029632898047566414, 0.029953446239233017, 0.039297424256801605, 0.04823903739452362]]\n",
            "Epoch: 2 Batch: 143, [Discriminator_A :: Loss: 0.02186380058992654], [ Generator :: Loss: [0.9413133859634399, 0.005184587556868792, 0.0, 0.046335723251104355, 0.03560938686132431, 0.07311848551034927, 0.04355920851230621]]\n",
            "Epoch: 2 Batch: 144, [Discriminator_A :: Loss: 0.47212405104073696], [ Generator :: Loss: [0.705137312412262, 0.0015997441951185465, 0.0, 0.03165769949555397, 0.02904130145907402, 0.045762304216623306, 0.05078522861003876]]\n",
            "Epoch: 2 Batch: 145, [Discriminator_A :: Loss: 0.0006124152569100261], [ Generator :: Loss: [0.9198905825614929, 0.0011876729549840093, 0.0, 0.04577312991023064, 0.03233969956636429, 0.08413182199001312, 0.05344277620315552]]\n",
            "Epoch: 2 Batch: 146, [Discriminator_A :: Loss: 0.00033126084599643946], [ Generator :: Loss: [0.8959716558456421, 0.0004320721491239965, 0.0, 0.04250561445951462, 0.03437655419111252, 0.07050341367721558, 0.056214433163404465]]\n",
            "Epoch: 2 Batch: 147, [Discriminator_A :: Loss: 0.11440849327482283], [ Generator :: Loss: [1.0851331949234009, 0.0008765002130530775, 0.0, 0.05922922492027283, 0.035692088305950165, 0.08229382336139679, 0.05274975672364235]]\n",
            "Epoch: 2 Batch: 148, [Discriminator_A :: Loss: 0.4904761246871203], [ Generator :: Loss: [0.8021446466445923, 0.011424355208873749, 0.0, 0.03511546552181244, 0.034368257969617844, 0.031240668147802353, 0.06464237719774246]]\n",
            "Epoch: 2 Batch: 149, [Discriminator_A :: Loss: 0.20481517072403221], [ Generator :: Loss: [0.7400563955307007, 5.9611185861285776e-05, 0.0, 0.034013137221336365, 0.028941262513399124, 0.05917685478925705, 0.051275916397571564]]\n",
            "Epoch: 2 Batch: 150, [Discriminator_A :: Loss: 0.0005180313419259619], [ Generator :: Loss: [0.7890161871910095, 0.0014399702195078135, 0.0, 0.051160428673028946, 0.01876833662390709, 0.062477827072143555, 0.02581072598695755]]\n",
            "Epoch: 2 Batch: 151, [Discriminator_A :: Loss: 0.4366746188607067], [ Generator :: Loss: [0.8804851174354553, 0.0016034988220781088, 0.0, 0.033371903002262115, 0.04421597719192505, 0.048572976142168045, 0.054429855197668076]]\n",
            "Epoch: 2 Batch: 152, [Discriminator_A :: Loss: 0.1024608840525616], [ Generator :: Loss: [0.7133724689483643, 0.0008536716923117638, 0.0, 0.026552990078926086, 0.034169264137744904, 0.05296172574162483, 0.052334509789943695]]\n",
            "Epoch: 2 Batch: 153, [Discriminator_A :: Loss: 0.38832434453070164], [ Generator :: Loss: [0.7684601545333862, 0.0046375822275877, 0.0, 0.036656755954027176, 0.029749751091003418, 0.05228191986680031, 0.047475554049015045]]\n",
            "Epoch: 2 Batch: 154, [Discriminator_A :: Loss: 0.0010400631581433117], [ Generator :: Loss: [0.857466995716095, 0.0005571364308707416, 0.0, 0.03858838602900505, 0.03590603545308113, 0.06446201354265213, 0.047503650188446045]]\n",
            "Epoch: 2 Batch: 155, [Discriminator_A :: Loss: 0.09926317591452971], [ Generator :: Loss: [0.8135762810707092, 0.0034459098242223263, 0.0, 0.04002087190747261, 0.02925197035074234, 0.05840209126472473, 0.05899987369775772]]\n",
            "Epoch: 2 Batch: 156, [Discriminator_A :: Loss: 0.03327636327594519], [ Generator :: Loss: [0.8501394987106323, 0.003983804490417242, 0.0, 0.04149357229471207, 0.031711395829916, 0.06941428780555725, 0.04469173029065132]]\n",
            "Epoch: 2 Batch: 157, [Discriminator_A :: Loss: 0.022607648419580073], [ Generator :: Loss: [0.8643451929092407, 2.8188493160996586e-05, 0.0, 0.044986702501773834, 0.029523950070142746, 0.07442110776901245, 0.044789399951696396]]\n",
            "Epoch: 2 Batch: 158, [Discriminator_A :: Loss: 0.393924364252598], [ Generator :: Loss: [0.7846770286560059, 0.00031584466341882944, 0.0, 0.032347168773412704, 0.03618709743022919, 0.041891224682331085, 0.05712730437517166]]\n",
            "Epoch: 2 Batch: 159, [Discriminator_A :: Loss: 0.29512871557381004], [ Generator :: Loss: [2.7574734687805176, 0.9417123198509216, 1.0, 0.02271391451358795, 0.04815470799803734, 0.033625587821006775, 0.07344917953014374]]\n",
            "Epoch: 2 Batch: 160, [Discriminator_A :: Loss: 0.05475329115870409], [ Generator :: Loss: [0.9639250636100769, 0.0008319074986502528, 0.0, 0.0378560945391655, 0.04778296500444412, 0.06217002123594284, 0.04453255608677864]]\n",
            "Epoch: 2 Batch: 161, [Discriminator_A :: Loss: 0.4542282081965823], [ Generator :: Loss: [0.5812479853630066, 0.00019823263573925942, 0.0, 0.025042276829481125, 0.024876341223716736, 0.04763016477227211, 0.03423338383436203]]\n",
            "Epoch: 2 Batch: 162, [Discriminator_A :: Loss: 0.32927761477185413], [ Generator :: Loss: [0.7154321074485779, 0.00044199556577950716, 0.0, 0.028468281030654907, 0.03293643891811371, 0.05304773524403572, 0.04789518192410469]]\n",
            "Epoch: 2 Batch: 163, [Discriminator_A :: Loss: 0.1931080003560055], [ Generator :: Loss: [0.7158607244491577, 0.0019466123776510358, 0.0, 0.028294051066040993, 0.03195955976843834, 0.05644712969660759, 0.05493093281984329]]\n",
            "Epoch: 2 Batch: 164, [Discriminator_A :: Loss: 0.3271856647916138], [ Generator :: Loss: [0.640625, 0.0005549915949814022, 0.0, 0.03272315859794617, 0.02302538976073265, 0.0531122088432312, 0.02947234734892845]]\n",
            "Epoch: 2 Batch: 165, [Discriminator_A :: Loss: 0.1900230791652575], [ Generator :: Loss: [0.777010440826416, 0.0021944502368569374, 0.0, 0.035832807421684265, 0.030900780111551285, 0.06078174710273743, 0.04669833183288574]]\n",
            "Epoch: 2 Batch: 166, [Discriminator_A :: Loss: 0.15427473300951533], [ Generator :: Loss: [2.806192398071289, 0.9585659503936768, 1.0, 0.0396512970328331, 0.03529088571667671, 0.05061987787485123, 0.04758467897772789]]\n",
            "Epoch: 2 Batch: 167, [Discriminator_A :: Loss: 0.18577723356429487], [ Generator :: Loss: [0.9897928833961487, 0.06215331330895424, 0.0, 0.04490085691213608, 0.03556526452302933, 0.06220172345638275, 0.060776643455028534]]\n",
            "Epoch: 2 Batch: 168, [Discriminator_A :: Loss: 0.0016194971249205992], [ Generator :: Loss: [0.9829119443893433, 9.087104263016954e-05, 0.0, 0.055815793573856354, 0.03383965790271759, 0.04246370121836662, 0.043802887201309204]]\n",
            "Epoch: 2 Batch: 169, [Discriminator_A :: Loss: 0.1363921087613562], [ Generator :: Loss: [2.7993080615997314, 0.9691423773765564, 1.0, 0.0382755845785141, 0.03611201420426369, 0.0441049262881279, 0.04218485206365585]]\n",
            "Epoch: 2 Batch: 170, [Discriminator_A :: Loss: 0.25197126806597225], [ Generator :: Loss: [0.6276179552078247, 8.005867130123079e-05, 0.0, 0.025910992175340652, 0.029073575511574745, 0.043757762759923935, 0.033934492617845535]]\n",
            "Epoch: 2 Batch: 171, [Discriminator_A :: Loss: 0.06906849425286055], [ Generator :: Loss: [1.1757231950759888, 0.011443514376878738, 0.0, 0.0596705824136734, 0.04411502182483673, 0.07281124591827393, 0.053612444549798965]]\n",
            "Epoch: 2 Batch: 172, [Discriminator_A :: Loss: 0.07880228152498603], [ Generator :: Loss: [0.9267092943191528, 0.0008850264130160213, 0.0, 0.04506129398941994, 0.03636997193098068, 0.057284001260995865, 0.0542275607585907]]\n",
            "Epoch: 2 Batch: 173, [Discriminator_A :: Loss: 0.013540320804168005], [ Generator :: Loss: [0.9663375616073608, 8.957341924542561e-05, 0.0, 0.04982750117778778, 0.03552898019552231, 0.06583748012781143, 0.0468456968665123]]\n",
            "Epoch: 2 Batch: 174, [Discriminator_A :: Loss: 0.42769145406782627], [ Generator :: Loss: [0.7438610196113586, 0.020280415192246437, 0.0, 0.02735934406518936, 0.03575090318918228, 0.04916933551430702, 0.0433088019490242]]\n",
            "Epoch: 2 Batch: 175, [Discriminator_A :: Loss: 0.07686647854279727], [ Generator :: Loss: [0.9319939017295837, 0.002213534200564027, 0.0, 0.0416460745036602, 0.03940045088529587, 0.06359631568193436, 0.05571877211332321]]\n",
            "Epoch: 2 Batch: 176, [Discriminator_A :: Loss: 0.0005743242945754901], [ Generator :: Loss: [0.7629862427711487, 0.0021616648882627487, 0.0, 0.03283950686454773, 0.03372863680124283, 0.04167957976460457, 0.05346359312534332]]\n",
            "Epoch: 2 Batch: 177, [Discriminator_A :: Loss: 0.48416787711903453], [ Generator :: Loss: [0.6062633991241455, 0.004594235680997372, 0.0, 0.022714275866746902, 0.028770700097084045, 0.04211295396089554, 0.04470650106668472]]\n",
            "Epoch: 2 Batch: 178, [Discriminator_A :: Loss: 0.4707301697344519], [ Generator :: Loss: [0.5695508718490601, 0.000918232137337327, 0.0, 0.026364268735051155, 0.02270578406751156, 0.04667847231030464, 0.0312536247074604]]\n",
            "Epoch: 2 Batch: 179, [Discriminator_A :: Loss: 0.4341222858056426], [ Generator :: Loss: [2.359644651412964, 0.8594073057174683, 1.0, 0.015108735300600529, 0.02658591791987419, 0.03351480886340141, 0.049776121973991394]]\n",
            "Epoch: 2 Batch: 180, [Discriminator_A :: Loss: 0.15385532192885876], [ Generator :: Loss: [2.474351167678833, 0.743053138256073, 1.0, 0.03658884018659592, 0.027221007272601128, 0.0625632107257843, 0.030636325478553772]]\n",
            "Epoch: 2 Batch: 181, [Discriminator_A :: Loss: 0.14364072697935626], [ Generator :: Loss: [0.7633250951766968, 0.0005783679662272334, 0.0, 0.03876036778092384, 0.02720574289560318, 0.06122603267431259, 0.04185962304472923]]\n",
            "Epoch: 2 Batch: 182, [Discriminator_A :: Loss: 0.2982864806544967], [ Generator :: Loss: [0.9644172191619873, 0.0047525158151984215, 0.0, 0.0433700792491436, 0.040266282856464386, 0.06563647091388702, 0.05766458809375763]]\n",
            "Epoch: 2 Batch: 183, [Discriminator_A :: Loss: 0.1257125063566491], [ Generator :: Loss: [0.8095652461051941, 0.004701029974967241, 0.0, 0.03493127226829529, 0.03615456819534302, 0.04284293204545975, 0.051162876188755035]]\n",
            "Epoch: 2 Batch: 184, [Discriminator_A :: Loss: 0.45501484831038397], [ Generator :: Loss: [0.7607327699661255, 0.0011287899687886238, 0.0, 0.030627354979515076, 0.03614424914121628, 0.045544154942035675, 0.04634375497698784]]\n",
            "Epoch: 2 Batch: 185, [Discriminator_A :: Loss: 0.036793869570828974], [ Generator :: Loss: [0.7984066605567932, 0.005272864364087582, 0.0, 0.04333403706550598, 0.02455095574259758, 0.07274485379457474, 0.0415390208363533]]\n",
            "Epoch: 2 Batch: 186, [Discriminator_A :: Loss: 0.00012202408834127709], [ Generator :: Loss: [0.8239437341690063, 0.00010898098844336346, 0.0, 0.038177914917469025, 0.032464683055877686, 0.07085071504116058, 0.04655803367495537]]\n",
            "Epoch: 2 Batch: 187, [Discriminator_A :: Loss: 0.039589848602190614], [ Generator :: Loss: [0.9165223240852356, 0.06618032604455948, 0.0, 0.033346910029649734, 0.03899309039115906, 0.06127600371837616, 0.06566594541072845]]\n",
            "Epoch: 2 Batch: 188, [Discriminator_A :: Loss: 0.21266763053426985], [ Generator :: Loss: [0.7443815469741821, 0.00022652205370832235, 0.0, 0.03084373287856579, 0.03487640246748924, 0.0487159788608551, 0.03823770582675934]]\n",
            "Epoch: 2 Batch: 189, [Discriminator_A :: Loss: 0.02478802957193693], [ Generator :: Loss: [0.818213939666748, 5.273911665426567e-05, 0.0, 0.04011111706495285, 0.03198358044028282, 0.06386248022317886, 0.03335168957710266]]\n",
            "Epoch: 2 Batch: 190, [Discriminator_A :: Loss: 0.42667939960665535], [ Generator :: Loss: [0.5781015753746033, 7.484939851565287e-05, 0.0, 0.024916496127843857, 0.02657245844602585, 0.031503450125455856, 0.031633686274290085]]\n",
            "Epoch: 2 Batch: 191, [Discriminator_A :: Loss: 0.3266682900575688], [ Generator :: Loss: [0.994469940662384, 0.0004597566439770162, 0.0, 0.04094678908586502, 0.04587525129318237, 0.06479662656784058, 0.06099317595362663]]\n",
            "Epoch: 2 Batch: 192, [Discriminator_A :: Loss: 0.0012162680795881897], [ Generator :: Loss: [0.8916701674461365, 0.0011046057334169745, 0.0, 0.046585697680711746, 0.03022616356611252, 0.0787796825170517, 0.043667271733284]]\n",
            "Epoch: 2 Batch: 193, [Discriminator_A :: Loss: 0.17941844580491306], [ Generator :: Loss: [0.7040154933929443, 0.00015685826656408608, 0.0, 0.03333883360028267, 0.026837823912501335, 0.04994726926088333, 0.05214483290910721]]\n",
            "Epoch: 2 Batch: 194, [Discriminator_A :: Loss: 0.4200950379599817], [ Generator :: Loss: [0.6352512240409851, 0.0014819663483649492, 0.0, 0.023047350347042084, 0.03288495913147926, 0.04089832305908203, 0.03354784473776817]]\n",
            "Epoch: 2 Batch: 195, [Discriminator_A :: Loss: 0.26476842910051346], [ Generator :: Loss: [0.9870555996894836, 0.01494591310620308, 0.0, 0.050560373812913895, 0.03499545529484749, 0.06968919932842255, 0.046862199902534485]]\n",
            "Epoch: 2 Batch: 196, [Discriminator_A :: Loss: 0.13739301124587655], [ Generator :: Loss: [2.9547414779663086, 0.9557268023490906, 1.0, 0.0514664389193058, 0.03280676156282425, 0.10216556489467621, 0.05411717668175697]]\n",
            "Epoch: 2 Batch: 197, [Discriminator_A :: Loss: 0.000742640026146546], [ Generator :: Loss: [1.0995835065841675, 0.0014335222076624632, 0.0, 0.052842576056718826, 0.04185272753238678, 0.08452905714511871, 0.06666786968708038]]\n",
            "Epoch: 2 Batch: 198, [Discriminator_A :: Loss: 0.46506331802811474], [ Generator :: Loss: [0.694695234298706, 0.00013826247595716268, 0.0, 0.031343866139650345, 0.03040602244436741, 0.03398317098617554, 0.04307497292757034]]\n",
            "Epoch: 2 Batch: 199, [Discriminator_A :: Loss: 0.4466203713673167], [ Generator :: Loss: [0.896062970161438, 0.0023270866367965937, 0.0, 0.04278095066547394, 0.03256741166114807, 0.08679138123989105, 0.053460873663425446]]\n",
            "Epoch: 2 Batch: 200, [Discriminator_A :: Loss: 0.005755803198553622], [ Generator :: Loss: [0.8924815654754639, 0.0015149740502238274, 0.0, 0.04433918744325638, 0.03251885622739792, 0.08213011920452118, 0.04025604948401451]]\n",
            "Image_A shape: (64, 64, 3)\n",
            "fake_B shape: (64, 64, 3)\n",
            "reconstructed_A shape: (64, 64, 3)\n"
          ]
        },
        {
          "output_type": "stream",
          "name": "stderr",
          "text": [
            "WARNING:absl:Found untraced functions such as leaky_re_lu_4_layer_call_fn, leaky_re_lu_4_layer_call_and_return_conditional_losses, leaky_re_lu_5_layer_call_fn, leaky_re_lu_5_layer_call_and_return_conditional_losses, leaky_re_lu_6_layer_call_fn while saving (showing 5 of 80). These functions will not be directly callable after loading.\n"
          ]
        },
        {
          "output_type": "stream",
          "name": "stdout",
          "text": [
            "INFO:tensorflow:Assets written to: /content/gdrive/My Drive/Colab Notebooks/cycleGAN/monet2photo_out/gan_model/assets\n"
          ]
        },
        {
          "output_type": "stream",
          "name": "stderr",
          "text": [
            "INFO:tensorflow:Assets written to: /content/gdrive/My Drive/Colab Notebooks/cycleGAN/monet2photo_out/gan_model/assets\n",
            "WARNING:absl:Found untraced functions such as leaky_re_lu_layer_call_fn, leaky_re_lu_layer_call_and_return_conditional_losses, leaky_re_lu_1_layer_call_fn, leaky_re_lu_1_layer_call_and_return_conditional_losses, leaky_re_lu_2_layer_call_fn while saving (showing 5 of 20). These functions will not be directly callable after loading.\n"
          ]
        },
        {
          "output_type": "stream",
          "name": "stdout",
          "text": [
            "INFO:tensorflow:Assets written to: /content/gdrive/My Drive/Colab Notebooks/cycleGAN/monet2photo_out/generator_A_to_B/assets\n"
          ]
        },
        {
          "output_type": "stream",
          "name": "stderr",
          "text": [
            "INFO:tensorflow:Assets written to: /content/gdrive/My Drive/Colab Notebooks/cycleGAN/monet2photo_out/generator_A_to_B/assets\n",
            "WARNING:absl:Found untraced functions such as leaky_re_lu_4_layer_call_fn, leaky_re_lu_4_layer_call_and_return_conditional_losses, leaky_re_lu_5_layer_call_fn, leaky_re_lu_5_layer_call_and_return_conditional_losses, leaky_re_lu_6_layer_call_fn while saving (showing 5 of 20). These functions will not be directly callable after loading.\n"
          ]
        },
        {
          "output_type": "stream",
          "name": "stdout",
          "text": [
            "INFO:tensorflow:Assets written to: /content/gdrive/My Drive/Colab Notebooks/cycleGAN/monet2photo_out/generator_B_to_A/assets\n"
          ]
        },
        {
          "output_type": "stream",
          "name": "stderr",
          "text": [
            "INFO:tensorflow:Assets written to: /content/gdrive/My Drive/Colab Notebooks/cycleGAN/monet2photo_out/generator_B_to_A/assets\n",
            "WARNING:absl:Found untraced functions such as leaky_re_lu_8_layer_call_fn, leaky_re_lu_8_layer_call_and_return_conditional_losses, leaky_re_lu_9_layer_call_fn, leaky_re_lu_9_layer_call_and_return_conditional_losses, leaky_re_lu_10_layer_call_fn while saving (showing 5 of 20). These functions will not be directly callable after loading.\n"
          ]
        },
        {
          "output_type": "stream",
          "name": "stdout",
          "text": [
            "INFO:tensorflow:Assets written to: /content/gdrive/My Drive/Colab Notebooks/cycleGAN/monet2photo_out/discriminator_A/assets\n"
          ]
        },
        {
          "output_type": "stream",
          "name": "stderr",
          "text": [
            "INFO:tensorflow:Assets written to: /content/gdrive/My Drive/Colab Notebooks/cycleGAN/monet2photo_out/discriminator_A/assets\n",
            "WARNING:absl:Found untraced functions such as leaky_re_lu_12_layer_call_fn, leaky_re_lu_12_layer_call_and_return_conditional_losses, leaky_re_lu_13_layer_call_fn, leaky_re_lu_13_layer_call_and_return_conditional_losses, leaky_re_lu_14_layer_call_fn while saving (showing 5 of 20). These functions will not be directly callable after loading.\n"
          ]
        },
        {
          "output_type": "stream",
          "name": "stdout",
          "text": [
            "INFO:tensorflow:Assets written to: /content/gdrive/My Drive/Colab Notebooks/cycleGAN/monet2photo_out/discriminator_B/assets\n"
          ]
        },
        {
          "output_type": "stream",
          "name": "stderr",
          "text": [
            "INFO:tensorflow:Assets written to: /content/gdrive/My Drive/Colab Notebooks/cycleGAN/monet2photo_out/discriminator_B/assets\n"
          ]
        },
        {
          "output_type": "stream",
          "name": "stdout",
          "text": [
            "Epoch: 2 Batch: 201, [Discriminator_A :: Loss: 0.024644527351483703], [ Generator :: Loss: [0.8190189599990845, 0.00975110288709402, 0.0, 0.04205445572733879, 0.02878071926534176, 0.0637187659740448, 0.037197306752204895]]\n",
            "Epoch: 2 Batch: 202, [Discriminator_A :: Loss: 0.005459790816530585], [ Generator :: Loss: [1.1919398307800293, 0.0019200430251657963, 0.0, 0.0707707554101944, 0.03453512489795685, 0.08944037556648254, 0.04752062261104584]]\n",
            "Epoch: 2 Batch: 203, [Discriminator_A :: Loss: 0.369135745218955], [ Generator :: Loss: [0.7013775110244751, 0.0020826226100325584, 0.0, 0.034293316304683685, 0.02607077918946743, 0.05741994082927704, 0.038234010338783264]]\n",
            "Epoch: 2 Batch: 204, [Discriminator_A :: Loss: 0.00827363459393382], [ Generator :: Loss: [0.9122322797775269, 0.0030514614190906286, 0.0, 0.04564684256911278, 0.034772735089063644, 0.056517813354730606, 0.0484672486782074]]\n",
            "Epoch: 2 Batch: 205, [Discriminator_A :: Loss: 0.38522190612275153], [ Generator :: Loss: [0.6758471727371216, 0.000676159281283617, 0.0, 0.031946200877428055, 0.026840070262551308, 0.050656676292419434, 0.03665165603160858]]\n",
            "Epoch: 2 Batch: 206, [Discriminator_A :: Loss: 0.472550138074439], [ Generator :: Loss: [0.6960030198097229, 0.0031744821462780237, 0.0, 0.028169864788651466, 0.03265554457902908, 0.03431754186749458, 0.050256919115781784]]\n",
            "Epoch: 2 Batch: 207, [Discriminator_A :: Loss: 0.39956963807344437], [ Generator :: Loss: [0.7520854473114014, 0.008952592499554157, 0.0, 0.03565942123532295, 0.02974996715784073, 0.046269629150629044, 0.042769402265548706]]\n",
            "Epoch: 2 Batch: 208, [Discriminator_A :: Loss: 0.20318022481660591], [ Generator :: Loss: [0.8053333163261414, 0.0006231911247596145, 0.0, 0.0325419157743454, 0.03819337487220764, 0.04523305594921112, 0.05212417617440224]]\n",
            "Epoch: 2 Batch: 209, [Discriminator_A :: Loss: 0.09203990793321282], [ Generator :: Loss: [0.9622206091880798, 0.0011832400923594832, 0.0, 0.04695027694106102, 0.03657359629869461, 0.07944235950708389, 0.04635629057884216]]\n",
            "Epoch: 2 Batch: 210, [Discriminator_A :: Loss: 0.333932021385408], [ Generator :: Loss: [0.611912727355957, 0.00023726625659037381, 0.0, 0.027367722243070602, 0.02603168971836567, 0.038617707788944244, 0.03906361758708954]]\n",
            "Epoch: 2 Batch: 211, [Discriminator_A :: Loss: 0.4095972180220997], [ Generator :: Loss: [0.9130355715751648, 0.0007812152034603059, 0.0, 0.03436976671218872, 0.0453420951962471, 0.05884065106511116, 0.056295063346624374]]\n",
            "Epoch: 2 Batch: 212, [Discriminator_A :: Loss: 0.22769338669604622], [ Generator :: Loss: [0.8027054667472839, 0.0009107195073738694, 0.0, 0.03226093575358391, 0.037655945867300034, 0.04641281068325043, 0.05621308833360672]]\n",
            "Epoch: 2 Batch: 213, [Discriminator_A :: Loss: 0.2330604318412952], [ Generator :: Loss: [0.9372798204421997, 0.0003517440054565668, 0.0, 0.046951573342084885, 0.03535674512386322, 0.06014193594455719, 0.05370291322469711]]\n",
            "Epoch: 2 Batch: 214, [Discriminator_A :: Loss: 0.4658861723728478], [ Generator :: Loss: [0.65843665599823, 0.0006788215250708163, 0.0, 0.02602482959628105, 0.03148481994867325, 0.03423919156193733, 0.048422180116176605]]\n",
            "Epoch: 2 Batch: 215, [Discriminator_A :: Loss: 0.01411769399419427], [ Generator :: Loss: [2.524779796600342, 0.9167473316192627, 1.0, 0.031158246099948883, 0.02134823240339756, 0.05624125152826309, 0.026726579293608665]]\n",
            "Epoch: 2 Batch: 216, [Discriminator_A :: Loss: 0.04941410459286999], [ Generator :: Loss: [0.9694252014160156, 0.0005931628402322531, 0.0, 0.053731467574834824, 0.03212413936853409, 0.06544727087020874, 0.04482872784137726]]\n",
            "Epoch: 2 Batch: 217, [Discriminator_A :: Loss: 0.12507082714000717], [ Generator :: Loss: [0.8739904165267944, 0.001006781356409192, 0.0, 0.03804056718945503, 0.03730672225356102, 0.06174878776073456, 0.057761967182159424]]\n",
            "Epoch: 2 Batch: 218, [Discriminator_A :: Loss: 0.22029837567242794], [ Generator :: Loss: [0.8047157526016235, 0.0001348772639175877, 0.0, 0.03704758733510971, 0.032975934445858, 0.04335197061300278, 0.06099366769194603]]\n",
            "Epoch: 2 Batch: 219, [Discriminator_A :: Loss: 0.0010989738802891225], [ Generator :: Loss: [0.9999725818634033, 0.0007890447741374373, 0.0, 0.04979386553168297, 0.03621777892112732, 0.08555475622415543, 0.053512297570705414]]\n",
            "Epoch: 2 Batch: 220, [Discriminator_A :: Loss: 0.41793802683241665], [ Generator :: Loss: [0.8357299566268921, 0.018608467653393745, 0.0, 0.03637465834617615, 0.03499676287174225, 0.04653286561369896, 0.05687437579035759]]\n",
            "Epoch: 2 Batch: 221, [Discriminator_A :: Loss: 0.15512033252889523], [ Generator :: Loss: [0.8385210037231445, 0.00026135213556699455, 0.0, 0.03317724168300629, 0.039831697940826416, 0.04692557081580162, 0.061244647949934006]]\n",
            "Epoch: 2 Batch: 222, [Discriminator_A :: Loss: 0.2204513130709529], [ Generator :: Loss: [1.0575382709503174, 0.003236425807699561, 0.0, 0.05858296900987625, 0.031957004219293594, 0.10353412479162216, 0.045367978513240814]]\n",
            "Epoch: 2 Batch: 223, [Discriminator_A :: Loss: 0.0071986362600000575], [ Generator :: Loss: [1.0206925868988037, 0.003010672051459551, 0.0, 0.05218213424086571, 0.03485642001032829, 0.08692918717861176, 0.06036721169948578]]\n",
            "Epoch: 2 Batch: 224, [Discriminator_A :: Loss: 0.0006118472228990868], [ Generator :: Loss: [0.7472966909408569, 0.0001119869266403839, 0.0, 0.04076286032795906, 0.024040905758738518, 0.06076766923069954, 0.03837933391332626]]\n",
            "Epoch: 2 Batch: 225, [Discriminator_A :: Loss: 0.2308444802183658], [ Generator :: Loss: [0.8025640845298767, 0.008641395717859268, 0.0, 0.0312848724424839, 0.03850957751274109, 0.043387897312641144, 0.052590303122997284]]\n",
            "Epoch: 2 Batch: 226, [Discriminator_A :: Loss: 0.01656431859737495], [ Generator :: Loss: [0.8650186657905579, 4.123803955735639e-05, 0.0, 0.042452599853277206, 0.03237253054976463, 0.07158460468053818, 0.04514148831367493]]\n",
            "Epoch: 2 Batch: 227, [Discriminator_A :: Loss: 0.43064745140145533], [ Generator :: Loss: [2.789630174636841, 0.9657017588615417, 1.0, 0.039921317249536514, 0.031123317778110504, 0.060232050716876984, 0.05325017869472504]]\n",
            "Epoch: 2 Batch: 228, [Discriminator_A :: Loss: 0.017127110171713866], [ Generator :: Loss: [0.9708936214447021, 0.00046471337554976344, 0.0, 0.047232139855623245, 0.03826721012592316, 0.07146294414997101, 0.04397246986627579]]\n",
            "Epoch: 2 Batch: 229, [Discriminator_A :: Loss: 0.4238109360449016], [ Generator :: Loss: [2.7412312030792236, 0.9467504620552063, 1.0, 0.03133980557322502, 0.038209132850170135, 0.048129163682460785, 0.05086224898695946]]\n",
            "Epoch: 2 Batch: 230, [Discriminator_A :: Loss: 0.3830370290670544], [ Generator :: Loss: [0.8384035229682922, 0.004303630907088518, 0.0, 0.03835786506533623, 0.0341777577996254, 0.06520945578813553, 0.04353422299027443]]\n",
            "Epoch: 2 Batch: 231, [Discriminator_A :: Loss: 0.10676346110994928], [ Generator :: Loss: [1.0064042806625366, 0.0008543998119421303, 0.0, 0.048945218324661255, 0.03983978182077408, 0.06503353267908096, 0.052666403353214264]]\n",
            "Epoch: 2 Batch: 232, [Discriminator_A :: Loss: 0.0013743487652391195], [ Generator :: Loss: [1.1155266761779785, 0.002037466038018465, 0.0, 0.052312806248664856, 0.0447954423725605, 0.06893882155418396, 0.07346796989440918]]\n",
            "Epoch: 2 Batch: 233, [Discriminator_A :: Loss: 0.045798170496709645], [ Generator :: Loss: [1.0063740015029907, 0.0006908663781359792, 0.0, 0.04552064836025238, 0.04004855081439018, 0.08172992616891861, 0.06826124340295792]]\n",
            "Epoch: 2 Batch: 234, [Discriminator_A :: Loss: 0.023967697838088498], [ Generator :: Loss: [0.8919086456298828, 0.008610151708126068, 0.0, 0.0350382924079895, 0.04135266691446304, 0.06740834563970566, 0.05198056250810623]]\n",
            "Epoch: 2 Batch: 235, [Discriminator_A :: Loss: 0.29765387886436656], [ Generator :: Loss: [0.6108567714691162, 0.0011181654408574104, 0.0, 0.025969550013542175, 0.02647552266716957, 0.041577816009521484, 0.04371006786823273]]\n",
            "Epoch: 2 Batch: 236, [Discriminator_A :: Loss: 0.49243895523250103], [ Generator :: Loss: [0.6248167753219604, 0.005032443907111883, 0.0, 0.023025736212730408, 0.030510257929563522, 0.038149394094944, 0.04627498239278793]]\n",
            "Epoch: 2 Batch: 237, [Discriminator_A :: Loss: 0.07553556829225272], [ Generator :: Loss: [0.7402470111846924, 0.003737071994692087, 0.0, 0.03505053371191025, 0.028635814785957336, 0.05253361165523529, 0.0471128448843956]]\n",
            "Epoch: 2 Batch: 238, [Discriminator_A :: Loss: 0.032920165300311055], [ Generator :: Loss: [0.8177917003631592, 8.38364940136671e-05, 0.0, 0.03942818567156792, 0.03221394121646881, 0.05315786600112915, 0.04812873154878616]]\n",
            "Epoch: 2 Batch: 239, [Discriminator_A :: Loss: 0.0006303355476120487], [ Generator :: Loss: [0.9859224557876587, 0.0004449804837349802, 0.0, 0.045229438692331314, 0.03969176113605499, 0.09129646420478821, 0.044968970119953156]]\n",
            "Epoch: 2 Batch: 240, [Discriminator_A :: Loss: 0.21781206373270834], [ Generator :: Loss: [0.6865167021751404, 0.0002554348611738533, 0.0, 0.03476419299840927, 0.024839812889695168, 0.05276093631982803, 0.03746025264263153]]\n",
            "Epoch: 2 Batch: 241, [Discriminator_A :: Loss: 0.3594283515267307], [ Generator :: Loss: [1.0025131702423096, 0.0015842810971662402, 0.0, 0.02940315194427967, 0.05986086279153824, 0.0521525964140892, 0.05613616481423378]]\n",
            "Epoch: 2 Batch: 242, [Discriminator_A :: Loss: 0.4829986705444753], [ Generator :: Loss: [0.7632894515991211, 0.003285807790234685, 0.0, 0.02531231939792633, 0.03946180269122124, 0.049948398023843765, 0.062313973903656006]]\n",
            "Epoch: 2 Batch: 243, [Discriminator_A :: Loss: 0.0058615177404135466], [ Generator :: Loss: [1.0950827598571777, 0.00032168696634471416, 0.0, 0.058386191725730896, 0.04105743393301964, 0.055433642119169235, 0.04489107057452202]]\n",
            "Epoch: 2 Batch: 244, [Discriminator_A :: Loss: 0.4801850689109415], [ Generator :: Loss: [0.6472369432449341, 0.0032607365865260363, 0.0, 0.023980505764484406, 0.03162061795592308, 0.050312213599681854, 0.03765276446938515]]\n",
            "Epoch: 2 Batch: 245, [Discriminator_A :: Loss: 0.025006682612001896], [ Generator :: Loss: [1.0620297193527222, 0.021716540679335594, 0.0, 0.052447184920310974, 0.040952883660793304, 0.053396567702293396, 0.05291588976979256]]\n",
            "Epoch: 2 Batch: 246, [Discriminator_A :: Loss: 0.07481632236158475], [ Generator :: Loss: [0.8059834241867065, 0.0018570293905213475, 0.0, 0.03785170242190361, 0.032626427710056305, 0.06084606051445007, 0.038499001413583755]]\n",
            "Epoch: 2 Batch: 247, [Discriminator_A :: Loss: 0.004047305919812061], [ Generator :: Loss: [1.1087474822998047, 0.00016334543761331588, 0.0, 0.06117715686559677, 0.0379471592605114, 0.07204415649175644, 0.045296862721443176]]\n",
            "Epoch: 2 Batch: 248, [Discriminator_A :: Loss: 0.04291986534371972], [ Generator :: Loss: [0.9765597581863403, 0.0019001824548467994, 0.0, 0.0415058508515358, 0.045611798763275146, 0.0580311119556427, 0.04545194283127785]]\n",
            "Epoch: 2 Batch: 249, [Discriminator_A :: Loss: 0.44070775900036097], [ Generator :: Loss: [0.9959561824798584, 0.007133384235203266, 0.0, 0.04432075843214989, 0.04107975587248802, 0.07954994589090347, 0.05526771768927574]]\n",
            "Epoch: 2 Batch: 250, [Discriminator_A :: Loss: 0.000757142704060243], [ Generator :: Loss: [0.9619160890579224, 0.0016813770635053515, 0.0, 0.0474725104868412, 0.03698847070336342, 0.07573141902685165, 0.039893485605716705]]\n",
            "Epoch: 2 Batch: 251, [Discriminator_A :: Loss: 0.3867543281521648], [ Generator :: Loss: [0.7340595722198486, 0.0061002750881016254, 0.0, 0.02603231556713581, 0.03838653117418289, 0.043588463217020035, 0.04018241912126541]]\n",
            "Epoch: 2 Batch: 252, [Discriminator_A :: Loss: 0.41203655426215846], [ Generator :: Loss: [0.7964321970939636, 0.000528621778357774, 0.0, 0.043598826974630356, 0.025557054206728935, 0.05645100772380829, 0.04789374768733978]]\n",
            "Epoch: 2 Batch: 253, [Discriminator_A :: Loss: 0.011959710198425455], [ Generator :: Loss: [0.9522439241409302, 0.00013250650954432786, 0.0, 0.04850534722208977, 0.0339907631278038, 0.07380679249763489, 0.053343527019023895]]\n",
            "Epoch: 2 Batch: 254, [Discriminator_A :: Loss: 0.3333480107248761], [ Generator :: Loss: [0.7709286212921143, 0.001048143021762371, 0.0, 0.03095814771950245, 0.036369260400533676, 0.05247608572244644, 0.044130273163318634]]\n",
            "Epoch: 2 Batch: 255, [Discriminator_A :: Loss: 0.2651238193793688], [ Generator :: Loss: [0.7302438020706177, 0.0005109699559397995, 0.0, 0.025474388152360916, 0.03606951981782913, 0.04981797933578491, 0.06447576731443405]]\n",
            "Epoch: 2 Batch: 256, [Discriminator_A :: Loss: 0.1330477662559133], [ Generator :: Loss: [0.7494087219238281, 0.0013992019230499864, 0.0, 0.03268022462725639, 0.030927902087569237, 0.07058124989271164, 0.04134698212146759]]\n",
            "Epoch: 2 Batch: 257, [Discriminator_A :: Loss: 0.1405527641181834], [ Generator :: Loss: [0.8603552579879761, 0.0007346892962232232, 0.0, 0.04508662596344948, 0.02889011800289154, 0.07371671497821808, 0.046136461198329926]]\n",
            "Epoch: 2 Batch: 258, [Discriminator_A :: Loss: 0.0014153705269563943], [ Generator :: Loss: [0.920559287071228, 0.017052415758371353, 0.0, 0.044115304946899414, 0.03406233340501785, 0.06364180892705917, 0.05808871611952782]]\n",
            "Epoch: 2 Batch: 259, [Discriminator_A :: Loss: 0.3665486234240234], [ Generator :: Loss: [0.893397331237793, 0.0015347019070759416, 0.0, 0.03678655996918678, 0.04151398688554764, 0.052608978003263474, 0.0562482513487339]]\n",
            "Epoch: 2 Batch: 260, [Discriminator_A :: Loss: 0.4929861637938302], [ Generator :: Loss: [0.6013126373291016, 0.0008979716803878546, 0.0, 0.024245083332061768, 0.028228724375367165, 0.030189713463187218, 0.04548690468072891]]\n",
            "Epoch: 2 Batch: 261, [Discriminator_A :: Loss: 0.28108343994244933], [ Generator :: Loss: [0.7718709707260132, 0.014794294722378254, 0.0, 0.037675172090530396, 0.026410380378365517, 0.07401585578918457, 0.042205266654491425]]\n",
            "Epoch: 2 Batch: 262, [Discriminator_A :: Loss: 0.39075825829058886], [ Generator :: Loss: [0.772355318069458, 0.001243941718712449, 0.0, 0.026022395119071007, 0.04241499304771423, 0.03474786877632141, 0.05198965221643448]]\n",
            "Epoch: 2 Batch: 263, [Discriminator_A :: Loss: 0.011300654849037528], [ Generator :: Loss: [0.7381081581115723, 0.004336798097938299, 0.0, 0.03210902214050293, 0.031137928366661072, 0.05796394869685173, 0.043337929993867874]]\n",
            "Epoch: 2 Batch: 264, [Discriminator_A :: Loss: 0.4394248833414167], [ Generator :: Loss: [0.5919311046600342, 0.0034945541992783546, 0.0, 0.020272033289074898, 0.027804778888821602, 0.059042926877737045, 0.04862548038363457]]\n",
            "Epoch: 2 Batch: 265, [Discriminator_A :: Loss: 0.4631048613227904], [ Generator :: Loss: [0.6618015766143799, 0.006496565416455269, 0.0, 0.024802446365356445, 0.031495995819568634, 0.047010388225317, 0.04531019926071167]]\n",
            "Epoch: 2 Batch: 266, [Discriminator_A :: Loss: 0.0035077094798907638], [ Generator :: Loss: [0.8896352648735046, 0.0003214496828150004, 0.0, 0.03726158291101456, 0.0393952950835228, 0.06790705025196075, 0.05483799800276756]]\n",
            "Epoch: 2 Batch: 267, [Discriminator_A :: Loss: 0.4507453716942109], [ Generator :: Loss: [0.8146477341651917, 0.0005161297740414739, 0.0, 0.04044324904680252, 0.031092733144760132, 0.04920893907546997, 0.04956287890672684]]\n",
            "Epoch: 2 Batch: 268, [Discriminator_A :: Loss: 0.022844405262731016], [ Generator :: Loss: [0.7002778053283691, 0.003354164771735668, 0.0, 0.03298361226916313, 0.02699119783937931, 0.056737881153821945, 0.040437694638967514]]\n",
            "Epoch: 2 Batch: 269, [Discriminator_A :: Loss: 0.0008866686839610338], [ Generator :: Loss: [0.8918222188949585, 0.0016075829043984413, 0.0, 0.04014170169830322, 0.03519335761666298, 0.07527950406074524, 0.06158451363444328]]\n",
            "Epoch: 2 Batch: 270, [Discriminator_A :: Loss: 0.22830846905708313], [ Generator :: Loss: [0.804236114025116, 0.00046853741514496505, 0.0, 0.04005273059010506, 0.03153511881828308, 0.03453727066516876, 0.05335182324051857]]\n",
            "Epoch: 2 Batch: 271, [Discriminator_A :: Loss: 0.000395435061363969], [ Generator :: Loss: [1.2515602111816406, 0.00041355419671162963, 0.0, 0.07132145762443542, 0.04035642370581627, 0.08824332058429718, 0.04612448439002037]]\n",
            "Epoch: 2 Batch: 272, [Discriminator_A :: Loss: 0.3274244952190202], [ Generator :: Loss: [1.1143258810043335, 0.0007300212164409459, 0.0, 0.06168077886104584, 0.03615288808941841, 0.08263080567121506, 0.052628327161073685]]\n",
            "Epoch: 2 Batch: 273, [Discriminator_A :: Loss: 0.015997760336176725], [ Generator :: Loss: [1.0512205362319946, 0.00011235559213673696, 0.0, 0.05588650330901146, 0.03357124701142311, 0.1080552339553833, 0.048475466668605804]]\n",
            "Epoch: 2 Batch: 274, [Discriminator_A :: Loss: 0.15504405889078043], [ Generator :: Loss: [0.7717446088790894, 0.0008818587521091104, 0.0, 0.037474505603313446, 0.02977752685546875, 0.05488606542348862, 0.04345636069774628]]\n",
            "Epoch: 2 Batch: 275, [Discriminator_A :: Loss: 0.00143110440694727], [ Generator :: Loss: [1.034901738166809, 0.001602988108061254, 0.0, 0.055326834321022034, 0.03416166082024574, 0.0814458429813385, 0.05696796253323555]]\n",
            "Epoch: 2 Batch: 276, [Discriminator_A :: Loss: 0.013601044891402125], [ Generator :: Loss: [2.7567057609558105, 0.9747405052185059, 1.0, 0.0367191806435585, 0.031715277582407, 0.04943259060382843, 0.048188261687755585]]\n",
            "Epoch: 2 Batch: 277, [Discriminator_A :: Loss: 0.47447632369585335], [ Generator :: Loss: [0.7049578428268433, 0.0015147931408137083, 0.0, 0.021886589005589485, 0.03950538486242294, 0.033054329454898834, 0.05646894872188568]]\n",
            "Epoch: 2 Batch: 278, [Discriminator_A :: Loss: 0.20491815102286637], [ Generator :: Loss: [0.7753285765647888, 0.003822165774181485, 0.0, 0.02932584658265114, 0.03890964761376381, 0.03873531520366669, 0.05041614919900894]]\n",
            "Epoch: 2 Batch: 279, [Discriminator_A :: Loss: 0.4120461967395386], [ Generator :: Loss: [0.6016612648963928, 0.00021670538990292698, 0.0, 0.021226508542895317, 0.030620049685239792, 0.034796092659235, 0.0481828898191452]]\n",
            "Epoch: 2 Batch: 280, [Discriminator_A :: Loss: 0.28812886084779166], [ Generator :: Loss: [0.6870685815811157, 0.001277378760278225, 0.0, 0.03251883387565613, 0.025653135031461716, 0.05444811284542084, 0.04962340369820595]]\n",
            "Epoch: 2 Batch: 281, [Discriminator_A :: Loss: 0.2644371222704649], [ Generator :: Loss: [0.9406776428222656, 0.0008350909920409322, 0.0, 0.04019056633114815, 0.04127245768904686, 0.058038171380758286, 0.06717412918806076]]\n",
            "Epoch: 2 Batch: 282, [Discriminator_A :: Loss: 0.0007154739287216216], [ Generator :: Loss: [0.8591837882995605, 0.000712999259121716, 0.0, 0.047254569828510284, 0.027563991025090218, 0.0674184188246727, 0.042866770178079605]]\n",
            "Epoch: 2 Batch: 283, [Discriminator_A :: Loss: 0.00701565999770537], [ Generator :: Loss: [0.7780343294143677, 0.00023806017998140305, 0.0, 0.03663528338074684, 0.03170333430171013, 0.044805992394685745, 0.04960405081510544]]\n",
            "Epoch: 2 Batch: 284, [Discriminator_A :: Loss: 0.39323567057726905], [ Generator :: Loss: [0.7209858894348145, 0.0008759567863307893, 0.0, 0.032649386674165726, 0.029651477932929993, 0.05170612037181854, 0.04539520666003227]]\n",
            "Epoch: 2 Batch: 285, [Discriminator_A :: Loss: 0.046953676639532205], [ Generator :: Loss: [0.8139967918395996, 0.00011166924377903342, 0.0, 0.04235776513814926, 0.02941303327679634, 0.05877140909433365, 0.03740568086504936]]\n",
            "Epoch: 2 Batch: 286, [Discriminator_A :: Loss: 0.06952201575040817], [ Generator :: Loss: [2.730569839477539, 0.8944336771965027, 1.0, 0.041923150420188904, 0.031918153166770935, 0.058727845549583435, 0.03899548202753067]]\n",
            "Epoch: 2 Batch: 287, [Discriminator_A :: Loss: 0.16966577793937176], [ Generator :: Loss: [0.7343604564666748, 0.01120796613395214, 0.0, 0.03816109150648117, 0.025128349661827087, 0.052922096103429794, 0.03733601048588753]]\n",
            "Epoch: 2 Batch: 288, [Discriminator_A :: Loss: 0.037771562580019236], [ Generator :: Loss: [0.9540855884552002, 0.0014063232811167836, 0.0, 0.04001832380890846, 0.04422689229249954, 0.06830661743879318, 0.04192052781581879]]\n",
            "Epoch: 2 Batch: 289, [Discriminator_A :: Loss: 0.4083441086113453], [ Generator :: Loss: [0.7584601640701294, 0.012225872837007046, 0.0, 0.028731513768434525, 0.03702409192919731, 0.05192131549119949, 0.03675694763660431]]\n",
            "Epoch: 2 Batch: 290, [Discriminator_A :: Loss: 0.0007546159886260284], [ Generator :: Loss: [0.8395290970802307, 0.007411954924464226, 0.0, 0.03608166053891182, 0.03534990921616554, 0.06297511607408524, 0.05482634902000427]]\n",
            "Epoch: 2 Batch: 291, [Discriminator_A :: Loss: 0.3479852229356766], [ Generator :: Loss: [0.7300631999969482, 0.015682019293308258, 0.0, 0.028501011431217194, 0.03398885577917099, 0.04367852583527565, 0.04580395668745041]]\n",
            "Epoch: 2 Batch: 292, [Discriminator_A :: Loss: 0.20318256132304668], [ Generator :: Loss: [0.6218059062957764, 0.004973202478140593, 0.0, 0.028151171281933784, 0.024832837283611298, 0.05074638873338699, 0.036246221512556076]]\n",
            "Epoch: 2 Batch: 293, [Discriminator_A :: Loss: 0.033051852020435035], [ Generator :: Loss: [0.7810015678405762, 0.0007232440984807909, 0.0, 0.03806587681174278, 0.029007641598582268, 0.07177956402301788, 0.0377635583281517]]\n",
            "Epoch: 2 Batch: 294, [Discriminator_A :: Loss: 0.46540397248463705], [ Generator :: Loss: [0.5146011710166931, 0.00039682743954472244, 0.0, 0.02186024934053421, 0.02356470376253128, 0.03158961236476898, 0.02836521714925766]]\n",
            "Epoch: 2 Batch: 295, [Discriminator_A :: Loss: 0.001648933335673064], [ Generator :: Loss: [0.9072725772857666, 0.002544754184782505, 0.0, 0.04746022820472717, 0.029477974399924278, 0.07997658103704453, 0.05536918342113495]]\n",
            "Epoch: 2 Batch: 296, [Discriminator_A :: Loss: 0.005809778289403766], [ Generator :: Loss: [0.9378042221069336, 0.0029791556298732758, 0.0, 0.04469882324337959, 0.03560677543282509, 0.07530105113983154, 0.056468039751052856]]\n",
            "Epoch: 2 Batch: 297, [Discriminator_A :: Loss: 0.33307170069019776], [ Generator :: Loss: [0.6841728687286377, 0.00032872732845135033, 0.0, 0.026749607175588608, 0.031917985528707504, 0.04400317370891571, 0.05316499248147011]]\n",
            "Epoch: 2 Batch: 298, [Discriminator_A :: Loss: 0.18454850488342345], [ Generator :: Loss: [0.7265825271606445, 0.0005017075454816222, 0.0, 0.03709249943494797, 0.02642291970551014, 0.055617593228816986, 0.03530902415513992]]\n",
            "Epoch: 2 Batch: 299, [Discriminator_A :: Loss: 0.06237619924650062], [ Generator :: Loss: [0.6788210868835449, 0.0004368428490124643, 0.0, 0.02904376946389675, 0.028658727183938026, 0.05237509682774544, 0.04898415133357048]]\n",
            "Epoch: 2 Batch: 300, [Discriminator_A :: Loss: 0.3434297194471583], [ Generator :: Loss: [0.6754917502403259, 0.0016550751170143485, 0.0, 0.026925450190901756, 0.03079197183251381, 0.04975483566522598, 0.04690762236714363]]\n",
            "Image_A shape: (64, 64, 3)\n",
            "fake_B shape: (64, 64, 3)\n",
            "reconstructed_A shape: (64, 64, 3)\n"
          ]
        },
        {
          "output_type": "stream",
          "name": "stderr",
          "text": [
            "WARNING:absl:Found untraced functions such as leaky_re_lu_4_layer_call_fn, leaky_re_lu_4_layer_call_and_return_conditional_losses, leaky_re_lu_5_layer_call_fn, leaky_re_lu_5_layer_call_and_return_conditional_losses, leaky_re_lu_6_layer_call_fn while saving (showing 5 of 80). These functions will not be directly callable after loading.\n"
          ]
        },
        {
          "output_type": "stream",
          "name": "stdout",
          "text": [
            "INFO:tensorflow:Assets written to: /content/gdrive/My Drive/Colab Notebooks/cycleGAN/monet2photo_out/gan_model/assets\n"
          ]
        },
        {
          "output_type": "stream",
          "name": "stderr",
          "text": [
            "INFO:tensorflow:Assets written to: /content/gdrive/My Drive/Colab Notebooks/cycleGAN/monet2photo_out/gan_model/assets\n",
            "WARNING:absl:Found untraced functions such as leaky_re_lu_layer_call_fn, leaky_re_lu_layer_call_and_return_conditional_losses, leaky_re_lu_1_layer_call_fn, leaky_re_lu_1_layer_call_and_return_conditional_losses, leaky_re_lu_2_layer_call_fn while saving (showing 5 of 20). These functions will not be directly callable after loading.\n"
          ]
        },
        {
          "output_type": "stream",
          "name": "stdout",
          "text": [
            "INFO:tensorflow:Assets written to: /content/gdrive/My Drive/Colab Notebooks/cycleGAN/monet2photo_out/generator_A_to_B/assets\n"
          ]
        },
        {
          "output_type": "stream",
          "name": "stderr",
          "text": [
            "INFO:tensorflow:Assets written to: /content/gdrive/My Drive/Colab Notebooks/cycleGAN/monet2photo_out/generator_A_to_B/assets\n",
            "WARNING:absl:Found untraced functions such as leaky_re_lu_4_layer_call_fn, leaky_re_lu_4_layer_call_and_return_conditional_losses, leaky_re_lu_5_layer_call_fn, leaky_re_lu_5_layer_call_and_return_conditional_losses, leaky_re_lu_6_layer_call_fn while saving (showing 5 of 20). These functions will not be directly callable after loading.\n"
          ]
        },
        {
          "output_type": "stream",
          "name": "stdout",
          "text": [
            "INFO:tensorflow:Assets written to: /content/gdrive/My Drive/Colab Notebooks/cycleGAN/monet2photo_out/generator_B_to_A/assets\n"
          ]
        },
        {
          "output_type": "stream",
          "name": "stderr",
          "text": [
            "INFO:tensorflow:Assets written to: /content/gdrive/My Drive/Colab Notebooks/cycleGAN/monet2photo_out/generator_B_to_A/assets\n",
            "WARNING:absl:Found untraced functions such as leaky_re_lu_8_layer_call_fn, leaky_re_lu_8_layer_call_and_return_conditional_losses, leaky_re_lu_9_layer_call_fn, leaky_re_lu_9_layer_call_and_return_conditional_losses, leaky_re_lu_10_layer_call_fn while saving (showing 5 of 20). These functions will not be directly callable after loading.\n"
          ]
        },
        {
          "output_type": "stream",
          "name": "stdout",
          "text": [
            "INFO:tensorflow:Assets written to: /content/gdrive/My Drive/Colab Notebooks/cycleGAN/monet2photo_out/discriminator_A/assets\n"
          ]
        },
        {
          "output_type": "stream",
          "name": "stderr",
          "text": [
            "INFO:tensorflow:Assets written to: /content/gdrive/My Drive/Colab Notebooks/cycleGAN/monet2photo_out/discriminator_A/assets\n",
            "WARNING:absl:Found untraced functions such as leaky_re_lu_12_layer_call_fn, leaky_re_lu_12_layer_call_and_return_conditional_losses, leaky_re_lu_13_layer_call_fn, leaky_re_lu_13_layer_call_and_return_conditional_losses, leaky_re_lu_14_layer_call_fn while saving (showing 5 of 20). These functions will not be directly callable after loading.\n"
          ]
        },
        {
          "output_type": "stream",
          "name": "stdout",
          "text": [
            "INFO:tensorflow:Assets written to: /content/gdrive/My Drive/Colab Notebooks/cycleGAN/monet2photo_out/discriminator_B/assets\n"
          ]
        },
        {
          "output_type": "stream",
          "name": "stderr",
          "text": [
            "INFO:tensorflow:Assets written to: /content/gdrive/My Drive/Colab Notebooks/cycleGAN/monet2photo_out/discriminator_B/assets\n"
          ]
        },
        {
          "output_type": "stream",
          "name": "stdout",
          "text": [
            "Epoch: 2 Batch: 301, [Discriminator_A :: Loss: 0.08554989012191072], [ Generator :: Loss: [0.8489490747451782, 0.001323586329817772, 0.0, 0.046837955713272095, 0.027243904769420624, 0.06341218948364258, 0.043394677340984344]]\n",
            "Epoch: 2 Batch: 302, [Discriminator_A :: Loss: 0.480857952250517], [ Generator :: Loss: [0.619202733039856, 0.00025954179000109434, 0.0, 0.027784928679466248, 0.026477016508579254, 0.03846382722258568, 0.03785992041230202]]\n",
            "Epoch: 2 Batch: 303, [Discriminator_A :: Loss: 0.4475558614358306], [ Generator :: Loss: [2.499579429626465, 0.9253615736961365, 1.0, 0.025219548493623734, 0.02423279359936714, 0.04029976204037666, 0.039394810795784]]\n",
            "Epoch: 2 Batch: 304, [Discriminator_A :: Loss: 0.4042712092632428], [ Generator :: Loss: [0.6389219760894775, 0.0003982654307037592, 0.0, 0.02480519749224186, 0.02943265810608864, 0.04959024861454964, 0.04655494540929794]]\n",
            "Epoch: 2 Batch: 305, [Discriminator_A :: Loss: 0.003266959742177278], [ Generator :: Loss: [0.6512600183486938, 0.005178675055503845, 0.0, 0.03659060224890709, 0.01767788454890251, 0.07024649530649185, 0.03315000236034393]]\n",
            "Epoch: 2 Batch: 306, [Discriminator_A :: Loss: 0.19604270323179662], [ Generator :: Loss: [0.6697421669960022, 0.0052225361578166485, 0.0, 0.03334039822220802, 0.024004623293876648, 0.05412435159087181, 0.03694506734609604]]\n",
            "Epoch: 2 Batch: 307, [Discriminator_A :: Loss: 0.2714891582727432], [ Generator :: Loss: [0.8398916125297546, 0.02473696880042553, 0.0, 0.04039330035448074, 0.030354106798768044, 0.06342709064483643, 0.04425349831581116]]\n",
            "Epoch: 2 Batch: 308, [Discriminator_A :: Loss: 0.34279729523404967], [ Generator :: Loss: [0.674380898475647, 0.00019495327433105558, 0.0, 0.03300323337316513, 0.02489868551492691, 0.055219002068042755, 0.03994770348072052]]\n",
            "Epoch: 2 Batch: 309, [Discriminator_A :: Loss: 0.41809482872486115], [ Generator :: Loss: [2.083846092224121, 0.22732533514499664, 1.0, 0.04294826090335846, 0.033504750579595566, 0.05406428873538971, 0.03792630881071091]]\n",
            "Epoch: 2 Batch: 310, [Discriminator_A :: Loss: 0.4018956306827022], [ Generator :: Loss: [1.0013830661773682, 0.002782454714179039, 0.0, 0.03302545100450516, 0.054821278899908066, 0.055013496428728104, 0.06511982530355453]]\n",
            "Epoch: 2 Batch: 311, [Discriminator_A :: Loss: 0.00368162669474259], [ Generator :: Loss: [0.794279932975769, 0.0023799268528819084, 0.0, 0.03631380945444107, 0.031552910804748535, 0.06402900815010071, 0.049203820526599884]]\n",
            "Epoch: 2 Batch: 312, [Discriminator_A :: Loss: 0.08323227932851296], [ Generator :: Loss: [0.7922182083129883, 0.0008226772770285606, 0.0, 0.03767774626612663, 0.030522331595420837, 0.06503243744373322, 0.04436232149600983]]\n",
            "Epoch: 2 Batch: 313, [Discriminator_A :: Loss: 0.09410307972575538], [ Generator :: Loss: [0.766465425491333, 0.006850220263004303, 0.0, 0.03508993238210678, 0.029800407588481903, 0.05869109556078911, 0.05202067270874977]]\n",
            "Epoch: 2 Batch: 314, [Discriminator_A :: Loss: 0.3103960257722065], [ Generator :: Loss: [0.7640858888626099, 0.0026898588985204697, 0.0, 0.03830384090542793, 0.029268234968185425, 0.0460377037525177, 0.039637524634599686]]\n",
            "Epoch: 2 Batch: 315, [Discriminator_A :: Loss: 0.004569065873511136], [ Generator :: Loss: [0.8888648748397827, 0.044392846524715424, 0.0, 0.036435097455978394, 0.03615017607808113, 0.06379320472478867, 0.05482609570026398]]\n",
            "Epoch: 2 Batch: 316, [Discriminator_A :: Loss: 0.08128464691981208], [ Generator :: Loss: [0.6576141119003296, 0.0006743966368958354, 0.0, 0.032330311834812164, 0.024678155779838562, 0.04461236670613289, 0.04224270582199097]]\n",
            "Epoch: 2 Batch: 317, [Discriminator_A :: Loss: 0.23271211807150394], [ Generator :: Loss: [0.759941816329956, 0.003533866722136736, 0.0, 0.0330701619386673, 0.0335538350045681, 0.048377469182014465, 0.04179051145911217]]\n",
            "Epoch: 2 Batch: 318, [Discriminator_A :: Loss: 0.2174723024945706], [ Generator :: Loss: [0.6806310415267944, 0.004021582193672657, 0.0, 0.0343329943716526, 0.023742850869894028, 0.05492813512682915, 0.04092290624976158]]\n",
            "Epoch: 2 Batch: 319, [Discriminator_A :: Loss: 0.49088410897093127], [ Generator :: Loss: [0.630368709564209, 0.00015957978030201048, 0.0, 0.022029001265764236, 0.030125996097922325, 0.06325827538967133, 0.04540088027715683]]\n",
            "Epoch: 2 Batch: 320, [Discriminator_A :: Loss: 0.2780959777010139], [ Generator :: Loss: [0.7994474172592163, 0.0005474962526932359, 0.0, 0.03799442946910858, 0.03182292729616165, 0.05198903754353523, 0.04873733967542648]]\n",
            "Epoch: 2 Batch: 321, [Discriminator_A :: Loss: 0.039970448648091406], [ Generator :: Loss: [0.8033700585365295, 0.0007220712141133845, 0.0, 0.03793415054678917, 0.030623063445091248, 0.06727110594511032, 0.04980470985174179]]\n",
            "Epoch: 2 Batch: 322, [Discriminator_A :: Loss: 0.3673203401849605], [ Generator :: Loss: [0.6997167468070984, 0.00170949287712574, 0.0, 0.025966450572013855, 0.03298499062657356, 0.044689640402793884, 0.06380321830511093]]\n",
            "Epoch: 2 Batch: 323, [Discriminator_A :: Loss: 0.42430285015143454], [ Generator :: Loss: [0.6645144820213318, 0.0009534623823128641, 0.0, 0.014620144851505756, 0.04266658425331116, 0.02861042506992817, 0.06208331882953644]]\n",
            "Epoch: 2 Batch: 324, [Discriminator_A :: Loss: 0.33313259307760745], [ Generator :: Loss: [0.5841456651687622, 0.002573737408965826, 0.0, 0.023842502385377884, 0.026429619640111923, 0.039500150829553604, 0.03935057669878006]]\n",
            "Epoch: 2 Batch: 325, [Discriminator_A :: Loss: 0.0007522259420511546], [ Generator :: Loss: [0.7873194217681885, 0.002673894166946411, 0.0, 0.03835049644112587, 0.028031937777996063, 0.06758417189121246, 0.053236983716487885]]\n",
            "Epoch: 2 Batch: 326, [Discriminator_A :: Loss: 0.4008256371016614], [ Generator :: Loss: [0.6888097524642944, 0.0004512083251029253, 0.0, 0.02568136528134346, 0.03437768667936325, 0.044153355062007904, 0.04361468553543091]]\n",
            "Epoch: 2 Batch: 327, [Discriminator_A :: Loss: 0.22796468785963953], [ Generator :: Loss: [0.7827451229095459, 0.00308717112056911, 0.0, 0.0346069261431694, 0.03348444402217865, 0.04338181018829346, 0.05536246299743652]]\n",
            "Epoch: 2 Batch: 328, [Discriminator_A :: Loss: 0.0013263744622236118], [ Generator :: Loss: [0.8027025461196899, 0.004206005949527025, 0.0, 0.038267116993665695, 0.03159773722290993, 0.05626683309674263, 0.04358113184571266]]\n",
            "Epoch: 2 Batch: 329, [Discriminator_A :: Loss: 0.002820955589413643], [ Generator :: Loss: [0.8699244260787964, 0.0014085862785577774, 0.0, 0.03870988264679909, 0.03825844079256058, 0.062103889882564545, 0.03672878071665764]]\n",
            "Epoch: 2 Batch: 330, [Discriminator_A :: Loss: 0.16125117102637887], [ Generator :: Loss: [0.7894584536552429, 0.009158803150057793, 0.0, 0.03405135124921799, 0.032915420830249786, 0.05429532751441002, 0.056336596608161926]]\n",
            "Epoch: 2 Batch: 331, [Discriminator_A :: Loss: 0.3322695065289736], [ Generator :: Loss: [0.8148704767227173, 0.02816578559577465, 0.0, 0.03560692071914673, 0.03492063656449318, 0.03477061539888382, 0.046658482402563095]]\n",
            "Epoch: 2 Batch: 332, [Discriminator_A :: Loss: 0.1789749264717102], [ Generator :: Loss: [0.7959530353546143, 0.012982622720301151, 0.0, 0.03679150715470314, 0.030954565852880478, 0.05509511008858681, 0.050414543598890305]]\n",
            "Epoch: 2 Batch: 333, [Discriminator_A :: Loss: 0.06255078851245344], [ Generator :: Loss: [0.8499734401702881, 0.006379366852343082, 0.0, 0.039156243205070496, 0.034749824553728104, 0.05081351101398468, 0.05371987819671631]]\n",
            "Epoch: 2 Batch: 334, [Discriminator_A :: Loss: 0.0008951937052188441], [ Generator :: Loss: [0.8381308913230896, 0.00028955822926945984, 0.0, 0.04417648911476135, 0.0287849809974432, 0.060017842799425125, 0.04820879548788071]]\n",
            "Epoch: 2 Batch: 335, [Discriminator_A :: Loss: 0.48519573226803914], [ Generator :: Loss: [0.8978675007820129, 0.0014007630525156856, 0.0, 0.04933330789208412, 0.029254041612148285, 0.0692007765173912, 0.04139244928956032]]\n",
            "Epoch: 2 Batch: 336, [Discriminator_A :: Loss: 0.23346884245984256], [ Generator :: Loss: [0.8872421979904175, 0.006120523903518915, 0.0, 0.04266835376620293, 0.03206907585263252, 0.08687350153923035, 0.04687383025884628]]\n",
            "Epoch: 2 Batch: 337, [Discriminator_A :: Loss: 0.17839860741514713], [ Generator :: Loss: [0.7550826072692871, 0.0023855073377490044, 0.0, 0.038300108164548874, 0.028099514544010162, 0.04477652907371521, 0.043924324214458466]]\n",
            "Epoch: 2 Batch: 338, [Discriminator_A :: Loss: 0.47299330015084706], [ Generator :: Loss: [0.8362036943435669, 0.00036225790972821414, 0.0, 0.04463145509362221, 0.02967388927936554, 0.04272068291902542, 0.050067294389009476]]\n",
            "Epoch: 2 Batch: 339, [Discriminator_A :: Loss: 0.4240642348304391], [ Generator :: Loss: [0.8291051387786865, 0.009336534887552261, 0.0, 0.036017194390296936, 0.03752477467060089, 0.0483492873609066, 0.03599962592124939]]\n",
            "Epoch: 2 Batch: 340, [Discriminator_A :: Loss: 0.4218794869084377], [ Generator :: Loss: [0.9002770185470581, 0.005654451437294483, 0.0, 0.029335984960198402, 0.0484778918325901, 0.0473572313785553, 0.06912655383348465]]\n",
            "Epoch: 2 Batch: 341, [Discriminator_A :: Loss: 0.30826789328421], [ Generator :: Loss: [0.9656571745872498, 0.0009004346211440861, 0.0, 0.04453551769256592, 0.042153846472501755, 0.04154616966843605, 0.05631692707538605]]\n",
            "Epoch: 2 Batch: 342, [Discriminator_A :: Loss: 0.17906908875738736], [ Generator :: Loss: [0.8029899597167969, 0.0004411037953104824, 0.0, 0.03584491088986397, 0.033838920295238495, 0.06656833738088608, 0.0391421765089035]]\n",
            "Epoch: 2 Batch: 343, [Discriminator_A :: Loss: 0.20081744343042374], [ Generator :: Loss: [0.9680560827255249, 0.120627261698246, 0.0, 0.03770362213253975, 0.035885997116565704, 0.053188856691122055, 0.05834375321865082]]\n",
            "Epoch: 2 Batch: 344, [Discriminator_A :: Loss: 0.488111212849617], [ Generator :: Loss: [0.781263530254364, 0.00373910553753376, 0.0, 0.0329391211271286, 0.03611994907259941, 0.04318591579794884, 0.04374779015779495]]\n",
            "Epoch: 2 Batch: 345, [Discriminator_A :: Loss: 0.0007356098794844002], [ Generator :: Loss: [0.944810152053833, 0.0019074644660577178, 0.0, 0.037164196372032166, 0.04551035538315773, 0.05971239507198334, 0.05644477158784866]]\n",
            "Epoch: 2 Batch: 346, [Discriminator_A :: Loss: 0.021252281730994582], [ Generator :: Loss: [0.9288074970245361, 0.011612733826041222, 0.0, 0.041584260761737823, 0.03820423409342766, 0.06541795283555984, 0.053891871124506]]\n",
            "Epoch: 2 Batch: 347, [Discriminator_A :: Loss: 0.0004633224962162785], [ Generator :: Loss: [0.9249067306518555, 0.0007529313443228602, 0.0, 0.041500575840473175, 0.03868023678660393, 0.0629899725317955, 0.059355728328228]]\n",
            "Epoch: 2 Batch: 348, [Discriminator_A :: Loss: 0.004002575355116278], [ Generator :: Loss: [0.9906073808670044, 0.0040735178627073765, 0.0, 0.05308578163385391, 0.03210889920592308, 0.08658771961927414, 0.047999318689107895]]\n",
            "Epoch: 2 Batch: 349, [Discriminator_A :: Loss: 0.43224283144809306], [ Generator :: Loss: [0.7094759345054626, 0.0022847948130220175, 0.0, 0.029749376699328423, 0.031456515192985535, 0.04650868847966194, 0.04862353578209877]]\n",
            "Epoch: 2 Batch: 350, [Discriminator_A :: Loss: 0.017069584922865033], [ Generator :: Loss: [2.382883071899414, 0.3790969252586365, 1.0, 0.042590681463479996, 0.04347178339958191, 0.07630699872970581, 0.06685452163219452]]\n",
            "Epoch: 2 Batch: 351, [Discriminator_A :: Loss: 0.07474439748330042], [ Generator :: Loss: [2.8000669479370117, 0.8990457057952881, 1.0, 0.04445449262857437, 0.03332419693470001, 0.06854477524757385, 0.05468948557972908]]\n",
            "Epoch: 2 Batch: 352, [Discriminator_A :: Loss: 0.12642802961636335], [ Generator :: Loss: [0.6278465986251831, 0.0014106181915849447, 0.0, 0.02695772796869278, 0.027405600994825363, 0.04642018675804138, 0.036382563412189484]]\n",
            "Epoch: 2 Batch: 353, [Discriminator_A :: Loss: 0.2648685686290264], [ Generator :: Loss: [0.7532118558883667, 0.011215906590223312, 0.0, 0.029039867222309113, 0.0357552096247673, 0.036288484930992126, 0.057756662368774414]]\n",
            "Epoch: 2 Batch: 354, [Discriminator_A :: Loss: 0.06777597405016422], [ Generator :: Loss: [0.9287571310997009, 0.015571803785860538, 0.0, 0.03142779320478439, 0.047309525310993195, 0.04919254779815674, 0.07661958783864975]]\n",
            "Epoch: 2 Batch: 355, [Discriminator_A :: Loss: 0.011377292299584951], [ Generator :: Loss: [0.8012072443962097, 0.00019650263129733503, 0.0, 0.03841304033994675, 0.03119909018278122, 0.05955329164862633, 0.04533611983060837]]\n",
            "Epoch: 2 Batch: 356, [Discriminator_A :: Loss: 0.0007284701277967542], [ Generator :: Loss: [0.8744063973426819, 0.001970812911167741, 0.0, 0.04568612575531006, 0.029652124270796776, 0.07441642135381699, 0.04463665187358856]]\n",
            "Epoch: 2 Batch: 357, [Discriminator_A :: Loss: 0.016852635890245438], [ Generator :: Loss: [0.8088716864585876, 0.0018691109726205468, 0.0, 0.03804871067404747, 0.03226090595126152, 0.06373634934425354, 0.04017002880573273]]\n",
            "Epoch: 2 Batch: 358, [Discriminator_A :: Loss: 0.4232876263122307], [ Generator :: Loss: [2.6660830974578857, 0.9467436075210571, 1.0, 0.02761405147612095, 0.03497457504272461, 0.04497137665748596, 0.048481814563274384]]\n",
            "Epoch: 2 Batch: 359, [Discriminator_A :: Loss: 0.39444150222698227], [ Generator :: Loss: [0.7160252332687378, 0.000741873518563807, 0.0, 0.036743417382240295, 0.026205794885754585, 0.043425366282463074, 0.04236587882041931]]\n",
            "Epoch: 2 Batch: 360, [Discriminator_A :: Loss: 0.37118780706077814], [ Generator :: Loss: [0.7750178575515747, 0.05356767773628235, 0.0, 0.03462083265185356, 0.02788255177438259, 0.056351568549871445, 0.0400647297501564]]\n",
            "Epoch: 2 Batch: 361, [Discriminator_A :: Loss: 0.012279841408599168], [ Generator :: Loss: [0.9576767086982727, 0.0046558985486626625, 0.0, 0.042968858033418655, 0.03848561272025108, 0.07317212969064713, 0.06530396640300751]]\n",
            "Epoch: 2 Batch: 362, [Discriminator_A :: Loss: 0.0699131540604867], [ Generator :: Loss: [1.1015950441360474, 0.0011430367594584823, 0.0, 0.044891148805618286, 0.052433133125305176, 0.0631101131439209, 0.06409910321235657]]\n",
            "Epoch: 2 Batch: 363, [Discriminator_A :: Loss: 0.024571485351771116], [ Generator :: Loss: [1.1191513538360596, 0.0024770288728177547, 0.0, 0.049716025590896606, 0.04929376393556595, 0.06741892546415329, 0.0591575913131237]]\n",
            "Epoch: 2 Batch: 364, [Discriminator_A :: Loss: 0.44119620861602016], [ Generator :: Loss: [0.9332625865936279, 0.0015567344380542636, 0.0, 0.04764921963214874, 0.034687694162130356, 0.04721863195300102, 0.06111805513501167]]\n",
            "Epoch: 2 Batch: 365, [Discriminator_A :: Loss: 0.052816627285210416], [ Generator :: Loss: [0.8624138832092285, 0.0006328463787212968, 0.0, 0.04318568855524063, 0.03279596194624901, 0.05110287666320801, 0.05086163058876991]]\n",
            "Epoch: 2 Batch: 366, [Discriminator_A :: Loss: 0.005995237966999412], [ Generator :: Loss: [0.8321437835693359, 0.0004564957635011524, 0.0, 0.036938831210136414, 0.03372795879840851, 0.07912860810756683, 0.04589082673192024]]\n",
            "Epoch: 2 Batch: 367, [Discriminator_A :: Loss: 0.38074036804027855], [ Generator :: Loss: [0.7502040863037109, 0.009773681871592999, 0.0, 0.024720951914787292, 0.04137507826089859, 0.03836933150887489, 0.04110078886151314]]\n",
            "Epoch: 2 Batch: 368, [Discriminator_A :: Loss: 0.008167286403477192], [ Generator :: Loss: [2.464806079864502, 0.6135899424552917, 1.0, 0.03702501952648163, 0.03844461217522621, 0.056453462690114975, 0.04006624221801758]]\n",
            "Epoch: 2 Batch: 369, [Discriminator_A :: Loss: 0.162365757743828], [ Generator :: Loss: [0.8143875598907471, 0.009526257403194904, 0.0, 0.038788165897130966, 0.03336706385016441, 0.0452861413359642, 0.038022857159376144]]\n",
            "Epoch: 2 Batch: 370, [Discriminator_A :: Loss: 0.01220574090257287], [ Generator :: Loss: [0.9508523941040039, 0.16990114748477936, 0.0, 0.04068883880972862, 0.027716590091586113, 0.05418954789638519, 0.04270736128091812]]\n",
            "Epoch: 2 Batch: 371, [Discriminator_A :: Loss: 0.10355468152556568], [ Generator :: Loss: [1.0279163122177124, 0.006073944736272097, 0.0, 0.030708393082022667, 0.06067696213722229, 0.04776693880558014, 0.0602218359708786]]\n",
            "Epoch: 2 Batch: 372, [Discriminator_A :: Loss: 0.030249188654124737], [ Generator :: Loss: [1.0027985572814941, 0.07669123262166977, 0.0, 0.040694572031497955, 0.040600478649139404, 0.05842648074030876, 0.05473043769598007]]\n",
            "Epoch: 2 Batch: 373, [Discriminator_A :: Loss: 0.34733687135303626], [ Generator :: Loss: [1.4030157327651978, 0.0011158864945173264, 0.0, 0.042154308408498764, 0.08284294605255127, 0.061169013381004333, 0.0907583013176918]]\n",
            "Epoch: 2 Batch: 374, [Discriminator_A :: Loss: 0.03557660535443574], [ Generator :: Loss: [0.830381453037262, 0.0003920875024050474, 0.0, 0.03934174031019211, 0.03475658968091011, 0.05071277171373367, 0.03829328715801239]]\n",
            "Epoch: 2 Batch: 375, [Discriminator_A :: Loss: 0.0002809856341627892], [ Generator :: Loss: [2.971677541732788, 0.9314377903938293, 1.0, 0.047552723437547684, 0.043584756553173065, 0.06771878898143768, 0.061146076768636703]]\n",
            "Epoch: 2 Batch: 376, [Discriminator_A :: Loss: 0.1481051649316214], [ Generator :: Loss: [0.7456015944480896, 0.0013256297679618, 0.0, 0.02856427989900112, 0.03673596680164337, 0.04442723095417023, 0.04684625566005707]]\n",
            "Epoch: 2 Batch: 377, [Discriminator_A :: Loss: 0.46239148546010256], [ Generator :: Loss: [0.8305256366729736, 0.009843728505074978, 0.0, 0.043429579585790634, 0.030419956892728806, 0.04545225948095322, 0.03673424571752548]]\n",
            "Epoch: 2 Batch: 378, [Discriminator_A :: Loss: 0.0013486625684890896], [ Generator :: Loss: [1.0902485847473145, 0.0019075946183875203, 0.0, 0.05341039225459099, 0.044382620602846146, 0.061502017080783844, 0.048908889293670654]]\n",
            "Epoch: 2 Batch: 379, [Discriminator_A :: Loss: 0.21038686025713105], [ Generator :: Loss: [0.9551544785499573, 0.0005503898137249053, 0.0, 0.049603790044784546, 0.03460116311907768, 0.0637265294790268, 0.048828013241291046]]\n",
            "Epoch: 2 Batch: 380, [Discriminator_A :: Loss: 0.0009103157135541551], [ Generator :: Loss: [0.9923567771911621, 0.00019848952069878578, 0.0, 0.04592433199286461, 0.03969980776309967, 0.07844077795743942, 0.05747609585523605]]\n",
            "Epoch: 2 Batch: 381, [Discriminator_A :: Loss: 0.00601749328779988], [ Generator :: Loss: [0.8442956209182739, 0.0005714395083487034, 0.0, 0.045551784336566925, 0.02704383060336113, 0.07960975170135498, 0.038158271461725235]]\n",
            "Epoch: 2 Batch: 382, [Discriminator_A :: Loss: 0.03480641171336174], [ Generator :: Loss: [0.8595645427703857, 0.0005743526853621006, 0.0, 0.040961720049381256, 0.03409811109304428, 0.0675370991230011, 0.04085474833846092]]\n",
            "Epoch: 2 Batch: 383, [Discriminator_A :: Loss: 0.004527109791524708], [ Generator :: Loss: [0.9444043040275574, 0.005718518979847431, 0.0, 0.048668961971998215, 0.03374377638101578, 0.0745856836438179, 0.0399727039039135]]\n",
            "Epoch: 2 Batch: 384, [Discriminator_A :: Loss: 0.31920316934701987], [ Generator :: Loss: [1.0219082832336426, 0.00045923280413262546, 0.0, 0.05831532925367355, 0.03361253812909126, 0.07040408998727798, 0.031766220927238464]]\n",
            "Epoch: 2 Batch: 385, [Discriminator_A :: Loss: 0.4171743081242312], [ Generator :: Loss: [0.900579035282135, 0.0006100068567320704, 0.0, 0.04457942768931389, 0.031026626005768776, 0.09714734554290771, 0.04676113650202751]]\n",
            "Epoch: 2 Batch: 386, [Discriminator_A :: Loss: 0.36895576532697305], [ Generator :: Loss: [0.9361542463302612, 0.00039239207399077713, 0.0, 0.04480212926864624, 0.037926167249679565, 0.06458330899477005, 0.04389561712741852]]\n",
            "Epoch: 2 Batch: 387, [Discriminator_A :: Loss: 0.08582081930944696], [ Generator :: Loss: [1.032349944114685, 0.003989554941654205, 0.0, 0.05213875696063042, 0.03894941508769989, 0.06348629295825958, 0.05399235710501671]]\n",
            "Epoch: 2 Batch: 388, [Discriminator_A :: Loss: 0.4023388889618218], [ Generator :: Loss: [2.490123987197876, 0.749768853187561, 1.0, 0.03147915378212929, 0.03157617896795273, 0.05986621975898743, 0.04993562400341034]]\n",
            "Epoch: 2 Batch: 389, [Discriminator_A :: Loss: 0.0005949892001808621], [ Generator :: Loss: [0.7510457038879395, 0.0012180315097793937, 0.0, 0.041551005095243454, 0.022537903860211372, 0.07331479340791702, 0.03562380000948906]]\n",
            "Epoch: 2 Batch: 390, [Discriminator_A :: Loss: 0.11439257226561494], [ Generator :: Loss: [0.7030909657478333, 8.94406548468396e-06, 0.0, 0.035574302077293396, 0.025183692574501038, 0.058296773582696915, 0.037205297499895096]]\n",
            "Epoch: 2 Batch: 391, [Discriminator_A :: Loss: 0.4175977742415853], [ Generator :: Loss: [0.6446844935417175, 0.0013999869115650654, 0.0, 0.024142535403370857, 0.032032560557127, 0.03400607407093048, 0.04752745479345322]]\n",
            "Epoch: 2 Batch: 392, [Discriminator_A :: Loss: 0.46456055471207947], [ Generator :: Loss: [3.0809829235076904, 0.9226288199424744, 1.0, 0.037577979266643524, 0.06479709595441818, 0.05940686911344528, 0.0751965269446373]]\n",
            "Epoch: 2 Batch: 393, [Discriminator_A :: Loss: 0.0006072110263630748], [ Generator :: Loss: [0.8614567518234253, 0.0010271460050716996, 0.0, 0.0402689203619957, 0.03396682068705559, 0.0732802301645279, 0.044791966676712036]]\n",
            "Epoch: 2 Batch: 394, [Discriminator_A :: Loss: 0.06815672763332259], [ Generator :: Loss: [0.7026510238647461, 0.00046688999282196164, 0.0, 0.022142764180898666, 0.038530200719833374, 0.03719519451260567, 0.058259330689907074]]\n",
            "Epoch: 2 Batch: 395, [Discriminator_A :: Loss: 0.06528003688436002], [ Generator :: Loss: [0.7319025993347168, 0.01290565449744463, 0.0, 0.025597339496016502, 0.03873901814222336, 0.04329712316393852, 0.03233626112341881]]\n",
            "Epoch: 2 Batch: 396, [Discriminator_A :: Loss: 0.4651270705508068], [ Generator :: Loss: [2.7532577514648438, 0.9031704068183899, 1.0, 0.03524584695696831, 0.037282176315784454, 0.06300511956214905, 0.06180204451084137]]\n",
            "Epoch: 2 Batch: 397, [Discriminator_A :: Loss: 0.2768799738259986], [ Generator :: Loss: [0.763456404209137, 0.0004030089476145804, 0.0, 0.03086458146572113, 0.03532933443784714, 0.04804764315485954, 0.05306658148765564]]\n",
            "Epoch: 2 Batch: 398, [Discriminator_A :: Loss: 0.0007685473829042166], [ Generator :: Loss: [0.9057329297065735, 0.0011166471522301435, 0.0, 0.05094422772526741, 0.028523940593004227, 0.06857635825872421, 0.041358258575201035]]\n",
            "Epoch: 2 Batch: 399, [Discriminator_A :: Loss: 0.44349202181911096], [ Generator :: Loss: [0.7106389999389648, 0.0006812338251620531, 0.0, 0.03156439587473869, 0.030002007260918617, 0.04721475765109062, 0.04707895219326019]]\n",
            "Epoch: 2 Batch: 400, [Discriminator_A :: Loss: 0.005093194515211508], [ Generator :: Loss: [0.8856781721115112, 0.0007162593537941575, 0.0, 0.03330948203802109, 0.04484957829117775, 0.04680761694908142, 0.05656366050243378]]\n",
            "Image_A shape: (64, 64, 3)\n",
            "fake_B shape: (64, 64, 3)\n",
            "reconstructed_A shape: (64, 64, 3)\n"
          ]
        },
        {
          "output_type": "stream",
          "name": "stderr",
          "text": [
            "WARNING:absl:Found untraced functions such as leaky_re_lu_4_layer_call_fn, leaky_re_lu_4_layer_call_and_return_conditional_losses, leaky_re_lu_5_layer_call_fn, leaky_re_lu_5_layer_call_and_return_conditional_losses, leaky_re_lu_6_layer_call_fn while saving (showing 5 of 80). These functions will not be directly callable after loading.\n"
          ]
        },
        {
          "output_type": "stream",
          "name": "stdout",
          "text": [
            "INFO:tensorflow:Assets written to: /content/gdrive/My Drive/Colab Notebooks/cycleGAN/monet2photo_out/gan_model/assets\n"
          ]
        },
        {
          "output_type": "stream",
          "name": "stderr",
          "text": [
            "INFO:tensorflow:Assets written to: /content/gdrive/My Drive/Colab Notebooks/cycleGAN/monet2photo_out/gan_model/assets\n",
            "WARNING:absl:Found untraced functions such as leaky_re_lu_layer_call_fn, leaky_re_lu_layer_call_and_return_conditional_losses, leaky_re_lu_1_layer_call_fn, leaky_re_lu_1_layer_call_and_return_conditional_losses, leaky_re_lu_2_layer_call_fn while saving (showing 5 of 20). These functions will not be directly callable after loading.\n"
          ]
        },
        {
          "output_type": "stream",
          "name": "stdout",
          "text": [
            "INFO:tensorflow:Assets written to: /content/gdrive/My Drive/Colab Notebooks/cycleGAN/monet2photo_out/generator_A_to_B/assets\n"
          ]
        },
        {
          "output_type": "stream",
          "name": "stderr",
          "text": [
            "INFO:tensorflow:Assets written to: /content/gdrive/My Drive/Colab Notebooks/cycleGAN/monet2photo_out/generator_A_to_B/assets\n",
            "WARNING:absl:Found untraced functions such as leaky_re_lu_4_layer_call_fn, leaky_re_lu_4_layer_call_and_return_conditional_losses, leaky_re_lu_5_layer_call_fn, leaky_re_lu_5_layer_call_and_return_conditional_losses, leaky_re_lu_6_layer_call_fn while saving (showing 5 of 20). These functions will not be directly callable after loading.\n"
          ]
        },
        {
          "output_type": "stream",
          "name": "stdout",
          "text": [
            "INFO:tensorflow:Assets written to: /content/gdrive/My Drive/Colab Notebooks/cycleGAN/monet2photo_out/generator_B_to_A/assets\n"
          ]
        },
        {
          "output_type": "stream",
          "name": "stderr",
          "text": [
            "INFO:tensorflow:Assets written to: /content/gdrive/My Drive/Colab Notebooks/cycleGAN/monet2photo_out/generator_B_to_A/assets\n",
            "WARNING:absl:Found untraced functions such as leaky_re_lu_8_layer_call_fn, leaky_re_lu_8_layer_call_and_return_conditional_losses, leaky_re_lu_9_layer_call_fn, leaky_re_lu_9_layer_call_and_return_conditional_losses, leaky_re_lu_10_layer_call_fn while saving (showing 5 of 20). These functions will not be directly callable after loading.\n"
          ]
        },
        {
          "output_type": "stream",
          "name": "stdout",
          "text": [
            "INFO:tensorflow:Assets written to: /content/gdrive/My Drive/Colab Notebooks/cycleGAN/monet2photo_out/discriminator_A/assets\n"
          ]
        },
        {
          "output_type": "stream",
          "name": "stderr",
          "text": [
            "INFO:tensorflow:Assets written to: /content/gdrive/My Drive/Colab Notebooks/cycleGAN/monet2photo_out/discriminator_A/assets\n",
            "WARNING:absl:Found untraced functions such as leaky_re_lu_12_layer_call_fn, leaky_re_lu_12_layer_call_and_return_conditional_losses, leaky_re_lu_13_layer_call_fn, leaky_re_lu_13_layer_call_and_return_conditional_losses, leaky_re_lu_14_layer_call_fn while saving (showing 5 of 20). These functions will not be directly callable after loading.\n"
          ]
        },
        {
          "output_type": "stream",
          "name": "stdout",
          "text": [
            "INFO:tensorflow:Assets written to: /content/gdrive/My Drive/Colab Notebooks/cycleGAN/monet2photo_out/discriminator_B/assets\n"
          ]
        },
        {
          "output_type": "stream",
          "name": "stderr",
          "text": [
            "INFO:tensorflow:Assets written to: /content/gdrive/My Drive/Colab Notebooks/cycleGAN/monet2photo_out/discriminator_B/assets\n"
          ]
        },
        {
          "output_type": "stream",
          "name": "stdout",
          "text": [
            "Epoch: 2 Batch: 401, [Discriminator_A :: Loss: 0.20470766045036726], [ Generator :: Loss: [0.9022973775863647, 0.001639302703551948, 0.0, 0.03997986391186714, 0.040187519043684006, 0.05334538221359253, 0.045638859272003174]]\n",
            "Epoch: 2 Batch: 402, [Discriminator_A :: Loss: 0.453679091646336], [ Generator :: Loss: [0.7846200466156006, 0.02550172246992588, 0.0, 0.030876412987709045, 0.03399591147899628, 0.0522763691842556, 0.05811874940991402]]\n",
            "Epoch: 2 Batch: 403, [Discriminator_A :: Loss: 0.12354368926025927], [ Generator :: Loss: [0.7182039022445679, 0.0008236006833612919, 0.0, 0.02937079221010208, 0.0330553874373436, 0.04810153692960739, 0.04501700773835182]]\n",
            "Epoch: 2 Batch: 404, [Discriminator_A :: Loss: 0.4399805946741253], [ Generator :: Loss: [0.650200366973877, 0.004707243759185076, 0.0, 0.02971896342933178, 0.027810286730527878, 0.03440672159194946, 0.035793885588645935]]\n",
            "Epoch: 2 Batch: 405, [Discriminator_A :: Loss: 0.09085184376453981], [ Generator :: Loss: [2.932389259338379, 0.9067161679267883, 1.0, 0.0396624356508255, 0.04967707023024559, 0.0724254846572876, 0.05985254421830177]]\n",
            "Epoch: 2 Batch: 406, [Discriminator_A :: Loss: 0.28845030977390707], [ Generator :: Loss: [0.6358621120452881, 0.003593451576307416, 0.0, 0.026811633259058, 0.027422169223427773, 0.04845350235700607, 0.04147718846797943]]\n",
            "Epoch: 2 Batch: 407, [Discriminator_A :: Loss: 0.15300155944714788], [ Generator :: Loss: [0.6102771759033203, 0.0007225069566629827, 0.0, 0.027538485825061798, 0.025131143629550934, 0.04489877074956894, 0.03795962780714035]]\n",
            "Epoch: 2 Batch: 408, [Discriminator_A :: Loss: 0.04957142221974209], [ Generator :: Loss: [0.721133828163147, 0.0007132093887776136, 0.0, 0.033860065042972565, 0.027642223984003067, 0.05726194381713867, 0.048135798424482346]]\n",
            "Epoch: 2 Batch: 409, [Discriminator_A :: Loss: 0.24796329601667821], [ Generator :: Loss: [1.0537636280059814, 0.004033096134662628, 0.0, 0.060648735612630844, 0.03422779589891434, 0.04609169438481331, 0.05487360060214996]]\n",
            "Epoch: 2 Batch: 410, [Discriminator_A :: Loss: 0.0035967708099633455], [ Generator :: Loss: [0.8489189147949219, 0.0017800175119191408, 0.0, 0.043088532984256744, 0.029630161821842194, 0.08027637004852295, 0.039675574749708176]]\n",
            "Epoch: 2 Batch: 411, [Discriminator_A :: Loss: 0.004334723693318665], [ Generator :: Loss: [0.940414547920227, 0.008766312152147293, 0.0, 0.043932244181632996, 0.03759869188070297, 0.058560196310281754, 0.057778723537921906]]\n",
            "Epoch: 2 Batch: 412, [Discriminator_A :: Loss: 0.010164700099267066], [ Generator :: Loss: [0.8397477865219116, 0.002707948675379157, 0.0, 0.044728197157382965, 0.02917478419840336, 0.05780620127916336, 0.040203824639320374]]\n",
            "Epoch: 2 Batch: 413, [Discriminator_A :: Loss: 0.3183521625760477], [ Generator :: Loss: [0.676225483417511, 0.00039375340566039085, 0.0, 0.02935233898460865, 0.028597356751561165, 0.04868431016802788, 0.04765043780207634]]\n",
            "Epoch: 2 Batch: 414, [Discriminator_A :: Loss: 0.00018254906171932817], [ Generator :: Loss: [1.3043506145477295, 0.0007217861711978912, 0.0, 0.052827462553977966, 0.06509889662265778, 0.07339434325695038, 0.050970882177352905]]\n",
            "Epoch: 2 Batch: 415, [Discriminator_A :: Loss: 0.17808763455832377], [ Generator :: Loss: [0.7459640502929688, 0.02444346435368061, 0.0, 0.03311823308467865, 0.030237987637519836, 0.049597371369600296, 0.03836098313331604]]\n",
            "Epoch: 2 Batch: 416, [Discriminator_A :: Loss: 0.4450933947227895], [ Generator :: Loss: [0.6540626287460327, 0.012353572994470596, 0.0, 0.026737095788121223, 0.027605967596173286, 0.049152668565511703, 0.04912573844194412]]\n",
            "Epoch: 2 Batch: 417, [Discriminator_A :: Loss: 0.0032527963048778474], [ Generator :: Loss: [0.8054249286651611, 0.0015724741388112307, 0.0, 0.03795100003480911, 0.03169044852256775, 0.06006890907883644, 0.04736907035112381]]\n",
            "Epoch: 2 Batch: 418, [Discriminator_A :: Loss: 0.007340348747675307], [ Generator :: Loss: [0.9562543630599976, 0.000661515339743346, 0.0, 0.047465600073337555, 0.03579558804631233, 0.07200823724269867, 0.050972722470760345]]\n",
            "Epoch: 2 Batch: 419, [Discriminator_A :: Loss: 0.0018264467071276158], [ Generator :: Loss: [0.730923056602478, 0.0026156543754041195, 0.0, 0.036356884986162186, 0.02625403180718422, 0.05449505150318146, 0.04770314693450928]]\n",
            "Epoch: 2 Batch: 420, [Discriminator_A :: Loss: 0.0014780971396248788], [ Generator :: Loss: [1.0896204710006714, 0.0015000563580542803, 0.0, 0.04907925799489021, 0.046634022146463394, 0.07488366216421127, 0.05610392615199089]]\n",
            "Epoch: 2 Batch: 421, [Discriminator_A :: Loss: 0.31403491203673184], [ Generator :: Loss: [0.7029582262039185, 0.0013196339132264256, 0.0, 0.032867997884750366, 0.026747269555926323, 0.05460946261882782, 0.05087649077177048]]\n",
            "Epoch: 2 Batch: 422, [Discriminator_A :: Loss: 0.0009068179278983735], [ Generator :: Loss: [1.1219112873077393, 0.0033943415619432926, 0.0, 0.06546291708946228, 0.03220178186893463, 0.0933770164847374, 0.04849300533533096]]\n",
            "Epoch: 2 Batch: 423, [Discriminator_A :: Loss: 0.08174229692667723], [ Generator :: Loss: [0.7285672426223755, 0.01160071324557066, 0.0, 0.0353207066655159, 0.026607220992445946, 0.04963645339012146, 0.04805077984929085]]\n",
            "Epoch: 2 Batch: 424, [Discriminator_A :: Loss: 0.01167457236442715], [ Generator :: Loss: [0.8166149854660034, 0.003102085320279002, 0.0, 0.042809125036001205, 0.028498558327555656, 0.05442414432764053, 0.046011947095394135]]\n",
            "Epoch: 2 Batch: 425, [Discriminator_A :: Loss: 0.005920728435739875], [ Generator :: Loss: [0.6685003042221069, 0.007364093791693449, 0.0, 0.025934211909770966, 0.031094156205654144, 0.05186167359352112, 0.0389908105134964]]\n",
            "Epoch: 2 Batch: 426, [Discriminator_A :: Loss: 0.43260715901851654], [ Generator :: Loss: [1.5622844696044922, 0.7353066802024841, 0.0, 0.024889376014471054, 0.04537266492843628, 0.04908663406968117, 0.07527084648609161]]\n",
            "Epoch: 2 Batch: 427, [Discriminator_A :: Loss: 0.4273828401346691], [ Generator :: Loss: [2.621239423751831, 0.9563044309616089, 1.0, 0.02473394386470318, 0.0321192666888237, 0.04447829723358154, 0.051924511790275574]]\n",
            "Epoch: 2 Batch: 428, [Discriminator_A :: Loss: 0.23698046451318078], [ Generator :: Loss: [0.7350471019744873, 0.00017895079508889467, 0.0, 0.0353766605257988, 0.02919263020157814, 0.05295339226722717, 0.03622186556458473]]\n",
            "Epoch: 2 Batch: 429, [Discriminator_A :: Loss: 0.4774655280634761], [ Generator :: Loss: [0.6845974922180176, 0.005971523467451334, 0.0, 0.028253667056560516, 0.03158053755760193, 0.03849214315414429, 0.04179180786013603]]\n",
            "Epoch: 2 Batch: 430, [Discriminator_A :: Loss: 0.48415249201934785], [ Generator :: Loss: [0.8210917115211487, 0.0027790097519755363, 0.0, 0.03518174961209297, 0.03532594069838524, 0.06393344700336456, 0.0493023507297039]]\n",
            "Epoch: 2 Batch: 431, [Discriminator_A :: Loss: 0.47309781331568956], [ Generator :: Loss: [0.9103041291236877, 0.0018268950516358018, 0.0, 0.04003139212727547, 0.04060554876923561, 0.047244843095541, 0.054863013327121735]]\n",
            "Epoch: 2 Batch: 432, [Discriminator_A :: Loss: 0.13849385755020194], [ Generator :: Loss: [0.7397555112838745, 0.0010951292933896184, 0.0, 0.03177882358431816, 0.0332404226064682, 0.03968426212668419, 0.04878365248441696]]\n",
            "Epoch: 2 Batch: 433, [Discriminator_A :: Loss: 0.005839035933604464], [ Generator :: Loss: [0.9220013618469238, 0.0005628319340758026, 0.0, 0.04590532183647156, 0.03498806431889534, 0.06499800086021423, 0.04750663787126541]]\n",
            "Epoch: 2 Batch: 434, [Discriminator_A :: Loss: 0.39050216833129525], [ Generator :: Loss: [0.6556563377380371, 0.004966655746102333, 0.0, 0.037038035690784454, 0.020664935931563377, 0.035059764981269836, 0.03860025852918625]]\n",
            "Epoch: 2 Batch: 435, [Discriminator_A :: Loss: 0.17763362522237003], [ Generator :: Loss: [0.758705735206604, 0.0056930179707705975, 0.0, 0.035969436168670654, 0.028968550264835358, 0.05833353102207184, 0.04529930651187897]]\n",
            "Epoch: 2 Batch: 436, [Discriminator_A :: Loss: 0.21329405019059777], [ Generator :: Loss: [0.7849348783493042, 0.0003947546356357634, 0.0, 0.034434959292411804, 0.03418395668268204, 0.04685243219137192, 0.05149853602051735]]\n",
            "Epoch: 2 Batch: 437, [Discriminator_A :: Loss: 0.4723572760121897], [ Generator :: Loss: [2.6035962104797363, 0.8612458109855652, 1.0, 0.019520152360200882, 0.04746044799685478, 0.02940402366220951, 0.04314025491476059]]\n",
            "Epoch: 2 Batch: 438, [Discriminator_A :: Loss: 0.3573574002512032], [ Generator :: Loss: [0.9394127130508423, 0.0009168816613964736, 0.0, 0.04368782415986061, 0.038689952343702316, 0.05833766981959343, 0.05638040602207184]]\n",
            "Epoch: 2 Batch: 439, [Discriminator_A :: Loss: 0.005232110299402848], [ Generator :: Loss: [0.7461300492286682, 0.0043448880314826965, 0.0, 0.030857587233185768, 0.03202997148036957, 0.05617294833064079, 0.05673661828041077]]\n",
            "Epoch: 2 Batch: 440, [Discriminator_A :: Loss: 0.23509096034104005], [ Generator :: Loss: [0.9426319003105164, 0.0018573427805677056, 0.0, 0.049112990498542786, 0.03452039137482643, 0.05237250030040741, 0.052068255841732025]]\n",
            "Epoch: 2 Batch: 441, [Discriminator_A :: Loss: 0.3124542500154348], [ Generator :: Loss: [0.6651961803436279, 0.0003207362024113536, 0.0, 0.02113700658082962, 0.03714665770530701, 0.03568938747048378, 0.04634943604469299]]\n",
            "Epoch: 2 Batch: 442, [Discriminator_A :: Loss: 0.4617200898064766], [ Generator :: Loss: [1.171159267425537, 0.0011270244140177965, 0.0, 0.05166072025895119, 0.050429817289114, 0.08821386098861694, 0.06091293320059776]]\n",
            "Epoch: 2 Batch: 443, [Discriminator_A :: Loss: 0.19799441006034613], [ Generator :: Loss: [2.6979587078094482, 0.9312203526496887, 1.0, 0.034615784883499146, 0.03357982262969017, 0.050657968968153, 0.03412444144487381]]\n",
            "Epoch: 2 Batch: 444, [Discriminator_A :: Loss: 0.03162495791912079], [ Generator :: Loss: [2.61431884765625, 0.8793550133705139, 1.0, 0.028608854860067368, 0.03443827107548714, 0.05357430875301361, 0.05091823264956474]]\n",
            "Epoch: 2 Batch: 445, [Discriminator_A :: Loss: 0.00034332694485783577], [ Generator :: Loss: [0.9888041019439697, 0.0004943835665471852, 0.0, 0.04990869760513306, 0.034836169332265854, 0.09129926562309265, 0.049561772495508194]]\n",
            "Epoch: 2 Batch: 446, [Discriminator_A :: Loss: 0.0021665500244125724], [ Generator :: Loss: [1.0090346336364746, 0.0009889320936053991, 0.0, 0.05382232367992401, 0.03300803154706955, 0.09358245134353638, 0.04615965113043785]]\n",
            "Epoch: 2 Batch: 447, [Discriminator_A :: Loss: 0.4153205528855324], [ Generator :: Loss: [1.0037291049957275, 0.0012840167619287968, 0.0, 0.03925921767950058, 0.04615861922502518, 0.08736951649188995, 0.06089724227786064]]\n",
            "Epoch: 2 Batch: 448, [Discriminator_A :: Loss: 0.014304528012871742], [ Generator :: Loss: [0.7097076177597046, 0.003748368937522173, 0.0, 0.034041326493024826, 0.0271286740899086, 0.05476263910531998, 0.03949664905667305]]\n",
            "Epoch: 2 Batch: 449, [Discriminator_A :: Loss: 0.45040802615403663], [ Generator :: Loss: [0.7720726728439331, 0.0003378041728865355, 0.0, 0.030884472653269768, 0.035185061395168304, 0.05509572476148605, 0.055943820625543594]]\n",
            "Epoch: 2 Batch: 450, [Discriminator_A :: Loss: 0.32600339874625206], [ Generator :: Loss: [0.8077988624572754, 0.0007543352548964322, 0.0, 0.038781292736530304, 0.031065188348293304, 0.06221863627433777, 0.046361103653907776]]\n",
            "Epoch: 2 Batch: 451, [Discriminator_A :: Loss: 0.30817768309498206], [ Generator :: Loss: [0.6351820826530457, 0.0016144058899953961, 0.0, 0.02740997076034546, 0.028399381786584854, 0.041950773447752, 0.03352341800928116]]\n",
            "Epoch: 2 Batch: 452, [Discriminator_A :: Loss: 0.0742284907028079], [ Generator :: Loss: [1.087883472442627, 0.0026054095942527056, 0.0, 0.06414798647165298, 0.031422726809978485, 0.08187749981880188, 0.047693364322185516]]\n",
            "Epoch: 2 Batch: 453, [Discriminator_A :: Loss: 0.09441607334883884], [ Generator :: Loss: [0.8361088037490845, 0.00439631100744009, 0.0, 0.03385074809193611, 0.038677193224430084, 0.05498532950878143, 0.05144774913787842]]\n",
            "Epoch: 2 Batch: 454, [Discriminator_A :: Loss: 0.04525079421000555], [ Generator :: Loss: [0.6368834972381592, 0.0005443210247904062, 0.0, 0.02557259239256382, 0.028751524165272713, 0.04622145742177963, 0.046876534819602966]]\n",
            "Epoch: 2 Batch: 455, [Discriminator_A :: Loss: 0.0026139838291783235], [ Generator :: Loss: [0.9191182255744934, 0.0007643181015737355, 0.0, 0.04148007184267044, 0.038916438817977905, 0.053966183215379715, 0.060422640293836594]]\n",
            "Epoch: 2 Batch: 456, [Discriminator_A :: Loss: 0.4145389322657138], [ Generator :: Loss: [1.6173714399337769, 0.656771183013916, 0.0, 0.04429493099451065, 0.03741779550909996, 0.08444362133741379, 0.059029415249824524]]\n",
            "Epoch: 2 Batch: 457, [Discriminator_A :: Loss: 0.0006119041354395449], [ Generator :: Loss: [0.9529058337211609, 0.0007807920919731259, 0.0, 0.045578017830848694, 0.035303547978401184, 0.09137552231550217, 0.05193386971950531]]\n",
            "Epoch: 2 Batch: 458, [Discriminator_A :: Loss: 0.26745778365875594], [ Generator :: Loss: [0.7441402673721313, 0.005488427821546793, 0.0, 0.028537515550851822, 0.03528052940964699, 0.048658136278390884, 0.05181329324841499]]\n",
            "Epoch: 2 Batch: 459, [Discriminator_A :: Loss: 0.40734543185681105], [ Generator :: Loss: [0.6769915223121643, 0.0002778090420179069, 0.0, 0.03331445902585983, 0.025682324543595314, 0.04542664811015129, 0.04131920635700226]]\n",
            "Epoch: 2 Batch: 460, [Discriminator_A :: Loss: 0.06014915299601853], [ Generator :: Loss: [0.812578022480011, 0.002541045192629099, 0.0, 0.03311587870121002, 0.036665551364421844, 0.05331205204129219, 0.058910612016916275]]\n",
            "Epoch: 2 Batch: 461, [Discriminator_A :: Loss: 0.43279500160133466], [ Generator :: Loss: [0.7495784759521484, 0.0008771779830567539, 0.0, 0.027744781225919724, 0.03709917888045311, 0.04745582491159439, 0.052805863320827484]]\n",
            "Epoch: 2 Batch: 462, [Discriminator_A :: Loss: 0.04481623414903879], [ Generator :: Loss: [0.7058987021446228, 0.0035144833382219076, 0.0, 0.030045796185731888, 0.03053887002170086, 0.04703524708747864, 0.04950232431292534]]\n",
            "Epoch: 2 Batch: 463, [Discriminator_A :: Loss: 0.3962563256645808], [ Generator :: Loss: [0.6187272071838379, 0.0003130500845145434, 0.0, 0.025292206555604935, 0.028203867375850677, 0.042265959084033966, 0.04118743911385536]]\n",
            "Epoch: 2 Batch: 464, [Discriminator_A :: Loss: 0.38471880733413855], [ Generator :: Loss: [0.7075366973876953, 0.0007303562015295029, 0.0, 0.030254574492573738, 0.029933389276266098, 0.05680002644658089, 0.04812666028738022]]\n",
            "Epoch: 2 Batch: 465, [Discriminator_A :: Loss: 0.3300440741586499], [ Generator :: Loss: [0.6789624691009521, 0.0007640940020792186, 0.0, 0.027314316481351852, 0.030226804316043854, 0.053585417568683624, 0.04920171946287155]]\n",
            "Epoch: 2 Batch: 466, [Discriminator_A :: Loss: 0.000453224012744613], [ Generator :: Loss: [0.9231376647949219, 0.00035663708695210516, 0.0, 0.05648956820368767, 0.0238228440284729, 0.07834596931934357, 0.04131089150905609]]\n",
            "Epoch: 2 Batch: 467, [Discriminator_A :: Loss: 0.01754872128367424], [ Generator :: Loss: [0.741104006767273, 0.0012993075652047992, 0.0, 0.035993315279483795, 0.0284939706325531, 0.05204559490084648, 0.04288620874285698]]\n",
            "Epoch: 2 Batch: 468, [Discriminator_A :: Loss: 0.09561555841355585], [ Generator :: Loss: [2.72338604927063, 0.9330567717552185, 1.0, 0.036662548780441284, 0.03104146011173725, 0.0627765953540802, 0.05051261931657791]]\n",
            "Epoch: 2 Batch: 469, [Discriminator_A :: Loss: 0.44529598648659885], [ Generator :: Loss: [0.5805953145027161, 0.0016312666703015566, 0.0, 0.020901771262288094, 0.03058139979839325, 0.03798246756196022, 0.026149876415729523]]\n",
            "Epoch: 2 Batch: 470, [Discriminator_A :: Loss: 0.480685510134208], [ Generator :: Loss: [1.2279853820800781, 0.0010158417280763388, 0.0, 0.06376197934150696, 0.0437774583697319, 0.08769652992486954, 0.06387856602668762]]\n",
            "Epoch: 2 Batch: 471, [Discriminator_A :: Loss: 0.4280906071071513], [ Generator :: Loss: [0.6838659644126892, 0.0002766776306089014, 0.0, 0.027261434122920036, 0.033018846064805984, 0.02845682017505169, 0.05232968181371689]]\n",
            "Epoch: 2 Batch: 472, [Discriminator_A :: Loss: 0.4389808830455877], [ Generator :: Loss: [2.87434720993042, 0.9432926177978516, 1.0, 0.04602775350213051, 0.03790225833654404, 0.04635604843497276, 0.04539840668439865]]\n",
            "Epoch: 2 Batch: 473, [Discriminator_A :: Loss: 0.09530453098705038], [ Generator :: Loss: [0.9863104224205017, 0.02375279925763607, 0.0, 0.03722372651100159, 0.046882808208465576, 0.05764450132846832, 0.06384776532649994]]\n",
            "Epoch: 2 Batch: 474, [Discriminator_A :: Loss: 0.4604371919413097], [ Generator :: Loss: [0.8745065331459045, 0.012616519816219807, 0.0, 0.03404497355222702, 0.04265657812356949, 0.03819754347205162, 0.056676968932151794]]\n",
            "Epoch: 2 Batch: 475, [Discriminator_A :: Loss: 0.31082169071305543], [ Generator :: Loss: [0.6666167378425598, 0.00212091114372015, 0.0, 0.02600991725921631, 0.03135612607002258, 0.047568175941705704, 0.04326722025871277]]\n",
            "Epoch: 2 Batch: 476, [Discriminator_A :: Loss: 0.21447473694570363], [ Generator :: Loss: [0.766210675239563, 0.0003715903440024704, 0.0, 0.03244663029909134, 0.034801483154296875, 0.045223914086818695, 0.04813406616449356]]\n",
            "Epoch: 2 Batch: 477, [Discriminator_A :: Loss: 0.3768929139478132], [ Generator :: Loss: [0.6227746605873108, 0.000339649326633662, 0.0, 0.02829606831073761, 0.025931335985660553, 0.04004530981183052, 0.040115661919116974]]\n",
            "Epoch: 2 Batch: 478, [Discriminator_A :: Loss: 0.010743346036178991], [ Generator :: Loss: [1.073062539100647, 0.006181791424751282, 0.0, 0.04877902567386627, 0.04642956703901291, 0.06293011456727982, 0.051864661276340485]]\n",
            "Epoch: 2 Batch: 479, [Discriminator_A :: Loss: 0.15127977658994496], [ Generator :: Loss: [0.7873980402946472, 0.002493317937478423, 0.0, 0.03648409992456436, 0.03149303421378136, 0.06583656370639801, 0.03929683193564415]]\n",
            "Epoch: 2 Batch: 480, [Discriminator_A :: Loss: 0.21606021001935005], [ Generator :: Loss: [0.9517975449562073, 0.014499506913125515, 0.0, 0.059978511184453964, 0.023340675979852676, 0.06800568103790283, 0.03610050678253174]]\n",
            "Epoch: 2 Batch: 481, [Discriminator_A :: Loss: 0.11937031545676291], [ Generator :: Loss: [0.8113956451416016, 0.01641438528895378, 0.0, 0.03311901167035103, 0.03605153411626816, 0.049818918108940125, 0.0534568689763546]]\n",
            "Epoch: 2 Batch: 482, [Discriminator_A :: Loss: 0.1779145729378797], [ Generator :: Loss: [0.6160813570022583, 0.0018395889783278108, 0.0, 0.025053292512893677, 0.02788393199443817, 0.048450276255607605, 0.036419279873371124]]\n",
            "Epoch: 2 Batch: 483, [Discriminator_A :: Loss: 0.022446513641625643], [ Generator :: Loss: [0.8776185512542725, 0.001706792856566608, 0.0, 0.04052383452653885, 0.035382967442274094, 0.06997978687286377, 0.046863965690135956]]\n",
            "Epoch: 2 Batch: 484, [Discriminator_A :: Loss: 0.035968685522675514], [ Generator :: Loss: [0.6043973565101624, 0.0008144507883116603, 0.0, 0.024280108511447906, 0.027011513710021973, 0.0466003492474556, 0.04406632483005524]]\n",
            "Epoch: 2 Batch: 485, [Discriminator_A :: Loss: 0.41354108101222664], [ Generator :: Loss: [0.6341862082481384, 0.002806419972330332, 0.0, 0.02065148763358593, 0.033377375453710556, 0.03880053386092186, 0.05229061469435692]]\n",
            "Epoch: 2 Batch: 486, [Discriminator_A :: Loss: 0.4154601546470076], [ Generator :: Loss: [0.8379846811294556, 0.0002892763295676559, 0.0, 0.037235524505376816, 0.036053597927093506, 0.046691346913576126, 0.05811278149485588]]\n",
            "Epoch: 2 Batch: 487, [Discriminator_A :: Loss: 0.016372600410250016], [ Generator :: Loss: [0.790168285369873, 0.0002425023849355057, 0.0, 0.031189465895295143, 0.03849252313375473, 0.05452071130275726, 0.03858515992760658]]\n",
            "Epoch: 2 Batch: 488, [Discriminator_A :: Loss: 0.3507290221750736], [ Generator :: Loss: [2.766388177871704, 0.8950133919715881, 1.0, 0.03452260419726372, 0.04299867898225784, 0.043144676834344864, 0.05301731824874878]]\n",
            "Epoch: 2 Batch: 489, [Discriminator_A :: Loss: 0.003549299668520689], [ Generator :: Loss: [0.947750449180603, 0.0020570834167301655, 0.0, 0.03767545521259308, 0.043818503618240356, 0.06888053566217422, 0.06187325343489647]]\n",
            "Epoch: 2 Batch: 490, [Discriminator_A :: Loss: 0.4065883268485777], [ Generator :: Loss: [0.630719780921936, 0.0031729978509247303, 0.0, 0.02071750909090042, 0.03315403312444687, 0.035078730434179306, 0.05375262349843979]]\n",
            "Epoch: 2 Batch: 491, [Discriminator_A :: Loss: 0.46817689132876694], [ Generator :: Loss: [0.6863510608673096, 0.0005534227821044624, 0.0, 0.030195452272892, 0.03004607744514942, 0.04334847629070282, 0.04003383591771126]]\n",
            "Epoch: 2 Batch: 492, [Discriminator_A :: Loss: 0.0004972081405867357], [ Generator :: Loss: [1.0701613426208496, 0.006011080462485552, 0.0, 0.05180566385388374, 0.039281707257032394, 0.08524362742900848, 0.06803292036056519]]\n",
            "Epoch: 2 Batch: 493, [Discriminator_A :: Loss: 0.3794290879741311], [ Generator :: Loss: [0.7283033132553101, 0.032556984573602676, 0.0, 0.03173840790987015, 0.028616758063435555, 0.04982704296708107, 0.0423675961792469]]\n",
            "Epoch: 2 Batch: 494, [Discriminator_A :: Loss: 0.12491530313855037], [ Generator :: Loss: [0.6645848751068115, 0.0013401748146861792, 0.0, 0.026780106127262115, 0.028376873582601547, 0.056685008108615875, 0.05498992279171944]]\n",
            "Epoch: 2 Batch: 495, [Discriminator_A :: Loss: 0.32941798033425584], [ Generator :: Loss: [0.7774341106414795, 0.0030216644518077374, 0.0, 0.03713378310203552, 0.03127054497599602, 0.04928478226065636, 0.04108438268303871]]\n",
            "Epoch: 2 Batch: 496, [Discriminator_A :: Loss: 0.16930311918258667], [ Generator :: Loss: [0.988313615322113, 0.05591816455125809, 0.0, 0.037577830255031586, 0.04361420124769211, 0.06765443086624146, 0.05282067507505417]]\n",
            "Epoch: 2 Batch: 497, [Discriminator_A :: Loss: 0.09144886117428541], [ Generator :: Loss: [1.005323052406311, 0.0007766936905682087, 0.0, 0.05433400720357895, 0.03275814279913902, 0.08652976155281067, 0.04709508270025253]]\n",
            "Epoch: 2 Batch: 498, [Discriminator_A :: Loss: 0.42102487734518945], [ Generator :: Loss: [0.7354761958122253, 0.0009672677842900157, 0.0, 0.03474991396069527, 0.029792124405503273, 0.039224833250045776, 0.04986372962594032]]\n",
            "Epoch: 2 Batch: 499, [Discriminator_A :: Loss: 0.023800819952157326], [ Generator :: Loss: [0.9120920896530151, 0.0001450998825021088, 0.0, 0.04647424817085266, 0.03313882648944855, 0.06330578029155731, 0.052510492503643036]]\n",
            "Epoch: 2 Batch: 500, [Discriminator_A :: Loss: 0.05610892362892628], [ Generator :: Loss: [0.9687709808349609, 0.018676096573472023, 0.0, 0.03861103951931, 0.043497711420059204, 0.07030756771564484, 0.05869979411363602]]\n",
            "Image_A shape: (64, 64, 3)\n",
            "fake_B shape: (64, 64, 3)\n",
            "reconstructed_A shape: (64, 64, 3)\n"
          ]
        },
        {
          "output_type": "stream",
          "name": "stderr",
          "text": [
            "WARNING:absl:Found untraced functions such as leaky_re_lu_4_layer_call_fn, leaky_re_lu_4_layer_call_and_return_conditional_losses, leaky_re_lu_5_layer_call_fn, leaky_re_lu_5_layer_call_and_return_conditional_losses, leaky_re_lu_6_layer_call_fn while saving (showing 5 of 80). These functions will not be directly callable after loading.\n"
          ]
        },
        {
          "output_type": "stream",
          "name": "stdout",
          "text": [
            "INFO:tensorflow:Assets written to: /content/gdrive/My Drive/Colab Notebooks/cycleGAN/monet2photo_out/gan_model/assets\n"
          ]
        },
        {
          "output_type": "stream",
          "name": "stderr",
          "text": [
            "INFO:tensorflow:Assets written to: /content/gdrive/My Drive/Colab Notebooks/cycleGAN/monet2photo_out/gan_model/assets\n",
            "WARNING:absl:Found untraced functions such as leaky_re_lu_layer_call_fn, leaky_re_lu_layer_call_and_return_conditional_losses, leaky_re_lu_1_layer_call_fn, leaky_re_lu_1_layer_call_and_return_conditional_losses, leaky_re_lu_2_layer_call_fn while saving (showing 5 of 20). These functions will not be directly callable after loading.\n"
          ]
        },
        {
          "output_type": "stream",
          "name": "stdout",
          "text": [
            "INFO:tensorflow:Assets written to: /content/gdrive/My Drive/Colab Notebooks/cycleGAN/monet2photo_out/generator_A_to_B/assets\n"
          ]
        },
        {
          "output_type": "stream",
          "name": "stderr",
          "text": [
            "INFO:tensorflow:Assets written to: /content/gdrive/My Drive/Colab Notebooks/cycleGAN/monet2photo_out/generator_A_to_B/assets\n",
            "WARNING:absl:Found untraced functions such as leaky_re_lu_4_layer_call_fn, leaky_re_lu_4_layer_call_and_return_conditional_losses, leaky_re_lu_5_layer_call_fn, leaky_re_lu_5_layer_call_and_return_conditional_losses, leaky_re_lu_6_layer_call_fn while saving (showing 5 of 20). These functions will not be directly callable after loading.\n"
          ]
        },
        {
          "output_type": "stream",
          "name": "stdout",
          "text": [
            "INFO:tensorflow:Assets written to: /content/gdrive/My Drive/Colab Notebooks/cycleGAN/monet2photo_out/generator_B_to_A/assets\n"
          ]
        },
        {
          "output_type": "stream",
          "name": "stderr",
          "text": [
            "INFO:tensorflow:Assets written to: /content/gdrive/My Drive/Colab Notebooks/cycleGAN/monet2photo_out/generator_B_to_A/assets\n",
            "WARNING:absl:Found untraced functions such as leaky_re_lu_8_layer_call_fn, leaky_re_lu_8_layer_call_and_return_conditional_losses, leaky_re_lu_9_layer_call_fn, leaky_re_lu_9_layer_call_and_return_conditional_losses, leaky_re_lu_10_layer_call_fn while saving (showing 5 of 20). These functions will not be directly callable after loading.\n"
          ]
        },
        {
          "output_type": "stream",
          "name": "stdout",
          "text": [
            "INFO:tensorflow:Assets written to: /content/gdrive/My Drive/Colab Notebooks/cycleGAN/monet2photo_out/discriminator_A/assets\n"
          ]
        },
        {
          "output_type": "stream",
          "name": "stderr",
          "text": [
            "INFO:tensorflow:Assets written to: /content/gdrive/My Drive/Colab Notebooks/cycleGAN/monet2photo_out/discriminator_A/assets\n",
            "WARNING:absl:Found untraced functions such as leaky_re_lu_12_layer_call_fn, leaky_re_lu_12_layer_call_and_return_conditional_losses, leaky_re_lu_13_layer_call_fn, leaky_re_lu_13_layer_call_and_return_conditional_losses, leaky_re_lu_14_layer_call_fn while saving (showing 5 of 20). These functions will not be directly callable after loading.\n"
          ]
        },
        {
          "output_type": "stream",
          "name": "stdout",
          "text": [
            "INFO:tensorflow:Assets written to: /content/gdrive/My Drive/Colab Notebooks/cycleGAN/monet2photo_out/discriminator_B/assets\n"
          ]
        },
        {
          "output_type": "stream",
          "name": "stderr",
          "text": [
            "INFO:tensorflow:Assets written to: /content/gdrive/My Drive/Colab Notebooks/cycleGAN/monet2photo_out/discriminator_B/assets\n"
          ]
        },
        {
          "output_type": "stream",
          "name": "stdout",
          "text": [
            "Epoch: 2 Batch: 501, [Discriminator_A :: Loss: 0.08618234726600349], [ Generator :: Loss: [0.7915129065513611, 0.0020406097173690796, 0.0, 0.03703147917985916, 0.031533919274806976, 0.05445541813969612, 0.049362875521183014]]\n",
            "Epoch: 2 Batch: 502, [Discriminator_A :: Loss: 0.010445314459502697], [ Generator :: Loss: [1.032920479774475, 0.0016321911243721843, 0.0, 0.04024844989180565, 0.049591872841119766, 0.08286384493112564, 0.050021156668663025]]\n",
            "Epoch: 2 Batch: 503, [Discriminator_A :: Loss: 0.12233020402345574], [ Generator :: Loss: [2.8070921897888184, 0.9582189917564392, 1.0, 0.03432123735547066, 0.03948938846588135, 0.0518869087100029, 0.05888006463646889]]\n",
            "Epoch: 2 Batch: 504, [Discriminator_A :: Loss: 0.0001913590676849708], [ Generator :: Loss: [1.0800431966781616, 0.00040038078441284597, 0.0, 0.054910577833652496, 0.03552551567554474, 0.11452438682317734, 0.060757532715797424]]\n",
            "Epoch: 2 Batch: 505, [Discriminator_A :: Loss: 0.0015582264750264585], [ Generator :: Loss: [0.8037101030349731, 0.001900307135656476, 0.0, 0.04162253439426422, 0.027546199038624763, 0.06462076306343079, 0.04550168663263321]]\n",
            "Epoch: 2 Batch: 506, [Discriminator_A :: Loss: 0.006857906715595163], [ Generator :: Loss: [0.8239703178405762, 0.00046334468061104417, 0.0, 0.04058585688471794, 0.029947496950626373, 0.06782707571983337, 0.05034640431404114]]\n",
            "Epoch: 2 Batch: 507, [Discriminator_A :: Loss: 0.03045493301760871], [ Generator :: Loss: [0.6588561534881592, 0.0004629572795238346, 0.0, 0.02564246393740177, 0.030584154650568962, 0.04756319895386696, 0.04856381192803383]]\n",
            "Epoch: 2 Batch: 508, [Discriminator_A :: Loss: 0.3656084501417354], [ Generator :: Loss: [0.45437484979629517, 0.001966676441952586, 0.0, 0.018481353297829628, 0.021045535802841187, 0.03085237741470337, 0.02628689631819725]]\n",
            "Epoch: 2 Batch: 509, [Discriminator_A :: Loss: 0.38654358487110585], [ Generator :: Loss: [0.6479775309562683, 0.001933155464939773, 0.0, 0.026285983622074127, 0.02982063964009285, 0.04294871911406517, 0.04202943295240402]]\n",
            "Epoch: 2 Batch: 510, [Discriminator_A :: Loss: 0.2881225610617548], [ Generator :: Loss: [0.878296971321106, 0.01923992484807968, 0.0, 0.03558146581053734, 0.03924485296010971, 0.04318768531084061, 0.06760619580745697]]\n",
            "Epoch: 2 Batch: 511, [Discriminator_A :: Loss: 0.001542555561172776], [ Generator :: Loss: [0.8707212209701538, 0.00017404138634447008, 0.0, 0.04401005059480667, 0.03240812197327614, 0.06313306093215942, 0.04323241859674454]]\n",
            "Epoch: 2 Batch: 512, [Discriminator_A :: Loss: 0.009490909986197948], [ Generator :: Loss: [1.0519487857818604, 0.00938042625784874, 0.0, 0.05264298990368843, 0.03803311288356781, 0.0759635716676712, 0.059843823313713074]]\n",
            "Epoch: 2 Batch: 513, [Discriminator_A :: Loss: 8.046406583162025e-05], [ Generator :: Loss: [0.713595986366272, 0.00010960161307593808, 0.0, 0.032455213367938995, 0.027098868042230606, 0.07053530961275101, 0.04741024971008301]]\n",
            "Epoch: 2 Batch: 514, [Discriminator_A :: Loss: 0.4626709525473416], [ Generator :: Loss: [2.5238943099975586, 0.8596754670143127, 1.0, 0.018365858122706413, 0.037890348583459854, 0.04534544423222542, 0.056311383843421936]]\n",
            "Epoch: 2 Batch: 515, [Discriminator_A :: Loss: 0.3929520642850548], [ Generator :: Loss: [0.7532575130462646, 0.0021550690289586782, 0.0, 0.03280887007713318, 0.03239050135016441, 0.052031297236680984, 0.047077443450689316]]\n",
            "Epoch: 2 Batch: 516, [Discriminator_A :: Loss: 0.1797297776211053], [ Generator :: Loss: [0.7270270586013794, 0.023809917271137238, 0.0, 0.025127917528152466, 0.034836381673812866, 0.045032329857349396, 0.05854181945323944]]\n",
            "Epoch: 2 Batch: 517, [Discriminator_A :: Loss: 0.20225029438734055], [ Generator :: Loss: [0.9045740962028503, 0.1406654566526413, 0.0, 0.034664057195186615, 0.03199199587106705, 0.061129722744226456, 0.03621837869286537]]\n",
            "Epoch: 2 Batch: 518, [Discriminator_A :: Loss: 0.33675676584243774], [ Generator :: Loss: [0.8208316564559937, 0.01678180694580078, 0.0, 0.041454773396253586, 0.0272640623152256, 0.06996859610080719, 0.04689288139343262]]\n",
            "Epoch: 2 Batch: 519, [Discriminator_A :: Loss: 0.19618175558571238], [ Generator :: Loss: [0.8581854104995728, 0.000401438184781, 0.0, 0.041623860597610474, 0.03147938475012779, 0.0696006640791893, 0.057150810956954956]]\n",
            "Epoch: 2 Batch: 520, [Discriminator_A :: Loss: 0.13659423784702085], [ Generator :: Loss: [2.3404903411865234, 0.3995607793331146, 1.0, 0.047178640961647034, 0.03435182943940163, 0.07855037599802017, 0.04707454890012741]]\n",
            "Epoch: 2 Batch: 521, [Discriminator_A :: Loss: 0.4246504814364016], [ Generator :: Loss: [0.7473000288009644, 0.0019322383450344205, 0.0, 0.0326661579310894, 0.03224016726016998, 0.05765945091843605, 0.03864505887031555]]\n",
            "Epoch: 2 Batch: 522, [Discriminator_A :: Loss: 0.18611796386539936], [ Generator :: Loss: [1.0764216184616089, 0.11189871281385422, 0.0, 0.04763080179691315, 0.03853585571050644, 0.055693138390779495, 0.0471632219851017]]\n",
            "Epoch: 2 Batch: 523, [Discriminator_A :: Loss: 0.001113088583224453], [ Generator :: Loss: [0.9727178812026978, 0.0009458690183237195, 0.0, 0.04151302948594093, 0.04290339723229408, 0.07322143763303757, 0.05438632890582085]]\n",
            "Epoch: 2 Batch: 524, [Discriminator_A :: Loss: 0.4389814472524449], [ Generator :: Loss: [0.8790929317474365, 0.0018155655125156045, 0.0, 0.04147380590438843, 0.03637119010090828, 0.06887733191251755, 0.029950067400932312]]\n",
            "Epoch: 2 Batch: 525, [Discriminator_A :: Loss: 0.05601847358047962], [ Generator :: Loss: [2.819622278213501, 0.9273000359535217, 1.0, 0.04150378704071045, 0.03549584746360779, 0.07294488698244095, 0.04938112571835518]]\n",
            "Epoch: 2 Batch: 526, [Discriminator_A :: Loss: 0.2286328817717731], [ Generator :: Loss: [0.817742109298706, 0.05198516324162483, 0.0, 0.03437884896993637, 0.0313107892870903, 0.05677228793501854, 0.05208825692534447]]\n",
            "Epoch: 2 Batch: 527, [Discriminator_A :: Loss: 0.6895833909511566], [ Generator :: Loss: [1.0135499238967896, 0.2808816432952881, 0.0, 0.027787670493125916, 0.03682394325733185, 0.05139289051294327, 0.03515920788049698]]\n",
            "Epoch: 2 Batch: 528, [Discriminator_A :: Loss: 0.03632058820221573], [ Generator :: Loss: [0.730581521987915, 0.00014777726028114557, 0.0, 0.03076767921447754, 0.03239822760224342, 0.05255146324634552, 0.046223171055316925]]\n",
            "Epoch: 2 Batch: 529, [Discriminator_A :: Loss: 0.4797351188608445], [ Generator :: Loss: [0.7701438665390015, 0.0013543297536671162, 0.0, 0.03016122803092003, 0.03629396855831146, 0.04891376569867134, 0.05532381683588028]]\n",
            "Epoch: 2 Batch: 530, [Discriminator_A :: Loss: 0.013715944369323552], [ Generator :: Loss: [2.4736196994781494, 0.6901842951774597, 1.0, 0.03390217572450638, 0.03457160294055939, 0.04830934479832649, 0.05038834735751152]]\n",
            "Epoch: 2 Batch: 531, [Discriminator_A :: Loss: 0.4243407698813826], [ Generator :: Loss: [0.7447967529296875, 0.0026460245717316866, 0.0, 0.020396491512656212, 0.04471958056092262, 0.03629196807742119, 0.05469804257154465]]\n",
            "Epoch: 2 Batch: 532, [Discriminator_A :: Loss: 0.457930004078662], [ Generator :: Loss: [0.5285772681236267, 0.0004422086349222809, 0.0, 0.01780950278043747, 0.02837281860411167, 0.024066967889666557, 0.04224489629268646]]\n",
            "Epoch: 2 Batch: 533, [Discriminator_A :: Loss: 0.4698863039375283], [ Generator :: Loss: [0.8246256113052368, 0.0015765137504786253, 0.0, 0.035881876945495605, 0.035232506692409515, 0.05946806073188782, 0.0524371899664402]]\n",
            "Epoch: 2 Batch: 534, [Discriminator_A :: Loss: 0.3136331809218973], [ Generator :: Loss: [0.7741965055465698, 0.0005494365468621254, 0.0, 0.029724005609750748, 0.03738446161150932, 0.045771755278110504, 0.05679067596793175]]\n",
            "Epoch: 2 Batch: 535, [Discriminator_A :: Loss: 0.4899818598496495], [ Generator :: Loss: [0.6034983396530151, 0.0005496768862940371, 0.0, 0.0175470020622015, 0.03379908576607704, 0.040300995111465454, 0.04918678104877472]]\n",
            "Epoch: 2 Batch: 536, [Discriminator_A :: Loss: 0.023428733344189823], [ Generator :: Loss: [0.7613218426704407, 0.005994714330881834, 0.0, 0.035576436668634415, 0.02936720848083496, 0.05738078057765961, 0.04850992187857628]]\n",
            "Epoch: 2 Batch: 537, [Discriminator_A :: Loss: 0.10583045645034872], [ Generator :: Loss: [0.6019176244735718, 0.0012743044644594193, 0.0, 0.02713572233915329, 0.02464129403233528, 0.04084452986717224, 0.04202861338853836]]\n",
            "Epoch: 2 Batch: 538, [Discriminator_A :: Loss: 0.008040386717766523], [ Generator :: Loss: [1.0396860837936401, 0.0006583457579836249, 0.0, 0.057535987347364426, 0.03575434908270836, 0.054670535027980804, 0.0514538437128067]]\n",
            "Epoch: 2 Batch: 539, [Discriminator_A :: Loss: 0.41377841390203685], [ Generator :: Loss: [0.6054461598396301, 0.0006887592608109117, 0.0, 0.023928405717015266, 0.0295308418571949, 0.026289574801921844, 0.043875351548194885]]\n",
            "Epoch: 2 Batch: 540, [Discriminator_A :: Loss: 0.45467893360182643], [ Generator :: Loss: [1.0261653661727905, 0.002570708515122533, 0.0, 0.0565350241959095, 0.03469901159405708, 0.06274783611297607, 0.04850642755627632]]\n",
            "Epoch: 2 Batch: 541, [Discriminator_A :: Loss: 0.25557335176563356], [ Generator :: Loss: [0.9189841747283936, 0.00029841449577361345, 0.0, 0.04728710651397705, 0.03387405350804329, 0.058765605092048645, 0.04830857366323471]]\n",
            "Epoch: 2 Batch: 542, [Discriminator_A :: Loss: 0.26386359659954906], [ Generator :: Loss: [0.7776992917060852, 0.008697248063981533, 0.0, 0.037981316447257996, 0.028696749359369278, 0.06113417074084282, 0.04108721762895584]]\n",
            "Epoch: 2 Batch: 543, [Discriminator_A :: Loss: 0.0013058927543170284], [ Generator :: Loss: [0.9796715378761292, 0.0007130533922463655, 0.0, 0.04203303903341293, 0.04195133596658707, 0.07526500523090363, 0.06384972482919693]]\n",
            "Epoch: 2 Batch: 544, [Discriminator_A :: Loss: 0.0005708071184926666], [ Generator :: Loss: [0.7691102027893066, 0.0012084398185834289, 0.0, 0.032624680548906326, 0.03333572670817375, 0.05729129537940025, 0.05100636929273605]]\n",
            "Epoch: 2 Batch: 545, [Discriminator_A :: Loss: 0.14407977554947138], [ Generator :: Loss: [2.6549735069274902, 0.8490237593650818, 1.0, 0.03761933743953705, 0.031405363231897354, 0.06445431709289551, 0.05124855414032936]]\n",
            "Epoch: 2 Batch: 546, [Discriminator_A :: Loss: 0.0005232326511759311], [ Generator :: Loss: [2.807366371154785, 0.7747365832328796, 1.0, 0.042746998369693756, 0.04638701304793358, 0.08863355219364166, 0.05265622213482857]]\n",
            "Epoch: 2 Batch: 547, [Discriminator_A :: Loss: 0.058318095820141025], [ Generator :: Loss: [0.8075536489486694, 0.0015642785001546144, 0.0, 0.03329688683152199, 0.03636176139116287, 0.05069762095808983, 0.058705270290374756]]\n",
            "Epoch: 2 Batch: 548, [Discriminator_A :: Loss: 0.0006684708059765399], [ Generator :: Loss: [0.8513964414596558, 0.0005912684719078243, 0.0, 0.03818759694695473, 0.035681210458278656, 0.07587343454360962, 0.036243658512830734]]\n",
            "Epoch: 2 Batch: 549, [Discriminator_A :: Loss: 0.11542812269181013], [ Generator :: Loss: [1.0453441143035889, 0.027780665084719658, 0.0, 0.057042717933654785, 0.03150920197367668, 0.09191227704286575, 0.04013198986649513]]\n",
            "Epoch: 2 Batch: 550, [Discriminator_A :: Loss: 0.0021685851097572595], [ Generator :: Loss: [0.76901775598526, 0.0005418873624876142, 0.0, 0.03572910651564598, 0.03133772686123848, 0.05403652414679527, 0.043771013617515564]]\n",
            "Epoch: 2 Batch: 551, [Discriminator_A :: Loss: 0.010720073478296399], [ Generator :: Loss: [2.710400342941284, 0.9184204339981079, 1.0, 0.04045768082141876, 0.02759915217757225, 0.06906932592391968, 0.04234219714999199]]\n",
            "Epoch: 2 Batch: 552, [Discriminator_A :: Loss: 0.010038744745543227], [ Generator :: Loss: [1.2090822458267212, 0.10075349360704422, 0.0, 0.0433199442923069, 0.05341828987002373, 0.06286962330341339, 0.07807676494121552]]\n",
            "Epoch: 2 Batch: 553, [Discriminator_A :: Loss: 0.038418420823290944], [ Generator :: Loss: [1.0016452074050903, 0.003278479678556323, 0.0, 0.04266040772199631, 0.04594859853386879, 0.058673325926065445, 0.053603313863277435]]\n",
            "Epoch: 2 Batch: 554, [Discriminator_A :: Loss: 8.314607657666784e-05], [ Generator :: Loss: [0.8281934857368469, 7.858398021198809e-05, 0.0, 0.042342398315668106, 0.028916198760271072, 0.07446141541004181, 0.041067518293857574]]\n",
            "Epoch: 2 Batch: 555, [Discriminator_A :: Loss: 0.0005179562904231716], [ Generator :: Loss: [1.048700213432312, 0.0007541977684013546, 0.0, 0.049971312284469604, 0.04307100921869278, 0.059343717992305756, 0.05817912518978119]]\n",
            "Epoch: 2 Batch: 556, [Discriminator_A :: Loss: 0.012645118054933846], [ Generator :: Loss: [2.80837345123291, 0.938583493232727, 1.0, 0.03772932291030884, 0.03798595443367958, 0.06319586932659149, 0.04944156855344772]]\n",
            "Epoch: 2 Batch: 557, [Discriminator_A :: Loss: 0.0020856469636783004], [ Generator :: Loss: [0.8864258527755737, 0.0008342713117599487, 0.0, 0.04164169728755951, 0.03661740571260452, 0.06140803173184395, 0.041592564433813095]]\n",
            "Epoch: 2 Batch: 558, [Discriminator_A :: Loss: 0.01658455118922575], [ Generator :: Loss: [0.9182183742523193, 0.042003318667411804, 0.0, 0.04520583897829056, 0.030497102066874504, 0.076743945479393, 0.04244169220328331]]\n",
            "Epoch: 2 Batch: 559, [Discriminator_A :: Loss: 0.16908608935773373], [ Generator :: Loss: [0.5975522994995117, 0.02897164784371853, 0.0, 0.025507166981697083, 0.02396930195391178, 0.04457397013902664, 0.029242029413580894]]\n",
            "Epoch: 2 Batch: 560, [Discriminator_A :: Loss: 0.19620746071450412], [ Generator :: Loss: [0.8498659729957581, 0.007417764980345964, 0.0, 0.03708238899707794, 0.03496108576655388, 0.07039006799459457, 0.051623374223709106]]\n",
            "Epoch: 2 Batch: 561, [Discriminator_A :: Loss: 0.4638286118861288], [ Generator :: Loss: [2.6833600997924805, 0.906263530254364, 1.0, 0.017235416918992996, 0.053893767297267914, 0.03293101489543915, 0.032873641699552536]]\n",
            "Epoch: 2 Batch: 562, [Discriminator_A :: Loss: 0.011602828337345272], [ Generator :: Loss: [0.8258479237556458, 0.0005629450897686183, 0.0, 0.03962460160255432, 0.03227879852056503, 0.06045433506369591, 0.04579663276672363]]\n",
            "Epoch: 2 Batch: 563, [Discriminator_A :: Loss: 0.3427540750708431], [ Generator :: Loss: [0.5941052436828613, 0.002113944385200739, 0.0, 0.02420724742114544, 0.026795541867613792, 0.039551179856061935, 0.042412228882312775]]\n",
            "Epoch: 2 Batch: 564, [Discriminator_A :: Loss: 0.20773436222225428], [ Generator :: Loss: [1.0716608762741089, 0.2735521197319031, 0.0, 0.03325347229838371, 0.03592706471681595, 0.062012724578380585, 0.044290684163570404]]\n",
            "Epoch: 2 Batch: 565, [Discriminator_A :: Loss: 0.2309879117674427], [ Generator :: Loss: [0.8400285840034485, 0.00045020360266789794, 0.0, 0.03689778968691826, 0.03675222769379616, 0.055338528007268906, 0.0477396696805954]]\n",
            "Epoch: 2 Batch: 566, [Discriminator_A :: Loss: 0.3423379202140495], [ Generator :: Loss: [2.754270553588867, 0.9037764072418213, 1.0, 0.03726719692349434, 0.036986976861953735, 0.058770257979631424, 0.0491819866001606]]\n",
            "Epoch: 2 Batch: 567, [Discriminator_A :: Loss: 0.0010290661302860826], [ Generator :: Loss: [0.8533716201782227, 0.0015548301162198186, 0.0, 0.04336840659379959, 0.02940945513546467, 0.08269131183624268, 0.04134683310985565]]\n",
            "Epoch: 2 Batch: 568, [Discriminator_A :: Loss: 0.024207803726312704], [ Generator :: Loss: [2.8139476776123047, 0.9793856739997864, 1.0, 0.035424504429101944, 0.039121370762586594, 0.03080626018345356, 0.05829707905650139]]\n",
            "Epoch: 2 Batch: 569, [Discriminator_A :: Loss: 0.0320446090772748], [ Generator :: Loss: [0.8132834434509277, 0.004484325181692839, 0.0, 0.03677389398217201, 0.03318019211292267, 0.058228250592947006, 0.0510299876332283]]\n",
            "Epoch: 2 Batch: 570, [Discriminator_A :: Loss: 0.5020498502999544], [ Generator :: Loss: [1.1363842487335205, 0.0009628941188566387, 0.0, 0.05467936396598816, 0.04664092883467674, 0.056893669068813324, 0.0653248131275177]]\n",
            "Epoch: 2 Batch: 571, [Discriminator_A :: Loss: 0.49234274204354733], [ Generator :: Loss: [0.7509004473686218, 0.0004762506578117609, 0.0, 0.03484145551919937, 0.031913306564092636, 0.04246107116341591, 0.040415503084659576]]\n",
            "Epoch: 2 Batch: 572, [Discriminator_A :: Loss: 0.00044633119250647724], [ Generator :: Loss: [0.947380542755127, 0.00014847367128822953, 0.0, 0.04863259196281433, 0.03231702372431755, 0.08912720531225204, 0.04860866069793701]]\n",
            "Epoch: 2 Batch: 573, [Discriminator_A :: Loss: 0.4637371698190691], [ Generator :: Loss: [2.7873520851135254, 0.9425429701805115, 1.0, 0.038737669587135315, 0.033770278096199036, 0.06837498396635056, 0.05135451629757881]]\n",
            "Epoch: 2 Batch: 574, [Discriminator_A :: Loss: 0.4323268177686259], [ Generator :: Loss: [0.8346236944198608, 0.00020344943914096802, 0.0, 0.03774203360080719, 0.03525272384285927, 0.053240738809108734, 0.05123192071914673]]\n",
            "Epoch: 2 Batch: 575, [Discriminator_A :: Loss: 0.0060441920650191605], [ Generator :: Loss: [0.8653815984725952, 0.0004148473381064832, 0.0, 0.047430913895368576, 0.02719680219888687, 0.07644838839769363, 0.04224122315645218]]\n",
            "Epoch: 2 Batch: 576, [Discriminator_A :: Loss: 0.13040674850344658], [ Generator :: Loss: [2.65561580657959, 0.8480353951454163, 1.0, 0.03694384545087814, 0.033330075442790985, 0.0552530400454998, 0.049588173627853394]]\n",
            "Epoch: 2 Batch: 577, [Discriminator_A :: Loss: 0.1006090585142374], [ Generator :: Loss: [2.5539870262145996, 0.8157809376716614, 1.0, 0.03821150213479996, 0.024558857083320618, 0.06915560364723206, 0.041346751153469086]]\n",
            "Epoch: 2 Batch: 578, [Discriminator_A :: Loss: 0.00860907044261694], [ Generator :: Loss: [2.6981873512268066, 0.8978311419487, 1.0, 0.03530799597501755, 0.03338268771767616, 0.05763115733861923, 0.0558180958032608]]\n",
            "Epoch: 2 Batch: 579, [Discriminator_A :: Loss: 0.0007404300667985808], [ Generator :: Loss: [0.9495158195495605, 0.0017884518019855022, 0.0, 0.051725391298532486, 0.03407885879278183, 0.0435141921043396, 0.04617062956094742]]\n",
            "Epoch: 2 Batch: 580, [Discriminator_A :: Loss: 0.340266328654252], [ Generator :: Loss: [0.8120449781417847, 0.0012330174213275313, 0.0, 0.03309428691864014, 0.03731236979365349, 0.05079119652509689, 0.055954232811927795]]\n",
            "Epoch: 2 Batch: 581, [Discriminator_A :: Loss: 0.2702975762076676], [ Generator :: Loss: [0.734368085861206, 0.0013136473717167974, 0.0, 0.028519541025161743, 0.0349828377366066, 0.0457877553999424, 0.05224287137389183]]\n",
            "Epoch: 2 Batch: 582, [Discriminator_A :: Loss: 0.0006687201566819567], [ Generator :: Loss: [1.0597516298294067, 0.026878204196691513, 0.0, 0.050948090851306915, 0.03737390413880348, 0.08797045052051544, 0.061683036386966705]]\n",
            "Epoch: 2 Batch: 583, [Discriminator_A :: Loss: 0.015005244640633464], [ Generator :: Loss: [0.889928936958313, 0.001320517505519092, 0.0, 0.042963799089193344, 0.034520458430051804, 0.05450378730893135, 0.05926206707954407]]\n",
            "Epoch: 2 Batch: 584, [Discriminator_A :: Loss: 0.4255867058636795], [ Generator :: Loss: [0.8516149520874023, 6.722419493598863e-05, 0.0, 0.04768386110663414, 0.026214376091957092, 0.07356815040111542, 0.038997236639261246]]\n",
            "Epoch: 2 Batch: 585, [Discriminator_A :: Loss: 0.08912341855466366], [ Generator :: Loss: [0.7390193343162537, 0.0018937027780339122, 0.0, 0.029519563540816307, 0.03343164548277855, 0.05520757660269737, 0.052405960857868195]]\n",
            "Epoch: 2 Batch: 586, [Discriminator_A :: Loss: 0.13084791786968708], [ Generator :: Loss: [0.8268287777900696, 0.005470735020935535, 0.0, 0.0400264598429203, 0.03129510208964348, 0.05355818197131157, 0.05458424985408783]]\n",
            "Epoch: 2 Batch: 587, [Discriminator_A :: Loss: 0.15869857161305845], [ Generator :: Loss: [0.826369047164917, 0.0006912047974765301, 0.0, 0.0427747443318367, 0.028872594237327576, 0.058956872671842575, 0.050247594714164734]]\n",
            "Epoch: 2 Batch: 588, [Discriminator_A :: Loss: 0.0022740676067769527], [ Generator :: Loss: [0.8116719722747803, 0.0007806922076269984, 0.0, 0.0375606045126915, 0.033289726823568344, 0.06018512323498726, 0.042202819138765335]]\n",
            "Epoch: 2 Batch: 589, [Discriminator_A :: Loss: 0.3993318236898631], [ Generator :: Loss: [0.9115805625915527, 0.0017808122793212533, 0.0, 0.04536764323711395, 0.03378170356154442, 0.07665254175662994, 0.04165377840399742]]\n"
          ]
        }
      ]
    }
  ]
}